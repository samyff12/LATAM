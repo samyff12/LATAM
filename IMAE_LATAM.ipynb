{
  "nbformat": 4,
  "nbformat_minor": 0,
  "metadata": {
    "colab": {
      "name": "IMAE LATAM.ipynb",
      "provenance": [],
      "collapsed_sections": [
        "pdxAyDPTJJzP",
        "mng9xQCphxaK",
        "USJ5m_3XS6ji",
        "YlZNkOc6pfVo",
        "MkoUi_tal0ST",
        "A2MSTFg45f_H",
        "rSOwOPisI0mw"
      ],
      "authorship_tag": "ABX9TyMmBNAZaCm4JuX+bAujedVa",
      "include_colab_link": true
    },
    "kernelspec": {
      "name": "python3",
      "display_name": "Python 3"
    },
    "language_info": {
      "name": "python"
    }
  },
  "cells": [
    {
      "cell_type": "markdown",
      "metadata": {
        "id": "view-in-github",
        "colab_type": "text"
      },
      "source": [
        "<a href=\"https://colab.research.google.com/github/samyff12/LATAM/blob/main/IMAE_LATAM.ipynb\" target=\"_parent\"><img src=\"https://colab.research.google.com/assets/colab-badge.svg\" alt=\"Open In Colab\"/></a>"
      ]
    },
    {
      "cell_type": "markdown",
      "metadata": {
        "id": "uwghX9WnmOhH"
      },
      "source": [
        "# **Actualizacion IMAE LATAM**"
      ]
    },
    {
      "cell_type": "markdown",
      "metadata": {
        "id": "zMFcgIBOnFpc"
      },
      "source": [
        "### Paquetes y meses"
      ]
    },
    {
      "cell_type": "code",
      "metadata": {
        "id": "yLpBS1jxRJUa",
        "colab": {
          "base_uri": "https://localhost:8080/",
          "height": 0
        },
        "outputId": "ee907800-682f-4ee0-d630-d5b8158a6ba9"
      },
      "source": [
        "from bs4 import BeautifulSoup\n",
        "import pandas as pd\n",
        "import numpy as np\n",
        "import requests\n",
        "import urllib.request as urllib2\n",
        "import re\n",
        "import matplotlib.pyplot as plt\n",
        "import seaborn as sns\n",
        "import zipfile\n",
        "!pip install XlsxWriter\n",
        "from google.colab import files\n",
        "\n",
        "# Selenium\n",
        "!pip install selenium\n",
        "!apt-get update \n",
        "!apt install chromium-chromedriver\n",
        "!pip install kora -q\n",
        "from kora.selenium import wd\n",
        "from selenium.webdriver.common.keys import Keys\n",
        "from selenium.webdriver.common.by import By\n",
        "\n",
        "\n",
        "# En caso de contar con archivos en formato pdf: \n",
        "# !pip install pymupdf            \n",
        "# !pip install tabula-py\n",
        "# import tabula as tb\n",
        "# import fitz  # this is pymupdf"
      ],
      "execution_count": 1,
      "outputs": [
        {
          "output_type": "stream",
          "name": "stdout",
          "text": [
            "Collecting XlsxWriter\n",
            "  Downloading XlsxWriter-3.0.2-py3-none-any.whl (149 kB)\n",
            "\u001b[?25l\r\u001b[K     |██▏                             | 10 kB 20.1 MB/s eta 0:00:01\r\u001b[K     |████▍                           | 20 kB 24.2 MB/s eta 0:00:01\r\u001b[K     |██████▋                         | 30 kB 14.3 MB/s eta 0:00:01\r\u001b[K     |████████▊                       | 40 kB 10.2 MB/s eta 0:00:01\r\u001b[K     |███████████                     | 51 kB 5.6 MB/s eta 0:00:01\r\u001b[K     |█████████████▏                  | 61 kB 5.9 MB/s eta 0:00:01\r\u001b[K     |███████████████▎                | 71 kB 5.0 MB/s eta 0:00:01\r\u001b[K     |█████████████████▌              | 81 kB 5.6 MB/s eta 0:00:01\r\u001b[K     |███████████████████▊            | 92 kB 5.6 MB/s eta 0:00:01\r\u001b[K     |█████████████████████▉          | 102 kB 5.2 MB/s eta 0:00:01\r\u001b[K     |████████████████████████        | 112 kB 5.2 MB/s eta 0:00:01\r\u001b[K     |██████████████████████████▎     | 122 kB 5.2 MB/s eta 0:00:01\r\u001b[K     |████████████████████████████▍   | 133 kB 5.2 MB/s eta 0:00:01\r\u001b[K     |██████████████████████████████▋ | 143 kB 5.2 MB/s eta 0:00:01\r\u001b[K     |████████████████████████████████| 149 kB 5.2 MB/s \n",
            "\u001b[?25hInstalling collected packages: XlsxWriter\n",
            "Successfully installed XlsxWriter-3.0.2\n",
            "Collecting selenium\n",
            "  Downloading selenium-4.1.0-py3-none-any.whl (958 kB)\n",
            "\u001b[K     |████████████████████████████████| 958 kB 5.3 MB/s \n",
            "\u001b[?25hCollecting urllib3[secure]~=1.26\n",
            "  Downloading urllib3-1.26.7-py2.py3-none-any.whl (138 kB)\n",
            "\u001b[K     |████████████████████████████████| 138 kB 49.4 MB/s \n",
            "\u001b[?25hCollecting trio~=0.17\n",
            "  Downloading trio-0.19.0-py3-none-any.whl (356 kB)\n",
            "\u001b[K     |████████████████████████████████| 356 kB 57.6 MB/s \n",
            "\u001b[?25hCollecting trio-websocket~=0.9\n",
            "  Downloading trio_websocket-0.9.2-py3-none-any.whl (16 kB)\n",
            "Collecting async-generator>=1.9\n",
            "  Downloading async_generator-1.10-py3-none-any.whl (18 kB)\n",
            "Collecting outcome\n",
            "  Downloading outcome-1.1.0-py2.py3-none-any.whl (9.7 kB)\n",
            "Requirement already satisfied: sortedcontainers in /usr/local/lib/python3.7/dist-packages (from trio~=0.17->selenium) (2.4.0)\n",
            "Collecting sniffio\n",
            "  Downloading sniffio-1.2.0-py3-none-any.whl (10 kB)\n",
            "Requirement already satisfied: idna in /usr/local/lib/python3.7/dist-packages (from trio~=0.17->selenium) (2.10)\n",
            "Requirement already satisfied: attrs>=19.2.0 in /usr/local/lib/python3.7/dist-packages (from trio~=0.17->selenium) (21.2.0)\n",
            "Collecting wsproto>=0.14\n",
            "  Downloading wsproto-1.0.0-py3-none-any.whl (24 kB)\n",
            "Collecting pyOpenSSL>=0.14\n",
            "  Downloading pyOpenSSL-21.0.0-py2.py3-none-any.whl (55 kB)\n",
            "\u001b[K     |████████████████████████████████| 55 kB 3.4 MB/s \n",
            "\u001b[?25hCollecting cryptography>=1.3.4\n",
            "  Downloading cryptography-36.0.0-cp36-abi3-manylinux_2_24_x86_64.whl (3.6 MB)\n",
            "\u001b[K     |████████████████████████████████| 3.6 MB 38.6 MB/s \n",
            "\u001b[?25hRequirement already satisfied: certifi in /usr/local/lib/python3.7/dist-packages (from urllib3[secure]~=1.26->selenium) (2021.10.8)\n",
            "Requirement already satisfied: cffi>=1.12 in /usr/local/lib/python3.7/dist-packages (from cryptography>=1.3.4->urllib3[secure]~=1.26->selenium) (1.15.0)\n",
            "Requirement already satisfied: pycparser in /usr/local/lib/python3.7/dist-packages (from cffi>=1.12->cryptography>=1.3.4->urllib3[secure]~=1.26->selenium) (2.21)\n",
            "Requirement already satisfied: six>=1.5.2 in /usr/local/lib/python3.7/dist-packages (from pyOpenSSL>=0.14->urllib3[secure]~=1.26->selenium) (1.15.0)\n",
            "Collecting h11<1,>=0.9.0\n",
            "  Downloading h11-0.12.0-py3-none-any.whl (54 kB)\n",
            "\u001b[K     |████████████████████████████████| 54 kB 3.3 MB/s \n",
            "\u001b[?25hInstalling collected packages: sniffio, outcome, h11, cryptography, async-generator, wsproto, urllib3, trio, pyOpenSSL, trio-websocket, selenium\n",
            "  Attempting uninstall: urllib3\n",
            "    Found existing installation: urllib3 1.24.3\n",
            "    Uninstalling urllib3-1.24.3:\n",
            "      Successfully uninstalled urllib3-1.24.3\n",
            "\u001b[31mERROR: pip's dependency resolver does not currently take into account all the packages that are installed. This behaviour is the source of the following dependency conflicts.\n",
            "requests 2.23.0 requires urllib3!=1.25.0,!=1.25.1,<1.26,>=1.21.1, but you have urllib3 1.26.7 which is incompatible.\n",
            "datascience 0.10.6 requires folium==0.2.1, but you have folium 0.8.3 which is incompatible.\u001b[0m\n",
            "Successfully installed async-generator-1.10 cryptography-36.0.0 h11-0.12.0 outcome-1.1.0 pyOpenSSL-21.0.0 selenium-4.1.0 sniffio-1.2.0 trio-0.19.0 trio-websocket-0.9.2 urllib3-1.26.7 wsproto-1.0.0\n"
          ]
        },
        {
          "output_type": "display_data",
          "data": {
            "application/vnd.colab-display-data+json": {
              "pip_warning": {
                "packages": [
                  "urllib3"
                ]
              }
            }
          },
          "metadata": {}
        },
        {
          "output_type": "stream",
          "name": "stdout",
          "text": [
            "\r0% [Working]\r            \rGet:1 https://cloud.r-project.org/bin/linux/ubuntu bionic-cran40/ InRelease [3,626 B]\n",
            "\r0% [Waiting for headers] [Waiting for headers] [1 InRelease 0 B/3,626 B 0%] [Wa\r0% [Waiting for headers] [Waiting for headers] [Waiting for headers] [Waiting f\r                                                                               \rIgn:2 https://developer.download.nvidia.com/compute/cuda/repos/ubuntu1804/x86_64  InRelease\n",
            "\r0% [Waiting for headers] [Waiting for headers] [Waiting for headers] [Waiting f\r0% [1 InRelease gpgv 3,626 B] [Waiting for headers] [Waiting for headers] [Wait\r                                                                               \rHit:3 http://archive.ubuntu.com/ubuntu bionic InRelease\n",
            "\r                                                                               \rGet:4 http://security.ubuntu.com/ubuntu bionic-security InRelease [88.7 kB]\n",
            "\r                                                                               \rGet:5 http://ppa.launchpad.net/c2d4u.team/c2d4u4.0+/ubuntu bionic InRelease [15.9 kB]\n",
            "\r0% [1 InRelease gpgv 3,626 B] [Waiting for headers] [4 InRelease 14.2 kB/88.7 k\r                                                                               \rIgn:6 https://developer.download.nvidia.com/compute/machine-learning/repos/ubuntu1804/x86_64  InRelease\n",
            "\r0% [1 InRelease gpgv 3,626 B] [Waiting for headers] [4 InRelease 14.2 kB/88.7 k\r                                                                               \rHit:7 https://developer.download.nvidia.com/compute/cuda/repos/ubuntu1804/x86_64  Release\n",
            "Hit:8 https://developer.download.nvidia.com/compute/machine-learning/repos/ubuntu1804/x86_64  Release\n",
            "Get:9 http://archive.ubuntu.com/ubuntu bionic-updates InRelease [88.7 kB]\n",
            "Hit:10 http://ppa.launchpad.net/cran/libgit2/ubuntu bionic InRelease\n",
            "Get:11 http://archive.ubuntu.com/ubuntu bionic-backports InRelease [74.6 kB]\n",
            "Get:12 http://ppa.launchpad.net/deadsnakes/ppa/ubuntu bionic InRelease [15.9 kB]\n",
            "Hit:14 http://ppa.launchpad.net/graphics-drivers/ppa/ubuntu bionic InRelease\n",
            "Get:16 http://ppa.launchpad.net/c2d4u.team/c2d4u4.0+/ubuntu bionic/main Sources [1,819 kB]\n",
            "Get:17 http://security.ubuntu.com/ubuntu bionic-security/restricted amd64 Packages [691 kB]\n",
            "Get:18 http://security.ubuntu.com/ubuntu bionic-security/main amd64 Packages [2,461 kB]\n",
            "Get:19 http://archive.ubuntu.com/ubuntu bionic-updates/main amd64 Packages [2,898 kB]\n",
            "Get:20 http://security.ubuntu.com/ubuntu bionic-security/universe amd64 Packages [1,446 kB]\n",
            "Get:21 http://ppa.launchpad.net/c2d4u.team/c2d4u4.0+/ubuntu bionic/main amd64 Packages [933 kB]\n",
            "Get:22 http://archive.ubuntu.com/ubuntu bionic-updates/universe amd64 Packages [2,228 kB]\n",
            "Get:23 http://ppa.launchpad.net/deadsnakes/ppa/ubuntu bionic/main amd64 Packages [45.9 kB]\n",
            "Fetched 12.8 MB in 4s (3,654 kB/s)\n",
            "Reading package lists... Done\n",
            "Reading package lists... Done\n",
            "Building dependency tree       \n",
            "Reading state information... Done\n",
            "The following additional packages will be installed:\n",
            "  chromium-browser chromium-browser-l10n chromium-codecs-ffmpeg-extra\n",
            "Suggested packages:\n",
            "  webaccounts-chromium-extension unity-chromium-extension\n",
            "The following NEW packages will be installed:\n",
            "  chromium-browser chromium-browser-l10n chromium-chromedriver\n",
            "  chromium-codecs-ffmpeg-extra\n",
            "0 upgraded, 4 newly installed, 0 to remove and 57 not upgraded.\n",
            "Need to get 94.0 MB of archives.\n",
            "After this operation, 324 MB of additional disk space will be used.\n",
            "Get:1 http://archive.ubuntu.com/ubuntu bionic-updates/universe amd64 chromium-codecs-ffmpeg-extra amd64 95.0.4638.69-0ubuntu0.18.04.1 [1,135 kB]\n",
            "Get:2 http://archive.ubuntu.com/ubuntu bionic-updates/universe amd64 chromium-browser amd64 95.0.4638.69-0ubuntu0.18.04.1 [83.6 MB]\n",
            "Get:3 http://archive.ubuntu.com/ubuntu bionic-updates/universe amd64 chromium-browser-l10n all 95.0.4638.69-0ubuntu0.18.04.1 [4,249 kB]\n",
            "Get:4 http://archive.ubuntu.com/ubuntu bionic-updates/universe amd64 chromium-chromedriver amd64 95.0.4638.69-0ubuntu0.18.04.1 [4,986 kB]\n",
            "Fetched 94.0 MB in 4s (23.2 MB/s)\n",
            "Selecting previously unselected package chromium-codecs-ffmpeg-extra.\n",
            "(Reading database ... 155222 files and directories currently installed.)\n",
            "Preparing to unpack .../chromium-codecs-ffmpeg-extra_95.0.4638.69-0ubuntu0.18.04.1_amd64.deb ...\n",
            "Unpacking chromium-codecs-ffmpeg-extra (95.0.4638.69-0ubuntu0.18.04.1) ...\n",
            "Selecting previously unselected package chromium-browser.\n",
            "Preparing to unpack .../chromium-browser_95.0.4638.69-0ubuntu0.18.04.1_amd64.deb ...\n",
            "Unpacking chromium-browser (95.0.4638.69-0ubuntu0.18.04.1) ...\n",
            "Selecting previously unselected package chromium-browser-l10n.\n",
            "Preparing to unpack .../chromium-browser-l10n_95.0.4638.69-0ubuntu0.18.04.1_all.deb ...\n",
            "Unpacking chromium-browser-l10n (95.0.4638.69-0ubuntu0.18.04.1) ...\n",
            "Selecting previously unselected package chromium-chromedriver.\n",
            "Preparing to unpack .../chromium-chromedriver_95.0.4638.69-0ubuntu0.18.04.1_amd64.deb ...\n",
            "Unpacking chromium-chromedriver (95.0.4638.69-0ubuntu0.18.04.1) ...\n",
            "Setting up chromium-codecs-ffmpeg-extra (95.0.4638.69-0ubuntu0.18.04.1) ...\n",
            "Setting up chromium-browser (95.0.4638.69-0ubuntu0.18.04.1) ...\n",
            "update-alternatives: using /usr/bin/chromium-browser to provide /usr/bin/x-www-browser (x-www-browser) in auto mode\n",
            "update-alternatives: using /usr/bin/chromium-browser to provide /usr/bin/gnome-www-browser (gnome-www-browser) in auto mode\n",
            "Setting up chromium-chromedriver (95.0.4638.69-0ubuntu0.18.04.1) ...\n",
            "Setting up chromium-browser-l10n (95.0.4638.69-0ubuntu0.18.04.1) ...\n",
            "Processing triggers for man-db (2.8.3-2ubuntu0.1) ...\n",
            "Processing triggers for hicolor-icon-theme (0.17-2) ...\n",
            "Processing triggers for mime-support (3.60ubuntu1) ...\n",
            "Processing triggers for libc-bin (2.27-3ubuntu1.3) ...\n",
            "/sbin/ldconfig.real: /usr/local/lib/python3.7/dist-packages/ideep4py/lib/libmkldnn.so.0 is not a symbolic link\n",
            "\n",
            "\u001b[K     |████████████████████████████████| 57 kB 2.8 MB/s \n",
            "\u001b[K     |████████████████████████████████| 56 kB 4.6 MB/s \n",
            "\u001b[?25h"
          ]
        }
      ]
    },
    {
      "cell_type": "code",
      "metadata": {
        "id": "7NNHXzvKYJ2D"
      },
      "source": [
        "##html = requests.get('http://www.secmca.org/chart/?parent=Producci%C3%B3n&scid=2&cid=1&scsid=0&son=%C3%8Dndice%20Mensual%20de%20la%20Actividad%20Econ%C3%B3mica&url=11/14/3-13-50-17-4-52-161/39/265/19-258/444/' +\n",
        " #                   '20211-20212-20213-20214-20215-20216-20217-20218-20219-202110-202111-202112-20221-20222-20223-20224-20225-20226-20227-20228-20229-202210-202211-202212' +\n",
        " #                   '-&all_vars=2|IMAE,%20variaci%C3%B3n%20interanual')\n",
        "#soup = BeautifulSoup(html.text,'lxml')\n",
        "#table = soup.find_all('p', class_='text-right')\n",
        "#tablec = soup.find_all('th', colspan='1')\n",
        "\n",
        "#indicadores=[]\n",
        "#paises =[]\n",
        "#for i in range(len(table)):\n",
        " # ind = float(table[i].text)\n",
        "#  pais = tablec[i].text\n",
        "#  indicadores.append(ind)\n",
        " # paises.append(pais)\n",
        "\n",
        "#imae_latam =  pd.DataFrame(indicadores,index = paises,columns = ['IMAE'])\n",
        "#print(f'IMAE a {fecha}')\n",
        "#imae_latam"
      ],
      "execution_count": 2,
      "outputs": []
    },
    {
      "cell_type": "code",
      "metadata": {
        "id": "Uz9LSti34_nA"
      },
      "source": [
        "meses = [0,[1,'Enero'],[2,'Febrero'],[3,'Marzo'],[4,'Abril'],[5,'Mayo'],[6,'Junio'],[7,'Julio'],[8,'Agosto'],\n",
        "         [9,'Septiembre'],[10,'Octubre'],[11,'Noviembre'],[12,'Diciembre']]\n",
        "mes3 = {'ene':'Enero','feb':'Febrero','mar':'Marzo','abr':'Abril','may':'Mayo','jun':'Junio','jul':'Julio',\n",
        "        'ago':'Agosto','sep':'Septiembre','oct':'Octubre','nov':'Noviembre','dic':'Diciembre'}\n",
        "meses_dict = {0:'none',1:'Enero',2:'Febrero',3:'Marzo',4:'Abril',5:'Mayo',6:'Junio',7:'Julio',8:'Agosto',\n",
        "         9:'Septiembre',10:'Octubre',11:'Noviembre',12:'Diciembre'}\n",
        "### import calendar\n",
        "\n",
        "# d = dict((v,k) for k,v in enumerate(calendar.month_abbr))\n",
        "# d"
      ],
      "execution_count": 3,
      "outputs": []
    },
    {
      "cell_type": "markdown",
      "metadata": {
        "id": "982BPh5jk93l"
      },
      "source": [
        "## Para obtener las series de todo el año 2021-2022\n"
      ]
    },
    {
      "cell_type": "markdown",
      "metadata": {
        "id": "pdxAyDPTJJzP"
      },
      "source": [
        "### **SECMCA**"
      ]
    },
    {
      "cell_type": "markdown",
      "metadata": {
        "id": "zyl75FG7ZOym"
      },
      "source": [
        "#### Publicaciones disponibles las fechas: \n",
        "\n",
        "#####    **El Salvador**\n",
        "2. 29 Oct\n",
        "3. 30 Nov\n",
        "4. 23 Dic\n",
        "5. 31 Ene\n",
        "\n",
        "#####    **Panama**\n",
        "3. 22 Nov\n",
        "4. 21 Dic\n",
        "\n",
        "\n",
        "#####    **Honduras**\n",
        "-. Preliminar 20 de cada mes, con 50 días de rezago y\n",
        "revisado 30 días después"
      ]
    },
    {
      "cell_type": "code",
      "metadata": {
        "colab": {
          "base_uri": "https://localhost:8080/",
          "height": 0
        },
        "id": "DKeFlSnZ9utv",
        "outputId": "5a596087-7dba-4ac0-ede3-749d48623d44"
      },
      "source": [
        "# INDICE VERSION\n",
        "html1 = requests.get('http://www.secmca.org/chart/?parent=Producci%C3%B3n&scid=2&cid=1&scsid=0&son=%C3%8Dndice%20Mensual%20de%20la%20Actividad%20Econ%C3%B3mica&url=11/14/3-13-50-17-4-52-161/39/265/19-258/81/' +\n",
        "  '20201-20202-20203-20204-20205-20206-20207-20208-20209-202010-202011-202012-20211-20212-20213-20214-20215-20216-20217-20218-20219-202110-202111-202112-20221-20222-20223-20224-20225-20226-20227-20228-20229-202210-202211-202212' +\n",
        "  '-&all_vars=1|IMAE').text\n",
        "soup1 = BeautifulSoup(html1,'html.parser')\n",
        "\n",
        "tabpais = soup1.find_all('th', colspan='1')\n",
        "table = soup1.find_all('p', class_='text-left')\n",
        "fechas = []\n",
        "for i in range(len(table)):\n",
        "  x = re.sub(\" \",\"\",table[i].text)\n",
        "  fechas.append(x.replace(\"\\n\",\"\").replace('Setiembre','Septiembre'))\n",
        "\n",
        "paises = [tabpais[i].text for i in range(len(tabpais))]\n",
        "fechas[-1]"
      ],
      "execution_count": 4,
      "outputs": [
        {
          "output_type": "execute_result",
          "data": {
            "application/vnd.google.colaboratory.intrinsic+json": {
              "type": "string"
            },
            "text/plain": [
              "'2021-Octubre'"
            ]
          },
          "metadata": {},
          "execution_count": 4
        }
      ]
    },
    {
      "cell_type": "code",
      "metadata": {
        "colab": {
          "base_uri": "https://localhost:8080/",
          "height": 0
        },
        "id": "jH_Esksz-nsh",
        "outputId": "561428cd-4cbf-4049-8be2-59b0f35c9036"
      },
      "source": [
        "#INDICE\n",
        "table1 = soup1.find_all('p', class_='text-right')\n",
        "matriz = np.array([])\n",
        "for i in table1:\n",
        "  matriz = np.array(np.append(matriz,i))\n",
        "matriz = np.where(matriz==\"--\", np.nan, matriz).astype(np.float)\n",
        "matriz = matriz.reshape(-1,7) # 7 paises\n",
        "imaeLA = pd.DataFrame(matriz,index=fechas,columns=paises)\n",
        "imaeLA"
      ],
      "execution_count": 5,
      "outputs": [
        {
          "output_type": "execute_result",
          "data": {
            "text/html": [
              "<div>\n",
              "<style scoped>\n",
              "    .dataframe tbody tr th:only-of-type {\n",
              "        vertical-align: middle;\n",
              "    }\n",
              "\n",
              "    .dataframe tbody tr th {\n",
              "        vertical-align: top;\n",
              "    }\n",
              "\n",
              "    .dataframe thead th {\n",
              "        text-align: right;\n",
              "    }\n",
              "</style>\n",
              "<table border=\"1\" class=\"dataframe\">\n",
              "  <thead>\n",
              "    <tr style=\"text-align: right;\">\n",
              "      <th></th>\n",
              "      <th>Costa Rica</th>\n",
              "      <th>El Salvador</th>\n",
              "      <th>Guatemala</th>\n",
              "      <th>Honduras</th>\n",
              "      <th>Nicaragua</th>\n",
              "      <th>República Dominicana</th>\n",
              "      <th>Panamá</th>\n",
              "    </tr>\n",
              "  </thead>\n",
              "  <tbody>\n",
              "    <tr>\n",
              "      <th>2020-Enero</th>\n",
              "      <td>104.13</td>\n",
              "      <td>110.91</td>\n",
              "      <td>127.40</td>\n",
              "      <td>243.14</td>\n",
              "      <td>152.88</td>\n",
              "      <td>179.04</td>\n",
              "      <td>345.73</td>\n",
              "    </tr>\n",
              "    <tr>\n",
              "      <th>2020-Febrero</th>\n",
              "      <td>105.17</td>\n",
              "      <td>109.93</td>\n",
              "      <td>125.54</td>\n",
              "      <td>242.59</td>\n",
              "      <td>144.12</td>\n",
              "      <td>183.24</td>\n",
              "      <td>338.73</td>\n",
              "    </tr>\n",
              "    <tr>\n",
              "      <th>2020-Marzo</th>\n",
              "      <td>103.55</td>\n",
              "      <td>105.58</td>\n",
              "      <td>121.36</td>\n",
              "      <td>218.14</td>\n",
              "      <td>140.05</td>\n",
              "      <td>165.67</td>\n",
              "      <td>364.78</td>\n",
              "    </tr>\n",
              "    <tr>\n",
              "      <th>2020-Abril</th>\n",
              "      <td>90.88</td>\n",
              "      <td>88.31</td>\n",
              "      <td>112.77</td>\n",
              "      <td>186.13</td>\n",
              "      <td>124.66</td>\n",
              "      <td>125.35</td>\n",
              "      <td>247.19</td>\n",
              "    </tr>\n",
              "    <tr>\n",
              "      <th>2020-Mayo</th>\n",
              "      <td>93.09</td>\n",
              "      <td>89.77</td>\n",
              "      <td>111.25</td>\n",
              "      <td>188.45</td>\n",
              "      <td>133.85</td>\n",
              "      <td>158.43</td>\n",
              "      <td>228.30</td>\n",
              "    </tr>\n",
              "    <tr>\n",
              "      <th>2020-Junio</th>\n",
              "      <td>97.03</td>\n",
              "      <td>97.05</td>\n",
              "      <td>111.06</td>\n",
              "      <td>208.19</td>\n",
              "      <td>128.82</td>\n",
              "      <td>160.89</td>\n",
              "      <td>243.01</td>\n",
              "    </tr>\n",
              "    <tr>\n",
              "      <th>2020-Julio</th>\n",
              "      <td>92.91</td>\n",
              "      <td>96.17</td>\n",
              "      <td>117.42</td>\n",
              "      <td>208.83</td>\n",
              "      <td>147.54</td>\n",
              "      <td>162.35</td>\n",
              "      <td>241.95</td>\n",
              "    </tr>\n",
              "    <tr>\n",
              "      <th>2020-Agosto</th>\n",
              "      <td>93.35</td>\n",
              "      <td>102.54</td>\n",
              "      <td>120.25</td>\n",
              "      <td>225.70</td>\n",
              "      <td>138.51</td>\n",
              "      <td>169.07</td>\n",
              "      <td>251.35</td>\n",
              "    </tr>\n",
              "    <tr>\n",
              "      <th>2020-Septiembre</th>\n",
              "      <td>97.99</td>\n",
              "      <td>106.35</td>\n",
              "      <td>121.45</td>\n",
              "      <td>230.41</td>\n",
              "      <td>140.01</td>\n",
              "      <td>163.68</td>\n",
              "      <td>268.97</td>\n",
              "    </tr>\n",
              "    <tr>\n",
              "      <th>2020-Octubre</th>\n",
              "      <td>102.09</td>\n",
              "      <td>106.56</td>\n",
              "      <td>125.72</td>\n",
              "      <td>249.68</td>\n",
              "      <td>148.50</td>\n",
              "      <td>175.09</td>\n",
              "      <td>312.12</td>\n",
              "    </tr>\n",
              "    <tr>\n",
              "      <th>2020-Noviembre</th>\n",
              "      <td>105.13</td>\n",
              "      <td>111.91</td>\n",
              "      <td>128.86</td>\n",
              "      <td>218.99</td>\n",
              "      <td>148.79</td>\n",
              "      <td>181.13</td>\n",
              "      <td>300.21</td>\n",
              "    </tr>\n",
              "    <tr>\n",
              "      <th>2020-Diciembre</th>\n",
              "      <td>110.97</td>\n",
              "      <td>122.31</td>\n",
              "      <td>136.24</td>\n",
              "      <td>257.91</td>\n",
              "      <td>167.23</td>\n",
              "      <td>192.02</td>\n",
              "      <td>316.10</td>\n",
              "    </tr>\n",
              "    <tr>\n",
              "      <th>2021-Enero</th>\n",
              "      <td>97.54</td>\n",
              "      <td>109.03</td>\n",
              "      <td>129.22</td>\n",
              "      <td>230.06</td>\n",
              "      <td>154.73</td>\n",
              "      <td>175.85</td>\n",
              "      <td>297.55</td>\n",
              "    </tr>\n",
              "    <tr>\n",
              "      <th>2021-Febrero</th>\n",
              "      <td>99.94</td>\n",
              "      <td>108.59</td>\n",
              "      <td>128.60</td>\n",
              "      <td>236.15</td>\n",
              "      <td>147.44</td>\n",
              "      <td>185.33</td>\n",
              "      <td>310.85</td>\n",
              "    </tr>\n",
              "    <tr>\n",
              "      <th>2021-Marzo</th>\n",
              "      <td>107.64</td>\n",
              "      <td>114.86</td>\n",
              "      <td>133.51</td>\n",
              "      <td>247.84</td>\n",
              "      <td>151.38</td>\n",
              "      <td>183.29</td>\n",
              "      <td>350.15</td>\n",
              "    </tr>\n",
              "    <tr>\n",
              "      <th>2021-Abril</th>\n",
              "      <td>102.45</td>\n",
              "      <td>110.85</td>\n",
              "      <td>129.97</td>\n",
              "      <td>234.59</td>\n",
              "      <td>144.24</td>\n",
              "      <td>184.45</td>\n",
              "      <td>313.41</td>\n",
              "    </tr>\n",
              "    <tr>\n",
              "      <th>2021-Mayo</th>\n",
              "      <td>105.50</td>\n",
              "      <td>114.56</td>\n",
              "      <td>129.29</td>\n",
              "      <td>242.40</td>\n",
              "      <td>156.13</td>\n",
              "      <td>192.04</td>\n",
              "      <td>322.65</td>\n",
              "    </tr>\n",
              "    <tr>\n",
              "      <th>2021-Junio</th>\n",
              "      <td>105.86</td>\n",
              "      <td>114.35</td>\n",
              "      <td>126.28</td>\n",
              "      <td>248.26</td>\n",
              "      <td>151.75</td>\n",
              "      <td>181.27</td>\n",
              "      <td>323.23</td>\n",
              "    </tr>\n",
              "    <tr>\n",
              "      <th>2021-Julio</th>\n",
              "      <td>108.22</td>\n",
              "      <td>109.75</td>\n",
              "      <td>130.95</td>\n",
              "      <td>241.80</td>\n",
              "      <td>160.41</td>\n",
              "      <td>181.92</td>\n",
              "      <td>349.96</td>\n",
              "    </tr>\n",
              "    <tr>\n",
              "      <th>2021-Agosto</th>\n",
              "      <td>105.56</td>\n",
              "      <td>112.04</td>\n",
              "      <td>130.12</td>\n",
              "      <td>256.38</td>\n",
              "      <td>151.80</td>\n",
              "      <td>188.78</td>\n",
              "      <td>322.86</td>\n",
              "    </tr>\n",
              "    <tr>\n",
              "      <th>2021-Septiembre</th>\n",
              "      <td>109.03</td>\n",
              "      <td>112.85</td>\n",
              "      <td>129.06</td>\n",
              "      <td>251.03</td>\n",
              "      <td>147.61</td>\n",
              "      <td>181.03</td>\n",
              "      <td>317.43</td>\n",
              "    </tr>\n",
              "    <tr>\n",
              "      <th>2021-Octubre</th>\n",
              "      <td>NaN</td>\n",
              "      <td>NaN</td>\n",
              "      <td>NaN</td>\n",
              "      <td>NaN</td>\n",
              "      <td>NaN</td>\n",
              "      <td>192.16</td>\n",
              "      <td>NaN</td>\n",
              "    </tr>\n",
              "  </tbody>\n",
              "</table>\n",
              "</div>"
            ],
            "text/plain": [
              "                 Costa Rica  El Salvador  ...  República Dominicana  Panamá\n",
              "2020-Enero           104.13       110.91  ...                179.04  345.73\n",
              "2020-Febrero         105.17       109.93  ...                183.24  338.73\n",
              "2020-Marzo           103.55       105.58  ...                165.67  364.78\n",
              "2020-Abril            90.88        88.31  ...                125.35  247.19\n",
              "2020-Mayo             93.09        89.77  ...                158.43  228.30\n",
              "2020-Junio            97.03        97.05  ...                160.89  243.01\n",
              "2020-Julio            92.91        96.17  ...                162.35  241.95\n",
              "2020-Agosto           93.35       102.54  ...                169.07  251.35\n",
              "2020-Septiembre       97.99       106.35  ...                163.68  268.97\n",
              "2020-Octubre         102.09       106.56  ...                175.09  312.12\n",
              "2020-Noviembre       105.13       111.91  ...                181.13  300.21\n",
              "2020-Diciembre       110.97       122.31  ...                192.02  316.10\n",
              "2021-Enero            97.54       109.03  ...                175.85  297.55\n",
              "2021-Febrero          99.94       108.59  ...                185.33  310.85\n",
              "2021-Marzo           107.64       114.86  ...                183.29  350.15\n",
              "2021-Abril           102.45       110.85  ...                184.45  313.41\n",
              "2021-Mayo            105.50       114.56  ...                192.04  322.65\n",
              "2021-Junio           105.86       114.35  ...                181.27  323.23\n",
              "2021-Julio           108.22       109.75  ...                181.92  349.96\n",
              "2021-Agosto          105.56       112.04  ...                188.78  322.86\n",
              "2021-Septiembre      109.03       112.85  ...                181.03  317.43\n",
              "2021-Octubre            NaN          NaN  ...                192.16     NaN\n",
              "\n",
              "[22 rows x 7 columns]"
            ]
          },
          "metadata": {},
          "execution_count": 5
        }
      ]
    },
    {
      "cell_type": "markdown",
      "metadata": {
        "id": "HZYnwfqqr7tE"
      },
      "source": [
        "import re\n",
        "tabpais = soup.find_all('th', colspan='1')\n",
        "table = soup.find_all('p', class_='text-left')\n",
        "fechas = []\n",
        "paises =[]\n",
        "for i in range(len(table)):\n",
        "  x = re.sub(\" \",\"\",table[i].text)\n",
        "  fechas.append(x.replace(\"\\n\",\"\"))\n",
        "  pais = tabpais[i].text\n",
        "  #indicadores.append(ind)\n",
        "  paises.append(pais)\n",
        "fechas[-1]"
      ]
    },
    {
      "cell_type": "markdown",
      "metadata": {
        "id": "sCY1EzkcvFfD"
      },
      "source": [
        "table1 = soup.find_all('p', class_='text-right')\n",
        "matriz = np.array([])\n",
        "for i in table1:\n",
        "  matriz = np.array(np.append(matriz,i))\n",
        "matriz = np.where(matriz==\"--\", np.nan, matriz).astype(np.float)\n",
        "matriz = matriz.reshape(-1,7) # 7 paises\n",
        "imaeLA = pd.DataFrame(matriz,index=fechas,columns=paises)\n",
        "imaeLA"
      ]
    },
    {
      "cell_type": "markdown",
      "metadata": {
        "id": "mng9xQCphxaK"
      },
      "source": [
        "### **Argentina**\n"
      ]
    },
    {
      "cell_type": "markdown",
      "metadata": {
        "id": "5HGhiXY6MURL"
      },
      "source": [
        "#### Publicaciones disponibles las fechas: \n",
        "1. 28 sept \n",
        "2. 21 Oct\n",
        "3. 23 Nov\n",
        "4. 23 Dic"
      ]
    },
    {
      "cell_type": "code",
      "metadata": {
        "id": "8lHpEj4I7Kkk"
      },
      "source": [
        "url = \"https://www.indec.gob.ar/ftp/cuadros/economia/sh_emae_mensual_base2004.xls\"\n",
        "urllib2.urlretrieve(url, \"test.xls\")\n",
        "data = pd.read_excel('test.xls',header=2)[2:]\n",
        "data1 = data.iloc[:,:4].dropna(subset = [data.columns[1]]) # data.columns[1] es la columna de los meses\n",
        "data1.reset_index(drop=True,inplace=True)\n",
        "data1[data1.columns[0]] = data1[data1.columns[0]].ffill() # forward fill # para los años   data1.columns[0] es la columna de los años\n",
        "data1 = data1.iloc[11:,:3]"
      ],
      "execution_count": 6,
      "outputs": []
    },
    {
      "cell_type": "code",
      "metadata": {
        "id": "AEop9VIOYe7t",
        "colab": {
          "base_uri": "https://localhost:8080/"
        },
        "outputId": "5b937848-6c7f-4182-954b-58d0fc36c300"
      },
      "source": [
        "data1['fecha'] = data1[data1.columns[0]].astype(int).astype(str) +\"-\"+ data1[data1.columns[1]]\n",
        "data1.set_index(data1.fecha,inplace=True)\n",
        "data1.iloc[:,2].tail(1)"
      ],
      "execution_count": 7,
      "outputs": [
        {
          "output_type": "execute_result",
          "data": {
            "text/plain": [
              "fecha\n",
              "2021-Septiembre    141.257333\n",
              "Name: Índice Serie Original\\n2004=100, dtype: float64"
            ]
          },
          "metadata": {},
          "execution_count": 7
        }
      ]
    },
    {
      "cell_type": "code",
      "metadata": {
        "id": "X0Sd_s4JR1iO",
        "colab": {
          "base_uri": "https://localhost:8080/",
          "height": 0
        },
        "outputId": "bc7fa568-2ae2-40c9-dee3-1945e74bd788"
      },
      "source": [
        "imaeLA = pd.merge(imaeLA,data1.iloc[:,2],how='left',left_index=True,right_index=True)\n",
        "imaeLA.columns = [*imaeLA.columns[:-1], 'Argentina']\n",
        "imaeLA.tail(1)"
      ],
      "execution_count": 8,
      "outputs": [
        {
          "output_type": "execute_result",
          "data": {
            "text/html": [
              "<div>\n",
              "<style scoped>\n",
              "    .dataframe tbody tr th:only-of-type {\n",
              "        vertical-align: middle;\n",
              "    }\n",
              "\n",
              "    .dataframe tbody tr th {\n",
              "        vertical-align: top;\n",
              "    }\n",
              "\n",
              "    .dataframe thead th {\n",
              "        text-align: right;\n",
              "    }\n",
              "</style>\n",
              "<table border=\"1\" class=\"dataframe\">\n",
              "  <thead>\n",
              "    <tr style=\"text-align: right;\">\n",
              "      <th></th>\n",
              "      <th>Costa Rica</th>\n",
              "      <th>El Salvador</th>\n",
              "      <th>Guatemala</th>\n",
              "      <th>Honduras</th>\n",
              "      <th>Nicaragua</th>\n",
              "      <th>República Dominicana</th>\n",
              "      <th>Panamá</th>\n",
              "      <th>Argentina</th>\n",
              "    </tr>\n",
              "  </thead>\n",
              "  <tbody>\n",
              "    <tr>\n",
              "      <th>2021-Octubre</th>\n",
              "      <td>NaN</td>\n",
              "      <td>NaN</td>\n",
              "      <td>NaN</td>\n",
              "      <td>NaN</td>\n",
              "      <td>NaN</td>\n",
              "      <td>192.16</td>\n",
              "      <td>NaN</td>\n",
              "      <td>NaN</td>\n",
              "    </tr>\n",
              "  </tbody>\n",
              "</table>\n",
              "</div>"
            ],
            "text/plain": [
              "              Costa Rica  El Salvador  ...  Panamá  Argentina\n",
              "2021-Octubre         NaN          NaN  ...     NaN        NaN\n",
              "\n",
              "[1 rows x 8 columns]"
            ]
          },
          "metadata": {},
          "execution_count": 8
        }
      ]
    },
    {
      "cell_type": "code",
      "metadata": {
        "id": "YeDA4qcvTmcv"
      },
      "source": [
        ""
      ],
      "execution_count": 8,
      "outputs": []
    },
    {
      "cell_type": "markdown",
      "metadata": {
        "id": "USJ5m_3XS6ji"
      },
      "source": [
        "### **Brasil**"
      ]
    },
    {
      "cell_type": "markdown",
      "metadata": {
        "id": "rhunUnSlLzy_"
      },
      "source": [
        "#### Publicaciones :\n",
        "1. 15 sept\n",
        "2. 15 Oct\n",
        "3. 16 Nov\n",
        "4. 15 Dic"
      ]
    },
    {
      "cell_type": "code",
      "metadata": {
        "id": "A6-HZYuyofz0",
        "colab": {
          "base_uri": "https://localhost:8080/",
          "height": 0
        },
        "outputId": "dfe8e0ff-f472-4d4f-da5c-491e280a6f1d"
      },
      "source": [
        "urljson = \"https://api.bcb.gov.br/dados/serie/bcdata.sgs.24363/dados?formato=json\"\n",
        "urllib2.urlretrieve(urljson, \"brasil.json\")\n",
        "bra = pd.read_json('brasil.json')\n",
        "bra.rename(columns={'valor':'Brasil'},inplace=True)\n",
        "\n",
        "bra['Brasil1'] = bra.Brasil.pct_change(12)*100 # calculo tasa de crecimiento\n",
        "bra['date'] = pd.to_datetime(bra['data'],format='%d/%m/%Y') # transformamos a formato fecha\n",
        "# Creamos indice\n",
        "bra['fecha'] = pd.DatetimeIndex(bra['date']).year.astype(str) +\"-\"+pd.DatetimeIndex(bra['date']).month.astype(str)\n",
        "\n",
        "nombre_mes = [meses[i][1] for i in pd.DatetimeIndex(bra['date']).month.tolist()] # obtenemos nombre del mes\n",
        "bra['fecha'] = pd.DatetimeIndex(bra['date']).year.astype(str) +\"-\"+ nombre_mes # creamos indice\n",
        "bra.set_index(bra.fecha,inplace=True) #reemplazamos indice\n",
        "\n",
        "imaela = pd.merge(imaeLA,bra['Brasil'],how='left',left_index=True,right_index=True) # combinamos la data\n",
        "bra.tail(1)"
      ],
      "execution_count": 9,
      "outputs": [
        {
          "output_type": "execute_result",
          "data": {
            "text/html": [
              "<div>\n",
              "<style scoped>\n",
              "    .dataframe tbody tr th:only-of-type {\n",
              "        vertical-align: middle;\n",
              "    }\n",
              "\n",
              "    .dataframe tbody tr th {\n",
              "        vertical-align: top;\n",
              "    }\n",
              "\n",
              "    .dataframe thead th {\n",
              "        text-align: right;\n",
              "    }\n",
              "</style>\n",
              "<table border=\"1\" class=\"dataframe\">\n",
              "  <thead>\n",
              "    <tr style=\"text-align: right;\">\n",
              "      <th></th>\n",
              "      <th>data</th>\n",
              "      <th>Brasil</th>\n",
              "      <th>Brasil1</th>\n",
              "      <th>date</th>\n",
              "      <th>fecha</th>\n",
              "    </tr>\n",
              "    <tr>\n",
              "      <th>fecha</th>\n",
              "      <th></th>\n",
              "      <th></th>\n",
              "      <th></th>\n",
              "      <th></th>\n",
              "      <th></th>\n",
              "    </tr>\n",
              "  </thead>\n",
              "  <tbody>\n",
              "    <tr>\n",
              "      <th>2021-Septiembre</th>\n",
              "      <td>01/09/2021</td>\n",
              "      <td>139.21</td>\n",
              "      <td>1.524212</td>\n",
              "      <td>2021-09-01</td>\n",
              "      <td>2021-Septiembre</td>\n",
              "    </tr>\n",
              "  </tbody>\n",
              "</table>\n",
              "</div>"
            ],
            "text/plain": [
              "                       data  Brasil   Brasil1       date            fecha\n",
              "fecha                                                                    \n",
              "2021-Septiembre  01/09/2021  139.21  1.524212 2021-09-01  2021-Septiembre"
            ]
          },
          "metadata": {},
          "execution_count": 9
        }
      ]
    },
    {
      "cell_type": "code",
      "metadata": {
        "id": "F7wsu6q6H9Oa"
      },
      "source": [
        " #    imaela"
      ],
      "execution_count": 10,
      "outputs": []
    },
    {
      "cell_type": "markdown",
      "metadata": {
        "id": "YlZNkOc6pfVo"
      },
      "source": [
        "### **Mexico**"
      ]
    },
    {
      "cell_type": "markdown",
      "metadata": {
        "id": "gp44d33BJ8hJ"
      },
      "source": [
        "#### Publicaciones disponibles las fechas: \n",
        "1. 27 sept \n",
        "2. 25 Oct\n",
        "3. 25 Nov\n",
        "4. 24 Dic"
      ]
    },
    {
      "cell_type": "code",
      "metadata": {
        "id": "G9quLL-jpnVD"
      },
      "source": [
        "url = \"https://www.inegi.org.mx/contenidos/temas/economia/cn/igae/tabulados/ori/IGAE_1.xlsx\"\n",
        "urllib2.urlretrieve(url, \"test.xlsx\")\n",
        "mex = pd.read_excel('test.xlsx',header=3,nrows=3)\n",
        "mex = mex.T.reset_index(drop=True) # transponemos y estandarizamos el indice\n",
        "mex.drop(0,inplace=True) # borramos primera fila\n",
        "mex[2] = round(mex[2].astype(float),2) # leyendo tasas de crecimiento en el formato numerico y redondeando\n",
        "mex[0] = mex[0].ffill()"
      ],
      "execution_count": 11,
      "outputs": []
    },
    {
      "cell_type": "code",
      "metadata": {
        "id": "LJzHJQ0Pq7Kc",
        "colab": {
          "base_uri": "https://localhost:8080/",
          "height": 81
        },
        "outputId": "28f8b377-0f71-45bd-a41c-8a2bfe0afad3"
      },
      "source": [
        "mex[1] = mex[1].replace(['oR','oP','lR','lP','eR','eP'],['o','o','l','l','e','e'], regex=True) #limpiar superindices \"Revisado\" \"Preliminar\"\n",
        "mex[0] = mex[0].replace(['P','R'],['',''],regex=True) # limpiar preliminar de fecha\n",
        "mex.index = mex[0].astype('str') +\"-\"+ mex[1] #creamos indice para base de datos\n",
        "mex.columns = [*mex.columns[:-1], 'México'] # nombramos columna\n",
        "mex.dropna().tail(1) # mostrar ultimo valor no nulo"
      ],
      "execution_count": 65,
      "outputs": [
        {
          "output_type": "execute_result",
          "data": {
            "text/html": [
              "<div>\n",
              "<style scoped>\n",
              "    .dataframe tbody tr th:only-of-type {\n",
              "        vertical-align: middle;\n",
              "    }\n",
              "\n",
              "    .dataframe tbody tr th {\n",
              "        vertical-align: top;\n",
              "    }\n",
              "\n",
              "    .dataframe thead th {\n",
              "        text-align: right;\n",
              "    }\n",
              "</style>\n",
              "<table border=\"1\" class=\"dataframe\">\n",
              "  <thead>\n",
              "    <tr style=\"text-align: right;\">\n",
              "      <th></th>\n",
              "      <th>0</th>\n",
              "      <th>1</th>\n",
              "      <th>México</th>\n",
              "    </tr>\n",
              "  </thead>\n",
              "  <tbody>\n",
              "    <tr>\n",
              "      <th>2021-Septiembre</th>\n",
              "      <td>2021</td>\n",
              "      <td>Septiembre</td>\n",
              "      <td>104.18</td>\n",
              "    </tr>\n",
              "  </tbody>\n",
              "</table>\n",
              "</div>"
            ],
            "text/plain": [
              "                    0           1  México\n",
              "2021-Septiembre  2021  Septiembre  104.18"
            ]
          },
          "metadata": {},
          "execution_count": 65
        }
      ]
    },
    {
      "cell_type": "code",
      "metadata": {
        "id": "QIx6594i6eEt"
      },
      "source": [
        "imaela = round(pd.merge(imaela,mex['México'],how='left',left_index=True,right_index=True),2) # combinamos las series"
      ],
      "execution_count": 13,
      "outputs": []
    },
    {
      "cell_type": "code",
      "metadata": {
        "id": "I8pV0b3HUrjM",
        "colab": {
          "base_uri": "https://localhost:8080/",
          "height": 740
        },
        "outputId": "d59d54a6-fc1b-4d0b-f5fc-e6fb60b6cb1f"
      },
      "source": [
        "imaela"
      ],
      "execution_count": 14,
      "outputs": [
        {
          "output_type": "execute_result",
          "data": {
            "text/html": [
              "<div>\n",
              "<style scoped>\n",
              "    .dataframe tbody tr th:only-of-type {\n",
              "        vertical-align: middle;\n",
              "    }\n",
              "\n",
              "    .dataframe tbody tr th {\n",
              "        vertical-align: top;\n",
              "    }\n",
              "\n",
              "    .dataframe thead th {\n",
              "        text-align: right;\n",
              "    }\n",
              "</style>\n",
              "<table border=\"1\" class=\"dataframe\">\n",
              "  <thead>\n",
              "    <tr style=\"text-align: right;\">\n",
              "      <th></th>\n",
              "      <th>Costa Rica</th>\n",
              "      <th>El Salvador</th>\n",
              "      <th>Guatemala</th>\n",
              "      <th>Honduras</th>\n",
              "      <th>Nicaragua</th>\n",
              "      <th>República Dominicana</th>\n",
              "      <th>Panamá</th>\n",
              "      <th>Argentina</th>\n",
              "      <th>Brasil</th>\n",
              "      <th>México</th>\n",
              "    </tr>\n",
              "  </thead>\n",
              "  <tbody>\n",
              "    <tr>\n",
              "      <th>2020-Enero</th>\n",
              "      <td>104.13</td>\n",
              "      <td>110.91</td>\n",
              "      <td>127.40</td>\n",
              "      <td>243.14</td>\n",
              "      <td>152.88</td>\n",
              "      <td>179.04</td>\n",
              "      <td>345.73</td>\n",
              "      <td>132.28</td>\n",
              "      <td>133.72</td>\n",
              "      <td>NaN</td>\n",
              "    </tr>\n",
              "    <tr>\n",
              "      <th>2020-Febrero</th>\n",
              "      <td>105.17</td>\n",
              "      <td>109.93</td>\n",
              "      <td>125.54</td>\n",
              "      <td>242.59</td>\n",
              "      <td>144.12</td>\n",
              "      <td>183.24</td>\n",
              "      <td>338.73</td>\n",
              "      <td>129.75</td>\n",
              "      <td>134.77</td>\n",
              "      <td>NaN</td>\n",
              "    </tr>\n",
              "    <tr>\n",
              "      <th>2020-Marzo</th>\n",
              "      <td>103.55</td>\n",
              "      <td>105.58</td>\n",
              "      <td>121.36</td>\n",
              "      <td>218.14</td>\n",
              "      <td>140.05</td>\n",
              "      <td>165.67</td>\n",
              "      <td>364.78</td>\n",
              "      <td>129.10</td>\n",
              "      <td>136.84</td>\n",
              "      <td>NaN</td>\n",
              "    </tr>\n",
              "    <tr>\n",
              "      <th>2020-Abril</th>\n",
              "      <td>90.88</td>\n",
              "      <td>88.31</td>\n",
              "      <td>112.77</td>\n",
              "      <td>186.13</td>\n",
              "      <td>124.66</td>\n",
              "      <td>125.35</td>\n",
              "      <td>247.19</td>\n",
              "      <td>111.90</td>\n",
              "      <td>119.25</td>\n",
              "      <td>NaN</td>\n",
              "    </tr>\n",
              "    <tr>\n",
              "      <th>2020-Mayo</th>\n",
              "      <td>93.09</td>\n",
              "      <td>89.77</td>\n",
              "      <td>111.25</td>\n",
              "      <td>188.45</td>\n",
              "      <td>133.85</td>\n",
              "      <td>158.43</td>\n",
              "      <td>228.30</td>\n",
              "      <td>131.29</td>\n",
              "      <td>119.91</td>\n",
              "      <td>NaN</td>\n",
              "    </tr>\n",
              "    <tr>\n",
              "      <th>2020-Junio</th>\n",
              "      <td>97.03</td>\n",
              "      <td>97.05</td>\n",
              "      <td>111.06</td>\n",
              "      <td>208.19</td>\n",
              "      <td>128.82</td>\n",
              "      <td>160.89</td>\n",
              "      <td>243.01</td>\n",
              "      <td>133.30</td>\n",
              "      <td>126.29</td>\n",
              "      <td>NaN</td>\n",
              "    </tr>\n",
              "    <tr>\n",
              "      <th>2020-Julio</th>\n",
              "      <td>92.91</td>\n",
              "      <td>96.17</td>\n",
              "      <td>117.42</td>\n",
              "      <td>208.83</td>\n",
              "      <td>147.54</td>\n",
              "      <td>162.35</td>\n",
              "      <td>241.95</td>\n",
              "      <td>128.19</td>\n",
              "      <td>135.84</td>\n",
              "      <td>NaN</td>\n",
              "    </tr>\n",
              "    <tr>\n",
              "      <th>2020-Agosto</th>\n",
              "      <td>93.35</td>\n",
              "      <td>102.54</td>\n",
              "      <td>120.25</td>\n",
              "      <td>225.70</td>\n",
              "      <td>138.51</td>\n",
              "      <td>169.07</td>\n",
              "      <td>251.35</td>\n",
              "      <td>125.17</td>\n",
              "      <td>135.51</td>\n",
              "      <td>NaN</td>\n",
              "    </tr>\n",
              "    <tr>\n",
              "      <th>2020-Septiembre</th>\n",
              "      <td>97.99</td>\n",
              "      <td>106.35</td>\n",
              "      <td>121.45</td>\n",
              "      <td>230.41</td>\n",
              "      <td>140.01</td>\n",
              "      <td>163.68</td>\n",
              "      <td>268.97</td>\n",
              "      <td>126.60</td>\n",
              "      <td>137.12</td>\n",
              "      <td>NaN</td>\n",
              "    </tr>\n",
              "    <tr>\n",
              "      <th>2020-Octubre</th>\n",
              "      <td>102.09</td>\n",
              "      <td>106.56</td>\n",
              "      <td>125.72</td>\n",
              "      <td>249.68</td>\n",
              "      <td>148.50</td>\n",
              "      <td>175.09</td>\n",
              "      <td>312.12</td>\n",
              "      <td>131.73</td>\n",
              "      <td>139.74</td>\n",
              "      <td>NaN</td>\n",
              "    </tr>\n",
              "    <tr>\n",
              "      <th>2020-Noviembre</th>\n",
              "      <td>105.13</td>\n",
              "      <td>111.91</td>\n",
              "      <td>128.86</td>\n",
              "      <td>218.99</td>\n",
              "      <td>148.79</td>\n",
              "      <td>181.13</td>\n",
              "      <td>300.21</td>\n",
              "      <td>132.97</td>\n",
              "      <td>138.10</td>\n",
              "      <td>NaN</td>\n",
              "    </tr>\n",
              "    <tr>\n",
              "      <th>2020-Diciembre</th>\n",
              "      <td>110.97</td>\n",
              "      <td>122.31</td>\n",
              "      <td>136.24</td>\n",
              "      <td>257.91</td>\n",
              "      <td>167.23</td>\n",
              "      <td>192.02</td>\n",
              "      <td>316.10</td>\n",
              "      <td>132.42</td>\n",
              "      <td>139.41</td>\n",
              "      <td>NaN</td>\n",
              "    </tr>\n",
              "    <tr>\n",
              "      <th>2021-Enero</th>\n",
              "      <td>97.54</td>\n",
              "      <td>109.03</td>\n",
              "      <td>129.22</td>\n",
              "      <td>230.06</td>\n",
              "      <td>154.73</td>\n",
              "      <td>175.85</td>\n",
              "      <td>297.55</td>\n",
              "      <td>129.49</td>\n",
              "      <td>132.03</td>\n",
              "      <td>105.38</td>\n",
              "    </tr>\n",
              "    <tr>\n",
              "      <th>2021-Febrero</th>\n",
              "      <td>99.94</td>\n",
              "      <td>108.59</td>\n",
              "      <td>128.60</td>\n",
              "      <td>236.15</td>\n",
              "      <td>147.44</td>\n",
              "      <td>185.33</td>\n",
              "      <td>310.85</td>\n",
              "      <td>126.69</td>\n",
              "      <td>134.80</td>\n",
              "      <td>102.64</td>\n",
              "    </tr>\n",
              "    <tr>\n",
              "      <th>2021-Marzo</th>\n",
              "      <td>107.64</td>\n",
              "      <td>114.86</td>\n",
              "      <td>133.51</td>\n",
              "      <td>247.84</td>\n",
              "      <td>151.38</td>\n",
              "      <td>183.29</td>\n",
              "      <td>350.15</td>\n",
              "      <td>146.29</td>\n",
              "      <td>144.06</td>\n",
              "      <td>111.47</td>\n",
              "    </tr>\n",
              "    <tr>\n",
              "      <th>2021-Abril</th>\n",
              "      <td>102.45</td>\n",
              "      <td>110.85</td>\n",
              "      <td>129.97</td>\n",
              "      <td>234.59</td>\n",
              "      <td>144.24</td>\n",
              "      <td>184.45</td>\n",
              "      <td>313.41</td>\n",
              "      <td>144.97</td>\n",
              "      <td>138.91</td>\n",
              "      <td>107.93</td>\n",
              "    </tr>\n",
              "    <tr>\n",
              "      <th>2021-Mayo</th>\n",
              "      <td>105.50</td>\n",
              "      <td>114.56</td>\n",
              "      <td>129.29</td>\n",
              "      <td>242.40</td>\n",
              "      <td>156.13</td>\n",
              "      <td>192.04</td>\n",
              "      <td>322.65</td>\n",
              "      <td>150.20</td>\n",
              "      <td>136.85</td>\n",
              "      <td>111.96</td>\n",
              "    </tr>\n",
              "    <tr>\n",
              "      <th>2021-Junio</th>\n",
              "      <td>105.86</td>\n",
              "      <td>114.35</td>\n",
              "      <td>126.28</td>\n",
              "      <td>248.26</td>\n",
              "      <td>151.75</td>\n",
              "      <td>181.27</td>\n",
              "      <td>323.23</td>\n",
              "      <td>148.82</td>\n",
              "      <td>137.46</td>\n",
              "      <td>111.11</td>\n",
              "    </tr>\n",
              "    <tr>\n",
              "      <th>2021-Julio</th>\n",
              "      <td>108.22</td>\n",
              "      <td>109.75</td>\n",
              "      <td>130.95</td>\n",
              "      <td>241.80</td>\n",
              "      <td>160.41</td>\n",
              "      <td>181.92</td>\n",
              "      <td>349.96</td>\n",
              "      <td>143.19</td>\n",
              "      <td>143.28</td>\n",
              "      <td>109.86</td>\n",
              "    </tr>\n",
              "    <tr>\n",
              "      <th>2021-Agosto</th>\n",
              "      <td>105.56</td>\n",
              "      <td>112.04</td>\n",
              "      <td>130.12</td>\n",
              "      <td>256.38</td>\n",
              "      <td>151.80</td>\n",
              "      <td>188.78</td>\n",
              "      <td>322.86</td>\n",
              "      <td>141.20</td>\n",
              "      <td>141.94</td>\n",
              "      <td>107.14</td>\n",
              "    </tr>\n",
              "    <tr>\n",
              "      <th>2021-Septiembre</th>\n",
              "      <td>109.03</td>\n",
              "      <td>112.85</td>\n",
              "      <td>129.06</td>\n",
              "      <td>251.03</td>\n",
              "      <td>147.61</td>\n",
              "      <td>181.03</td>\n",
              "      <td>317.43</td>\n",
              "      <td>141.26</td>\n",
              "      <td>139.21</td>\n",
              "      <td>104.18</td>\n",
              "    </tr>\n",
              "    <tr>\n",
              "      <th>2021-Octubre</th>\n",
              "      <td>NaN</td>\n",
              "      <td>NaN</td>\n",
              "      <td>NaN</td>\n",
              "      <td>NaN</td>\n",
              "      <td>NaN</td>\n",
              "      <td>192.16</td>\n",
              "      <td>NaN</td>\n",
              "      <td>NaN</td>\n",
              "      <td>NaN</td>\n",
              "      <td>NaN</td>\n",
              "    </tr>\n",
              "  </tbody>\n",
              "</table>\n",
              "</div>"
            ],
            "text/plain": [
              "                 Costa Rica  El Salvador  Guatemala  ...  Argentina  Brasil  México\n",
              "2020-Enero           104.13       110.91     127.40  ...     132.28  133.72     NaN\n",
              "2020-Febrero         105.17       109.93     125.54  ...     129.75  134.77     NaN\n",
              "2020-Marzo           103.55       105.58     121.36  ...     129.10  136.84     NaN\n",
              "2020-Abril            90.88        88.31     112.77  ...     111.90  119.25     NaN\n",
              "2020-Mayo             93.09        89.77     111.25  ...     131.29  119.91     NaN\n",
              "2020-Junio            97.03        97.05     111.06  ...     133.30  126.29     NaN\n",
              "2020-Julio            92.91        96.17     117.42  ...     128.19  135.84     NaN\n",
              "2020-Agosto           93.35       102.54     120.25  ...     125.17  135.51     NaN\n",
              "2020-Septiembre       97.99       106.35     121.45  ...     126.60  137.12     NaN\n",
              "2020-Octubre         102.09       106.56     125.72  ...     131.73  139.74     NaN\n",
              "2020-Noviembre       105.13       111.91     128.86  ...     132.97  138.10     NaN\n",
              "2020-Diciembre       110.97       122.31     136.24  ...     132.42  139.41     NaN\n",
              "2021-Enero            97.54       109.03     129.22  ...     129.49  132.03  105.38\n",
              "2021-Febrero          99.94       108.59     128.60  ...     126.69  134.80  102.64\n",
              "2021-Marzo           107.64       114.86     133.51  ...     146.29  144.06  111.47\n",
              "2021-Abril           102.45       110.85     129.97  ...     144.97  138.91  107.93\n",
              "2021-Mayo            105.50       114.56     129.29  ...     150.20  136.85  111.96\n",
              "2021-Junio           105.86       114.35     126.28  ...     148.82  137.46  111.11\n",
              "2021-Julio           108.22       109.75     130.95  ...     143.19  143.28  109.86\n",
              "2021-Agosto          105.56       112.04     130.12  ...     141.20  141.94  107.14\n",
              "2021-Septiembre      109.03       112.85     129.06  ...     141.26  139.21  104.18\n",
              "2021-Octubre            NaN          NaN        NaN  ...        NaN     NaN     NaN\n",
              "\n",
              "[22 rows x 10 columns]"
            ]
          },
          "metadata": {},
          "execution_count": 14
        }
      ]
    },
    {
      "cell_type": "code",
      "metadata": {
        "id": "2XyzaBWtpn_0"
      },
      "source": [
        "## link excel\n",
        "#https://www.inegi.org.mx/contenidos/temas/economia/cn/igae/tabulados/ori/IGAE_1.xlsx       indice\n",
        "\n",
        "#https://www.inegi.org.mx/contenidos/temas/economia/cn/igae/tabulados/ori/IGAE_2.xlsx       crecimiento"
      ],
      "execution_count": 15,
      "outputs": []
    },
    {
      "cell_type": "markdown",
      "metadata": {
        "id": "av3nykGIzFj-"
      },
      "source": [
        "### **Perú**"
      ]
    },
    {
      "cell_type": "markdown",
      "metadata": {
        "id": "Zxz5C9hXDTEC"
      },
      "source": [
        "#### Publicaciones disponibles a fecha:\n",
        " \n",
        "2. 21 Oct\n",
        "3. 18 Nov\n",
        "4. "
      ]
    },
    {
      "cell_type": "code",
      "metadata": {
        "id": "Ztmnin9LzGhP"
      },
      "source": [
        "url = 'https://www.inei.gob.pe/media/principales_indicadores/CalculoPBI_99.zip' #cambio de 98 a 99 (ago sep)"
      ],
      "execution_count": 16,
      "outputs": []
    },
    {
      "cell_type": "code",
      "metadata": {
        "id": "fR9o9g9hzGpQ"
      },
      "source": [
        "zip, _ = urllib2.urlretrieve(url)\n",
        "with zipfile.ZipFile(zip, \"r\") as f:\n",
        "    f.extractall('/content')"
      ],
      "execution_count": 17,
      "outputs": []
    },
    {
      "cell_type": "code",
      "metadata": {
        "id": "NoK6gcMRzGvt"
      },
      "source": [
        "indicador = [f.namelist()[i] for i in range(len(f.namelist())) if 'Indicador Mensual' in f.namelist()[i]][0] # el 0 es para que elija el string de la lista\n",
        "df = pd.read_excel(indicador,sheet_name=1,header=3)[1:] # el indice esta en la segunda hoja del excel"
      ],
      "execution_count": 18,
      "outputs": []
    },
    {
      "cell_type": "code",
      "metadata": {
        "colab": {
          "base_uri": "https://localhost:8080/",
          "height": 0
        },
        "id": "XAf-5TNTFX7g",
        "outputId": "a1e40d94-ef9f-458a-a657-b14ded4778a4"
      },
      "source": [
        "indicador"
      ],
      "execution_count": 19,
      "outputs": [
        {
          "output_type": "execute_result",
          "data": {
            "application/vnd.google.colaboratory.intrinsic+json": {
              "type": "string"
            },
            "text/plain": [
              "'Indicador Mensual de la Producción Nacional 09 2021 r.xlsx'"
            ]
          },
          "metadata": {},
          "execution_count": 19
        }
      ]
    },
    {
      "cell_type": "code",
      "metadata": {
        "id": "Db-wpEmd1M4i"
      },
      "source": [
        "pe = round(df.filter(like='Índice Global'),2)   # regex='spike|spke' se puede usar regex para en caso de que escriban las columnas mal\n",
        "pe['YM'] = df['Año y Mes'].astype(int).astype(str)\n",
        "\n",
        "#  IG.1 Mensual   IG.2 Acumulado  IG.3 Anual\n",
        "pe['fecha'] =  pe['YM'].str[0:4] +'-'+ pe['YM'].str[4:7].astype(int).map(meses_dict)  # fecha\n",
        "pe.set_index('fecha',inplace=True)\n",
        "\n",
        "pe.rename(columns={pe.columns[0]:'Perú',pe.columns[1]:'Perú_i',pe.columns[2]:'Perú_a'},inplace=True)"
      ],
      "execution_count": 20,
      "outputs": []
    },
    {
      "cell_type": "code",
      "metadata": {
        "id": "T5rh--_j38St"
      },
      "source": [
        "imaela = imaela.merge(pe['Perú'],how='left',left_index=True,right_index=True)"
      ],
      "execution_count": 21,
      "outputs": []
    },
    {
      "cell_type": "markdown",
      "metadata": {
        "id": "A2MSTFg45f_H"
      },
      "source": [
        "### **Chile**"
      ]
    },
    {
      "cell_type": "markdown",
      "metadata": {
        "id": "hqlvksKyKnZL"
      },
      "source": [
        "#### Publicaciones disponibles las fechas:\n",
        " \n",
        "2. 1 Oct  - Agosto\n",
        "3. 2 Nov  - Septiembre\n",
        "4. 1 Dic - Noviembre"
      ]
    },
    {
      "cell_type": "code",
      "metadata": {
        "id": "bKL_VCs35h82"
      },
      "source": [
        "url = \"https://si3.bcentral.cl/estadisticas/Principal1/excel/CCNN/IMACEC/Excel/IMACEC.xlsx\"\n",
        "urllib2.urlretrieve(url, \"chile.xlsx\")\n",
        "df = pd.read_excel('chile.xlsx',header=5,keep_default_na=False)"
      ],
      "execution_count": 22,
      "outputs": []
    },
    {
      "cell_type": "code",
      "metadata": {
        "id": "Gv8NAd-xcUEZ",
        "colab": {
          "base_uri": "https://localhost:8080/",
          "height": 0
        },
        "outputId": "2506b1b8-6b0d-4b11-c33d-72d78864abc8"
      },
      "source": [
        "chile = df.loc[1:,[df.columns[0],df.columns[1],'Imacec']][:-10] # excluimos las ultimas 10 filas (pie de pagina)\n",
        "chile.rename(columns = {'Imacec':'Chile'}, inplace = True) # renombramos\n",
        "chile['Chile1'] = pd.to_numeric(chile.Chile).pct_change(12)*100\n",
        "###\n",
        "chile[chile.columns[0]] = pd.to_numeric(chile[chile.columns[0]], errors='coerce').ffill().bfill().astype(int)\n",
        " # las columnas del excel contienen string en blanco por lo que se transformaron a numero antes de hacer el forward fill\n",
        " # el backward fill es para asegurar que no quede NaN por detras y dificulte la creacion del indice\n",
        "###\n",
        "\n",
        "chile['mes'] = chile[chile.columns[1]].map(mes3).bfill() # creando mes y usando el bfill por el mismo motivo explicado arriba\n",
        "\n",
        "#Creamos el indice\n",
        "chile.index = chile[chile.columns[0]].astype('str') +\"-\"+ chile.mes\n",
        "\n",
        "chile.tail(1)"
      ],
      "execution_count": 23,
      "outputs": [
        {
          "output_type": "execute_result",
          "data": {
            "text/html": [
              "<div>\n",
              "<style scoped>\n",
              "    .dataframe tbody tr th:only-of-type {\n",
              "        vertical-align: middle;\n",
              "    }\n",
              "\n",
              "    .dataframe tbody tr th {\n",
              "        vertical-align: top;\n",
              "    }\n",
              "\n",
              "    .dataframe thead th {\n",
              "        text-align: right;\n",
              "    }\n",
              "</style>\n",
              "<table border=\"1\" class=\"dataframe\">\n",
              "  <thead>\n",
              "    <tr style=\"text-align: right;\">\n",
              "      <th></th>\n",
              "      <th></th>\n",
              "      <th>Unnamed: 1</th>\n",
              "      <th>Chile</th>\n",
              "      <th>Chile1</th>\n",
              "      <th>mes</th>\n",
              "    </tr>\n",
              "  </thead>\n",
              "  <tbody>\n",
              "    <tr>\n",
              "      <th>2021-Octubre</th>\n",
              "      <td>2021</td>\n",
              "      <td>oct</td>\n",
              "      <td>124.696</td>\n",
              "      <td>14.951209</td>\n",
              "      <td>Octubre</td>\n",
              "    </tr>\n",
              "  </tbody>\n",
              "</table>\n",
              "</div>"
            ],
            "text/plain": [
              "                   Unnamed: 1    Chile     Chile1      mes\n",
              "2021-Octubre  2021        oct  124.696  14.951209  Octubre"
            ]
          },
          "metadata": {},
          "execution_count": 23
        }
      ]
    },
    {
      "cell_type": "code",
      "metadata": {
        "colab": {
          "base_uri": "https://localhost:8080/"
        },
        "id": "Imhrlm8mSnTJ",
        "outputId": "67ee67a7-715f-4a0e-eefb-43ff4be4eac1"
      },
      "source": [
        " pd.to_numeric(chile[chile.columns[0]], errors='coerce')"
      ],
      "execution_count": 24,
      "outputs": [
        {
          "output_type": "execute_result",
          "data": {
            "text/plain": [
              "2013-Enero         2013\n",
              "2014-Enero         2014\n",
              "2015-Enero         2015\n",
              "2016-Enero         2016\n",
              "2017-Enero         2017\n",
              "                   ... \n",
              "2021-Junio         2021\n",
              "2021-Julio         2021\n",
              "2021-Agosto        2021\n",
              "2021-Septiembre    2021\n",
              "2021-Octubre       2021\n",
              "Name:  , Length: 115, dtype: int64"
            ]
          },
          "metadata": {},
          "execution_count": 24
        }
      ]
    },
    {
      "cell_type": "code",
      "metadata": {
        "id": "euH3hfbWtab4"
      },
      "source": [
        "imaelatam = round(imaela.merge(chile['Chile'],how='left',left_index=True,right_index=True),2)\n",
        "imaelatam = imaelatam[~imaelatam.index.duplicated(keep='last')].reindex(imaela.index) # hay duplicados, los eliminamos y reindexamos"
      ],
      "execution_count": 25,
      "outputs": []
    },
    {
      "cell_type": "code",
      "metadata": {
        "id": "6kQyvbAHrg2D"
      },
      "source": [
        "#  imaelatam"
      ],
      "execution_count": 26,
      "outputs": []
    },
    {
      "cell_type": "markdown",
      "metadata": {
        "id": "rSOwOPisI0mw"
      },
      "source": [
        "### **Ecuador**"
      ]
    },
    {
      "cell_type": "markdown",
      "metadata": {
        "id": "GqkkMgL4LIwV"
      },
      "source": [
        "#### Publicaciones disponibles las fechas: \n",
        "1. 14 sept    -    Julio\n",
        "2. 13 Oct    -     Agosto\n",
        "3. 15 Nov    -     Sep\n",
        "4. 24 Dic    -     Oct"
      ]
    },
    {
      "cell_type": "code",
      "metadata": {
        "id": "sscszb2Zd1gv",
        "colab": {
          "base_uri": "https://localhost:8080/"
        },
        "outputId": "0286b2f8-d23b-482f-ec69-2cfbed7aefb4"
      },
      "source": [
        "url = \"https://contenido.bce.fin.ec/documentos/PublicacionesNotas/Catalogo/IEMensual/Adelantos/IEM-452-e.xlsx\"\n",
        "urllib2.urlretrieve(url, \"Ecuador.xlsx\")\n",
        "df = pd.read_excel('Ecuador.xlsx',header=7,keep_default_na=False)[1:13].reset_index()\n",
        "\n",
        "ecu = (df.set_index(['Unnamed: 0','index'])\n",
        ".stack()\n",
        ".reset_index()\n",
        ".rename(columns={'Unnamed: 0':'mes','level_2':'Year'})).sort_values(['Year','index']) # ingenieria de base de datos\n",
        "\n",
        "# Elaboracion de indice\n",
        "ecu['Mes'] = ecu.mes.str.lower().map(mes3)\n",
        "ecu.insert(3, 'fecha', ecu.Year.astype(str) + '-' + ecu.Mes)\n",
        "ecu.index = ecu.fecha\n",
        "\n",
        "# Variacion interanual\n",
        "ecu.rename(columns={0:'Ecuador'},inplace=True)\n",
        "ecu['Ecuador1'] = pd.to_numeric(ecu['Ecuador'],errors='coerce').pct_change(12)*100\n",
        "\n",
        "ecu.Ecuador.tail()"
      ],
      "execution_count": 27,
      "outputs": [
        {
          "output_type": "execute_result",
          "data": {
            "text/plain": [
              "fecha\n",
              "2021-Agosto        168.508\n",
              "2021-Septiembre    173.195\n",
              "2021-Octubre              \n",
              "2021-Noviembre            \n",
              "2021-Diciembre            \n",
              "Name: Ecuador, dtype: object"
            ]
          },
          "metadata": {},
          "execution_count": 27
        }
      ]
    },
    {
      "cell_type": "code",
      "metadata": {
        "id": "ok4gz6V3nbeh"
      },
      "source": [
        "imaela = round(pd.merge(imaelatam,ecu['Ecuador'],how='left',left_index=True,right_index=True),2)"
      ],
      "execution_count": 28,
      "outputs": []
    },
    {
      "cell_type": "code",
      "metadata": {
        "id": "rjP6l55-S_KT"
      },
      "source": [
        "#   imaela"
      ],
      "execution_count": 29,
      "outputs": []
    },
    {
      "cell_type": "markdown",
      "metadata": {
        "id": "wrBNeqzd4se-"
      },
      "source": [
        "df = np.array(tb.read_pdf('ecuador.pdf',pages = '5',stream=True,multiple_tables=True,pandas_options={'header':None}))\n",
        "dff = pd.DataFrame(df.reshape(-1,5)) # en 2022 el reshape debe ser (-1,6)"
      ]
    },
    {
      "cell_type": "markdown",
      "metadata": {
        "id": "DYqsQgFR-FOz"
      },
      "source": [
        "dff[dff.iloc[3,2].split(' ')] = dff[2].str.split(' ',expand=True)\n",
        "if dff.iloc[3,3] in range(2020,2040,1):\n",
        "  dff[int(dff.iloc[3,3])] = dff[3]\n",
        "  dff[int(dff.iloc[3,4])] = dff[4]\n",
        "else:\n",
        "  dff[int(dff.iloc[3,4])] = dff[4]"
      ]
    },
    {
      "cell_type": "markdown",
      "metadata": {
        "id": "nOgS6gZj_kOg"
      },
      "source": [
        "if dff.iloc[18,0] in ['Ene']:\n",
        "    ecu = dff.iloc[18:30,[0,-3,-2,-1]].reset_index(drop=True)\n",
        "else:\n",
        "    ecu = dff.iloc[19:31,[0,-3,-2,-1]].reset_index(drop=True)\n",
        " \n",
        "ecu['interanualAnterior'] = ecu.iloc[:,-2].astype(float)/ecu.iloc[:,-3].astype(float)*100-100\n",
        "ecu['Ecuador'] = ecu.iloc[:,-2].astype(float)/ecu.iloc[:,-3].astype(float)*100-100\n",
        "\n",
        "listames = [meses[1:][i][1] for i in range(len(meses[1:]))]\n",
        "ecu['mes'] = listames\n",
        "\n",
        "ecu.index = str(ecu.columns[-4]) + '-' + ecu.mes\n",
        "ecu.dropna().tail(1)"
      ]
    },
    {
      "cell_type": "markdown",
      "metadata": {
        "id": "SUl_ygsCnMPA"
      },
      "source": [
        "### **Bolivia**"
      ]
    },
    {
      "cell_type": "markdown",
      "metadata": {
        "id": "IHUnyuy1nVpw"
      },
      "source": [
        "#### Publicaciones disponibles las fechas:\n",
        " \n",
        "2. \n",
        "3. \n",
        "4."
      ]
    },
    {
      "cell_type": "code",
      "metadata": {
        "id": "ZA1eYTsrnc4A"
      },
      "source": [
        "urlbol = 'https://www.ine.gob.bo/index.php/estadisticas-economicas/indice-global-de-actividad-economica-igae/#1584545313102-06cf787f-a790'\n",
        "header= {'User-Agent': 'Mozilla/5.0 (X11; Linux x86_64) ' \n",
        "      'AppleWebKit/537.11 (KHTML, like Gecko) '\n",
        "      'Chrome/23.0.1271.64 Safari/537.11',\n",
        "      'Accept': 'text/html,application/xhtml+xml,application/xml;q=0.9,*/*;q=0.8',\n",
        "      'Accept-Charset': 'ISO-8859-1,utf-8;q=0.7,*;q=0.3',\n",
        "      'Accept-Encoding': 'none',\n",
        "      'Accept-Language': 'en-US,en;q=0.8',\n",
        "      'Connection': 'keep-alive'}\n",
        "req = urllib2.Request(url=urlbol, headers=header) \n",
        "page = urllib2.urlopen(req).read()"
      ],
      "execution_count": 30,
      "outputs": []
    },
    {
      "cell_type": "code",
      "metadata": {
        "colab": {
          "base_uri": "https://localhost:8080/"
        },
        "id": "1aB4zuN8r4Nv",
        "outputId": "77e064c2-dbe7-4562-d833-352589572cee"
      },
      "source": [
        "soupbol = BeautifulSoup(page,'lxml')\n",
        "links = [a['href'] for a in soupbol.select(\"a[href*=nube.ine.gob.bo/index.php]\")] # extraemos links que contengan nube.ine.gob\n",
        " # ultimos link disponibles\n",
        "links # IGAE por actividad economica es el segundo"
      ],
      "execution_count": 31,
      "outputs": [
        {
          "output_type": "execute_result",
          "data": {
            "text/plain": [
              "['https://nube.ine.gob.bo/index.php/s/lhzNu4ISQEuXS1M/download',\n",
              " 'https://nube.ine.gob.bo/index.php/s/6Szm6RmYSBeRnsD/download',\n",
              " 'https://nube.ine.gob.bo/index.php/s/qNQexpgoZroGCYG/download',\n",
              " 'https://nube.ine.gob.bo/index.php/s/vsfGqiIoEXGddwJ/download',\n",
              " 'https://nube.ine.gob.bo/index.php/s/k0bRzzNhBXb7Ae2/download']"
            ]
          },
          "metadata": {},
          "execution_count": 31
        }
      ]
    },
    {
      "cell_type": "code",
      "metadata": {
        "colab": {
          "base_uri": "https://localhost:8080/"
        },
        "id": "0n-BsYwlrXNg",
        "outputId": "3cf70dc3-6fdd-4a5c-d367-d20cee8b13c8"
      },
      "source": [
        "urllib2.urlretrieve(links[1], \"Bolivia.xlsx\")\n",
        "#https://nube.ine.gob.bo/index.php/s/6Szm6RmYSBeRnsD/download"
      ],
      "execution_count": 32,
      "outputs": [
        {
          "output_type": "execute_result",
          "data": {
            "text/plain": [
              "('Bolivia.xlsx', <http.client.HTTPMessage at 0x7ff898a969d0>)"
            ]
          },
          "metadata": {},
          "execution_count": 32
        }
      ]
    },
    {
      "cell_type": "code",
      "metadata": {
        "id": "5RXiNmdfrXf_",
        "outputId": "d1b0418b-dcee-4497-84cf-0f0b6a902ed4",
        "colab": {
          "base_uri": "https://localhost:8080/",
          "height": 0
        }
      },
      "source": [
        "df = pd.read_excel('Bolivia.xlsx',header=9)\n",
        "df.head(2)"
      ],
      "execution_count": 33,
      "outputs": [
        {
          "output_type": "execute_result",
          "data": {
            "text/html": [
              "<div>\n",
              "<style scoped>\n",
              "    .dataframe tbody tr th:only-of-type {\n",
              "        vertical-align: middle;\n",
              "    }\n",
              "\n",
              "    .dataframe tbody tr th {\n",
              "        vertical-align: top;\n",
              "    }\n",
              "\n",
              "    .dataframe thead th {\n",
              "        text-align: right;\n",
              "    }\n",
              "</style>\n",
              "<table border=\"1\" class=\"dataframe\">\n",
              "  <thead>\n",
              "    <tr style=\"text-align: right;\">\n",
              "      <th></th>\n",
              "      <th>ACTIVIDAD ECONÓMICA</th>\n",
              "      <th>2008</th>\n",
              "      <th>0</th>\n",
              "      <th>0.1</th>\n",
              "      <th>0.2</th>\n",
              "      <th>0.3</th>\n",
              "      <th>0.4</th>\n",
              "      <th>0.5</th>\n",
              "      <th>0.6</th>\n",
              "      <th>0.7</th>\n",
              "      <th>0.8</th>\n",
              "      <th>0.9</th>\n",
              "      <th>0.10</th>\n",
              "      <th>2009</th>\n",
              "      <th>0.11</th>\n",
              "      <th>0.12</th>\n",
              "      <th>0.13</th>\n",
              "      <th>0.14</th>\n",
              "      <th>0.15</th>\n",
              "      <th>0.16</th>\n",
              "      <th>0.17</th>\n",
              "      <th>0.18</th>\n",
              "      <th>0.19</th>\n",
              "      <th>0.20</th>\n",
              "      <th>0.21</th>\n",
              "      <th>2010</th>\n",
              "      <th>0.22</th>\n",
              "      <th>0.23</th>\n",
              "      <th>0.24</th>\n",
              "      <th>0.25</th>\n",
              "      <th>0.26</th>\n",
              "      <th>0.27</th>\n",
              "      <th>0.28</th>\n",
              "      <th>0.29</th>\n",
              "      <th>0.30</th>\n",
              "      <th>0.31</th>\n",
              "      <th>0.32</th>\n",
              "      <th>2011</th>\n",
              "      <th>0.33</th>\n",
              "      <th>0.34</th>\n",
              "      <th>...</th>\n",
              "      <th>0.113</th>\n",
              "      <th>0.114</th>\n",
              "      <th>0.115</th>\n",
              "      <th>0.116</th>\n",
              "      <th>0.117</th>\n",
              "      <th>0.118</th>\n",
              "      <th>0.119</th>\n",
              "      <th>0.120</th>\n",
              "      <th>2019(p)</th>\n",
              "      <th>Unnamed: 134</th>\n",
              "      <th>Unnamed: 135</th>\n",
              "      <th>Unnamed: 136</th>\n",
              "      <th>Unnamed: 137</th>\n",
              "      <th>Unnamed: 138</th>\n",
              "      <th>Unnamed: 139</th>\n",
              "      <th>Unnamed: 140</th>\n",
              "      <th>Unnamed: 141</th>\n",
              "      <th>Unnamed: 142</th>\n",
              "      <th>Unnamed: 143</th>\n",
              "      <th>Unnamed: 144</th>\n",
              "      <th>2020(p)</th>\n",
              "      <th>Unnamed: 146</th>\n",
              "      <th>Unnamed: 147</th>\n",
              "      <th>Unnamed: 148</th>\n",
              "      <th>Unnamed: 149</th>\n",
              "      <th>Unnamed: 150</th>\n",
              "      <th>Unnamed: 151</th>\n",
              "      <th>Unnamed: 152</th>\n",
              "      <th>Unnamed: 153</th>\n",
              "      <th>Unnamed: 154</th>\n",
              "      <th>Unnamed: 155</th>\n",
              "      <th>Unnamed: 156</th>\n",
              "      <th>2021(p)</th>\n",
              "      <th>Unnamed: 158</th>\n",
              "      <th>Unnamed: 159</th>\n",
              "      <th>Unnamed: 160</th>\n",
              "      <th>Unnamed: 161</th>\n",
              "      <th>Unnamed: 162</th>\n",
              "      <th>Unnamed: 163</th>\n",
              "      <th>Unnamed: 164</th>\n",
              "    </tr>\n",
              "  </thead>\n",
              "  <tbody>\n",
              "    <tr>\n",
              "      <th>0</th>\n",
              "      <td>0</td>\n",
              "      <td>Ene</td>\n",
              "      <td>Feb</td>\n",
              "      <td>Mar</td>\n",
              "      <td>Abr</td>\n",
              "      <td>May</td>\n",
              "      <td>Jun</td>\n",
              "      <td>Jul</td>\n",
              "      <td>Ago</td>\n",
              "      <td>Sep</td>\n",
              "      <td>Oct</td>\n",
              "      <td>Nov</td>\n",
              "      <td>Dic</td>\n",
              "      <td>Ene</td>\n",
              "      <td>Feb</td>\n",
              "      <td>Mar</td>\n",
              "      <td>Abr</td>\n",
              "      <td>May</td>\n",
              "      <td>Jun</td>\n",
              "      <td>Jul</td>\n",
              "      <td>Ago</td>\n",
              "      <td>Sep</td>\n",
              "      <td>Oct</td>\n",
              "      <td>Nov</td>\n",
              "      <td>Dic</td>\n",
              "      <td>Ene</td>\n",
              "      <td>Feb</td>\n",
              "      <td>Mar</td>\n",
              "      <td>Abr</td>\n",
              "      <td>May</td>\n",
              "      <td>Jun</td>\n",
              "      <td>Jul</td>\n",
              "      <td>Ago</td>\n",
              "      <td>Sep</td>\n",
              "      <td>Oct</td>\n",
              "      <td>Nov</td>\n",
              "      <td>Dic</td>\n",
              "      <td>Ene</td>\n",
              "      <td>Feb</td>\n",
              "      <td>Mar</td>\n",
              "      <td>...</td>\n",
              "      <td>May</td>\n",
              "      <td>Jun</td>\n",
              "      <td>Jul</td>\n",
              "      <td>Ago</td>\n",
              "      <td>Sep</td>\n",
              "      <td>Oct</td>\n",
              "      <td>Nov</td>\n",
              "      <td>Dic</td>\n",
              "      <td>Ene</td>\n",
              "      <td>Feb</td>\n",
              "      <td>Mar</td>\n",
              "      <td>Abr</td>\n",
              "      <td>May</td>\n",
              "      <td>Jun</td>\n",
              "      <td>Jul</td>\n",
              "      <td>Ago</td>\n",
              "      <td>Sep</td>\n",
              "      <td>Oct</td>\n",
              "      <td>Nov</td>\n",
              "      <td>Dic</td>\n",
              "      <td>Ene</td>\n",
              "      <td>Feb</td>\n",
              "      <td>Mar</td>\n",
              "      <td>Abr</td>\n",
              "      <td>May</td>\n",
              "      <td>Jun</td>\n",
              "      <td>Jul</td>\n",
              "      <td>Ago</td>\n",
              "      <td>Sep</td>\n",
              "      <td>Oct</td>\n",
              "      <td>Nov</td>\n",
              "      <td>Dic</td>\n",
              "      <td>Ene</td>\n",
              "      <td>Feb</td>\n",
              "      <td>Mar</td>\n",
              "      <td>Abr</td>\n",
              "      <td>May</td>\n",
              "      <td>Jun</td>\n",
              "      <td>Jul</td>\n",
              "      <td>Ago</td>\n",
              "    </tr>\n",
              "    <tr>\n",
              "      <th>1</th>\n",
              "      <td>INDICE GENERAL</td>\n",
              "      <td>173.165</td>\n",
              "      <td>167.186</td>\n",
              "      <td>190.983</td>\n",
              "      <td>207.587</td>\n",
              "      <td>206.503</td>\n",
              "      <td>204.062</td>\n",
              "      <td>201.218</td>\n",
              "      <td>193.403</td>\n",
              "      <td>202.011</td>\n",
              "      <td>207.98</td>\n",
              "      <td>199.808</td>\n",
              "      <td>198.816</td>\n",
              "      <td>178.47</td>\n",
              "      <td>173.294</td>\n",
              "      <td>195.237</td>\n",
              "      <td>211.581</td>\n",
              "      <td>210.363</td>\n",
              "      <td>209.806</td>\n",
              "      <td>206.191</td>\n",
              "      <td>199.9</td>\n",
              "      <td>212.185</td>\n",
              "      <td>216.774</td>\n",
              "      <td>209.699</td>\n",
              "      <td>208.202</td>\n",
              "      <td>183.889</td>\n",
              "      <td>177.813</td>\n",
              "      <td>202.915</td>\n",
              "      <td>216.94</td>\n",
              "      <td>219.621</td>\n",
              "      <td>219.081</td>\n",
              "      <td>211.361</td>\n",
              "      <td>206.225</td>\n",
              "      <td>223.631</td>\n",
              "      <td>228.558</td>\n",
              "      <td>220.018</td>\n",
              "      <td>221.999</td>\n",
              "      <td>197.77</td>\n",
              "      <td>190.959</td>\n",
              "      <td>210.781</td>\n",
              "      <td>...</td>\n",
              "      <td>311.481</td>\n",
              "      <td>316.978</td>\n",
              "      <td>303.283</td>\n",
              "      <td>313.251</td>\n",
              "      <td>332.875</td>\n",
              "      <td>340.116</td>\n",
              "      <td>324.8</td>\n",
              "      <td>330.364</td>\n",
              "      <td>293.122</td>\n",
              "      <td>275.729</td>\n",
              "      <td>310.469</td>\n",
              "      <td>325.198</td>\n",
              "      <td>319.066</td>\n",
              "      <td>327.553</td>\n",
              "      <td>312.055</td>\n",
              "      <td>318.072</td>\n",
              "      <td>340.411</td>\n",
              "      <td>347.506</td>\n",
              "      <td>315.463</td>\n",
              "      <td>342.838</td>\n",
              "      <td>304.943</td>\n",
              "      <td>277.363</td>\n",
              "      <td>297.958</td>\n",
              "      <td>234.039</td>\n",
              "      <td>231.828</td>\n",
              "      <td>266.589</td>\n",
              "      <td>268.308</td>\n",
              "      <td>274.025</td>\n",
              "      <td>311.836</td>\n",
              "      <td>346.259</td>\n",
              "      <td>336.104</td>\n",
              "      <td>340.282</td>\n",
              "      <td>291.354</td>\n",
              "      <td>266.681</td>\n",
              "      <td>312.66</td>\n",
              "      <td>303.708</td>\n",
              "      <td>290.251</td>\n",
              "      <td>298.984</td>\n",
              "      <td>299.651</td>\n",
              "      <td>300.252</td>\n",
              "    </tr>\n",
              "  </tbody>\n",
              "</table>\n",
              "<p>2 rows × 165 columns</p>\n",
              "</div>"
            ],
            "text/plain": [
              "  ACTIVIDAD ECONÓMICA     2008        0  ... Unnamed: 162 Unnamed: 163 Unnamed: 164\n",
              "0                   0      Ene      Feb  ...          Jun          Jul          Ago\n",
              "1      INDICE GENERAL  173.165  167.186  ...      298.984      299.651      300.252\n",
              "\n",
              "[2 rows x 165 columns]"
            ]
          },
          "metadata": {},
          "execution_count": 33
        }
      ]
    },
    {
      "cell_type": "code",
      "metadata": {
        "id": "3u_9FltnVAzq"
      },
      "source": [
        "df.set_index(df.iloc[:,0],inplace=True)\n",
        "df = df.iloc[:,1:] # eliminar primera columna y ultimas 3 filas\n",
        "df = df.T.reset_index()"
      ],
      "execution_count": 34,
      "outputs": []
    },
    {
      "cell_type": "code",
      "metadata": {
        "id": "mz4BjQln522j",
        "outputId": "bcd7691e-692f-467d-e3e9-10de73383ded",
        "colab": {
          "base_uri": "https://localhost:8080/",
          "height": 0
        }
      },
      "source": [
        "df"
      ],
      "execution_count": 35,
      "outputs": [
        {
          "output_type": "execute_result",
          "data": {
            "text/html": [
              "<div>\n",
              "<style scoped>\n",
              "    .dataframe tbody tr th:only-of-type {\n",
              "        vertical-align: middle;\n",
              "    }\n",
              "\n",
              "    .dataframe tbody tr th {\n",
              "        vertical-align: top;\n",
              "    }\n",
              "\n",
              "    .dataframe thead th {\n",
              "        text-align: right;\n",
              "    }\n",
              "</style>\n",
              "<table border=\"1\" class=\"dataframe\">\n",
              "  <thead>\n",
              "    <tr style=\"text-align: right;\">\n",
              "      <th>ACTIVIDAD ECONÓMICA</th>\n",
              "      <th>index</th>\n",
              "      <th>0</th>\n",
              "      <th>INDICE GENERAL</th>\n",
              "      <th>AGRICULTURA, PECUARIO, SILVICULTURA, CAZA Y PESCA</th>\n",
              "      <th>PETRÓLEO CRUDO Y GAS NATURAL</th>\n",
              "      <th>MINERALES METÁLICOS Y NO METÁLICOS</th>\n",
              "      <th>INDUSTRIA MANUFACTURERA</th>\n",
              "      <th>- Alimentos, Bebidas y Tabaco</th>\n",
              "      <th>- Otras Industrias</th>\n",
              "      <th>ELECTRICIDAD, GAS Y AGUA</th>\n",
              "      <th>CONSTRUCCIÓN</th>\n",
              "      <th>COMERCIO</th>\n",
              "      <th>TRANSPORTE Y ALMACENAMIENTO</th>\n",
              "      <th>COMUNICACIONES</th>\n",
              "      <th>ESTABLECIMIENTOS FINANCIEROS, SEGUROS, BIENES INMUEBLES</th>\n",
              "      <th>- Servicios Financieros</th>\n",
              "      <th>- Servicios a las Empresas</th>\n",
              "      <th>- Propiedad de Vivienda</th>\n",
              "      <th>SERVICIOS DE LA ADMINISTRACIÓN PÚBLICA</th>\n",
              "      <th>OTROS SERVICIOS(1)</th>\n",
              "      <th>Servicios Bancarios Imputados</th>\n",
              "      <th>Derechos s/Importaciones, IVAnd, IT y otros Imp. Indirectos</th>\n",
              "      <th>Fuente: INSTITUTO NACIONAL DE ESTADÍSTICA</th>\n",
              "      <th>(p): Preliminar</th>\n",
              "      <th>(1): Incluye las actividades de Restaurantes y Hoteles asi como Servicios Comunales, Sociales, Personales y Domestico</th>\n",
              "    </tr>\n",
              "  </thead>\n",
              "  <tbody>\n",
              "    <tr>\n",
              "      <th>0</th>\n",
              "      <td>2008</td>\n",
              "      <td>Ene</td>\n",
              "      <td>173.165</td>\n",
              "      <td>114.154</td>\n",
              "      <td>302.075</td>\n",
              "      <td>175.222</td>\n",
              "      <td>177.093</td>\n",
              "      <td>204.664</td>\n",
              "      <td>154.174</td>\n",
              "      <td>224.204</td>\n",
              "      <td>114.988</td>\n",
              "      <td>144.207</td>\n",
              "      <td>172.283</td>\n",
              "      <td>505.42</td>\n",
              "      <td>204.491</td>\n",
              "      <td>416.422</td>\n",
              "      <td>208.743</td>\n",
              "      <td>141.913</td>\n",
              "      <td>159.254</td>\n",
              "      <td>169.094</td>\n",
              "      <td>406.774</td>\n",
              "      <td>232.087</td>\n",
              "      <td>NaN</td>\n",
              "      <td>NaN</td>\n",
              "      <td>NaN</td>\n",
              "    </tr>\n",
              "    <tr>\n",
              "      <th>1</th>\n",
              "      <td>0</td>\n",
              "      <td>Feb</td>\n",
              "      <td>167.186</td>\n",
              "      <td>133.013</td>\n",
              "      <td>272.682</td>\n",
              "      <td>174.546</td>\n",
              "      <td>159.27</td>\n",
              "      <td>207.216</td>\n",
              "      <td>119.412</td>\n",
              "      <td>181.517</td>\n",
              "      <td>84.7827</td>\n",
              "      <td>151.374</td>\n",
              "      <td>169.464</td>\n",
              "      <td>365.745</td>\n",
              "      <td>209.078</td>\n",
              "      <td>433.15</td>\n",
              "      <td>215.668</td>\n",
              "      <td>142.015</td>\n",
              "      <td>152.865</td>\n",
              "      <td>169.842</td>\n",
              "      <td>393.823</td>\n",
              "      <td>209.998</td>\n",
              "      <td>NaN</td>\n",
              "      <td>NaN</td>\n",
              "      <td>NaN</td>\n",
              "    </tr>\n",
              "    <tr>\n",
              "      <th>2</th>\n",
              "      <td>0.1</td>\n",
              "      <td>Mar</td>\n",
              "      <td>190.983</td>\n",
              "      <td>235.046</td>\n",
              "      <td>296.243</td>\n",
              "      <td>180.244</td>\n",
              "      <td>165.051</td>\n",
              "      <td>209.61</td>\n",
              "      <td>128.008</td>\n",
              "      <td>181.836</td>\n",
              "      <td>115.344</td>\n",
              "      <td>189.428</td>\n",
              "      <td>175.83</td>\n",
              "      <td>303.541</td>\n",
              "      <td>214.162</td>\n",
              "      <td>403.893</td>\n",
              "      <td>255.299</td>\n",
              "      <td>142.093</td>\n",
              "      <td>154.593</td>\n",
              "      <td>170.497</td>\n",
              "      <td>424.688</td>\n",
              "      <td>227.325</td>\n",
              "      <td>NaN</td>\n",
              "      <td>NaN</td>\n",
              "      <td>NaN</td>\n",
              "    </tr>\n",
              "    <tr>\n",
              "      <th>3</th>\n",
              "      <td>0.2</td>\n",
              "      <td>Abr</td>\n",
              "      <td>207.587</td>\n",
              "      <td>264.551</td>\n",
              "      <td>264.613</td>\n",
              "      <td>196.643</td>\n",
              "      <td>186.569</td>\n",
              "      <td>220.51</td>\n",
              "      <td>158.353</td>\n",
              "      <td>235.46</td>\n",
              "      <td>157.67</td>\n",
              "      <td>206.801</td>\n",
              "      <td>170.54</td>\n",
              "      <td>392.218</td>\n",
              "      <td>237.781</td>\n",
              "      <td>416.263</td>\n",
              "      <td>341.38</td>\n",
              "      <td>142.089</td>\n",
              "      <td>164.445</td>\n",
              "      <td>170.883</td>\n",
              "      <td>447.437</td>\n",
              "      <td>245.085</td>\n",
              "      <td>NaN</td>\n",
              "      <td>NaN</td>\n",
              "      <td>NaN</td>\n",
              "    </tr>\n",
              "    <tr>\n",
              "      <th>4</th>\n",
              "      <td>0.3</td>\n",
              "      <td>May</td>\n",
              "      <td>206.503</td>\n",
              "      <td>206.841</td>\n",
              "      <td>297.104</td>\n",
              "      <td>204.11</td>\n",
              "      <td>200.945</td>\n",
              "      <td>229.765</td>\n",
              "      <td>176.987</td>\n",
              "      <td>251.24</td>\n",
              "      <td>165.346</td>\n",
              "      <td>200.036</td>\n",
              "      <td>199.992</td>\n",
              "      <td>416.6</td>\n",
              "      <td>250.976</td>\n",
              "      <td>442.186</td>\n",
              "      <td>376.225</td>\n",
              "      <td>142.329</td>\n",
              "      <td>172.294</td>\n",
              "      <td>171.649</td>\n",
              "      <td>402.892</td>\n",
              "      <td>220.991</td>\n",
              "      <td>NaN</td>\n",
              "      <td>NaN</td>\n",
              "      <td>NaN</td>\n",
              "    </tr>\n",
              "    <tr>\n",
              "      <th>...</th>\n",
              "      <td>...</td>\n",
              "      <td>...</td>\n",
              "      <td>...</td>\n",
              "      <td>...</td>\n",
              "      <td>...</td>\n",
              "      <td>...</td>\n",
              "      <td>...</td>\n",
              "      <td>...</td>\n",
              "      <td>...</td>\n",
              "      <td>...</td>\n",
              "      <td>...</td>\n",
              "      <td>...</td>\n",
              "      <td>...</td>\n",
              "      <td>...</td>\n",
              "      <td>...</td>\n",
              "      <td>...</td>\n",
              "      <td>...</td>\n",
              "      <td>...</td>\n",
              "      <td>...</td>\n",
              "      <td>...</td>\n",
              "      <td>...</td>\n",
              "      <td>...</td>\n",
              "      <td>...</td>\n",
              "      <td>...</td>\n",
              "      <td>...</td>\n",
              "    </tr>\n",
              "    <tr>\n",
              "      <th>159</th>\n",
              "      <td>Unnamed: 160</td>\n",
              "      <td>Abr</td>\n",
              "      <td>303.708</td>\n",
              "      <td>423.414</td>\n",
              "      <td>272.721</td>\n",
              "      <td>243.052</td>\n",
              "      <td>285.815</td>\n",
              "      <td>327.673</td>\n",
              "      <td>251.018</td>\n",
              "      <td>445.311</td>\n",
              "      <td>310.128</td>\n",
              "      <td>274.447</td>\n",
              "      <td>293.225</td>\n",
              "      <td>637.953</td>\n",
              "      <td>389.54</td>\n",
              "      <td>1021.36</td>\n",
              "      <td>456.937</td>\n",
              "      <td>179.457</td>\n",
              "      <td>300.593</td>\n",
              "      <td>167.414</td>\n",
              "      <td>1034.54</td>\n",
              "      <td>313.381</td>\n",
              "      <td>NaN</td>\n",
              "      <td>NaN</td>\n",
              "      <td>NaN</td>\n",
              "    </tr>\n",
              "    <tr>\n",
              "      <th>160</th>\n",
              "      <td>Unnamed: 161</td>\n",
              "      <td>May</td>\n",
              "      <td>290.251</td>\n",
              "      <td>297.058</td>\n",
              "      <td>346.489</td>\n",
              "      <td>269.745</td>\n",
              "      <td>272.774</td>\n",
              "      <td>340.553</td>\n",
              "      <td>216.427</td>\n",
              "      <td>451.052</td>\n",
              "      <td>257.233</td>\n",
              "      <td>280.735</td>\n",
              "      <td>341.742</td>\n",
              "      <td>627.883</td>\n",
              "      <td>410.4</td>\n",
              "      <td>1140.2</td>\n",
              "      <td>464.942</td>\n",
              "      <td>177.758</td>\n",
              "      <td>298.891</td>\n",
              "      <td>153.331</td>\n",
              "      <td>1011.65</td>\n",
              "      <td>304.727</td>\n",
              "      <td>NaN</td>\n",
              "      <td>NaN</td>\n",
              "      <td>NaN</td>\n",
              "    </tr>\n",
              "    <tr>\n",
              "      <th>161</th>\n",
              "      <td>Unnamed: 162</td>\n",
              "      <td>Jun</td>\n",
              "      <td>298.984</td>\n",
              "      <td>320.499</td>\n",
              "      <td>355.394</td>\n",
              "      <td>244.343</td>\n",
              "      <td>257.771</td>\n",
              "      <td>309.162</td>\n",
              "      <td>215.048</td>\n",
              "      <td>415.141</td>\n",
              "      <td>318.026</td>\n",
              "      <td>363.852</td>\n",
              "      <td>321.314</td>\n",
              "      <td>515.451</td>\n",
              "      <td>410.377</td>\n",
              "      <td>1129.48</td>\n",
              "      <td>471.353</td>\n",
              "      <td>178.035</td>\n",
              "      <td>329.456</td>\n",
              "      <td>155.097</td>\n",
              "      <td>1005.8</td>\n",
              "      <td>302.26</td>\n",
              "      <td>NaN</td>\n",
              "      <td>NaN</td>\n",
              "      <td>NaN</td>\n",
              "    </tr>\n",
              "    <tr>\n",
              "      <th>162</th>\n",
              "      <td>Unnamed: 163</td>\n",
              "      <td>Jul</td>\n",
              "      <td>299.651</td>\n",
              "      <td>240.748</td>\n",
              "      <td>333.985</td>\n",
              "      <td>257.731</td>\n",
              "      <td>299.322</td>\n",
              "      <td>345.425</td>\n",
              "      <td>260.995</td>\n",
              "      <td>365.853</td>\n",
              "      <td>411.875</td>\n",
              "      <td>292.782</td>\n",
              "      <td>357.576</td>\n",
              "      <td>718.284</td>\n",
              "      <td>384.111</td>\n",
              "      <td>1005.72</td>\n",
              "      <td>393.051</td>\n",
              "      <td>202.083</td>\n",
              "      <td>340.386</td>\n",
              "      <td>185.561</td>\n",
              "      <td>1229.38</td>\n",
              "      <td>396.466</td>\n",
              "      <td>NaN</td>\n",
              "      <td>NaN</td>\n",
              "      <td>NaN</td>\n",
              "    </tr>\n",
              "    <tr>\n",
              "      <th>163</th>\n",
              "      <td>Unnamed: 164</td>\n",
              "      <td>Ago</td>\n",
              "      <td>300.252</td>\n",
              "      <td>227.859</td>\n",
              "      <td>322.736</td>\n",
              "      <td>233.167</td>\n",
              "      <td>305.428</td>\n",
              "      <td>366.129</td>\n",
              "      <td>254.966</td>\n",
              "      <td>395.431</td>\n",
              "      <td>468.309</td>\n",
              "      <td>267.022</td>\n",
              "      <td>363.477</td>\n",
              "      <td>709.971</td>\n",
              "      <td>344.533</td>\n",
              "      <td>849.014</td>\n",
              "      <td>332.159</td>\n",
              "      <td>205.241</td>\n",
              "      <td>337.387</td>\n",
              "      <td>209.138</td>\n",
              "      <td>1117.38</td>\n",
              "      <td>442.955</td>\n",
              "      <td>NaN</td>\n",
              "      <td>NaN</td>\n",
              "      <td>NaN</td>\n",
              "    </tr>\n",
              "  </tbody>\n",
              "</table>\n",
              "<p>164 rows × 25 columns</p>\n",
              "</div>"
            ],
            "text/plain": [
              "ACTIVIDAD ECONÓMICA         index  ... (1): Incluye las actividades de Restaurantes y Hoteles asi como Servicios Comunales, Sociales, Personales y Domestico\n",
              "0                            2008  ...                                                NaN                                                                   \n",
              "1                               0  ...                                                NaN                                                                   \n",
              "2                             0.1  ...                                                NaN                                                                   \n",
              "3                             0.2  ...                                                NaN                                                                   \n",
              "4                             0.3  ...                                                NaN                                                                   \n",
              "..                            ...  ...                                                ...                                                                   \n",
              "159                  Unnamed: 160  ...                                                NaN                                                                   \n",
              "160                  Unnamed: 161  ...                                                NaN                                                                   \n",
              "161                  Unnamed: 162  ...                                                NaN                                                                   \n",
              "162                  Unnamed: 163  ...                                                NaN                                                                   \n",
              "163                  Unnamed: 164  ...                                                NaN                                                                   \n",
              "\n",
              "[164 rows x 25 columns]"
            ]
          },
          "metadata": {},
          "execution_count": 35
        }
      ]
    },
    {
      "cell_type": "code",
      "metadata": {
        "id": "F4o4M3ypvo3f"
      },
      "source": [
        "# PARA EXTRAER AÑO DE COLUMNA INDEX\n",
        "df['index'] = df['index'].astype(str).str.replace('\\(p\\)','')\n",
        "df['index'] = df['index'].str.replace('^0.[0-9]','nan')      # reemplaza los numeros decimales regex que empiece por 0. y le siga cualquier num\n",
        "df['index'] = df['index'].str.replace('^0$','nan')    # reemplaza toda fila con 0 como unico digito\n",
        "df['index'] = pd.to_numeric(df['index'],errors='coerce').ffill().astype(int)"
      ],
      "execution_count": 36,
      "outputs": []
    },
    {
      "cell_type": "code",
      "metadata": {
        "id": "v7sdukvsRs16"
      },
      "source": [
        "df['fecha'] = df['index'].astype(str) +'-'+ df[0].str.lower().map(mes3) # columna fecha\n",
        "df.set_index('fecha',inplace=True)\n",
        "df.rename(columns={df.columns[2]:'Bolivia'},inplace=True)"
      ],
      "execution_count": 37,
      "outputs": []
    },
    {
      "cell_type": "code",
      "metadata": {
        "id": "LQ1zRqkIyq-c"
      },
      "source": [
        "imaela = imaela.merge(df['Bolivia'],how='left',left_index=True,right_index=True)"
      ],
      "execution_count": 38,
      "outputs": []
    },
    {
      "cell_type": "code",
      "metadata": {
        "id": "6I7hzo5PzbVu",
        "outputId": "61dd1dd2-1caf-4b1d-a0bd-863e840676a8",
        "colab": {
          "base_uri": "https://localhost:8080/",
          "height": 0
        }
      },
      "source": [
        "imaela"
      ],
      "execution_count": 39,
      "outputs": [
        {
          "output_type": "execute_result",
          "data": {
            "text/html": [
              "<div>\n",
              "<style scoped>\n",
              "    .dataframe tbody tr th:only-of-type {\n",
              "        vertical-align: middle;\n",
              "    }\n",
              "\n",
              "    .dataframe tbody tr th {\n",
              "        vertical-align: top;\n",
              "    }\n",
              "\n",
              "    .dataframe thead th {\n",
              "        text-align: right;\n",
              "    }\n",
              "</style>\n",
              "<table border=\"1\" class=\"dataframe\">\n",
              "  <thead>\n",
              "    <tr style=\"text-align: right;\">\n",
              "      <th></th>\n",
              "      <th>Costa Rica</th>\n",
              "      <th>El Salvador</th>\n",
              "      <th>Guatemala</th>\n",
              "      <th>Honduras</th>\n",
              "      <th>Nicaragua</th>\n",
              "      <th>República Dominicana</th>\n",
              "      <th>Panamá</th>\n",
              "      <th>Argentina</th>\n",
              "      <th>Brasil</th>\n",
              "      <th>México</th>\n",
              "      <th>Perú</th>\n",
              "      <th>Chile</th>\n",
              "      <th>Ecuador</th>\n",
              "      <th>Bolivia</th>\n",
              "    </tr>\n",
              "  </thead>\n",
              "  <tbody>\n",
              "    <tr>\n",
              "      <th>2020-Enero</th>\n",
              "      <td>104.13</td>\n",
              "      <td>110.91</td>\n",
              "      <td>127.40</td>\n",
              "      <td>243.14</td>\n",
              "      <td>152.88</td>\n",
              "      <td>179.04</td>\n",
              "      <td>345.73</td>\n",
              "      <td>132.28</td>\n",
              "      <td>133.72</td>\n",
              "      <td>NaN</td>\n",
              "      <td>162.69</td>\n",
              "      <td>109.984</td>\n",
              "      <td>166.081</td>\n",
              "      <td>304.943</td>\n",
              "    </tr>\n",
              "    <tr>\n",
              "      <th>2020-Febrero</th>\n",
              "      <td>105.17</td>\n",
              "      <td>109.93</td>\n",
              "      <td>125.54</td>\n",
              "      <td>242.59</td>\n",
              "      <td>144.12</td>\n",
              "      <td>183.24</td>\n",
              "      <td>338.73</td>\n",
              "      <td>129.75</td>\n",
              "      <td>134.77</td>\n",
              "      <td>NaN</td>\n",
              "      <td>161.66</td>\n",
              "      <td>106.315</td>\n",
              "      <td>151.878</td>\n",
              "      <td>277.363</td>\n",
              "    </tr>\n",
              "    <tr>\n",
              "      <th>2020-Marzo</th>\n",
              "      <td>103.55</td>\n",
              "      <td>105.58</td>\n",
              "      <td>121.36</td>\n",
              "      <td>218.14</td>\n",
              "      <td>140.05</td>\n",
              "      <td>165.67</td>\n",
              "      <td>364.78</td>\n",
              "      <td>129.10</td>\n",
              "      <td>136.84</td>\n",
              "      <td>NaN</td>\n",
              "      <td>138.05</td>\n",
              "      <td>113.427</td>\n",
              "      <td>142.951</td>\n",
              "      <td>297.958</td>\n",
              "    </tr>\n",
              "    <tr>\n",
              "      <th>2020-Abril</th>\n",
              "      <td>90.88</td>\n",
              "      <td>88.31</td>\n",
              "      <td>112.77</td>\n",
              "      <td>186.13</td>\n",
              "      <td>124.66</td>\n",
              "      <td>125.35</td>\n",
              "      <td>247.19</td>\n",
              "      <td>111.90</td>\n",
              "      <td>119.25</td>\n",
              "      <td>NaN</td>\n",
              "      <td>103.81</td>\n",
              "      <td>98.4788</td>\n",
              "      <td>101.926</td>\n",
              "      <td>234.039</td>\n",
              "    </tr>\n",
              "    <tr>\n",
              "      <th>2020-Mayo</th>\n",
              "      <td>93.09</td>\n",
              "      <td>89.77</td>\n",
              "      <td>111.25</td>\n",
              "      <td>188.45</td>\n",
              "      <td>133.85</td>\n",
              "      <td>158.43</td>\n",
              "      <td>228.30</td>\n",
              "      <td>131.29</td>\n",
              "      <td>119.91</td>\n",
              "      <td>NaN</td>\n",
              "      <td>119.30</td>\n",
              "      <td>97.793</td>\n",
              "      <td>117.005</td>\n",
              "      <td>231.828</td>\n",
              "    </tr>\n",
              "    <tr>\n",
              "      <th>2020-Junio</th>\n",
              "      <td>97.03</td>\n",
              "      <td>97.05</td>\n",
              "      <td>111.06</td>\n",
              "      <td>208.19</td>\n",
              "      <td>128.82</td>\n",
              "      <td>160.89</td>\n",
              "      <td>243.01</td>\n",
              "      <td>133.30</td>\n",
              "      <td>126.29</td>\n",
              "      <td>NaN</td>\n",
              "      <td>140.35</td>\n",
              "      <td>96.1215</td>\n",
              "      <td>132.598</td>\n",
              "      <td>266.589</td>\n",
              "    </tr>\n",
              "    <tr>\n",
              "      <th>2020-Julio</th>\n",
              "      <td>92.91</td>\n",
              "      <td>96.17</td>\n",
              "      <td>117.42</td>\n",
              "      <td>208.83</td>\n",
              "      <td>147.54</td>\n",
              "      <td>162.35</td>\n",
              "      <td>241.95</td>\n",
              "      <td>128.19</td>\n",
              "      <td>135.84</td>\n",
              "      <td>NaN</td>\n",
              "      <td>154.69</td>\n",
              "      <td>96.1001</td>\n",
              "      <td>141.261</td>\n",
              "      <td>268.308</td>\n",
              "    </tr>\n",
              "    <tr>\n",
              "      <th>2020-Agosto</th>\n",
              "      <td>93.35</td>\n",
              "      <td>102.54</td>\n",
              "      <td>120.25</td>\n",
              "      <td>225.70</td>\n",
              "      <td>138.51</td>\n",
              "      <td>169.07</td>\n",
              "      <td>251.35</td>\n",
              "      <td>125.17</td>\n",
              "      <td>135.51</td>\n",
              "      <td>NaN</td>\n",
              "      <td>157.66</td>\n",
              "      <td>101.066</td>\n",
              "      <td>143.837</td>\n",
              "      <td>274.025</td>\n",
              "    </tr>\n",
              "    <tr>\n",
              "      <th>2020-Septiembre</th>\n",
              "      <td>97.99</td>\n",
              "      <td>106.35</td>\n",
              "      <td>121.45</td>\n",
              "      <td>230.41</td>\n",
              "      <td>140.01</td>\n",
              "      <td>163.68</td>\n",
              "      <td>268.97</td>\n",
              "      <td>126.60</td>\n",
              "      <td>137.12</td>\n",
              "      <td>NaN</td>\n",
              "      <td>162.60</td>\n",
              "      <td>103.167</td>\n",
              "      <td>152.052</td>\n",
              "      <td>311.836</td>\n",
              "    </tr>\n",
              "    <tr>\n",
              "      <th>2020-Octubre</th>\n",
              "      <td>102.09</td>\n",
              "      <td>106.56</td>\n",
              "      <td>125.72</td>\n",
              "      <td>249.68</td>\n",
              "      <td>148.50</td>\n",
              "      <td>175.09</td>\n",
              "      <td>312.12</td>\n",
              "      <td>131.73</td>\n",
              "      <td>139.74</td>\n",
              "      <td>NaN</td>\n",
              "      <td>171.17</td>\n",
              "      <td>108.477</td>\n",
              "      <td>156.349</td>\n",
              "      <td>346.259</td>\n",
              "    </tr>\n",
              "    <tr>\n",
              "      <th>2020-Noviembre</th>\n",
              "      <td>105.13</td>\n",
              "      <td>111.91</td>\n",
              "      <td>128.86</td>\n",
              "      <td>218.99</td>\n",
              "      <td>148.79</td>\n",
              "      <td>181.13</td>\n",
              "      <td>300.21</td>\n",
              "      <td>132.97</td>\n",
              "      <td>138.10</td>\n",
              "      <td>NaN</td>\n",
              "      <td>171.03</td>\n",
              "      <td>114.596</td>\n",
              "      <td>152.31</td>\n",
              "      <td>336.104</td>\n",
              "    </tr>\n",
              "    <tr>\n",
              "      <th>2020-Diciembre</th>\n",
              "      <td>110.97</td>\n",
              "      <td>122.31</td>\n",
              "      <td>136.24</td>\n",
              "      <td>257.91</td>\n",
              "      <td>167.23</td>\n",
              "      <td>192.02</td>\n",
              "      <td>316.10</td>\n",
              "      <td>132.42</td>\n",
              "      <td>139.41</td>\n",
              "      <td>NaN</td>\n",
              "      <td>191.16</td>\n",
              "      <td>122.862</td>\n",
              "      <td>171.892</td>\n",
              "      <td>340.282</td>\n",
              "    </tr>\n",
              "    <tr>\n",
              "      <th>2021-Enero</th>\n",
              "      <td>97.54</td>\n",
              "      <td>109.03</td>\n",
              "      <td>129.22</td>\n",
              "      <td>230.06</td>\n",
              "      <td>154.73</td>\n",
              "      <td>175.85</td>\n",
              "      <td>297.55</td>\n",
              "      <td>129.49</td>\n",
              "      <td>132.03</td>\n",
              "      <td>105.38</td>\n",
              "      <td>161.46</td>\n",
              "      <td>106.849</td>\n",
              "      <td>151.916</td>\n",
              "      <td>291.354</td>\n",
              "    </tr>\n",
              "    <tr>\n",
              "      <th>2021-Febrero</th>\n",
              "      <td>99.94</td>\n",
              "      <td>108.59</td>\n",
              "      <td>128.60</td>\n",
              "      <td>236.15</td>\n",
              "      <td>147.44</td>\n",
              "      <td>185.33</td>\n",
              "      <td>310.85</td>\n",
              "      <td>126.69</td>\n",
              "      <td>134.80</td>\n",
              "      <td>102.64</td>\n",
              "      <td>156.11</td>\n",
              "      <td>104.313</td>\n",
              "      <td>144.54</td>\n",
              "      <td>266.681</td>\n",
              "    </tr>\n",
              "    <tr>\n",
              "      <th>2021-Marzo</th>\n",
              "      <td>107.64</td>\n",
              "      <td>114.86</td>\n",
              "      <td>133.51</td>\n",
              "      <td>247.84</td>\n",
              "      <td>151.38</td>\n",
              "      <td>183.29</td>\n",
              "      <td>350.15</td>\n",
              "      <td>146.29</td>\n",
              "      <td>144.06</td>\n",
              "      <td>111.47</td>\n",
              "      <td>165.72</td>\n",
              "      <td>120.567</td>\n",
              "      <td>162.381</td>\n",
              "      <td>312.66</td>\n",
              "    </tr>\n",
              "    <tr>\n",
              "      <th>2021-Abril</th>\n",
              "      <td>102.45</td>\n",
              "      <td>110.85</td>\n",
              "      <td>129.97</td>\n",
              "      <td>234.59</td>\n",
              "      <td>144.24</td>\n",
              "      <td>184.45</td>\n",
              "      <td>313.41</td>\n",
              "      <td>144.97</td>\n",
              "      <td>138.91</td>\n",
              "      <td>107.93</td>\n",
              "      <td>165.51</td>\n",
              "      <td>112.958</td>\n",
              "      <td>159.056</td>\n",
              "      <td>303.708</td>\n",
              "    </tr>\n",
              "    <tr>\n",
              "      <th>2021-Mayo</th>\n",
              "      <td>105.50</td>\n",
              "      <td>114.56</td>\n",
              "      <td>129.29</td>\n",
              "      <td>242.40</td>\n",
              "      <td>156.13</td>\n",
              "      <td>192.04</td>\n",
              "      <td>322.65</td>\n",
              "      <td>150.20</td>\n",
              "      <td>136.85</td>\n",
              "      <td>111.96</td>\n",
              "      <td>176.69</td>\n",
              "      <td>116.504</td>\n",
              "      <td>150.912</td>\n",
              "      <td>290.251</td>\n",
              "    </tr>\n",
              "    <tr>\n",
              "      <th>2021-Junio</th>\n",
              "      <td>105.86</td>\n",
              "      <td>114.35</td>\n",
              "      <td>126.28</td>\n",
              "      <td>248.26</td>\n",
              "      <td>151.75</td>\n",
              "      <td>181.27</td>\n",
              "      <td>323.23</td>\n",
              "      <td>148.82</td>\n",
              "      <td>137.46</td>\n",
              "      <td>111.11</td>\n",
              "      <td>173.53</td>\n",
              "      <td>115.919</td>\n",
              "      <td>153.752</td>\n",
              "      <td>298.984</td>\n",
              "    </tr>\n",
              "    <tr>\n",
              "      <th>2021-Julio</th>\n",
              "      <td>108.22</td>\n",
              "      <td>109.75</td>\n",
              "      <td>130.95</td>\n",
              "      <td>241.80</td>\n",
              "      <td>160.41</td>\n",
              "      <td>181.92</td>\n",
              "      <td>349.96</td>\n",
              "      <td>143.19</td>\n",
              "      <td>143.28</td>\n",
              "      <td>109.86</td>\n",
              "      <td>174.64</td>\n",
              "      <td>113.443</td>\n",
              "      <td>168.483</td>\n",
              "      <td>299.651</td>\n",
              "    </tr>\n",
              "    <tr>\n",
              "      <th>2021-Agosto</th>\n",
              "      <td>105.56</td>\n",
              "      <td>112.04</td>\n",
              "      <td>130.12</td>\n",
              "      <td>256.38</td>\n",
              "      <td>151.80</td>\n",
              "      <td>188.78</td>\n",
              "      <td>322.86</td>\n",
              "      <td>141.20</td>\n",
              "      <td>141.94</td>\n",
              "      <td>107.14</td>\n",
              "      <td>176.29</td>\n",
              "      <td>120.219</td>\n",
              "      <td>168.508</td>\n",
              "      <td>300.252</td>\n",
              "    </tr>\n",
              "    <tr>\n",
              "      <th>2021-Septiembre</th>\n",
              "      <td>109.03</td>\n",
              "      <td>112.85</td>\n",
              "      <td>129.06</td>\n",
              "      <td>251.03</td>\n",
              "      <td>147.61</td>\n",
              "      <td>181.03</td>\n",
              "      <td>317.43</td>\n",
              "      <td>141.26</td>\n",
              "      <td>139.21</td>\n",
              "      <td>104.18</td>\n",
              "      <td>178.40</td>\n",
              "      <td>118.388</td>\n",
              "      <td>173.195</td>\n",
              "      <td>NaN</td>\n",
              "    </tr>\n",
              "    <tr>\n",
              "      <th>2021-Octubre</th>\n",
              "      <td>NaN</td>\n",
              "      <td>NaN</td>\n",
              "      <td>NaN</td>\n",
              "      <td>NaN</td>\n",
              "      <td>NaN</td>\n",
              "      <td>192.16</td>\n",
              "      <td>NaN</td>\n",
              "      <td>NaN</td>\n",
              "      <td>NaN</td>\n",
              "      <td>NaN</td>\n",
              "      <td>NaN</td>\n",
              "      <td>124.696</td>\n",
              "      <td></td>\n",
              "      <td>NaN</td>\n",
              "    </tr>\n",
              "  </tbody>\n",
              "</table>\n",
              "</div>"
            ],
            "text/plain": [
              "                 Costa Rica  El Salvador  Guatemala  ...    Chile  Ecuador  Bolivia\n",
              "2020-Enero           104.13       110.91     127.40  ...  109.984  166.081  304.943\n",
              "2020-Febrero         105.17       109.93     125.54  ...  106.315  151.878  277.363\n",
              "2020-Marzo           103.55       105.58     121.36  ...  113.427  142.951  297.958\n",
              "2020-Abril            90.88        88.31     112.77  ...  98.4788  101.926  234.039\n",
              "2020-Mayo             93.09        89.77     111.25  ...   97.793  117.005  231.828\n",
              "2020-Junio            97.03        97.05     111.06  ...  96.1215  132.598  266.589\n",
              "2020-Julio            92.91        96.17     117.42  ...  96.1001  141.261  268.308\n",
              "2020-Agosto           93.35       102.54     120.25  ...  101.066  143.837  274.025\n",
              "2020-Septiembre       97.99       106.35     121.45  ...  103.167  152.052  311.836\n",
              "2020-Octubre         102.09       106.56     125.72  ...  108.477  156.349  346.259\n",
              "2020-Noviembre       105.13       111.91     128.86  ...  114.596   152.31  336.104\n",
              "2020-Diciembre       110.97       122.31     136.24  ...  122.862  171.892  340.282\n",
              "2021-Enero            97.54       109.03     129.22  ...  106.849  151.916  291.354\n",
              "2021-Febrero          99.94       108.59     128.60  ...  104.313   144.54  266.681\n",
              "2021-Marzo           107.64       114.86     133.51  ...  120.567  162.381   312.66\n",
              "2021-Abril           102.45       110.85     129.97  ...  112.958  159.056  303.708\n",
              "2021-Mayo            105.50       114.56     129.29  ...  116.504  150.912  290.251\n",
              "2021-Junio           105.86       114.35     126.28  ...  115.919  153.752  298.984\n",
              "2021-Julio           108.22       109.75     130.95  ...  113.443  168.483  299.651\n",
              "2021-Agosto          105.56       112.04     130.12  ...  120.219  168.508  300.252\n",
              "2021-Septiembre      109.03       112.85     129.06  ...  118.388  173.195      NaN\n",
              "2021-Octubre            NaN          NaN        NaN  ...  124.696               NaN\n",
              "\n",
              "[22 rows x 14 columns]"
            ]
          },
          "metadata": {},
          "execution_count": 39
        }
      ]
    },
    {
      "cell_type": "markdown",
      "metadata": {
        "id": "RvPeziE4yKSp"
      },
      "source": [
        "## **El Salvador**"
      ]
    },
    {
      "cell_type": "markdown",
      "metadata": {
        "id": "Wh_pe3gzyKn7"
      },
      "source": [
        "#### Publicaciones disponibles las fechas:\n",
        " \n",
        "3. >   30 Nov\n",
        "4. >   23 Dic\n",
        "5. >   31 Ene"
      ]
    },
    {
      "cell_type": "code",
      "metadata": {
        "id": "8alkW5c2hy9Y"
      },
      "source": [
        "from selenium import webdriver\n",
        "pagina = 'https://www.bcr.gob.sv/bcrsite/?cdr=174&lang=es'"
      ],
      "execution_count": 40,
      "outputs": []
    },
    {
      "cell_type": "code",
      "metadata": {
        "id": "NWamVXLxyc0M"
      },
      "source": [
        "##### **Otra forma de selenium**\n",
        "chrome_options = webdriver.ChromeOptions()\n",
        "chrome_options.add_argument('--headless')\n",
        "chrome_options.add_argument('--no-sandbox')\n",
        "chrome_options.add_argument('--disable-dev-shm-usage')\n",
        "wd = webdriver.Chrome('chromedriver',options=chrome_options)\n",
        "wd.get(pagina)"
      ],
      "execution_count": 41,
      "outputs": []
    },
    {
      "cell_type": "code",
      "metadata": {
        "id": "9px3ggN5QDEO"
      },
      "source": [
        " #BC El Salvador\n",
        "#wd.get(pagina)\n",
        "\n",
        "# Clicks pertinentes para llegar a la tabla con indices imae SV\n",
        "wd.find_element(By.CLASS_NAME,'linkBtnNaranja').click() # ejecutar consulta"
      ],
      "execution_count": 42,
      "outputs": []
    },
    {
      "cell_type": "code",
      "metadata": {
        "id": "5gGn-qhWeWkA"
      },
      "source": [
        "# PARA EXTRAER LOS VALORES DE LOS INDICES\n",
        "\n",
        "tr = wd.find_element(By.ID,'tbl_setValores')\n",
        "data = tr.find_element(By.TAG_NAME,'tr')\n",
        "indices_salvador = pd.to_numeric(data.text.split(' ')) \n",
        "\n",
        "\n",
        "# PARA EXTRAER LAS FECHAS PARA EL MERGE\n",
        "soupsv = BeautifulSoup(wd.page_source,'html.parser')\n",
        "soupsv\n",
        "anios_sv = soupsv.find_all('td', style='text-align:center')\n",
        "mes_sv = soupsv.find_all('center')\n",
        "\n",
        "fecha1 = [anios_sv[i].text for i in range(len(anios_sv))] # lista con años \n",
        "fecha2 = [mes_sv[i].text.replace(' ','')[:3] for i in range(1,len(mes_sv))] # lista con meses en formato mmm\n",
        "\n",
        "fecha=[]\n",
        "for i in fecha1:\n",
        "  for j in range(1,13):\n",
        "    fecha.append(i + \"-\" + meses_dict[j])"
      ],
      "execution_count": 43,
      "outputs": []
    },
    {
      "cell_type": "code",
      "metadata": {
        "colab": {
          "base_uri": "https://localhost:8080/",
          "height": 0
        },
        "id": "rSf17gXWVPDm",
        "outputId": "04f39647-bac1-42eb-c0fd-db8b17615f9a"
      },
      "source": [
        "# CREAR DF\n",
        "elsv = pd.DataFrame(index = fecha,columns=['sv'])\n",
        "for i in range(len(indices_salvador)):\n",
        "  elsv.sv[i] = indices_salvador[i]\n",
        "\n",
        "imaela['El Salvador'] = elsv.loc[imaela.index] # reemplazar valor en la tabla imaela\n",
        "\n",
        "elsv.loc[imaela.index][-3:]"
      ],
      "execution_count": 44,
      "outputs": [
        {
          "output_type": "execute_result",
          "data": {
            "text/html": [
              "<div>\n",
              "<style scoped>\n",
              "    .dataframe tbody tr th:only-of-type {\n",
              "        vertical-align: middle;\n",
              "    }\n",
              "\n",
              "    .dataframe tbody tr th {\n",
              "        vertical-align: top;\n",
              "    }\n",
              "\n",
              "    .dataframe thead th {\n",
              "        text-align: right;\n",
              "    }\n",
              "</style>\n",
              "<table border=\"1\" class=\"dataframe\">\n",
              "  <thead>\n",
              "    <tr style=\"text-align: right;\">\n",
              "      <th></th>\n",
              "      <th>sv</th>\n",
              "    </tr>\n",
              "  </thead>\n",
              "  <tbody>\n",
              "    <tr>\n",
              "      <th>2021-Agosto</th>\n",
              "      <td>112.04</td>\n",
              "    </tr>\n",
              "    <tr>\n",
              "      <th>2021-Septiembre</th>\n",
              "      <td>112.85</td>\n",
              "    </tr>\n",
              "    <tr>\n",
              "      <th>2021-Octubre</th>\n",
              "      <td>NaN</td>\n",
              "    </tr>\n",
              "  </tbody>\n",
              "</table>\n",
              "</div>"
            ],
            "text/plain": [
              "                     sv\n",
              "2021-Agosto      112.04\n",
              "2021-Septiembre  112.85\n",
              "2021-Octubre        NaN"
            ]
          },
          "metadata": {},
          "execution_count": 44
        }
      ]
    },
    {
      "cell_type": "markdown",
      "metadata": {
        "id": "MkoUi_tal0ST"
      },
      "source": [
        "### **Paraguay**"
      ]
    },
    {
      "cell_type": "code",
      "metadata": {
        "id": "vVlkRWfZIPOT"
      },
      "source": [
        "url = 'https://www.bcp.gov.py/indicador-mensual-de-actividad-economica-del-paraguay-imaep-i471'\n",
        "urlpy = 'https://www.bcp.gov.py/anexo-estadistico-del-informe-economico-i365'\n",
        "#the URL where you are requesting at\n",
        "req = urllib2.Request(url=urlpy, headers=header) \n",
        "page = urllib2.urlopen(req).read()"
      ],
      "execution_count": 45,
      "outputs": []
    },
    {
      "cell_type": "code",
      "metadata": {
        "id": "OHArZO25IcoC",
        "colab": {
          "base_uri": "https://localhost:8080/"
        },
        "outputId": "a090ea82-a851-4d9a-af4a-8dc25fd042ff"
      },
      "source": [
        "souppy = BeautifulSoup(page,'lxml')\n",
        "links = [a['href'] for a in souppy.select(\"a[href*=.xlsx]\")] # extraemos links que contengan 2021 \n",
        " # ultimos link disponibles\n",
        "links"
      ],
      "execution_count": 46,
      "outputs": [
        {
          "output_type": "execute_result",
          "data": {
            "text/plain": [
              "['userfiles/files/Anexo_Estad%C3%ADstico%20del%20Informe%20Econ%C3%B3mico_06_12_2021%20UV.xlsx']"
            ]
          },
          "metadata": {},
          "execution_count": 46
        }
      ]
    },
    {
      "cell_type": "code",
      "metadata": {
        "id": "0E0h9YIBnMNc"
      },
      "source": [
        "url2py = 'https://www.bcp.gov.py/' + links[0]\n",
        "req2 = requests.get(url2py, headers = header)  # nueva forma de descargar excel file de pagina de py"
      ],
      "execution_count": 47,
      "outputs": []
    },
    {
      "cell_type": "code",
      "metadata": {
        "id": "U1ymdV2Nnxqz"
      },
      "source": [
        "import datetime\n",
        "dfpy = pd.read_excel(req2.content,sheet_name='CUADRO 9',header=9).iloc[:-3,1:] # con limpieza iloc CUADRO 9 es IMAEP\n",
        "dfpy.rename(columns={dfpy.columns[1]:\"Paraguay\"},inplace=True)"
      ],
      "execution_count": 48,
      "outputs": []
    },
    {
      "cell_type": "code",
      "metadata": {
        "id": "LljSTskosyzQ"
      },
      "source": [
        "# FECHA COLUMNA\n",
        "dfpy['A'] = pd.DatetimeIndex(dfpy[dfpy.columns[0]]).year\n",
        "dfpy['M'] = pd.DatetimeIndex(dfpy[dfpy.columns[0]]).month.map(meses_dict)\n",
        "dfpy['fecha'] = dfpy.A.astype(str) + \"-\" + dfpy.M.astype(str)\n",
        "dfpy.set_index('fecha',inplace=True)"
      ],
      "execution_count": 49,
      "outputs": []
    },
    {
      "cell_type": "code",
      "metadata": {
        "id": "lNtQ0lHVwFZA"
      },
      "source": [
        "imaela = imaela.merge(dfpy['Paraguay'],how='left',left_index=True,right_index=True)"
      ],
      "execution_count": 50,
      "outputs": []
    },
    {
      "cell_type": "code",
      "metadata": {
        "id": "IrxgZGGjszCe",
        "colab": {
          "base_uri": "https://localhost:8080/",
          "height": 0
        },
        "outputId": "4c589f23-c0b5-4aa5-bcad-f20e82cf53d8"
      },
      "source": [
        "imaela"
      ],
      "execution_count": 51,
      "outputs": [
        {
          "output_type": "execute_result",
          "data": {
            "text/html": [
              "<div>\n",
              "<style scoped>\n",
              "    .dataframe tbody tr th:only-of-type {\n",
              "        vertical-align: middle;\n",
              "    }\n",
              "\n",
              "    .dataframe tbody tr th {\n",
              "        vertical-align: top;\n",
              "    }\n",
              "\n",
              "    .dataframe thead th {\n",
              "        text-align: right;\n",
              "    }\n",
              "</style>\n",
              "<table border=\"1\" class=\"dataframe\">\n",
              "  <thead>\n",
              "    <tr style=\"text-align: right;\">\n",
              "      <th></th>\n",
              "      <th>Costa Rica</th>\n",
              "      <th>El Salvador</th>\n",
              "      <th>Guatemala</th>\n",
              "      <th>Honduras</th>\n",
              "      <th>Nicaragua</th>\n",
              "      <th>República Dominicana</th>\n",
              "      <th>Panamá</th>\n",
              "      <th>Argentina</th>\n",
              "      <th>Brasil</th>\n",
              "      <th>México</th>\n",
              "      <th>Perú</th>\n",
              "      <th>Chile</th>\n",
              "      <th>Ecuador</th>\n",
              "      <th>Bolivia</th>\n",
              "      <th>Paraguay</th>\n",
              "    </tr>\n",
              "  </thead>\n",
              "  <tbody>\n",
              "    <tr>\n",
              "      <th>2020-Enero</th>\n",
              "      <td>104.13</td>\n",
              "      <td>110.91</td>\n",
              "      <td>127.40</td>\n",
              "      <td>243.14</td>\n",
              "      <td>152.88</td>\n",
              "      <td>179.04</td>\n",
              "      <td>345.73</td>\n",
              "      <td>132.28</td>\n",
              "      <td>133.72</td>\n",
              "      <td>NaN</td>\n",
              "      <td>162.69</td>\n",
              "      <td>109.984</td>\n",
              "      <td>166.081</td>\n",
              "      <td>304.943</td>\n",
              "      <td>118.978597</td>\n",
              "    </tr>\n",
              "    <tr>\n",
              "      <th>2020-Febrero</th>\n",
              "      <td>105.17</td>\n",
              "      <td>109.93</td>\n",
              "      <td>125.54</td>\n",
              "      <td>242.59</td>\n",
              "      <td>144.12</td>\n",
              "      <td>183.24</td>\n",
              "      <td>338.73</td>\n",
              "      <td>129.75</td>\n",
              "      <td>134.77</td>\n",
              "      <td>NaN</td>\n",
              "      <td>161.66</td>\n",
              "      <td>106.315</td>\n",
              "      <td>151.878</td>\n",
              "      <td>277.363</td>\n",
              "      <td>122.558164</td>\n",
              "    </tr>\n",
              "    <tr>\n",
              "      <th>2020-Marzo</th>\n",
              "      <td>103.55</td>\n",
              "      <td>105.58</td>\n",
              "      <td>121.36</td>\n",
              "      <td>218.14</td>\n",
              "      <td>140.05</td>\n",
              "      <td>165.67</td>\n",
              "      <td>364.78</td>\n",
              "      <td>129.10</td>\n",
              "      <td>136.84</td>\n",
              "      <td>NaN</td>\n",
              "      <td>138.05</td>\n",
              "      <td>113.427</td>\n",
              "      <td>142.951</td>\n",
              "      <td>297.958</td>\n",
              "      <td>119.014428</td>\n",
              "    </tr>\n",
              "    <tr>\n",
              "      <th>2020-Abril</th>\n",
              "      <td>90.88</td>\n",
              "      <td>88.31</td>\n",
              "      <td>112.77</td>\n",
              "      <td>186.13</td>\n",
              "      <td>124.66</td>\n",
              "      <td>125.35</td>\n",
              "      <td>247.19</td>\n",
              "      <td>111.90</td>\n",
              "      <td>119.25</td>\n",
              "      <td>NaN</td>\n",
              "      <td>103.81</td>\n",
              "      <td>98.4788</td>\n",
              "      <td>101.926</td>\n",
              "      <td>234.039</td>\n",
              "      <td>97.781980</td>\n",
              "    </tr>\n",
              "    <tr>\n",
              "      <th>2020-Mayo</th>\n",
              "      <td>93.09</td>\n",
              "      <td>89.77</td>\n",
              "      <td>111.25</td>\n",
              "      <td>188.45</td>\n",
              "      <td>133.85</td>\n",
              "      <td>158.43</td>\n",
              "      <td>228.30</td>\n",
              "      <td>131.29</td>\n",
              "      <td>119.91</td>\n",
              "      <td>NaN</td>\n",
              "      <td>119.30</td>\n",
              "      <td>97.793</td>\n",
              "      <td>117.005</td>\n",
              "      <td>231.828</td>\n",
              "      <td>104.977220</td>\n",
              "    </tr>\n",
              "    <tr>\n",
              "      <th>2020-Junio</th>\n",
              "      <td>97.03</td>\n",
              "      <td>97.05</td>\n",
              "      <td>111.06</td>\n",
              "      <td>208.19</td>\n",
              "      <td>128.82</td>\n",
              "      <td>160.89</td>\n",
              "      <td>243.01</td>\n",
              "      <td>133.30</td>\n",
              "      <td>126.29</td>\n",
              "      <td>NaN</td>\n",
              "      <td>140.35</td>\n",
              "      <td>96.1215</td>\n",
              "      <td>132.598</td>\n",
              "      <td>266.589</td>\n",
              "      <td>107.681770</td>\n",
              "    </tr>\n",
              "    <tr>\n",
              "      <th>2020-Julio</th>\n",
              "      <td>92.91</td>\n",
              "      <td>96.17</td>\n",
              "      <td>117.42</td>\n",
              "      <td>208.83</td>\n",
              "      <td>147.54</td>\n",
              "      <td>162.35</td>\n",
              "      <td>241.95</td>\n",
              "      <td>128.19</td>\n",
              "      <td>135.84</td>\n",
              "      <td>NaN</td>\n",
              "      <td>154.69</td>\n",
              "      <td>96.1001</td>\n",
              "      <td>141.261</td>\n",
              "      <td>268.308</td>\n",
              "      <td>111.653274</td>\n",
              "    </tr>\n",
              "    <tr>\n",
              "      <th>2020-Agosto</th>\n",
              "      <td>93.35</td>\n",
              "      <td>102.54</td>\n",
              "      <td>120.25</td>\n",
              "      <td>225.70</td>\n",
              "      <td>138.51</td>\n",
              "      <td>169.07</td>\n",
              "      <td>251.35</td>\n",
              "      <td>125.17</td>\n",
              "      <td>135.51</td>\n",
              "      <td>NaN</td>\n",
              "      <td>157.66</td>\n",
              "      <td>101.066</td>\n",
              "      <td>143.837</td>\n",
              "      <td>274.025</td>\n",
              "      <td>108.450742</td>\n",
              "    </tr>\n",
              "    <tr>\n",
              "      <th>2020-Septiembre</th>\n",
              "      <td>97.99</td>\n",
              "      <td>106.35</td>\n",
              "      <td>121.45</td>\n",
              "      <td>230.41</td>\n",
              "      <td>140.01</td>\n",
              "      <td>163.68</td>\n",
              "      <td>268.97</td>\n",
              "      <td>126.60</td>\n",
              "      <td>137.12</td>\n",
              "      <td>NaN</td>\n",
              "      <td>162.60</td>\n",
              "      <td>103.167</td>\n",
              "      <td>152.052</td>\n",
              "      <td>311.836</td>\n",
              "      <td>112.656021</td>\n",
              "    </tr>\n",
              "    <tr>\n",
              "      <th>2020-Octubre</th>\n",
              "      <td>102.09</td>\n",
              "      <td>106.56</td>\n",
              "      <td>125.72</td>\n",
              "      <td>249.68</td>\n",
              "      <td>148.50</td>\n",
              "      <td>175.09</td>\n",
              "      <td>312.12</td>\n",
              "      <td>131.73</td>\n",
              "      <td>139.74</td>\n",
              "      <td>NaN</td>\n",
              "      <td>171.17</td>\n",
              "      <td>108.477</td>\n",
              "      <td>156.349</td>\n",
              "      <td>346.259</td>\n",
              "      <td>123.206442</td>\n",
              "    </tr>\n",
              "    <tr>\n",
              "      <th>2020-Noviembre</th>\n",
              "      <td>105.13</td>\n",
              "      <td>111.91</td>\n",
              "      <td>128.86</td>\n",
              "      <td>218.99</td>\n",
              "      <td>148.79</td>\n",
              "      <td>181.13</td>\n",
              "      <td>300.21</td>\n",
              "      <td>132.97</td>\n",
              "      <td>138.10</td>\n",
              "      <td>NaN</td>\n",
              "      <td>171.03</td>\n",
              "      <td>114.596</td>\n",
              "      <td>152.31</td>\n",
              "      <td>336.104</td>\n",
              "      <td>120.075233</td>\n",
              "    </tr>\n",
              "    <tr>\n",
              "      <th>2020-Diciembre</th>\n",
              "      <td>110.97</td>\n",
              "      <td>122.31</td>\n",
              "      <td>136.24</td>\n",
              "      <td>257.91</td>\n",
              "      <td>167.23</td>\n",
              "      <td>192.02</td>\n",
              "      <td>316.10</td>\n",
              "      <td>132.42</td>\n",
              "      <td>139.41</td>\n",
              "      <td>NaN</td>\n",
              "      <td>191.16</td>\n",
              "      <td>122.862</td>\n",
              "      <td>171.892</td>\n",
              "      <td>340.282</td>\n",
              "      <td>134.087414</td>\n",
              "    </tr>\n",
              "    <tr>\n",
              "      <th>2021-Enero</th>\n",
              "      <td>97.54</td>\n",
              "      <td>109.03</td>\n",
              "      <td>129.22</td>\n",
              "      <td>230.06</td>\n",
              "      <td>154.73</td>\n",
              "      <td>175.85</td>\n",
              "      <td>297.55</td>\n",
              "      <td>129.49</td>\n",
              "      <td>132.03</td>\n",
              "      <td>105.38</td>\n",
              "      <td>161.46</td>\n",
              "      <td>106.849</td>\n",
              "      <td>151.916</td>\n",
              "      <td>291.354</td>\n",
              "      <td>112.114903</td>\n",
              "    </tr>\n",
              "    <tr>\n",
              "      <th>2021-Febrero</th>\n",
              "      <td>99.94</td>\n",
              "      <td>108.59</td>\n",
              "      <td>128.60</td>\n",
              "      <td>236.15</td>\n",
              "      <td>147.44</td>\n",
              "      <td>185.33</td>\n",
              "      <td>310.85</td>\n",
              "      <td>126.69</td>\n",
              "      <td>134.80</td>\n",
              "      <td>102.64</td>\n",
              "      <td>156.11</td>\n",
              "      <td>104.313</td>\n",
              "      <td>144.54</td>\n",
              "      <td>266.681</td>\n",
              "      <td>121.918722</td>\n",
              "    </tr>\n",
              "    <tr>\n",
              "      <th>2021-Marzo</th>\n",
              "      <td>107.64</td>\n",
              "      <td>114.86</td>\n",
              "      <td>133.51</td>\n",
              "      <td>247.84</td>\n",
              "      <td>151.38</td>\n",
              "      <td>183.29</td>\n",
              "      <td>350.15</td>\n",
              "      <td>146.29</td>\n",
              "      <td>144.06</td>\n",
              "      <td>111.47</td>\n",
              "      <td>165.72</td>\n",
              "      <td>120.567</td>\n",
              "      <td>162.381</td>\n",
              "      <td>312.66</td>\n",
              "      <td>129.042385</td>\n",
              "    </tr>\n",
              "    <tr>\n",
              "      <th>2021-Abril</th>\n",
              "      <td>102.45</td>\n",
              "      <td>110.85</td>\n",
              "      <td>129.97</td>\n",
              "      <td>234.59</td>\n",
              "      <td>144.24</td>\n",
              "      <td>184.45</td>\n",
              "      <td>313.41</td>\n",
              "      <td>144.97</td>\n",
              "      <td>138.91</td>\n",
              "      <td>107.93</td>\n",
              "      <td>165.51</td>\n",
              "      <td>112.958</td>\n",
              "      <td>159.056</td>\n",
              "      <td>303.708</td>\n",
              "      <td>117.295876</td>\n",
              "    </tr>\n",
              "    <tr>\n",
              "      <th>2021-Mayo</th>\n",
              "      <td>105.50</td>\n",
              "      <td>114.56</td>\n",
              "      <td>129.29</td>\n",
              "      <td>242.40</td>\n",
              "      <td>156.13</td>\n",
              "      <td>192.04</td>\n",
              "      <td>322.65</td>\n",
              "      <td>150.20</td>\n",
              "      <td>136.85</td>\n",
              "      <td>111.96</td>\n",
              "      <td>176.69</td>\n",
              "      <td>116.504</td>\n",
              "      <td>150.912</td>\n",
              "      <td>290.251</td>\n",
              "      <td>118.228954</td>\n",
              "    </tr>\n",
              "    <tr>\n",
              "      <th>2021-Junio</th>\n",
              "      <td>105.86</td>\n",
              "      <td>114.35</td>\n",
              "      <td>126.28</td>\n",
              "      <td>248.26</td>\n",
              "      <td>151.75</td>\n",
              "      <td>181.27</td>\n",
              "      <td>323.23</td>\n",
              "      <td>148.82</td>\n",
              "      <td>137.46</td>\n",
              "      <td>111.11</td>\n",
              "      <td>173.53</td>\n",
              "      <td>115.919</td>\n",
              "      <td>153.752</td>\n",
              "      <td>298.984</td>\n",
              "      <td>115.234716</td>\n",
              "    </tr>\n",
              "    <tr>\n",
              "      <th>2021-Julio</th>\n",
              "      <td>108.22</td>\n",
              "      <td>109.75</td>\n",
              "      <td>130.95</td>\n",
              "      <td>241.80</td>\n",
              "      <td>160.41</td>\n",
              "      <td>181.92</td>\n",
              "      <td>349.96</td>\n",
              "      <td>143.19</td>\n",
              "      <td>143.28</td>\n",
              "      <td>109.86</td>\n",
              "      <td>174.64</td>\n",
              "      <td>113.443</td>\n",
              "      <td>168.483</td>\n",
              "      <td>299.651</td>\n",
              "      <td>115.221028</td>\n",
              "    </tr>\n",
              "    <tr>\n",
              "      <th>2021-Agosto</th>\n",
              "      <td>105.56</td>\n",
              "      <td>112.04</td>\n",
              "      <td>130.12</td>\n",
              "      <td>256.38</td>\n",
              "      <td>151.80</td>\n",
              "      <td>188.78</td>\n",
              "      <td>322.86</td>\n",
              "      <td>141.20</td>\n",
              "      <td>141.94</td>\n",
              "      <td>107.14</td>\n",
              "      <td>176.29</td>\n",
              "      <td>120.219</td>\n",
              "      <td>168.508</td>\n",
              "      <td>300.252</td>\n",
              "      <td>113.312527</td>\n",
              "    </tr>\n",
              "    <tr>\n",
              "      <th>2021-Septiembre</th>\n",
              "      <td>109.03</td>\n",
              "      <td>112.85</td>\n",
              "      <td>129.06</td>\n",
              "      <td>251.03</td>\n",
              "      <td>147.61</td>\n",
              "      <td>181.03</td>\n",
              "      <td>317.43</td>\n",
              "      <td>141.26</td>\n",
              "      <td>139.21</td>\n",
              "      <td>104.18</td>\n",
              "      <td>178.40</td>\n",
              "      <td>118.388</td>\n",
              "      <td>173.195</td>\n",
              "      <td>NaN</td>\n",
              "      <td>118.915842</td>\n",
              "    </tr>\n",
              "    <tr>\n",
              "      <th>2021-Octubre</th>\n",
              "      <td>NaN</td>\n",
              "      <td>NaN</td>\n",
              "      <td>NaN</td>\n",
              "      <td>NaN</td>\n",
              "      <td>NaN</td>\n",
              "      <td>192.16</td>\n",
              "      <td>NaN</td>\n",
              "      <td>NaN</td>\n",
              "      <td>NaN</td>\n",
              "      <td>NaN</td>\n",
              "      <td>NaN</td>\n",
              "      <td>124.696</td>\n",
              "      <td></td>\n",
              "      <td>NaN</td>\n",
              "      <td>NaN</td>\n",
              "    </tr>\n",
              "  </tbody>\n",
              "</table>\n",
              "</div>"
            ],
            "text/plain": [
              "                 Costa Rica El Salvador  ...  Bolivia    Paraguay\n",
              "2020-Enero           104.13      110.91  ...  304.943  118.978597\n",
              "2020-Febrero         105.17      109.93  ...  277.363  122.558164\n",
              "2020-Marzo           103.55      105.58  ...  297.958  119.014428\n",
              "2020-Abril            90.88       88.31  ...  234.039   97.781980\n",
              "2020-Mayo             93.09       89.77  ...  231.828  104.977220\n",
              "2020-Junio            97.03       97.05  ...  266.589  107.681770\n",
              "2020-Julio            92.91       96.17  ...  268.308  111.653274\n",
              "2020-Agosto           93.35      102.54  ...  274.025  108.450742\n",
              "2020-Septiembre       97.99      106.35  ...  311.836  112.656021\n",
              "2020-Octubre         102.09      106.56  ...  346.259  123.206442\n",
              "2020-Noviembre       105.13      111.91  ...  336.104  120.075233\n",
              "2020-Diciembre       110.97      122.31  ...  340.282  134.087414\n",
              "2021-Enero            97.54      109.03  ...  291.354  112.114903\n",
              "2021-Febrero          99.94      108.59  ...  266.681  121.918722\n",
              "2021-Marzo           107.64      114.86  ...   312.66  129.042385\n",
              "2021-Abril           102.45      110.85  ...  303.708  117.295876\n",
              "2021-Mayo            105.50      114.56  ...  290.251  118.228954\n",
              "2021-Junio           105.86      114.35  ...  298.984  115.234716\n",
              "2021-Julio           108.22      109.75  ...  299.651  115.221028\n",
              "2021-Agosto          105.56      112.04  ...  300.252  113.312527\n",
              "2021-Septiembre      109.03      112.85  ...      NaN  118.915842\n",
              "2021-Octubre            NaN         NaN  ...      NaN         NaN\n",
              "\n",
              "[22 rows x 15 columns]"
            ]
          },
          "metadata": {},
          "execution_count": 51
        }
      ]
    },
    {
      "cell_type": "markdown",
      "metadata": {
        "id": "CRClNJVemnbZ"
      },
      "source": [
        "\n",
        "url2 = 'https://www.bcp.gov.py/' + links[0] # -(numero mes)\n",
        "opener = urllib2.build_opener()\n",
        "opener.addheaders = [('User-agent', 'Mozilla/5.0')]\n",
        "urllib2.install_opener(opener)\n",
        "urllib2.urlretrieve(url2, \"py.pdf\")\n",
        "\n",
        "\n"
      ]
    },
    {
      "cell_type": "markdown",
      "metadata": {
        "id": "SDFvEycum4Ek"
      },
      "source": [
        "'With pdf file\n",
        "\n",
        "with fitz.open(\"py.pdf\") as doc:\n",
        "    text = \"\"\n",
        "    for page in doc:\n",
        "        text += page.get_text()\n",
        "\n",
        "fechapy = text.split(' |',2)[1] # con el espacio\n",
        "fechapy = fechapy.split(' ')[1] +'-'+fechapy.split(' ')[0]"
      ]
    },
    {
      "cell_type": "markdown",
      "metadata": {
        "id": "yVnR8BwV6iJ3"
      },
      "source": [
        "Debido a que las tasas son iguales en Enero\n",
        "\n",
        "if 'Enero' not in fechapy:\n",
        "  valorpyinteranual = re.findall(r'[0-9]+,[0-9]+',text)[0] # para obtener tasa interanual          el regex sirve para buscar los registros numericos separados por coma\n",
        "  valorpyacum = re.findall(r'[0-9]+,[0-9]+',text)[1] # para obtener tasa acumulada interanual\n",
        "  valorpyinteranual = float(valorpyinteranual.replace(',','.'))\n",
        "  valorpyacum = float(valorpyacum.replace(',','.'))\n",
        "else:\n",
        "   valorpyinteranual = re.findall(r'[0-9]+,[0-9]+',text)[0]\n",
        "   valorpyinteranual = float(valorpyinteranual.replace(',','.'))\n",
        "   valorpyacum = valorpyinteranual\n",
        "\n",
        "print(fechapy)\n",
        "print(valorpyinteranual,' Tasa interanual')\n",
        "print(valorpyacum, ' Tasa acumulada interanual')"
      ]
    },
    {
      "cell_type": "markdown",
      "metadata": {
        "id": "byRPPvf83emR"
      },
      "source": [
        "\n",
        "py = pd.DataFrame({'Fecha':['2021-Enero','2021-Febrero','2021-Marzo','2021-Abril','2021-Mayo','2021-Junio','2021-Julio','2021-Agosto','2021-Septiembre','2021-Octubre','2021-Noviembre','2021-Diciembre'],\n",
        "                   'Paraguay_a':[-5.6,-3.0,0.7,4.7,6.3,6.3,6.0,5.7,0,0,0,0],\n",
        "                   'Paraguay_i':[-5.6,-0.5,8.0,19.3,12.4,6.6,3.0,4.2,0,0,0,0]})\n",
        "py.index = py.Fecha\n",
        "dic = {'Fecha':fechapy,'Paraguay_a':valorpyacum,'Paraguay_i':valorpyinteranual}\n",
        "py.loc[fechapy] = [fechapy,valorpyacum,valorpyinteranual]\n",
        "py"
      ]
    },
    {
      "cell_type": "code",
      "metadata": {
        "id": "NQebYfFSdDiq"
      },
      "source": [
        "imaela['a'] = [imaela.index.str.split('-')[i][0] for i in range(len(imaela.index))]\n",
        "imaela = imaela.apply(pd.to_numeric)"
      ],
      "execution_count": 52,
      "outputs": []
    },
    {
      "cell_type": "code",
      "metadata": {
        "id": "2oc-F4Au1Q0L"
      },
      "source": [
        "# Crecimiento interanual\n",
        "imaela1 = imaela.pct_change(12,fill_method=None)*100\n",
        "imaela1.dropna(how='all',inplace=True) # NAs drop\n",
        "imaela1.drop('a',axis=1,inplace=True)"
      ],
      "execution_count": 53,
      "outputs": []
    },
    {
      "cell_type": "code",
      "metadata": {
        "id": "LwGtvH2Ve9nI"
      },
      "source": [
        "# Crecimiento acumulado interanual\n",
        "imaela2 = imaela.groupby('a').cumsum().pct_change(12,fill_method=None)*100\n",
        "imaela2.dropna(how='all',inplace=True) # NAs drop"
      ],
      "execution_count": 54,
      "outputs": []
    },
    {
      "cell_type": "code",
      "metadata": {
        "id": "WT1VOTCo_u0Z"
      },
      "source": [
        "#!pip install selenium\n",
        "#!apt-get update # to update ubuntu to correctly run apt install\n",
        "#!apt install chromium-chromedriver\n",
        "#!cp /usr/lib/chromium-browser/chromedriver /usr/bin\n",
        "#import sys\n",
        "#sys.path.insert(0,'/usr/lib/chromium-browser/chromedriver')\n",
        "#from selenium import webdriver\n",
        "#chrome_options = webdriver.ChromeOptions()\n",
        "#chrome_options.add_argument('--headless')\n",
        "#chrome_options.add_argument('--no-sandbox')\n",
        "#chrome_options.add_argument('--disable-dev-shm-usage')\n",
        "#wd = webdriver.Chrome('chromedriver',chrome_options=chrome_options)"
      ],
      "execution_count": 55,
      "outputs": []
    },
    {
      "cell_type": "markdown",
      "metadata": {
        "id": "1UD90WE2qzru"
      },
      "source": [
        "### **Colombia**"
      ]
    },
    {
      "cell_type": "markdown",
      "metadata": {
        "id": "wrivlZivMI7U"
      },
      "source": [
        "#### Publicaciones disponibles las fechas: \n",
        "1. 17 sept    -    Julio\n",
        "2. 19 Oct    -     Agosto\n",
        "3. 16 Nov    -     Sep\n",
        "4. 17 Dic    -     Oct"
      ]
    },
    {
      "cell_type": "code",
      "metadata": {
        "id": "PmmhxvXg7dBN"
      },
      "source": [
        "wd.get(url1)"
      ],
      "execution_count": null,
      "outputs": []
    },
    {
      "cell_type": "code",
      "metadata": {
        "id": "V4nid1LMkzgG",
        "colab": {
          "base_uri": "https://localhost:8080/",
          "height": 69
        },
        "outputId": "7afe85c6-1b66-449b-b4d3-2f7dd95ec4bf"
      },
      "source": [
        "wd.page_source"
      ],
      "execution_count": null,
      "outputs": [
        {
          "output_type": "execute_result",
          "data": {
            "application/vnd.google.colaboratory.intrinsic+json": {
              "type": "string"
            },
            "text/plain": [
              "'<html><head><title>403 Forbidden</title></head>\\n<body>\\n<center><h1>403 Forbidden</h1></center>\\n\\n\\n<!-- a padding to disable MSIE and Chrome friendly error page -->\\n<!-- a padding to disable MSIE and Chrome friendly error page -->\\n<!-- a padding to disable MSIE and Chrome friendly error page -->\\n<!-- a padding to disable MSIE and Chrome friendly error page -->\\n<!-- a padding to disable MSIE and Chrome friendly error page -->\\n<!-- a padding to disable MSIE and Chrome friendly error page -->\\n</body></html>'"
            ]
          },
          "metadata": {},
          "execution_count": 132
        }
      ]
    },
    {
      "cell_type": "code",
      "metadata": {
        "id": "xx0a4PNX9-T4"
      },
      "source": [
        "!pip install fake_useragent\n",
        "from fake_useragent import UserAgent\n",
        "ua = UserAgent()\n",
        "print(ua.chrome)\n",
        "print(ua.random)"
      ],
      "execution_count": null,
      "outputs": []
    },
    {
      "cell_type": "code",
      "metadata": {
        "id": "QKed7ixdCClu"
      },
      "source": [
        "url = 'https://www.dane.gov.co/index.php/estadisticas-por-tema/cuentas-nacionales/indicador-de-seguimiento-a-la-economia-ise/historicos-ise-comunicados-y-boletines'\n",
        "url1 = 'https://www.dane.gov.co/index.php/estadisticas-por-tema/cuentas-nacionales/indicador-de-seguimiento-a-la-economia-ise'\n",
        "\n",
        "header_col = {'authority': 'www.dane.gov.co', 'method': 'GET', 'path': '/index.php/estadisticas-por-tema/cuentas-nacionales/indicador-de-seguimiento-a-la-economia-ise',\n",
        "'scheme': 'https', 'accept': 'text/html,application/xhtml+xml,application/xml;q=0.9,image/avif,image/webp,image/apng,*/*;q=0.8,application/signed-exchange;v=b3;q=0.9',\n",
        "'referer':'https://www.dane.gov.co/index.php/estadisticas-por-tema/cuentas-nacionales/indicador-de-seguimiento-a-la-economia-ise',\n",
        "'accept-encoding': 'gzip, deflate, br',\n",
        "'accept-language': 'es-ES,es;q=0.9',\n",
        "'cache-control': 'max-age=0',\n",
        "'cookie': '_ga=GA1.3.1467282597.1625839173; _ga_T3L41X6043=GS1.1.1632235276.4.0.1632235284.0; ec1d9c9ecb5c2f4ef7998e3e52b19fdf=bvqfvrh7p0e0kgp1vf8bg29s68; _gid=GA1.3.2105323501.1637672614',\n",
        "'sec-ch-ua': '\"Google Chrome\";v=\"95\", \"Chromium\";v=\"95\", \";Not A Brand\";v=\"99\"',\n",
        "'sec-ch-ua-mobile': '?0',\n",
        "'sec-ch-ua-platform': \"Windows\",\n",
        "'sec-fetch-dest': 'document',\n",
        "'sec-fetch-mode': 'navigate',\n",
        "'sec-fetch-site': 'none',\n",
        "'sec-fetch-user': '?1',\n",
        "'upgrade-insecure-requests':' 1',\n",
        "'user-agent': str(ua.random)}\n",
        "\n",
        "req = urllib2.Request(url=url1, headers=hd) \n",
        "page = urllib2.urlopen(req).read()\n"
      ],
      "execution_count": null,
      "outputs": []
    },
    {
      "cell_type": "code",
      "metadata": {
        "id": "BNLB2HxECCtl"
      },
      "source": [
        "soupco = BeautifulSoup(page,'lxml')\n",
        "links = [a['href'] for a in soupco.select(\"a[href*=21.xlsx]\")] # extraemos links que contengan 21.xlsx \n",
        " # ultimos link disponibles\n",
        "links"
      ],
      "execution_count": null,
      "outputs": []
    },
    {
      "cell_type": "code",
      "metadata": {
        "id": "wbDtMlN5EnsO"
      },
      "source": [
        "url2 = 'https://www.dane.gov.co' + links[0] # si esta el nuevo mes restarle 1 al indice de links\n",
        "url3 = 'https://www.dane.gov.co/files/investigaciones/boletines/pib/Anex_ISE_9actividades_sep_21.xlsx'\n",
        "#urllib2.urlretrieve(url2, \"colombia.xlsx\")\n",
        "urllib2.urlretrieve(url3, \"colombia.xlsx\",)\n",
        "df = pd.read_excel('colombia.xlsx',sheet_name='Cuadro 1',header=9)[0:16].T\n",
        "df.columns = df.iloc[0]\n",
        "df = df.iloc[:,[0,1,-1]].reset_index(drop=True)[1:]\n",
        "df.tail(1)"
      ],
      "execution_count": null,
      "outputs": []
    },
    {
      "cell_type": "code",
      "metadata": {
        "id": "akDz1zRARQPg"
      },
      "source": [
        "df['ano'] = df.Concepto.ffill().astype(str).str.replace('pr','').str.replace('p','')\n",
        "df['Colombia'] = round(pd.to_numeric(df.loc[:,df.columns[-2]]),2)\n",
        "df.index = df.ano.astype(str) + '-' + df.iloc[:,1].astype(str) "
      ],
      "execution_count": null,
      "outputs": []
    },
    {
      "cell_type": "code",
      "metadata": {
        "id": "mOvRCtr1SP3H"
      },
      "source": [
        "imaela = imaela.merge(df['Colombia'],how='left',left_index=True,right_index=True)"
      ],
      "execution_count": null,
      "outputs": []
    },
    {
      "cell_type": "markdown",
      "metadata": {
        "id": "VKQm4sO8CBgy"
      },
      "source": [
        "##### PDF"
      ]
    },
    {
      "cell_type": "markdown",
      "metadata": {
        "id": "NCAIe-IytrnA"
      },
      "source": [
        "df = np.array(tb.read_pdf('colombia.pdf',pages = '17',stream=True,multiple_tables=True,pandas_options={'header':None}))\n",
        "dco = pd.DataFrame(df.reshape(-1,4))\n",
        "dco = dco.loc[:,0:2]\n",
        "dco.tail(1)"
      ]
    },
    {
      "cell_type": "markdown",
      "metadata": {
        "id": "oIjcg_Hy3mLe"
      },
      "source": [
        "dco[3] = dco[2].str.split(' ',expand=True)[0] # Tomando las tasas de crecimiento de la tabla pdf\n",
        "dco.rename(columns={1:'Colombia'},inplace=True)\n",
        "dco['Colombia1'] = pd.to_numeric(dco[3].str.replace(',','.'),errors='coerce')  #Convirtiendo la data a numero\n",
        "dco['Colombia'] = pd.to_numeric(dco['Colombia'].str.replace(',','.'),errors='coerce')"
      ]
    },
    {
      "cell_type": "markdown",
      "metadata": {
        "id": "1Za65saE00xD"
      },
      "source": [
        "split = dco[0].str.split(' - ')     # extraer mes \n",
        "fech = []\n",
        "for i in range(len(split)):\n",
        "  if type(split[i]) == float:\n",
        "    fech.append('0')\n",
        "  elif len(split[i]) == 1 :\n",
        "    fech.append(str(split[i][0]))\n",
        "  else:\n",
        "    fech.append(str(split[i][1].capitalize()))"
      ]
    },
    {
      "cell_type": "markdown",
      "metadata": {
        "id": "7sx55Q3v7F_L"
      },
      "source": [
        "anof=[]                          # extraer año\n",
        "for i in range(len(split)):\n",
        "  if type(split[i]) == float:\n",
        "    anof.append('0')\n",
        "  elif len(split[i]) > 1 :\n",
        "    anof.append(str(split[i][0]))\n",
        "  else:\n",
        "    anof.append(np.nan)"
      ]
    },
    {
      "cell_type": "markdown",
      "metadata": {
        "id": "E0FtIhm29EdE"
      },
      "source": [
        "dco['mes'] = fech\n",
        "dco['ano'] = anof\n",
        "dco['ano'] = dco.ano.replace(['p','r',' '],['','',''],regex=True).ffill()\n",
        "dco.index = dco['ano'] + '-' + dco['mes'] # creamos indice"
      ]
    },
    {
      "cell_type": "markdown",
      "metadata": {
        "id": "851yN-m_mxAi"
      },
      "source": [
        "## imae\n"
      ]
    },
    {
      "cell_type": "code",
      "metadata": {
        "id": "tCeHYsHPRaAP"
      },
      "source": [
        "# imaela.drop('a',axis=1,inplace=True)\n",
        "imaela.drop('a',axis=1,inplace=True)"
      ],
      "execution_count": 57,
      "outputs": []
    },
    {
      "cell_type": "code",
      "metadata": {
        "id": "VWC8U8QApa6w",
        "colab": {
          "base_uri": "https://localhost:8080/",
          "height": 112
        },
        "outputId": "11cf3467-9d87-4537-856e-abb25ff25146"
      },
      "source": [
        "imaela.tail(2)"
      ],
      "execution_count": 58,
      "outputs": [
        {
          "output_type": "execute_result",
          "data": {
            "text/html": [
              "<div>\n",
              "<style scoped>\n",
              "    .dataframe tbody tr th:only-of-type {\n",
              "        vertical-align: middle;\n",
              "    }\n",
              "\n",
              "    .dataframe tbody tr th {\n",
              "        vertical-align: top;\n",
              "    }\n",
              "\n",
              "    .dataframe thead th {\n",
              "        text-align: right;\n",
              "    }\n",
              "</style>\n",
              "<table border=\"1\" class=\"dataframe\">\n",
              "  <thead>\n",
              "    <tr style=\"text-align: right;\">\n",
              "      <th></th>\n",
              "      <th>Costa Rica</th>\n",
              "      <th>El Salvador</th>\n",
              "      <th>Guatemala</th>\n",
              "      <th>Honduras</th>\n",
              "      <th>Nicaragua</th>\n",
              "      <th>República Dominicana</th>\n",
              "      <th>Panamá</th>\n",
              "      <th>Argentina</th>\n",
              "      <th>Brasil</th>\n",
              "      <th>México</th>\n",
              "      <th>Perú</th>\n",
              "      <th>Chile</th>\n",
              "      <th>Ecuador</th>\n",
              "      <th>Bolivia</th>\n",
              "      <th>Paraguay</th>\n",
              "    </tr>\n",
              "  </thead>\n",
              "  <tbody>\n",
              "    <tr>\n",
              "      <th>2021-Septiembre</th>\n",
              "      <td>109.03</td>\n",
              "      <td>112.85</td>\n",
              "      <td>129.06</td>\n",
              "      <td>251.03</td>\n",
              "      <td>147.61</td>\n",
              "      <td>181.03</td>\n",
              "      <td>317.43</td>\n",
              "      <td>141.26</td>\n",
              "      <td>139.21</td>\n",
              "      <td>104.18</td>\n",
              "      <td>178.4</td>\n",
              "      <td>118.388353</td>\n",
              "      <td>173.195455</td>\n",
              "      <td>NaN</td>\n",
              "      <td>118.915842</td>\n",
              "    </tr>\n",
              "    <tr>\n",
              "      <th>2021-Octubre</th>\n",
              "      <td>NaN</td>\n",
              "      <td>NaN</td>\n",
              "      <td>NaN</td>\n",
              "      <td>NaN</td>\n",
              "      <td>NaN</td>\n",
              "      <td>192.16</td>\n",
              "      <td>NaN</td>\n",
              "      <td>NaN</td>\n",
              "      <td>NaN</td>\n",
              "      <td>NaN</td>\n",
              "      <td>NaN</td>\n",
              "      <td>124.696158</td>\n",
              "      <td>NaN</td>\n",
              "      <td>NaN</td>\n",
              "      <td>NaN</td>\n",
              "    </tr>\n",
              "  </tbody>\n",
              "</table>\n",
              "</div>"
            ],
            "text/plain": [
              "                 Costa Rica  El Salvador  ...  Bolivia    Paraguay\n",
              "2021-Septiembre      109.03       112.85  ...      NaN  118.915842\n",
              "2021-Octubre            NaN          NaN  ...      NaN         NaN\n",
              "\n",
              "[2 rows x 15 columns]"
            ]
          },
          "metadata": {},
          "execution_count": 58
        }
      ]
    },
    {
      "cell_type": "code",
      "metadata": {
        "id": "aPbNJ1eyIKiv",
        "cellView": "form",
        "colab": {
          "base_uri": "https://localhost:8080/",
          "height": 17
        },
        "outputId": "cb1fa7d7-6138-4f0c-a15a-676ee4f695c1"
      },
      "source": [
        "#@title Descarga a Excel\n",
        "writer = pd.ExcelWriter('imae_latam.xlsx', engine='xlsxwriter')\n",
        "\n",
        "imaela1.to_excel(writer, sheet_name='Interanual')\n",
        "imaela2.to_excel(writer, sheet_name='Acumulado')\n",
        "imaela.to_excel(writer, sheet_name='Indices - Serie Original')\n",
        "writer.save()\n",
        "\n",
        "files.download(\"imae_latam.xlsx\")"
      ],
      "execution_count": 59,
      "outputs": [
        {
          "output_type": "display_data",
          "data": {
            "application/javascript": [
              "\n",
              "    async function download(id, filename, size) {\n",
              "      if (!google.colab.kernel.accessAllowed) {\n",
              "        return;\n",
              "      }\n",
              "      const div = document.createElement('div');\n",
              "      const label = document.createElement('label');\n",
              "      label.textContent = `Downloading \"${filename}\": `;\n",
              "      div.appendChild(label);\n",
              "      const progress = document.createElement('progress');\n",
              "      progress.max = size;\n",
              "      div.appendChild(progress);\n",
              "      document.body.appendChild(div);\n",
              "\n",
              "      const buffers = [];\n",
              "      let downloaded = 0;\n",
              "\n",
              "      const channel = await google.colab.kernel.comms.open(id);\n",
              "      // Send a message to notify the kernel that we're ready.\n",
              "      channel.send({})\n",
              "\n",
              "      for await (const message of channel.messages) {\n",
              "        // Send a message to notify the kernel that we're ready.\n",
              "        channel.send({})\n",
              "        if (message.buffers) {\n",
              "          for (const buffer of message.buffers) {\n",
              "            buffers.push(buffer);\n",
              "            downloaded += buffer.byteLength;\n",
              "            progress.value = downloaded;\n",
              "          }\n",
              "        }\n",
              "      }\n",
              "      const blob = new Blob(buffers, {type: 'application/binary'});\n",
              "      const a = document.createElement('a');\n",
              "      a.href = window.URL.createObjectURL(blob);\n",
              "      a.download = filename;\n",
              "      div.appendChild(a);\n",
              "      a.click();\n",
              "      div.remove();\n",
              "    }\n",
              "  "
            ],
            "text/plain": [
              "<IPython.core.display.Javascript object>"
            ]
          },
          "metadata": {}
        },
        {
          "output_type": "display_data",
          "data": {
            "application/javascript": [
              "download(\"download_d7eb7837-e066-4eb1-84dc-d4957a624549\", \"imae_latam.xlsx\", 13249)"
            ],
            "text/plain": [
              "<IPython.core.display.Javascript object>"
            ]
          },
          "metadata": {}
        }
      ]
    },
    {
      "cell_type": "code",
      "metadata": {
        "id": "fRnNN0VxUxeA",
        "cellView": "form"
      },
      "source": [
        "#@title Bar\n",
        "f, ax = plt.subplots(figsize=(20, 8))\n",
        "sns.barplot(data=imaela.iloc[-1:,:]);"
      ],
      "execution_count": null,
      "outputs": []
    },
    {
      "cell_type": "code",
      "metadata": {
        "id": "0HYQImNIAxf6",
        "cellView": "form"
      },
      "source": [
        "#@title Interanual Mes Anterior\n",
        "f, ax = plt.subplots(figsize=(18, 8))\n",
        "df = pd.melt(imaela1.iloc[-2:-1,:]).sort_values('value',ascending=False) \n",
        "sns.barplot(data = df ,x='value',y='variable',\n",
        "                palette=['r' if y =='República Dominicana' else '#0343DF' for y in df.variable])\n",
        "for p in ax.patches:\n",
        "    width = p.get_width()    # get bar length\n",
        "    ax.text(width+0.2,       # set the text at 0.2 unit right of the bar\n",
        "            p.get_y() + p.get_height() / 2, # get Y coordinate + X coordinate / 2\n",
        "            '{:1.2f}'.format(width), # set variable to display, 2 decimals\n",
        "            ha = 'left',   # horizontal alignment\n",
        "            va = 'center', weight=\"bold\") # vertical alignment\n",
        "plt.title('IMAE LATAM \\n Crecimiento Interanual (%) {}'.format(imaela.index[-2]),weight='bold');"
      ],
      "execution_count": null,
      "outputs": []
    },
    {
      "cell_type": "code",
      "metadata": {
        "id": "AXWRoqQueTtV",
        "cellView": "form"
      },
      "source": [
        "#@title Acumulado Interanual Mes Anterior\n",
        "f, ax = plt.subplots(figsize=(18, 8))\n",
        "df = pd.melt(imaela2.iloc[-2:-1,:]).sort_values('value',ascending=False) \n",
        "sns.barplot(data = df ,x='value',y='variable',\n",
        "                palette=['r' if y =='República Dominicana' else '#0343DF' for y in df.variable])\n",
        "for p in ax.patches:\n",
        "    width = p.get_width()    # get bar length\n",
        "    ax.text(width+0.2,       # set the text at 0.2 unit right of the bar\n",
        "            p.get_y() + p.get_height() / 2, # get Y coordinate + X coordinate / 2\n",
        "            '{:1.2f}'.format(width), # set variable to display, 2 decimals\n",
        "            ha = 'left',   # horizontal alignment\n",
        "            va = 'center', weight=\"bold\") # vertical alignment\n",
        "plt.title('IMAE LATAM \\n Crecimiento Acumulado Interanual (%) a {}'.format(imaela.index[-2]) ,weight='bold');"
      ],
      "execution_count": null,
      "outputs": []
    },
    {
      "cell_type": "code",
      "metadata": {
        "id": "LOhjJvf2M908",
        "cellView": "form"
      },
      "source": [
        "#@title Interanual Ultimo Mes\n",
        "f, ax = plt.subplots(figsize=(18, 8))\n",
        "df = pd.melt(imaela1.iloc[-1:,:].dropna(axis=1)).sort_values('value',ascending=False) \n",
        "sns.barplot(data = df ,x='value',y='variable',\n",
        "                palette=['r' if y =='República Dominicana' else '#0343DF' for y in df.variable])\n",
        "for p in ax.patches:\n",
        "    width = p.get_width()    # get bar length\n",
        "    ax.text(width+0.2,       # set the text at 0.2 unit right of the bar\n",
        "            p.get_y() + p.get_height() / 2, # get Y coordinate + X coordinate / 2\n",
        "            '{:1.2f}'.format(width), # set variable to display, 2 decimals\n",
        "            ha = 'left',   # horizontal alignment\n",
        "            va = 'center', weight=\"bold\") # vertical alignment\n",
        "plt.title('IMAE LATAM \\n Crecimiento Interanual (%) {}'.format(imaela.index[-1]),weight='bold')\n",
        ";"
      ],
      "execution_count": null,
      "outputs": []
    },
    {
      "cell_type": "code",
      "metadata": {
        "id": "fyL78uQDM2ib",
        "cellView": "form"
      },
      "source": [
        "#@title Acumulado Interanual Ultimo Mes\n",
        "f, ax = plt.subplots(figsize=(18, 8))\n",
        "df = pd.melt(imaela2.iloc[-1:,:].dropna(axis=1)).sort_values('value',ascending=False) \n",
        "sns.barplot(data = df ,x='value',y='variable',\n",
        "                palette=['r' if y =='República Dominicana' else '#0343DF' for y in df.variable])\n",
        "for p in ax.patches:\n",
        "    width = p.get_width()    # get bar length\n",
        "    ax.text(width+0.2,       # set the text at 0.2 unit right of the bar\n",
        "            p.get_y() + p.get_height() / 2, # get Y coordinate + X coordinate / 2\n",
        "            '{:1.2f}'.format(width), # set variable to display, 2 decimals\n",
        "            ha = 'left',   # horizontal alignment\n",
        "            va = 'center', weight=\"bold\") # vertical alignment\n",
        "plt.title('IMAE LATAM \\n Crecimiento Acumulado Interanual (%) a {}'.format(imaela.index[-1]) ,weight='bold');"
      ],
      "execution_count": null,
      "outputs": []
    }
  ]
}