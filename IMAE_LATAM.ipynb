{
  "nbformat": 4,
  "nbformat_minor": 0,
  "metadata": {
    "colab": {
      "name": "IMAE LATAM.ipynb",
      "provenance": [],
      "collapsed_sections": [
        "pdxAyDPTJJzP",
        "mng9xQCphxaK",
        "USJ5m_3XS6ji",
        "YlZNkOc6pfVo",
        "MkoUi_tal0ST",
        "A2MSTFg45f_H",
        "rSOwOPisI0mw"
      ],
      "authorship_tag": "ABX9TyMa3Rux19dlDvkwlyaTJVFV",
      "include_colab_link": true
    },
    "kernelspec": {
      "name": "python3",
      "display_name": "Python 3"
    },
    "language_info": {
      "name": "python"
    }
  },
  "cells": [
    {
      "cell_type": "markdown",
      "metadata": {
        "id": "view-in-github",
        "colab_type": "text"
      },
      "source": [
        "<a href=\"https://colab.research.google.com/github/samyff12/LATAM/blob/main/IMAE_LATAM.ipynb\" target=\"_parent\"><img src=\"https://colab.research.google.com/assets/colab-badge.svg\" alt=\"Open In Colab\"/></a>"
      ]
    },
    {
      "cell_type": "markdown",
      "metadata": {
        "id": "uwghX9WnmOhH"
      },
      "source": [
        "# **Actualizacion IMAE LATAM**"
      ]
    },
    {
      "cell_type": "markdown",
      "metadata": {
        "id": "zMFcgIBOnFpc"
      },
      "source": [
        "### Paquetes y meses"
      ]
    },
    {
      "cell_type": "code",
      "metadata": {
        "id": "yLpBS1jxRJUa",
        "outputId": "d5dbf044-1fcb-4094-a430-eeaedfebb013",
        "colab": {
          "base_uri": "https://localhost:8080/"
        }
      },
      "source": [
        "from bs4 import BeautifulSoup\n",
        "import pandas as pd\n",
        "import numpy as np\n",
        "import requests\n",
        "import urllib.request as urllib2\n",
        "import re\n",
        "!pip install pymupdf\n",
        "!pip install tabula-py\n",
        "import tabula as tb\n",
        "import fitz  # this is pymupdf"
      ],
      "execution_count": 280,
      "outputs": [
        {
          "output_type": "stream",
          "name": "stdout",
          "text": [
            "Requirement already satisfied: pymupdf in /usr/local/lib/python3.7/dist-packages (1.18.17)\n",
            "Requirement already satisfied: tabula-py in /usr/local/lib/python3.7/dist-packages (2.3.0)\n",
            "Requirement already satisfied: distro in /usr/local/lib/python3.7/dist-packages (from tabula-py) (1.6.0)\n",
            "Requirement already satisfied: pandas>=0.25.3 in /usr/local/lib/python3.7/dist-packages (from tabula-py) (1.1.5)\n",
            "Requirement already satisfied: numpy in /usr/local/lib/python3.7/dist-packages (from tabula-py) (1.19.5)\n",
            "Requirement already satisfied: pytz>=2017.2 in /usr/local/lib/python3.7/dist-packages (from pandas>=0.25.3->tabula-py) (2018.9)\n",
            "Requirement already satisfied: python-dateutil>=2.7.3 in /usr/local/lib/python3.7/dist-packages (from pandas>=0.25.3->tabula-py) (2.8.2)\n",
            "Requirement already satisfied: six>=1.5 in /usr/local/lib/python3.7/dist-packages (from python-dateutil>=2.7.3->pandas>=0.25.3->tabula-py) (1.15.0)\n"
          ]
        }
      ]
    },
    {
      "cell_type": "code",
      "metadata": {
        "id": "7NNHXzvKYJ2D"
      },
      "source": [
        "#html = requests.get('http://www.secmca.org/chart/?parent=Producci%C3%B3n&scid=2&cid=1&scsid=0&son=%C3%8Dndice%20Mensual%20de%20la%20Actividad%20Econ%C3%B3mica&url=11/14/3-13-50-17-4-52-161/39/265/19-258/444/' +\n",
        " #                   '20211-20212-20213-20214-20215-20216-20217-20218-20219-202110-202111-202112-20221-20222-20223-20224-20225-20226-20227-20228-20229-202210-202211-202212' +\n",
        " #                   '-&all_vars=2|IMAE,%20variaci%C3%B3n%20interanual')\n",
        "#soup = BeautifulSoup(html.text,'lxml')\n",
        "#table = soup.find_all('p', class_='text-right')\n",
        "#tablec = soup.find_all('th', colspan='1')\n",
        "\n",
        "#indicadores=[]\n",
        "#paises =[]\n",
        "#for i in range(len(table)):\n",
        " # ind = float(table[i].text)\n",
        "#  pais = tablec[i].text\n",
        "#  indicadores.append(ind)\n",
        " # paises.append(pais)\n",
        "\n",
        "#imae_latam =  pd.DataFrame(indicadores,index = paises,columns = ['IMAE'])\n",
        "#print(f'IMAE a {fecha}')\n",
        "#imae_latam"
      ],
      "execution_count": 281,
      "outputs": []
    },
    {
      "cell_type": "code",
      "metadata": {
        "id": "Uz9LSti34_nA"
      },
      "source": [
        "meses = [0,[1,'Enero'],[2,'Febrero'],[3,'Marzo'],[4,'Abril'],[5,'Mayo'],[6,'Junio'],[7,'Julio'],[8,'Agosto'],\n",
        "         [9,'Septiembre'],[10,'Octubre'],[11,'Noviembre'],[12,'Diciembre']]\n",
        "mes3 = {'ene':'Enero','feb':'Febrero','mar':'Marzo','abr':'Abril','may':'Mayo','jun':'Junio','jul':'Julio',\n",
        "        'ago':'Agosto','sep':'Septiembre','oct':'Octubre','nov':'Noviembre','dic':'Diciembre'}\n",
        "\n",
        "### import calendar\n",
        "\n",
        "# d = dict((v,k) for k,v in enumerate(calendar.month_abbr))\n",
        "# d"
      ],
      "execution_count": 282,
      "outputs": []
    },
    {
      "cell_type": "markdown",
      "metadata": {
        "id": "982BPh5jk93l"
      },
      "source": [
        "## Para obtener las series de todo el año 2021-2022\n"
      ]
    },
    {
      "cell_type": "markdown",
      "metadata": {
        "id": "pdxAyDPTJJzP"
      },
      "source": [
        "### **SECMCA**"
      ]
    },
    {
      "cell_type": "code",
      "metadata": {
        "id": "zyl75FG7ZOym"
      },
      "source": [
        "html = requests.get('http://www.secmca.org/chart/?parent=Producci%C3%B3n&scid=2&cid=1&scsid=0&son=%C3%8Dndice%20Mensual%20de%20la%20Actividad%20Econ%C3%B3mica&url=11/14/3-13-50-17-4-52-161/39/265/19-258/444/' +\n",
        "                    '20211-20212-20213-20214-20215-20216-20217-20218-20219-202110-202111-202112-20221-20222-20223-20224-20225-20226-20227-20228-20229-202210-202211-202212' +\n",
        "                    '-&all_vars=2|IMAE,%20variaci%C3%B3n%20interanual').text\n",
        "soup = BeautifulSoup(html,'lxml')"
      ],
      "execution_count": 283,
      "outputs": []
    },
    {
      "cell_type": "code",
      "metadata": {
        "id": "HZYnwfqqr7tE",
        "colab": {
          "base_uri": "https://localhost:8080/",
          "height": 0
        },
        "outputId": "187569a5-72a8-4d1f-f90a-3054f7e8224a"
      },
      "source": [
        "import re\n",
        "tabpais = soup.find_all('th', colspan='1')\n",
        "table = soup.find_all('p', class_='text-left')\n",
        "fechas = []\n",
        "paises =[]\n",
        "for i in range(len(table)):\n",
        "  x = re.sub(\" \",\"\",table[i].text)\n",
        "  fechas.append(x.replace(\"\\n\",\"\"))\n",
        "  pais = tabpais[i].text\n",
        "  #indicadores.append(ind)\n",
        "  paises.append(pais)\n",
        "fechas[-1]"
      ],
      "execution_count": 284,
      "outputs": [
        {
          "output_type": "execute_result",
          "data": {
            "application/vnd.google.colaboratory.intrinsic+json": {
              "type": "string"
            },
            "text/plain": [
              "'2021-Julio'"
            ]
          },
          "metadata": {},
          "execution_count": 284
        }
      ]
    },
    {
      "cell_type": "code",
      "metadata": {
        "id": "sCY1EzkcvFfD",
        "colab": {
          "base_uri": "https://localhost:8080/",
          "height": 0
        },
        "outputId": "33f69c0a-7146-4d66-d56d-d694daf6bafb"
      },
      "source": [
        "table1 = soup.find_all('p', class_='text-right')\n",
        "matriz = np.array([])\n",
        "for i in table1:\n",
        "  matriz = np.array(np.append(matriz,i))\n",
        "matriz = np.where(matriz==\"--\", np.nan, matriz).astype(np.float)\n",
        "matriz = matriz.reshape(-1,7) # 7 paises\n",
        "imaeLA = pd.DataFrame(matriz,index=fechas,columns=paises)\n",
        "imaeLA"
      ],
      "execution_count": 285,
      "outputs": [
        {
          "output_type": "execute_result",
          "data": {
            "text/html": [
              "<div>\n",
              "<style scoped>\n",
              "    .dataframe tbody tr th:only-of-type {\n",
              "        vertical-align: middle;\n",
              "    }\n",
              "\n",
              "    .dataframe tbody tr th {\n",
              "        vertical-align: top;\n",
              "    }\n",
              "\n",
              "    .dataframe thead th {\n",
              "        text-align: right;\n",
              "    }\n",
              "</style>\n",
              "<table border=\"1\" class=\"dataframe\">\n",
              "  <thead>\n",
              "    <tr style=\"text-align: right;\">\n",
              "      <th></th>\n",
              "      <th>Costa Rica</th>\n",
              "      <th>El Salvador</th>\n",
              "      <th>Guatemala</th>\n",
              "      <th>Honduras</th>\n",
              "      <th>Nicaragua</th>\n",
              "      <th>República Dominicana</th>\n",
              "      <th>Panamá</th>\n",
              "    </tr>\n",
              "  </thead>\n",
              "  <tbody>\n",
              "    <tr>\n",
              "      <th>2021-Enero</th>\n",
              "      <td>-6.59</td>\n",
              "      <td>-1.52</td>\n",
              "      <td>1.94</td>\n",
              "      <td>-5.81</td>\n",
              "      <td>0.90</td>\n",
              "      <td>-1.81</td>\n",
              "      <td>-14.63</td>\n",
              "    </tr>\n",
              "    <tr>\n",
              "      <th>2021-Febrero</th>\n",
              "      <td>-5.22</td>\n",
              "      <td>-0.79</td>\n",
              "      <td>2.59</td>\n",
              "      <td>-3.09</td>\n",
              "      <td>1.77</td>\n",
              "      <td>1.08</td>\n",
              "      <td>-9.73</td>\n",
              "    </tr>\n",
              "    <tr>\n",
              "      <th>2021-Marzo</th>\n",
              "      <td>3.54</td>\n",
              "      <td>9.78</td>\n",
              "      <td>10.14</td>\n",
              "      <td>13.52</td>\n",
              "      <td>7.95</td>\n",
              "      <td>10.60</td>\n",
              "      <td>-6.03</td>\n",
              "    </tr>\n",
              "    <tr>\n",
              "      <th>2021-Abril</th>\n",
              "      <td>12.41</td>\n",
              "      <td>28.08</td>\n",
              "      <td>15.23</td>\n",
              "      <td>26.97</td>\n",
              "      <td>15.13</td>\n",
              "      <td>47.13</td>\n",
              "      <td>21.27</td>\n",
              "    </tr>\n",
              "    <tr>\n",
              "      <th>2021-Mayo</th>\n",
              "      <td>12.63</td>\n",
              "      <td>31.10</td>\n",
              "      <td>16.30</td>\n",
              "      <td>30.54</td>\n",
              "      <td>15.78</td>\n",
              "      <td>21.21</td>\n",
              "      <td>34.21</td>\n",
              "    </tr>\n",
              "    <tr>\n",
              "      <th>2021-Junio</th>\n",
              "      <td>8.88</td>\n",
              "      <td>21.52</td>\n",
              "      <td>13.90</td>\n",
              "      <td>20.93</td>\n",
              "      <td>16.70</td>\n",
              "      <td>12.73</td>\n",
              "      <td>24.91</td>\n",
              "    </tr>\n",
              "    <tr>\n",
              "      <th>2021-Julio</th>\n",
              "      <td>14.09</td>\n",
              "      <td>NaN</td>\n",
              "      <td>10.61</td>\n",
              "      <td>NaN</td>\n",
              "      <td>NaN</td>\n",
              "      <td>12.05</td>\n",
              "      <td>NaN</td>\n",
              "    </tr>\n",
              "  </tbody>\n",
              "</table>\n",
              "</div>"
            ],
            "text/plain": [
              "              Costa Rica  El Salvador  ...  República Dominicana  Panamá\n",
              "2021-Enero         -6.59        -1.52  ...                 -1.81  -14.63\n",
              "2021-Febrero       -5.22        -0.79  ...                  1.08   -9.73\n",
              "2021-Marzo          3.54         9.78  ...                 10.60   -6.03\n",
              "2021-Abril         12.41        28.08  ...                 47.13   21.27\n",
              "2021-Mayo          12.63        31.10  ...                 21.21   34.21\n",
              "2021-Junio          8.88        21.52  ...                 12.73   24.91\n",
              "2021-Julio         14.09          NaN  ...                 12.05     NaN\n",
              "\n",
              "[7 rows x 7 columns]"
            ]
          },
          "metadata": {},
          "execution_count": 285
        }
      ]
    },
    {
      "cell_type": "markdown",
      "metadata": {
        "id": "mng9xQCphxaK"
      },
      "source": [
        "### **Argentina**\n"
      ]
    },
    {
      "cell_type": "markdown",
      "metadata": {
        "id": "5HGhiXY6MURL"
      },
      "source": [
        "#### Publicaciones disponibles las fechas: \n",
        "1. 28 sept \n",
        "2. 21 Oct\n",
        "3. 23 Nov\n",
        "4. 23 Dic"
      ]
    },
    {
      "cell_type": "code",
      "metadata": {
        "id": "8lHpEj4I7Kkk"
      },
      "source": [
        "import urllib\n",
        "url = \"https://www.indec.gob.ar/ftp/cuadros/economia/sh_emae_mensual_base2004.xls\"\n",
        "urllib.request.urlretrieve(url, \"test.xls\")\n",
        "data = pd.read_excel('test.xls',header=2)\n",
        "data1 = data.iloc[:,:4].dropna(subset = ['Período'])\n",
        "data1.reset_index(drop=True,inplace=True)\n",
        "data1['Unnamed: 0'] = data1['Unnamed: 0'].ffill() # forward fill"
      ],
      "execution_count": 286,
      "outputs": []
    },
    {
      "cell_type": "code",
      "metadata": {
        "id": "AEop9VIOYe7t"
      },
      "source": [
        "data1['fecha'] = data1['Unnamed: 0'].astype('str') +\"-\"+ data1['Período']\n",
        "data1.set_index(data1.fecha,inplace=True)\n",
        "imaeLA = pd.merge(imaeLA,data1.iloc[:,3],how='left',left_index=True,right_index=True)\n",
        "imaeLA.columns = [*imaeLA.columns[:-1], 'Argentina']\n",
        "#imaeLA"
      ],
      "execution_count": 287,
      "outputs": []
    },
    {
      "cell_type": "markdown",
      "metadata": {
        "id": "USJ5m_3XS6ji"
      },
      "source": [
        "### **Brasil**"
      ]
    },
    {
      "cell_type": "markdown",
      "metadata": {
        "id": "rhunUnSlLzy_"
      },
      "source": [
        "#### Publicaciones :\n",
        "1. 15 sept\n",
        "2. 15 Oct\n",
        "3. 16 Nov\n",
        "4. 15 Dic"
      ]
    },
    {
      "cell_type": "code",
      "metadata": {
        "id": "A6-HZYuyofz0",
        "colab": {
          "base_uri": "https://localhost:8080/",
          "height": 0
        },
        "outputId": "d5061182-151d-4779-e421-273a8368a389"
      },
      "source": [
        "urljson = \"https://api.bcb.gov.br/dados/serie/bcdata.sgs.24363/dados?formato=json\"\n",
        "urllib.request.urlretrieve(urljson, \"brasil.json\")\n",
        "bra = pd.read_json('brasil.json')\n",
        "bra['Brasil'] = bra.valor.pct_change(12)*100 # calculo tasa de crecimiento\n",
        "bra['date'] = pd.to_datetime(bra['data'],format='%d/%m/%Y') # transformamos a formato fecha\n",
        "# Creamos indice\n",
        "bra['fecha'] = pd.DatetimeIndex(bra['date']).year.astype(str) +\"-\"+pd.DatetimeIndex(bra['date']).month.astype(str)\n",
        "\n",
        "nombre_mes = [meses[i][1] for i in pd.DatetimeIndex(bra['date']).month.tolist()] # obtenemos nombre del mes\n",
        "bra['fecha'] = pd.DatetimeIndex(bra['date']).year.astype(str) +\"-\"+ nombre_mes # creamos indice\n",
        "bra.set_index(bra.fecha,inplace=True) #reemplazamos indice\n",
        "\n",
        "imaela = pd.merge(imaeLA,bra['Brasil'],how='left',left_index=True,right_index=True) # combinamos la data\n",
        "bra.tail(1)"
      ],
      "execution_count": 288,
      "outputs": [
        {
          "output_type": "execute_result",
          "data": {
            "text/html": [
              "<div>\n",
              "<style scoped>\n",
              "    .dataframe tbody tr th:only-of-type {\n",
              "        vertical-align: middle;\n",
              "    }\n",
              "\n",
              "    .dataframe tbody tr th {\n",
              "        vertical-align: top;\n",
              "    }\n",
              "\n",
              "    .dataframe thead th {\n",
              "        text-align: right;\n",
              "    }\n",
              "</style>\n",
              "<table border=\"1\" class=\"dataframe\">\n",
              "  <thead>\n",
              "    <tr style=\"text-align: right;\">\n",
              "      <th></th>\n",
              "      <th>data</th>\n",
              "      <th>valor</th>\n",
              "      <th>Brasil</th>\n",
              "      <th>date</th>\n",
              "      <th>fecha</th>\n",
              "    </tr>\n",
              "    <tr>\n",
              "      <th>fecha</th>\n",
              "      <th></th>\n",
              "      <th></th>\n",
              "      <th></th>\n",
              "      <th></th>\n",
              "      <th></th>\n",
              "    </tr>\n",
              "  </thead>\n",
              "  <tbody>\n",
              "    <tr>\n",
              "      <th>2021-Julio</th>\n",
              "      <td>01/07/2021</td>\n",
              "      <td>143.35</td>\n",
              "      <td>5.528563</td>\n",
              "      <td>2021-07-01</td>\n",
              "      <td>2021-Julio</td>\n",
              "    </tr>\n",
              "  </tbody>\n",
              "</table>\n",
              "</div>"
            ],
            "text/plain": [
              "                  data   valor    Brasil       date       fecha\n",
              "fecha                                                          \n",
              "2021-Julio  01/07/2021  143.35  5.528563 2021-07-01  2021-Julio"
            ]
          },
          "metadata": {},
          "execution_count": 288
        }
      ]
    },
    {
      "cell_type": "code",
      "metadata": {
        "id": "h4acdL1yTJx8"
      },
      "source": [
        "# imaela"
      ],
      "execution_count": 289,
      "outputs": []
    },
    {
      "cell_type": "markdown",
      "metadata": {
        "id": "YlZNkOc6pfVo"
      },
      "source": [
        "### **Mexico**"
      ]
    },
    {
      "cell_type": "code",
      "metadata": {
        "id": "G9quLL-jpnVD"
      },
      "source": [
        "url = \"https://www.inegi.org.mx/contenidos/temas/economia/cn/igae/tabulados/ori/IGAE_2.xlsx\"\n",
        "urllib.request.urlretrieve(url, \"test.xlsx\")\n",
        "mex = pd.read_excel('test.xlsx',header=3,nrows=3)\n",
        "mex = mex.T.reset_index(drop=True) # transponemos y estandarizamos el indice\n",
        "mex.drop(0,inplace=True) # borramos primera fila\n",
        "mex[2] = round(mex[2].astype(float),2) # leyendo tasas de crecimiento en el formato numerico y redondeando\n",
        "mex[0] = mex[0].ffill()"
      ],
      "execution_count": 290,
      "outputs": []
    },
    {
      "cell_type": "code",
      "metadata": {
        "id": "LJzHJQ0Pq7Kc",
        "colab": {
          "base_uri": "https://localhost:8080/",
          "height": 0
        },
        "outputId": "e9bfb265-dec3-41d6-dd5b-fa095695f34c"
      },
      "source": [
        "mex[1] = mex[1].replace(['oR','oP','lR','lP','eR','eP'],['o','o','l','l','e','e'], regex=True) #limpiar superindices \"Revisado\" \"Preliminar\"\n",
        "mex[0] = mex[0].replace('P','',regex=True) # limpiar preliminar de fecha\n",
        "mex.index = mex[0].astype('str') +\"-\"+ mex[1] #creamos indice para base de datos\n",
        "mex.columns = [*mex.columns[:-1], 'México'] # nombramos columna\n",
        "mex.dropna().tail(1) # mostrar ultimo valor no nulo"
      ],
      "execution_count": 291,
      "outputs": [
        {
          "output_type": "execute_result",
          "data": {
            "text/html": [
              "<div>\n",
              "<style scoped>\n",
              "    .dataframe tbody tr th:only-of-type {\n",
              "        vertical-align: middle;\n",
              "    }\n",
              "\n",
              "    .dataframe tbody tr th {\n",
              "        vertical-align: top;\n",
              "    }\n",
              "\n",
              "    .dataframe thead th {\n",
              "        text-align: right;\n",
              "    }\n",
              "</style>\n",
              "<table border=\"1\" class=\"dataframe\">\n",
              "  <thead>\n",
              "    <tr style=\"text-align: right;\">\n",
              "      <th></th>\n",
              "      <th>0</th>\n",
              "      <th>1</th>\n",
              "      <th>México</th>\n",
              "    </tr>\n",
              "  </thead>\n",
              "  <tbody>\n",
              "    <tr>\n",
              "      <th>2021-Junio</th>\n",
              "      <td>2021</td>\n",
              "      <td>Junio</td>\n",
              "      <td>13.32</td>\n",
              "    </tr>\n",
              "  </tbody>\n",
              "</table>\n",
              "</div>"
            ],
            "text/plain": [
              "               0      1  México\n",
              "2021-Junio  2021  Junio   13.32"
            ]
          },
          "metadata": {},
          "execution_count": 291
        }
      ]
    },
    {
      "cell_type": "code",
      "metadata": {
        "id": "QIx6594i6eEt"
      },
      "source": [
        "imaela = round(pd.merge(imaela,mex['México'],how='left',left_index=True,right_index=True),2) # combinamos las series"
      ],
      "execution_count": 292,
      "outputs": []
    },
    {
      "cell_type": "code",
      "metadata": {
        "id": "I8pV0b3HUrjM"
      },
      "source": [
        "# imaela"
      ],
      "execution_count": 293,
      "outputs": []
    },
    {
      "cell_type": "code",
      "metadata": {
        "id": "2XyzaBWtpn_0"
      },
      "source": [
        "## link excel\n",
        "#https://www.inegi.org.mx/contenidos/temas/economia/cn/igae/tabulados/ori/IGAE_1.xlsx       indice\n",
        "\n",
        "#https://www.inegi.org.mx/contenidos/temas/economia/cn/igae/tabulados/ori/IGAE_2.xlsx       crecimiento"
      ],
      "execution_count": 294,
      "outputs": []
    },
    {
      "cell_type": "markdown",
      "metadata": {
        "id": "A2MSTFg45f_H"
      },
      "source": [
        "### **Chile**"
      ]
    },
    {
      "cell_type": "code",
      "metadata": {
        "id": "bKL_VCs35h82"
      },
      "source": [
        "url = \"https://si3.bcentral.cl/estadisticas/Principal1/excel/CCNN/IMACEC/Excel/IMACEC.xlsx\"\n",
        "urllib.request.urlretrieve(url, \"chile.xlsx\")\n",
        "df = pd.read_excel('chile.xlsx',header=5,keep_default_na=False)"
      ],
      "execution_count": 295,
      "outputs": []
    },
    {
      "cell_type": "code",
      "metadata": {
        "id": "Gv8NAd-xcUEZ",
        "colab": {
          "base_uri": "https://localhost:8080/",
          "height": 0
        },
        "outputId": "bf9ff194-e612-4e6f-c6dd-89384b9554d4"
      },
      "source": [
        "chile = df.loc[1:,[df.columns[0],df.columns[1],'Imacec']][:-10] # excluimos las ultimas 10 filas (pie de pagina)\n",
        "chile.rename(columns = {'Imacec':'Chile'}, inplace = True) # renombramos\n",
        "chile.Chile = pd.to_numeric(chile.Chile).pct_change(12)*100\n",
        "###\n",
        "chile[chile.columns[0]] = pd.to_numeric(chile[chile.columns[0]], errors='coerce').ffill().bfill().astype(int)\n",
        " # las columnas del excel contienen string en blanco por lo que se transformaron a numero antes de hacer el forward fill\n",
        " # el backward fill es para asegurar que no quede NaN por detras y dificulte la creacion del indice\n",
        "###\n",
        "\n",
        "chile['mes'] = chile[chile.columns[1]].map(mes3).bfill() # creando mes y usando el bfill por el mismo motivo explicado arriba\n",
        "\n",
        "#Creamos el indice\n",
        "chile.index = chile[chile.columns[0]].astype('str') +\"-\"+ chile.mes\n",
        "\n",
        "chile.tail(1)"
      ],
      "execution_count": 296,
      "outputs": [
        {
          "output_type": "execute_result",
          "data": {
            "text/html": [
              "<div>\n",
              "<style scoped>\n",
              "    .dataframe tbody tr th:only-of-type {\n",
              "        vertical-align: middle;\n",
              "    }\n",
              "\n",
              "    .dataframe tbody tr th {\n",
              "        vertical-align: top;\n",
              "    }\n",
              "\n",
              "    .dataframe thead th {\n",
              "        text-align: right;\n",
              "    }\n",
              "</style>\n",
              "<table border=\"1\" class=\"dataframe\">\n",
              "  <thead>\n",
              "    <tr style=\"text-align: right;\">\n",
              "      <th></th>\n",
              "      <th></th>\n",
              "      <th>Unnamed: 1</th>\n",
              "      <th>Chile</th>\n",
              "      <th>mes</th>\n",
              "    </tr>\n",
              "  </thead>\n",
              "  <tbody>\n",
              "    <tr>\n",
              "      <th>2021-Julio</th>\n",
              "      <td>2021</td>\n",
              "      <td>jul</td>\n",
              "      <td>18.075599</td>\n",
              "      <td>Julio</td>\n",
              "    </tr>\n",
              "  </tbody>\n",
              "</table>\n",
              "</div>"
            ],
            "text/plain": [
              "                 Unnamed: 1      Chile    mes\n",
              "2021-Julio  2021        jul  18.075599  Julio"
            ]
          },
          "metadata": {},
          "execution_count": 296
        }
      ]
    },
    {
      "cell_type": "code",
      "metadata": {
        "id": "euH3hfbWtab4"
      },
      "source": [
        "imaela = round(pd.merge(chile['Chile'],imaela,how='right',left_index=True,right_index=True,sort=True),2).reindex(imaela.index)"
      ],
      "execution_count": 297,
      "outputs": []
    },
    {
      "cell_type": "code",
      "metadata": {
        "id": "6kQyvbAHrg2D",
        "colab": {
          "base_uri": "https://localhost:8080/",
          "height": 0
        },
        "outputId": "2cdbfc99-d960-4d42-b3e1-b797715f9dc6"
      },
      "source": [
        "imaela"
      ],
      "execution_count": 298,
      "outputs": [
        {
          "output_type": "execute_result",
          "data": {
            "text/html": [
              "<div>\n",
              "<style scoped>\n",
              "    .dataframe tbody tr th:only-of-type {\n",
              "        vertical-align: middle;\n",
              "    }\n",
              "\n",
              "    .dataframe tbody tr th {\n",
              "        vertical-align: top;\n",
              "    }\n",
              "\n",
              "    .dataframe thead th {\n",
              "        text-align: right;\n",
              "    }\n",
              "</style>\n",
              "<table border=\"1\" class=\"dataframe\">\n",
              "  <thead>\n",
              "    <tr style=\"text-align: right;\">\n",
              "      <th></th>\n",
              "      <th>Chile</th>\n",
              "      <th>Costa Rica</th>\n",
              "      <th>El Salvador</th>\n",
              "      <th>Guatemala</th>\n",
              "      <th>Honduras</th>\n",
              "      <th>Nicaragua</th>\n",
              "      <th>República Dominicana</th>\n",
              "      <th>Panamá</th>\n",
              "      <th>Argentina</th>\n",
              "      <th>Brasil</th>\n",
              "      <th>México</th>\n",
              "    </tr>\n",
              "  </thead>\n",
              "  <tbody>\n",
              "    <tr>\n",
              "      <th>2021-Enero</th>\n",
              "      <td>-2.95</td>\n",
              "      <td>-6.59</td>\n",
              "      <td>-1.52</td>\n",
              "      <td>1.94</td>\n",
              "      <td>-5.81</td>\n",
              "      <td>0.90</td>\n",
              "      <td>-1.81</td>\n",
              "      <td>-14.63</td>\n",
              "      <td>-2.03</td>\n",
              "      <td>-1.19</td>\n",
              "      <td>-5.54</td>\n",
              "    </tr>\n",
              "    <tr>\n",
              "      <th>2021-Febrero</th>\n",
              "      <td>-2.02</td>\n",
              "      <td>-5.22</td>\n",
              "      <td>-0.79</td>\n",
              "      <td>2.59</td>\n",
              "      <td>-3.09</td>\n",
              "      <td>1.77</td>\n",
              "      <td>1.08</td>\n",
              "      <td>-9.73</td>\n",
              "      <td>-2.30</td>\n",
              "      <td>0.09</td>\n",
              "      <td>-5.09</td>\n",
              "    </tr>\n",
              "    <tr>\n",
              "      <th>2021-Marzo</th>\n",
              "      <td>6.22</td>\n",
              "      <td>3.54</td>\n",
              "      <td>9.78</td>\n",
              "      <td>10.14</td>\n",
              "      <td>13.52</td>\n",
              "      <td>7.95</td>\n",
              "      <td>10.60</td>\n",
              "      <td>-6.03</td>\n",
              "      <td>11.92</td>\n",
              "      <td>5.33</td>\n",
              "      <td>0.83</td>\n",
              "    </tr>\n",
              "    <tr>\n",
              "      <th>2021-Abril</th>\n",
              "      <td>14.58</td>\n",
              "      <td>12.41</td>\n",
              "      <td>28.08</td>\n",
              "      <td>15.23</td>\n",
              "      <td>26.97</td>\n",
              "      <td>15.13</td>\n",
              "      <td>47.13</td>\n",
              "      <td>21.27</td>\n",
              "      <td>29.36</td>\n",
              "      <td>16.58</td>\n",
              "      <td>22.34</td>\n",
              "    </tr>\n",
              "    <tr>\n",
              "      <th>2021-Mayo</th>\n",
              "      <td>19.18</td>\n",
              "      <td>12.63</td>\n",
              "      <td>31.10</td>\n",
              "      <td>16.30</td>\n",
              "      <td>30.54</td>\n",
              "      <td>15.78</td>\n",
              "      <td>21.21</td>\n",
              "      <td>34.21</td>\n",
              "      <td>13.59</td>\n",
              "      <td>14.33</td>\n",
              "      <td>25.13</td>\n",
              "    </tr>\n",
              "    <tr>\n",
              "      <th>2021-Junio</th>\n",
              "      <td>20.61</td>\n",
              "      <td>8.88</td>\n",
              "      <td>21.52</td>\n",
              "      <td>13.90</td>\n",
              "      <td>20.93</td>\n",
              "      <td>16.70</td>\n",
              "      <td>12.73</td>\n",
              "      <td>24.91</td>\n",
              "      <td>10.82</td>\n",
              "      <td>9.01</td>\n",
              "      <td>13.32</td>\n",
              "    </tr>\n",
              "    <tr>\n",
              "      <th>2021-Julio</th>\n",
              "      <td>18.08</td>\n",
              "      <td>14.09</td>\n",
              "      <td>NaN</td>\n",
              "      <td>10.61</td>\n",
              "      <td>NaN</td>\n",
              "      <td>NaN</td>\n",
              "      <td>12.05</td>\n",
              "      <td>NaN</td>\n",
              "      <td>NaN</td>\n",
              "      <td>5.53</td>\n",
              "      <td>NaN</td>\n",
              "    </tr>\n",
              "  </tbody>\n",
              "</table>\n",
              "</div>"
            ],
            "text/plain": [
              "              Chile  Costa Rica  El Salvador  ...  Argentina  Brasil  México\n",
              "2021-Enero    -2.95       -6.59        -1.52  ...      -2.03   -1.19   -5.54\n",
              "2021-Febrero  -2.02       -5.22        -0.79  ...      -2.30    0.09   -5.09\n",
              "2021-Marzo     6.22        3.54         9.78  ...      11.92    5.33    0.83\n",
              "2021-Abril    14.58       12.41        28.08  ...      29.36   16.58   22.34\n",
              "2021-Mayo     19.18       12.63        31.10  ...      13.59   14.33   25.13\n",
              "2021-Junio    20.61        8.88        21.52  ...      10.82    9.01   13.32\n",
              "2021-Julio    18.08       14.09          NaN  ...        NaN    5.53     NaN\n",
              "\n",
              "[7 rows x 11 columns]"
            ]
          },
          "metadata": {},
          "execution_count": 298
        }
      ]
    },
    {
      "cell_type": "markdown",
      "metadata": {
        "id": "rSOwOPisI0mw"
      },
      "source": [
        "### **Ecuador**"
      ]
    },
    {
      "cell_type": "code",
      "metadata": {
        "id": "sscszb2Zd1gv"
      },
      "source": [
        "from pandas import errors\n",
        "url = \"https://contenido.bce.fin.ec/documentos/PublicacionesNotas/Catalogo/IEMensual/Adelantos/IEM-452-e.xlsx\"\n",
        "urllib.request.urlretrieve(url, \"Ecuador.xlsx\")\n",
        "df = pd.read_excel('Ecuador.xlsx',header=7,keep_default_na=False)[1:13].reset_index()\n",
        "\n",
        "ecu = (df.set_index(['Unnamed: 0','index'])\n",
        ".stack()\n",
        ".reset_index()\n",
        ".rename(columns={'Unnamed: 0':'mes','level_2':'Year'})).sort_values(['Year','index']) # ingenieria de base de datos\n",
        "\n",
        "# Elaboracion de indice\n",
        "ecu['Mes'] = ecu.mes.str.lower().map(mes3)\n",
        "ecu.index = ecu.Year.astype(str) + '-' + ecu.Mes\n",
        "\n",
        "# Variacion interanual\n",
        "ecu['Ecuador'] = pd.to_numeric(ecu[0],errors='coerce').pct_change(12)*100"
      ],
      "execution_count": 299,
      "outputs": []
    },
    {
      "cell_type": "code",
      "metadata": {
        "id": "ok4gz6V3nbeh"
      },
      "source": [
        "imaela = round(pd.merge(imaela,ecu['Ecuador'],how='left',left_index=True,right_index=True),2)"
      ],
      "execution_count": 300,
      "outputs": []
    },
    {
      "cell_type": "markdown",
      "metadata": {
        "id": "wrBNeqzd4se-"
      },
      "source": [
        "df = np.array(tb.read_pdf('ecuador.pdf',pages = '5',stream=True,multiple_tables=True,pandas_options={'header':None}))\n",
        "dff = pd.DataFrame(df.reshape(-1,5)) # en 2022 el reshape debe ser (-1,6)"
      ]
    },
    {
      "cell_type": "markdown",
      "metadata": {
        "id": "DYqsQgFR-FOz"
      },
      "source": [
        "dff[dff.iloc[3,2].split(' ')] = dff[2].str.split(' ',expand=True)\n",
        "if dff.iloc[3,3] in range(2020,2040,1):\n",
        "  dff[int(dff.iloc[3,3])] = dff[3]\n",
        "  dff[int(dff.iloc[3,4])] = dff[4]\n",
        "else:\n",
        "  dff[int(dff.iloc[3,4])] = dff[4]"
      ]
    },
    {
      "cell_type": "markdown",
      "metadata": {
        "id": "nOgS6gZj_kOg"
      },
      "source": [
        "if dff.iloc[18,0] in ['Ene']:\n",
        "    ecu = dff.iloc[18:30,[0,-3,-2,-1]].reset_index(drop=True)\n",
        "else:\n",
        "    ecu = dff.iloc[19:31,[0,-3,-2,-1]].reset_index(drop=True)\n",
        " \n",
        "ecu['interanualAnterior'] = ecu.iloc[:,-2].astype(float)/ecu.iloc[:,-3].astype(float)*100-100\n",
        "ecu['Ecuador'] = ecu.iloc[:,-2].astype(float)/ecu.iloc[:,-3].astype(float)*100-100\n",
        "\n",
        "listames = [meses[1:][i][1] for i in range(len(meses[1:]))]\n",
        "ecu['mes'] = listames\n",
        "\n",
        "ecu.index = str(ecu.columns[-4]) + '-' + ecu.mes\n",
        "ecu.dropna().tail(1)"
      ]
    },
    {
      "cell_type": "markdown",
      "metadata": {
        "id": "1UD90WE2qzru"
      },
      "source": [
        "### **Colombia**"
      ]
    },
    {
      "cell_type": "code",
      "metadata": {
        "id": "QKed7ixdCClu"
      },
      "source": [
        "url = 'https://www.dane.gov.co/index.php/estadisticas-por-tema/cuentas-nacionales/indicador-de-seguimiento-a-la-economia-ise/historicos-ise-comunicados-y-boletines'\n",
        "\n",
        "header= {'User-Agent': 'Mozilla/5.0 (X11; Linux x86_64) ' \n",
        "      'AppleWebKit/537.11 (KHTML, like Gecko) '\n",
        "      'Chrome/23.0.1271.64 Safari/537.11',\n",
        "      'Accept': 'text/html,application/xhtml+xml,application/xml;q=0.9,*/*;q=0.8',\n",
        "      'Accept-Charset': 'ISO-8859-1,utf-8;q=0.7,*;q=0.3',\n",
        "      'Accept-Encoding': 'none',\n",
        "      'Accept-Language': 'en-US,en;q=0.8',\n",
        "      'Connection': 'keep-alive'}\n",
        "\n",
        "req = urllib2.Request(url=url, headers=header) \n",
        "page = urllib2.urlopen(req).read()\n"
      ],
      "execution_count": 301,
      "outputs": []
    },
    {
      "cell_type": "code",
      "metadata": {
        "id": "BNLB2HxECCtl"
      },
      "source": [
        "soupco = BeautifulSoup(page,'lxml')\n",
        "links = [a['href'] for a in soupco.select(\"a[href*=2021]\")] # extraemos links que contengan 2021 \n",
        " # ultimos link disponibles"
      ],
      "execution_count": 302,
      "outputs": []
    },
    {
      "cell_type": "code",
      "metadata": {
        "id": "wbDtMlN5EnsO",
        "colab": {
          "base_uri": "https://localhost:8080/"
        },
        "outputId": "53ceb910-a146-4756-cf4f-ab90dbbc7fe8"
      },
      "source": [
        "url2 = 'https://www.dane.gov.co' + links[0] # si esta el nuevo mes restarle 1 al indice de links\n",
        "urllib2.urlretrieve(url2, \"colombia.pdf\")"
      ],
      "execution_count": 303,
      "outputs": [
        {
          "output_type": "execute_result",
          "data": {
            "text/plain": [
              "('colombia.pdf', <http.client.HTTPMessage at 0x7f7143f72d10>)"
            ]
          },
          "metadata": {},
          "execution_count": 303
        }
      ]
    },
    {
      "cell_type": "code",
      "metadata": {
        "id": "mh4CPcSfq0zU"
      },
      "source": [
        "# url = 'https://www.dane.gov.co/files/investigaciones/boletines/pib/bol_ISE_' + input('Mes en formato Mmm: ') + '2021.pdf'\n",
        "\n",
        "# urllib.request.urlretrieve(url, \"colombia.pdf\")"
      ],
      "execution_count": 304,
      "outputs": []
    },
    {
      "cell_type": "code",
      "metadata": {
        "id": "NCAIe-IytrnA",
        "colab": {
          "base_uri": "https://localhost:8080/",
          "height": 0
        },
        "outputId": "74fcd1b8-ebb1-4bb5-baef-6e672ab89a7c"
      },
      "source": [
        "df = np.array(tb.read_pdf('colombia.pdf',pages = '17',stream=True,multiple_tables=True,pandas_options={'header':None}))\n",
        "dco = pd.DataFrame(df.reshape(-1,4))\n",
        "dco = dco.loc[:,0:2]\n",
        "dco.tail(1)"
      ],
      "execution_count": 305,
      "outputs": [
        {
          "output_type": "execute_result",
          "data": {
            "text/html": [
              "<div>\n",
              "<style scoped>\n",
              "    .dataframe tbody tr th:only-of-type {\n",
              "        vertical-align: middle;\n",
              "    }\n",
              "\n",
              "    .dataframe tbody tr th {\n",
              "        vertical-align: top;\n",
              "    }\n",
              "\n",
              "    .dataframe thead th {\n",
              "        text-align: right;\n",
              "    }\n",
              "</style>\n",
              "<table border=\"1\" class=\"dataframe\">\n",
              "  <thead>\n",
              "    <tr style=\"text-align: right;\">\n",
              "      <th></th>\n",
              "      <th>0</th>\n",
              "      <th>1</th>\n",
              "      <th>2</th>\n",
              "    </tr>\n",
              "  </thead>\n",
              "  <tbody>\n",
              "    <tr>\n",
              "      <th>31</th>\n",
              "      <td>Junio</td>\n",
              "      <td>110,05</td>\n",
              "      <td>14,47 8,59</td>\n",
              "    </tr>\n",
              "  </tbody>\n",
              "</table>\n",
              "</div>"
            ],
            "text/plain": [
              "        0       1           2\n",
              "31  Junio  110,05  14,47 8,59"
            ]
          },
          "metadata": {},
          "execution_count": 305
        }
      ]
    },
    {
      "cell_type": "code",
      "metadata": {
        "id": "oIjcg_Hy3mLe"
      },
      "source": [
        "dco[3] = dco[2].str.split(' ',expand=True)[0] # Tomando las tasas de crecimiento de la tabla pdf\n",
        "dco['Colombia'] = pd.to_numeric(dco[3].str.replace(',','.'),errors='coerce')  #Convirtiendo la data a numero"
      ],
      "execution_count": 306,
      "outputs": []
    },
    {
      "cell_type": "code",
      "metadata": {
        "id": "1Za65saE00xD"
      },
      "source": [
        "split = dco[0].str.split(' - ')     # extraer mes \n",
        "fech = []\n",
        "for i in range(len(split)):\n",
        "  if type(split[i]) == float:\n",
        "    fech.append('0')\n",
        "  elif len(split[i]) == 1 :\n",
        "    fech.append(str(split[i][0]))\n",
        "  else:\n",
        "    fech.append(str(split[i][1].capitalize()))"
      ],
      "execution_count": 307,
      "outputs": []
    },
    {
      "cell_type": "code",
      "metadata": {
        "id": "7sx55Q3v7F_L"
      },
      "source": [
        "anof=[]                          # extraer año\n",
        "for i in range(len(split)):\n",
        "  if type(split[i]) == float:\n",
        "    anof.append('0')\n",
        "  elif len(split[i]) > 1 :\n",
        "    anof.append(str(split[i][0]))\n",
        "  else:\n",
        "    anof.append(np.nan)"
      ],
      "execution_count": 308,
      "outputs": []
    },
    {
      "cell_type": "code",
      "metadata": {
        "id": "E0FtIhm29EdE"
      },
      "source": [
        "dco['mes'] = fech\n",
        "dco['ano'] = anof\n",
        "dco['ano'] = dco.ano.replace(['p','r',' '],['','',''],regex=True).ffill()\n",
        "dco.index = dco['ano'] + '-' + dco['mes'] # creamos indice"
      ],
      "execution_count": 309,
      "outputs": []
    },
    {
      "cell_type": "code",
      "metadata": {
        "id": "xYXdeNQe9M3-"
      },
      "source": [
        "imaela = imaela.merge(dco['Colombia'],how='left',left_index=True,right_index=True).reindex(imaela.index)"
      ],
      "execution_count": 310,
      "outputs": []
    },
    {
      "cell_type": "markdown",
      "metadata": {
        "id": "MkoUi_tal0ST"
      },
      "source": [
        "### **Paraguay**"
      ]
    },
    {
      "cell_type": "code",
      "metadata": {
        "id": "vVlkRWfZIPOT"
      },
      "source": [
        "url = 'https://www.bcp.gov.py/indicador-mensual-de-actividad-economica-del-paraguay-imaep-i471'\n",
        "\n",
        "#the URL where you are requesting at\n",
        "req = urllib2.Request(url=url, headers=header) \n",
        "page = urllib2.urlopen(req).read()"
      ],
      "execution_count": 311,
      "outputs": []
    },
    {
      "cell_type": "code",
      "metadata": {
        "id": "OHArZO25IcoC"
      },
      "source": [
        "souppy = BeautifulSoup(page,'lxml')\n",
        "links = [a['href'] for a in souppy.select(\"a[href*=_2021]\")] # extraemos links que contengan _2021 \n",
        " # ultimos link disponibles"
      ],
      "execution_count": 312,
      "outputs": []
    },
    {
      "cell_type": "code",
      "metadata": {
        "id": "CRClNJVemnbZ",
        "outputId": "614e7295-c663-4744-fc92-71853e535d29",
        "colab": {
          "base_uri": "https://localhost:8080/"
        }
      },
      "source": [
        "#for mes in range(len(links)):\n",
        "#  linkurl = 'https://www.bcp.gov.py/' + links[-(mes+1)]\n",
        "#  urllib2.urlretrieve(linkurl, mes)\n",
        "url2 = 'https://www.bcp.gov.py/' + links[0]\n",
        "opener = urllib2.build_opener()\n",
        "opener.addheaders = [('User-agent', 'Mozilla/5.0')]\n",
        "urllib2.install_opener(opener)\n",
        "urllib2.urlretrieve(url2, \"py.pdf\")"
      ],
      "execution_count": 313,
      "outputs": [
        {
          "output_type": "execute_result",
          "data": {
            "text/plain": [
              "('py.pdf', <http.client.HTTPMessage at 0x7f7143e60d90>)"
            ]
          },
          "metadata": {},
          "execution_count": 313
        }
      ]
    },
    {
      "cell_type": "code",
      "metadata": {
        "id": "-GX4jOqCCGwz",
        "colab": {
          "base_uri": "https://localhost:8080/"
        },
        "outputId": "1c5f927f-5e38-41f0-97a2-fab7d492fbd9"
      },
      "source": [
        "with fitz.open(\"py.pdf\") as doc:\n",
        "    text = \"\"\n",
        "    for page in doc:\n",
        "        text += page.getText()\n",
        "\n",
        "fechapy = text.split(' |',2)[1] # con el espacio\n",
        "fechapy = fechapy.split(' ')[1] +'-'+fechapy.split(' ')[0]\n",
        "valorpy = text.split('variación de ',1)[1][0:4]\n",
        "valorpy = float(valorpy.replace(',','.').replace('%',''))\n",
        "print(fechapy)\n",
        "valorpy"
      ],
      "execution_count": 314,
      "outputs": [
        {
          "output_type": "stream",
          "name": "stdout",
          "text": [
            "2021-Julio\n"
          ]
        },
        {
          "output_type": "execute_result",
          "data": {
            "text/plain": [
              "3.0"
            ]
          },
          "metadata": {},
          "execution_count": 314
        }
      ]
    },
    {
      "cell_type": "code",
      "metadata": {
        "id": "byRPPvf83emR"
      },
      "source": [
        "#Añadir nuevo mes cuando salga##IMPORTANTE\n",
        "py = pd.DataFrame({'Fecha':['2021-Enero','2021-Febrero','2021-Marzo','2021-Abril','2021-Mayo','2021-Junio','2021-Julio'],\n",
        "                   'Paraguay':[-5.6,-0.5,8.0,19.3,12.4,6.6,3.0]})\n",
        "dic = {'Fecha':fechapy,'Paraguay':valorpy}\n",
        "py.append(dic,ignore_index=True)\n",
        "py.index = py.Fecha"
      ],
      "execution_count": 315,
      "outputs": []
    },
    {
      "cell_type": "code",
      "metadata": {
        "id": "V7dCKHMgz_6Q"
      },
      "source": [
        "imaela = imaela.merge(py['Paraguay'],how='left',left_index=True,right_index=True).reindex(imaela.index)"
      ],
      "execution_count": 316,
      "outputs": []
    },
    {
      "cell_type": "code",
      "metadata": {
        "id": "WT1VOTCo_u0Z"
      },
      "source": [
        "#!pip install selenium\n",
        "#!apt-get update # to update ubuntu to correctly run apt install\n",
        "#!apt install chromium-chromedriver\n",
        "#!cp /usr/lib/chromium-browser/chromedriver /usr/bin\n",
        "#import sys\n",
        "#sys.path.insert(0,'/usr/lib/chromium-browser/chromedriver')\n",
        "#from selenium import webdriver\n",
        "#chrome_options = webdriver.ChromeOptions()\n",
        "#chrome_options.add_argument('--headless')\n",
        "#chrome_options.add_argument('--no-sandbox')\n",
        "#chrome_options.add_argument('--disable-dev-shm-usage')\n",
        "#wd = webdriver.Chrome('chromedriver',chrome_options=chrome_options)"
      ],
      "execution_count": 317,
      "outputs": []
    },
    {
      "cell_type": "markdown",
      "metadata": {
        "id": "851yN-m_mxAi"
      },
      "source": [
        "## imae\n"
      ]
    },
    {
      "cell_type": "code",
      "metadata": {
        "id": "xfy2o3FYnUme",
        "colab": {
          "base_uri": "https://localhost:8080/",
          "height": 263
        },
        "outputId": "a2d974f3-a44c-46e3-e29f-7e0aa15e5c26"
      },
      "source": [
        "imaela"
      ],
      "execution_count": 318,
      "outputs": [
        {
          "output_type": "execute_result",
          "data": {
            "text/html": [
              "<div>\n",
              "<style scoped>\n",
              "    .dataframe tbody tr th:only-of-type {\n",
              "        vertical-align: middle;\n",
              "    }\n",
              "\n",
              "    .dataframe tbody tr th {\n",
              "        vertical-align: top;\n",
              "    }\n",
              "\n",
              "    .dataframe thead th {\n",
              "        text-align: right;\n",
              "    }\n",
              "</style>\n",
              "<table border=\"1\" class=\"dataframe\">\n",
              "  <thead>\n",
              "    <tr style=\"text-align: right;\">\n",
              "      <th></th>\n",
              "      <th>Chile</th>\n",
              "      <th>Costa Rica</th>\n",
              "      <th>El Salvador</th>\n",
              "      <th>Guatemala</th>\n",
              "      <th>Honduras</th>\n",
              "      <th>Nicaragua</th>\n",
              "      <th>República Dominicana</th>\n",
              "      <th>Panamá</th>\n",
              "      <th>Argentina</th>\n",
              "      <th>Brasil</th>\n",
              "      <th>México</th>\n",
              "      <th>Ecuador</th>\n",
              "      <th>Colombia</th>\n",
              "      <th>Paraguay</th>\n",
              "    </tr>\n",
              "  </thead>\n",
              "  <tbody>\n",
              "    <tr>\n",
              "      <th>2021-Enero</th>\n",
              "      <td>-2.95</td>\n",
              "      <td>-6.59</td>\n",
              "      <td>-1.52</td>\n",
              "      <td>1.94</td>\n",
              "      <td>-5.81</td>\n",
              "      <td>0.90</td>\n",
              "      <td>-1.81</td>\n",
              "      <td>-14.63</td>\n",
              "      <td>-2.03</td>\n",
              "      <td>-1.19</td>\n",
              "      <td>-5.54</td>\n",
              "      <td>-8.53</td>\n",
              "      <td>-4.46</td>\n",
              "      <td>-5.6</td>\n",
              "    </tr>\n",
              "    <tr>\n",
              "      <th>2021-Febrero</th>\n",
              "      <td>-2.02</td>\n",
              "      <td>-5.22</td>\n",
              "      <td>-0.79</td>\n",
              "      <td>2.59</td>\n",
              "      <td>-3.09</td>\n",
              "      <td>1.77</td>\n",
              "      <td>1.08</td>\n",
              "      <td>-9.73</td>\n",
              "      <td>-2.30</td>\n",
              "      <td>0.09</td>\n",
              "      <td>-5.09</td>\n",
              "      <td>-4.83</td>\n",
              "      <td>-3.73</td>\n",
              "      <td>-0.5</td>\n",
              "    </tr>\n",
              "    <tr>\n",
              "      <th>2021-Marzo</th>\n",
              "      <td>6.22</td>\n",
              "      <td>3.54</td>\n",
              "      <td>9.78</td>\n",
              "      <td>10.14</td>\n",
              "      <td>13.52</td>\n",
              "      <td>7.95</td>\n",
              "      <td>10.60</td>\n",
              "      <td>-6.03</td>\n",
              "      <td>11.92</td>\n",
              "      <td>5.33</td>\n",
              "      <td>0.83</td>\n",
              "      <td>13.59</td>\n",
              "      <td>12.38</td>\n",
              "      <td>8.0</td>\n",
              "    </tr>\n",
              "    <tr>\n",
              "      <th>2021-Abril</th>\n",
              "      <td>14.58</td>\n",
              "      <td>12.41</td>\n",
              "      <td>28.08</td>\n",
              "      <td>15.23</td>\n",
              "      <td>26.97</td>\n",
              "      <td>15.13</td>\n",
              "      <td>47.13</td>\n",
              "      <td>21.27</td>\n",
              "      <td>29.36</td>\n",
              "      <td>16.58</td>\n",
              "      <td>22.34</td>\n",
              "      <td>56.05</td>\n",
              "      <td>25.98</td>\n",
              "      <td>19.3</td>\n",
              "    </tr>\n",
              "    <tr>\n",
              "      <th>2021-Mayo</th>\n",
              "      <td>19.18</td>\n",
              "      <td>12.63</td>\n",
              "      <td>31.10</td>\n",
              "      <td>16.30</td>\n",
              "      <td>30.54</td>\n",
              "      <td>15.78</td>\n",
              "      <td>21.21</td>\n",
              "      <td>34.21</td>\n",
              "      <td>13.59</td>\n",
              "      <td>14.33</td>\n",
              "      <td>25.13</td>\n",
              "      <td>28.98</td>\n",
              "      <td>12.07</td>\n",
              "      <td>12.4</td>\n",
              "    </tr>\n",
              "    <tr>\n",
              "      <th>2021-Junio</th>\n",
              "      <td>20.61</td>\n",
              "      <td>8.88</td>\n",
              "      <td>21.52</td>\n",
              "      <td>13.90</td>\n",
              "      <td>20.93</td>\n",
              "      <td>16.70</td>\n",
              "      <td>12.73</td>\n",
              "      <td>24.91</td>\n",
              "      <td>10.82</td>\n",
              "      <td>9.01</td>\n",
              "      <td>13.32</td>\n",
              "      <td>15.95</td>\n",
              "      <td>14.47</td>\n",
              "      <td>6.6</td>\n",
              "    </tr>\n",
              "    <tr>\n",
              "      <th>2021-Julio</th>\n",
              "      <td>18.08</td>\n",
              "      <td>14.09</td>\n",
              "      <td>NaN</td>\n",
              "      <td>10.61</td>\n",
              "      <td>NaN</td>\n",
              "      <td>NaN</td>\n",
              "      <td>12.05</td>\n",
              "      <td>NaN</td>\n",
              "      <td>NaN</td>\n",
              "      <td>5.53</td>\n",
              "      <td>NaN</td>\n",
              "      <td>19.27</td>\n",
              "      <td>NaN</td>\n",
              "      <td>3.0</td>\n",
              "    </tr>\n",
              "  </tbody>\n",
              "</table>\n",
              "</div>"
            ],
            "text/plain": [
              "              Chile  Costa Rica  El Salvador  ...  Ecuador  Colombia  Paraguay\n",
              "2021-Enero    -2.95       -6.59        -1.52  ...    -8.53     -4.46      -5.6\n",
              "2021-Febrero  -2.02       -5.22        -0.79  ...    -4.83     -3.73      -0.5\n",
              "2021-Marzo     6.22        3.54         9.78  ...    13.59     12.38       8.0\n",
              "2021-Abril    14.58       12.41        28.08  ...    56.05     25.98      19.3\n",
              "2021-Mayo     19.18       12.63        31.10  ...    28.98     12.07      12.4\n",
              "2021-Junio    20.61        8.88        21.52  ...    15.95     14.47       6.6\n",
              "2021-Julio    18.08       14.09          NaN  ...    19.27       NaN       3.0\n",
              "\n",
              "[7 rows x 14 columns]"
            ]
          },
          "metadata": {},
          "execution_count": 318
        }
      ]
    }
  ]
}