{
  "nbformat": 4,
  "nbformat_minor": 0,
  "metadata": {
    "colab": {
      "name": "IMAE LATAM.ipynb",
      "provenance": [],
      "collapsed_sections": [
        "pdxAyDPTJJzP",
        "mng9xQCphxaK",
        "USJ5m_3XS6ji",
        "YlZNkOc6pfVo",
        "MkoUi_tal0ST",
        "A2MSTFg45f_H",
        "rSOwOPisI0mw"
      ],
      "authorship_tag": "ABX9TyPUtKgXv22uYajPCIxV1D2t",
      "include_colab_link": true
    },
    "kernelspec": {
      "name": "python3",
      "display_name": "Python 3"
    },
    "language_info": {
      "name": "python"
    }
  },
  "cells": [
    {
      "cell_type": "markdown",
      "metadata": {
        "id": "view-in-github",
        "colab_type": "text"
      },
      "source": [
        "<a href=\"https://colab.research.google.com/github/samyff12/LATAM/blob/main/IMAE_LATAM.ipynb\" target=\"_parent\"><img src=\"https://colab.research.google.com/assets/colab-badge.svg\" alt=\"Open In Colab\"/></a>"
      ]
    },
    {
      "cell_type": "code",
      "metadata": {
        "id": "yLpBS1jxRJUa"
      },
      "source": [
        "from bs4 import BeautifulSoup\n",
        "import pandas as pd\n",
        "import numpy as np\n",
        "import requests"
      ],
      "execution_count": 1,
      "outputs": []
    },
    {
      "cell_type": "code",
      "metadata": {
        "id": "7NNHXzvKYJ2D"
      },
      "source": [
        "#html = requests.get('http://www.secmca.org/chart/?parent=Producci%C3%B3n&scid=2&cid=1&scsid=0&son=%C3%8Dndice%20Mensual%20de%20la%20Actividad%20Econ%C3%B3mica&url=11/14/3-13-50-17-4-52-161/39/265/19-258/444/' +\n",
        " #                   '20211-20212-20213-20214-20215-20216-20217-20218-20219-202110-202111-202112-20221-20222-20223-20224-20225-20226-20227-20228-20229-202210-202211-202212' +\n",
        " #                   '-&all_vars=2|IMAE,%20variaci%C3%B3n%20interanual')\n",
        "#soup = BeautifulSoup(html.text,'lxml')\n",
        "#table = soup.find_all('p', class_='text-right')\n",
        "#tablec = soup.find_all('th', colspan='1')\n",
        "\n",
        "#indicadores=[]\n",
        "#paises =[]\n",
        "#for i in range(len(table)):\n",
        " # ind = float(table[i].text)\n",
        "#  pais = tablec[i].text\n",
        "#  indicadores.append(ind)\n",
        " # paises.append(pais)\n",
        "\n",
        "#imae_latam =  pd.DataFrame(indicadores,index = paises,columns = ['IMAE'])\n",
        "#print(f'IMAE a {fecha}')\n",
        "#imae_latam"
      ],
      "execution_count": 2,
      "outputs": []
    },
    {
      "cell_type": "code",
      "metadata": {
        "id": "Uz9LSti34_nA"
      },
      "source": [
        "meses = [0,[1,'Enero'],[2,'Febrero'],[3,'Marzo'],[4,'Abril'],[5,'Mayo'],[6,'Junio'],[7,'Julio'],[8,'Agosto'],\n",
        "         [9,'Septiembre'],[10,'Octubre'],[11,'Noviembre'],[12,'Diciembre']]\n",
        "mes3 = {'ene':'Enero','feb':'Febrero','mar':'Marzo','abr':'Abril','may':'Mayo','jun':'Junio','jul':'Julio',\n",
        "        'ago':'Agosto','sep':'Septiembre','oct':'Octubre','nov':'Noviembre','dic':'Diciembre'}\n",
        "\n",
        "### import calendar\n",
        "\n",
        "# d = dict((v,k) for k,v in enumerate(calendar.month_abbr))\n",
        "# d"
      ],
      "execution_count": 3,
      "outputs": []
    },
    {
      "cell_type": "markdown",
      "metadata": {
        "id": "982BPh5jk93l"
      },
      "source": [
        "## Para obtener las series de todo el año 2021-2022\n"
      ]
    },
    {
      "cell_type": "markdown",
      "metadata": {
        "id": "pdxAyDPTJJzP"
      },
      "source": [
        "### **SECMCA**"
      ]
    },
    {
      "cell_type": "code",
      "metadata": {
        "id": "zyl75FG7ZOym"
      },
      "source": [
        "html = requests.get('http://www.secmca.org/chart/?parent=Producci%C3%B3n&scid=2&cid=1&scsid=0&son=%C3%8Dndice%20Mensual%20de%20la%20Actividad%20Econ%C3%B3mica&url=11/14/3-13-50-17-4-52-161/39/265/19-258/444/' +\n",
        "                    '20211-20212-20213-20214-20215-20216-20217-20218-20219-202110-202111-202112-20221-20222-20223-20224-20225-20226-20227-20228-20229-202210-202211-202212' +\n",
        "                    '-&all_vars=2|IMAE,%20variaci%C3%B3n%20interanual').text\n",
        "soup = BeautifulSoup(html,'lxml')"
      ],
      "execution_count": 4,
      "outputs": []
    },
    {
      "cell_type": "code",
      "metadata": {
        "id": "HZYnwfqqr7tE",
        "colab": {
          "base_uri": "https://localhost:8080/",
          "height": 0
        },
        "outputId": "5df55e96-e5e0-42dd-e3ea-5adfe123dd61"
      },
      "source": [
        "import re\n",
        "tabpais = soup.find_all('th', colspan='1')\n",
        "table = soup.find_all('p', class_='text-left')\n",
        "fechas = []\n",
        "paises =[]\n",
        "for i in range(len(table)):\n",
        "  x = re.sub(\" \",\"\",table[i].text)\n",
        "  fechas.append(x.replace(\"\\n\",\"\"))\n",
        "  pais = tabpais[i].text\n",
        "  #indicadores.append(ind)\n",
        "  paises.append(pais)\n",
        "fechas[-1]"
      ],
      "execution_count": 5,
      "outputs": [
        {
          "output_type": "execute_result",
          "data": {
            "application/vnd.google.colaboratory.intrinsic+json": {
              "type": "string"
            },
            "text/plain": [
              "'2021-Julio'"
            ]
          },
          "metadata": {},
          "execution_count": 5
        }
      ]
    },
    {
      "cell_type": "code",
      "metadata": {
        "id": "sCY1EzkcvFfD",
        "colab": {
          "base_uri": "https://localhost:8080/",
          "height": 0
        },
        "outputId": "459e8a6e-b13e-4f02-e019-dd867bd50667"
      },
      "source": [
        "table1 = soup.find_all('p', class_='text-right')\n",
        "matriz = np.array([])\n",
        "for i in table1:\n",
        "  matriz = np.array(np.append(matriz,i))\n",
        "matriz = np.where(matriz==\"--\", np.nan, matriz).astype(np.float)\n",
        "matriz = matriz.reshape(-1,7) # 7 paises\n",
        "imaeLA = pd.DataFrame(matriz,index=fechas,columns=paises)\n",
        "imaeLA"
      ],
      "execution_count": 6,
      "outputs": [
        {
          "output_type": "execute_result",
          "data": {
            "text/html": [
              "<div>\n",
              "<style scoped>\n",
              "    .dataframe tbody tr th:only-of-type {\n",
              "        vertical-align: middle;\n",
              "    }\n",
              "\n",
              "    .dataframe tbody tr th {\n",
              "        vertical-align: top;\n",
              "    }\n",
              "\n",
              "    .dataframe thead th {\n",
              "        text-align: right;\n",
              "    }\n",
              "</style>\n",
              "<table border=\"1\" class=\"dataframe\">\n",
              "  <thead>\n",
              "    <tr style=\"text-align: right;\">\n",
              "      <th></th>\n",
              "      <th>Costa Rica</th>\n",
              "      <th>El Salvador</th>\n",
              "      <th>Guatemala</th>\n",
              "      <th>Honduras</th>\n",
              "      <th>Nicaragua</th>\n",
              "      <th>República Dominicana</th>\n",
              "      <th>Panamá</th>\n",
              "    </tr>\n",
              "  </thead>\n",
              "  <tbody>\n",
              "    <tr>\n",
              "      <th>2021-Enero</th>\n",
              "      <td>-6.29</td>\n",
              "      <td>-1.52</td>\n",
              "      <td>1.94</td>\n",
              "      <td>-5.81</td>\n",
              "      <td>0.90</td>\n",
              "      <td>-1.81</td>\n",
              "      <td>-14.63</td>\n",
              "    </tr>\n",
              "    <tr>\n",
              "      <th>2021-Febrero</th>\n",
              "      <td>-4.94</td>\n",
              "      <td>-0.79</td>\n",
              "      <td>2.59</td>\n",
              "      <td>-3.09</td>\n",
              "      <td>1.77</td>\n",
              "      <td>1.08</td>\n",
              "      <td>-9.73</td>\n",
              "    </tr>\n",
              "    <tr>\n",
              "      <th>2021-Marzo</th>\n",
              "      <td>3.35</td>\n",
              "      <td>9.78</td>\n",
              "      <td>10.14</td>\n",
              "      <td>13.52</td>\n",
              "      <td>7.95</td>\n",
              "      <td>10.60</td>\n",
              "      <td>-6.03</td>\n",
              "    </tr>\n",
              "    <tr>\n",
              "      <th>2021-Abril</th>\n",
              "      <td>12.39</td>\n",
              "      <td>28.08</td>\n",
              "      <td>15.23</td>\n",
              "      <td>26.97</td>\n",
              "      <td>15.13</td>\n",
              "      <td>47.13</td>\n",
              "      <td>21.27</td>\n",
              "    </tr>\n",
              "    <tr>\n",
              "      <th>2021-Mayo</th>\n",
              "      <td>12.70</td>\n",
              "      <td>31.10</td>\n",
              "      <td>16.30</td>\n",
              "      <td>30.54</td>\n",
              "      <td>15.78</td>\n",
              "      <td>21.21</td>\n",
              "      <td>34.21</td>\n",
              "    </tr>\n",
              "    <tr>\n",
              "      <th>2021-Junio</th>\n",
              "      <td>8.37</td>\n",
              "      <td>21.52</td>\n",
              "      <td>13.90</td>\n",
              "      <td>20.93</td>\n",
              "      <td>16.70</td>\n",
              "      <td>12.73</td>\n",
              "      <td>24.91</td>\n",
              "    </tr>\n",
              "    <tr>\n",
              "      <th>2021-Julio</th>\n",
              "      <td>NaN</td>\n",
              "      <td>NaN</td>\n",
              "      <td>10.61</td>\n",
              "      <td>NaN</td>\n",
              "      <td>NaN</td>\n",
              "      <td>12.05</td>\n",
              "      <td>NaN</td>\n",
              "    </tr>\n",
              "  </tbody>\n",
              "</table>\n",
              "</div>"
            ],
            "text/plain": [
              "              Costa Rica  El Salvador  ...  República Dominicana  Panamá\n",
              "2021-Enero         -6.29        -1.52  ...                 -1.81  -14.63\n",
              "2021-Febrero       -4.94        -0.79  ...                  1.08   -9.73\n",
              "2021-Marzo          3.35         9.78  ...                 10.60   -6.03\n",
              "2021-Abril         12.39        28.08  ...                 47.13   21.27\n",
              "2021-Mayo          12.70        31.10  ...                 21.21   34.21\n",
              "2021-Junio          8.37        21.52  ...                 12.73   24.91\n",
              "2021-Julio           NaN          NaN  ...                 12.05     NaN\n",
              "\n",
              "[7 rows x 7 columns]"
            ]
          },
          "metadata": {},
          "execution_count": 6
        }
      ]
    },
    {
      "cell_type": "markdown",
      "metadata": {
        "id": "mng9xQCphxaK"
      },
      "source": [
        "### **Argentina**\n"
      ]
    },
    {
      "cell_type": "markdown",
      "metadata": {
        "id": "5HGhiXY6MURL"
      },
      "source": [
        "#### Publicaciones disponibles las fechas: \n",
        "1. 28 sept \n",
        "2. 21 Oct\n",
        "3. 23 Nov\n",
        "4. 23 Dic"
      ]
    },
    {
      "cell_type": "code",
      "metadata": {
        "id": "8lHpEj4I7Kkk"
      },
      "source": [
        "import urllib\n",
        "url = \"https://www.indec.gob.ar/ftp/cuadros/economia/sh_emae_mensual_base2004.xls\"\n",
        "urllib.request.urlretrieve(url, \"test.xls\")\n",
        "data = pd.read_excel('test.xls',header=2)\n",
        "data1 = data.iloc[:,:4].dropna(subset = ['Período'])\n",
        "data1.reset_index(drop=True,inplace=True)\n",
        "data1['Unnamed: 0'] = data1['Unnamed: 0'].ffill() # forward fill"
      ],
      "execution_count": 7,
      "outputs": []
    },
    {
      "cell_type": "code",
      "metadata": {
        "id": "AEop9VIOYe7t"
      },
      "source": [
        "data1['fecha'] = data1['Unnamed: 0'].astype('str') +\"-\"+ data1['Período']\n",
        "data1.set_index(data1.fecha,inplace=True)\n",
        "imaeLA = pd.merge(imaeLA,data1.iloc[:,3],how='left',left_index=True,right_index=True)\n",
        "imaeLA.columns = [*imaeLA.columns[:-1], 'Argentina']\n",
        "#imaeLA"
      ],
      "execution_count": 8,
      "outputs": []
    },
    {
      "cell_type": "markdown",
      "metadata": {
        "id": "USJ5m_3XS6ji"
      },
      "source": [
        "### **Brasil**"
      ]
    },
    {
      "cell_type": "markdown",
      "metadata": {
        "id": "rhunUnSlLzy_"
      },
      "source": [
        "#### Publicaciones :\n",
        "1. 15 sept\n",
        "2. 15 Oct\n",
        "3. 16 Nov\n",
        "4. 15 Dic"
      ]
    },
    {
      "cell_type": "code",
      "metadata": {
        "id": "A6-HZYuyofz0",
        "colab": {
          "base_uri": "https://localhost:8080/",
          "height": 111
        },
        "outputId": "eeecf730-6a34-4a2e-e4b7-8f2d6c951733"
      },
      "source": [
        "urljson = \"https://api.bcb.gov.br/dados/serie/bcdata.sgs.24363/dados?formato=json\"\n",
        "urllib.request.urlretrieve(urljson, \"brasil.json\")\n",
        "bra = pd.read_json('test.json')\n",
        "bra['Brasil'] = bra.valor.pct_change(12)*100 # calculo tasa de crecimiento\n",
        "bra['date'] = pd.to_datetime(bra['data'],format='%d/%m/%Y') # transformamos a formato fecha\n",
        "# Creamos indice\n",
        "bra['fecha'] = pd.DatetimeIndex(bra['date']).year.astype(str) +\"-\"+pd.DatetimeIndex(bra['date']).month.astype(str)\n",
        "\n",
        "nombre_mes = [meses[i][1] for i in pd.DatetimeIndex(bra['date']).month.tolist()] # obtenemos nombre del mes\n",
        "bra['fecha'] = pd.DatetimeIndex(bra['date']).year.astype(str) +\"-\"+ nombre_mes # creamos indice\n",
        "bra.set_index(bra.fecha,inplace=True) #reemplazamos indice\n",
        "\n",
        "imaela = pd.merge(imaeLA,bra['Brasil'],how='left',left_index=True,right_index=True) # combinamos la data\n",
        "bra.tail(1)"
      ],
      "execution_count": 9,
      "outputs": [
        {
          "output_type": "execute_result",
          "data": {
            "text/html": [
              "<div>\n",
              "<style scoped>\n",
              "    .dataframe tbody tr th:only-of-type {\n",
              "        vertical-align: middle;\n",
              "    }\n",
              "\n",
              "    .dataframe tbody tr th {\n",
              "        vertical-align: top;\n",
              "    }\n",
              "\n",
              "    .dataframe thead th {\n",
              "        text-align: right;\n",
              "    }\n",
              "</style>\n",
              "<table border=\"1\" class=\"dataframe\">\n",
              "  <thead>\n",
              "    <tr style=\"text-align: right;\">\n",
              "      <th></th>\n",
              "      <th>data</th>\n",
              "      <th>valor</th>\n",
              "      <th>Brasil</th>\n",
              "      <th>date</th>\n",
              "      <th>fecha</th>\n",
              "    </tr>\n",
              "    <tr>\n",
              "      <th>fecha</th>\n",
              "      <th></th>\n",
              "      <th></th>\n",
              "      <th></th>\n",
              "      <th></th>\n",
              "      <th></th>\n",
              "    </tr>\n",
              "  </thead>\n",
              "  <tbody>\n",
              "    <tr>\n",
              "      <th>2021-Junio</th>\n",
              "      <td>01/06/2021</td>\n",
              "      <td>137.59</td>\n",
              "      <td>9.068569</td>\n",
              "      <td>2021-06-01</td>\n",
              "      <td>2021-Junio</td>\n",
              "    </tr>\n",
              "  </tbody>\n",
              "</table>\n",
              "</div>"
            ],
            "text/plain": [
              "                  data   valor    Brasil       date       fecha\n",
              "fecha                                                          \n",
              "2021-Junio  01/06/2021  137.59  9.068569 2021-06-01  2021-Junio"
            ]
          },
          "metadata": {},
          "execution_count": 9
        }
      ]
    },
    {
      "cell_type": "code",
      "metadata": {
        "id": "h4acdL1yTJx8"
      },
      "source": [
        "# imaela"
      ],
      "execution_count": 10,
      "outputs": []
    },
    {
      "cell_type": "markdown",
      "metadata": {
        "id": "YlZNkOc6pfVo"
      },
      "source": [
        "### **Mexico**"
      ]
    },
    {
      "cell_type": "code",
      "metadata": {
        "id": "G9quLL-jpnVD"
      },
      "source": [
        "url = \"https://www.inegi.org.mx/contenidos/temas/economia/cn/igae/tabulados/ori/IGAE_2.xlsx\"\n",
        "urllib.request.urlretrieve(url, \"test.xlsx\")\n",
        "mex = pd.read_excel('test.xlsx',header=3,nrows=3)\n",
        "mex = mex.T.reset_index(drop=True) # transponemos y estandarizamos el indice\n",
        "mex.drop(0,inplace=True) # borramos primera fila\n",
        "mex[2] = round(mex[2].astype(float),2) # leyendo tasas de crecimiento en el formato numerico y redondeando\n",
        "mex[0] = mex[0].ffill()"
      ],
      "execution_count": 11,
      "outputs": []
    },
    {
      "cell_type": "code",
      "metadata": {
        "id": "LJzHJQ0Pq7Kc",
        "colab": {
          "base_uri": "https://localhost:8080/",
          "height": 0
        },
        "outputId": "d5759b48-6e56-4460-9b80-3596c07fa1e6"
      },
      "source": [
        "mex[1] = mex[1].replace(['oR','oP','lR','lP','eR','eP'],['o','o','l','l','e','e'], regex=True) #limpiar superindices \"Revisado\" \"Preliminar\"\n",
        "mex[0] = mex[0].replace('P','',regex=True) # limpiar preliminar de fecha\n",
        "mex.index = mex[0].astype('str') +\"-\"+ mex[1] #creamos indice para base de datos\n",
        "mex.columns = [*mex.columns[:-1], 'México'] # nombramos columna\n",
        "mex.dropna().tail(1) # mostrar ultimo valor no nulo"
      ],
      "execution_count": 12,
      "outputs": [
        {
          "output_type": "execute_result",
          "data": {
            "text/html": [
              "<div>\n",
              "<style scoped>\n",
              "    .dataframe tbody tr th:only-of-type {\n",
              "        vertical-align: middle;\n",
              "    }\n",
              "\n",
              "    .dataframe tbody tr th {\n",
              "        vertical-align: top;\n",
              "    }\n",
              "\n",
              "    .dataframe thead th {\n",
              "        text-align: right;\n",
              "    }\n",
              "</style>\n",
              "<table border=\"1\" class=\"dataframe\">\n",
              "  <thead>\n",
              "    <tr style=\"text-align: right;\">\n",
              "      <th></th>\n",
              "      <th>0</th>\n",
              "      <th>1</th>\n",
              "      <th>México</th>\n",
              "    </tr>\n",
              "  </thead>\n",
              "  <tbody>\n",
              "    <tr>\n",
              "      <th>2021-Junio</th>\n",
              "      <td>2021</td>\n",
              "      <td>Junio</td>\n",
              "      <td>13.32</td>\n",
              "    </tr>\n",
              "  </tbody>\n",
              "</table>\n",
              "</div>"
            ],
            "text/plain": [
              "               0      1  México\n",
              "2021-Junio  2021  Junio   13.32"
            ]
          },
          "metadata": {},
          "execution_count": 12
        }
      ]
    },
    {
      "cell_type": "code",
      "metadata": {
        "id": "QIx6594i6eEt"
      },
      "source": [
        "imaela = round(pd.merge(imaela,mex['México'],how='left',left_index=True,right_index=True),2) # combinamos las series"
      ],
      "execution_count": 13,
      "outputs": []
    },
    {
      "cell_type": "code",
      "metadata": {
        "id": "I8pV0b3HUrjM"
      },
      "source": [
        "# imaela"
      ],
      "execution_count": 14,
      "outputs": []
    },
    {
      "cell_type": "code",
      "metadata": {
        "id": "2XyzaBWtpn_0"
      },
      "source": [
        "## link excel\n",
        "#https://www.inegi.org.mx/contenidos/temas/economia/cn/igae/tabulados/ori/IGAE_1.xlsx       indice\n",
        "\n",
        "#https://www.inegi.org.mx/contenidos/temas/economia/cn/igae/tabulados/ori/IGAE_2.xlsx       crecimiento"
      ],
      "execution_count": 15,
      "outputs": []
    },
    {
      "cell_type": "markdown",
      "metadata": {
        "id": "MkoUi_tal0ST"
      },
      "source": [
        "### **Paraguay**"
      ]
    },
    {
      "cell_type": "code",
      "metadata": {
        "id": "CRClNJVemnbZ",
        "colab": {
          "base_uri": "https://localhost:8080/"
        },
        "outputId": "684b92aa-df62-4edf-cb90-2da1a87e3e26"
      },
      "source": [
        "#html_paraguay = requests.get('https://www.bcp.gov.py/indicador-mensual-de-actividad-economica-del-paraguay-imaep-i471').text\n",
        "#soup_py = BeautifulSoup(html_paraguay,'lxml')\n",
        "#soup_py"
      ],
      "execution_count": 16,
      "outputs": [
        {
          "output_type": "execute_result",
          "data": {
            "text/plain": [
              "<!DOCTYPE HTML PUBLIC \"-//IETF//DTD HTML 2.0//EN\">\n",
              "<html><head>\n",
              "<title>403 Forbidden</title>\n",
              "</head><body>\n",
              "<h1>Forbidden</h1>\n",
              "<p>You don't have permission to access /indicador-mensual-de-actividad-economica-del-paraguay-imaep-i471\n",
              "on this server.</p>\n",
              "</body></html>"
            ]
          },
          "metadata": {},
          "execution_count": 16
        }
      ]
    },
    {
      "cell_type": "code",
      "metadata": {
        "id": "WT1VOTCo_u0Z"
      },
      "source": [
        "#!pip install selenium\n",
        "#!apt-get update # to update ubuntu to correctly run apt install\n",
        "#!apt install chromium-chromedriver\n",
        "#!cp /usr/lib/chromium-browser/chromedriver /usr/bin\n",
        "#import sys\n",
        "#sys.path.insert(0,'/usr/lib/chromium-browser/chromedriver')\n",
        "#from selenium import webdriver\n",
        "#chrome_options = webdriver.ChromeOptions()\n",
        "#chrome_options.add_argument('--headless')\n",
        "#chrome_options.add_argument('--no-sandbox')\n",
        "#chrome_options.add_argument('--disable-dev-shm-usage')\n",
        "#wd = webdriver.Chrome('chromedriver',chrome_options=chrome_options)"
      ],
      "execution_count": null,
      "outputs": []
    },
    {
      "cell_type": "markdown",
      "metadata": {
        "id": "A2MSTFg45f_H"
      },
      "source": [
        "### **Chile**"
      ]
    },
    {
      "cell_type": "code",
      "metadata": {
        "id": "bKL_VCs35h82"
      },
      "source": [
        "url = \"https://si3.bcentral.cl/estadisticas/Principal1/excel/CCNN/IMACEC/Excel/IMACEC.xlsx\"\n",
        "urllib.request.urlretrieve(url, \"chile.xlsx\")\n",
        "df = pd.read_excel('chile.xlsx',header=5,keep_default_na=False)"
      ],
      "execution_count": 18,
      "outputs": []
    },
    {
      "cell_type": "code",
      "metadata": {
        "id": "Gv8NAd-xcUEZ",
        "colab": {
          "base_uri": "https://localhost:8080/",
          "height": 0
        },
        "outputId": "2cc81a08-82d9-4671-8592-804e38bc1e5a"
      },
      "source": [
        "chile = df.loc[1:,[df.columns[0],df.columns[1],'Imacec']][:-10] # excluimos las ultimas 10 filas (pie de pagina)\n",
        "chile.rename(columns = {'Imacec':'Chile'}, inplace = True) # renombramos\n",
        "chile.Chile = pd.to_numeric(chile.Chile).pct_change(12)*100\n",
        "###\n",
        "chile[chile.columns[0]] = pd.to_numeric(chile[chile.columns[0]], errors='coerce').ffill().bfill().astype(int)\n",
        " # las columnas del excel contienen string en blanco por lo que se transformaron a numero antes de hacer el forward fill\n",
        " # el backward fill es para asegurar que no quede NaN por detras y dificulte la creacion del indice\n",
        "###\n",
        "\n",
        "chile['mes'] = chile[chile.columns[1]].map(mes3).bfill() # creando mes y usando el bfill por el mismo motivo explicado arriba\n",
        "\n",
        "#Creamos el indice\n",
        "chile.index = chile[chile.columns[0]].astype('str') +\"-\"+ chile.mes\n",
        "\n",
        "chile.tail(1)"
      ],
      "execution_count": 19,
      "outputs": [
        {
          "output_type": "execute_result",
          "data": {
            "text/html": [
              "<div>\n",
              "<style scoped>\n",
              "    .dataframe tbody tr th:only-of-type {\n",
              "        vertical-align: middle;\n",
              "    }\n",
              "\n",
              "    .dataframe tbody tr th {\n",
              "        vertical-align: top;\n",
              "    }\n",
              "\n",
              "    .dataframe thead th {\n",
              "        text-align: right;\n",
              "    }\n",
              "</style>\n",
              "<table border=\"1\" class=\"dataframe\">\n",
              "  <thead>\n",
              "    <tr style=\"text-align: right;\">\n",
              "      <th></th>\n",
              "      <th></th>\n",
              "      <th>Unnamed: 1</th>\n",
              "      <th>Chile</th>\n",
              "      <th>mes</th>\n",
              "    </tr>\n",
              "  </thead>\n",
              "  <tbody>\n",
              "    <tr>\n",
              "      <th>2021-Julio</th>\n",
              "      <td>2021</td>\n",
              "      <td>jul</td>\n",
              "      <td>18.075599</td>\n",
              "      <td>Julio</td>\n",
              "    </tr>\n",
              "  </tbody>\n",
              "</table>\n",
              "</div>"
            ],
            "text/plain": [
              "                 Unnamed: 1      Chile    mes\n",
              "2021-Julio  2021        jul  18.075599  Julio"
            ]
          },
          "metadata": {},
          "execution_count": 19
        }
      ]
    },
    {
      "cell_type": "code",
      "metadata": {
        "id": "euH3hfbWtab4"
      },
      "source": [
        "imaela = round(pd.merge(chile['Chile'],imaela,how='right',left_index=True,right_index=True,sort=True),2).reindex(imaela.index)"
      ],
      "execution_count": 20,
      "outputs": []
    },
    {
      "cell_type": "code",
      "metadata": {
        "id": "6kQyvbAHrg2D",
        "colab": {
          "base_uri": "https://localhost:8080/",
          "height": 0
        },
        "outputId": "762586c5-3fbd-46fe-d179-1d004057f209"
      },
      "source": [
        "imaela"
      ],
      "execution_count": 21,
      "outputs": [
        {
          "output_type": "execute_result",
          "data": {
            "text/html": [
              "<div>\n",
              "<style scoped>\n",
              "    .dataframe tbody tr th:only-of-type {\n",
              "        vertical-align: middle;\n",
              "    }\n",
              "\n",
              "    .dataframe tbody tr th {\n",
              "        vertical-align: top;\n",
              "    }\n",
              "\n",
              "    .dataframe thead th {\n",
              "        text-align: right;\n",
              "    }\n",
              "</style>\n",
              "<table border=\"1\" class=\"dataframe\">\n",
              "  <thead>\n",
              "    <tr style=\"text-align: right;\">\n",
              "      <th></th>\n",
              "      <th>Chile</th>\n",
              "      <th>Costa Rica</th>\n",
              "      <th>El Salvador</th>\n",
              "      <th>Guatemala</th>\n",
              "      <th>Honduras</th>\n",
              "      <th>Nicaragua</th>\n",
              "      <th>República Dominicana</th>\n",
              "      <th>Panamá</th>\n",
              "      <th>Argentina</th>\n",
              "      <th>Brasil</th>\n",
              "      <th>México</th>\n",
              "    </tr>\n",
              "  </thead>\n",
              "  <tbody>\n",
              "    <tr>\n",
              "      <th>2021-Enero</th>\n",
              "      <td>-2.95</td>\n",
              "      <td>-6.29</td>\n",
              "      <td>-1.52</td>\n",
              "      <td>1.94</td>\n",
              "      <td>-5.81</td>\n",
              "      <td>0.90</td>\n",
              "      <td>-1.81</td>\n",
              "      <td>-14.63</td>\n",
              "      <td>-2.03</td>\n",
              "      <td>-1.13</td>\n",
              "      <td>-5.54</td>\n",
              "    </tr>\n",
              "    <tr>\n",
              "      <th>2021-Febrero</th>\n",
              "      <td>-2.02</td>\n",
              "      <td>-4.94</td>\n",
              "      <td>-0.79</td>\n",
              "      <td>2.59</td>\n",
              "      <td>-3.09</td>\n",
              "      <td>1.77</td>\n",
              "      <td>1.08</td>\n",
              "      <td>-9.73</td>\n",
              "      <td>-2.30</td>\n",
              "      <td>0.12</td>\n",
              "      <td>-5.09</td>\n",
              "    </tr>\n",
              "    <tr>\n",
              "      <th>2021-Marzo</th>\n",
              "      <td>6.22</td>\n",
              "      <td>3.35</td>\n",
              "      <td>9.78</td>\n",
              "      <td>10.14</td>\n",
              "      <td>13.52</td>\n",
              "      <td>7.95</td>\n",
              "      <td>10.60</td>\n",
              "      <td>-6.03</td>\n",
              "      <td>11.92</td>\n",
              "      <td>5.30</td>\n",
              "      <td>0.83</td>\n",
              "    </tr>\n",
              "    <tr>\n",
              "      <th>2021-Abril</th>\n",
              "      <td>14.58</td>\n",
              "      <td>12.39</td>\n",
              "      <td>28.08</td>\n",
              "      <td>15.23</td>\n",
              "      <td>26.97</td>\n",
              "      <td>15.13</td>\n",
              "      <td>47.13</td>\n",
              "      <td>21.27</td>\n",
              "      <td>29.36</td>\n",
              "      <td>16.52</td>\n",
              "      <td>22.34</td>\n",
              "    </tr>\n",
              "    <tr>\n",
              "      <th>2021-Mayo</th>\n",
              "      <td>19.18</td>\n",
              "      <td>12.70</td>\n",
              "      <td>31.10</td>\n",
              "      <td>16.30</td>\n",
              "      <td>30.54</td>\n",
              "      <td>15.78</td>\n",
              "      <td>21.21</td>\n",
              "      <td>34.21</td>\n",
              "      <td>13.59</td>\n",
              "      <td>14.15</td>\n",
              "      <td>25.13</td>\n",
              "    </tr>\n",
              "    <tr>\n",
              "      <th>2021-Junio</th>\n",
              "      <td>20.61</td>\n",
              "      <td>8.37</td>\n",
              "      <td>21.52</td>\n",
              "      <td>13.90</td>\n",
              "      <td>20.93</td>\n",
              "      <td>16.70</td>\n",
              "      <td>12.73</td>\n",
              "      <td>24.91</td>\n",
              "      <td>10.82</td>\n",
              "      <td>9.07</td>\n",
              "      <td>13.32</td>\n",
              "    </tr>\n",
              "    <tr>\n",
              "      <th>2021-Julio</th>\n",
              "      <td>18.08</td>\n",
              "      <td>NaN</td>\n",
              "      <td>NaN</td>\n",
              "      <td>10.61</td>\n",
              "      <td>NaN</td>\n",
              "      <td>NaN</td>\n",
              "      <td>12.05</td>\n",
              "      <td>NaN</td>\n",
              "      <td>NaN</td>\n",
              "      <td>NaN</td>\n",
              "      <td>NaN</td>\n",
              "    </tr>\n",
              "  </tbody>\n",
              "</table>\n",
              "</div>"
            ],
            "text/plain": [
              "              Chile  Costa Rica  El Salvador  ...  Argentina  Brasil  México\n",
              "2021-Enero    -2.95       -6.29        -1.52  ...      -2.03   -1.13   -5.54\n",
              "2021-Febrero  -2.02       -4.94        -0.79  ...      -2.30    0.12   -5.09\n",
              "2021-Marzo     6.22        3.35         9.78  ...      11.92    5.30    0.83\n",
              "2021-Abril    14.58       12.39        28.08  ...      29.36   16.52   22.34\n",
              "2021-Mayo     19.18       12.70        31.10  ...      13.59   14.15   25.13\n",
              "2021-Junio    20.61        8.37        21.52  ...      10.82    9.07   13.32\n",
              "2021-Julio    18.08         NaN          NaN  ...        NaN     NaN     NaN\n",
              "\n",
              "[7 rows x 11 columns]"
            ]
          },
          "metadata": {},
          "execution_count": 21
        }
      ]
    },
    {
      "cell_type": "markdown",
      "metadata": {
        "id": "rSOwOPisI0mw"
      },
      "source": [
        "### **Ecuador**"
      ]
    },
    {
      "cell_type": "code",
      "metadata": {
        "id": "sscszb2Zd1gv",
        "colab": {
          "base_uri": "https://localhost:8080/"
        },
        "outputId": "6639b360-0270-4b25-d35b-780724ce67b5"
      },
      "source": [
        "!pip install tabula-py\n",
        "import tabula as tb"
      ],
      "execution_count": 22,
      "outputs": [
        {
          "output_type": "stream",
          "name": "stdout",
          "text": [
            "Collecting tabula-py\n",
            "  Downloading tabula_py-2.3.0-py3-none-any.whl (12.0 MB)\n",
            "\u001b[K     |████████████████████████████████| 12.0 MB 5.2 MB/s \n",
            "\u001b[?25hCollecting distro\n",
            "  Downloading distro-1.6.0-py2.py3-none-any.whl (19 kB)\n",
            "Requirement already satisfied: pandas>=0.25.3 in /usr/local/lib/python3.7/dist-packages (from tabula-py) (1.1.5)\n",
            "Requirement already satisfied: numpy in /usr/local/lib/python3.7/dist-packages (from tabula-py) (1.19.5)\n",
            "Requirement already satisfied: python-dateutil>=2.7.3 in /usr/local/lib/python3.7/dist-packages (from pandas>=0.25.3->tabula-py) (2.8.2)\n",
            "Requirement already satisfied: pytz>=2017.2 in /usr/local/lib/python3.7/dist-packages (from pandas>=0.25.3->tabula-py) (2018.9)\n",
            "Requirement already satisfied: six>=1.5 in /usr/local/lib/python3.7/dist-packages (from python-dateutil>=2.7.3->pandas>=0.25.3->tabula-py) (1.15.0)\n",
            "Installing collected packages: distro, tabula-py\n",
            "Successfully installed distro-1.6.0 tabula-py-2.3.0\n"
          ]
        }
      ]
    },
    {
      "cell_type": "code",
      "metadata": {
        "id": "ok4gz6V3nbeh",
        "colab": {
          "base_uri": "https://localhost:8080/"
        },
        "outputId": "04511dbe-60aa-41a8-a6a9-9e0e0f5414b2"
      },
      "source": [
        "url = 'https://contenido.bce.fin.ec/documentos/Estadisticas/SectorReal/Previsiones/IDEAC'+ input('Número de reporte: ') +'.pdf'\n",
        "urllib.request.urlretrieve(url, \"ecuador.pdf\")"
      ],
      "execution_count": 30,
      "outputs": [
        {
          "name": "stdout",
          "output_type": "stream",
          "text": [
            "Número de reporte35\n"
          ]
        },
        {
          "output_type": "execute_result",
          "data": {
            "text/plain": [
              "('ecuador.pdf', <http.client.HTTPMessage at 0x7f905d0a0550>)"
            ]
          },
          "metadata": {},
          "execution_count": 30
        }
      ]
    },
    {
      "cell_type": "code",
      "metadata": {
        "id": "wrBNeqzd4se-"
      },
      "source": [
        "df = np.array(tb.read_pdf('ecuador.pdf',pages = '5',stream=True,multiple_tables=True,pandas_options={'header':None}))\n",
        "dff = pd.DataFrame(df.reshape(-1,5)) # en 2022 el reshape debe ser (-1,6)"
      ],
      "execution_count": 24,
      "outputs": []
    },
    {
      "cell_type": "code",
      "metadata": {
        "id": "DYqsQgFR-FOz"
      },
      "source": [
        "dff[dff.iloc[3,2].split(' ')] = dff[2].str.split(' ',expand=True)\n",
        "if dff.iloc[3,3] in range(2020,2040,1):\n",
        "  dff[int(dff.iloc[3,3])] = dff[3]\n",
        "  dff[int(dff.iloc[3,4])] = dff[4]\n",
        "else:\n",
        "  dff[int(dff.iloc[3,4])] = dff[4]"
      ],
      "execution_count": 25,
      "outputs": []
    },
    {
      "cell_type": "code",
      "metadata": {
        "colab": {
          "base_uri": "https://localhost:8080/",
          "height": 111
        },
        "id": "nOgS6gZj_kOg",
        "outputId": "53a3517a-60c3-474e-ca61-a8dfd42d8600"
      },
      "source": [
        "if dff.iloc[18,0] in ['Ene']:\n",
        "    ecu = dff.iloc[18:30,[0,-3,-2,-1]].reset_index(drop=True)\n",
        "else:\n",
        "    ecu = dff.iloc[19:31,[0,-3,-2,-1]].reset_index(drop=True)\n",
        " \n",
        "ecu['interanualAnterior'] = ecu.iloc[:,-2].astype(float)/ecu.iloc[:,-3].astype(float)*100-100\n",
        "ecu['Ecuador'] = ecu.iloc[:,-2].astype(float)/ecu.iloc[:,-3].astype(float)*100-100\n",
        "\n",
        "listames = [meses[1:][i][1] for i in range(len(meses[1:]))]\n",
        "ecu['mes'] = listames\n",
        "\n",
        "ecu.index = str(ecu.columns[-4]) + '-' + ecu.mes\n",
        "ecu.dropna().tail(1)"
      ],
      "execution_count": 26,
      "outputs": [
        {
          "output_type": "execute_result",
          "data": {
            "text/html": [
              "<div>\n",
              "<style scoped>\n",
              "    .dataframe tbody tr th:only-of-type {\n",
              "        vertical-align: middle;\n",
              "    }\n",
              "\n",
              "    .dataframe tbody tr th {\n",
              "        vertical-align: top;\n",
              "    }\n",
              "\n",
              "    .dataframe thead th {\n",
              "        text-align: right;\n",
              "    }\n",
              "</style>\n",
              "<table border=\"1\" class=\"dataframe\">\n",
              "  <thead>\n",
              "    <tr style=\"text-align: right;\">\n",
              "      <th></th>\n",
              "      <th>0</th>\n",
              "      <th>2019</th>\n",
              "      <th>2020</th>\n",
              "      <th>2021</th>\n",
              "      <th>interanualAnterior</th>\n",
              "      <th>Ecuador</th>\n",
              "      <th>mes</th>\n",
              "    </tr>\n",
              "    <tr>\n",
              "      <th>mes</th>\n",
              "      <th></th>\n",
              "      <th></th>\n",
              "      <th></th>\n",
              "      <th></th>\n",
              "      <th></th>\n",
              "      <th></th>\n",
              "      <th></th>\n",
              "    </tr>\n",
              "  </thead>\n",
              "  <tbody>\n",
              "    <tr>\n",
              "      <th>2021-Junio</th>\n",
              "      <td>Jun</td>\n",
              "      <td>156.82</td>\n",
              "      <td>132.60</td>\n",
              "      <td>153.73</td>\n",
              "      <td>-15.444459</td>\n",
              "      <td>15.935143</td>\n",
              "      <td>Junio</td>\n",
              "    </tr>\n",
              "  </tbody>\n",
              "</table>\n",
              "</div>"
            ],
            "text/plain": [
              "              0    2019    2020    2021  interanualAnterior    Ecuador    mes\n",
              "mes                                                                          \n",
              "2021-Junio  Jun  156.82  132.60  153.73          -15.444459  15.935143  Junio"
            ]
          },
          "metadata": {},
          "execution_count": 26
        }
      ]
    },
    {
      "cell_type": "code",
      "metadata": {
        "id": "weXbDJcnnct8"
      },
      "source": [
        "imaela = round(pd.merge(imaela,ecu['Ecuador'],how='left',left_index=True,right_index=True),2)"
      ],
      "execution_count": 27,
      "outputs": []
    },
    {
      "cell_type": "code",
      "metadata": {
        "colab": {
          "base_uri": "https://localhost:8080/",
          "height": 266
        },
        "id": "SnKlHvu3l5XV",
        "outputId": "992d80f8-8755-4117-cceb-bdb16823b587"
      },
      "source": [
        "imaela"
      ],
      "execution_count": 28,
      "outputs": [
        {
          "output_type": "execute_result",
          "data": {
            "text/html": [
              "<div>\n",
              "<style scoped>\n",
              "    .dataframe tbody tr th:only-of-type {\n",
              "        vertical-align: middle;\n",
              "    }\n",
              "\n",
              "    .dataframe tbody tr th {\n",
              "        vertical-align: top;\n",
              "    }\n",
              "\n",
              "    .dataframe thead th {\n",
              "        text-align: right;\n",
              "    }\n",
              "</style>\n",
              "<table border=\"1\" class=\"dataframe\">\n",
              "  <thead>\n",
              "    <tr style=\"text-align: right;\">\n",
              "      <th></th>\n",
              "      <th>Chile</th>\n",
              "      <th>Costa Rica</th>\n",
              "      <th>El Salvador</th>\n",
              "      <th>Guatemala</th>\n",
              "      <th>Honduras</th>\n",
              "      <th>Nicaragua</th>\n",
              "      <th>República Dominicana</th>\n",
              "      <th>Panamá</th>\n",
              "      <th>Argentina</th>\n",
              "      <th>Brasil</th>\n",
              "      <th>México</th>\n",
              "      <th>Ecuador</th>\n",
              "    </tr>\n",
              "  </thead>\n",
              "  <tbody>\n",
              "    <tr>\n",
              "      <th>2021-Enero</th>\n",
              "      <td>-2.95</td>\n",
              "      <td>-6.29</td>\n",
              "      <td>-1.52</td>\n",
              "      <td>1.94</td>\n",
              "      <td>-5.81</td>\n",
              "      <td>0.90</td>\n",
              "      <td>-1.81</td>\n",
              "      <td>-14.63</td>\n",
              "      <td>-2.03</td>\n",
              "      <td>-1.13</td>\n",
              "      <td>-5.54</td>\n",
              "      <td>-8.53</td>\n",
              "    </tr>\n",
              "    <tr>\n",
              "      <th>2021-Febrero</th>\n",
              "      <td>-2.02</td>\n",
              "      <td>-4.94</td>\n",
              "      <td>-0.79</td>\n",
              "      <td>2.59</td>\n",
              "      <td>-3.09</td>\n",
              "      <td>1.77</td>\n",
              "      <td>1.08</td>\n",
              "      <td>-9.73</td>\n",
              "      <td>-2.30</td>\n",
              "      <td>0.12</td>\n",
              "      <td>-5.09</td>\n",
              "      <td>-4.83</td>\n",
              "    </tr>\n",
              "    <tr>\n",
              "      <th>2021-Marzo</th>\n",
              "      <td>6.22</td>\n",
              "      <td>3.35</td>\n",
              "      <td>9.78</td>\n",
              "      <td>10.14</td>\n",
              "      <td>13.52</td>\n",
              "      <td>7.95</td>\n",
              "      <td>10.60</td>\n",
              "      <td>-6.03</td>\n",
              "      <td>11.92</td>\n",
              "      <td>5.30</td>\n",
              "      <td>0.83</td>\n",
              "      <td>13.59</td>\n",
              "    </tr>\n",
              "    <tr>\n",
              "      <th>2021-Abril</th>\n",
              "      <td>14.58</td>\n",
              "      <td>12.39</td>\n",
              "      <td>28.08</td>\n",
              "      <td>15.23</td>\n",
              "      <td>26.97</td>\n",
              "      <td>15.13</td>\n",
              "      <td>47.13</td>\n",
              "      <td>21.27</td>\n",
              "      <td>29.36</td>\n",
              "      <td>16.52</td>\n",
              "      <td>22.34</td>\n",
              "      <td>56.05</td>\n",
              "    </tr>\n",
              "    <tr>\n",
              "      <th>2021-Mayo</th>\n",
              "      <td>19.18</td>\n",
              "      <td>12.70</td>\n",
              "      <td>31.10</td>\n",
              "      <td>16.30</td>\n",
              "      <td>30.54</td>\n",
              "      <td>15.78</td>\n",
              "      <td>21.21</td>\n",
              "      <td>34.21</td>\n",
              "      <td>13.59</td>\n",
              "      <td>14.15</td>\n",
              "      <td>25.13</td>\n",
              "      <td>28.97</td>\n",
              "    </tr>\n",
              "    <tr>\n",
              "      <th>2021-Junio</th>\n",
              "      <td>20.61</td>\n",
              "      <td>8.37</td>\n",
              "      <td>21.52</td>\n",
              "      <td>13.90</td>\n",
              "      <td>20.93</td>\n",
              "      <td>16.70</td>\n",
              "      <td>12.73</td>\n",
              "      <td>24.91</td>\n",
              "      <td>10.82</td>\n",
              "      <td>9.07</td>\n",
              "      <td>13.32</td>\n",
              "      <td>15.94</td>\n",
              "    </tr>\n",
              "    <tr>\n",
              "      <th>2021-Julio</th>\n",
              "      <td>18.08</td>\n",
              "      <td>NaN</td>\n",
              "      <td>NaN</td>\n",
              "      <td>10.61</td>\n",
              "      <td>NaN</td>\n",
              "      <td>NaN</td>\n",
              "      <td>12.05</td>\n",
              "      <td>NaN</td>\n",
              "      <td>NaN</td>\n",
              "      <td>NaN</td>\n",
              "      <td>NaN</td>\n",
              "      <td>NaN</td>\n",
              "    </tr>\n",
              "  </tbody>\n",
              "</table>\n",
              "</div>"
            ],
            "text/plain": [
              "              Chile  Costa Rica  El Salvador  ...  Brasil  México  Ecuador\n",
              "2021-Enero    -2.95       -6.29        -1.52  ...   -1.13   -5.54    -8.53\n",
              "2021-Febrero  -2.02       -4.94        -0.79  ...    0.12   -5.09    -4.83\n",
              "2021-Marzo     6.22        3.35         9.78  ...    5.30    0.83    13.59\n",
              "2021-Abril    14.58       12.39        28.08  ...   16.52   22.34    56.05\n",
              "2021-Mayo     19.18       12.70        31.10  ...   14.15   25.13    28.97\n",
              "2021-Junio    20.61        8.37        21.52  ...    9.07   13.32    15.94\n",
              "2021-Julio    18.08         NaN          NaN  ...     NaN     NaN      NaN\n",
              "\n",
              "[7 rows x 12 columns]"
            ]
          },
          "metadata": {},
          "execution_count": 28
        }
      ]
    }
  ]
}