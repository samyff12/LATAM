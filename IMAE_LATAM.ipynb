{
  "nbformat": 4,
  "nbformat_minor": 0,
  "metadata": {
    "colab": {
      "name": "IMAE LATAM.ipynb",
      "provenance": [],
      "collapsed_sections": [
        "pdxAyDPTJJzP",
        "mng9xQCphxaK",
        "USJ5m_3XS6ji",
        "YlZNkOc6pfVo",
        "MkoUi_tal0ST",
        "A2MSTFg45f_H",
        "rSOwOPisI0mw"
      ],
      "authorship_tag": "ABX9TyNpaYvx2dZ5sLbTrcQCR5mb",
      "include_colab_link": true
    },
    "kernelspec": {
      "name": "python3",
      "display_name": "Python 3"
    },
    "language_info": {
      "name": "python"
    }
  },
  "cells": [
    {
      "cell_type": "markdown",
      "metadata": {
        "id": "view-in-github",
        "colab_type": "text"
      },
      "source": [
        "<a href=\"https://colab.research.google.com/github/samyff12/LATAM/blob/main/IMAE_LATAM.ipynb\" target=\"_parent\"><img src=\"https://colab.research.google.com/assets/colab-badge.svg\" alt=\"Open In Colab\"/></a>"
      ]
    },
    {
      "cell_type": "markdown",
      "metadata": {
        "id": "uwghX9WnmOhH"
      },
      "source": [
        "# **Actualizacion IMAE LATAM**"
      ]
    },
    {
      "cell_type": "markdown",
      "metadata": {
        "id": "zMFcgIBOnFpc"
      },
      "source": [
        "### Paquetes y meses"
      ]
    },
    {
      "cell_type": "code",
      "metadata": {
        "id": "yLpBS1jxRJUa",
        "colab": {
          "base_uri": "https://localhost:8080/"
        },
        "outputId": "e7688815-c23c-4b70-b602-6301968b2cf0"
      },
      "source": [
        "from bs4 import BeautifulSoup\n",
        "import pandas as pd\n",
        "import numpy as np\n",
        "import requests\n",
        "import urllib.request as urllib2\n",
        "import re\n",
        "!pip install pymupdf\n",
        "!pip install tabula-py\n",
        "import tabula as tb\n",
        "import fitz  # this is pymupdf\n",
        "import matplotlib.pyplot as plt\n",
        "import seaborn as sns\n",
        "import zipfile\n",
        "!pip install XlsxWriter\n",
        "from google.colab import files"
      ],
      "execution_count": 4,
      "outputs": [
        {
          "output_type": "stream",
          "name": "stdout",
          "text": [
            "Requirement already satisfied: pymupdf in /usr/local/lib/python3.7/dist-packages (1.19.0)\n",
            "Requirement already satisfied: tabula-py in /usr/local/lib/python3.7/dist-packages (2.3.0)\n",
            "Requirement already satisfied: distro in /usr/local/lib/python3.7/dist-packages (from tabula-py) (1.6.0)\n",
            "Requirement already satisfied: pandas>=0.25.3 in /usr/local/lib/python3.7/dist-packages (from tabula-py) (1.1.5)\n",
            "Requirement already satisfied: numpy in /usr/local/lib/python3.7/dist-packages (from tabula-py) (1.19.5)\n",
            "Requirement already satisfied: python-dateutil>=2.7.3 in /usr/local/lib/python3.7/dist-packages (from pandas>=0.25.3->tabula-py) (2.8.2)\n",
            "Requirement already satisfied: pytz>=2017.2 in /usr/local/lib/python3.7/dist-packages (from pandas>=0.25.3->tabula-py) (2018.9)\n",
            "Requirement already satisfied: six>=1.5 in /usr/local/lib/python3.7/dist-packages (from python-dateutil>=2.7.3->pandas>=0.25.3->tabula-py) (1.15.0)\n",
            "Requirement already satisfied: XlsxWriter in /usr/local/lib/python3.7/dist-packages (3.0.1)\n"
          ]
        }
      ]
    },
    {
      "cell_type": "code",
      "metadata": {
        "id": "7NNHXzvKYJ2D"
      },
      "source": [
        "#html = requests.get('http://www.secmca.org/chart/?parent=Producci%C3%B3n&scid=2&cid=1&scsid=0&son=%C3%8Dndice%20Mensual%20de%20la%20Actividad%20Econ%C3%B3mica&url=11/14/3-13-50-17-4-52-161/39/265/19-258/444/' +\n",
        " #                   '20211-20212-20213-20214-20215-20216-20217-20218-20219-202110-202111-202112-20221-20222-20223-20224-20225-20226-20227-20228-20229-202210-202211-202212' +\n",
        " #                   '-&all_vars=2|IMAE,%20variaci%C3%B3n%20interanual')\n",
        "#soup = BeautifulSoup(html.text,'lxml')\n",
        "#table = soup.find_all('p', class_='text-right')\n",
        "#tablec = soup.find_all('th', colspan='1')\n",
        "\n",
        "#indicadores=[]\n",
        "#paises =[]\n",
        "#for i in range(len(table)):\n",
        " # ind = float(table[i].text)\n",
        "#  pais = tablec[i].text\n",
        "#  indicadores.append(ind)\n",
        " # paises.append(pais)\n",
        "\n",
        "#imae_latam =  pd.DataFrame(indicadores,index = paises,columns = ['IMAE'])\n",
        "#print(f'IMAE a {fecha}')\n",
        "#imae_latam"
      ],
      "execution_count": 5,
      "outputs": []
    },
    {
      "cell_type": "code",
      "metadata": {
        "id": "Uz9LSti34_nA"
      },
      "source": [
        "meses = [0,[1,'Enero'],[2,'Febrero'],[3,'Marzo'],[4,'Abril'],[5,'Mayo'],[6,'Junio'],[7,'Julio'],[8,'Agosto'],\n",
        "         [9,'Septiembre'],[10,'Octubre'],[11,'Noviembre'],[12,'Diciembre']]\n",
        "mes3 = {'ene':'Enero','feb':'Febrero','mar':'Marzo','abr':'Abril','may':'Mayo','jun':'Junio','jul':'Julio',\n",
        "        'ago':'Agosto','sep':'Septiembre','oct':'Octubre','nov':'Noviembre','dic':'Diciembre'}\n",
        "meses_dict = {0:'none',1:'Enero',2:'Febrero',3:'Marzo',4:'Abril',5:'Mayo',6:'Junio',7:'Julio',8:'Agosto',\n",
        "         9:'Septiembre',10:'Octubre',11:'Noviembre',12:'Diciembre'}\n",
        "### import calendar\n",
        "\n",
        "# d = dict((v,k) for k,v in enumerate(calendar.month_abbr))\n",
        "# d"
      ],
      "execution_count": 6,
      "outputs": []
    },
    {
      "cell_type": "markdown",
      "metadata": {
        "id": "982BPh5jk93l"
      },
      "source": [
        "## Para obtener las series de todo el año 2021-2022\n"
      ]
    },
    {
      "cell_type": "markdown",
      "metadata": {
        "id": "pdxAyDPTJJzP"
      },
      "source": [
        "### **SECMCA**"
      ]
    },
    {
      "cell_type": "markdown",
      "metadata": {
        "id": "zyl75FG7ZOym"
      },
      "source": [
        "html = requests.get('http://www.secmca.org/chart/?parent=Producci%C3%B3n&scid=2&cid=1&scsid=0&son=%C3%8Dndice%20Mensual%20de%20la%20Actividad%20Econ%C3%B3mica&url=11/14/3-13-50-17-4-52-161/39/265/19-258/444/' +\n",
        "                    '20211-20212-20213-20214-20215-20216-20217-20218-20219-202110-202111-202112-20221-20222-20223-20224-20225-20226-20227-20228-20229-202210-202211-202212' +\n",
        "                    '-&all_vars=2|IMAE,%20variaci%C3%B3n%20interanual').text\n",
        "soup = BeautifulSoup(html,'lxml')"
      ]
    },
    {
      "cell_type": "code",
      "metadata": {
        "colab": {
          "base_uri": "https://localhost:8080/",
          "height": 34
        },
        "id": "DKeFlSnZ9utv",
        "outputId": "3652cd94-6335-48e8-ebda-6c36aaac569a"
      },
      "source": [
        "# INDICE VERSION\n",
        "html1 = requests.get('http://www.secmca.org/chart/?parent=Producci%C3%B3n&scid=2&cid=1&scsid=0&son=%C3%8Dndice%20Mensual%20de%20la%20Actividad%20Econ%C3%B3mica&url=11/14/3-13-50-17-4-52-161/39/265/19-258/81/' +\n",
        "  '20201-20202-20203-20204-20205-20206-20207-20208-20209-202010-202011-202012-20211-20212-20213-20214-20215-20216-20217-20218-20219-202110-202111-202112-20221-20222-20223-20224-20225-20226-20227-20228-20229-202210-202211-202212' +\n",
        "  '-&all_vars=1|IMAE').text\n",
        "soup1 = BeautifulSoup(html1,'html.parser')\n",
        "\n",
        "tabpais = soup1.find_all('th', colspan='1')\n",
        "table = soup1.find_all('p', class_='text-left')\n",
        "fechas = []\n",
        "for i in range(len(table)):\n",
        "  x = re.sub(\" \",\"\",table[i].text)\n",
        "  fechas.append(x.replace(\"\\n\",\"\").replace('Setiembre','Septiembre'))\n",
        "\n",
        "paises = [tabpais[i].text for i in range(len(tabpais))]\n",
        "fechas[-1]"
      ],
      "execution_count": 7,
      "outputs": [
        {
          "output_type": "execute_result",
          "data": {
            "application/vnd.google.colaboratory.intrinsic+json": {
              "type": "string"
            },
            "text/plain": [
              "'2021-Agosto'"
            ]
          },
          "metadata": {},
          "execution_count": 7
        }
      ]
    },
    {
      "cell_type": "code",
      "metadata": {
        "colab": {
          "base_uri": "https://localhost:8080/",
          "height": 676
        },
        "id": "jH_Esksz-nsh",
        "outputId": "a2e150a3-0e54-4543-ad82-8048bc2431ec"
      },
      "source": [
        "#INDICE\n",
        "table1 = soup1.find_all('p', class_='text-right')\n",
        "matriz = np.array([])\n",
        "for i in table1:\n",
        "  matriz = np.array(np.append(matriz,i))\n",
        "matriz = np.where(matriz==\"--\", np.nan, matriz).astype(np.float)\n",
        "matriz = matriz.reshape(-1,7) # 7 paises\n",
        "imaeLA = pd.DataFrame(matriz,index=fechas,columns=paises)\n",
        "imaeLA"
      ],
      "execution_count": 8,
      "outputs": [
        {
          "output_type": "execute_result",
          "data": {
            "text/html": [
              "<div>\n",
              "<style scoped>\n",
              "    .dataframe tbody tr th:only-of-type {\n",
              "        vertical-align: middle;\n",
              "    }\n",
              "\n",
              "    .dataframe tbody tr th {\n",
              "        vertical-align: top;\n",
              "    }\n",
              "\n",
              "    .dataframe thead th {\n",
              "        text-align: right;\n",
              "    }\n",
              "</style>\n",
              "<table border=\"1\" class=\"dataframe\">\n",
              "  <thead>\n",
              "    <tr style=\"text-align: right;\">\n",
              "      <th></th>\n",
              "      <th>Costa Rica</th>\n",
              "      <th>El Salvador</th>\n",
              "      <th>Guatemala</th>\n",
              "      <th>Honduras</th>\n",
              "      <th>Nicaragua</th>\n",
              "      <th>República Dominicana</th>\n",
              "      <th>Panamá</th>\n",
              "    </tr>\n",
              "  </thead>\n",
              "  <tbody>\n",
              "    <tr>\n",
              "      <th>2020-Enero</th>\n",
              "      <td>104.14</td>\n",
              "      <td>110.80</td>\n",
              "      <td>127.40</td>\n",
              "      <td>243.14</td>\n",
              "      <td>152.88</td>\n",
              "      <td>179.04</td>\n",
              "      <td>345.73</td>\n",
              "    </tr>\n",
              "    <tr>\n",
              "      <th>2020-Febrero</th>\n",
              "      <td>105.17</td>\n",
              "      <td>110.06</td>\n",
              "      <td>125.54</td>\n",
              "      <td>242.59</td>\n",
              "      <td>144.12</td>\n",
              "      <td>183.24</td>\n",
              "      <td>338.73</td>\n",
              "    </tr>\n",
              "    <tr>\n",
              "      <th>2020-Marzo</th>\n",
              "      <td>103.55</td>\n",
              "      <td>105.56</td>\n",
              "      <td>121.36</td>\n",
              "      <td>218.14</td>\n",
              "      <td>140.05</td>\n",
              "      <td>165.67</td>\n",
              "      <td>364.78</td>\n",
              "    </tr>\n",
              "    <tr>\n",
              "      <th>2020-Abril</th>\n",
              "      <td>90.88</td>\n",
              "      <td>88.28</td>\n",
              "      <td>112.77</td>\n",
              "      <td>186.13</td>\n",
              "      <td>124.67</td>\n",
              "      <td>125.35</td>\n",
              "      <td>247.19</td>\n",
              "    </tr>\n",
              "    <tr>\n",
              "      <th>2020-Mayo</th>\n",
              "      <td>93.10</td>\n",
              "      <td>89.88</td>\n",
              "      <td>111.25</td>\n",
              "      <td>188.45</td>\n",
              "      <td>133.85</td>\n",
              "      <td>158.43</td>\n",
              "      <td>228.30</td>\n",
              "    </tr>\n",
              "    <tr>\n",
              "      <th>2020-Junio</th>\n",
              "      <td>97.04</td>\n",
              "      <td>96.97</td>\n",
              "      <td>111.06</td>\n",
              "      <td>208.19</td>\n",
              "      <td>128.81</td>\n",
              "      <td>160.89</td>\n",
              "      <td>243.01</td>\n",
              "    </tr>\n",
              "    <tr>\n",
              "      <th>2020-Julio</th>\n",
              "      <td>92.92</td>\n",
              "      <td>96.05</td>\n",
              "      <td>117.42</td>\n",
              "      <td>208.83</td>\n",
              "      <td>147.58</td>\n",
              "      <td>162.35</td>\n",
              "      <td>241.95</td>\n",
              "    </tr>\n",
              "    <tr>\n",
              "      <th>2020-Agosto</th>\n",
              "      <td>93.36</td>\n",
              "      <td>102.57</td>\n",
              "      <td>120.25</td>\n",
              "      <td>225.70</td>\n",
              "      <td>138.50</td>\n",
              "      <td>169.07</td>\n",
              "      <td>251.35</td>\n",
              "    </tr>\n",
              "    <tr>\n",
              "      <th>2020-Septiembre</th>\n",
              "      <td>98.15</td>\n",
              "      <td>106.44</td>\n",
              "      <td>121.45</td>\n",
              "      <td>230.41</td>\n",
              "      <td>139.98</td>\n",
              "      <td>163.68</td>\n",
              "      <td>268.97</td>\n",
              "    </tr>\n",
              "    <tr>\n",
              "      <th>2020-Octubre</th>\n",
              "      <td>102.10</td>\n",
              "      <td>106.64</td>\n",
              "      <td>125.72</td>\n",
              "      <td>249.67</td>\n",
              "      <td>148.48</td>\n",
              "      <td>175.09</td>\n",
              "      <td>312.12</td>\n",
              "    </tr>\n",
              "    <tr>\n",
              "      <th>2020-Noviembre</th>\n",
              "      <td>105.13</td>\n",
              "      <td>111.85</td>\n",
              "      <td>128.86</td>\n",
              "      <td>219.03</td>\n",
              "      <td>148.75</td>\n",
              "      <td>181.13</td>\n",
              "      <td>300.21</td>\n",
              "    </tr>\n",
              "    <tr>\n",
              "      <th>2020-Diciembre</th>\n",
              "      <td>110.96</td>\n",
              "      <td>122.29</td>\n",
              "      <td>136.24</td>\n",
              "      <td>257.90</td>\n",
              "      <td>167.28</td>\n",
              "      <td>192.02</td>\n",
              "      <td>316.10</td>\n",
              "    </tr>\n",
              "    <tr>\n",
              "      <th>2021-Enero</th>\n",
              "      <td>97.39</td>\n",
              "      <td>109.01</td>\n",
              "      <td>129.22</td>\n",
              "      <td>228.83</td>\n",
              "      <td>154.77</td>\n",
              "      <td>175.81</td>\n",
              "      <td>295.16</td>\n",
              "    </tr>\n",
              "    <tr>\n",
              "      <th>2021-Febrero</th>\n",
              "      <td>99.78</td>\n",
              "      <td>108.76</td>\n",
              "      <td>128.60</td>\n",
              "      <td>235.08</td>\n",
              "      <td>147.43</td>\n",
              "      <td>185.26</td>\n",
              "      <td>305.77</td>\n",
              "    </tr>\n",
              "    <tr>\n",
              "      <th>2021-Marzo</th>\n",
              "      <td>107.30</td>\n",
              "      <td>114.72</td>\n",
              "      <td>133.50</td>\n",
              "      <td>247.60</td>\n",
              "      <td>151.35</td>\n",
              "      <td>183.28</td>\n",
              "      <td>342.80</td>\n",
              "    </tr>\n",
              "    <tr>\n",
              "      <th>2021-Abril</th>\n",
              "      <td>102.34</td>\n",
              "      <td>110.69</td>\n",
              "      <td>129.98</td>\n",
              "      <td>236.20</td>\n",
              "      <td>144.23</td>\n",
              "      <td>184.42</td>\n",
              "      <td>303.98</td>\n",
              "    </tr>\n",
              "    <tr>\n",
              "      <th>2021-Mayo</th>\n",
              "      <td>105.35</td>\n",
              "      <td>114.65</td>\n",
              "      <td>129.30</td>\n",
              "      <td>244.25</td>\n",
              "      <td>156.14</td>\n",
              "      <td>192.08</td>\n",
              "      <td>329.24</td>\n",
              "    </tr>\n",
              "    <tr>\n",
              "      <th>2021-Junio</th>\n",
              "      <td>105.73</td>\n",
              "      <td>114.41</td>\n",
              "      <td>126.27</td>\n",
              "      <td>249.84</td>\n",
              "      <td>151.74</td>\n",
              "      <td>181.26</td>\n",
              "      <td>323.05</td>\n",
              "    </tr>\n",
              "    <tr>\n",
              "      <th>2021-Julio</th>\n",
              "      <td>108.06</td>\n",
              "      <td>109.65</td>\n",
              "      <td>130.66</td>\n",
              "      <td>241.40</td>\n",
              "      <td>160.30</td>\n",
              "      <td>181.91</td>\n",
              "      <td>310.85</td>\n",
              "    </tr>\n",
              "    <tr>\n",
              "      <th>2021-Agosto</th>\n",
              "      <td>105.63</td>\n",
              "      <td>NaN</td>\n",
              "      <td>129.34</td>\n",
              "      <td>NaN</td>\n",
              "      <td>151.16</td>\n",
              "      <td>188.90</td>\n",
              "      <td>NaN</td>\n",
              "    </tr>\n",
              "  </tbody>\n",
              "</table>\n",
              "</div>"
            ],
            "text/plain": [
              "                 Costa Rica  El Salvador  ...  República Dominicana  Panamá\n",
              "2020-Enero           104.14       110.80  ...                179.04  345.73\n",
              "2020-Febrero         105.17       110.06  ...                183.24  338.73\n",
              "2020-Marzo           103.55       105.56  ...                165.67  364.78\n",
              "2020-Abril            90.88        88.28  ...                125.35  247.19\n",
              "2020-Mayo             93.10        89.88  ...                158.43  228.30\n",
              "2020-Junio            97.04        96.97  ...                160.89  243.01\n",
              "2020-Julio            92.92        96.05  ...                162.35  241.95\n",
              "2020-Agosto           93.36       102.57  ...                169.07  251.35\n",
              "2020-Septiembre       98.15       106.44  ...                163.68  268.97\n",
              "2020-Octubre         102.10       106.64  ...                175.09  312.12\n",
              "2020-Noviembre       105.13       111.85  ...                181.13  300.21\n",
              "2020-Diciembre       110.96       122.29  ...                192.02  316.10\n",
              "2021-Enero            97.39       109.01  ...                175.81  295.16\n",
              "2021-Febrero          99.78       108.76  ...                185.26  305.77\n",
              "2021-Marzo           107.30       114.72  ...                183.28  342.80\n",
              "2021-Abril           102.34       110.69  ...                184.42  303.98\n",
              "2021-Mayo            105.35       114.65  ...                192.08  329.24\n",
              "2021-Junio           105.73       114.41  ...                181.26  323.05\n",
              "2021-Julio           108.06       109.65  ...                181.91  310.85\n",
              "2021-Agosto          105.63          NaN  ...                188.90     NaN\n",
              "\n",
              "[20 rows x 7 columns]"
            ]
          },
          "metadata": {},
          "execution_count": 8
        }
      ]
    },
    {
      "cell_type": "markdown",
      "metadata": {
        "id": "HZYnwfqqr7tE"
      },
      "source": [
        "import re\n",
        "tabpais = soup.find_all('th', colspan='1')\n",
        "table = soup.find_all('p', class_='text-left')\n",
        "fechas = []\n",
        "paises =[]\n",
        "for i in range(len(table)):\n",
        "  x = re.sub(\" \",\"\",table[i].text)\n",
        "  fechas.append(x.replace(\"\\n\",\"\"))\n",
        "  pais = tabpais[i].text\n",
        "  #indicadores.append(ind)\n",
        "  paises.append(pais)\n",
        "fechas[-1]"
      ]
    },
    {
      "cell_type": "markdown",
      "metadata": {
        "id": "sCY1EzkcvFfD"
      },
      "source": [
        "table1 = soup.find_all('p', class_='text-right')\n",
        "matriz = np.array([])\n",
        "for i in table1:\n",
        "  matriz = np.array(np.append(matriz,i))\n",
        "matriz = np.where(matriz==\"--\", np.nan, matriz).astype(np.float)\n",
        "matriz = matriz.reshape(-1,7) # 7 paises\n",
        "imaeLA = pd.DataFrame(matriz,index=fechas,columns=paises)\n",
        "imaeLA"
      ]
    },
    {
      "cell_type": "markdown",
      "metadata": {
        "id": "mng9xQCphxaK"
      },
      "source": [
        "### **Argentina**\n"
      ]
    },
    {
      "cell_type": "markdown",
      "metadata": {
        "id": "5HGhiXY6MURL"
      },
      "source": [
        "#### Publicaciones disponibles las fechas: \n",
        "1. 28 sept \n",
        "2. 21 Oct\n",
        "3. 23 Nov\n",
        "4. 23 Dic"
      ]
    },
    {
      "cell_type": "code",
      "metadata": {
        "id": "8lHpEj4I7Kkk"
      },
      "source": [
        "url = \"https://www.indec.gob.ar/ftp/cuadros/economia/sh_emae_mensual_base2004.xls\"\n",
        "urllib2.urlretrieve(url, \"test.xls\")\n",
        "data = pd.read_excel('test.xls',header=2)[2:]\n",
        "data1 = data.iloc[:,:4].dropna(subset = [data.columns[1]]) # data.columns[1] es la columna de los meses\n",
        "data1.reset_index(drop=True,inplace=True)\n",
        "data1[data1.columns[0]] = data1[data1.columns[0]].ffill() # forward fill # para los años   data1.columns[0] es la columna de los años"
      ],
      "execution_count": 9,
      "outputs": []
    },
    {
      "cell_type": "code",
      "metadata": {
        "id": "AEop9VIOYe7t",
        "colab": {
          "base_uri": "https://localhost:8080/",
          "height": 676
        },
        "outputId": "cafa73b9-d964-4532-f0a9-d4b69a08e11f"
      },
      "source": [
        "data1['fecha'] = data1[data1.columns[0]].astype('str') +\"-\"+ data1[data1.columns[1]]\n",
        "data1.set_index(data1.fecha,inplace=True)\n",
        "imaeLA = pd.merge(imaeLA,data1.iloc[:,2],how='left',left_index=True,right_index=True)\n",
        "imaeLA.columns = [*imaeLA.columns[:-1], 'Argentina']\n",
        "imaeLA"
      ],
      "execution_count": 10,
      "outputs": [
        {
          "output_type": "execute_result",
          "data": {
            "text/html": [
              "<div>\n",
              "<style scoped>\n",
              "    .dataframe tbody tr th:only-of-type {\n",
              "        vertical-align: middle;\n",
              "    }\n",
              "\n",
              "    .dataframe tbody tr th {\n",
              "        vertical-align: top;\n",
              "    }\n",
              "\n",
              "    .dataframe thead th {\n",
              "        text-align: right;\n",
              "    }\n",
              "</style>\n",
              "<table border=\"1\" class=\"dataframe\">\n",
              "  <thead>\n",
              "    <tr style=\"text-align: right;\">\n",
              "      <th></th>\n",
              "      <th>Costa Rica</th>\n",
              "      <th>El Salvador</th>\n",
              "      <th>Guatemala</th>\n",
              "      <th>Honduras</th>\n",
              "      <th>Nicaragua</th>\n",
              "      <th>República Dominicana</th>\n",
              "      <th>Panamá</th>\n",
              "      <th>Argentina</th>\n",
              "    </tr>\n",
              "  </thead>\n",
              "  <tbody>\n",
              "    <tr>\n",
              "      <th>2020-Enero</th>\n",
              "      <td>104.14</td>\n",
              "      <td>110.80</td>\n",
              "      <td>127.40</td>\n",
              "      <td>243.14</td>\n",
              "      <td>152.88</td>\n",
              "      <td>179.04</td>\n",
              "      <td>345.73</td>\n",
              "      <td>132.282221</td>\n",
              "    </tr>\n",
              "    <tr>\n",
              "      <th>2020-Febrero</th>\n",
              "      <td>105.17</td>\n",
              "      <td>110.06</td>\n",
              "      <td>125.54</td>\n",
              "      <td>242.59</td>\n",
              "      <td>144.12</td>\n",
              "      <td>183.24</td>\n",
              "      <td>338.73</td>\n",
              "      <td>129.745142</td>\n",
              "    </tr>\n",
              "    <tr>\n",
              "      <th>2020-Marzo</th>\n",
              "      <td>103.55</td>\n",
              "      <td>105.56</td>\n",
              "      <td>121.36</td>\n",
              "      <td>218.14</td>\n",
              "      <td>140.05</td>\n",
              "      <td>165.67</td>\n",
              "      <td>364.78</td>\n",
              "      <td>129.097739</td>\n",
              "    </tr>\n",
              "    <tr>\n",
              "      <th>2020-Abril</th>\n",
              "      <td>90.88</td>\n",
              "      <td>88.28</td>\n",
              "      <td>112.77</td>\n",
              "      <td>186.13</td>\n",
              "      <td>124.67</td>\n",
              "      <td>125.35</td>\n",
              "      <td>247.19</td>\n",
              "      <td>111.903998</td>\n",
              "    </tr>\n",
              "    <tr>\n",
              "      <th>2020-Mayo</th>\n",
              "      <td>93.10</td>\n",
              "      <td>89.88</td>\n",
              "      <td>111.25</td>\n",
              "      <td>188.45</td>\n",
              "      <td>133.85</td>\n",
              "      <td>158.43</td>\n",
              "      <td>228.30</td>\n",
              "      <td>131.294632</td>\n",
              "    </tr>\n",
              "    <tr>\n",
              "      <th>2020-Junio</th>\n",
              "      <td>97.04</td>\n",
              "      <td>96.97</td>\n",
              "      <td>111.06</td>\n",
              "      <td>208.19</td>\n",
              "      <td>128.81</td>\n",
              "      <td>160.89</td>\n",
              "      <td>243.01</td>\n",
              "      <td>133.303803</td>\n",
              "    </tr>\n",
              "    <tr>\n",
              "      <th>2020-Julio</th>\n",
              "      <td>92.92</td>\n",
              "      <td>96.05</td>\n",
              "      <td>117.42</td>\n",
              "      <td>208.83</td>\n",
              "      <td>147.58</td>\n",
              "      <td>162.35</td>\n",
              "      <td>241.95</td>\n",
              "      <td>128.190600</td>\n",
              "    </tr>\n",
              "    <tr>\n",
              "      <th>2020-Agosto</th>\n",
              "      <td>93.36</td>\n",
              "      <td>102.57</td>\n",
              "      <td>120.25</td>\n",
              "      <td>225.70</td>\n",
              "      <td>138.50</td>\n",
              "      <td>169.07</td>\n",
              "      <td>251.35</td>\n",
              "      <td>125.173981</td>\n",
              "    </tr>\n",
              "    <tr>\n",
              "      <th>2020-Septiembre</th>\n",
              "      <td>98.15</td>\n",
              "      <td>106.44</td>\n",
              "      <td>121.45</td>\n",
              "      <td>230.41</td>\n",
              "      <td>139.98</td>\n",
              "      <td>163.68</td>\n",
              "      <td>268.97</td>\n",
              "      <td>126.596434</td>\n",
              "    </tr>\n",
              "    <tr>\n",
              "      <th>2020-Octubre</th>\n",
              "      <td>102.10</td>\n",
              "      <td>106.64</td>\n",
              "      <td>125.72</td>\n",
              "      <td>249.67</td>\n",
              "      <td>148.48</td>\n",
              "      <td>175.09</td>\n",
              "      <td>312.12</td>\n",
              "      <td>131.728309</td>\n",
              "    </tr>\n",
              "    <tr>\n",
              "      <th>2020-Noviembre</th>\n",
              "      <td>105.13</td>\n",
              "      <td>111.85</td>\n",
              "      <td>128.86</td>\n",
              "      <td>219.03</td>\n",
              "      <td>148.75</td>\n",
              "      <td>181.13</td>\n",
              "      <td>300.21</td>\n",
              "      <td>132.970124</td>\n",
              "    </tr>\n",
              "    <tr>\n",
              "      <th>2020-Diciembre</th>\n",
              "      <td>110.96</td>\n",
              "      <td>122.29</td>\n",
              "      <td>136.24</td>\n",
              "      <td>257.90</td>\n",
              "      <td>167.28</td>\n",
              "      <td>192.02</td>\n",
              "      <td>316.10</td>\n",
              "      <td>132.420676</td>\n",
              "    </tr>\n",
              "    <tr>\n",
              "      <th>2021-Enero</th>\n",
              "      <td>97.39</td>\n",
              "      <td>109.01</td>\n",
              "      <td>129.22</td>\n",
              "      <td>228.83</td>\n",
              "      <td>154.77</td>\n",
              "      <td>175.81</td>\n",
              "      <td>295.16</td>\n",
              "      <td>129.488612</td>\n",
              "    </tr>\n",
              "    <tr>\n",
              "      <th>2021-Febrero</th>\n",
              "      <td>99.78</td>\n",
              "      <td>108.76</td>\n",
              "      <td>128.60</td>\n",
              "      <td>235.08</td>\n",
              "      <td>147.43</td>\n",
              "      <td>185.26</td>\n",
              "      <td>305.77</td>\n",
              "      <td>126.692072</td>\n",
              "    </tr>\n",
              "    <tr>\n",
              "      <th>2021-Marzo</th>\n",
              "      <td>107.30</td>\n",
              "      <td>114.72</td>\n",
              "      <td>133.50</td>\n",
              "      <td>247.60</td>\n",
              "      <td>151.35</td>\n",
              "      <td>183.28</td>\n",
              "      <td>342.80</td>\n",
              "      <td>146.293624</td>\n",
              "    </tr>\n",
              "    <tr>\n",
              "      <th>2021-Abril</th>\n",
              "      <td>102.34</td>\n",
              "      <td>110.69</td>\n",
              "      <td>129.98</td>\n",
              "      <td>236.20</td>\n",
              "      <td>144.23</td>\n",
              "      <td>184.42</td>\n",
              "      <td>303.98</td>\n",
              "      <td>144.916164</td>\n",
              "    </tr>\n",
              "    <tr>\n",
              "      <th>2021-Mayo</th>\n",
              "      <td>105.35</td>\n",
              "      <td>114.65</td>\n",
              "      <td>129.30</td>\n",
              "      <td>244.25</td>\n",
              "      <td>156.14</td>\n",
              "      <td>192.08</td>\n",
              "      <td>329.24</td>\n",
              "      <td>150.207774</td>\n",
              "    </tr>\n",
              "    <tr>\n",
              "      <th>2021-Junio</th>\n",
              "      <td>105.73</td>\n",
              "      <td>114.41</td>\n",
              "      <td>126.27</td>\n",
              "      <td>249.84</td>\n",
              "      <td>151.74</td>\n",
              "      <td>181.26</td>\n",
              "      <td>323.05</td>\n",
              "      <td>148.865365</td>\n",
              "    </tr>\n",
              "    <tr>\n",
              "      <th>2021-Julio</th>\n",
              "      <td>108.06</td>\n",
              "      <td>109.65</td>\n",
              "      <td>130.66</td>\n",
              "      <td>241.40</td>\n",
              "      <td>160.30</td>\n",
              "      <td>181.91</td>\n",
              "      <td>310.85</td>\n",
              "      <td>143.191576</td>\n",
              "    </tr>\n",
              "    <tr>\n",
              "      <th>2021-Agosto</th>\n",
              "      <td>105.63</td>\n",
              "      <td>NaN</td>\n",
              "      <td>129.34</td>\n",
              "      <td>NaN</td>\n",
              "      <td>151.16</td>\n",
              "      <td>188.90</td>\n",
              "      <td>NaN</td>\n",
              "      <td>NaN</td>\n",
              "    </tr>\n",
              "  </tbody>\n",
              "</table>\n",
              "</div>"
            ],
            "text/plain": [
              "                 Costa Rica  El Salvador  ...  Panamá   Argentina\n",
              "2020-Enero           104.14       110.80  ...  345.73  132.282221\n",
              "2020-Febrero         105.17       110.06  ...  338.73  129.745142\n",
              "2020-Marzo           103.55       105.56  ...  364.78  129.097739\n",
              "2020-Abril            90.88        88.28  ...  247.19  111.903998\n",
              "2020-Mayo             93.10        89.88  ...  228.30  131.294632\n",
              "2020-Junio            97.04        96.97  ...  243.01  133.303803\n",
              "2020-Julio            92.92        96.05  ...  241.95  128.190600\n",
              "2020-Agosto           93.36       102.57  ...  251.35  125.173981\n",
              "2020-Septiembre       98.15       106.44  ...  268.97  126.596434\n",
              "2020-Octubre         102.10       106.64  ...  312.12  131.728309\n",
              "2020-Noviembre       105.13       111.85  ...  300.21  132.970124\n",
              "2020-Diciembre       110.96       122.29  ...  316.10  132.420676\n",
              "2021-Enero            97.39       109.01  ...  295.16  129.488612\n",
              "2021-Febrero          99.78       108.76  ...  305.77  126.692072\n",
              "2021-Marzo           107.30       114.72  ...  342.80  146.293624\n",
              "2021-Abril           102.34       110.69  ...  303.98  144.916164\n",
              "2021-Mayo            105.35       114.65  ...  329.24  150.207774\n",
              "2021-Junio           105.73       114.41  ...  323.05  148.865365\n",
              "2021-Julio           108.06       109.65  ...  310.85  143.191576\n",
              "2021-Agosto          105.63          NaN  ...     NaN         NaN\n",
              "\n",
              "[20 rows x 8 columns]"
            ]
          },
          "metadata": {},
          "execution_count": 10
        }
      ]
    },
    {
      "cell_type": "markdown",
      "metadata": {
        "id": "USJ5m_3XS6ji"
      },
      "source": [
        "### **Brasil**"
      ]
    },
    {
      "cell_type": "markdown",
      "metadata": {
        "id": "rhunUnSlLzy_"
      },
      "source": [
        "#### Publicaciones :\n",
        "1. 15 sept\n",
        "2. 15 Oct\n",
        "3. 16 Nov\n",
        "4. 15 Dic"
      ]
    },
    {
      "cell_type": "code",
      "metadata": {
        "id": "A6-HZYuyofz0",
        "colab": {
          "base_uri": "https://localhost:8080/",
          "height": 112
        },
        "outputId": "06f0075a-fba6-4a0c-dc04-560948b2639a"
      },
      "source": [
        "urljson = \"https://api.bcb.gov.br/dados/serie/bcdata.sgs.24363/dados?formato=json\"\n",
        "urllib2.urlretrieve(urljson, \"brasil.json\")\n",
        "bra = pd.read_json('brasil.json')\n",
        "bra.rename(columns={'valor':'Brasil'},inplace=True)\n",
        "\n",
        "bra['Brasil1'] = bra.Brasil.pct_change(12)*100 # calculo tasa de crecimiento\n",
        "bra['date'] = pd.to_datetime(bra['data'],format='%d/%m/%Y') # transformamos a formato fecha\n",
        "# Creamos indice\n",
        "bra['fecha'] = pd.DatetimeIndex(bra['date']).year.astype(str) +\"-\"+pd.DatetimeIndex(bra['date']).month.astype(str)\n",
        "\n",
        "nombre_mes = [meses[i][1] for i in pd.DatetimeIndex(bra['date']).month.tolist()] # obtenemos nombre del mes\n",
        "bra['fecha'] = pd.DatetimeIndex(bra['date']).year.astype(str) +\"-\"+ nombre_mes # creamos indice\n",
        "bra.set_index(bra.fecha,inplace=True) #reemplazamos indice\n",
        "\n",
        "imaela = pd.merge(imaeLA,bra['Brasil'],how='left',left_index=True,right_index=True) # combinamos la data\n",
        "bra.tail(1)"
      ],
      "execution_count": 11,
      "outputs": [
        {
          "output_type": "execute_result",
          "data": {
            "text/html": [
              "<div>\n",
              "<style scoped>\n",
              "    .dataframe tbody tr th:only-of-type {\n",
              "        vertical-align: middle;\n",
              "    }\n",
              "\n",
              "    .dataframe tbody tr th {\n",
              "        vertical-align: top;\n",
              "    }\n",
              "\n",
              "    .dataframe thead th {\n",
              "        text-align: right;\n",
              "    }\n",
              "</style>\n",
              "<table border=\"1\" class=\"dataframe\">\n",
              "  <thead>\n",
              "    <tr style=\"text-align: right;\">\n",
              "      <th></th>\n",
              "      <th>data</th>\n",
              "      <th>Brasil</th>\n",
              "      <th>Brasil1</th>\n",
              "      <th>date</th>\n",
              "      <th>fecha</th>\n",
              "    </tr>\n",
              "    <tr>\n",
              "      <th>fecha</th>\n",
              "      <th></th>\n",
              "      <th></th>\n",
              "      <th></th>\n",
              "      <th></th>\n",
              "      <th></th>\n",
              "    </tr>\n",
              "  </thead>\n",
              "  <tbody>\n",
              "    <tr>\n",
              "      <th>2021-Agosto</th>\n",
              "      <td>01/08/2021</td>\n",
              "      <td>141.93</td>\n",
              "      <td>4.737658</td>\n",
              "      <td>2021-08-01</td>\n",
              "      <td>2021-Agosto</td>\n",
              "    </tr>\n",
              "  </tbody>\n",
              "</table>\n",
              "</div>"
            ],
            "text/plain": [
              "                   data  Brasil   Brasil1       date        fecha\n",
              "fecha                                                            \n",
              "2021-Agosto  01/08/2021  141.93  4.737658 2021-08-01  2021-Agosto"
            ]
          },
          "metadata": {},
          "execution_count": 11
        }
      ]
    },
    {
      "cell_type": "code",
      "metadata": {
        "id": "F7wsu6q6H9Oa"
      },
      "source": [
        " #    imaela"
      ],
      "execution_count": 12,
      "outputs": []
    },
    {
      "cell_type": "markdown",
      "metadata": {
        "id": "YlZNkOc6pfVo"
      },
      "source": [
        "### **Mexico**"
      ]
    },
    {
      "cell_type": "markdown",
      "metadata": {
        "id": "gp44d33BJ8hJ"
      },
      "source": [
        "#### Publicaciones disponibles las fechas: \n",
        "1. 27 sept \n",
        "2. 25 Oct\n",
        "3. 25 Nov\n",
        "4. 24 Dic"
      ]
    },
    {
      "cell_type": "code",
      "metadata": {
        "id": "G9quLL-jpnVD"
      },
      "source": [
        "url = \"https://www.inegi.org.mx/contenidos/temas/economia/cn/igae/tabulados/ori/IGAE_1.xlsx\"\n",
        "urllib2.urlretrieve(url, \"test.xlsx\")\n",
        "mex = pd.read_excel('test.xlsx',header=3,nrows=3)\n",
        "mex = mex.T.reset_index(drop=True) # transponemos y estandarizamos el indice\n",
        "mex.drop(0,inplace=True) # borramos primera fila\n",
        "mex[2] = round(mex[2].astype(float),2) # leyendo tasas de crecimiento en el formato numerico y redondeando\n",
        "mex[0] = mex[0].ffill()"
      ],
      "execution_count": 13,
      "outputs": []
    },
    {
      "cell_type": "code",
      "metadata": {
        "id": "LJzHJQ0Pq7Kc",
        "colab": {
          "base_uri": "https://localhost:8080/",
          "height": 81
        },
        "outputId": "212e1781-3d52-4723-bef4-976834a385db"
      },
      "source": [
        "mex[1] = mex[1].replace(['oR','oP','lR','lP','eR','eP'],['o','o','l','l','e','e'], regex=True) #limpiar superindices \"Revisado\" \"Preliminar\"\n",
        "mex[0] = mex[0].replace('P','',regex=True) # limpiar preliminar de fecha\n",
        "mex.index = mex[0].astype('str') +\"-\"+ mex[1] #creamos indice para base de datos\n",
        "mex.columns = [*mex.columns[:-1], 'México'] # nombramos columna\n",
        "mex.dropna().tail(1) # mostrar ultimo valor no nulo"
      ],
      "execution_count": 14,
      "outputs": [
        {
          "output_type": "execute_result",
          "data": {
            "text/html": [
              "<div>\n",
              "<style scoped>\n",
              "    .dataframe tbody tr th:only-of-type {\n",
              "        vertical-align: middle;\n",
              "    }\n",
              "\n",
              "    .dataframe tbody tr th {\n",
              "        vertical-align: top;\n",
              "    }\n",
              "\n",
              "    .dataframe thead th {\n",
              "        text-align: right;\n",
              "    }\n",
              "</style>\n",
              "<table border=\"1\" class=\"dataframe\">\n",
              "  <thead>\n",
              "    <tr style=\"text-align: right;\">\n",
              "      <th></th>\n",
              "      <th>0</th>\n",
              "      <th>1</th>\n",
              "      <th>México</th>\n",
              "    </tr>\n",
              "  </thead>\n",
              "  <tbody>\n",
              "    <tr>\n",
              "      <th>2021-Julio</th>\n",
              "      <td>2021</td>\n",
              "      <td>Julio</td>\n",
              "      <td>109.19</td>\n",
              "    </tr>\n",
              "  </tbody>\n",
              "</table>\n",
              "</div>"
            ],
            "text/plain": [
              "               0      1  México\n",
              "2021-Julio  2021  Julio  109.19"
            ]
          },
          "metadata": {},
          "execution_count": 14
        }
      ]
    },
    {
      "cell_type": "code",
      "metadata": {
        "id": "QIx6594i6eEt"
      },
      "source": [
        "imaela = round(pd.merge(imaela,mex['México'],how='left',left_index=True,right_index=True),2) # combinamos las series"
      ],
      "execution_count": 15,
      "outputs": []
    },
    {
      "cell_type": "code",
      "metadata": {
        "id": "I8pV0b3HUrjM",
        "colab": {
          "base_uri": "https://localhost:8080/",
          "height": 676
        },
        "outputId": "9b8b5e49-f7b7-4794-aa4e-5b3ca0cda553"
      },
      "source": [
        "imaela"
      ],
      "execution_count": 16,
      "outputs": [
        {
          "output_type": "execute_result",
          "data": {
            "text/html": [
              "<div>\n",
              "<style scoped>\n",
              "    .dataframe tbody tr th:only-of-type {\n",
              "        vertical-align: middle;\n",
              "    }\n",
              "\n",
              "    .dataframe tbody tr th {\n",
              "        vertical-align: top;\n",
              "    }\n",
              "\n",
              "    .dataframe thead th {\n",
              "        text-align: right;\n",
              "    }\n",
              "</style>\n",
              "<table border=\"1\" class=\"dataframe\">\n",
              "  <thead>\n",
              "    <tr style=\"text-align: right;\">\n",
              "      <th></th>\n",
              "      <th>Costa Rica</th>\n",
              "      <th>El Salvador</th>\n",
              "      <th>Guatemala</th>\n",
              "      <th>Honduras</th>\n",
              "      <th>Nicaragua</th>\n",
              "      <th>República Dominicana</th>\n",
              "      <th>Panamá</th>\n",
              "      <th>Argentina</th>\n",
              "      <th>Brasil</th>\n",
              "      <th>México</th>\n",
              "    </tr>\n",
              "  </thead>\n",
              "  <tbody>\n",
              "    <tr>\n",
              "      <th>2020-Enero</th>\n",
              "      <td>104.14</td>\n",
              "      <td>110.80</td>\n",
              "      <td>127.40</td>\n",
              "      <td>243.14</td>\n",
              "      <td>152.88</td>\n",
              "      <td>179.04</td>\n",
              "      <td>345.73</td>\n",
              "      <td>132.28</td>\n",
              "      <td>133.72</td>\n",
              "      <td>111.90</td>\n",
              "    </tr>\n",
              "    <tr>\n",
              "      <th>2020-Febrero</th>\n",
              "      <td>105.17</td>\n",
              "      <td>110.06</td>\n",
              "      <td>125.54</td>\n",
              "      <td>242.59</td>\n",
              "      <td>144.12</td>\n",
              "      <td>183.24</td>\n",
              "      <td>338.73</td>\n",
              "      <td>129.75</td>\n",
              "      <td>134.77</td>\n",
              "      <td>108.32</td>\n",
              "    </tr>\n",
              "    <tr>\n",
              "      <th>2020-Marzo</th>\n",
              "      <td>103.55</td>\n",
              "      <td>105.56</td>\n",
              "      <td>121.36</td>\n",
              "      <td>218.14</td>\n",
              "      <td>140.05</td>\n",
              "      <td>165.67</td>\n",
              "      <td>364.78</td>\n",
              "      <td>129.10</td>\n",
              "      <td>136.84</td>\n",
              "      <td>109.83</td>\n",
              "    </tr>\n",
              "    <tr>\n",
              "      <th>2020-Abril</th>\n",
              "      <td>90.88</td>\n",
              "      <td>88.28</td>\n",
              "      <td>112.77</td>\n",
              "      <td>186.13</td>\n",
              "      <td>124.67</td>\n",
              "      <td>125.35</td>\n",
              "      <td>247.19</td>\n",
              "      <td>111.90</td>\n",
              "      <td>119.25</td>\n",
              "      <td>87.89</td>\n",
              "    </tr>\n",
              "    <tr>\n",
              "      <th>2020-Mayo</th>\n",
              "      <td>93.10</td>\n",
              "      <td>89.88</td>\n",
              "      <td>111.25</td>\n",
              "      <td>188.45</td>\n",
              "      <td>133.85</td>\n",
              "      <td>158.43</td>\n",
              "      <td>228.30</td>\n",
              "      <td>131.29</td>\n",
              "      <td>119.91</td>\n",
              "      <td>89.31</td>\n",
              "    </tr>\n",
              "    <tr>\n",
              "      <th>2020-Junio</th>\n",
              "      <td>97.04</td>\n",
              "      <td>96.97</td>\n",
              "      <td>111.06</td>\n",
              "      <td>208.19</td>\n",
              "      <td>128.81</td>\n",
              "      <td>160.89</td>\n",
              "      <td>243.01</td>\n",
              "      <td>133.30</td>\n",
              "      <td>126.29</td>\n",
              "      <td>97.82</td>\n",
              "    </tr>\n",
              "    <tr>\n",
              "      <th>2020-Julio</th>\n",
              "      <td>92.92</td>\n",
              "      <td>96.05</td>\n",
              "      <td>117.42</td>\n",
              "      <td>208.83</td>\n",
              "      <td>147.58</td>\n",
              "      <td>162.35</td>\n",
              "      <td>241.95</td>\n",
              "      <td>128.19</td>\n",
              "      <td>135.84</td>\n",
              "      <td>101.96</td>\n",
              "    </tr>\n",
              "    <tr>\n",
              "      <th>2020-Agosto</th>\n",
              "      <td>93.36</td>\n",
              "      <td>102.57</td>\n",
              "      <td>120.25</td>\n",
              "      <td>225.70</td>\n",
              "      <td>138.50</td>\n",
              "      <td>169.07</td>\n",
              "      <td>251.35</td>\n",
              "      <td>125.17</td>\n",
              "      <td>135.51</td>\n",
              "      <td>102.65</td>\n",
              "    </tr>\n",
              "    <tr>\n",
              "      <th>2020-Septiembre</th>\n",
              "      <td>98.15</td>\n",
              "      <td>106.44</td>\n",
              "      <td>121.45</td>\n",
              "      <td>230.41</td>\n",
              "      <td>139.98</td>\n",
              "      <td>163.68</td>\n",
              "      <td>268.97</td>\n",
              "      <td>126.60</td>\n",
              "      <td>137.12</td>\n",
              "      <td>102.92</td>\n",
              "    </tr>\n",
              "    <tr>\n",
              "      <th>2020-Octubre</th>\n",
              "      <td>102.10</td>\n",
              "      <td>106.64</td>\n",
              "      <td>125.72</td>\n",
              "      <td>249.67</td>\n",
              "      <td>148.48</td>\n",
              "      <td>175.09</td>\n",
              "      <td>312.12</td>\n",
              "      <td>131.73</td>\n",
              "      <td>139.74</td>\n",
              "      <td>109.17</td>\n",
              "    </tr>\n",
              "    <tr>\n",
              "      <th>2020-Noviembre</th>\n",
              "      <td>105.13</td>\n",
              "      <td>111.85</td>\n",
              "      <td>128.86</td>\n",
              "      <td>219.03</td>\n",
              "      <td>148.75</td>\n",
              "      <td>181.13</td>\n",
              "      <td>300.21</td>\n",
              "      <td>132.97</td>\n",
              "      <td>138.11</td>\n",
              "      <td>111.16</td>\n",
              "    </tr>\n",
              "    <tr>\n",
              "      <th>2020-Diciembre</th>\n",
              "      <td>110.96</td>\n",
              "      <td>122.29</td>\n",
              "      <td>136.24</td>\n",
              "      <td>257.90</td>\n",
              "      <td>167.28</td>\n",
              "      <td>192.02</td>\n",
              "      <td>316.10</td>\n",
              "      <td>132.42</td>\n",
              "      <td>139.41</td>\n",
              "      <td>110.06</td>\n",
              "    </tr>\n",
              "    <tr>\n",
              "      <th>2021-Enero</th>\n",
              "      <td>97.39</td>\n",
              "      <td>109.01</td>\n",
              "      <td>129.22</td>\n",
              "      <td>228.83</td>\n",
              "      <td>154.77</td>\n",
              "      <td>175.81</td>\n",
              "      <td>295.16</td>\n",
              "      <td>129.49</td>\n",
              "      <td>132.02</td>\n",
              "      <td>105.70</td>\n",
              "    </tr>\n",
              "    <tr>\n",
              "      <th>2021-Febrero</th>\n",
              "      <td>99.78</td>\n",
              "      <td>108.76</td>\n",
              "      <td>128.60</td>\n",
              "      <td>235.08</td>\n",
              "      <td>147.43</td>\n",
              "      <td>185.26</td>\n",
              "      <td>305.77</td>\n",
              "      <td>126.69</td>\n",
              "      <td>134.78</td>\n",
              "      <td>102.80</td>\n",
              "    </tr>\n",
              "    <tr>\n",
              "      <th>2021-Marzo</th>\n",
              "      <td>107.30</td>\n",
              "      <td>114.72</td>\n",
              "      <td>133.50</td>\n",
              "      <td>247.60</td>\n",
              "      <td>151.35</td>\n",
              "      <td>183.28</td>\n",
              "      <td>342.80</td>\n",
              "      <td>146.29</td>\n",
              "      <td>144.03</td>\n",
              "      <td>110.75</td>\n",
              "    </tr>\n",
              "    <tr>\n",
              "      <th>2021-Abril</th>\n",
              "      <td>102.34</td>\n",
              "      <td>110.69</td>\n",
              "      <td>129.98</td>\n",
              "      <td>236.20</td>\n",
              "      <td>144.23</td>\n",
              "      <td>184.42</td>\n",
              "      <td>303.98</td>\n",
              "      <td>144.92</td>\n",
              "      <td>138.81</td>\n",
              "      <td>107.52</td>\n",
              "    </tr>\n",
              "    <tr>\n",
              "      <th>2021-Mayo</th>\n",
              "      <td>105.35</td>\n",
              "      <td>114.65</td>\n",
              "      <td>129.30</td>\n",
              "      <td>244.25</td>\n",
              "      <td>156.14</td>\n",
              "      <td>192.08</td>\n",
              "      <td>329.24</td>\n",
              "      <td>150.21</td>\n",
              "      <td>136.76</td>\n",
              "      <td>111.75</td>\n",
              "    </tr>\n",
              "    <tr>\n",
              "      <th>2021-Junio</th>\n",
              "      <td>105.73</td>\n",
              "      <td>114.41</td>\n",
              "      <td>126.27</td>\n",
              "      <td>249.84</td>\n",
              "      <td>151.74</td>\n",
              "      <td>181.26</td>\n",
              "      <td>323.05</td>\n",
              "      <td>148.87</td>\n",
              "      <td>137.39</td>\n",
              "      <td>110.79</td>\n",
              "    </tr>\n",
              "    <tr>\n",
              "      <th>2021-Julio</th>\n",
              "      <td>108.06</td>\n",
              "      <td>109.65</td>\n",
              "      <td>130.66</td>\n",
              "      <td>241.40</td>\n",
              "      <td>160.30</td>\n",
              "      <td>181.91</td>\n",
              "      <td>310.85</td>\n",
              "      <td>143.19</td>\n",
              "      <td>143.23</td>\n",
              "      <td>109.19</td>\n",
              "    </tr>\n",
              "    <tr>\n",
              "      <th>2021-Agosto</th>\n",
              "      <td>105.63</td>\n",
              "      <td>NaN</td>\n",
              "      <td>129.34</td>\n",
              "      <td>NaN</td>\n",
              "      <td>151.16</td>\n",
              "      <td>188.90</td>\n",
              "      <td>NaN</td>\n",
              "      <td>NaN</td>\n",
              "      <td>141.93</td>\n",
              "      <td>NaN</td>\n",
              "    </tr>\n",
              "  </tbody>\n",
              "</table>\n",
              "</div>"
            ],
            "text/plain": [
              "                 Costa Rica  El Salvador  Guatemala  ...  Argentina  Brasil  México\n",
              "2020-Enero           104.14       110.80     127.40  ...     132.28  133.72  111.90\n",
              "2020-Febrero         105.17       110.06     125.54  ...     129.75  134.77  108.32\n",
              "2020-Marzo           103.55       105.56     121.36  ...     129.10  136.84  109.83\n",
              "2020-Abril            90.88        88.28     112.77  ...     111.90  119.25   87.89\n",
              "2020-Mayo             93.10        89.88     111.25  ...     131.29  119.91   89.31\n",
              "2020-Junio            97.04        96.97     111.06  ...     133.30  126.29   97.82\n",
              "2020-Julio            92.92        96.05     117.42  ...     128.19  135.84  101.96\n",
              "2020-Agosto           93.36       102.57     120.25  ...     125.17  135.51  102.65\n",
              "2020-Septiembre       98.15       106.44     121.45  ...     126.60  137.12  102.92\n",
              "2020-Octubre         102.10       106.64     125.72  ...     131.73  139.74  109.17\n",
              "2020-Noviembre       105.13       111.85     128.86  ...     132.97  138.11  111.16\n",
              "2020-Diciembre       110.96       122.29     136.24  ...     132.42  139.41  110.06\n",
              "2021-Enero            97.39       109.01     129.22  ...     129.49  132.02  105.70\n",
              "2021-Febrero          99.78       108.76     128.60  ...     126.69  134.78  102.80\n",
              "2021-Marzo           107.30       114.72     133.50  ...     146.29  144.03  110.75\n",
              "2021-Abril           102.34       110.69     129.98  ...     144.92  138.81  107.52\n",
              "2021-Mayo            105.35       114.65     129.30  ...     150.21  136.76  111.75\n",
              "2021-Junio           105.73       114.41     126.27  ...     148.87  137.39  110.79\n",
              "2021-Julio           108.06       109.65     130.66  ...     143.19  143.23  109.19\n",
              "2021-Agosto          105.63          NaN     129.34  ...        NaN  141.93     NaN\n",
              "\n",
              "[20 rows x 10 columns]"
            ]
          },
          "metadata": {},
          "execution_count": 16
        }
      ]
    },
    {
      "cell_type": "code",
      "metadata": {
        "id": "2XyzaBWtpn_0"
      },
      "source": [
        "## link excel\n",
        "#https://www.inegi.org.mx/contenidos/temas/economia/cn/igae/tabulados/ori/IGAE_1.xlsx       indice\n",
        "\n",
        "#https://www.inegi.org.mx/contenidos/temas/economia/cn/igae/tabulados/ori/IGAE_2.xlsx       crecimiento"
      ],
      "execution_count": 17,
      "outputs": []
    },
    {
      "cell_type": "markdown",
      "metadata": {
        "id": "av3nykGIzFj-"
      },
      "source": [
        "### **Perú**"
      ]
    },
    {
      "cell_type": "markdown",
      "metadata": {
        "id": "Zxz5C9hXDTEC"
      },
      "source": [
        "#### Publicaciones disponibles a fecha:\n"
      ]
    },
    {
      "cell_type": "code",
      "metadata": {
        "id": "Ztmnin9LzGhP"
      },
      "source": [
        "url = 'https://www.inei.gob.pe/media/principales_indicadores/CalculoPBI_98.zip' #cambio de 97 a 98 (jul ago)"
      ],
      "execution_count": 57,
      "outputs": []
    },
    {
      "cell_type": "code",
      "metadata": {
        "id": "fR9o9g9hzGpQ"
      },
      "source": [
        "zip, _ = urllib2.urlretrieve(url)\n",
        "with zipfile.ZipFile(zip, \"r\") as f:\n",
        "    f.extractall('/content')"
      ],
      "execution_count": 58,
      "outputs": []
    },
    {
      "cell_type": "code",
      "metadata": {
        "id": "NoK6gcMRzGvt"
      },
      "source": [
        "indicador = [f.namelist()[i] for i in range(len(f.namelist())) if 'Indicador Mensual' in f.namelist()[i]][0] # el 0 es para que elija el string de la lista\n",
        "df = pd.read_excel(indicador,sheet_name=1,header=3)[1:] # el indice esta en la segunda hoja del excel"
      ],
      "execution_count": 59,
      "outputs": []
    },
    {
      "cell_type": "code",
      "metadata": {
        "id": "XAf-5TNTFX7g",
        "outputId": "621bbb41-82ba-4d38-aeb5-e34749636e11",
        "colab": {
          "base_uri": "https://localhost:8080/",
          "height": 34
        }
      },
      "source": [
        "indicador"
      ],
      "execution_count": 60,
      "outputs": [
        {
          "output_type": "execute_result",
          "data": {
            "application/vnd.google.colaboratory.intrinsic+json": {
              "type": "string"
            },
            "text/plain": [
              "'Indicador Mensual de la Producción Nacional 08 2021 r.xlsx'"
            ]
          },
          "metadata": {},
          "execution_count": 60
        }
      ]
    },
    {
      "cell_type": "code",
      "metadata": {
        "id": "Db-wpEmd1M4i"
      },
      "source": [
        "pe = round(df.filter(like='Índice Global'),2)   # regex='spike|spke' se puede usar regex para en caso de que escriban las columnas mal\n",
        "pe['YM'] = df['Año y Mes'].astype(int).astype(str)\n",
        "\n",
        "#  IG.1 Mensual   IG.2 Acumulado  IG.3 Anual\n",
        "pe['fecha'] =  pe['YM'].str[0:4] +'-'+ pe['YM'].str[4:7].astype(int).map(meses_dict)  # fecha\n",
        "pe.set_index('fecha',inplace=True)\n",
        "\n",
        "pe.rename(columns={pe.columns[0]:'Perú',pe.columns[1]:'Perú_i',pe.columns[2]:'Perú_a'},inplace=True)"
      ],
      "execution_count": 74,
      "outputs": []
    },
    {
      "cell_type": "code",
      "metadata": {
        "id": "T5rh--_j38St"
      },
      "source": [
        "imaela = imaela.merge(pe['Perú'],how='left',left_index=True,right_index=True)"
      ],
      "execution_count": 76,
      "outputs": []
    },
    {
      "cell_type": "markdown",
      "metadata": {
        "id": "A2MSTFg45f_H"
      },
      "source": [
        "### **Chile**"
      ]
    },
    {
      "cell_type": "markdown",
      "metadata": {
        "id": "hqlvksKyKnZL"
      },
      "source": [
        "#### Publicaciones disponibles las fechas:\n",
        " \n",
        "2. 1 Oct  - Agosto\n",
        "3. 2 Nov  - Septiembre\n",
        "4. 1 Dic - Noviembre"
      ]
    },
    {
      "cell_type": "code",
      "metadata": {
        "id": "bKL_VCs35h82"
      },
      "source": [
        "url = \"https://si3.bcentral.cl/estadisticas/Principal1/excel/CCNN/IMACEC/Excel/IMACEC.xlsx\"\n",
        "urllib2.urlretrieve(url, \"chile.xlsx\")\n",
        "df = pd.read_excel('chile.xlsx',header=5,keep_default_na=False)"
      ],
      "execution_count": 77,
      "outputs": []
    },
    {
      "cell_type": "code",
      "metadata": {
        "id": "Gv8NAd-xcUEZ",
        "colab": {
          "base_uri": "https://localhost:8080/",
          "height": 0
        },
        "outputId": "26d9cae1-494e-4cd1-c1b8-3df512f6dda9"
      },
      "source": [
        "chile = df.loc[1:,[df.columns[0],df.columns[1],'Imacec']][:-10] # excluimos las ultimas 10 filas (pie de pagina)\n",
        "chile.rename(columns = {'Imacec':'Chile'}, inplace = True) # renombramos\n",
        "chile['Chile1'] = pd.to_numeric(chile.Chile).pct_change(12)*100\n",
        "###\n",
        "chile[chile.columns[0]] = pd.to_numeric(chile[chile.columns[0]], errors='coerce').ffill().bfill().astype(int)\n",
        " # las columnas del excel contienen string en blanco por lo que se transformaron a numero antes de hacer el forward fill\n",
        " # el backward fill es para asegurar que no quede NaN por detras y dificulte la creacion del indice\n",
        "###\n",
        "\n",
        "chile['mes'] = chile[chile.columns[1]].map(mes3).bfill() # creando mes y usando el bfill por el mismo motivo explicado arriba\n",
        "\n",
        "#Creamos el indice\n",
        "chile.index = chile[chile.columns[0]].astype('str') +\"-\"+ chile.mes\n",
        "\n",
        "chile.tail(1)"
      ],
      "execution_count": 78,
      "outputs": [
        {
          "output_type": "execute_result",
          "data": {
            "text/html": [
              "<div>\n",
              "<style scoped>\n",
              "    .dataframe tbody tr th:only-of-type {\n",
              "        vertical-align: middle;\n",
              "    }\n",
              "\n",
              "    .dataframe tbody tr th {\n",
              "        vertical-align: top;\n",
              "    }\n",
              "\n",
              "    .dataframe thead th {\n",
              "        text-align: right;\n",
              "    }\n",
              "</style>\n",
              "<table border=\"1\" class=\"dataframe\">\n",
              "  <thead>\n",
              "    <tr style=\"text-align: right;\">\n",
              "      <th></th>\n",
              "      <th></th>\n",
              "      <th>Unnamed: 1</th>\n",
              "      <th>Chile</th>\n",
              "      <th>Chile1</th>\n",
              "      <th>mes</th>\n",
              "    </tr>\n",
              "  </thead>\n",
              "  <tbody>\n",
              "    <tr>\n",
              "      <th>2021-Agosto</th>\n",
              "      <td>2021</td>\n",
              "      <td>ago</td>\n",
              "      <td>120.345</td>\n",
              "      <td>19.075623</td>\n",
              "      <td>Agosto</td>\n",
              "    </tr>\n",
              "  </tbody>\n",
              "</table>\n",
              "</div>"
            ],
            "text/plain": [
              "                  Unnamed: 1    Chile     Chile1     mes\n",
              "2021-Agosto  2021        ago  120.345  19.075623  Agosto"
            ]
          },
          "metadata": {},
          "execution_count": 78
        }
      ]
    },
    {
      "cell_type": "code",
      "metadata": {
        "id": "euH3hfbWtab4"
      },
      "source": [
        "imaelatam = round(imaela.merge(chile['Chile'],how='left',left_index=True,right_index=True),2)\n",
        "imaelatam = imaelatam[~imaelatam.index.duplicated(keep='last')].reindex(imaela.index) # hay duplicados, los eliminamos y reindexamos"
      ],
      "execution_count": 79,
      "outputs": []
    },
    {
      "cell_type": "code",
      "metadata": {
        "id": "6kQyvbAHrg2D"
      },
      "source": [
        "#  imaelatam"
      ],
      "execution_count": 80,
      "outputs": []
    },
    {
      "cell_type": "markdown",
      "metadata": {
        "id": "rSOwOPisI0mw"
      },
      "source": [
        "### **Ecuador**"
      ]
    },
    {
      "cell_type": "markdown",
      "metadata": {
        "id": "GqkkMgL4LIwV"
      },
      "source": [
        "#### Publicaciones disponibles las fechas: \n",
        "1. 14 sept    -    Julio\n",
        "2. 13 Oct    -     Agosto\n",
        "3. 15 Nov    -     Sep\n",
        "4. 24 Dic    -     Oct"
      ]
    },
    {
      "cell_type": "code",
      "metadata": {
        "id": "sscszb2Zd1gv"
      },
      "source": [
        "url = \"https://contenido.bce.fin.ec/documentos/PublicacionesNotas/Catalogo/IEMensual/Adelantos/IEM-452-e.xlsx\"\n",
        "urllib2.urlretrieve(url, \"Ecuador.xlsx\")\n",
        "df = pd.read_excel('Ecuador.xlsx',header=7,keep_default_na=False)[1:13].reset_index()\n",
        "\n",
        "ecu = (df.set_index(['Unnamed: 0','index'])\n",
        ".stack()\n",
        ".reset_index()\n",
        ".rename(columns={'Unnamed: 0':'mes','level_2':'Year'})).sort_values(['Year','index']) # ingenieria de base de datos\n",
        "\n",
        "# Elaboracion de indice\n",
        "ecu['Mes'] = ecu.mes.str.lower().map(mes3)\n",
        "ecu.insert(3, 'fecha', ecu.Year.astype(str) + '-' + ecu.Mes)\n",
        "ecu.index = ecu.fecha\n",
        "\n",
        "# Variacion interanual\n",
        "ecu.rename(columns={0:'Ecuador'},inplace=True)\n",
        "ecu['Ecuador1'] = pd.to_numeric(ecu['Ecuador'],errors='coerce').pct_change(12)*100"
      ],
      "execution_count": 81,
      "outputs": []
    },
    {
      "cell_type": "code",
      "metadata": {
        "id": "ok4gz6V3nbeh"
      },
      "source": [
        "imaela = round(pd.merge(imaelatam,ecu['Ecuador'],how='left',left_index=True,right_index=True),2)"
      ],
      "execution_count": 82,
      "outputs": []
    },
    {
      "cell_type": "code",
      "metadata": {
        "id": "rjP6l55-S_KT"
      },
      "source": [
        "#   imaela"
      ],
      "execution_count": 83,
      "outputs": []
    },
    {
      "cell_type": "markdown",
      "metadata": {
        "id": "wrBNeqzd4se-"
      },
      "source": [
        "df = np.array(tb.read_pdf('ecuador.pdf',pages = '5',stream=True,multiple_tables=True,pandas_options={'header':None}))\n",
        "dff = pd.DataFrame(df.reshape(-1,5)) # en 2022 el reshape debe ser (-1,6)"
      ]
    },
    {
      "cell_type": "markdown",
      "metadata": {
        "id": "DYqsQgFR-FOz"
      },
      "source": [
        "dff[dff.iloc[3,2].split(' ')] = dff[2].str.split(' ',expand=True)\n",
        "if dff.iloc[3,3] in range(2020,2040,1):\n",
        "  dff[int(dff.iloc[3,3])] = dff[3]\n",
        "  dff[int(dff.iloc[3,4])] = dff[4]\n",
        "else:\n",
        "  dff[int(dff.iloc[3,4])] = dff[4]"
      ]
    },
    {
      "cell_type": "markdown",
      "metadata": {
        "id": "nOgS6gZj_kOg"
      },
      "source": [
        "if dff.iloc[18,0] in ['Ene']:\n",
        "    ecu = dff.iloc[18:30,[0,-3,-2,-1]].reset_index(drop=True)\n",
        "else:\n",
        "    ecu = dff.iloc[19:31,[0,-3,-2,-1]].reset_index(drop=True)\n",
        " \n",
        "ecu['interanualAnterior'] = ecu.iloc[:,-2].astype(float)/ecu.iloc[:,-3].astype(float)*100-100\n",
        "ecu['Ecuador'] = ecu.iloc[:,-2].astype(float)/ecu.iloc[:,-3].astype(float)*100-100\n",
        "\n",
        "listames = [meses[1:][i][1] for i in range(len(meses[1:]))]\n",
        "ecu['mes'] = listames\n",
        "\n",
        "ecu.index = str(ecu.columns[-4]) + '-' + ecu.mes\n",
        "ecu.dropna().tail(1)"
      ]
    },
    {
      "cell_type": "markdown",
      "metadata": {
        "id": "1UD90WE2qzru"
      },
      "source": [
        "### **Colombia**"
      ]
    },
    {
      "cell_type": "markdown",
      "metadata": {
        "id": "wrivlZivMI7U"
      },
      "source": [
        "#### Publicaciones disponibles las fechas: \n",
        "1. 17 sept    -    Julio\n",
        "2. 19 Oct    -     Agosto\n",
        "3. 16 Nov    -     Sep\n",
        "4. 17 Dic    -     Oct"
      ]
    },
    {
      "cell_type": "code",
      "metadata": {
        "id": "QKed7ixdCClu"
      },
      "source": [
        "url = 'https://www.dane.gov.co/index.php/estadisticas-por-tema/cuentas-nacionales/indicador-de-seguimiento-a-la-economia-ise/historicos-ise-comunicados-y-boletines'\n",
        "url1 = 'https://www.dane.gov.co/index.php/estadisticas-por-tema/cuentas-nacionales/indicador-de-seguimiento-a-la-economia-ise'\n",
        "header= {'User-Agent': 'Mozilla/5.0 (X11; Linux x86_64) ' \n",
        "      'AppleWebKit/537.11 (KHTML, like Gecko) '\n",
        "      'Chrome/23.0.1271.64 Safari/537.11',\n",
        "      'Accept': 'text/html,application/xhtml+xml,application/xml;q=0.9,*/*;q=0.8',\n",
        "      'Accept-Charset': 'ISO-8859-1,utf-8;q=0.7,*;q=0.3',\n",
        "      'Accept-Encoding': 'none',\n",
        "      'Accept-Language': 'en-US,en;q=0.8',\n",
        "      'Connection': 'keep-alive'}\n",
        "\n",
        "req = urllib2.Request(url=url1, headers=header) \n",
        "page = urllib2.urlopen(req).read()\n"
      ],
      "execution_count": 84,
      "outputs": []
    },
    {
      "cell_type": "code",
      "metadata": {
        "id": "BNLB2HxECCtl",
        "colab": {
          "base_uri": "https://localhost:8080/"
        },
        "outputId": "3d253c5d-6e7b-47d9-e244-25fa7d601b14"
      },
      "source": [
        "soupco = BeautifulSoup(page,'lxml')\n",
        "links = [a['href'] for a in soupco.select(\"a[href*=21.xlsx]\")] # extraemos links que contengan 21.xlsx \n",
        " # ultimos link disponibles\n",
        "links"
      ],
      "execution_count": 85,
      "outputs": [
        {
          "output_type": "execute_result",
          "data": {
            "text/plain": [
              "['/files/investigaciones/boletines/pib/Anex_ISE_9actividades_ago_21.xlsx',\n",
              " '/files/investigaciones/boletines/pib/Anex_ISE_12_actividades_II_trimestre_21.xlsx']"
            ]
          },
          "metadata": {},
          "execution_count": 85
        }
      ]
    },
    {
      "cell_type": "code",
      "metadata": {
        "id": "wbDtMlN5EnsO",
        "colab": {
          "base_uri": "https://localhost:8080/",
          "height": 81
        },
        "outputId": "70962b02-add6-47f9-aecf-d424d62f72e6"
      },
      "source": [
        "url2 = 'https://www.dane.gov.co' + links[0] # si esta el nuevo mes restarle 1 al indice de links\n",
        "urllib2.urlretrieve(url2, \"colombia.xlsx\")\n",
        "df = pd.read_excel('colombia.xlsx',sheet_name='Cuadro 1',header=9)[0:16].T\n",
        "df.columns = df.iloc[0]\n",
        "df = df.iloc[:,[0,1,-1]].reset_index(drop=True)[1:]\n",
        "df.tail(1)"
      ],
      "execution_count": 86,
      "outputs": [
        {
          "output_type": "execute_result",
          "data": {
            "text/html": [
              "<div>\n",
              "<style scoped>\n",
              "    .dataframe tbody tr th:only-of-type {\n",
              "        vertical-align: middle;\n",
              "    }\n",
              "\n",
              "    .dataframe tbody tr th {\n",
              "        vertical-align: top;\n",
              "    }\n",
              "\n",
              "    .dataframe thead th {\n",
              "        text-align: right;\n",
              "    }\n",
              "</style>\n",
              "<table border=\"1\" class=\"dataframe\">\n",
              "  <thead>\n",
              "    <tr style=\"text-align: right;\">\n",
              "      <th>Unnamed: 0</th>\n",
              "      <th>Concepto</th>\n",
              "      <th>NaN</th>\n",
              "      <th>Indicador de Seguimiento a la Economía</th>\n",
              "    </tr>\n",
              "  </thead>\n",
              "  <tbody>\n",
              "    <tr>\n",
              "      <th>200</th>\n",
              "      <td>NaN</td>\n",
              "      <td>Agosto</td>\n",
              "      <td>114.935</td>\n",
              "    </tr>\n",
              "  </tbody>\n",
              "</table>\n",
              "</div>"
            ],
            "text/plain": [
              "Unnamed: 0 Concepto     NaN Indicador de Seguimiento a la Economía\n",
              "200             NaN  Agosto                                114.935"
            ]
          },
          "metadata": {},
          "execution_count": 86
        }
      ]
    },
    {
      "cell_type": "code",
      "metadata": {
        "id": "akDz1zRARQPg"
      },
      "source": [
        "df['ano'] = df.Concepto.ffill().astype(str).str.replace('pr','').str.replace('p','')\n",
        "df['Colombia'] = round(pd.to_numeric(df.loc[:,df.columns[-2]]),2)\n",
        "df.index = df.ano.astype(str) + '-' + df.iloc[:,1].astype(str) "
      ],
      "execution_count": 87,
      "outputs": []
    },
    {
      "cell_type": "code",
      "metadata": {
        "id": "mOvRCtr1SP3H"
      },
      "source": [
        "imaela = imaela.merge(df['Colombia'],how='left',left_index=True,right_index=True)"
      ],
      "execution_count": 88,
      "outputs": []
    },
    {
      "cell_type": "markdown",
      "metadata": {
        "id": "VKQm4sO8CBgy"
      },
      "source": [
        "##### PDF"
      ]
    },
    {
      "cell_type": "markdown",
      "metadata": {
        "id": "NCAIe-IytrnA"
      },
      "source": [
        "df = np.array(tb.read_pdf('colombia.pdf',pages = '17',stream=True,multiple_tables=True,pandas_options={'header':None}))\n",
        "dco = pd.DataFrame(df.reshape(-1,4))\n",
        "dco = dco.loc[:,0:2]\n",
        "dco.tail(1)"
      ]
    },
    {
      "cell_type": "markdown",
      "metadata": {
        "id": "oIjcg_Hy3mLe"
      },
      "source": [
        "dco[3] = dco[2].str.split(' ',expand=True)[0] # Tomando las tasas de crecimiento de la tabla pdf\n",
        "dco.rename(columns={1:'Colombia'},inplace=True)\n",
        "dco['Colombia1'] = pd.to_numeric(dco[3].str.replace(',','.'),errors='coerce')  #Convirtiendo la data a numero\n",
        "dco['Colombia'] = pd.to_numeric(dco['Colombia'].str.replace(',','.'),errors='coerce')"
      ]
    },
    {
      "cell_type": "markdown",
      "metadata": {
        "id": "1Za65saE00xD"
      },
      "source": [
        "split = dco[0].str.split(' - ')     # extraer mes \n",
        "fech = []\n",
        "for i in range(len(split)):\n",
        "  if type(split[i]) == float:\n",
        "    fech.append('0')\n",
        "  elif len(split[i]) == 1 :\n",
        "    fech.append(str(split[i][0]))\n",
        "  else:\n",
        "    fech.append(str(split[i][1].capitalize()))"
      ]
    },
    {
      "cell_type": "markdown",
      "metadata": {
        "id": "7sx55Q3v7F_L"
      },
      "source": [
        "anof=[]                          # extraer año\n",
        "for i in range(len(split)):\n",
        "  if type(split[i]) == float:\n",
        "    anof.append('0')\n",
        "  elif len(split[i]) > 1 :\n",
        "    anof.append(str(split[i][0]))\n",
        "  else:\n",
        "    anof.append(np.nan)"
      ]
    },
    {
      "cell_type": "markdown",
      "metadata": {
        "id": "E0FtIhm29EdE"
      },
      "source": [
        "dco['mes'] = fech\n",
        "dco['ano'] = anof\n",
        "dco['ano'] = dco.ano.replace(['p','r',' '],['','',''],regex=True).ffill()\n",
        "dco.index = dco['ano'] + '-' + dco['mes'] # creamos indice"
      ]
    },
    {
      "cell_type": "markdown",
      "metadata": {
        "id": "MkoUi_tal0ST"
      },
      "source": [
        "### **Paraguay**"
      ]
    },
    {
      "cell_type": "code",
      "metadata": {
        "id": "vVlkRWfZIPOT"
      },
      "source": [
        "url = 'https://www.bcp.gov.py/indicador-mensual-de-actividad-economica-del-paraguay-imaep-i471'\n",
        "\n",
        "#the URL where you are requesting at\n",
        "req = urllib2.Request(url=url, headers=header) \n",
        "page = urllib2.urlopen(req).read()"
      ],
      "execution_count": 89,
      "outputs": []
    },
    {
      "cell_type": "code",
      "metadata": {
        "id": "OHArZO25IcoC"
      },
      "source": [
        "souppy = BeautifulSoup(page,'lxml')\n",
        "links = [a['href'] for a in souppy.select(\"a[href*=_2021]\")] # extraemos links que contengan _2021 \n",
        " # ultimos link disponibles"
      ],
      "execution_count": 90,
      "outputs": []
    },
    {
      "cell_type": "code",
      "metadata": {
        "id": "CRClNJVemnbZ"
      },
      "source": [
        "#for mes in range(len(links)):\n",
        "#  linkurl = 'https://www.bcp.gov.py/' + links[-(mes+1)]\n",
        "#  urllib2.urlretrieve(linkurl, mes)\n",
        "url2 = 'https://www.bcp.gov.py/' + links[0] # -(numero mes)\n",
        "opener = urllib2.build_opener()\n",
        "opener.addheaders = [('User-agent', 'Mozilla/5.0')]\n",
        "urllib2.install_opener(opener)\n",
        "urllib2.urlretrieve(url2, \"py.pdf\")\n",
        "\n",
        "with fitz.open(\"py.pdf\") as doc:\n",
        "    text = \"\"\n",
        "    for page in doc:\n",
        "        text += page.get_text()\n",
        "\n",
        "fechapy = text.split(' |',2)[1] # con el espacio\n",
        "fechapy = fechapy.split(' ')[1] +'-'+fechapy.split(' ')[0]\n",
        "\n"
      ],
      "execution_count": 91,
      "outputs": []
    },
    {
      "cell_type": "code",
      "metadata": {
        "colab": {
          "base_uri": "https://localhost:8080/"
        },
        "id": "yVnR8BwV6iJ3",
        "outputId": "f4beee58-cceb-4d25-83a0-ea96b7176487"
      },
      "source": [
        "# Debido a que las tasas son iguales en Enero\n",
        "if 'Enero' not in fechapy:\n",
        "  valorpyinteranual = re.findall(r'[0-9]+,[0-9]+',text)[0] # para obtener tasa interanual          el regex sirve para buscar los registros numericos separados por coma\n",
        "  valorpyacum = re.findall(r'[0-9]+,[0-9]+',text)[1] # para obtener tasa acumulada interanual\n",
        "  valorpyinteranual = float(valorpyinteranual.replace(',','.'))\n",
        "  valorpyacum = float(valorpyacum.replace(',','.'))\n",
        "else:\n",
        "   valorpyinteranual = re.findall(r'[0-9]+,[0-9]+',text)[0]\n",
        "   valorpyinteranual = float(valorpyinteranual.replace(',','.'))\n",
        "   valorpyacum = valorpyinteranual\n",
        "\n",
        "print(fechapy)\n",
        "print(valorpyinteranual,' Tasa interanual')\n",
        "print(valorpyacum, ' Tasa acumulada interanual')"
      ],
      "execution_count": 92,
      "outputs": [
        {
          "output_type": "stream",
          "name": "stdout",
          "text": [
            "2021-Agosto\n",
            "4.2  Tasa interanual\n",
            "5.7  Tasa acumulada interanual\n"
          ]
        }
      ]
    },
    {
      "cell_type": "code",
      "metadata": {
        "id": "byRPPvf83emR",
        "outputId": "6577d0f5-8109-429d-8eea-fb43782aac2a",
        "colab": {
          "base_uri": "https://localhost:8080/",
          "height": 0
        }
      },
      "source": [
        "#Añadir nuevo mes cuando salga##IMPORTANTE\n",
        "py = pd.DataFrame({'Fecha':['2021-Enero','2021-Febrero','2021-Marzo','2021-Abril','2021-Mayo','2021-Junio','2021-Julio','2021-Agosto','2021-Septiembre','2021-Octubre','2021-Noviembre','2021-Diciembre'],\n",
        "                   'Paraguay_a':[-5.6,-3.0,0.7,4.7,6.3,6.3,6.0,5.7,0,0,0,0],\n",
        "                   'Paraguay_i':[-5.6,-0.5,8.0,19.3,12.4,6.6,3.0,4.2,0,0,0,0]})\n",
        "py.index = py.Fecha\n",
        "dic = {'Fecha':fechapy,'Paraguay_a':valorpyacum,'Paraguay_i':valorpyinteranual}\n",
        "py.loc[fechapy] = [fechapy,valorpyacum,valorpyinteranual]\n",
        "py"
      ],
      "execution_count": 93,
      "outputs": [
        {
          "output_type": "execute_result",
          "data": {
            "text/html": [
              "<div>\n",
              "<style scoped>\n",
              "    .dataframe tbody tr th:only-of-type {\n",
              "        vertical-align: middle;\n",
              "    }\n",
              "\n",
              "    .dataframe tbody tr th {\n",
              "        vertical-align: top;\n",
              "    }\n",
              "\n",
              "    .dataframe thead th {\n",
              "        text-align: right;\n",
              "    }\n",
              "</style>\n",
              "<table border=\"1\" class=\"dataframe\">\n",
              "  <thead>\n",
              "    <tr style=\"text-align: right;\">\n",
              "      <th></th>\n",
              "      <th>Fecha</th>\n",
              "      <th>Paraguay_a</th>\n",
              "      <th>Paraguay_i</th>\n",
              "    </tr>\n",
              "    <tr>\n",
              "      <th>Fecha</th>\n",
              "      <th></th>\n",
              "      <th></th>\n",
              "      <th></th>\n",
              "    </tr>\n",
              "  </thead>\n",
              "  <tbody>\n",
              "    <tr>\n",
              "      <th>2021-Enero</th>\n",
              "      <td>2021-Enero</td>\n",
              "      <td>-5.6</td>\n",
              "      <td>-5.6</td>\n",
              "    </tr>\n",
              "    <tr>\n",
              "      <th>2021-Febrero</th>\n",
              "      <td>2021-Febrero</td>\n",
              "      <td>-3.0</td>\n",
              "      <td>-0.5</td>\n",
              "    </tr>\n",
              "    <tr>\n",
              "      <th>2021-Marzo</th>\n",
              "      <td>2021-Marzo</td>\n",
              "      <td>0.7</td>\n",
              "      <td>8.0</td>\n",
              "    </tr>\n",
              "    <tr>\n",
              "      <th>2021-Abril</th>\n",
              "      <td>2021-Abril</td>\n",
              "      <td>4.7</td>\n",
              "      <td>19.3</td>\n",
              "    </tr>\n",
              "    <tr>\n",
              "      <th>2021-Mayo</th>\n",
              "      <td>2021-Mayo</td>\n",
              "      <td>6.3</td>\n",
              "      <td>12.4</td>\n",
              "    </tr>\n",
              "    <tr>\n",
              "      <th>2021-Junio</th>\n",
              "      <td>2021-Junio</td>\n",
              "      <td>6.3</td>\n",
              "      <td>6.6</td>\n",
              "    </tr>\n",
              "    <tr>\n",
              "      <th>2021-Julio</th>\n",
              "      <td>2021-Julio</td>\n",
              "      <td>6.0</td>\n",
              "      <td>3.0</td>\n",
              "    </tr>\n",
              "    <tr>\n",
              "      <th>2021-Agosto</th>\n",
              "      <td>2021-Agosto</td>\n",
              "      <td>5.7</td>\n",
              "      <td>4.2</td>\n",
              "    </tr>\n",
              "    <tr>\n",
              "      <th>2021-Septiembre</th>\n",
              "      <td>2021-Septiembre</td>\n",
              "      <td>0.0</td>\n",
              "      <td>0.0</td>\n",
              "    </tr>\n",
              "    <tr>\n",
              "      <th>2021-Octubre</th>\n",
              "      <td>2021-Octubre</td>\n",
              "      <td>0.0</td>\n",
              "      <td>0.0</td>\n",
              "    </tr>\n",
              "    <tr>\n",
              "      <th>2021-Noviembre</th>\n",
              "      <td>2021-Noviembre</td>\n",
              "      <td>0.0</td>\n",
              "      <td>0.0</td>\n",
              "    </tr>\n",
              "    <tr>\n",
              "      <th>2021-Diciembre</th>\n",
              "      <td>2021-Diciembre</td>\n",
              "      <td>0.0</td>\n",
              "      <td>0.0</td>\n",
              "    </tr>\n",
              "  </tbody>\n",
              "</table>\n",
              "</div>"
            ],
            "text/plain": [
              "                           Fecha  Paraguay_a  Paraguay_i\n",
              "Fecha                                                   \n",
              "2021-Enero            2021-Enero        -5.6        -5.6\n",
              "2021-Febrero        2021-Febrero        -3.0        -0.5\n",
              "2021-Marzo            2021-Marzo         0.7         8.0\n",
              "2021-Abril            2021-Abril         4.7        19.3\n",
              "2021-Mayo              2021-Mayo         6.3        12.4\n",
              "2021-Junio            2021-Junio         6.3         6.6\n",
              "2021-Julio            2021-Julio         6.0         3.0\n",
              "2021-Agosto          2021-Agosto         5.7         4.2\n",
              "2021-Septiembre  2021-Septiembre         0.0         0.0\n",
              "2021-Octubre        2021-Octubre         0.0         0.0\n",
              "2021-Noviembre    2021-Noviembre         0.0         0.0\n",
              "2021-Diciembre    2021-Diciembre         0.0         0.0"
            ]
          },
          "metadata": {},
          "execution_count": 93
        }
      ]
    },
    {
      "cell_type": "code",
      "metadata": {
        "id": "NQebYfFSdDiq"
      },
      "source": [
        "imaela['a'] = [imaela.index.str.split('-')[i][0] for i in range(len(imaela.index))]\n",
        "imaela = imaela.apply(pd.to_numeric)"
      ],
      "execution_count": 94,
      "outputs": []
    },
    {
      "cell_type": "code",
      "metadata": {
        "id": "F0hCydhHQT9C",
        "colab": {
          "base_uri": "https://localhost:8080/",
          "height": 0
        },
        "outputId": "0964f5d8-8f73-41ce-a898-6eaa9b04734a"
      },
      "source": [
        "pd.merge(imaela,py.Paraguay_i,how='left',left_index=True,right_index=True)"
      ],
      "execution_count": 95,
      "outputs": [
        {
          "output_type": "execute_result",
          "data": {
            "text/html": [
              "<div>\n",
              "<style scoped>\n",
              "    .dataframe tbody tr th:only-of-type {\n",
              "        vertical-align: middle;\n",
              "    }\n",
              "\n",
              "    .dataframe tbody tr th {\n",
              "        vertical-align: top;\n",
              "    }\n",
              "\n",
              "    .dataframe thead th {\n",
              "        text-align: right;\n",
              "    }\n",
              "</style>\n",
              "<table border=\"1\" class=\"dataframe\">\n",
              "  <thead>\n",
              "    <tr style=\"text-align: right;\">\n",
              "      <th></th>\n",
              "      <th>Costa Rica</th>\n",
              "      <th>El Salvador</th>\n",
              "      <th>Guatemala</th>\n",
              "      <th>Honduras</th>\n",
              "      <th>Nicaragua</th>\n",
              "      <th>República Dominicana</th>\n",
              "      <th>Panamá</th>\n",
              "      <th>Argentina</th>\n",
              "      <th>Brasil</th>\n",
              "      <th>México</th>\n",
              "      <th>Perú_x</th>\n",
              "      <th>Chile_x</th>\n",
              "      <th>Ecuador_x</th>\n",
              "      <th>Colombia_x</th>\n",
              "      <th>a</th>\n",
              "      <th>Perú_y</th>\n",
              "      <th>Perú</th>\n",
              "      <th>Chile_y</th>\n",
              "      <th>Ecuador_y</th>\n",
              "      <th>Colombia_y</th>\n",
              "      <th>Paraguay_i</th>\n",
              "    </tr>\n",
              "  </thead>\n",
              "  <tbody>\n",
              "    <tr>\n",
              "      <th>2020-Enero</th>\n",
              "      <td>104.14</td>\n",
              "      <td>110.80</td>\n",
              "      <td>127.40</td>\n",
              "      <td>243.14</td>\n",
              "      <td>152.88</td>\n",
              "      <td>179.04</td>\n",
              "      <td>345.73</td>\n",
              "      <td>132.28</td>\n",
              "      <td>133.72</td>\n",
              "      <td>111.90</td>\n",
              "      <td>162.69</td>\n",
              "      <td>109.98</td>\n",
              "      <td>166.08</td>\n",
              "      <td>105.38</td>\n",
              "      <td>2020</td>\n",
              "      <td>162.69</td>\n",
              "      <td>162.69</td>\n",
              "      <td>109.983906</td>\n",
              "      <td>166.080807</td>\n",
              "      <td>105.38</td>\n",
              "      <td>NaN</td>\n",
              "    </tr>\n",
              "    <tr>\n",
              "      <th>2020-Febrero</th>\n",
              "      <td>105.17</td>\n",
              "      <td>110.06</td>\n",
              "      <td>125.54</td>\n",
              "      <td>242.59</td>\n",
              "      <td>144.12</td>\n",
              "      <td>183.24</td>\n",
              "      <td>338.73</td>\n",
              "      <td>129.75</td>\n",
              "      <td>134.77</td>\n",
              "      <td>108.32</td>\n",
              "      <td>161.66</td>\n",
              "      <td>106.32</td>\n",
              "      <td>151.88</td>\n",
              "      <td>105.60</td>\n",
              "      <td>2020</td>\n",
              "      <td>161.66</td>\n",
              "      <td>161.66</td>\n",
              "      <td>106.315462</td>\n",
              "      <td>151.878013</td>\n",
              "      <td>105.60</td>\n",
              "      <td>NaN</td>\n",
              "    </tr>\n",
              "    <tr>\n",
              "      <th>2020-Marzo</th>\n",
              "      <td>103.55</td>\n",
              "      <td>105.56</td>\n",
              "      <td>121.36</td>\n",
              "      <td>218.14</td>\n",
              "      <td>140.05</td>\n",
              "      <td>165.67</td>\n",
              "      <td>364.78</td>\n",
              "      <td>129.10</td>\n",
              "      <td>136.84</td>\n",
              "      <td>109.83</td>\n",
              "      <td>138.05</td>\n",
              "      <td>113.43</td>\n",
              "      <td>142.95</td>\n",
              "      <td>96.71</td>\n",
              "      <td>2020</td>\n",
              "      <td>138.05</td>\n",
              "      <td>138.05</td>\n",
              "      <td>113.426636</td>\n",
              "      <td>142.950634</td>\n",
              "      <td>96.71</td>\n",
              "      <td>NaN</td>\n",
              "    </tr>\n",
              "    <tr>\n",
              "      <th>2020-Abril</th>\n",
              "      <td>90.88</td>\n",
              "      <td>88.28</td>\n",
              "      <td>112.77</td>\n",
              "      <td>186.13</td>\n",
              "      <td>124.67</td>\n",
              "      <td>125.35</td>\n",
              "      <td>247.19</td>\n",
              "      <td>111.90</td>\n",
              "      <td>119.25</td>\n",
              "      <td>87.89</td>\n",
              "      <td>103.81</td>\n",
              "      <td>98.48</td>\n",
              "      <td>101.93</td>\n",
              "      <td>81.90</td>\n",
              "      <td>2020</td>\n",
              "      <td>103.81</td>\n",
              "      <td>103.81</td>\n",
              "      <td>98.478826</td>\n",
              "      <td>101.926132</td>\n",
              "      <td>81.90</td>\n",
              "      <td>NaN</td>\n",
              "    </tr>\n",
              "    <tr>\n",
              "      <th>2020-Mayo</th>\n",
              "      <td>93.10</td>\n",
              "      <td>89.88</td>\n",
              "      <td>111.25</td>\n",
              "      <td>188.45</td>\n",
              "      <td>133.85</td>\n",
              "      <td>158.43</td>\n",
              "      <td>228.30</td>\n",
              "      <td>131.29</td>\n",
              "      <td>119.91</td>\n",
              "      <td>89.31</td>\n",
              "      <td>119.30</td>\n",
              "      <td>97.79</td>\n",
              "      <td>117.01</td>\n",
              "      <td>91.93</td>\n",
              "      <td>2020</td>\n",
              "      <td>119.30</td>\n",
              "      <td>119.30</td>\n",
              "      <td>97.793032</td>\n",
              "      <td>117.005283</td>\n",
              "      <td>91.93</td>\n",
              "      <td>NaN</td>\n",
              "    </tr>\n",
              "    <tr>\n",
              "      <th>2020-Junio</th>\n",
              "      <td>97.04</td>\n",
              "      <td>96.97</td>\n",
              "      <td>111.06</td>\n",
              "      <td>208.19</td>\n",
              "      <td>128.81</td>\n",
              "      <td>160.89</td>\n",
              "      <td>243.01</td>\n",
              "      <td>133.30</td>\n",
              "      <td>126.29</td>\n",
              "      <td>97.82</td>\n",
              "      <td>140.35</td>\n",
              "      <td>96.12</td>\n",
              "      <td>132.60</td>\n",
              "      <td>96.15</td>\n",
              "      <td>2020</td>\n",
              "      <td>140.35</td>\n",
              "      <td>140.35</td>\n",
              "      <td>96.121518</td>\n",
              "      <td>132.598352</td>\n",
              "      <td>96.15</td>\n",
              "      <td>NaN</td>\n",
              "    </tr>\n",
              "    <tr>\n",
              "      <th>2020-Julio</th>\n",
              "      <td>92.92</td>\n",
              "      <td>96.05</td>\n",
              "      <td>117.42</td>\n",
              "      <td>208.83</td>\n",
              "      <td>147.58</td>\n",
              "      <td>162.35</td>\n",
              "      <td>241.95</td>\n",
              "      <td>128.19</td>\n",
              "      <td>135.84</td>\n",
              "      <td>101.96</td>\n",
              "      <td>154.69</td>\n",
              "      <td>96.10</td>\n",
              "      <td>141.26</td>\n",
              "      <td>98.56</td>\n",
              "      <td>2020</td>\n",
              "      <td>154.69</td>\n",
              "      <td>154.69</td>\n",
              "      <td>96.100070</td>\n",
              "      <td>141.260964</td>\n",
              "      <td>98.56</td>\n",
              "      <td>NaN</td>\n",
              "    </tr>\n",
              "    <tr>\n",
              "      <th>2020-Agosto</th>\n",
              "      <td>93.36</td>\n",
              "      <td>102.57</td>\n",
              "      <td>120.25</td>\n",
              "      <td>225.70</td>\n",
              "      <td>138.50</td>\n",
              "      <td>169.07</td>\n",
              "      <td>251.35</td>\n",
              "      <td>125.17</td>\n",
              "      <td>135.51</td>\n",
              "      <td>102.65</td>\n",
              "      <td>157.76</td>\n",
              "      <td>101.07</td>\n",
              "      <td>143.84</td>\n",
              "      <td>101.56</td>\n",
              "      <td>2020</td>\n",
              "      <td>157.76</td>\n",
              "      <td>157.76</td>\n",
              "      <td>101.066025</td>\n",
              "      <td>143.836641</td>\n",
              "      <td>101.56</td>\n",
              "      <td>NaN</td>\n",
              "    </tr>\n",
              "    <tr>\n",
              "      <th>2020-Septiembre</th>\n",
              "      <td>98.15</td>\n",
              "      <td>106.44</td>\n",
              "      <td>121.45</td>\n",
              "      <td>230.41</td>\n",
              "      <td>139.98</td>\n",
              "      <td>163.68</td>\n",
              "      <td>268.97</td>\n",
              "      <td>126.60</td>\n",
              "      <td>137.12</td>\n",
              "      <td>102.92</td>\n",
              "      <td>162.76</td>\n",
              "      <td>103.17</td>\n",
              "      <td>152.05</td>\n",
              "      <td>103.87</td>\n",
              "      <td>2020</td>\n",
              "      <td>162.76</td>\n",
              "      <td>162.76</td>\n",
              "      <td>103.167223</td>\n",
              "      <td>152.052023</td>\n",
              "      <td>103.87</td>\n",
              "      <td>NaN</td>\n",
              "    </tr>\n",
              "    <tr>\n",
              "      <th>2020-Octubre</th>\n",
              "      <td>102.10</td>\n",
              "      <td>106.64</td>\n",
              "      <td>125.72</td>\n",
              "      <td>249.67</td>\n",
              "      <td>148.48</td>\n",
              "      <td>175.09</td>\n",
              "      <td>312.12</td>\n",
              "      <td>131.73</td>\n",
              "      <td>139.74</td>\n",
              "      <td>109.17</td>\n",
              "      <td>171.17</td>\n",
              "      <td>108.48</td>\n",
              "      <td>156.35</td>\n",
              "      <td>111.30</td>\n",
              "      <td>2020</td>\n",
              "      <td>171.17</td>\n",
              "      <td>171.17</td>\n",
              "      <td>108.477465</td>\n",
              "      <td>156.348719</td>\n",
              "      <td>111.30</td>\n",
              "      <td>NaN</td>\n",
              "    </tr>\n",
              "    <tr>\n",
              "      <th>2020-Noviembre</th>\n",
              "      <td>105.13</td>\n",
              "      <td>111.85</td>\n",
              "      <td>128.86</td>\n",
              "      <td>219.03</td>\n",
              "      <td>148.75</td>\n",
              "      <td>181.13</td>\n",
              "      <td>300.21</td>\n",
              "      <td>132.97</td>\n",
              "      <td>138.11</td>\n",
              "      <td>111.16</td>\n",
              "      <td>171.03</td>\n",
              "      <td>114.60</td>\n",
              "      <td>152.31</td>\n",
              "      <td>114.55</td>\n",
              "      <td>2020</td>\n",
              "      <td>171.03</td>\n",
              "      <td>171.03</td>\n",
              "      <td>114.596048</td>\n",
              "      <td>152.310265</td>\n",
              "      <td>114.55</td>\n",
              "      <td>NaN</td>\n",
              "    </tr>\n",
              "    <tr>\n",
              "      <th>2020-Diciembre</th>\n",
              "      <td>110.96</td>\n",
              "      <td>122.29</td>\n",
              "      <td>136.24</td>\n",
              "      <td>257.90</td>\n",
              "      <td>167.28</td>\n",
              "      <td>192.02</td>\n",
              "      <td>316.10</td>\n",
              "      <td>132.42</td>\n",
              "      <td>139.41</td>\n",
              "      <td>110.06</td>\n",
              "      <td>191.16</td>\n",
              "      <td>122.86</td>\n",
              "      <td>171.89</td>\n",
              "      <td>116.94</td>\n",
              "      <td>2020</td>\n",
              "      <td>191.16</td>\n",
              "      <td>191.16</td>\n",
              "      <td>122.862045</td>\n",
              "      <td>171.891542</td>\n",
              "      <td>116.94</td>\n",
              "      <td>NaN</td>\n",
              "    </tr>\n",
              "    <tr>\n",
              "      <th>2021-Enero</th>\n",
              "      <td>97.39</td>\n",
              "      <td>109.01</td>\n",
              "      <td>129.22</td>\n",
              "      <td>228.83</td>\n",
              "      <td>154.77</td>\n",
              "      <td>175.81</td>\n",
              "      <td>295.16</td>\n",
              "      <td>129.49</td>\n",
              "      <td>132.02</td>\n",
              "      <td>105.70</td>\n",
              "      <td>161.40</td>\n",
              "      <td>106.74</td>\n",
              "      <td>151.92</td>\n",
              "      <td>100.71</td>\n",
              "      <td>2021</td>\n",
              "      <td>161.40</td>\n",
              "      <td>161.40</td>\n",
              "      <td>106.742735</td>\n",
              "      <td>151.916233</td>\n",
              "      <td>100.71</td>\n",
              "      <td>-5.6</td>\n",
              "    </tr>\n",
              "    <tr>\n",
              "      <th>2021-Febrero</th>\n",
              "      <td>99.78</td>\n",
              "      <td>108.76</td>\n",
              "      <td>128.60</td>\n",
              "      <td>235.08</td>\n",
              "      <td>147.43</td>\n",
              "      <td>185.26</td>\n",
              "      <td>305.77</td>\n",
              "      <td>126.69</td>\n",
              "      <td>134.78</td>\n",
              "      <td>102.80</td>\n",
              "      <td>156.07</td>\n",
              "      <td>104.17</td>\n",
              "      <td>144.54</td>\n",
              "      <td>101.64</td>\n",
              "      <td>2021</td>\n",
              "      <td>156.07</td>\n",
              "      <td>156.07</td>\n",
              "      <td>104.167210</td>\n",
              "      <td>144.540369</td>\n",
              "      <td>101.64</td>\n",
              "      <td>-0.5</td>\n",
              "    </tr>\n",
              "    <tr>\n",
              "      <th>2021-Marzo</th>\n",
              "      <td>107.30</td>\n",
              "      <td>114.72</td>\n",
              "      <td>133.50</td>\n",
              "      <td>247.60</td>\n",
              "      <td>151.35</td>\n",
              "      <td>183.28</td>\n",
              "      <td>342.80</td>\n",
              "      <td>146.29</td>\n",
              "      <td>144.03</td>\n",
              "      <td>110.75</td>\n",
              "      <td>165.66</td>\n",
              "      <td>120.48</td>\n",
              "      <td>162.38</td>\n",
              "      <td>108.67</td>\n",
              "      <td>2021</td>\n",
              "      <td>165.66</td>\n",
              "      <td>165.66</td>\n",
              "      <td>120.479366</td>\n",
              "      <td>162.380565</td>\n",
              "      <td>108.67</td>\n",
              "      <td>8.0</td>\n",
              "    </tr>\n",
              "    <tr>\n",
              "      <th>2021-Abril</th>\n",
              "      <td>102.34</td>\n",
              "      <td>110.69</td>\n",
              "      <td>129.98</td>\n",
              "      <td>236.20</td>\n",
              "      <td>144.23</td>\n",
              "      <td>184.42</td>\n",
              "      <td>303.98</td>\n",
              "      <td>144.92</td>\n",
              "      <td>138.81</td>\n",
              "      <td>107.52</td>\n",
              "      <td>165.50</td>\n",
              "      <td>112.84</td>\n",
              "      <td>159.06</td>\n",
              "      <td>103.19</td>\n",
              "      <td>2021</td>\n",
              "      <td>165.50</td>\n",
              "      <td>165.50</td>\n",
              "      <td>112.841539</td>\n",
              "      <td>159.056312</td>\n",
              "      <td>103.19</td>\n",
              "      <td>19.3</td>\n",
              "    </tr>\n",
              "    <tr>\n",
              "      <th>2021-Mayo</th>\n",
              "      <td>105.35</td>\n",
              "      <td>114.65</td>\n",
              "      <td>129.30</td>\n",
              "      <td>244.25</td>\n",
              "      <td>156.14</td>\n",
              "      <td>192.08</td>\n",
              "      <td>329.24</td>\n",
              "      <td>150.21</td>\n",
              "      <td>136.76</td>\n",
              "      <td>111.75</td>\n",
              "      <td>176.87</td>\n",
              "      <td>116.55</td>\n",
              "      <td>150.91</td>\n",
              "      <td>103.04</td>\n",
              "      <td>2021</td>\n",
              "      <td>176.87</td>\n",
              "      <td>176.87</td>\n",
              "      <td>116.552860</td>\n",
              "      <td>150.911940</td>\n",
              "      <td>103.04</td>\n",
              "      <td>12.4</td>\n",
              "    </tr>\n",
              "    <tr>\n",
              "      <th>2021-Junio</th>\n",
              "      <td>105.73</td>\n",
              "      <td>114.41</td>\n",
              "      <td>126.27</td>\n",
              "      <td>249.84</td>\n",
              "      <td>151.74</td>\n",
              "      <td>181.26</td>\n",
              "      <td>323.05</td>\n",
              "      <td>148.87</td>\n",
              "      <td>137.39</td>\n",
              "      <td>110.79</td>\n",
              "      <td>173.26</td>\n",
              "      <td>115.93</td>\n",
              "      <td>153.75</td>\n",
              "      <td>110.06</td>\n",
              "      <td>2021</td>\n",
              "      <td>173.26</td>\n",
              "      <td>173.26</td>\n",
              "      <td>115.929434</td>\n",
              "      <td>153.751865</td>\n",
              "      <td>110.06</td>\n",
              "      <td>6.6</td>\n",
              "    </tr>\n",
              "    <tr>\n",
              "      <th>2021-Julio</th>\n",
              "      <td>108.06</td>\n",
              "      <td>109.65</td>\n",
              "      <td>130.66</td>\n",
              "      <td>241.40</td>\n",
              "      <td>160.30</td>\n",
              "      <td>181.91</td>\n",
              "      <td>310.85</td>\n",
              "      <td>143.19</td>\n",
              "      <td>143.23</td>\n",
              "      <td>109.19</td>\n",
              "      <td>174.70</td>\n",
              "      <td>113.47</td>\n",
              "      <td>168.48</td>\n",
              "      <td>112.79</td>\n",
              "      <td>2021</td>\n",
              "      <td>174.70</td>\n",
              "      <td>174.70</td>\n",
              "      <td>113.470734</td>\n",
              "      <td>168.483106</td>\n",
              "      <td>112.79</td>\n",
              "      <td>3.0</td>\n",
              "    </tr>\n",
              "    <tr>\n",
              "      <th>2021-Agosto</th>\n",
              "      <td>105.63</td>\n",
              "      <td>NaN</td>\n",
              "      <td>129.34</td>\n",
              "      <td>NaN</td>\n",
              "      <td>151.16</td>\n",
              "      <td>188.90</td>\n",
              "      <td>NaN</td>\n",
              "      <td>NaN</td>\n",
              "      <td>141.93</td>\n",
              "      <td>NaN</td>\n",
              "      <td>NaN</td>\n",
              "      <td>120.34</td>\n",
              "      <td>168.51</td>\n",
              "      <td>114.93</td>\n",
              "      <td>2021</td>\n",
              "      <td>176.43</td>\n",
              "      <td>176.43</td>\n",
              "      <td>120.345000</td>\n",
              "      <td>168.506910</td>\n",
              "      <td>114.93</td>\n",
              "      <td>NaN</td>\n",
              "    </tr>\n",
              "  </tbody>\n",
              "</table>\n",
              "</div>"
            ],
            "text/plain": [
              "                 Costa Rica  El Salvador  ...  Colombia_y  Paraguay_i\n",
              "2020-Enero           104.14       110.80  ...      105.38         NaN\n",
              "2020-Febrero         105.17       110.06  ...      105.60         NaN\n",
              "2020-Marzo           103.55       105.56  ...       96.71         NaN\n",
              "2020-Abril            90.88        88.28  ...       81.90         NaN\n",
              "2020-Mayo             93.10        89.88  ...       91.93         NaN\n",
              "2020-Junio            97.04        96.97  ...       96.15         NaN\n",
              "2020-Julio            92.92        96.05  ...       98.56         NaN\n",
              "2020-Agosto           93.36       102.57  ...      101.56         NaN\n",
              "2020-Septiembre       98.15       106.44  ...      103.87         NaN\n",
              "2020-Octubre         102.10       106.64  ...      111.30         NaN\n",
              "2020-Noviembre       105.13       111.85  ...      114.55         NaN\n",
              "2020-Diciembre       110.96       122.29  ...      116.94         NaN\n",
              "2021-Enero            97.39       109.01  ...      100.71        -5.6\n",
              "2021-Febrero          99.78       108.76  ...      101.64        -0.5\n",
              "2021-Marzo           107.30       114.72  ...      108.67         8.0\n",
              "2021-Abril           102.34       110.69  ...      103.19        19.3\n",
              "2021-Mayo            105.35       114.65  ...      103.04        12.4\n",
              "2021-Junio           105.73       114.41  ...      110.06         6.6\n",
              "2021-Julio           108.06       109.65  ...      112.79         3.0\n",
              "2021-Agosto          105.63          NaN  ...      114.93         NaN\n",
              "\n",
              "[20 rows x 21 columns]"
            ]
          },
          "metadata": {},
          "execution_count": 95
        }
      ]
    },
    {
      "cell_type": "code",
      "metadata": {
        "id": "2oc-F4Au1Q0L"
      },
      "source": [
        "# Crecimiento interanual\n",
        "imaela1 = imaela.pct_change(12,fill_method=None)*100\n",
        "imaela1 = imaela1.merge(py['Paraguay_i'],how='left',left_index=True,right_index=True).reindex(imaela.index) #agregar PARAGUAY\n",
        "imaela1.Paraguay_i.loc[fechapy] = valorpyinteranual\n",
        "imaela1.dropna(how='all',inplace=True) # NAs drop\n",
        "imaela1.drop('a',axis=1,inplace=True)"
      ],
      "execution_count": 96,
      "outputs": []
    },
    {
      "cell_type": "code",
      "metadata": {
        "id": "LwGtvH2Ve9nI"
      },
      "source": [
        "# Crecimiento acumulado interanual\n",
        "imaela2 = imaela.groupby('a').cumsum().pct_change(12,fill_method=None)*100\n",
        "imaela2 = imaela2.merge(py['Paraguay_a'],how='left',left_index=True,right_index=True).reindex(imaela.index) #agregar PARAGUAY\n",
        "imaela2.dropna(how='all',inplace=True) # NAs drop"
      ],
      "execution_count": 97,
      "outputs": []
    },
    {
      "cell_type": "code",
      "metadata": {
        "id": "WT1VOTCo_u0Z"
      },
      "source": [
        "#!pip install selenium\n",
        "#!apt-get update # to update ubuntu to correctly run apt install\n",
        "#!apt install chromium-chromedriver\n",
        "#!cp /usr/lib/chromium-browser/chromedriver /usr/bin\n",
        "#import sys\n",
        "#sys.path.insert(0,'/usr/lib/chromium-browser/chromedriver')\n",
        "#from selenium import webdriver\n",
        "#chrome_options = webdriver.ChromeOptions()\n",
        "#chrome_options.add_argument('--headless')\n",
        "#chrome_options.add_argument('--no-sandbox')\n",
        "#chrome_options.add_argument('--disable-dev-shm-usage')\n",
        "#wd = webdriver.Chrome('chromedriver',chrome_options=chrome_options)"
      ],
      "execution_count": 98,
      "outputs": []
    },
    {
      "cell_type": "markdown",
      "metadata": {
        "id": "851yN-m_mxAi"
      },
      "source": [
        "## imae\n"
      ]
    },
    {
      "cell_type": "code",
      "metadata": {
        "id": "tCeHYsHPRaAP",
        "colab": {
          "base_uri": "https://localhost:8080/",
          "height": 0
        },
        "outputId": "f9219b6a-3173-4283-9b77-4d5804c22801"
      },
      "source": [
        "imaela.drop('a',axis=1).tail(2)"
      ],
      "execution_count": 99,
      "outputs": [
        {
          "output_type": "execute_result",
          "data": {
            "text/html": [
              "<div>\n",
              "<style scoped>\n",
              "    .dataframe tbody tr th:only-of-type {\n",
              "        vertical-align: middle;\n",
              "    }\n",
              "\n",
              "    .dataframe tbody tr th {\n",
              "        vertical-align: top;\n",
              "    }\n",
              "\n",
              "    .dataframe thead th {\n",
              "        text-align: right;\n",
              "    }\n",
              "</style>\n",
              "<table border=\"1\" class=\"dataframe\">\n",
              "  <thead>\n",
              "    <tr style=\"text-align: right;\">\n",
              "      <th></th>\n",
              "      <th>Costa Rica</th>\n",
              "      <th>El Salvador</th>\n",
              "      <th>Guatemala</th>\n",
              "      <th>Honduras</th>\n",
              "      <th>Nicaragua</th>\n",
              "      <th>República Dominicana</th>\n",
              "      <th>Panamá</th>\n",
              "      <th>Argentina</th>\n",
              "      <th>Brasil</th>\n",
              "      <th>México</th>\n",
              "      <th>Perú_x</th>\n",
              "      <th>Chile_x</th>\n",
              "      <th>Ecuador_x</th>\n",
              "      <th>Colombia_x</th>\n",
              "      <th>Perú_y</th>\n",
              "      <th>Perú</th>\n",
              "      <th>Chile_y</th>\n",
              "      <th>Ecuador_y</th>\n",
              "      <th>Colombia_y</th>\n",
              "    </tr>\n",
              "  </thead>\n",
              "  <tbody>\n",
              "    <tr>\n",
              "      <th>2021-Julio</th>\n",
              "      <td>108.06</td>\n",
              "      <td>109.65</td>\n",
              "      <td>130.66</td>\n",
              "      <td>241.4</td>\n",
              "      <td>160.30</td>\n",
              "      <td>181.91</td>\n",
              "      <td>310.85</td>\n",
              "      <td>143.19</td>\n",
              "      <td>143.23</td>\n",
              "      <td>109.19</td>\n",
              "      <td>174.7</td>\n",
              "      <td>113.47</td>\n",
              "      <td>168.48</td>\n",
              "      <td>112.79</td>\n",
              "      <td>174.70</td>\n",
              "      <td>174.70</td>\n",
              "      <td>113.470734</td>\n",
              "      <td>168.483106</td>\n",
              "      <td>112.79</td>\n",
              "    </tr>\n",
              "    <tr>\n",
              "      <th>2021-Agosto</th>\n",
              "      <td>105.63</td>\n",
              "      <td>NaN</td>\n",
              "      <td>129.34</td>\n",
              "      <td>NaN</td>\n",
              "      <td>151.16</td>\n",
              "      <td>188.90</td>\n",
              "      <td>NaN</td>\n",
              "      <td>NaN</td>\n",
              "      <td>141.93</td>\n",
              "      <td>NaN</td>\n",
              "      <td>NaN</td>\n",
              "      <td>120.34</td>\n",
              "      <td>168.51</td>\n",
              "      <td>114.93</td>\n",
              "      <td>176.43</td>\n",
              "      <td>176.43</td>\n",
              "      <td>120.345000</td>\n",
              "      <td>168.506910</td>\n",
              "      <td>114.93</td>\n",
              "    </tr>\n",
              "  </tbody>\n",
              "</table>\n",
              "</div>"
            ],
            "text/plain": [
              "             Costa Rica  El Salvador  ...   Ecuador_y  Colombia_y\n",
              "2021-Julio       108.06       109.65  ...  168.483106      112.79\n",
              "2021-Agosto      105.63          NaN  ...  168.506910      114.93\n",
              "\n",
              "[2 rows x 19 columns]"
            ]
          },
          "metadata": {},
          "execution_count": 99
        }
      ]
    },
    {
      "cell_type": "code",
      "metadata": {
        "id": "aPbNJ1eyIKiv",
        "colab": {
          "base_uri": "https://localhost:8080/",
          "height": 0
        },
        "outputId": "858c969d-3ec5-4d35-f158-cec785913148"
      },
      "source": [
        "writer = pd.ExcelWriter('imae_latam.xlsx', engine='xlsxwriter')\n",
        "\n",
        "imaela1.to_excel(writer, sheet_name='Interanual')\n",
        "imaela2.to_excel(writer, sheet_name='Acumulado')\n",
        "writer.save()\n",
        "\n",
        "files.download(\"imae_latam.xlsx\")"
      ],
      "execution_count": 100,
      "outputs": [
        {
          "output_type": "display_data",
          "data": {
            "application/javascript": [
              "\n",
              "    async function download(id, filename, size) {\n",
              "      if (!google.colab.kernel.accessAllowed) {\n",
              "        return;\n",
              "      }\n",
              "      const div = document.createElement('div');\n",
              "      const label = document.createElement('label');\n",
              "      label.textContent = `Downloading \"${filename}\": `;\n",
              "      div.appendChild(label);\n",
              "      const progress = document.createElement('progress');\n",
              "      progress.max = size;\n",
              "      div.appendChild(progress);\n",
              "      document.body.appendChild(div);\n",
              "\n",
              "      const buffers = [];\n",
              "      let downloaded = 0;\n",
              "\n",
              "      const channel = await google.colab.kernel.comms.open(id);\n",
              "      // Send a message to notify the kernel that we're ready.\n",
              "      channel.send({})\n",
              "\n",
              "      for await (const message of channel.messages) {\n",
              "        // Send a message to notify the kernel that we're ready.\n",
              "        channel.send({})\n",
              "        if (message.buffers) {\n",
              "          for (const buffer of message.buffers) {\n",
              "            buffers.push(buffer);\n",
              "            downloaded += buffer.byteLength;\n",
              "            progress.value = downloaded;\n",
              "          }\n",
              "        }\n",
              "      }\n",
              "      const blob = new Blob(buffers, {type: 'application/binary'});\n",
              "      const a = document.createElement('a');\n",
              "      a.href = window.URL.createObjectURL(blob);\n",
              "      a.download = filename;\n",
              "      div.appendChild(a);\n",
              "      a.click();\n",
              "      div.remove();\n",
              "    }\n",
              "  "
            ],
            "text/plain": [
              "<IPython.core.display.Javascript object>"
            ]
          },
          "metadata": {}
        },
        {
          "output_type": "display_data",
          "data": {
            "application/javascript": [
              "download(\"download_bc7c64c7-6c6d-4cfe-88fb-822f89661031\", \"imae_latam.xlsx\", 9952)"
            ],
            "text/plain": [
              "<IPython.core.display.Javascript object>"
            ]
          },
          "metadata": {}
        }
      ]
    },
    {
      "cell_type": "markdown",
      "metadata": {
        "id": "CrE4AgCYHom-"
      },
      "source": [
        "writer = pd.ExcelWriter('farm_data.xlsx', engine='xlsxwriter')\n",
        "df.to_excel(writer, sheet_name='Sheet1')\n",
        "\n",
        "workbook = writer.book\n",
        "worksheet = writer.sheets['Sheet1']\n",
        "\n",
        "chart = workbook.add_chart({'type': 'column'})"
      ]
    },
    {
      "cell_type": "code",
      "metadata": {
        "id": "fRnNN0VxUxeA",
        "cellView": "form",
        "colab": {
          "base_uri": "https://localhost:8080/",
          "height": 0
        },
        "outputId": "1d8c497d-2631-49ae-c920-c0103898b45f"
      },
      "source": [
        "#@title Bar\n",
        "f, ax = plt.subplots(figsize=(20, 8))\n",
        "sns.barplot(data=imaela.drop('a',axis=1).iloc[-1:,:]);"
      ],
      "execution_count": 101,
      "outputs": [
        {
          "output_type": "display_data",
          "data": {
            "image/png": "[encoded data removed]",
            "text/plain": [
              "<Figure size 1440x576 with 1 Axes>"
            ]
          },
          "metadata": {
            "needs_background": "light"
          }
        }
      ]
    },
    {
      "cell_type": "code",
      "metadata": {
        "id": "0HYQImNIAxf6",
        "cellView": "form",
        "colab": {
          "base_uri": "https://localhost:8080/",
          "height": 0
        },
        "outputId": "64286ae9-95a9-4e9e-971a-e35ba2bc7797"
      },
      "source": [
        "#@title Interanual Mes Anterior\n",
        "f, ax = plt.subplots(figsize=(18, 8))\n",
        "df = pd.melt(imaela1.iloc[-2:-1,:]).sort_values('value',ascending=False) \n",
        "sns.barplot(data = df ,x='value',y='variable',\n",
        "                palette=['r' if y =='República Dominicana' else '#0343DF' for y in df.variable])\n",
        "for p in ax.patches:\n",
        "    width = p.get_width()    # get bar length\n",
        "    ax.text(width+0.2,       # set the text at 0.2 unit right of the bar\n",
        "            p.get_y() + p.get_height() / 2, # get Y coordinate + X coordinate / 2\n",
        "            '{:1.2f}'.format(width), # set variable to display, 2 decimals\n",
        "            ha = 'left',   # horizontal alignment\n",
        "            va = 'center', weight=\"bold\") # vertical alignment\n",
        "plt.title('IMAE LATAM \\n Crecimiento Interanual (%) {}'.format(imaela.index[-2]),weight='bold');"
      ],
      "execution_count": 102,
      "outputs": [
        {
          "output_type": "display_data",
          "data": {
            "image/png": "[encoded data removed]",
            "text/plain": [
              "<Figure size 1296x576 with 1 Axes>"
            ]
          },
          "metadata": {
            "needs_background": "light"
          }
        }
      ]
    },
    {
      "cell_type": "code",
      "metadata": {
        "id": "AXWRoqQueTtV",
        "cellView": "form",
        "colab": {
          "base_uri": "https://localhost:8080/",
          "height": 0
        },
        "outputId": "75ebb535-bef0-4a93-de79-04fddbd2c436"
      },
      "source": [
        "#@title Acumulado Interanual Mes Anterior\n",
        "f, ax = plt.subplots(figsize=(18, 8))\n",
        "df = pd.melt(imaela2.iloc[-2:-1,:]).sort_values('value',ascending=False) \n",
        "sns.barplot(data = df ,x='value',y='variable',\n",
        "                palette=['r' if y =='República Dominicana' else '#0343DF' for y in df.variable])\n",
        "for p in ax.patches:\n",
        "    width = p.get_width()    # get bar length\n",
        "    ax.text(width+0.2,       # set the text at 0.2 unit right of the bar\n",
        "            p.get_y() + p.get_height() / 2, # get Y coordinate + X coordinate / 2\n",
        "            '{:1.2f}'.format(width), # set variable to display, 2 decimals\n",
        "            ha = 'left',   # horizontal alignment\n",
        "            va = 'center', weight=\"bold\") # vertical alignment\n",
        "plt.title('IMAE LATAM \\n Crecimiento Acumulado Interanual (%) a {}'.format(imaela.index[-2]) ,weight='bold');"
      ],
      "execution_count": 103,
      "outputs": [
        {
          "output_type": "display_data",
          "data": {
            "image/png": "[encoded data removed]",
            "text/plain": [
              "<Figure size 1296x576 with 1 Axes>"
            ]
          },
          "metadata": {
            "needs_background": "light"
          }
        }
      ]
    },
    {
      "cell_type": "code",
      "metadata": {
        "id": "LOhjJvf2M908",
        "cellView": "form",
        "colab": {
          "base_uri": "https://localhost:8080/",
          "height": 0
        },
        "outputId": "b940dda0-331f-4483-f2c1-540045fe8c0c"
      },
      "source": [
        "#@title Interanual Ultimo Mes\n",
        "f, ax = plt.subplots(figsize=(18, 8))\n",
        "df = pd.melt(imaela1.iloc[-1:,:].dropna(axis=1)).sort_values('value',ascending=False) \n",
        "sns.barplot(data = df ,x='value',y='variable',\n",
        "                palette=['r' if y =='República Dominicana' else '#0343DF' for y in df.variable])\n",
        "for p in ax.patches:\n",
        "    width = p.get_width()    # get bar length\n",
        "    ax.text(width+0.2,       # set the text at 0.2 unit right of the bar\n",
        "            p.get_y() + p.get_height() / 2, # get Y coordinate + X coordinate / 2\n",
        "            '{:1.2f}'.format(width), # set variable to display, 2 decimals\n",
        "            ha = 'left',   # horizontal alignment\n",
        "            va = 'center', weight=\"bold\") # vertical alignment\n",
        "plt.title('IMAE LATAM \\n Crecimiento Interanual (%) {}'.format(imaela.index[-1]),weight='bold')\n",
        ";"
      ],
      "execution_count": 104,
      "outputs": [
        {
          "output_type": "execute_result",
          "data": {
            "application/vnd.google.colaboratory.intrinsic+json": {
              "type": "string"
            },
            "text/plain": [
              "''"
            ]
          },
          "metadata": {},
          "execution_count": 104
        },
        {
          "output_type": "display_data",
          "data": {
            "image/png": "[encoded data removed]",
            "text/plain": [
              "<Figure size 1296x576 with 1 Axes>"
            ]
          },
          "metadata": {
            "needs_background": "light"
          }
        }
      ]
    },
    {
      "cell_type": "code",
      "metadata": {
        "id": "fyL78uQDM2ib",
        "cellView": "form",
        "colab": {
          "base_uri": "https://localhost:8080/",
          "height": 0
        },
        "outputId": "36eef28c-f334-4e69-8a58-f5bf1bc9743c"
      },
      "source": [
        "#@title Acumulado Interanual Ultimo Mes\n",
        "f, ax = plt.subplots(figsize=(18, 8))\n",
        "df = pd.melt(imaela2.iloc[-1:,:].dropna(axis=1)).sort_values('value',ascending=False) \n",
        "sns.barplot(data = df ,x='value',y='variable',\n",
        "                palette=['r' if y =='República Dominicana' else '#0343DF' for y in df.variable])\n",
        "for p in ax.patches:\n",
        "    width = p.get_width()    # get bar length\n",
        "    ax.text(width+0.2,       # set the text at 0.2 unit right of the bar\n",
        "            p.get_y() + p.get_height() / 2, # get Y coordinate + X coordinate / 2\n",
        "            '{:1.2f}'.format(width), # set variable to display, 2 decimals\n",
        "            ha = 'left',   # horizontal alignment\n",
        "            va = 'center', weight=\"bold\") # vertical alignment\n",
        "plt.title('IMAE LATAM \\n Crecimiento Acumulado Interanual (%) a {}'.format(imaela.index[-1]) ,weight='bold');"
      ],
      "execution_count": 105,
      "outputs": [
        {
          "output_type": "display_data",
          "data": {
            "image/png": "[encoded data removed]",
            "text/plain": [
              "<Figure size 1296x576 with 1 Axes>"
            ]
          },
          "metadata": {
            "needs_background": "light"
          }
        }
      ]
    }
  ]
}