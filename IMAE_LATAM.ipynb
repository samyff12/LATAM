{
  "nbformat": 4,
  "nbformat_minor": 0,
  "metadata": {
    "colab": {
      "name": "IMAE LATAM.ipynb",
      "provenance": [],
      "collapsed_sections": [
        "pdxAyDPTJJzP",
        "mng9xQCphxaK",
        "USJ5m_3XS6ji",
        "YlZNkOc6pfVo",
        "MkoUi_tal0ST",
        "A2MSTFg45f_H",
        "rSOwOPisI0mw"
      ],
      "toc_visible": true,
      "authorship_tag": "ABX9TyOp1AlBEK0iYYJtNYU1Zjgs",
      "include_colab_link": true
    },
    "kernelspec": {
      "name": "python3",
      "display_name": "Python 3"
    },
    "language_info": {
      "name": "python"
    }
  },
  "cells": [
    {
      "cell_type": "markdown",
      "metadata": {
        "id": "view-in-github",
        "colab_type": "text"
      },
      "source": [
        "<a href=\"https://colab.research.google.com/github/samyff12/LATAM/blob/main/IMAE_LATAM.ipynb\" target=\"_parent\"><img src=\"https://colab.research.google.com/assets/colab-badge.svg\" alt=\"Open In Colab\"/></a>"
      ]
    },
    {
      "cell_type": "markdown",
      "metadata": {
        "id": "uwghX9WnmOhH"
      },
      "source": [
        "# **Actualizacion IMAE LATAM**"
      ]
    },
    {
      "cell_type": "markdown",
      "metadata": {
        "id": "zMFcgIBOnFpc"
      },
      "source": [
        "### Paquetes y meses"
      ]
    },
    {
      "cell_type": "code",
      "metadata": {
        "id": "yLpBS1jxRJUa"
      },
      "source": [
        "from bs4 import BeautifulSoup\n",
        "import pandas as pd    # ! pip install --upgrade xlrd  por si no se actualiza pandas\n",
        "import numpy as np\n",
        "import requests\n",
        "import urllib.request as urllib2\n",
        "import re\n",
        "import matplotlib.pyplot as plt\n",
        "import seaborn as sns\n",
        "import zipfile\n",
        "!pip install XlsxWriter\n",
        "from google.colab import files\n",
        "\n",
        "\n",
        "#!pip install kora -q\n",
        "#from kora.selenium import wd\n",
        "\n",
        "# Selenium\n",
        "!pip install selenium\n",
        "!apt-get update \n",
        "!apt install chromium-chromedriver\n",
        "# Argumentos de Selenium\n",
        "from selenium import webdriver\n",
        "from selenium.webdriver.common.keys import Keys\n",
        "from selenium.webdriver.common.by import By\n",
        "chrome_options = webdriver.ChromeOptions()\n",
        "chrome_options.add_argument('--headless')\n",
        "chrome_options.add_argument('--no-sandbox')\n",
        "chrome_options.add_argument('--disable-dev-shm-usage')\n",
        "wd = webdriver.Chrome('chromedriver',options=chrome_options)\n",
        "# En caso de contar con archivos en formato pdf: \n",
        "# !pip install pymupdf            \n",
        "# !pip install tabula-py\n",
        "# import tabula as tb\n",
        "# import fitz  # this is pymupdf"
      ],
      "execution_count": null,
      "outputs": []
    },
    {
      "cell_type": "code",
      "metadata": {
        "id": "7NNHXzvKYJ2D",
        "outputId": "75f3b8dd-4f70-447b-b941-d728372d421b",
        "colab": {
          "base_uri": "https://localhost:8080/",
          "height": 276
        }
      },
      "source": [
        "\n",
        "##html = requests.get('http://www.secmca.org/chart/?parent=Producci%C3%B3n&scid=2&cid=1&scsid=0&son=%C3%8Dndice%20Mensual%20de%20la%20Actividad%20Econ%C3%B3mica&url=11/14/3-13-50-17-4-52-161/39/265/19-258/444/' +\n",
        " #                   '20211-20212-20213-20214-20215-20216-20217-20218-20219-202110-202111-202112-20221-20222-20223-20224-20225-20226-20227-20228-20229-202210-202211-202212' +\n",
        " #                   '-&all_vars=2|IMAE,%20variaci%C3%B3n%20interanual')\n",
        "#soup = BeautifulSoup(html.text,'lxml')\n",
        "#table = soup.find_all('p', class_='text-right')\n",
        "#tablec = soup.find_all('th', colspan='1')\n",
        "\n",
        "#indicadores=[]\n",
        "#paises =[]\n",
        "#for i in range(len(table)):\n",
        " # ind = float(table[i].text)\n",
        "#  pais = tablec[i].text\n",
        "#  indicadores.append(ind)\n",
        " # paises.append(pais)\n",
        "\n",
        "#imae_latam =  pd.DataFrame(indicadores,index = paises,columns = ['IMAE'])\n",
        "#print(f'IMAE a {fecha}')\n",
        "#imae_latam"
      ],
      "execution_count": 9,
      "outputs": [
        {
          "output_type": "stream",
          "name": "stdout",
          "text": [
            "Requirement already satisfied: xlrd in /usr/local/lib/python3.7/dist-packages (1.1.0)\n",
            "Collecting xlrd\n",
            "  Downloading xlrd-2.0.1-py2.py3-none-any.whl (96 kB)\n",
            "\u001b[K     |████████████████████████████████| 96 kB 3.2 MB/s \n",
            "\u001b[?25hInstalling collected packages: xlrd\n",
            "  Attempting uninstall: xlrd\n",
            "    Found existing installation: xlrd 1.1.0\n",
            "    Uninstalling xlrd-1.1.0:\n",
            "      Successfully uninstalled xlrd-1.1.0\n",
            "Successfully installed xlrd-2.0.1\n"
          ]
        },
        {
          "output_type": "display_data",
          "data": {
            "application/vnd.colab-display-data+json": {
              "pip_warning": {
                "packages": [
                  "xlrd"
                ]
              }
            }
          },
          "metadata": {}
        }
      ]
    },
    {
      "cell_type": "code",
      "metadata": {
        "id": "Uz9LSti34_nA"
      },
      "source": [
        "meses = [0,[1,'Enero'],[2,'Febrero'],[3,'Marzo'],[4,'Abril'],[5,'Mayo'],[6,'Junio'],[7,'Julio'],[8,'Agosto'],\n",
        "         [9,'Septiembre'],[10,'Octubre'],[11,'Noviembre'],[12,'Diciembre']]\n",
        "mes3 = {'ene':'Enero','feb':'Febrero','mar':'Marzo','abr':'Abril','may':'Mayo','jun':'Junio','jul':'Julio',\n",
        "        'ago':'Agosto','sep':'Septiembre','oct':'Octubre','nov':'Noviembre','dic':'Diciembre'}\n",
        "meses_dict = {0:'none',1:'Enero',2:'Febrero',3:'Marzo',4:'Abril',5:'Mayo',6:'Junio',7:'Julio',8:'Agosto',\n",
        "         9:'Septiembre',10:'Octubre',11:'Noviembre',12:'Diciembre'}\n",
        "\n",
        "header= {'User-Agent': 'Mozilla/5.0 (X11; Linux x86_64) ' \n",
        "      'AppleWebKit/537.11 (KHTML, like Gecko) '\n",
        "      'Chrome/23.0.1271.64 Safari/537.11',\n",
        "      'Accept': 'text/html,application/xhtml+xml,application/xml;q=0.9,*/*;q=0.8',\n",
        "      'Accept-Charset': 'ISO-8859-1,utf-8;q=0.7,*;q=0.3',\n",
        "      'Accept-Encoding': 'none',\n",
        "      'Accept-Language': 'en-US,en;q=0.8',\n",
        "      'Connection': 'keep-alive'}\n",
        "\n",
        "### import calendar\n",
        "\n",
        "# d = dict((v,k) for k,v in enumerate(calendar.month_abbr))\n",
        "# d"
      ],
      "execution_count": 3,
      "outputs": []
    },
    {
      "cell_type": "markdown",
      "metadata": {
        "id": "982BPh5jk93l"
      },
      "source": [
        "## Para obtener las series de todo el año 2021-2022\n"
      ]
    },
    {
      "cell_type": "markdown",
      "metadata": {
        "id": "pdxAyDPTJJzP"
      },
      "source": [
        "### **SECMCA**"
      ]
    },
    {
      "cell_type": "markdown",
      "metadata": {
        "id": "zyl75FG7ZOym"
      },
      "source": [
        "#### Publicaciones disponibles las fechas: \n",
        "\n",
        "#####    **El Salvador**\n",
        "2. 28 Feb - Lunes\n",
        "3. 31 Mar\n",
        "4. 29 Abr\n",
        "5. 31 May\n",
        "\n",
        "#####    **Panama**\n",
        "- 21 Mar (se publica Dic y enero )\n",
        "- 19 Abr\n",
        "- 19 May\n",
        "- 20 Jun\n",
        "- 19 Jul\n",
        "- 18 ago\n",
        "\n",
        "\n",
        "#####    **Honduras**\n",
        "-. Preliminar 20 de cada mes, con 50 días de rezago y\n",
        "revisado 30 días después"
      ]
    },
    {
      "cell_type": "code",
      "source": [
        "html2 = requests.get('https://www.secmca.org/chart/?parent=Producci%C3%B3n&scid=2&cid=1&scsid=0&son=%C3%8Dndice%20Mensual%20de%20la%20Actividad%20Econ%C3%B3mica&url=11/14/3-13-50-17-4-52-161/39/265/19-258/81/20171-20172-20173-20174-20175-20176-20177-20178-20179-201710-201711-201712-20181-20182-20183-20184-20185-20186-20187-20188-20189-201810-201811-201812-20191-20192-20193-20194-20195-20196-20197-20198-20199-201910-201911-201912-' +\n",
        "'20201-20202-20203-20204-20205-20206-20207-20208-20209-202010-202011-202012-20211-20212-20213-20214-20215-20216-20217-20218-20219-202110-202111-202112-&all_vars=1|IMAE').text"
      ],
      "metadata": {
        "id": "VuY6T5tLmMwq"
      },
      "execution_count": 4,
      "outputs": []
    },
    {
      "cell_type": "code",
      "metadata": {
        "id": "DKeFlSnZ9utv"
      },
      "source": [
        "# INDICE VERSION\n",
        "html1 = requests.get('http://www.secmca.org/chart/?parent=Producci%C3%B3n&scid=2&cid=1&scsid=0&son=%C3%8Dndice%20Mensual%20de%20la%20Actividad%20Econ%C3%B3mica&url=11/14/3-13-50-17-4-52-161/39/265/19-258/81/' +\n",
        "  '20171-20172-20173-20174-20175-20176-20177-20178-20179-201710-201711-201712-20181-20182-20183-20184-20185-20186-20187-20188-20189-201810-201811-201812-20191-20192-20193-20194-20195-20196-20197-20198-20199-201910-201911-201912-' +\n",
        "  '20201-20202-20203-20204-20205-20206-20207-20208-20209-202010-202011-202012-20211-20212-20213-20214-20215-20216-20217-20218-20219-202110-202111-202112-20221-20222-20223-20224-20225-20226-20227-20228-20229-202210-202211-202212' +\n",
        "  '-&all_vars=1|IMAE').text\n",
        "soup1 = BeautifulSoup(html1,'lxml')\n",
        "\n",
        "tabpais = soup1.find_all('th', colspan='1')\n",
        "table = soup1.find_all('p', class_='text-left')\n"
      ],
      "execution_count": 5,
      "outputs": []
    },
    {
      "cell_type": "code",
      "source": [
        "fechas = []\n",
        "for i in range(len(table)):\n",
        "  x = re.sub(\" \",\"\",table[i].text)\n",
        "  fechas.append(x.replace(\"\\n\",\"\").replace('Setiembre','Septiembre'))\n",
        "\n",
        "paises = [tabpais[i].text for i in range(len(tabpais))]\n",
        "fechas[-1]"
      ],
      "metadata": {
        "id": "gpzN8UFQjDg-",
        "outputId": "d3c43b4f-18ea-4c8c-fb21-e364660c188b",
        "colab": {
          "base_uri": "https://localhost:8080/",
          "height": 0
        }
      },
      "execution_count": 6,
      "outputs": [
        {
          "output_type": "execute_result",
          "data": {
            "application/vnd.google.colaboratory.intrinsic+json": {
              "type": "string"
            },
            "text/plain": [
              "'2021-Noviembre'"
            ]
          },
          "metadata": {},
          "execution_count": 6
        }
      ]
    },
    {
      "cell_type": "code",
      "metadata": {
        "id": "jH_Esksz-nsh",
        "outputId": "6ed9e77b-32f9-42ca-cd59-c6c62a3ec1ed",
        "colab": {
          "base_uri": "https://localhost:8080/",
          "height": 0
        }
      },
      "source": [
        "#INDICE\n",
        "table1 = soup1.find_all('p', class_='text-right')\n",
        "matriz = np.array([])\n",
        "for i in table1:\n",
        "  matriz = np.array(np.append(matriz,i))\n",
        "matriz = np.where(matriz==\"--\", np.nan, matriz).astype(np.float)\n",
        "matriz = matriz.reshape(-1,7) # 7 paises\n",
        "imaeLA = pd.DataFrame(matriz,index=fechas,columns=paises)\n",
        "imaeLA.tail()"
      ],
      "execution_count": 7,
      "outputs": [
        {
          "output_type": "execute_result",
          "data": {
            "text/html": [
              "\n",
              "  <div id=\"df-e51c2dc1-6806-47af-bb73-f63dc894c7eb\">\n",
              "    <div class=\"colab-df-container\">\n",
              "      <div>\n",
              "<style scoped>\n",
              "    .dataframe tbody tr th:only-of-type {\n",
              "        vertical-align: middle;\n",
              "    }\n",
              "\n",
              "    .dataframe tbody tr th {\n",
              "        vertical-align: top;\n",
              "    }\n",
              "\n",
              "    .dataframe thead th {\n",
              "        text-align: right;\n",
              "    }\n",
              "</style>\n",
              "<table border=\"1\" class=\"dataframe\">\n",
              "  <thead>\n",
              "    <tr style=\"text-align: right;\">\n",
              "      <th></th>\n",
              "      <th>Costa Rica</th>\n",
              "      <th>El Salvador</th>\n",
              "      <th>Guatemala</th>\n",
              "      <th>Honduras</th>\n",
              "      <th>Nicaragua</th>\n",
              "      <th>República Dominicana</th>\n",
              "      <th>Panamá</th>\n",
              "    </tr>\n",
              "  </thead>\n",
              "  <tbody>\n",
              "    <tr>\n",
              "      <th>2021-Julio</th>\n",
              "      <td>108.35</td>\n",
              "      <td>110.66</td>\n",
              "      <td>130.78</td>\n",
              "      <td>242.73</td>\n",
              "      <td>163.09</td>\n",
              "      <td>181.94</td>\n",
              "      <td>349.96</td>\n",
              "    </tr>\n",
              "    <tr>\n",
              "      <th>2021-Agosto</th>\n",
              "      <td>105.98</td>\n",
              "      <td>113.32</td>\n",
              "      <td>130.02</td>\n",
              "      <td>257.01</td>\n",
              "      <td>154.33</td>\n",
              "      <td>188.79</td>\n",
              "      <td>322.86</td>\n",
              "    </tr>\n",
              "    <tr>\n",
              "      <th>2021-Septiembre</th>\n",
              "      <td>109.30</td>\n",
              "      <td>114.29</td>\n",
              "      <td>129.18</td>\n",
              "      <td>251.33</td>\n",
              "      <td>150.08</td>\n",
              "      <td>181.02</td>\n",
              "      <td>317.43</td>\n",
              "    </tr>\n",
              "    <tr>\n",
              "      <th>2021-Octubre</th>\n",
              "      <td>111.45</td>\n",
              "      <td>110.98</td>\n",
              "      <td>131.36</td>\n",
              "      <td>267.44</td>\n",
              "      <td>161.08</td>\n",
              "      <td>192.15</td>\n",
              "      <td>366.56</td>\n",
              "    </tr>\n",
              "    <tr>\n",
              "      <th>2021-Noviembre</th>\n",
              "      <td>116.41</td>\n",
              "      <td>117.78</td>\n",
              "      <td>135.29</td>\n",
              "      <td>265.80</td>\n",
              "      <td>168.49</td>\n",
              "      <td>204.89</td>\n",
              "      <td>370.39</td>\n",
              "    </tr>\n",
              "  </tbody>\n",
              "</table>\n",
              "</div>\n",
              "      <button class=\"colab-df-convert\" onclick=\"convertToInteractive('df-e51c2dc1-6806-47af-bb73-f63dc894c7eb')\"\n",
              "              title=\"Convert this dataframe to an interactive table.\"\n",
              "              style=\"display:none;\">\n",
              "        \n",
              "  <svg xmlns=\"http://www.w3.org/2000/svg\" height=\"24px\"viewBox=\"0 0 24 24\"\n",
              "       width=\"24px\">\n",
              "    <path d=\"M0 0h24v24H0V0z\" fill=\"none\"/>\n",
              "    <path d=\"M18.56 5.44l.94 2.06.94-2.06 2.06-.94-2.06-.94-.94-2.06-.94 2.06-2.06.94zm-11 1L8.5 8.5l.94-2.06 2.06-.94-2.06-.94L8.5 2.5l-.94 2.06-2.06.94zm10 10l.94 2.06.94-2.06 2.06-.94-2.06-.94-.94-2.06-.94 2.06-2.06.94z\"/><path d=\"M17.41 7.96l-1.37-1.37c-.4-.4-.92-.59-1.43-.59-.52 0-1.04.2-1.43.59L10.3 9.45l-7.72 7.72c-.78.78-.78 2.05 0 2.83L4 21.41c.39.39.9.59 1.41.59.51 0 1.02-.2 1.41-.59l7.78-7.78 2.81-2.81c.8-.78.8-2.07 0-2.86zM5.41 20L4 18.59l7.72-7.72 1.47 1.35L5.41 20z\"/>\n",
              "  </svg>\n",
              "      </button>\n",
              "      \n",
              "  <style>\n",
              "    .colab-df-container {\n",
              "      display:flex;\n",
              "      flex-wrap:wrap;\n",
              "      gap: 12px;\n",
              "    }\n",
              "\n",
              "    .colab-df-convert {\n",
              "      background-color: #E8F0FE;\n",
              "      border: none;\n",
              "      border-radius: 50%;\n",
              "      cursor: pointer;\n",
              "      display: none;\n",
              "      fill: #1967D2;\n",
              "      height: 32px;\n",
              "      padding: 0 0 0 0;\n",
              "      width: 32px;\n",
              "    }\n",
              "\n",
              "    .colab-df-convert:hover {\n",
              "      background-color: #E2EBFA;\n",
              "      box-shadow: 0px 1px 2px rgba(60, 64, 67, 0.3), 0px 1px 3px 1px rgba(60, 64, 67, 0.15);\n",
              "      fill: #174EA6;\n",
              "    }\n",
              "\n",
              "    [theme=dark] .colab-df-convert {\n",
              "      background-color: #3B4455;\n",
              "      fill: #D2E3FC;\n",
              "    }\n",
              "\n",
              "    [theme=dark] .colab-df-convert:hover {\n",
              "      background-color: #434B5C;\n",
              "      box-shadow: 0px 1px 3px 1px rgba(0, 0, 0, 0.15);\n",
              "      filter: drop-shadow(0px 1px 2px rgba(0, 0, 0, 0.3));\n",
              "      fill: #FFFFFF;\n",
              "    }\n",
              "  </style>\n",
              "\n",
              "      <script>\n",
              "        const buttonEl =\n",
              "          document.querySelector('#df-e51c2dc1-6806-47af-bb73-f63dc894c7eb button.colab-df-convert');\n",
              "        buttonEl.style.display =\n",
              "          google.colab.kernel.accessAllowed ? 'block' : 'none';\n",
              "\n",
              "        async function convertToInteractive(key) {\n",
              "          const element = document.querySelector('#df-e51c2dc1-6806-47af-bb73-f63dc894c7eb');\n",
              "          const dataTable =\n",
              "            await google.colab.kernel.invokeFunction('convertToInteractive',\n",
              "                                                     [key], {});\n",
              "          if (!dataTable) return;\n",
              "\n",
              "          const docLinkHtml = 'Like what you see? Visit the ' +\n",
              "            '<a target=\"_blank\" href=https://colab.research.google.com/notebooks/data_table.ipynb>data table notebook</a>'\n",
              "            + ' to learn more about interactive tables.';\n",
              "          element.innerHTML = '';\n",
              "          dataTable['output_type'] = 'display_data';\n",
              "          await google.colab.output.renderOutput(dataTable, element);\n",
              "          const docLink = document.createElement('div');\n",
              "          docLink.innerHTML = docLinkHtml;\n",
              "          element.appendChild(docLink);\n",
              "        }\n",
              "      </script>\n",
              "    </div>\n",
              "  </div>\n",
              "  "
            ],
            "text/plain": [
              "                 Costa Rica  El Salvador  ...  República Dominicana  Panamá\n",
              "2021-Julio           108.35       110.66  ...                181.94  349.96\n",
              "2021-Agosto          105.98       113.32  ...                188.79  322.86\n",
              "2021-Septiembre      109.30       114.29  ...                181.02  317.43\n",
              "2021-Octubre         111.45       110.98  ...                192.15  366.56\n",
              "2021-Noviembre       116.41       117.78  ...                204.89  370.39\n",
              "\n",
              "[5 rows x 7 columns]"
            ]
          },
          "metadata": {},
          "execution_count": 7
        }
      ]
    },
    {
      "cell_type": "markdown",
      "metadata": {
        "id": "HZYnwfqqr7tE"
      },
      "source": [
        "import re\n",
        "tabpais = soup.find_all('th', colspan='1')\n",
        "table = soup.find_all('p', class_='text-left')\n",
        "fechas = []\n",
        "paises =[]\n",
        "for i in range(len(table)):\n",
        "  x = re.sub(\" \",\"\",table[i].text)\n",
        "  fechas.append(x.replace(\"\\n\",\"\"))\n",
        "  pais = tabpais[i].text\n",
        "  #indicadores.append(ind)\n",
        "  paises.append(pais)\n",
        "fechas[-1]"
      ]
    },
    {
      "cell_type": "markdown",
      "metadata": {
        "id": "sCY1EzkcvFfD"
      },
      "source": [
        "table1 = soup.find_all('p', class_='text-right')\n",
        "matriz = np.array([])\n",
        "for i in table1:\n",
        "  matriz = np.array(np.append(matriz,i))\n",
        "matriz = np.where(matriz==\"--\", np.nan, matriz).astype(np.float)\n",
        "matriz = matriz.reshape(-1,7) # 7 paises\n",
        "imaeLA = pd.DataFrame(matriz,index=fechas,columns=paises)\n",
        "imaeLA"
      ]
    },
    {
      "cell_type": "markdown",
      "metadata": {
        "id": "mng9xQCphxaK"
      },
      "source": [
        "### **Argentina**\n"
      ]
    },
    {
      "cell_type": "markdown",
      "metadata": {
        "id": "5HGhiXY6MURL"
      },
      "source": [
        "#### Publicaciones disponibles las fechas: \n",
        "1. 28 sept \n",
        "2. 21 Oct\n",
        "3. 23 Nov\n",
        "4. 23 Dic"
      ]
    },
    {
      "cell_type": "code",
      "metadata": {
        "id": "8lHpEj4I7Kkk",
        "outputId": "6ad785f7-6aa8-4eee-ffca-761498404b09",
        "colab": {
          "base_uri": "https://localhost:8080/",
          "height": 518
        }
      },
      "source": [
        "url = \"https://www.indec.gob.ar/ftp/cuadros/economia/sh_emae_mensual_base2004.xls\"\n",
        "urllib2.urlretrieve(url, \"test.xls\")\n",
        "data = pd.read_excel('test.xls',header=2)[2:]\n",
        "data1 = data.iloc[:,:4].dropna(subset = [data.columns[1]]) # data.columns[1] es la columna de los meses\n",
        "data1.reset_index(drop=True,inplace=True)\n",
        "data1[data1.columns[0]] = data1[data1.columns[0]].ffill() # forward fill # para los años   data1.columns[0] es la columna de los años\n",
        "data1 = data1.iloc[11:,:3]"
      ],
      "execution_count": 8,
      "outputs": [
        {
          "output_type": "error",
          "ename": "ImportError",
          "evalue": "ignored",
          "traceback": [
            "\u001b[0;31m---------------------------------------------------------------------------\u001b[0m",
            "\u001b[0;31mImportError\u001b[0m                               Traceback (most recent call last)",
            "\u001b[0;32m<ipython-input-8-e7af7023a4de>\u001b[0m in \u001b[0;36m<module>\u001b[0;34m()\u001b[0m\n\u001b[1;32m      1\u001b[0m \u001b[0murl\u001b[0m \u001b[0;34m=\u001b[0m \u001b[0;34m\"https://www.indec.gob.ar/ftp/cuadros/economia/sh_emae_mensual_base2004.xls\"\u001b[0m\u001b[0;34m\u001b[0m\u001b[0;34m\u001b[0m\u001b[0m\n\u001b[1;32m      2\u001b[0m \u001b[0murllib2\u001b[0m\u001b[0;34m.\u001b[0m\u001b[0murlretrieve\u001b[0m\u001b[0;34m(\u001b[0m\u001b[0murl\u001b[0m\u001b[0;34m,\u001b[0m \u001b[0;34m\"test.xls\"\u001b[0m\u001b[0;34m)\u001b[0m\u001b[0;34m\u001b[0m\u001b[0;34m\u001b[0m\u001b[0m\n\u001b[0;32m----> 3\u001b[0;31m \u001b[0mdata\u001b[0m \u001b[0;34m=\u001b[0m \u001b[0mpd\u001b[0m\u001b[0;34m.\u001b[0m\u001b[0mread_excel\u001b[0m\u001b[0;34m(\u001b[0m\u001b[0;34m'test.xls'\u001b[0m\u001b[0;34m,\u001b[0m\u001b[0mheader\u001b[0m\u001b[0;34m=\u001b[0m\u001b[0;36m2\u001b[0m\u001b[0;34m)\u001b[0m\u001b[0;34m[\u001b[0m\u001b[0;36m2\u001b[0m\u001b[0;34m:\u001b[0m\u001b[0;34m]\u001b[0m\u001b[0;34m\u001b[0m\u001b[0;34m\u001b[0m\u001b[0m\n\u001b[0m\u001b[1;32m      4\u001b[0m \u001b[0mdata1\u001b[0m \u001b[0;34m=\u001b[0m \u001b[0mdata\u001b[0m\u001b[0;34m.\u001b[0m\u001b[0miloc\u001b[0m\u001b[0;34m[\u001b[0m\u001b[0;34m:\u001b[0m\u001b[0;34m,\u001b[0m\u001b[0;34m:\u001b[0m\u001b[0;36m4\u001b[0m\u001b[0;34m]\u001b[0m\u001b[0;34m.\u001b[0m\u001b[0mdropna\u001b[0m\u001b[0;34m(\u001b[0m\u001b[0msubset\u001b[0m \u001b[0;34m=\u001b[0m \u001b[0;34m[\u001b[0m\u001b[0mdata\u001b[0m\u001b[0;34m.\u001b[0m\u001b[0mcolumns\u001b[0m\u001b[0;34m[\u001b[0m\u001b[0;36m1\u001b[0m\u001b[0;34m]\u001b[0m\u001b[0;34m]\u001b[0m\u001b[0;34m)\u001b[0m \u001b[0;31m# data.columns[1] es la columna de los meses\u001b[0m\u001b[0;34m\u001b[0m\u001b[0;34m\u001b[0m\u001b[0m\n\u001b[1;32m      5\u001b[0m \u001b[0mdata1\u001b[0m\u001b[0;34m.\u001b[0m\u001b[0mreset_index\u001b[0m\u001b[0;34m(\u001b[0m\u001b[0mdrop\u001b[0m\u001b[0;34m=\u001b[0m\u001b[0;32mTrue\u001b[0m\u001b[0;34m,\u001b[0m\u001b[0minplace\u001b[0m\u001b[0;34m=\u001b[0m\u001b[0;32mTrue\u001b[0m\u001b[0;34m)\u001b[0m\u001b[0;34m\u001b[0m\u001b[0;34m\u001b[0m\u001b[0m\n",
            "\u001b[0;32m/usr/local/lib/python3.7/dist-packages/pandas/util/_decorators.py\u001b[0m in \u001b[0;36mwrapper\u001b[0;34m(*args, **kwargs)\u001b[0m\n\u001b[1;32m    309\u001b[0m                     \u001b[0mstacklevel\u001b[0m\u001b[0;34m=\u001b[0m\u001b[0mstacklevel\u001b[0m\u001b[0;34m,\u001b[0m\u001b[0;34m\u001b[0m\u001b[0;34m\u001b[0m\u001b[0m\n\u001b[1;32m    310\u001b[0m                 )\n\u001b[0;32m--> 311\u001b[0;31m             \u001b[0;32mreturn\u001b[0m \u001b[0mfunc\u001b[0m\u001b[0;34m(\u001b[0m\u001b[0;34m*\u001b[0m\u001b[0margs\u001b[0m\u001b[0;34m,\u001b[0m \u001b[0;34m**\u001b[0m\u001b[0mkwargs\u001b[0m\u001b[0;34m)\u001b[0m\u001b[0;34m\u001b[0m\u001b[0;34m\u001b[0m\u001b[0m\n\u001b[0m\u001b[1;32m    312\u001b[0m \u001b[0;34m\u001b[0m\u001b[0m\n\u001b[1;32m    313\u001b[0m         \u001b[0;32mreturn\u001b[0m \u001b[0mwrapper\u001b[0m\u001b[0;34m\u001b[0m\u001b[0;34m\u001b[0m\u001b[0m\n",
            "\u001b[0;32m/usr/local/lib/python3.7/dist-packages/pandas/io/excel/_base.py\u001b[0m in \u001b[0;36mread_excel\u001b[0;34m(io, sheet_name, header, names, index_col, usecols, squeeze, dtype, engine, converters, true_values, false_values, skiprows, nrows, na_values, keep_default_na, na_filter, verbose, parse_dates, date_parser, thousands, comment, skipfooter, convert_float, mangle_dupe_cols, storage_options)\u001b[0m\n\u001b[1;32m    362\u001b[0m     \u001b[0;32mif\u001b[0m \u001b[0;32mnot\u001b[0m \u001b[0misinstance\u001b[0m\u001b[0;34m(\u001b[0m\u001b[0mio\u001b[0m\u001b[0;34m,\u001b[0m \u001b[0mExcelFile\u001b[0m\u001b[0;34m)\u001b[0m\u001b[0;34m:\u001b[0m\u001b[0;34m\u001b[0m\u001b[0;34m\u001b[0m\u001b[0m\n\u001b[1;32m    363\u001b[0m         \u001b[0mshould_close\u001b[0m \u001b[0;34m=\u001b[0m \u001b[0;32mTrue\u001b[0m\u001b[0;34m\u001b[0m\u001b[0;34m\u001b[0m\u001b[0m\n\u001b[0;32m--> 364\u001b[0;31m         \u001b[0mio\u001b[0m \u001b[0;34m=\u001b[0m \u001b[0mExcelFile\u001b[0m\u001b[0;34m(\u001b[0m\u001b[0mio\u001b[0m\u001b[0;34m,\u001b[0m \u001b[0mstorage_options\u001b[0m\u001b[0;34m=\u001b[0m\u001b[0mstorage_options\u001b[0m\u001b[0;34m,\u001b[0m \u001b[0mengine\u001b[0m\u001b[0;34m=\u001b[0m\u001b[0mengine\u001b[0m\u001b[0;34m)\u001b[0m\u001b[0;34m\u001b[0m\u001b[0;34m\u001b[0m\u001b[0m\n\u001b[0m\u001b[1;32m    365\u001b[0m     \u001b[0;32melif\u001b[0m \u001b[0mengine\u001b[0m \u001b[0;32mand\u001b[0m \u001b[0mengine\u001b[0m \u001b[0;34m!=\u001b[0m \u001b[0mio\u001b[0m\u001b[0;34m.\u001b[0m\u001b[0mengine\u001b[0m\u001b[0;34m:\u001b[0m\u001b[0;34m\u001b[0m\u001b[0;34m\u001b[0m\u001b[0m\n\u001b[1;32m    366\u001b[0m         raise ValueError(\n",
            "\u001b[0;32m/usr/local/lib/python3.7/dist-packages/pandas/io/excel/_base.py\u001b[0m in \u001b[0;36m__init__\u001b[0;34m(self, path_or_buffer, engine, storage_options)\u001b[0m\n\u001b[1;32m   1231\u001b[0m         \u001b[0mself\u001b[0m\u001b[0;34m.\u001b[0m\u001b[0mstorage_options\u001b[0m \u001b[0;34m=\u001b[0m \u001b[0mstorage_options\u001b[0m\u001b[0;34m\u001b[0m\u001b[0;34m\u001b[0m\u001b[0m\n\u001b[1;32m   1232\u001b[0m \u001b[0;34m\u001b[0m\u001b[0m\n\u001b[0;32m-> 1233\u001b[0;31m         \u001b[0mself\u001b[0m\u001b[0;34m.\u001b[0m\u001b[0m_reader\u001b[0m \u001b[0;34m=\u001b[0m \u001b[0mself\u001b[0m\u001b[0;34m.\u001b[0m\u001b[0m_engines\u001b[0m\u001b[0;34m[\u001b[0m\u001b[0mengine\u001b[0m\u001b[0;34m]\u001b[0m\u001b[0;34m(\u001b[0m\u001b[0mself\u001b[0m\u001b[0;34m.\u001b[0m\u001b[0m_io\u001b[0m\u001b[0;34m,\u001b[0m \u001b[0mstorage_options\u001b[0m\u001b[0;34m=\u001b[0m\u001b[0mstorage_options\u001b[0m\u001b[0;34m)\u001b[0m\u001b[0;34m\u001b[0m\u001b[0;34m\u001b[0m\u001b[0m\n\u001b[0m\u001b[1;32m   1234\u001b[0m \u001b[0;34m\u001b[0m\u001b[0m\n\u001b[1;32m   1235\u001b[0m     \u001b[0;32mdef\u001b[0m \u001b[0m__fspath__\u001b[0m\u001b[0;34m(\u001b[0m\u001b[0mself\u001b[0m\u001b[0;34m)\u001b[0m\u001b[0;34m:\u001b[0m\u001b[0;34m\u001b[0m\u001b[0;34m\u001b[0m\u001b[0m\n",
            "\u001b[0;32m/usr/local/lib/python3.7/dist-packages/pandas/io/excel/_xlrd.py\u001b[0m in \u001b[0;36m__init__\u001b[0;34m(self, filepath_or_buffer, storage_options)\u001b[0m\n\u001b[1;32m     22\u001b[0m         \"\"\"\n\u001b[1;32m     23\u001b[0m         \u001b[0merr_msg\u001b[0m \u001b[0;34m=\u001b[0m \u001b[0;34m\"Install xlrd >= 1.0.0 for Excel support\"\u001b[0m\u001b[0;34m\u001b[0m\u001b[0;34m\u001b[0m\u001b[0m\n\u001b[0;32m---> 24\u001b[0;31m         \u001b[0mimport_optional_dependency\u001b[0m\u001b[0;34m(\u001b[0m\u001b[0;34m\"xlrd\"\u001b[0m\u001b[0;34m,\u001b[0m \u001b[0mextra\u001b[0m\u001b[0;34m=\u001b[0m\u001b[0merr_msg\u001b[0m\u001b[0;34m)\u001b[0m\u001b[0;34m\u001b[0m\u001b[0;34m\u001b[0m\u001b[0m\n\u001b[0m\u001b[1;32m     25\u001b[0m         \u001b[0msuper\u001b[0m\u001b[0;34m(\u001b[0m\u001b[0;34m)\u001b[0m\u001b[0;34m.\u001b[0m\u001b[0m__init__\u001b[0m\u001b[0;34m(\u001b[0m\u001b[0mfilepath_or_buffer\u001b[0m\u001b[0;34m,\u001b[0m \u001b[0mstorage_options\u001b[0m\u001b[0;34m=\u001b[0m\u001b[0mstorage_options\u001b[0m\u001b[0;34m)\u001b[0m\u001b[0;34m\u001b[0m\u001b[0;34m\u001b[0m\u001b[0m\n\u001b[1;32m     26\u001b[0m \u001b[0;34m\u001b[0m\u001b[0m\n",
            "\u001b[0;32m/usr/local/lib/python3.7/dist-packages/pandas/compat/_optional.py\u001b[0m in \u001b[0;36mimport_optional_dependency\u001b[0;34m(name, extra, errors, min_version)\u001b[0m\n\u001b[1;32m    139\u001b[0m                 \u001b[0;32mreturn\u001b[0m \u001b[0;32mNone\u001b[0m\u001b[0;34m\u001b[0m\u001b[0;34m\u001b[0m\u001b[0m\n\u001b[1;32m    140\u001b[0m             \u001b[0;32melif\u001b[0m \u001b[0merrors\u001b[0m \u001b[0;34m==\u001b[0m \u001b[0;34m\"raise\"\u001b[0m\u001b[0;34m:\u001b[0m\u001b[0;34m\u001b[0m\u001b[0;34m\u001b[0m\u001b[0m\n\u001b[0;32m--> 141\u001b[0;31m                 \u001b[0;32mraise\u001b[0m \u001b[0mImportError\u001b[0m\u001b[0;34m(\u001b[0m\u001b[0mmsg\u001b[0m\u001b[0;34m)\u001b[0m\u001b[0;34m\u001b[0m\u001b[0;34m\u001b[0m\u001b[0m\n\u001b[0m\u001b[1;32m    142\u001b[0m \u001b[0;34m\u001b[0m\u001b[0m\n\u001b[1;32m    143\u001b[0m     \u001b[0;32mreturn\u001b[0m \u001b[0mmodule\u001b[0m\u001b[0;34m\u001b[0m\u001b[0;34m\u001b[0m\u001b[0m\n",
            "\u001b[0;31mImportError\u001b[0m: Pandas requires version '1.2.0' or newer of 'xlrd' (version '1.1.0' currently installed).",
            "",
            "\u001b[0;31m---------------------------------------------------------------------------\u001b[0;32m\nNOTE: If your import is failing due to a missing package, you can\nmanually install dependencies using either !pip or !apt.\n\nTo view examples of installing some common dependencies, click the\n\"Open Examples\" button below.\n\u001b[0;31m---------------------------------------------------------------------------\u001b[0m\n"
          ],
          "errorDetails": {
            "actions": [
              {
                "action": "open_url",
                "actionText": "Open Examples",
                "url": "/notebooks/snippets/importing_libraries.ipynb"
              }
            ]
          }
        }
      ]
    },
    {
      "cell_type": "code",
      "metadata": {
        "id": "AEop9VIOYe7t"
      },
      "source": [
        "data1['fecha'] = data1[data1.columns[0]].astype(int).astype(str) +\"-\"+ data1[data1.columns[1]]\n",
        "data1.set_index(data1.fecha,inplace=True)\n",
        "data1.iloc[:,2].tail(1)"
      ],
      "execution_count": null,
      "outputs": []
    },
    {
      "cell_type": "code",
      "metadata": {
        "id": "X0Sd_s4JR1iO"
      },
      "source": [
        "imaela = pd.merge(imaeLA,data1.iloc[:,2],how='left',left_index=True,right_index=True)\n",
        "imaela.columns = [*imaela.columns[:-1], 'Argentina']\n",
        "imaela.tail(1)"
      ],
      "execution_count": null,
      "outputs": []
    },
    {
      "cell_type": "markdown",
      "metadata": {
        "id": "USJ5m_3XS6ji"
      },
      "source": [
        "### **Brasil**"
      ]
    },
    {
      "cell_type": "markdown",
      "metadata": {
        "id": "rhunUnSlLzy_"
      },
      "source": [
        "#### Publicaciones :\n",
        "1. 15 sept\n",
        "2. 15 Oct\n",
        "3. 16 Nov\n",
        "4. 15 Dic"
      ]
    },
    {
      "cell_type": "code",
      "metadata": {
        "id": "A6-HZYuyofz0"
      },
      "source": [
        "urljson = \"https://api.bcb.gov.br/dados/serie/bcdata.sgs.24363/dados?formato=json\"\n",
        "urllib2.urlretrieve(urljson, \"brasil.json\")\n",
        "bra = pd.read_json('brasil.json')\n",
        "bra.rename(columns={'valor':'Brasil'},inplace=True)\n",
        "\n",
        "bra['Brasil1'] = bra.Brasil.pct_change(12)*100 # calculo tasa de crecimiento\n",
        "bra['date'] = pd.to_datetime(bra['data'],format='%d/%m/%Y') # transformamos a formato fecha\n",
        "# Creamos indice\n",
        "bra['fecha'] = pd.DatetimeIndex(bra['date']).year.astype(str) +\"-\"+pd.DatetimeIndex(bra['date']).month.astype(str)\n",
        "\n",
        "nombre_mes = [meses[i][1] for i in pd.DatetimeIndex(bra['date']).month.tolist()] # obtenemos nombre del mes\n",
        "bra['fecha'] = pd.DatetimeIndex(bra['date']).year.astype(str) +\"-\"+ nombre_mes # creamos indice\n",
        "bra.set_index(bra.fecha,inplace=True) #reemplazamos indice\n",
        "\n",
        "\n",
        "bra.tail(1)"
      ],
      "execution_count": null,
      "outputs": []
    },
    {
      "cell_type": "code",
      "source": [
        "imaela = pd.merge(imaela,bra['Brasil'],how='left',left_index=True,right_index=True) # combinamos la data"
      ],
      "metadata": {
        "id": "q33paJxYU1YL"
      },
      "execution_count": null,
      "outputs": []
    },
    {
      "cell_type": "code",
      "metadata": {
        "id": "F7wsu6q6H9Oa"
      },
      "source": [
        "#    imaela"
      ],
      "execution_count": null,
      "outputs": []
    },
    {
      "cell_type": "markdown",
      "metadata": {
        "id": "YlZNkOc6pfVo"
      },
      "source": [
        "### **Mexico**"
      ]
    },
    {
      "cell_type": "markdown",
      "metadata": {
        "id": "gp44d33BJ8hJ"
      },
      "source": [
        "#### Publicaciones disponibles las fechas: \n",
        "1. 27 sept \n",
        "2. 25 Oct\n",
        "3. 25 Nov\n",
        "4. 24 Dic"
      ]
    },
    {
      "cell_type": "code",
      "metadata": {
        "id": "G9quLL-jpnVD"
      },
      "source": [
        "url = \"https://www.inegi.org.mx/contenidos/temas/economia/cn/igae/tabulados/ori/IGAE_1.xlsx\"\n",
        "urllib2.urlretrieve(url, \"test.xlsx\")\n",
        "mex = pd.read_excel('test.xlsx',header=3,nrows=3)\n",
        "mex = mex.T.reset_index(drop=True) # transponemos y estandarizamos el indice\n",
        "mex.drop(0,inplace=True) # borramos primera fila\n",
        "mex[2] = round(mex[2].astype(float),2) # leyendo tasas de crecimiento en el formato numerico y redondeando\n",
        "mex[0] = mex[0].ffill()"
      ],
      "execution_count": null,
      "outputs": []
    },
    {
      "cell_type": "code",
      "metadata": {
        "id": "LJzHJQ0Pq7Kc"
      },
      "source": [
        "mex[1] = mex[1].replace(['oR','oP','lR','lP','eR','eP'],['o','o','l','l','e','e'], regex=True) #limpiar superindices \"Revisado\" \"Preliminar\"\n",
        "mex[0] = mex[0].replace(['P','R'],['',''],regex=True) # limpiar preliminar de fecha\n",
        "mex.index = mex[0].astype('str') +\"-\"+ mex[1] #creamos indice para base de datos\n",
        "mex.columns = [*mex.columns[:-1], 'México'] # nombramos columna\n",
        "mex.dropna().tail(1) # mostrar ultimo valor no nulo"
      ],
      "execution_count": null,
      "outputs": []
    },
    {
      "cell_type": "code",
      "metadata": {
        "id": "QIx6594i6eEt"
      },
      "source": [
        "imaela = round(pd.merge(imaela,mex['México'],how='left',left_index=True,right_index=True),2) # combinamos las series"
      ],
      "execution_count": null,
      "outputs": []
    },
    {
      "cell_type": "code",
      "metadata": {
        "id": "I8pV0b3HUrjM"
      },
      "source": [
        "imaela"
      ],
      "execution_count": null,
      "outputs": []
    },
    {
      "cell_type": "code",
      "metadata": {
        "id": "2XyzaBWtpn_0"
      },
      "source": [
        "## link excel\n",
        "#https://www.inegi.org.mx/contenidos/temas/economia/cn/igae/tabulados/ori/IGAE_1.xlsx       indice\n",
        "\n",
        "#https://www.inegi.org.mx/contenidos/temas/economia/cn/igae/tabulados/ori/IGAE_2.xlsx       crecimiento"
      ],
      "execution_count": null,
      "outputs": []
    },
    {
      "cell_type": "markdown",
      "metadata": {
        "id": "av3nykGIzFj-"
      },
      "source": [
        "### **Perú**"
      ]
    },
    {
      "cell_type": "markdown",
      "metadata": {
        "id": "Zxz5C9hXDTEC"
      },
      "source": [
        "#### Publicaciones disponibles a fecha:\n",
        " \n",
        "2. 21 Feb"
      ]
    },
    {
      "cell_type": "code",
      "metadata": {
        "id": "Ztmnin9LzGhP"
      },
      "source": [
        "url = 'https://www.inei.gob.pe/media/principales_indicadores/CalculoPBI_100.zip' #cambio de 99 a 100 (sep oct)"
      ],
      "execution_count": null,
      "outputs": []
    },
    {
      "cell_type": "code",
      "source": [
        "urlpe= 'https://www.inei.gob.pe'\n",
        "wd.get(urlpe)\n",
        "souppe = BeautifulSoup(wd.page_source,'lxml')\n",
        "link_html = souppe.find_all('a',class_='btninei',title=\"documentos adicionales\") # para encontrar el nombre del link de indice peru\n",
        "for a in link_html:\n",
        "  link = a['href']\n",
        "  print(link)\n",
        "\n",
        "urlpe = 'https://www.inei.gob.pe/' + link"
      ],
      "metadata": {
        "id": "Ay3n4nC3e2LH"
      },
      "execution_count": null,
      "outputs": []
    },
    {
      "cell_type": "code",
      "metadata": {
        "id": "fR9o9g9hzGpQ"
      },
      "source": [
        "zip, _ = urllib2.urlretrieve(urlpe)\n",
        "with zipfile.ZipFile(zip, \"r\") as f:\n",
        "    f.extractall('/content')"
      ],
      "execution_count": null,
      "outputs": []
    },
    {
      "cell_type": "code",
      "metadata": {
        "id": "NoK6gcMRzGvt"
      },
      "source": [
        "indicador = [f.namelist()[i] for i in range(len(f.namelist())) if 'Indicador Mensual' in f.namelist()[i]][0] # el 0 es para que elija el string de la lista\n",
        "df = pd.read_excel(indicador,sheet_name=1,header=3)[1:] # el indice esta en la segunda hoja del excel"
      ],
      "execution_count": null,
      "outputs": []
    },
    {
      "cell_type": "code",
      "metadata": {
        "id": "XAf-5TNTFX7g"
      },
      "source": [
        "indicador"
      ],
      "execution_count": null,
      "outputs": []
    },
    {
      "cell_type": "code",
      "metadata": {
        "id": "Db-wpEmd1M4i"
      },
      "source": [
        "pe = round(df.filter(like='Índice Global'),2)   # regex='spike|spke' se puede usar regex para en caso de que escriban las columnas mal\n",
        "pe['YM'] = df['Año y Mes'].astype(int).astype(str)\n",
        "\n",
        "#  IG.1 Mensual   IG.2 Acumulado  IG.3 Anual\n",
        "pe['fecha'] =  pe['YM'].str[0:4] +'-'+ pe['YM'].str[4:7].astype(int).map(meses_dict)  # fecha\n",
        "pe.set_index('fecha',inplace=True)\n",
        "\n",
        "pe.rename(columns={pe.columns[0]:'Perú',pe.columns[1]:'Perú_i',pe.columns[2]:'Perú_a'},inplace=True)"
      ],
      "execution_count": null,
      "outputs": []
    },
    {
      "cell_type": "code",
      "metadata": {
        "id": "T5rh--_j38St"
      },
      "source": [
        "imaela = imaela.merge(pe['Perú'],how='left',left_index=True,right_index=True)"
      ],
      "execution_count": null,
      "outputs": []
    },
    {
      "cell_type": "markdown",
      "metadata": {
        "id": "A2MSTFg45f_H"
      },
      "source": [
        "### **Chile**"
      ]
    },
    {
      "cell_type": "markdown",
      "metadata": {
        "id": "hqlvksKyKnZL"
      },
      "source": [
        "#### Publicaciones disponibles las fechas:\n",
        " \n",
        "-   1ero o 2do día de cada mes"
      ]
    },
    {
      "cell_type": "code",
      "metadata": {
        "id": "bKL_VCs35h82"
      },
      "source": [
        "url = \"https://si3.bcentral.cl/estadisticas/Principal1/excel/CCNN/IMACEC/Excel/IMACEC.xlsx\"\n",
        "urllib2.urlretrieve(url, \"chile.xlsx\")\n",
        "df = pd.read_excel('chile.xlsx',header=5,keep_default_na=False)"
      ],
      "execution_count": null,
      "outputs": []
    },
    {
      "cell_type": "code",
      "metadata": {
        "id": "Gv8NAd-xcUEZ"
      },
      "source": [
        "chile = df.loc[1:,[df.columns[0],df.columns[1],'Imacec']][:-10] # excluimos las ultimas 10 filas (pie de pagina)\n",
        "chile.rename(columns = {'Imacec':'Chile'}, inplace = True) # renombramos\n",
        "chile['Chile1'] = pd.to_numeric(chile.Chile).pct_change(12)*100\n",
        "###\n",
        "chile[chile.columns[0]] = pd.to_numeric(chile[chile.columns[0]], errors='coerce').ffill().bfill().astype(int)\n",
        " # las columnas del excel contienen string en blanco por lo que se transformaron a numero antes de hacer el forward fill\n",
        " # el backward fill es para asegurar que no quede NaN por detras y dificulte la creacion del indice\n",
        "###\n",
        "\n",
        "chile['mes'] = chile[chile.columns[1]].map(mes3).bfill() # creando mes y usando el bfill por el mismo motivo explicado arriba\n",
        "\n",
        "#Creamos el indice\n",
        "chile.index = chile[chile.columns[0]].astype('str') +\"-\"+ chile.mes\n",
        "\n",
        "chile.tail(1)"
      ],
      "execution_count": null,
      "outputs": []
    },
    {
      "cell_type": "code",
      "metadata": {
        "id": "Imhrlm8mSnTJ"
      },
      "source": [
        " pd.to_numeric(chile[chile.columns[0]], errors='coerce')"
      ],
      "execution_count": null,
      "outputs": []
    },
    {
      "cell_type": "code",
      "metadata": {
        "id": "euH3hfbWtab4"
      },
      "source": [
        "imaelatam = round(imaela.merge(chile['Chile'],how='left',left_index=True,right_index=True),2)\n",
        "imaelatam = imaelatam[~imaelatam.index.duplicated(keep='last')].reindex(imaela.index) # hay duplicados, los eliminamos y reindexamos"
      ],
      "execution_count": null,
      "outputs": []
    },
    {
      "cell_type": "code",
      "metadata": {
        "id": "6kQyvbAHrg2D"
      },
      "source": [
        "#  imaelatam"
      ],
      "execution_count": null,
      "outputs": []
    },
    {
      "cell_type": "markdown",
      "metadata": {
        "id": "rSOwOPisI0mw"
      },
      "source": [
        "### **Ecuador**"
      ]
    },
    {
      "cell_type": "markdown",
      "metadata": {
        "id": "GqkkMgL4LIwV"
      },
      "source": [
        "#### Publicaciones disponibles las fechas: \n",
        "1. 14 sept    -    Julio\n",
        "2. 13 Oct    -     Agosto\n",
        "3. 15 Nov    -     Sep\n",
        "4. 24 Dic    -     Oct"
      ]
    },
    {
      "cell_type": "code",
      "metadata": {
        "id": "sscszb2Zd1gv"
      },
      "source": [
        "url = \"https://contenido.bce.fin.ec/documentos/PublicacionesNotas/Catalogo/IEMensual/Adelantos/IEM-452-e.xlsx\"\n",
        "urllib2.urlretrieve(url, \"Ecuador.xlsx\")\n",
        "df = pd.read_excel('Ecuador.xlsx',header=7,keep_default_na=False)[1:13].reset_index()\n",
        "\n",
        "ecu = (df.set_index(['Unnamed: 0','index'])\n",
        ".stack()\n",
        ".reset_index()\n",
        ".rename(columns={'Unnamed: 0':'mes','level_2':'Year'})).sort_values(['Year','index']) # ingenieria de base de datos\n",
        "\n",
        "# Elaboracion de indice\n",
        "ecu['Mes'] = ecu.mes.str.lower().map(mes3)\n",
        "ecu.insert(3, 'fecha', ecu.Year.astype(str) + '-' + ecu.Mes)\n",
        "ecu.index = ecu.fecha\n",
        "\n",
        "# Variacion interanual\n",
        "ecu.rename(columns={0:'Ecuador'},inplace=True)\n",
        "ecu['Ecuador1'] = pd.to_numeric(ecu['Ecuador'],errors='coerce').pct_change(12)*100\n",
        "\n",
        "ecu.Ecuador.tail()"
      ],
      "execution_count": null,
      "outputs": []
    },
    {
      "cell_type": "code",
      "metadata": {
        "id": "ok4gz6V3nbeh"
      },
      "source": [
        "imaela = round(pd.merge(imaelatam,ecu['Ecuador'],how='left',left_index=True,right_index=True),2)"
      ],
      "execution_count": null,
      "outputs": []
    },
    {
      "cell_type": "code",
      "metadata": {
        "id": "rjP6l55-S_KT"
      },
      "source": [
        "#   imaela"
      ],
      "execution_count": null,
      "outputs": []
    },
    {
      "cell_type": "markdown",
      "metadata": {
        "id": "wrBNeqzd4se-"
      },
      "source": [
        "df = np.array(tb.read_pdf('ecuador.pdf',pages = '5',stream=True,multiple_tables=True,pandas_options={'header':None}))\n",
        "dff = pd.DataFrame(df.reshape(-1,5)) # en 2022 el reshape debe ser (-1,6)"
      ]
    },
    {
      "cell_type": "markdown",
      "metadata": {
        "id": "DYqsQgFR-FOz"
      },
      "source": [
        "dff[dff.iloc[3,2].split(' ')] = dff[2].str.split(' ',expand=True)\n",
        "if dff.iloc[3,3] in range(2020,2040,1):\n",
        "  dff[int(dff.iloc[3,3])] = dff[3]\n",
        "  dff[int(dff.iloc[3,4])] = dff[4]\n",
        "else:\n",
        "  dff[int(dff.iloc[3,4])] = dff[4]"
      ]
    },
    {
      "cell_type": "markdown",
      "metadata": {
        "id": "nOgS6gZj_kOg"
      },
      "source": [
        "if dff.iloc[18,0] in ['Ene']:\n",
        "    ecu = dff.iloc[18:30,[0,-3,-2,-1]].reset_index(drop=True)\n",
        "else:\n",
        "    ecu = dff.iloc[19:31,[0,-3,-2,-1]].reset_index(drop=True)\n",
        " \n",
        "ecu['interanualAnterior'] = ecu.iloc[:,-2].astype(float)/ecu.iloc[:,-3].astype(float)*100-100\n",
        "ecu['Ecuador'] = ecu.iloc[:,-2].astype(float)/ecu.iloc[:,-3].astype(float)*100-100\n",
        "\n",
        "listames = [meses[1:][i][1] for i in range(len(meses[1:]))]\n",
        "ecu['mes'] = listames\n",
        "\n",
        "ecu.index = str(ecu.columns[-4]) + '-' + ecu.mes\n",
        "ecu.dropna().tail(1)"
      ]
    },
    {
      "cell_type": "markdown",
      "metadata": {
        "id": "SUl_ygsCnMPA"
      },
      "source": [
        "### **Bolivia**"
      ]
    },
    {
      "cell_type": "markdown",
      "metadata": {
        "id": "IHUnyuy1nVpw"
      },
      "source": [
        "#### Publicaciones disponibles las fechas:\n",
        " \n",
        "2. \n",
        "3. \n",
        "4."
      ]
    },
    {
      "cell_type": "code",
      "metadata": {
        "id": "ZA1eYTsrnc4A"
      },
      "source": [
        "urlbol = 'https://www.ine.gob.bo/index.php/estadisticas-economicas/indice-global-de-actividad-economica-igae/#1584545313102-06cf787f-a790'\n",
        "\n",
        "req = urllib2.Request(url=urlbol, headers=header) \n",
        "page = urllib2.urlopen(req).read()"
      ],
      "execution_count": null,
      "outputs": []
    },
    {
      "cell_type": "code",
      "metadata": {
        "id": "1aB4zuN8r4Nv"
      },
      "source": [
        "soupbol = BeautifulSoup(page,'lxml')\n",
        "links = [a['href'] for a in soupbol.select(\"a[href*=nube.ine.gob.bo/index.php]\")] # extraemos links que contengan nube.ine.gob\n",
        " # ultimos link disponibles\n",
        "links # IGAE por actividad economica es el segundo"
      ],
      "execution_count": null,
      "outputs": []
    },
    {
      "cell_type": "code",
      "metadata": {
        "id": "0n-BsYwlrXNg"
      },
      "source": [
        "urllib2.urlretrieve(links[1], \"Bolivia.xlsx\")\n",
        "#https://nube.ine.gob.bo/index.php/s/6Szm6RmYSBeRnsD/download"
      ],
      "execution_count": null,
      "outputs": []
    },
    {
      "cell_type": "code",
      "metadata": {
        "id": "5RXiNmdfrXf_"
      },
      "source": [
        "df = pd.read_excel('Bolivia.xlsx',header=9)\n",
        "df.head(2)"
      ],
      "execution_count": null,
      "outputs": []
    },
    {
      "cell_type": "code",
      "metadata": {
        "id": "3u_9FltnVAzq"
      },
      "source": [
        "df.set_index(df.iloc[:,0],inplace=True)\n",
        "df = df.iloc[:,1:] # eliminar primera columna y ultimas 3 filas\n",
        "df = df.T.reset_index()"
      ],
      "execution_count": null,
      "outputs": []
    },
    {
      "cell_type": "code",
      "metadata": {
        "id": "mz4BjQln522j"
      },
      "source": [
        "df"
      ],
      "execution_count": null,
      "outputs": []
    },
    {
      "cell_type": "code",
      "metadata": {
        "id": "F4o4M3ypvo3f"
      },
      "source": [
        "# PARA EXTRAER AÑO DE COLUMNA INDEX\n",
        "df['index'] = df['index'].astype(str).str.replace('\\(p\\)','')\n",
        "df['index'] = df['index'].str.replace('^0.[0-9]','nan')      # reemplaza los numeros decimales regex que empiece por 0. y le siga cualquier num\n",
        "df['index'] = df['index'].str.replace('^0$','nan')    # reemplaza toda fila con 0 como unico digito\n",
        "df['index'] = pd.to_numeric(df['index'],errors='coerce').ffill().astype(int)"
      ],
      "execution_count": null,
      "outputs": []
    },
    {
      "cell_type": "code",
      "metadata": {
        "id": "v7sdukvsRs16"
      },
      "source": [
        "df['fecha'] = df['index'].astype(str) +'-'+ df[0].str.lower().map(mes3) # columna fecha\n",
        "df.set_index('fecha',inplace=True)\n",
        "df.rename(columns={df.columns[2]:'Bolivia'},inplace=True)"
      ],
      "execution_count": null,
      "outputs": []
    },
    {
      "cell_type": "code",
      "metadata": {
        "id": "LQ1zRqkIyq-c"
      },
      "source": [
        "imaela = imaela.merge(df['Bolivia'],how='left',left_index=True,right_index=True)"
      ],
      "execution_count": null,
      "outputs": []
    },
    {
      "cell_type": "code",
      "metadata": {
        "id": "6I7hzo5PzbVu"
      },
      "source": [
        "imaela"
      ],
      "execution_count": null,
      "outputs": []
    },
    {
      "cell_type": "markdown",
      "metadata": {
        "id": "RvPeziE4yKSp"
      },
      "source": [
        "### **El Salvador**"
      ]
    },
    {
      "cell_type": "markdown",
      "metadata": {
        "id": "Wh_pe3gzyKn7"
      },
      "source": [
        "#### Publicaciones disponibles:\n",
        "\n",
        "2. 28 Feb - Lunes\n",
        "3. 31 Mar\n",
        "4. 29 Abr\n",
        "5. 31 May\n",
        " \n"
      ]
    },
    {
      "cell_type": "code",
      "metadata": {
        "id": "8alkW5c2hy9Y"
      },
      "source": [
        "from selenium import webdriver\n",
        "pagina = 'https://www.bcr.gob.sv/bcrsite/?cdr=174&lang=es'"
      ],
      "execution_count": null,
      "outputs": []
    },
    {
      "cell_type": "code",
      "metadata": {
        "id": "NWamVXLxyc0M"
      },
      "source": [
        "##### **Otra forma de selenium**\n",
        "chrome_options = webdriver.ChromeOptions()\n",
        "chrome_options.add_argument('--headless')\n",
        "chrome_options.add_argument('--no-sandbox')\n",
        "chrome_options.add_argument('--disable-dev-shm-usage')\n",
        "wdsv = webdriver.Chrome('chromedriver',options=chrome_options)\n",
        "wdsv.get(pagina)"
      ],
      "execution_count": null,
      "outputs": []
    },
    {
      "cell_type": "code",
      "metadata": {
        "id": "9px3ggN5QDEO"
      },
      "source": [
        " #BC El Salvador\n",
        "\n",
        "# Clicks pertinentes para llegar a la tabla con indices imae SV\n",
        "wdsv.find_element(By.CLASS_NAME,'linkBtnNaranja').click() # ejecutar consulta"
      ],
      "execution_count": null,
      "outputs": []
    },
    {
      "cell_type": "code",
      "metadata": {
        "id": "5gGn-qhWeWkA"
      },
      "source": [
        "# PARA EXTRAER LOS VALORES DE LOS INDICES\n",
        "\n",
        "tr = wdsv.find_element(By.ID,'tbl_setValores')\n",
        "data = tr.find_element(By.TAG_NAME,'tr')\n",
        "indices_salvador = pd.to_numeric(data.text.split(' ')) \n",
        "\n",
        "\n",
        "# PARA EXTRAER LAS FECHAS PARA EL MERGE\n",
        "soupsv = BeautifulSoup(wdsv.page_source,'html.parser')\n",
        "anios_sv = soupsv.find_all('td', style='text-align:center')\n",
        "mes_sv = soupsv.find_all('center')\n",
        "\n",
        "fecha1 = [anios_sv[i].text for i in range(len(anios_sv))] # lista con años \n",
        "fecha2 = [mes_sv[i].text.replace(' ','')[:3] for i in range(1,len(mes_sv))] # lista con meses en formato mmm\n",
        "\n",
        "fecha=[]\n",
        "for i in fecha1:\n",
        "  for j in range(1,13):\n",
        "    fecha.append(i + \"-\" + meses_dict[j])"
      ],
      "execution_count": null,
      "outputs": []
    },
    {
      "cell_type": "code",
      "metadata": {
        "id": "rSf17gXWVPDm"
      },
      "source": [
        "# CREAR DF\n",
        "elsv = pd.DataFrame(index = fecha,columns=['sv'])\n",
        "for i in range(len(indices_salvador)):\n",
        "  elsv.sv[i] = indices_salvador[i]\n",
        "\n",
        "imaela['El Salvador'] = elsv.loc[imaela.index] # reemplazar valor en la tabla imaela\n",
        "\n",
        "elsv.loc[imaela.index][-3:]"
      ],
      "execution_count": null,
      "outputs": []
    },
    {
      "cell_type": "markdown",
      "metadata": {
        "id": "MkoUi_tal0ST"
      },
      "source": [
        "### **Paraguay**"
      ]
    },
    {
      "cell_type": "code",
      "metadata": {
        "id": "vVlkRWfZIPOT"
      },
      "source": [
        "url = 'https://www.bcp.gov.py/indicador-mensual-de-actividad-economica-del-paraguay-imaep-i471'\n",
        "urlpy = 'https://www.bcp.gov.py/anexo-estadistico-del-informe-economico-i365'\n",
        "#the URL where you are requesting at\n",
        "import ssl\n",
        "ssl._create_default_https_context = ssl._create_unverified_context\n",
        "req = urllib2.Request(url=urlpy, headers=header) \n",
        "page = urllib2.urlopen(req).read()"
      ],
      "execution_count": null,
      "outputs": []
    },
    {
      "cell_type": "code",
      "source": [
        "wdpy = webdriver.Chrome('chromedriver',options=chrome_options)\n",
        "wdpy.get(urlpy)"
      ],
      "metadata": {
        "id": "68nAa-x406Yj"
      },
      "execution_count": null,
      "outputs": []
    },
    {
      "cell_type": "code",
      "source": [
        "souppy = BeautifulSoup(wdpy.page_source,'lxml')\n",
        "links = [a['href'] for a in souppy.select(\"a[href*=.xlsx]\")] # extraemos links que contengan .xlsx\n",
        " # ultimos link disponibles\n",
        "links"
      ],
      "metadata": {
        "id": "xKXrWPAF1BgP"
      },
      "execution_count": null,
      "outputs": []
    },
    {
      "cell_type": "code",
      "metadata": {
        "id": "0E0h9YIBnMNc"
      },
      "source": [
        "url2py = 'https://www.bcp.gov.py/' + links[0]\n",
        "req2 = requests.get(url2py, headers = header)  # nueva forma de descargar excel file de pagina de py\n",
        "# urllib2.urlretrieve(url2py, \"py.xlsx\")"
      ],
      "execution_count": null,
      "outputs": []
    },
    {
      "cell_type": "code",
      "metadata": {
        "id": "U1ymdV2Nnxqz"
      },
      "source": [
        "import datetime\n",
        "dfpy = pd.read_excel(req2.content,sheet_name='CUADRO 9',header=9).iloc[:-3,1:] # con limpieza iloc CUADRO 9 es IMAEP\n",
        "dfpy.rename(columns={dfpy.columns[1]:\"Paraguay\"},inplace=True)"
      ],
      "execution_count": null,
      "outputs": []
    },
    {
      "cell_type": "code",
      "metadata": {
        "id": "LljSTskosyzQ"
      },
      "source": [
        "# FECHA COLUMNA\n",
        "dfpy['A'] = pd.DatetimeIndex(dfpy[dfpy.columns[0]]).year\n",
        "dfpy['M'] = pd.DatetimeIndex(dfpy[dfpy.columns[0]]).month.map(meses_dict)\n",
        "dfpy['fecha'] = dfpy.A.astype(str) + \"-\" + dfpy.M.astype(str)\n",
        "dfpy.set_index('fecha',inplace=True)"
      ],
      "execution_count": null,
      "outputs": []
    },
    {
      "cell_type": "code",
      "metadata": {
        "id": "lNtQ0lHVwFZA"
      },
      "source": [
        "imaela = imaela.merge(dfpy['Paraguay'],how='left',left_index=True,right_index=True)"
      ],
      "execution_count": null,
      "outputs": []
    },
    {
      "cell_type": "code",
      "metadata": {
        "id": "IrxgZGGjszCe"
      },
      "source": [
        "imaela"
      ],
      "execution_count": null,
      "outputs": []
    },
    {
      "cell_type": "markdown",
      "metadata": {
        "id": "CRClNJVemnbZ"
      },
      "source": [
        "\n",
        "url2 = 'https://www.bcp.gov.py/' + links[0] # -(numero mes)\n",
        "opener = urllib2.build_opener()\n",
        "opener.addheaders = [('User-agent', 'Mozilla/5.0')]\n",
        "urllib2.install_opener(opener)\n",
        "urllib2.urlretrieve(url2, \"py.pdf\")\n",
        "\n",
        "\n"
      ]
    },
    {
      "cell_type": "markdown",
      "metadata": {
        "id": "SDFvEycum4Ek"
      },
      "source": [
        "'With pdf file\n",
        "\n",
        "with fitz.open(\"py.pdf\") as doc:\n",
        "    text = \"\"\n",
        "    for page in doc:\n",
        "        text += page.get_text()\n",
        "\n",
        "fechapy = text.split(' |',2)[1] # con el espacio\n",
        "fechapy = fechapy.split(' ')[1] +'-'+fechapy.split(' ')[0]"
      ]
    },
    {
      "cell_type": "markdown",
      "metadata": {
        "id": "yVnR8BwV6iJ3"
      },
      "source": [
        "Debido a que las tasas son iguales en Enero\n",
        "\n",
        "if 'Enero' not in fechapy:\n",
        "  valorpyinteranual = re.findall(r'[0-9]+,[0-9]+',text)[0] # para obtener tasa interanual          el regex sirve para buscar los registros numericos separados por coma\n",
        "  valorpyacum = re.findall(r'[0-9]+,[0-9]+',text)[1] # para obtener tasa acumulada interanual\n",
        "  valorpyinteranual = float(valorpyinteranual.replace(',','.'))\n",
        "  valorpyacum = float(valorpyacum.replace(',','.'))\n",
        "else:\n",
        "   valorpyinteranual = re.findall(r'[0-9]+,[0-9]+',text)[0]\n",
        "   valorpyinteranual = float(valorpyinteranual.replace(',','.'))\n",
        "   valorpyacum = valorpyinteranual\n",
        "\n",
        "print(fechapy)\n",
        "print(valorpyinteranual,' Tasa interanual')\n",
        "print(valorpyacum, ' Tasa acumulada interanual')"
      ]
    },
    {
      "cell_type": "markdown",
      "metadata": {
        "id": "byRPPvf83emR"
      },
      "source": [
        "\n",
        "py = pd.DataFrame({'Fecha':['2021-Enero','2021-Febrero','2021-Marzo','2021-Abril','2021-Mayo','2021-Junio','2021-Julio','2021-Agosto','2021-Septiembre','2021-Octubre','2021-Noviembre','2021-Diciembre'],\n",
        "                   'Paraguay_a':[-5.6,-3.0,0.7,4.7,6.3,6.3,6.0,5.7,0,0,0,0],\n",
        "                   'Paraguay_i':[-5.6,-0.5,8.0,19.3,12.4,6.6,3.0,4.2,0,0,0,0]})\n",
        "py.index = py.Fecha\n",
        "dic = {'Fecha':fechapy,'Paraguay_a':valorpyacum,'Paraguay_i':valorpyinteranual}\n",
        "py.loc[fechapy] = [fechapy,valorpyacum,valorpyinteranual]\n",
        "py"
      ]
    },
    {
      "cell_type": "code",
      "metadata": {
        "id": "NQebYfFSdDiq"
      },
      "source": [
        "imaela['a'] = [imaela.index.str.split('-')[i][0] for i in range(len(imaela.index))]\n",
        "imaela = imaela.apply(pd.to_numeric)"
      ],
      "execution_count": null,
      "outputs": []
    },
    {
      "cell_type": "code",
      "metadata": {
        "id": "2oc-F4Au1Q0L"
      },
      "source": [
        "# Crecimiento interanual\n",
        "imaela1 = imaela.pct_change(12,fill_method=None)*100\n",
        "imaela1.dropna(how='all',inplace=True) # NAs drop\n",
        "imaela1.drop('a',axis=1,inplace=True)"
      ],
      "execution_count": null,
      "outputs": []
    },
    {
      "cell_type": "code",
      "metadata": {
        "id": "LwGtvH2Ve9nI"
      },
      "source": [
        "# Crecimiento acumulado interanual\n",
        "imaela2 = imaela.groupby('a').cumsum().pct_change(12,fill_method=None)*100\n",
        "imaela2.dropna(how='all',inplace=True) # NAs drop"
      ],
      "execution_count": null,
      "outputs": []
    },
    {
      "cell_type": "code",
      "metadata": {
        "id": "WT1VOTCo_u0Z"
      },
      "source": [
        "#!pip install selenium\n",
        "#!apt-get update # to update ubuntu to correctly run apt install\n",
        "#!apt install chromium-chromedriver\n",
        "#!cp /usr/lib/chromium-browser/chromedriver /usr/bin\n",
        "#import sys\n",
        "#sys.path.insert(0,'/usr/lib/chromium-browser/chromedriver')\n",
        "#from selenium import webdriver\n",
        "#chrome_options = webdriver.ChromeOptions()\n",
        "#chrome_options.add_argument('--headless')\n",
        "#chrome_options.add_argument('--no-sandbox')\n",
        "#chrome_options.add_argument('--disable-dev-shm-usage')\n",
        "#wd = webdriver.Chrome('chromedriver',chrome_options=chrome_options)"
      ],
      "execution_count": null,
      "outputs": []
    },
    {
      "cell_type": "markdown",
      "metadata": {
        "id": "1UD90WE2qzru"
      },
      "source": [
        "### **Colombia**"
      ]
    },
    {
      "cell_type": "markdown",
      "metadata": {
        "id": "wrivlZivMI7U"
      },
      "source": [
        "#### Publicaciones disponibles las fechas: \n",
        "1. 15 Feb\n",
        "2. 18 Mar\n",
        "3. 18 Abr\n",
        "4. 16 May\n",
        "5. 17 Jun\n",
        "6. 18 Jul\n",
        "7. 16 Ago\n",
        "8. 19 Sep"
      ]
    },
    {
      "cell_type": "markdown",
      "source": [
        "wd.get(url1)\n",
        "wd.page_source\n",
        "!pip install fake_useragent\n",
        "from fake_useragent import UserAgent\n",
        "ua = UserAgent()\n",
        "print(ua.chrome)\n",
        "print(ua.random)\n",
        "url = 'https://www.dane.gov.co/index.php/estadisticas-por-tema/cuentas-nacionales/indicador-de-seguimiento-a-la-economia-ise/historicos-ise-comunicados-y-boletines'\n",
        "url1 = 'https://www.dane.gov.co/index.php/estadisticas-por-tema/cuentas-nacionales/indicador-de-seguimiento-a-la-economia-ise'\n",
        "\n",
        "header_col = {'authority': 'www.dane.gov.co', 'method': 'GET', 'path': '/index.php/estadisticas-por-tema/cuentas-nacionales/indicador-de-seguimiento-a-la-economia-ise',\n",
        "'scheme': 'https', 'accept': 'text/html,application/xhtml+xml,application/xml;q=0.9,image/avif,image/webp,image/apng,*/*;q=0.8,application/signed-exchange;v=b3;q=0.9',\n",
        "'referer':'https://www.dane.gov.co/index.php/estadisticas-por-tema/cuentas-nacionales/indicador-de-seguimiento-a-la-economia-ise',\n",
        "'accept-encoding': 'gzip, deflate, br',\n",
        "'accept-language': 'es-ES,es;q=0.9',\n",
        "'cache-control': 'max-age=0',\n",
        "'cookie': '_ga=GA1.3.1467282597.1625839173; _ga_T3L41X6043=GS1.1.1632235276.4.0.1632235284.0; ec1d9c9ecb5c2f4ef7998e3e52b19fdf=bvqfvrh7p0e0kgp1vf8bg29s68; _gid=GA1.3.2105323501.1637672614',\n",
        "'sec-ch-ua': '\"Google Chrome\";v=\"95\", \"Chromium\";v=\"95\", \";Not A Brand\";v=\"99\"',\n",
        "'sec-ch-ua-mobile': '?0',\n",
        "'sec-ch-ua-platform': \"Windows\",\n",
        "'sec-fetch-dest': 'document',\n",
        "'sec-fetch-mode': 'navigate',\n",
        "'sec-fetch-site': 'none',\n",
        "'sec-fetch-user': '?1',\n",
        "'upgrade-insecure-requests':' 1',\n",
        "'user-agent': str(ua.random)}\n",
        "\n",
        "req = urllib2.Request(url=url1, headers=header_col) \n",
        "page = urllib2.urlopen(req).read()\n",
        "\n",
        "soupco = BeautifulSoup(page,'lxml')\n",
        "links = [a['href'] for a in soupco.select(\"a[href*=21.xlsx]\")] # extraemos links que contengan 21.xlsx \n",
        " #### ultimos link disponibles\n",
        "links\n",
        "url2 = 'https://www.dane.gov.co' + links[0] # si esta el nuevo mes restarle 1 al indice de links\n",
        "url3 = 'https://www.dane.gov.co/files/investigaciones/boletines/pib/Anex_ISE_9actividades_sep_21.xlsx'\n",
        "####urllib2.urlretrieve(url2, \"colombia.xlsx\")\n",
        "urllib2.urlretrieve(url3, \"colombia.xlsx\",)\n",
        "df = pd.read_excel('colombia.xlsx',sheet_name='Cuadro 1',header=9)[0:16].T\n",
        "df.columns = df.iloc[0]\n",
        "df = df.iloc[:,[0,1,-1]].reset_index(drop=True)[1:]\n",
        "df.tail(1)"
      ],
      "metadata": {
        "id": "PmmhxvXg7dBN"
      }
    },
    {
      "cell_type": "markdown",
      "source": [
        "df['ano'] = df.Concepto.ffill().astype(str).str.replace('pr','').str.replace('p','')\n",
        "df['Colombia'] = round(pd.to_numeric(df.loc[:,df.columns[-2]]),2)\n",
        "df.index = df.ano.astype(str) + '-' + df.iloc[:,1].astype(str) "
      ],
      "metadata": {
        "id": "akDz1zRARQPg"
      }
    },
    {
      "cell_type": "markdown",
      "source": [
        "imaela = imaela.merge(df['Colombia'],how='left',left_index=True,right_index=True)"
      ],
      "metadata": {
        "id": "mOvRCtr1SP3H"
      }
    },
    {
      "cell_type": "markdown",
      "metadata": {
        "id": "VKQm4sO8CBgy"
      },
      "source": [
        "##### PDF"
      ]
    },
    {
      "cell_type": "markdown",
      "metadata": {
        "id": "NCAIe-IytrnA"
      },
      "source": [
        "df = np.array(tb.read_pdf('colombia.pdf',pages = '17',stream=True,multiple_tables=True,pandas_options={'header':None}))\n",
        "dco = pd.DataFrame(df.reshape(-1,4))\n",
        "dco = dco.loc[:,0:2]\n",
        "dco.tail(1)"
      ]
    },
    {
      "cell_type": "markdown",
      "metadata": {
        "id": "oIjcg_Hy3mLe"
      },
      "source": [
        "dco[3] = dco[2].str.split(' ',expand=True)[0] # Tomando las tasas de crecimiento de la tabla pdf\n",
        "dco.rename(columns={1:'Colombia'},inplace=True)\n",
        "dco['Colombia1'] = pd.to_numeric(dco[3].str.replace(',','.'),errors='coerce')  #Convirtiendo la data a numero\n",
        "dco['Colombia'] = pd.to_numeric(dco['Colombia'].str.replace(',','.'),errors='coerce')"
      ]
    },
    {
      "cell_type": "markdown",
      "metadata": {
        "id": "1Za65saE00xD"
      },
      "source": [
        "split = dco[0].str.split(' - ')     # extraer mes \n",
        "fech = []\n",
        "for i in range(len(split)):\n",
        "  if type(split[i]) == float:\n",
        "    fech.append('0')\n",
        "  elif len(split[i]) == 1 :\n",
        "    fech.append(str(split[i][0]))\n",
        "  else:\n",
        "    fech.append(str(split[i][1].capitalize()))"
      ]
    },
    {
      "cell_type": "markdown",
      "metadata": {
        "id": "7sx55Q3v7F_L"
      },
      "source": [
        "anof=[]                          # extraer año\n",
        "for i in range(len(split)):\n",
        "  if type(split[i]) == float:\n",
        "    anof.append('0')\n",
        "  elif len(split[i]) > 1 :\n",
        "    anof.append(str(split[i][0]))\n",
        "  else:\n",
        "    anof.append(np.nan)"
      ]
    },
    {
      "cell_type": "markdown",
      "metadata": {
        "id": "E0FtIhm29EdE"
      },
      "source": [
        "dco['mes'] = fech\n",
        "dco['ano'] = anof\n",
        "dco['ano'] = dco.ano.replace(['p','r',' '],['','',''],regex=True).ffill()\n",
        "dco.index = dco['ano'] + '-' + dco['mes'] # creamos indice"
      ]
    },
    {
      "cell_type": "markdown",
      "metadata": {
        "id": "851yN-m_mxAi"
      },
      "source": [
        "## imae\n"
      ]
    },
    {
      "cell_type": "code",
      "metadata": {
        "id": "tCeHYsHPRaAP"
      },
      "source": [
        "# imaela.drop('a',axis=1,inplace=True)\n",
        "imaela.drop('a',axis=1,inplace=True)"
      ],
      "execution_count": null,
      "outputs": []
    },
    {
      "cell_type": "code",
      "metadata": {
        "id": "VWC8U8QApa6w",
        "colab": {
          "base_uri": "https://localhost:8080/",
          "height": 112
        },
        "outputId": "4ceb9436-7c1c-4587-c8b1-951cc02033c7"
      },
      "source": [
        "imaela.tail(2)"
      ],
      "execution_count": null,
      "outputs": [
        {
          "output_type": "execute_result",
          "data": {
            "text/html": [
              "\n",
              "  <div id=\"df-b5f0b7b8-dac4-4919-ad8c-3d7a8300bb05\">\n",
              "    <div class=\"colab-df-container\">\n",
              "      <div>\n",
              "<style scoped>\n",
              "    .dataframe tbody tr th:only-of-type {\n",
              "        vertical-align: middle;\n",
              "    }\n",
              "\n",
              "    .dataframe tbody tr th {\n",
              "        vertical-align: top;\n",
              "    }\n",
              "\n",
              "    .dataframe thead th {\n",
              "        text-align: right;\n",
              "    }\n",
              "</style>\n",
              "<table border=\"1\" class=\"dataframe\">\n",
              "  <thead>\n",
              "    <tr style=\"text-align: right;\">\n",
              "      <th></th>\n",
              "      <th>Costa Rica</th>\n",
              "      <th>El Salvador</th>\n",
              "      <th>Guatemala</th>\n",
              "      <th>Honduras</th>\n",
              "      <th>Nicaragua</th>\n",
              "      <th>República Dominicana</th>\n",
              "      <th>Panamá</th>\n",
              "      <th>Argentina</th>\n",
              "      <th>Brasil</th>\n",
              "      <th>México</th>\n",
              "      <th>Perú</th>\n",
              "      <th>Chile</th>\n",
              "      <th>Ecuador</th>\n",
              "      <th>Bolivia</th>\n",
              "    </tr>\n",
              "  </thead>\n",
              "  <tbody>\n",
              "    <tr>\n",
              "      <th>2021-Octubre</th>\n",
              "      <td>111.45</td>\n",
              "      <td>110.98</td>\n",
              "      <td>131.36</td>\n",
              "      <td>267.44</td>\n",
              "      <td>161.08</td>\n",
              "      <td>192.15</td>\n",
              "      <td>366.56</td>\n",
              "      <td>140.53</td>\n",
              "      <td>137.63</td>\n",
              "      <td>108.41</td>\n",
              "      <td>178.96</td>\n",
              "      <td>124.696158</td>\n",
              "      <td>176.086450</td>\n",
              "      <td>NaN</td>\n",
              "    </tr>\n",
              "    <tr>\n",
              "      <th>2021-Noviembre</th>\n",
              "      <td>116.41</td>\n",
              "      <td>NaN</td>\n",
              "      <td>135.29</td>\n",
              "      <td>265.80</td>\n",
              "      <td>168.49</td>\n",
              "      <td>204.89</td>\n",
              "      <td>370.39</td>\n",
              "      <td>145.39</td>\n",
              "      <td>138.66</td>\n",
              "      <td>112.75</td>\n",
              "      <td>176.96</td>\n",
              "      <td>130.944118</td>\n",
              "      <td>173.361612</td>\n",
              "      <td>NaN</td>\n",
              "    </tr>\n",
              "  </tbody>\n",
              "</table>\n",
              "</div>\n",
              "      <button class=\"colab-df-convert\" onclick=\"convertToInteractive('df-b5f0b7b8-dac4-4919-ad8c-3d7a8300bb05')\"\n",
              "              title=\"Convert this dataframe to an interactive table.\"\n",
              "              style=\"display:none;\">\n",
              "        \n",
              "  <svg xmlns=\"http://www.w3.org/2000/svg\" height=\"24px\"viewBox=\"0 0 24 24\"\n",
              "       width=\"24px\">\n",
              "    <path d=\"M0 0h24v24H0V0z\" fill=\"none\"/>\n",
              "    <path d=\"M18.56 5.44l.94 2.06.94-2.06 2.06-.94-2.06-.94-.94-2.06-.94 2.06-2.06.94zm-11 1L8.5 8.5l.94-2.06 2.06-.94-2.06-.94L8.5 2.5l-.94 2.06-2.06.94zm10 10l.94 2.06.94-2.06 2.06-.94-2.06-.94-.94-2.06-.94 2.06-2.06.94z\"/><path d=\"M17.41 7.96l-1.37-1.37c-.4-.4-.92-.59-1.43-.59-.52 0-1.04.2-1.43.59L10.3 9.45l-7.72 7.72c-.78.78-.78 2.05 0 2.83L4 21.41c.39.39.9.59 1.41.59.51 0 1.02-.2 1.41-.59l7.78-7.78 2.81-2.81c.8-.78.8-2.07 0-2.86zM5.41 20L4 18.59l7.72-7.72 1.47 1.35L5.41 20z\"/>\n",
              "  </svg>\n",
              "      </button>\n",
              "      \n",
              "  <style>\n",
              "    .colab-df-container {\n",
              "      display:flex;\n",
              "      flex-wrap:wrap;\n",
              "      gap: 12px;\n",
              "    }\n",
              "\n",
              "    .colab-df-convert {\n",
              "      background-color: #E8F0FE;\n",
              "      border: none;\n",
              "      border-radius: 50%;\n",
              "      cursor: pointer;\n",
              "      display: none;\n",
              "      fill: #1967D2;\n",
              "      height: 32px;\n",
              "      padding: 0 0 0 0;\n",
              "      width: 32px;\n",
              "    }\n",
              "\n",
              "    .colab-df-convert:hover {\n",
              "      background-color: #E2EBFA;\n",
              "      box-shadow: 0px 1px 2px rgba(60, 64, 67, 0.3), 0px 1px 3px 1px rgba(60, 64, 67, 0.15);\n",
              "      fill: #174EA6;\n",
              "    }\n",
              "\n",
              "    [theme=dark] .colab-df-convert {\n",
              "      background-color: #3B4455;\n",
              "      fill: #D2E3FC;\n",
              "    }\n",
              "\n",
              "    [theme=dark] .colab-df-convert:hover {\n",
              "      background-color: #434B5C;\n",
              "      box-shadow: 0px 1px 3px 1px rgba(0, 0, 0, 0.15);\n",
              "      filter: drop-shadow(0px 1px 2px rgba(0, 0, 0, 0.3));\n",
              "      fill: #FFFFFF;\n",
              "    }\n",
              "  </style>\n",
              "\n",
              "      <script>\n",
              "        const buttonEl =\n",
              "          document.querySelector('#df-b5f0b7b8-dac4-4919-ad8c-3d7a8300bb05 button.colab-df-convert');\n",
              "        buttonEl.style.display =\n",
              "          google.colab.kernel.accessAllowed ? 'block' : 'none';\n",
              "\n",
              "        async function convertToInteractive(key) {\n",
              "          const element = document.querySelector('#df-b5f0b7b8-dac4-4919-ad8c-3d7a8300bb05');\n",
              "          const dataTable =\n",
              "            await google.colab.kernel.invokeFunction('convertToInteractive',\n",
              "                                                     [key], {});\n",
              "          if (!dataTable) return;\n",
              "\n",
              "          const docLinkHtml = 'Like what you see? Visit the ' +\n",
              "            '<a target=\"_blank\" href=https://colab.research.google.com/notebooks/data_table.ipynb>data table notebook</a>'\n",
              "            + ' to learn more about interactive tables.';\n",
              "          element.innerHTML = '';\n",
              "          dataTable['output_type'] = 'display_data';\n",
              "          await google.colab.output.renderOutput(dataTable, element);\n",
              "          const docLink = document.createElement('div');\n",
              "          docLink.innerHTML = docLinkHtml;\n",
              "          element.appendChild(docLink);\n",
              "        }\n",
              "      </script>\n",
              "    </div>\n",
              "  </div>\n",
              "  "
            ],
            "text/plain": [
              "                Costa Rica  El Salvador  ...     Ecuador  Bolivia\n",
              "2021-Octubre        111.45       110.98  ...  176.086450      NaN\n",
              "2021-Noviembre      116.41          NaN  ...  173.361612      NaN\n",
              "\n",
              "[2 rows x 14 columns]"
            ]
          },
          "metadata": {},
          "execution_count": 66
        }
      ]
    },
    {
      "cell_type": "code",
      "metadata": {
        "id": "aPbNJ1eyIKiv",
        "cellView": "form",
        "colab": {
          "base_uri": "https://localhost:8080/",
          "height": 17
        },
        "outputId": "3b7e2ecf-64a0-4e8f-c31b-9764a7d0eebc"
      },
      "source": [
        "#@title Descarga a Excel\n",
        "writer = pd.ExcelWriter('imae_latam.xlsx', engine='xlsxwriter')\n",
        "\n",
        "imaela1.to_excel(writer, sheet_name='Interanual')\n",
        "imaela2.to_excel(writer, sheet_name='Acumulado')\n",
        "imaela.to_excel(writer, sheet_name='Indices - Serie Original')\n",
        "writer.save()\n",
        "\n",
        "files.download(\"imae_latam.xlsx\")"
      ],
      "execution_count": null,
      "outputs": [
        {
          "output_type": "display_data",
          "data": {
            "application/javascript": [
              "\n",
              "    async function download(id, filename, size) {\n",
              "      if (!google.colab.kernel.accessAllowed) {\n",
              "        return;\n",
              "      }\n",
              "      const div = document.createElement('div');\n",
              "      const label = document.createElement('label');\n",
              "      label.textContent = `Downloading \"${filename}\": `;\n",
              "      div.appendChild(label);\n",
              "      const progress = document.createElement('progress');\n",
              "      progress.max = size;\n",
              "      div.appendChild(progress);\n",
              "      document.body.appendChild(div);\n",
              "\n",
              "      const buffers = [];\n",
              "      let downloaded = 0;\n",
              "\n",
              "      const channel = await google.colab.kernel.comms.open(id);\n",
              "      // Send a message to notify the kernel that we're ready.\n",
              "      channel.send({})\n",
              "\n",
              "      for await (const message of channel.messages) {\n",
              "        // Send a message to notify the kernel that we're ready.\n",
              "        channel.send({})\n",
              "        if (message.buffers) {\n",
              "          for (const buffer of message.buffers) {\n",
              "            buffers.push(buffer);\n",
              "            downloaded += buffer.byteLength;\n",
              "            progress.value = downloaded;\n",
              "          }\n",
              "        }\n",
              "      }\n",
              "      const blob = new Blob(buffers, {type: 'application/binary'});\n",
              "      const a = document.createElement('a');\n",
              "      a.href = window.URL.createObjectURL(blob);\n",
              "      a.download = filename;\n",
              "      div.appendChild(a);\n",
              "      a.click();\n",
              "      div.remove();\n",
              "    }\n",
              "  "
            ],
            "text/plain": [
              "<IPython.core.display.Javascript object>"
            ]
          },
          "metadata": {}
        },
        {
          "output_type": "display_data",
          "data": {
            "application/javascript": [
              "download(\"download_d5980600-1412-4195-ae94-89a00410ce4e\", \"imae_latam.xlsx\", 32180)"
            ],
            "text/plain": [
              "<IPython.core.display.Javascript object>"
            ]
          },
          "metadata": {}
        }
      ]
    },
    {
      "cell_type": "code",
      "metadata": {
        "id": "fRnNN0VxUxeA",
        "cellView": "form"
      },
      "source": [
        "#@title Bar\n",
        "f, ax = plt.subplots(figsize=(20, 8))\n",
        "sns.barplot(data=imaela.iloc[-1:,:]);"
      ],
      "execution_count": null,
      "outputs": []
    },
    {
      "cell_type": "code",
      "metadata": {
        "id": "0HYQImNIAxf6",
        "cellView": "form"
      },
      "source": [
        "#@title Interanual Mes Anterior\n",
        "f, ax = plt.subplots(figsize=(18, 8))\n",
        "df = pd.melt(imaela1.iloc[-2:-1,:]).sort_values('value',ascending=False) \n",
        "sns.barplot(data = df ,x='value',y='variable',\n",
        "                palette=['r' if y =='República Dominicana' else '#0343DF' for y in df.variable])\n",
        "for p in ax.patches:\n",
        "    width = p.get_width()    # get bar length\n",
        "    ax.text(width+0.2,       # set the text at 0.2 unit right of the bar\n",
        "            p.get_y() + p.get_height() / 2, # get Y coordinate + X coordinate / 2\n",
        "            '{:1.2f}'.format(width), # set variable to display, 2 decimals\n",
        "            ha = 'left',   # horizontal alignment\n",
        "            va = 'center', weight=\"bold\") # vertical alignment\n",
        "plt.title('IMAE LATAM \\n Crecimiento Interanual (%) {}'.format(imaela.index[-2]),weight='bold');"
      ],
      "execution_count": null,
      "outputs": []
    },
    {
      "cell_type": "code",
      "metadata": {
        "id": "AXWRoqQueTtV",
        "cellView": "form"
      },
      "source": [
        "#@title Acumulado Interanual Mes Anterior\n",
        "f, ax = plt.subplots(figsize=(18, 8))\n",
        "df = pd.melt(imaela2.iloc[-2:-1,:]).sort_values('value',ascending=False) \n",
        "sns.barplot(data = df ,x='value',y='variable',\n",
        "                palette=['r' if y =='República Dominicana' else '#0343DF' for y in df.variable])\n",
        "for p in ax.patches:\n",
        "    width = p.get_width()    # get bar length\n",
        "    ax.text(width+0.2,       # set the text at 0.2 unit right of the bar\n",
        "            p.get_y() + p.get_height() / 2, # get Y coordinate + X coordinate / 2\n",
        "            '{:1.2f}'.format(width), # set variable to display, 2 decimals\n",
        "            ha = 'left',   # horizontal alignment\n",
        "            va = 'center', weight=\"bold\") # vertical alignment\n",
        "plt.title('IMAE LATAM \\n Crecimiento Acumulado Interanual (%) a {}'.format(imaela.index[-2]) ,weight='bold');"
      ],
      "execution_count": null,
      "outputs": []
    },
    {
      "cell_type": "code",
      "metadata": {
        "id": "LOhjJvf2M908",
        "cellView": "form"
      },
      "source": [
        "#@title Interanual Ultimo Mes\n",
        "f, ax = plt.subplots(figsize=(18, 8))\n",
        "df = pd.melt(imaela1.iloc[-1:,:].dropna(axis=1)).sort_values('value',ascending=False) \n",
        "sns.barplot(data = df ,x='value',y='variable',\n",
        "                palette=['r' if y =='República Dominicana' else '#0343DF' for y in df.variable])\n",
        "for p in ax.patches:\n",
        "    width = p.get_width()    # get bar length\n",
        "    ax.text(width+0.2,       # set the text at 0.2 unit right of the bar\n",
        "            p.get_y() + p.get_height() / 2, # get Y coordinate + X coordinate / 2\n",
        "            '{:1.2f}'.format(width), # set variable to display, 2 decimals\n",
        "            ha = 'left',   # horizontal alignment\n",
        "            va = 'center', weight=\"bold\") # vertical alignment\n",
        "plt.title('IMAE LATAM \\n Crecimiento Interanual (%) {}'.format(imaela.index[-1]),weight='bold')\n",
        ";"
      ],
      "execution_count": null,
      "outputs": []
    },
    {
      "cell_type": "code",
      "metadata": {
        "id": "fyL78uQDM2ib",
        "cellView": "form"
      },
      "source": [
        "#@title Acumulado Interanual Ultimo Mes\n",
        "f, ax = plt.subplots(figsize=(18, 8))\n",
        "df = pd.melt(imaela2.iloc[-1:,:].dropna(axis=1)).sort_values('value',ascending=False) \n",
        "sns.barplot(data = df ,x='value',y='variable',\n",
        "                palette=['r' if y =='República Dominicana' else '#0343DF' for y in df.variable])\n",
        "for p in ax.patches:\n",
        "    width = p.get_width()    # get bar length\n",
        "    ax.text(width+0.2,       # set the text at 0.2 unit right of the bar\n",
        "            p.get_y() + p.get_height() / 2, # get Y coordinate + X coordinate / 2\n",
        "            '{:1.2f}'.format(width), # set variable to display, 2 decimals\n",
        "            ha = 'left',   # horizontal alignment\n",
        "            va = 'center', weight=\"bold\") # vertical alignment\n",
        "plt.title('IMAE LATAM \\n Crecimiento Acumulado Interanual (%) a {}'.format(imaela.index[-1]) ,weight='bold');"
      ],
      "execution_count": null,
      "outputs": []
    }
  ]
}