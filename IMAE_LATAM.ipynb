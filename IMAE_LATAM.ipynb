{
  "nbformat": 4,
  "nbformat_minor": 0,
  "metadata": {
    "colab": {
      "name": "IMAE LATAM.ipynb",
      "provenance": [],
      "collapsed_sections": [
        "pdxAyDPTJJzP",
        "mng9xQCphxaK",
        "USJ5m_3XS6ji",
        "YlZNkOc6pfVo",
        "MkoUi_tal0ST",
        "A2MSTFg45f_H",
        "rSOwOPisI0mw"
      ],
      "authorship_tag": "ABX9TyM5kw50fZgZy2V0vkXwpWS2",
      "include_colab_link": true
    },
    "kernelspec": {
      "name": "python3",
      "display_name": "Python 3"
    },
    "language_info": {
      "name": "python"
    }
  },
  "cells": [
    {
      "cell_type": "markdown",
      "metadata": {
        "id": "view-in-github",
        "colab_type": "text"
      },
      "source": [
        "<a href=\"https://colab.research.google.com/github/samyff12/LATAM/blob/main/IMAE_LATAM.ipynb\" target=\"_parent\"><img src=\"https://colab.research.google.com/assets/colab-badge.svg\" alt=\"Open In Colab\"/></a>"
      ]
    },
    {
      "cell_type": "code",
      "metadata": {
        "id": "yLpBS1jxRJUa"
      },
      "source": [
        "from bs4 import BeautifulSoup\n",
        "import pandas as pd\n",
        "import numpy as np\n",
        "import requests"
      ],
      "execution_count": null,
      "outputs": []
    },
    {
      "cell_type": "code",
      "metadata": {
        "id": "7NNHXzvKYJ2D"
      },
      "source": [
        "#html = requests.get('http://www.secmca.org/chart/?parent=Producci%C3%B3n&scid=2&cid=1&scsid=0&son=%C3%8Dndice%20Mensual%20de%20la%20Actividad%20Econ%C3%B3mica&url=11/14/3-13-50-17-4-52-161/39/265/19-258/444/' +\n",
        " #                   '20211-20212-20213-20214-20215-20216-20217-20218-20219-202110-202111-202112-20221-20222-20223-20224-20225-20226-20227-20228-20229-202210-202211-202212' +\n",
        " #                   '-&all_vars=2|IMAE,%20variaci%C3%B3n%20interanual')\n",
        "#soup = BeautifulSoup(html.text,'lxml')\n",
        "#table = soup.find_all('p', class_='text-right')\n",
        "#tablec = soup.find_all('th', colspan='1')\n",
        "\n",
        "#indicadores=[]\n",
        "#paises =[]\n",
        "#for i in range(len(table)):\n",
        " # ind = float(table[i].text)\n",
        "#  pais = tablec[i].text\n",
        "#  indicadores.append(ind)\n",
        " # paises.append(pais)\n",
        "\n",
        "#imae_latam =  pd.DataFrame(indicadores,index = paises,columns = ['IMAE'])\n",
        "#print(f'IMAE a {fecha}')\n",
        "#imae_latam"
      ],
      "execution_count": null,
      "outputs": []
    },
    {
      "cell_type": "code",
      "metadata": {
        "id": "Uz9LSti34_nA"
      },
      "source": [
        "meses = [0,[1,'Enero'],[2,'Febrero'],[3,'Marzo'],[4,'Abril'],[5,'Mayo'],[6,'Junio'],[7,'Julio'],[8,'Agosto'],\n",
        "         [9,'Septiembre'],[10,'Octubre'],[11,'Noviembre'],[12,'Diciembre']]\n",
        "mes3 = {'ene':'Enero','feb':'Febrero','mar':'Marzo','abr':'Abril','may':'Mayo','jun':'Junio','jul':'Julio',\n",
        "        'ago':'Agosto','sep':'Septiembre','oct':'Octubre','nov':'Noviembre','dic':'Diciembre'}\n",
        "\n",
        "### import calendar\n",
        "\n",
        "# d = dict((v,k) for k,v in enumerate(calendar.month_abbr))\n",
        "# d"
      ],
      "execution_count": null,
      "outputs": []
    },
    {
      "cell_type": "markdown",
      "metadata": {
        "id": "982BPh5jk93l"
      },
      "source": [
        "## Para obtener las series de todo el año 2021-2022\n"
      ]
    },
    {
      "cell_type": "markdown",
      "metadata": {
        "id": "pdxAyDPTJJzP"
      },
      "source": [
        "### **SECMCA**"
      ]
    },
    {
      "cell_type": "code",
      "metadata": {
        "id": "zyl75FG7ZOym"
      },
      "source": [
        "html = requests.get('http://www.secmca.org/chart/?parent=Producci%C3%B3n&scid=2&cid=1&scsid=0&son=%C3%8Dndice%20Mensual%20de%20la%20Actividad%20Econ%C3%B3mica&url=11/14/3-13-50-17-4-52-161/39/265/19-258/444/' +\n",
        "                    '20211-20212-20213-20214-20215-20216-20217-20218-20219-202110-202111-202112-20221-20222-20223-20224-20225-20226-20227-20228-20229-202210-202211-202212' +\n",
        "                    '-&all_vars=2|IMAE,%20variaci%C3%B3n%20interanual').text\n",
        "soup = BeautifulSoup(html,'lxml')"
      ],
      "execution_count": null,
      "outputs": []
    },
    {
      "cell_type": "code",
      "metadata": {
        "id": "HZYnwfqqr7tE",
        "colab": {
          "base_uri": "https://localhost:8080/",
          "height": 35
        },
        "outputId": "dbba63e6-a851-4740-afa6-29c6565b3f6a"
      },
      "source": [
        "import re\n",
        "tabpais = soup.find_all('th', colspan='1')\n",
        "table = soup.find_all('p', class_='text-left')\n",
        "fechas = []\n",
        "paises =[]\n",
        "for i in range(len(table)):\n",
        "  x = re.sub(\" \",\"\",table[i].text)\n",
        "  fechas.append(x.replace(\"\\n\",\"\"))\n",
        "  pais = tabpais[i].text\n",
        "  #indicadores.append(ind)\n",
        "  paises.append(pais)\n",
        "fechas[-1]"
      ],
      "execution_count": null,
      "outputs": [
        {
          "output_type": "execute_result",
          "data": {
            "application/vnd.google.colaboratory.intrinsic+json": {
              "type": "string"
            },
            "text/plain": [
              "'2021-Julio'"
            ]
          },
          "metadata": {},
          "execution_count": 10
        }
      ]
    },
    {
      "cell_type": "code",
      "metadata": {
        "id": "sCY1EzkcvFfD"
      },
      "source": [
        "table1 = soup.find_all('p', class_='text-right')\n",
        "matriz = np.array([])\n",
        "for i in table1:\n",
        "  matriz = np.array(np.append(matriz,i))\n",
        "matriz = np.where(matriz==\"--\", np.nan, matriz).astype(np.float)\n",
        "matriz = matriz.reshape(-1,7) # 7 paises\n",
        "imaeLA = pd.DataFrame(matriz,index=fechas,columns=paises)\n",
        "imaeLA"
      ],
      "execution_count": null,
      "outputs": []
    },
    {
      "cell_type": "markdown",
      "metadata": {
        "id": "mng9xQCphxaK"
      },
      "source": [
        "### **Argentina**"
      ]
    },
    {
      "cell_type": "code",
      "metadata": {
        "id": "8lHpEj4I7Kkk"
      },
      "source": [
        "import urllib\n",
        "url = \"https://www.indec.gob.ar/ftp/cuadros/economia/sh_emae_mensual_base2004.xls\"\n",
        "urllib.request.urlretrieve(url, \"test.xls\")\n",
        "data = pd.read_excel('test.xls',header=2)\n",
        "data1 = data.iloc[:,:4].dropna(subset = ['Período'])\n",
        "data1.reset_index(drop=True,inplace=True)\n",
        "data1['Unnamed: 0'] = data1['Unnamed: 0'].ffill() # forward fill"
      ],
      "execution_count": null,
      "outputs": []
    },
    {
      "cell_type": "code",
      "metadata": {
        "id": "AEop9VIOYe7t"
      },
      "source": [
        "data1['fecha'] = data1['Unnamed: 0'].astype('str') +\"-\"+ data1['Período']\n",
        "data1.set_index(data1.fecha,inplace=True)\n",
        "imaeLA = pd.merge(imaeLA,data1.iloc[:,3],how='left',left_index=True,right_index=True)\n",
        "imaeLA.columns = [*imaeLA.columns[:-1], 'Argentina']\n",
        "#imaeLA"
      ],
      "execution_count": null,
      "outputs": []
    },
    {
      "cell_type": "markdown",
      "metadata": {
        "id": "USJ5m_3XS6ji"
      },
      "source": [
        "### **Brasil**"
      ]
    },
    {
      "cell_type": "code",
      "metadata": {
        "id": "A6-HZYuyofz0",
        "colab": {
          "base_uri": "https://localhost:8080/",
          "height": 111
        },
        "outputId": "7ba2aa62-74f7-4ec0-ebbb-6ab1a78b7452"
      },
      "source": [
        "urljson = \"https://api.bcb.gov.br/dados/serie/bcdata.sgs.24363/dados?formato=json\"\n",
        "urllib.request.urlretrieve(urljson, \"test.json\")\n",
        "bra = pd.read_json('test.json')\n",
        "bra['Brasil'] = bra.valor.pct_change(12)*100 # calculo tasa de crecimiento\n",
        "bra['date'] = pd.to_datetime(bra['data'],format='%d/%m/%Y') # transformamos a formato fecha\n",
        "# Creamos indice\n",
        "bra['fecha'] = pd.DatetimeIndex(bra['date']).year.astype(str) +\"-\"+pd.DatetimeIndex(bra['date']).month.astype(str)\n",
        "\n",
        "nombre_mes = [meses[i][1] for i in pd.DatetimeIndex(bra['date']).month.tolist()] # obtenemos nombre del mes\n",
        "bra['fecha'] = pd.DatetimeIndex(bra['date']).year.astype(str) +\"-\"+ nombre_mes # creamos indice\n",
        "bra.set_index(bra.fecha,inplace=True) #reemplazamos indice\n",
        "\n",
        "imaela = pd.merge(imaeLA,bra['Brasil'],how='left',left_index=True,right_index=True) # combinamos la data\n",
        "bra.tail(1)"
      ],
      "execution_count": null,
      "outputs": [
        {
          "output_type": "execute_result",
          "data": {
            "text/html": [
              "<div>\n",
              "<style scoped>\n",
              "    .dataframe tbody tr th:only-of-type {\n",
              "        vertical-align: middle;\n",
              "    }\n",
              "\n",
              "    .dataframe tbody tr th {\n",
              "        vertical-align: top;\n",
              "    }\n",
              "\n",
              "    .dataframe thead th {\n",
              "        text-align: right;\n",
              "    }\n",
              "</style>\n",
              "<table border=\"1\" class=\"dataframe\">\n",
              "  <thead>\n",
              "    <tr style=\"text-align: right;\">\n",
              "      <th></th>\n",
              "      <th>data</th>\n",
              "      <th>valor</th>\n",
              "      <th>Brasil</th>\n",
              "      <th>date</th>\n",
              "      <th>fecha</th>\n",
              "    </tr>\n",
              "    <tr>\n",
              "      <th>fecha</th>\n",
              "      <th></th>\n",
              "      <th></th>\n",
              "      <th></th>\n",
              "      <th></th>\n",
              "      <th></th>\n",
              "    </tr>\n",
              "  </thead>\n",
              "  <tbody>\n",
              "    <tr>\n",
              "      <th>2021-Junio</th>\n",
              "      <td>01/06/2021</td>\n",
              "      <td>137.59</td>\n",
              "      <td>9.068569</td>\n",
              "      <td>2021-06-01</td>\n",
              "      <td>2021-Junio</td>\n",
              "    </tr>\n",
              "  </tbody>\n",
              "</table>\n",
              "</div>"
            ],
            "text/plain": [
              "                  data   valor    Brasil       date       fecha\n",
              "fecha                                                          \n",
              "2021-Junio  01/06/2021  137.59  9.068569 2021-06-01  2021-Junio"
            ]
          },
          "metadata": {},
          "execution_count": 347
        }
      ]
    },
    {
      "cell_type": "code",
      "metadata": {
        "id": "h4acdL1yTJx8"
      },
      "source": [
        "# imaela"
      ],
      "execution_count": null,
      "outputs": []
    },
    {
      "cell_type": "markdown",
      "metadata": {
        "id": "YlZNkOc6pfVo"
      },
      "source": [
        "### **Mexico**"
      ]
    },
    {
      "cell_type": "code",
      "metadata": {
        "id": "G9quLL-jpnVD"
      },
      "source": [
        "url = \"https://www.inegi.org.mx/contenidos/temas/economia/cn/igae/tabulados/ori/IGAE_2.xlsx\"\n",
        "urllib.request.urlretrieve(url, \"test.xlsx\")\n",
        "mex = pd.read_excel('test.xlsx',header=3,nrows=3)\n",
        "mex = mex.T.reset_index(drop=True) # transponemos y estandarizamos el indice\n",
        "mex.drop(0,inplace=True) # borramos primera fila\n",
        "mex[2] = round(mex[2].astype(float),2) # leyendo tasas de crecimiento en el formato numerico y redondeando\n",
        "mex[0] = mex[0].ffill()"
      ],
      "execution_count": null,
      "outputs": []
    },
    {
      "cell_type": "code",
      "metadata": {
        "id": "LJzHJQ0Pq7Kc",
        "colab": {
          "base_uri": "https://localhost:8080/",
          "height": 80
        },
        "outputId": "1798c0c5-c50d-4292-921f-6abb56b51d2e"
      },
      "source": [
        "mex[1] = mex[1].replace(['oR','oP','lR','lP','eR','eP'],['o','o','l','l','e','e'], regex=True) #limpiar superindices \"Revisado\" \"Preliminar\"\n",
        "mex[0] = mex[0].replace('P','',regex=True) # limpiar preliminar de fecha\n",
        "mex.index = mex[0].astype('str') +\"-\"+ mex[1] #creamos indice para base de datos\n",
        "mex.columns = [*mex.columns[:-1], 'México'] # nombramos columna\n",
        "mex.dropna().tail(1) # mostrar ultimo valor no nulo"
      ],
      "execution_count": null,
      "outputs": [
        {
          "output_type": "execute_result",
          "data": {
            "text/html": [
              "<div>\n",
              "<style scoped>\n",
              "    .dataframe tbody tr th:only-of-type {\n",
              "        vertical-align: middle;\n",
              "    }\n",
              "\n",
              "    .dataframe tbody tr th {\n",
              "        vertical-align: top;\n",
              "    }\n",
              "\n",
              "    .dataframe thead th {\n",
              "        text-align: right;\n",
              "    }\n",
              "</style>\n",
              "<table border=\"1\" class=\"dataframe\">\n",
              "  <thead>\n",
              "    <tr style=\"text-align: right;\">\n",
              "      <th></th>\n",
              "      <th>0</th>\n",
              "      <th>1</th>\n",
              "      <th>México</th>\n",
              "    </tr>\n",
              "  </thead>\n",
              "  <tbody>\n",
              "    <tr>\n",
              "      <th>2021-Junio</th>\n",
              "      <td>2021</td>\n",
              "      <td>Junio</td>\n",
              "      <td>13.32</td>\n",
              "    </tr>\n",
              "  </tbody>\n",
              "</table>\n",
              "</div>"
            ],
            "text/plain": [
              "               0      1  México\n",
              "2021-Junio  2021  Junio   13.32"
            ]
          },
          "metadata": {},
          "execution_count": 17
        }
      ]
    },
    {
      "cell_type": "code",
      "metadata": {
        "id": "QIx6594i6eEt"
      },
      "source": [
        "imaela = round(pd.merge(imaela,mex['México'],how='left',left_index=True,right_index=True),2) # combinamos las series"
      ],
      "execution_count": null,
      "outputs": []
    },
    {
      "cell_type": "code",
      "metadata": {
        "id": "I8pV0b3HUrjM"
      },
      "source": [
        "# imaela"
      ],
      "execution_count": null,
      "outputs": []
    },
    {
      "cell_type": "code",
      "metadata": {
        "id": "2XyzaBWtpn_0"
      },
      "source": [
        "## link excel\n",
        "#https://www.inegi.org.mx/contenidos/temas/economia/cn/igae/tabulados/ori/IGAE_1.xlsx       indice\n",
        "\n",
        "#https://www.inegi.org.mx/contenidos/temas/economia/cn/igae/tabulados/ori/IGAE_2.xlsx       crecimiento"
      ],
      "execution_count": null,
      "outputs": []
    },
    {
      "cell_type": "markdown",
      "metadata": {
        "id": "MkoUi_tal0ST"
      },
      "source": [
        "### **Paraguay**"
      ]
    },
    {
      "cell_type": "code",
      "metadata": {
        "id": "CRClNJVemnbZ",
        "colab": {
          "base_uri": "https://localhost:8080/"
        },
        "outputId": "9c775fcd-f8cb-41d1-a4fd-c49c5366d501"
      },
      "source": [
        "html_paraguay = requests.get('https://www.bcp.gov.py/indicador-mensual-de-actividad-economica-del-paraguay-imaep-i471').text\n",
        "soup_py = BeautifulSoup(html_paraguay,'lxml')\n",
        "soup_py"
      ],
      "execution_count": null,
      "outputs": [
        {
          "output_type": "execute_result",
          "data": {
            "text/plain": [
              "<!DOCTYPE HTML PUBLIC \"-//IETF//DTD HTML 2.0//EN\">\n",
              "<html><head>\n",
              "<title>403 Forbidden</title>\n",
              "</head><body>\n",
              "<h1>Forbidden</h1>\n",
              "<p>You don't have permission to access /indicador-mensual-de-actividad-economica-del-paraguay-imaep-i471\n",
              "on this server.</p>\n",
              "</body></html>"
            ]
          },
          "metadata": {},
          "execution_count": 21
        }
      ]
    },
    {
      "cell_type": "code",
      "metadata": {
        "id": "WT1VOTCo_u0Z",
        "colab": {
          "base_uri": "https://localhost:8080/"
        },
        "outputId": "d1308fc7-333e-467a-e315-f4454a5817a4"
      },
      "source": [
        "!pip install selenium\n",
        "!apt-get update # to update ubuntu to correctly run apt install\n",
        "!apt install chromium-chromedriver\n",
        "!cp /usr/lib/chromium-browser/chromedriver /usr/bin\n",
        "import sys\n",
        "sys.path.insert(0,'/usr/lib/chromium-browser/chromedriver')\n",
        "from selenium import webdriver\n",
        "chrome_options = webdriver.ChromeOptions()\n",
        "chrome_options.add_argument('--headless')\n",
        "chrome_options.add_argument('--no-sandbox')\n",
        "chrome_options.add_argument('--disable-dev-shm-usage')\n",
        "wd = webdriver.Chrome('chromedriver',chrome_options=chrome_options)"
      ],
      "execution_count": null,
      "outputs": [
        {
          "output_type": "stream",
          "name": "stdout",
          "text": [
            "Collecting selenium\n",
            "  Downloading selenium-3.141.0-py2.py3-none-any.whl (904 kB)\n",
            "\u001b[?25l\r\u001b[K     |▍                               | 10 kB 21.3 MB/s eta 0:00:01\r\u001b[K     |▊                               | 20 kB 10.9 MB/s eta 0:00:01\r\u001b[K     |█                               | 30 kB 8.6 MB/s eta 0:00:01\r\u001b[K     |█▌                              | 40 kB 7.8 MB/s eta 0:00:01\r\u001b[K     |█▉                              | 51 kB 4.1 MB/s eta 0:00:01\r\u001b[K     |██▏                             | 61 kB 4.3 MB/s eta 0:00:01\r\u001b[K     |██▌                             | 71 kB 4.5 MB/s eta 0:00:01\r\u001b[K     |███                             | 81 kB 5.0 MB/s eta 0:00:01\r\u001b[K     |███▎                            | 92 kB 3.8 MB/s eta 0:00:01\r\u001b[K     |███▋                            | 102 kB 4.1 MB/s eta 0:00:01\r\u001b[K     |████                            | 112 kB 4.1 MB/s eta 0:00:01\r\u001b[K     |████▍                           | 122 kB 4.1 MB/s eta 0:00:01\r\u001b[K     |████▊                           | 133 kB 4.1 MB/s eta 0:00:01\r\u001b[K     |█████                           | 143 kB 4.1 MB/s eta 0:00:01\r\u001b[K     |█████▍                          | 153 kB 4.1 MB/s eta 0:00:01\r\u001b[K     |█████▉                          | 163 kB 4.1 MB/s eta 0:00:01\r\u001b[K     |██████▏                         | 174 kB 4.1 MB/s eta 0:00:01\r\u001b[K     |██████▌                         | 184 kB 4.1 MB/s eta 0:00:01\r\u001b[K     |██████▉                         | 194 kB 4.1 MB/s eta 0:00:01\r\u001b[K     |███████▎                        | 204 kB 4.1 MB/s eta 0:00:01\r\u001b[K     |███████▋                        | 215 kB 4.1 MB/s eta 0:00:01\r\u001b[K     |████████                        | 225 kB 4.1 MB/s eta 0:00:01\r\u001b[K     |████████▎                       | 235 kB 4.1 MB/s eta 0:00:01\r\u001b[K     |████████▊                       | 245 kB 4.1 MB/s eta 0:00:01\r\u001b[K     |█████████                       | 256 kB 4.1 MB/s eta 0:00:01\r\u001b[K     |█████████▍                      | 266 kB 4.1 MB/s eta 0:00:01\r\u001b[K     |█████████▉                      | 276 kB 4.1 MB/s eta 0:00:01\r\u001b[K     |██████████▏                     | 286 kB 4.1 MB/s eta 0:00:01\r\u001b[K     |██████████▌                     | 296 kB 4.1 MB/s eta 0:00:01\r\u001b[K     |██████████▉                     | 307 kB 4.1 MB/s eta 0:00:01\r\u001b[K     |███████████▎                    | 317 kB 4.1 MB/s eta 0:00:01\r\u001b[K     |███████████▋                    | 327 kB 4.1 MB/s eta 0:00:01\r\u001b[K     |████████████                    | 337 kB 4.1 MB/s eta 0:00:01\r\u001b[K     |████████████▎                   | 348 kB 4.1 MB/s eta 0:00:01\r\u001b[K     |████████████▊                   | 358 kB 4.1 MB/s eta 0:00:01\r\u001b[K     |█████████████                   | 368 kB 4.1 MB/s eta 0:00:01\r\u001b[K     |█████████████▍                  | 378 kB 4.1 MB/s eta 0:00:01\r\u001b[K     |█████████████▊                  | 389 kB 4.1 MB/s eta 0:00:01\r\u001b[K     |██████████████▏                 | 399 kB 4.1 MB/s eta 0:00:01\r\u001b[K     |██████████████▌                 | 409 kB 4.1 MB/s eta 0:00:01\r\u001b[K     |██████████████▉                 | 419 kB 4.1 MB/s eta 0:00:01\r\u001b[K     |███████████████▏                | 430 kB 4.1 MB/s eta 0:00:01\r\u001b[K     |███████████████▋                | 440 kB 4.1 MB/s eta 0:00:01\r\u001b[K     |████████████████                | 450 kB 4.1 MB/s eta 0:00:01\r\u001b[K     |████████████████▎               | 460 kB 4.1 MB/s eta 0:00:01\r\u001b[K     |████████████████▋               | 471 kB 4.1 MB/s eta 0:00:01\r\u001b[K     |█████████████████               | 481 kB 4.1 MB/s eta 0:00:01\r\u001b[K     |█████████████████▍              | 491 kB 4.1 MB/s eta 0:00:01\r\u001b[K     |█████████████████▊              | 501 kB 4.1 MB/s eta 0:00:01\r\u001b[K     |██████████████████▏             | 512 kB 4.1 MB/s eta 0:00:01\r\u001b[K     |██████████████████▌             | 522 kB 4.1 MB/s eta 0:00:01\r\u001b[K     |██████████████████▉             | 532 kB 4.1 MB/s eta 0:00:01\r\u001b[K     |███████████████████▏            | 542 kB 4.1 MB/s eta 0:00:01\r\u001b[K     |███████████████████▋            | 552 kB 4.1 MB/s eta 0:00:01\r\u001b[K     |████████████████████            | 563 kB 4.1 MB/s eta 0:00:01\r\u001b[K     |████████████████████▎           | 573 kB 4.1 MB/s eta 0:00:01\r\u001b[K     |████████████████████▋           | 583 kB 4.1 MB/s eta 0:00:01\r\u001b[K     |█████████████████████           | 593 kB 4.1 MB/s eta 0:00:01\r\u001b[K     |█████████████████████▍          | 604 kB 4.1 MB/s eta 0:00:01\r\u001b[K     |█████████████████████▊          | 614 kB 4.1 MB/s eta 0:00:01\r\u001b[K     |██████████████████████          | 624 kB 4.1 MB/s eta 0:00:01\r\u001b[K     |██████████████████████▌         | 634 kB 4.1 MB/s eta 0:00:01\r\u001b[K     |██████████████████████▉         | 645 kB 4.1 MB/s eta 0:00:01\r\u001b[K     |███████████████████████▏        | 655 kB 4.1 MB/s eta 0:00:01\r\u001b[K     |███████████████████████▌        | 665 kB 4.1 MB/s eta 0:00:01\r\u001b[K     |████████████████████████        | 675 kB 4.1 MB/s eta 0:00:01\r\u001b[K     |████████████████████████▎       | 686 kB 4.1 MB/s eta 0:00:01\r\u001b[K     |████████████████████████▋       | 696 kB 4.1 MB/s eta 0:00:01\r\u001b[K     |█████████████████████████       | 706 kB 4.1 MB/s eta 0:00:01\r\u001b[K     |█████████████████████████▍      | 716 kB 4.1 MB/s eta 0:00:01\r\u001b[K     |█████████████████████████▊      | 727 kB 4.1 MB/s eta 0:00:01\r\u001b[K     |██████████████████████████      | 737 kB 4.1 MB/s eta 0:00:01\r\u001b[K     |██████████████████████████▍     | 747 kB 4.1 MB/s eta 0:00:01\r\u001b[K     |██████████████████████████▉     | 757 kB 4.1 MB/s eta 0:00:01\r\u001b[K     |███████████████████████████▏    | 768 kB 4.1 MB/s eta 0:00:01\r\u001b[K     |███████████████████████████▌    | 778 kB 4.1 MB/s eta 0:00:01\r\u001b[K     |████████████████████████████    | 788 kB 4.1 MB/s eta 0:00:01\r\u001b[K     |████████████████████████████▎   | 798 kB 4.1 MB/s eta 0:00:01\r\u001b[K     |████████████████████████████▋   | 808 kB 4.1 MB/s eta 0:00:01\r\u001b[K     |█████████████████████████████   | 819 kB 4.1 MB/s eta 0:00:01\r\u001b[K     |█████████████████████████████▍  | 829 kB 4.1 MB/s eta 0:00:01\r\u001b[K     |█████████████████████████████▊  | 839 kB 4.1 MB/s eta 0:00:01\r\u001b[K     |██████████████████████████████  | 849 kB 4.1 MB/s eta 0:00:01\r\u001b[K     |██████████████████████████████▍ | 860 kB 4.1 MB/s eta 0:00:01\r\u001b[K     |██████████████████████████████▉ | 870 kB 4.1 MB/s eta 0:00:01\r\u001b[K     |███████████████████████████████▏| 880 kB 4.1 MB/s eta 0:00:01\r\u001b[K     |███████████████████████████████▌| 890 kB 4.1 MB/s eta 0:00:01\r\u001b[K     |███████████████████████████████▉| 901 kB 4.1 MB/s eta 0:00:01\r\u001b[K     |████████████████████████████████| 904 kB 4.1 MB/s \n",
            "\u001b[?25hRequirement already satisfied: urllib3 in /usr/local/lib/python3.7/dist-packages (from selenium) (1.24.3)\n",
            "Installing collected packages: selenium\n",
            "Successfully installed selenium-3.141.0\n",
            "Get:1 https://cloud.r-project.org/bin/linux/ubuntu bionic-cran40/ InRelease [3,626 B]\n",
            "Ign:2 https://developer.download.nvidia.com/compute/cuda/repos/ubuntu1804/x86_64  InRelease\n",
            "Get:3 http://security.ubuntu.com/ubuntu bionic-security InRelease [88.7 kB]\n",
            "Get:4 http://ppa.launchpad.net/c2d4u.team/c2d4u4.0+/ubuntu bionic InRelease [15.9 kB]\n",
            "Hit:5 http://archive.ubuntu.com/ubuntu bionic InRelease\n",
            "Ign:6 https://developer.download.nvidia.com/compute/machine-learning/repos/ubuntu1804/x86_64  InRelease\n",
            "Get:7 https://developer.download.nvidia.com/compute/cuda/repos/ubuntu1804/x86_64  Release [696 B]\n",
            "Hit:8 https://developer.download.nvidia.com/compute/machine-learning/repos/ubuntu1804/x86_64  Release\n",
            "Get:9 https://developer.download.nvidia.com/compute/cuda/repos/ubuntu1804/x86_64  Release.gpg [836 B]\n",
            "Get:10 http://archive.ubuntu.com/ubuntu bionic-updates InRelease [88.7 kB]\n",
            "Hit:12 http://ppa.launchpad.net/cran/libgit2/ubuntu bionic InRelease\n",
            "Get:13 https://developer.download.nvidia.com/compute/cuda/repos/ubuntu1804/x86_64  Packages [717 kB]\n",
            "Get:14 http://archive.ubuntu.com/ubuntu bionic-backports InRelease [74.6 kB]\n",
            "Hit:15 http://ppa.launchpad.net/deadsnakes/ppa/ubuntu bionic InRelease\n",
            "Get:16 http://security.ubuntu.com/ubuntu bionic-security/universe amd64 Packages [1,428 kB]\n",
            "Hit:17 http://ppa.launchpad.net/graphics-drivers/ppa/ubuntu bionic InRelease\n",
            "Get:18 http://archive.ubuntu.com/ubuntu bionic-updates/restricted amd64 Packages [594 kB]\n",
            "Get:19 http://ppa.launchpad.net/c2d4u.team/c2d4u4.0+/ubuntu bionic/main Sources [1,796 kB]\n",
            "Get:20 http://security.ubuntu.com/ubuntu bionic-security/restricted amd64 Packages [561 kB]\n",
            "Get:21 http://security.ubuntu.com/ubuntu bionic-security/main amd64 Packages [2,320 kB]\n",
            "Get:22 http://archive.ubuntu.com/ubuntu bionic-updates/universe amd64 Packages [2,202 kB]\n",
            "Get:23 http://archive.ubuntu.com/ubuntu bionic-updates/main amd64 Packages [2,755 kB]\n",
            "Get:24 http://ppa.launchpad.net/c2d4u.team/c2d4u4.0+/ubuntu bionic/main amd64 Packages [919 kB]\n",
            "Fetched 13.6 MB in 6s (2,228 kB/s)\n",
            "Reading package lists... Done\n",
            "Reading package lists... Done\n",
            "Building dependency tree       \n",
            "Reading state information... Done\n",
            "The following additional packages will be installed:\n",
            "  chromium-browser chromium-browser-l10n chromium-codecs-ffmpeg-extra\n",
            "Suggested packages:\n",
            "  webaccounts-chromium-extension unity-chromium-extension\n",
            "The following NEW packages will be installed:\n",
            "  chromium-browser chromium-browser-l10n chromium-chromedriver\n",
            "  chromium-codecs-ffmpeg-extra\n",
            "0 upgraded, 4 newly installed, 0 to remove and 45 not upgraded.\n",
            "Need to get 91.8 MB of archives.\n",
            "After this operation, 315 MB of additional disk space will be used.\n",
            "Get:1 http://archive.ubuntu.com/ubuntu bionic-updates/universe amd64 chromium-codecs-ffmpeg-extra amd64 92.0.4515.159-0ubuntu0.18.04.1 [1,124 kB]\n",
            "Get:2 http://archive.ubuntu.com/ubuntu bionic-updates/universe amd64 chromium-browser amd64 92.0.4515.159-0ubuntu0.18.04.1 [81.7 MB]\n",
            "Get:3 http://archive.ubuntu.com/ubuntu bionic-updates/universe amd64 chromium-browser-l10n all 92.0.4515.159-0ubuntu0.18.04.1 [4,026 kB]\n",
            "Get:4 http://archive.ubuntu.com/ubuntu bionic-updates/universe amd64 chromium-chromedriver amd64 92.0.4515.159-0ubuntu0.18.04.1 [4,902 kB]\n",
            "Fetched 91.8 MB in 10s (9,473 kB/s)\n",
            "Selecting previously unselected package chromium-codecs-ffmpeg-extra.\n",
            "(Reading database ... 148492 files and directories currently installed.)\n",
            "Preparing to unpack .../chromium-codecs-ffmpeg-extra_92.0.4515.159-0ubuntu0.18.04.1_amd64.deb ...\n",
            "Unpacking chromium-codecs-ffmpeg-extra (92.0.4515.159-0ubuntu0.18.04.1) ...\n",
            "Selecting previously unselected package chromium-browser.\n",
            "Preparing to unpack .../chromium-browser_92.0.4515.159-0ubuntu0.18.04.1_amd64.deb ...\n",
            "Unpacking chromium-browser (92.0.4515.159-0ubuntu0.18.04.1) ...\n",
            "Selecting previously unselected package chromium-browser-l10n.\n",
            "Preparing to unpack .../chromium-browser-l10n_92.0.4515.159-0ubuntu0.18.04.1_all.deb ...\n",
            "Unpacking chromium-browser-l10n (92.0.4515.159-0ubuntu0.18.04.1) ...\n",
            "Selecting previously unselected package chromium-chromedriver.\n",
            "Preparing to unpack .../chromium-chromedriver_92.0.4515.159-0ubuntu0.18.04.1_amd64.deb ...\n",
            "Unpacking chromium-chromedriver (92.0.4515.159-0ubuntu0.18.04.1) ...\n",
            "Setting up chromium-codecs-ffmpeg-extra (92.0.4515.159-0ubuntu0.18.04.1) ...\n",
            "Setting up chromium-browser (92.0.4515.159-0ubuntu0.18.04.1) ...\n",
            "update-alternatives: using /usr/bin/chromium-browser to provide /usr/bin/x-www-browser (x-www-browser) in auto mode\n",
            "update-alternatives: using /usr/bin/chromium-browser to provide /usr/bin/gnome-www-browser (gnome-www-browser) in auto mode\n",
            "Setting up chromium-chromedriver (92.0.4515.159-0ubuntu0.18.04.1) ...\n",
            "Setting up chromium-browser-l10n (92.0.4515.159-0ubuntu0.18.04.1) ...\n",
            "Processing triggers for man-db (2.8.3-2ubuntu0.1) ...\n",
            "Processing triggers for hicolor-icon-theme (0.17-2) ...\n",
            "Processing triggers for mime-support (3.60ubuntu1) ...\n",
            "Processing triggers for libc-bin (2.27-3ubuntu1.2) ...\n",
            "/sbin/ldconfig.real: /usr/local/lib/python3.7/dist-packages/ideep4py/lib/libmkldnn.so.0 is not a symbolic link\n",
            "\n",
            "cp: '/usr/lib/chromium-browser/chromedriver' and '/usr/bin/chromedriver' are the same file\n"
          ]
        },
        {
          "output_type": "stream",
          "name": "stderr",
          "text": [
            "/usr/local/lib/python3.7/dist-packages/ipykernel_launcher.py:12: DeprecationWarning: use options instead of chrome_options\n",
            "  if sys.path[0] == '':\n"
          ]
        }
      ]
    },
    {
      "cell_type": "markdown",
      "metadata": {
        "id": "A2MSTFg45f_H"
      },
      "source": [
        "### **Chile**"
      ]
    },
    {
      "cell_type": "code",
      "metadata": {
        "id": "bKL_VCs35h82"
      },
      "source": [
        "url = \"https://si3.bcentral.cl/estadisticas/Principal1/excel/CCNN/IMACEC/Excel/IMACEC.xlsx\"\n",
        "urllib.request.urlretrieve(url, \"chile.xlsx\")\n",
        "df = pd.read_excel('chile.xlsx',header=5,keep_default_na=False)"
      ],
      "execution_count": null,
      "outputs": []
    },
    {
      "cell_type": "code",
      "metadata": {
        "id": "Gv8NAd-xcUEZ",
        "colab": {
          "base_uri": "https://localhost:8080/",
          "height": 80
        },
        "outputId": "1c72b7ba-fff9-45c1-94fa-3ff4e8ba286f"
      },
      "source": [
        "chile = df.loc[1:,[df.columns[0],df.columns[1],'Imacec']][:-10] # excluimos las ultimas 10 filas (pie de pagina)\n",
        "chile.rename(columns = {'Imacec':'Chile'}, inplace = True) # renombramos\n",
        "chile.Chile = pd.to_numeric(chile.Chile).pct_change(12)*100\n",
        "###\n",
        "chile[chile.columns[0]] = pd.to_numeric(chile[chile.columns[0]], errors='coerce').ffill().bfill().astype(int)\n",
        " # las columnas del excel contienen string en blanco por lo que se transformaron a numero antes de hacer el forward fill\n",
        " # el backward fill es para asegurar que no quede NaN por detras y dificulte la creacion del indice\n",
        "###\n",
        "\n",
        "chile['mes'] = chile[chile.columns[1]].map(mes3).bfill() # creando mes y usando el bfill por el mismo motivo explicado arriba\n",
        "\n",
        "#Creamos el indice\n",
        "chile.index = chile[chile.columns[0]].astype('str') +\"-\"+ chile.mes\n",
        "\n",
        "chile.tail(1)"
      ],
      "execution_count": null,
      "outputs": [
        {
          "output_type": "execute_result",
          "data": {
            "text/html": [
              "<div>\n",
              "<style scoped>\n",
              "    .dataframe tbody tr th:only-of-type {\n",
              "        vertical-align: middle;\n",
              "    }\n",
              "\n",
              "    .dataframe tbody tr th {\n",
              "        vertical-align: top;\n",
              "    }\n",
              "\n",
              "    .dataframe thead th {\n",
              "        text-align: right;\n",
              "    }\n",
              "</style>\n",
              "<table border=\"1\" class=\"dataframe\">\n",
              "  <thead>\n",
              "    <tr style=\"text-align: right;\">\n",
              "      <th></th>\n",
              "      <th></th>\n",
              "      <th>Unnamed: 1</th>\n",
              "      <th>Chile</th>\n",
              "      <th>mes</th>\n",
              "    </tr>\n",
              "  </thead>\n",
              "  <tbody>\n",
              "    <tr>\n",
              "      <th>2021-Julio</th>\n",
              "      <td>2021</td>\n",
              "      <td>jul</td>\n",
              "      <td>18.075599</td>\n",
              "      <td>Julio</td>\n",
              "    </tr>\n",
              "  </tbody>\n",
              "</table>\n",
              "</div>"
            ],
            "text/plain": [
              "                 Unnamed: 1      Chile    mes\n",
              "2021-Julio  2021        jul  18.075599  Julio"
            ]
          },
          "metadata": {},
          "execution_count": 356
        }
      ]
    },
    {
      "cell_type": "code",
      "metadata": {
        "id": "euH3hfbWtab4"
      },
      "source": [
        "imaela = round(pd.merge(chile['Chile'],imaela,how='right',left_index=True,right_index=True,sort=True),2).reindex(imaela.index)"
      ],
      "execution_count": null,
      "outputs": []
    },
    {
      "cell_type": "code",
      "metadata": {
        "id": "6kQyvbAHrg2D",
        "colab": {
          "base_uri": "https://localhost:8080/",
          "height": 266
        },
        "outputId": "9e636a57-8c4f-4791-d777-daec75bbd894"
      },
      "source": [
        "imaela"
      ],
      "execution_count": null,
      "outputs": [
        {
          "output_type": "execute_result",
          "data": {
            "text/html": [
              "<div>\n",
              "<style scoped>\n",
              "    .dataframe tbody tr th:only-of-type {\n",
              "        vertical-align: middle;\n",
              "    }\n",
              "\n",
              "    .dataframe tbody tr th {\n",
              "        vertical-align: top;\n",
              "    }\n",
              "\n",
              "    .dataframe thead th {\n",
              "        text-align: right;\n",
              "    }\n",
              "</style>\n",
              "<table border=\"1\" class=\"dataframe\">\n",
              "  <thead>\n",
              "    <tr style=\"text-align: right;\">\n",
              "      <th></th>\n",
              "      <th>Chile</th>\n",
              "      <th>Costa Rica</th>\n",
              "      <th>El Salvador</th>\n",
              "      <th>Guatemala</th>\n",
              "      <th>Honduras</th>\n",
              "      <th>Nicaragua</th>\n",
              "      <th>República Dominicana</th>\n",
              "      <th>Panamá</th>\n",
              "      <th>Argentina</th>\n",
              "      <th>Brasil</th>\n",
              "      <th>México</th>\n",
              "    </tr>\n",
              "  </thead>\n",
              "  <tbody>\n",
              "    <tr>\n",
              "      <th>2021-Enero</th>\n",
              "      <td>-2.95</td>\n",
              "      <td>-6.29</td>\n",
              "      <td>-1.52</td>\n",
              "      <td>1.94</td>\n",
              "      <td>-5.81</td>\n",
              "      <td>0.90</td>\n",
              "      <td>-1.81</td>\n",
              "      <td>-14.63</td>\n",
              "      <td>-2.03</td>\n",
              "      <td>-1.13</td>\n",
              "      <td>-5.54</td>\n",
              "    </tr>\n",
              "    <tr>\n",
              "      <th>2021-Febrero</th>\n",
              "      <td>-2.02</td>\n",
              "      <td>-4.94</td>\n",
              "      <td>-0.79</td>\n",
              "      <td>2.59</td>\n",
              "      <td>-3.09</td>\n",
              "      <td>1.77</td>\n",
              "      <td>1.08</td>\n",
              "      <td>-9.73</td>\n",
              "      <td>-2.30</td>\n",
              "      <td>0.12</td>\n",
              "      <td>-5.09</td>\n",
              "    </tr>\n",
              "    <tr>\n",
              "      <th>2021-Marzo</th>\n",
              "      <td>6.22</td>\n",
              "      <td>3.35</td>\n",
              "      <td>9.78</td>\n",
              "      <td>10.14</td>\n",
              "      <td>13.52</td>\n",
              "      <td>7.95</td>\n",
              "      <td>10.60</td>\n",
              "      <td>-6.03</td>\n",
              "      <td>11.92</td>\n",
              "      <td>5.30</td>\n",
              "      <td>0.83</td>\n",
              "    </tr>\n",
              "    <tr>\n",
              "      <th>2021-Abril</th>\n",
              "      <td>14.58</td>\n",
              "      <td>12.39</td>\n",
              "      <td>28.08</td>\n",
              "      <td>15.22</td>\n",
              "      <td>26.97</td>\n",
              "      <td>15.13</td>\n",
              "      <td>47.13</td>\n",
              "      <td>21.27</td>\n",
              "      <td>29.36</td>\n",
              "      <td>16.52</td>\n",
              "      <td>22.34</td>\n",
              "    </tr>\n",
              "    <tr>\n",
              "      <th>2021-Mayo</th>\n",
              "      <td>19.18</td>\n",
              "      <td>12.70</td>\n",
              "      <td>31.10</td>\n",
              "      <td>16.30</td>\n",
              "      <td>30.54</td>\n",
              "      <td>15.78</td>\n",
              "      <td>21.21</td>\n",
              "      <td>34.21</td>\n",
              "      <td>13.59</td>\n",
              "      <td>14.15</td>\n",
              "      <td>25.13</td>\n",
              "    </tr>\n",
              "    <tr>\n",
              "      <th>2021-Junio</th>\n",
              "      <td>20.61</td>\n",
              "      <td>8.37</td>\n",
              "      <td>21.52</td>\n",
              "      <td>13.89</td>\n",
              "      <td>20.93</td>\n",
              "      <td>16.70</td>\n",
              "      <td>12.73</td>\n",
              "      <td>24.91</td>\n",
              "      <td>10.82</td>\n",
              "      <td>9.07</td>\n",
              "      <td>13.32</td>\n",
              "    </tr>\n",
              "    <tr>\n",
              "      <th>2021-Julio</th>\n",
              "      <td>18.08</td>\n",
              "      <td>NaN</td>\n",
              "      <td>NaN</td>\n",
              "      <td>NaN</td>\n",
              "      <td>NaN</td>\n",
              "      <td>NaN</td>\n",
              "      <td>12.05</td>\n",
              "      <td>NaN</td>\n",
              "      <td>NaN</td>\n",
              "      <td>NaN</td>\n",
              "      <td>NaN</td>\n",
              "    </tr>\n",
              "  </tbody>\n",
              "</table>\n",
              "</div>"
            ],
            "text/plain": [
              "              Chile  Costa Rica  El Salvador  ...  Argentina  Brasil  México\n",
              "2021-Enero    -2.95       -6.29        -1.52  ...      -2.03   -1.13   -5.54\n",
              "2021-Febrero  -2.02       -4.94        -0.79  ...      -2.30    0.12   -5.09\n",
              "2021-Marzo     6.22        3.35         9.78  ...      11.92    5.30    0.83\n",
              "2021-Abril    14.58       12.39        28.08  ...      29.36   16.52   22.34\n",
              "2021-Mayo     19.18       12.70        31.10  ...      13.59   14.15   25.13\n",
              "2021-Junio    20.61        8.37        21.52  ...      10.82    9.07   13.32\n",
              "2021-Julio    18.08         NaN          NaN  ...        NaN     NaN     NaN\n",
              "\n",
              "[7 rows x 11 columns]"
            ]
          },
          "metadata": {},
          "execution_count": 350
        }
      ]
    },
    {
      "cell_type": "markdown",
      "metadata": {
        "id": "rSOwOPisI0mw"
      },
      "source": [
        "### **Ecuador**"
      ]
    },
    {
      "cell_type": "code",
      "metadata": {
        "id": "sscszb2Zd1gv"
      },
      "source": [
        "!pip install tabula-py\n",
        "import tabula as tb"
      ],
      "execution_count": null,
      "outputs": []
    },
    {
      "cell_type": "code",
      "metadata": {
        "id": "ok4gz6V3nbeh",
        "colab": {
          "base_uri": "https://localhost:8080/"
        },
        "outputId": "f2637373-5cc5-4270-cb5c-d5c68d4400a6"
      },
      "source": [
        "url = 'https://contenido.bce.fin.ec/documentos/Estadisticas/SectorReal/Previsiones/IDEAC'+ input() +'.pdf'\n",
        "urllib.request.urlretrieve(url, \"ecuador.pdf\")"
      ],
      "execution_count": null,
      "outputs": [
        {
          "name": "stdout",
          "output_type": "stream",
          "text": [
            "35\n"
          ]
        },
        {
          "output_type": "execute_result",
          "data": {
            "text/plain": [
              "('ecuador.pdf', <http.client.HTTPMessage at 0x7f2abe85af50>)"
            ]
          },
          "metadata": {},
          "execution_count": 224
        }
      ]
    },
    {
      "cell_type": "code",
      "metadata": {
        "id": "wrBNeqzd4se-"
      },
      "source": [
        "df = np.array(tb.read_pdf('ecuador.pdf',pages = '5',stream=True,multiple_tables=True,pandas_options={'header':None}))\n",
        "dff = pd.DataFrame(df.reshape(-1,5)) # en 2022 el reshape debe ser (-1,6)"
      ],
      "execution_count": null,
      "outputs": []
    },
    {
      "cell_type": "code",
      "metadata": {
        "id": "DYqsQgFR-FOz"
      },
      "source": [
        "dff[dff.iloc[3,2].split(' ')] = dff[2].str.split(' ',expand=True)\n",
        "if dff.iloc[3,3] in range(2020,2040,1):\n",
        "  dff[int(dff.iloc[3,3])] = dff[3]\n",
        "  dff[int(dff.iloc[3,4])] = dff[4]\n",
        "else:\n",
        "  dff[int(dff.iloc[3,4])] = dff[4]"
      ],
      "execution_count": null,
      "outputs": []
    },
    {
      "cell_type": "code",
      "metadata": {
        "colab": {
          "base_uri": "https://localhost:8080/",
          "height": 111
        },
        "id": "nOgS6gZj_kOg",
        "outputId": "16da6fa1-c3e3-4ba4-f193-bfa688dc4c7e"
      },
      "source": [
        "if dff.iloc[18,0] in ['Ene']:\n",
        "    ecu = dff.iloc[18:30,[0,-3,-2,-1]].reset_index(drop=True)\n",
        "else:\n",
        "    ecu = dff.iloc[19:31,[0,-3,-2,-1]].reset_index(drop=True)\n",
        " \n",
        "ecu['interanualAnterior'] = ecu.iloc[:,-2].astype(float)/ecu.iloc[:,-3].astype(float)*100-100\n",
        "ecu['Ecuador'] = ecu.iloc[:,-2].astype(float)/ecu.iloc[:,-3].astype(float)*100-100\n",
        "\n",
        "listames = [meses[1:][i][1] for i in range(len(meses[1:]))]\n",
        "ecu['mes'] = listames\n",
        "\n",
        "ecu.index = str(ecu.columns[-4]) + '-' + ecu.mes\n",
        "ecu.dropna().tail(1)"
      ],
      "execution_count": null,
      "outputs": [
        {
          "output_type": "execute_result",
          "data": {
            "text/html": [
              "<div>\n",
              "<style scoped>\n",
              "    .dataframe tbody tr th:only-of-type {\n",
              "        vertical-align: middle;\n",
              "    }\n",
              "\n",
              "    .dataframe tbody tr th {\n",
              "        vertical-align: top;\n",
              "    }\n",
              "\n",
              "    .dataframe thead th {\n",
              "        text-align: right;\n",
              "    }\n",
              "</style>\n",
              "<table border=\"1\" class=\"dataframe\">\n",
              "  <thead>\n",
              "    <tr style=\"text-align: right;\">\n",
              "      <th></th>\n",
              "      <th>0</th>\n",
              "      <th>2019</th>\n",
              "      <th>2020</th>\n",
              "      <th>2021</th>\n",
              "      <th>interanualAnterior</th>\n",
              "      <th>Ecuador</th>\n",
              "      <th>mes</th>\n",
              "    </tr>\n",
              "    <tr>\n",
              "      <th>mes</th>\n",
              "      <th></th>\n",
              "      <th></th>\n",
              "      <th></th>\n",
              "      <th></th>\n",
              "      <th></th>\n",
              "      <th></th>\n",
              "      <th></th>\n",
              "    </tr>\n",
              "  </thead>\n",
              "  <tbody>\n",
              "    <tr>\n",
              "      <th>2021-Junio</th>\n",
              "      <td>Jun</td>\n",
              "      <td>156.82</td>\n",
              "      <td>132.60</td>\n",
              "      <td>153.73</td>\n",
              "      <td>-15.444459</td>\n",
              "      <td>15.935143</td>\n",
              "      <td>Junio</td>\n",
              "    </tr>\n",
              "  </tbody>\n",
              "</table>\n",
              "</div>"
            ],
            "text/plain": [
              "              0    2019    2020    2021  interanualAnterior    Ecuador    mes\n",
              "mes                                                                          \n",
              "2021-Junio  Jun  156.82  132.60  153.73          -15.444459  15.935143  Junio"
            ]
          },
          "metadata": {},
          "execution_count": 357
        }
      ]
    },
    {
      "cell_type": "code",
      "metadata": {
        "id": "weXbDJcnnct8"
      },
      "source": [
        "imaela = round(pd.merge(imaela,ecu['Ecuador'],how='left',left_index=True,right_index=True),2)"
      ],
      "execution_count": null,
      "outputs": []
    },
    {
      "cell_type": "code",
      "metadata": {
        "colab": {
          "base_uri": "https://localhost:8080/",
          "height": 266
        },
        "id": "SnKlHvu3l5XV",
        "outputId": "5c3de793-3e1b-4dd9-f891-0130ca95a8ac"
      },
      "source": [
        "imaela"
      ],
      "execution_count": null,
      "outputs": [
        {
          "output_type": "execute_result",
          "data": {
            "text/html": [
              "<div>\n",
              "<style scoped>\n",
              "    .dataframe tbody tr th:only-of-type {\n",
              "        vertical-align: middle;\n",
              "    }\n",
              "\n",
              "    .dataframe tbody tr th {\n",
              "        vertical-align: top;\n",
              "    }\n",
              "\n",
              "    .dataframe thead th {\n",
              "        text-align: right;\n",
              "    }\n",
              "</style>\n",
              "<table border=\"1\" class=\"dataframe\">\n",
              "  <thead>\n",
              "    <tr style=\"text-align: right;\">\n",
              "      <th></th>\n",
              "      <th>Chile</th>\n",
              "      <th>Costa Rica</th>\n",
              "      <th>El Salvador</th>\n",
              "      <th>Guatemala</th>\n",
              "      <th>Honduras</th>\n",
              "      <th>Nicaragua</th>\n",
              "      <th>República Dominicana</th>\n",
              "      <th>Panamá</th>\n",
              "      <th>Argentina</th>\n",
              "      <th>Brasil</th>\n",
              "      <th>México</th>\n",
              "      <th>Ecuador</th>\n",
              "    </tr>\n",
              "  </thead>\n",
              "  <tbody>\n",
              "    <tr>\n",
              "      <th>2021-Enero</th>\n",
              "      <td>-2.95</td>\n",
              "      <td>-6.29</td>\n",
              "      <td>-1.52</td>\n",
              "      <td>1.94</td>\n",
              "      <td>-5.81</td>\n",
              "      <td>0.90</td>\n",
              "      <td>-1.81</td>\n",
              "      <td>-14.63</td>\n",
              "      <td>-2.03</td>\n",
              "      <td>-1.13</td>\n",
              "      <td>-5.54</td>\n",
              "      <td>-8.53</td>\n",
              "    </tr>\n",
              "    <tr>\n",
              "      <th>2021-Febrero</th>\n",
              "      <td>-2.02</td>\n",
              "      <td>-4.94</td>\n",
              "      <td>-0.79</td>\n",
              "      <td>2.59</td>\n",
              "      <td>-3.09</td>\n",
              "      <td>1.77</td>\n",
              "      <td>1.08</td>\n",
              "      <td>-9.73</td>\n",
              "      <td>-2.30</td>\n",
              "      <td>0.12</td>\n",
              "      <td>-5.09</td>\n",
              "      <td>-4.83</td>\n",
              "    </tr>\n",
              "    <tr>\n",
              "      <th>2021-Marzo</th>\n",
              "      <td>6.22</td>\n",
              "      <td>3.35</td>\n",
              "      <td>9.78</td>\n",
              "      <td>10.14</td>\n",
              "      <td>13.52</td>\n",
              "      <td>7.95</td>\n",
              "      <td>10.60</td>\n",
              "      <td>-6.03</td>\n",
              "      <td>11.92</td>\n",
              "      <td>5.30</td>\n",
              "      <td>0.83</td>\n",
              "      <td>13.59</td>\n",
              "    </tr>\n",
              "    <tr>\n",
              "      <th>2021-Abril</th>\n",
              "      <td>14.58</td>\n",
              "      <td>12.39</td>\n",
              "      <td>28.08</td>\n",
              "      <td>15.22</td>\n",
              "      <td>26.97</td>\n",
              "      <td>15.13</td>\n",
              "      <td>47.13</td>\n",
              "      <td>21.27</td>\n",
              "      <td>29.36</td>\n",
              "      <td>16.52</td>\n",
              "      <td>22.34</td>\n",
              "      <td>56.05</td>\n",
              "    </tr>\n",
              "    <tr>\n",
              "      <th>2021-Mayo</th>\n",
              "      <td>19.18</td>\n",
              "      <td>12.70</td>\n",
              "      <td>31.10</td>\n",
              "      <td>16.30</td>\n",
              "      <td>30.54</td>\n",
              "      <td>15.78</td>\n",
              "      <td>21.21</td>\n",
              "      <td>34.21</td>\n",
              "      <td>13.59</td>\n",
              "      <td>14.15</td>\n",
              "      <td>25.13</td>\n",
              "      <td>28.97</td>\n",
              "    </tr>\n",
              "    <tr>\n",
              "      <th>2021-Junio</th>\n",
              "      <td>20.61</td>\n",
              "      <td>8.37</td>\n",
              "      <td>21.52</td>\n",
              "      <td>13.89</td>\n",
              "      <td>20.93</td>\n",
              "      <td>16.70</td>\n",
              "      <td>12.73</td>\n",
              "      <td>24.91</td>\n",
              "      <td>10.82</td>\n",
              "      <td>9.07</td>\n",
              "      <td>13.32</td>\n",
              "      <td>15.94</td>\n",
              "    </tr>\n",
              "    <tr>\n",
              "      <th>2021-Julio</th>\n",
              "      <td>18.08</td>\n",
              "      <td>NaN</td>\n",
              "      <td>NaN</td>\n",
              "      <td>NaN</td>\n",
              "      <td>NaN</td>\n",
              "      <td>NaN</td>\n",
              "      <td>12.05</td>\n",
              "      <td>NaN</td>\n",
              "      <td>NaN</td>\n",
              "      <td>NaN</td>\n",
              "      <td>NaN</td>\n",
              "      <td>NaN</td>\n",
              "    </tr>\n",
              "  </tbody>\n",
              "</table>\n",
              "</div>"
            ],
            "text/plain": [
              "              Chile  Costa Rica  El Salvador  ...  Brasil  México  Ecuador\n",
              "2021-Enero    -2.95       -6.29        -1.52  ...   -1.13   -5.54    -8.53\n",
              "2021-Febrero  -2.02       -4.94        -0.79  ...    0.12   -5.09    -4.83\n",
              "2021-Marzo     6.22        3.35         9.78  ...    5.30    0.83    13.59\n",
              "2021-Abril    14.58       12.39        28.08  ...   16.52   22.34    56.05\n",
              "2021-Mayo     19.18       12.70        31.10  ...   14.15   25.13    28.97\n",
              "2021-Junio    20.61        8.37        21.52  ...    9.07   13.32    15.94\n",
              "2021-Julio    18.08         NaN          NaN  ...     NaN     NaN      NaN\n",
              "\n",
              "[7 rows x 12 columns]"
            ]
          },
          "metadata": {},
          "execution_count": 352
        }
      ]
    }
  ]
}