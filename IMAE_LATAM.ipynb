{
  "nbformat": 4,
  "nbformat_minor": 0,
  "metadata": {
    "colab": {
      "name": "IMAE LATAM.ipynb",
      "provenance": [],
      "collapsed_sections": [
        "pdxAyDPTJJzP",
        "mng9xQCphxaK",
        "USJ5m_3XS6ji",
        "YlZNkOc6pfVo",
        "MkoUi_tal0ST",
        "A2MSTFg45f_H",
        "rSOwOPisI0mw"
      ],
      "authorship_tag": "ABX9TyOTYZqSTmG2OcY1XYeVJdWF",
      "include_colab_link": true
    },
    "kernelspec": {
      "name": "python3",
      "display_name": "Python 3"
    },
    "language_info": {
      "name": "python"
    }
  },
  "cells": [
    {
      "cell_type": "markdown",
      "metadata": {
        "id": "view-in-github",
        "colab_type": "text"
      },
      "source": [
        "<a href=\"https://colab.research.google.com/github/samyff12/LATAM/blob/main/IMAE_LATAM.ipynb\" target=\"_parent\"><img src=\"https://colab.research.google.com/assets/colab-badge.svg\" alt=\"Open In Colab\"/></a>"
      ]
    },
    {
      "cell_type": "markdown",
      "metadata": {
        "id": "uwghX9WnmOhH"
      },
      "source": [
        "# **Actualizacion IMAE LATAM**"
      ]
    },
    {
      "cell_type": "markdown",
      "metadata": {
        "id": "zMFcgIBOnFpc"
      },
      "source": [
        "### Paquetes y meses"
      ]
    },
    {
      "cell_type": "code",
      "metadata": {
        "id": "yLpBS1jxRJUa",
        "colab": {
          "base_uri": "https://localhost:8080/",
          "height": 1000
        },
        "outputId": "52ee483d-d565-4e4c-ceb4-c39980ebdb4d"
      },
      "source": [
        "from bs4 import BeautifulSoup\n",
        "import pandas as pd\n",
        "import numpy as np\n",
        "import requests\n",
        "import urllib.request as urllib2\n",
        "import re\n",
        "import matplotlib.pyplot as plt\n",
        "import seaborn as sns\n",
        "import zipfile\n",
        "!pip install XlsxWriter\n",
        "from google.colab import files\n",
        "\n",
        "# Selenium\n",
        "!pip install selenium\n",
        "!apt-get update \n",
        "!apt install chromium-chromedriver\n",
        "!pip install kora -q\n",
        "from kora.selenium import wd\n",
        "from selenium.webdriver.common.keys import Keys\n",
        "from selenium.webdriver.common.by import By\n",
        "\n",
        "\n",
        "# En caso de contar con archivos en formato pdf: \n",
        "# !pip install pymupdf            \n",
        "# !pip install tabula-py\n",
        "# import tabula as tb\n",
        "# import fitz  # this is pymupdf"
      ],
      "execution_count": 1,
      "outputs": [
        {
          "output_type": "stream",
          "name": "stdout",
          "text": [
            "Collecting XlsxWriter\n",
            "  Downloading XlsxWriter-3.0.2-py3-none-any.whl (149 kB)\n",
            "\u001b[?25l\r\u001b[K     |██▏                             | 10 kB 27.7 MB/s eta 0:00:01\r\u001b[K     |████▍                           | 20 kB 33.2 MB/s eta 0:00:01\r\u001b[K     |██████▋                         | 30 kB 27.2 MB/s eta 0:00:01\r\u001b[K     |████████▊                       | 40 kB 21.5 MB/s eta 0:00:01\r\u001b[K     |███████████                     | 51 kB 17.8 MB/s eta 0:00:01\r\u001b[K     |█████████████▏                  | 61 kB 17.9 MB/s eta 0:00:01\r\u001b[K     |███████████████▎                | 71 kB 18.3 MB/s eta 0:00:01\r\u001b[K     |█████████████████▌              | 81 kB 18.6 MB/s eta 0:00:01\r\u001b[K     |███████████████████▊            | 92 kB 19.2 MB/s eta 0:00:01\r\u001b[K     |█████████████████████▉          | 102 kB 20.5 MB/s eta 0:00:01\r\u001b[K     |████████████████████████        | 112 kB 20.5 MB/s eta 0:00:01\r\u001b[K     |██████████████████████████▎     | 122 kB 20.5 MB/s eta 0:00:01\r\u001b[K     |████████████████████████████▍   | 133 kB 20.5 MB/s eta 0:00:01\r\u001b[K     |██████████████████████████████▋ | 143 kB 20.5 MB/s eta 0:00:01\r\u001b[K     |████████████████████████████████| 149 kB 20.5 MB/s \n",
            "\u001b[?25hInstalling collected packages: XlsxWriter\n",
            "Successfully installed XlsxWriter-3.0.2\n",
            "Collecting selenium\n",
            "  Downloading selenium-4.1.0-py3-none-any.whl (958 kB)\n",
            "\u001b[K     |████████████████████████████████| 958 kB 28.8 MB/s \n",
            "\u001b[?25hCollecting urllib3[secure]~=1.26\n",
            "  Downloading urllib3-1.26.7-py2.py3-none-any.whl (138 kB)\n",
            "\u001b[K     |████████████████████████████████| 138 kB 53.6 MB/s \n",
            "\u001b[?25hCollecting trio-websocket~=0.9\n",
            "  Downloading trio_websocket-0.9.2-py3-none-any.whl (16 kB)\n",
            "Collecting trio~=0.17\n",
            "  Downloading trio-0.19.0-py3-none-any.whl (356 kB)\n",
            "\u001b[K     |████████████████████████████████| 356 kB 26.0 MB/s \n",
            "\u001b[?25hCollecting outcome\n",
            "  Downloading outcome-1.1.0-py2.py3-none-any.whl (9.7 kB)\n",
            "Collecting async-generator>=1.9\n",
            "  Downloading async_generator-1.10-py3-none-any.whl (18 kB)\n",
            "Requirement already satisfied: attrs>=19.2.0 in /usr/local/lib/python3.7/dist-packages (from trio~=0.17->selenium) (21.2.0)\n",
            "Collecting sniffio\n",
            "  Downloading sniffio-1.2.0-py3-none-any.whl (10 kB)\n",
            "Requirement already satisfied: idna in /usr/local/lib/python3.7/dist-packages (from trio~=0.17->selenium) (2.10)\n",
            "Requirement already satisfied: sortedcontainers in /usr/local/lib/python3.7/dist-packages (from trio~=0.17->selenium) (2.4.0)\n",
            "Collecting wsproto>=0.14\n",
            "  Downloading wsproto-1.0.0-py3-none-any.whl (24 kB)\n",
            "Collecting pyOpenSSL>=0.14\n",
            "  Downloading pyOpenSSL-21.0.0-py2.py3-none-any.whl (55 kB)\n",
            "\u001b[K     |████████████████████████████████| 55 kB 3.1 MB/s \n",
            "\u001b[?25hCollecting cryptography>=1.3.4\n",
            "  Downloading cryptography-36.0.0-cp36-abi3-manylinux_2_24_x86_64.whl (3.6 MB)\n",
            "\u001b[K     |████████████████████████████████| 3.6 MB 52.2 MB/s \n",
            "\u001b[?25hRequirement already satisfied: certifi in /usr/local/lib/python3.7/dist-packages (from urllib3[secure]~=1.26->selenium) (2021.10.8)\n",
            "Requirement already satisfied: cffi>=1.12 in /usr/local/lib/python3.7/dist-packages (from cryptography>=1.3.4->urllib3[secure]~=1.26->selenium) (1.15.0)\n",
            "Requirement already satisfied: pycparser in /usr/local/lib/python3.7/dist-packages (from cffi>=1.12->cryptography>=1.3.4->urllib3[secure]~=1.26->selenium) (2.21)\n",
            "Requirement already satisfied: six>=1.5.2 in /usr/local/lib/python3.7/dist-packages (from pyOpenSSL>=0.14->urllib3[secure]~=1.26->selenium) (1.15.0)\n",
            "Collecting h11<1,>=0.9.0\n",
            "  Downloading h11-0.12.0-py3-none-any.whl (54 kB)\n",
            "\u001b[K     |████████████████████████████████| 54 kB 3.0 MB/s \n",
            "\u001b[?25hInstalling collected packages: sniffio, outcome, h11, cryptography, async-generator, wsproto, urllib3, trio, pyOpenSSL, trio-websocket, selenium\n",
            "  Attempting uninstall: urllib3\n",
            "    Found existing installation: urllib3 1.24.3\n",
            "    Uninstalling urllib3-1.24.3:\n",
            "      Successfully uninstalled urllib3-1.24.3\n",
            "\u001b[31mERROR: pip's dependency resolver does not currently take into account all the packages that are installed. This behaviour is the source of the following dependency conflicts.\n",
            "requests 2.23.0 requires urllib3!=1.25.0,!=1.25.1,<1.26,>=1.21.1, but you have urllib3 1.26.7 which is incompatible.\n",
            "datascience 0.10.6 requires folium==0.2.1, but you have folium 0.8.3 which is incompatible.\u001b[0m\n",
            "Successfully installed async-generator-1.10 cryptography-36.0.0 h11-0.12.0 outcome-1.1.0 pyOpenSSL-21.0.0 selenium-4.1.0 sniffio-1.2.0 trio-0.19.0 trio-websocket-0.9.2 urllib3-1.26.7 wsproto-1.0.0\n"
          ]
        },
        {
          "output_type": "display_data",
          "data": {
            "application/vnd.colab-display-data+json": {
              "pip_warning": {
                "packages": [
                  "urllib3"
                ]
              }
            }
          },
          "metadata": {}
        },
        {
          "output_type": "stream",
          "name": "stdout",
          "text": [
            "\r0% [Working]\r            \rGet:1 https://cloud.r-project.org/bin/linux/ubuntu bionic-cran40/ InRelease [3,626 B]\n",
            "Ign:2 https://developer.download.nvidia.com/compute/cuda/repos/ubuntu1804/x86_64  InRelease\n",
            "Get:3 http://security.ubuntu.com/ubuntu bionic-security InRelease [88.7 kB]\n",
            "Get:4 http://ppa.launchpad.net/c2d4u.team/c2d4u4.0+/ubuntu bionic InRelease [15.9 kB]\n",
            "Hit:5 http://archive.ubuntu.com/ubuntu bionic InRelease\n",
            "Ign:6 https://developer.download.nvidia.com/compute/machine-learning/repos/ubuntu1804/x86_64  InRelease\n",
            "Get:7 https://developer.download.nvidia.com/compute/cuda/repos/ubuntu1804/x86_64  Release [696 B]\n",
            "Hit:8 https://developer.download.nvidia.com/compute/machine-learning/repos/ubuntu1804/x86_64  Release\n",
            "Get:9 https://developer.download.nvidia.com/compute/cuda/repos/ubuntu1804/x86_64  Release.gpg [836 B]\n",
            "Get:10 http://archive.ubuntu.com/ubuntu bionic-updates InRelease [88.7 kB]\n",
            "Hit:11 http://ppa.launchpad.net/cran/libgit2/ubuntu bionic InRelease\n",
            "Get:12 http://archive.ubuntu.com/ubuntu bionic-backports InRelease [74.6 kB]\n",
            "Hit:13 http://ppa.launchpad.net/deadsnakes/ppa/ubuntu bionic InRelease\n",
            "Hit:14 http://ppa.launchpad.net/graphics-drivers/ppa/ubuntu bionic InRelease\n",
            "Get:16 http://ppa.launchpad.net/c2d4u.team/c2d4u4.0+/ubuntu bionic/main Sources [1,812 kB]\n",
            "Get:17 https://developer.download.nvidia.com/compute/cuda/repos/ubuntu1804/x86_64  Packages [813 kB]\n",
            "Get:18 http://ppa.launchpad.net/c2d4u.team/c2d4u4.0+/ubuntu bionic/main amd64 Packages [928 kB]\n",
            "Get:19 http://archive.ubuntu.com/ubuntu bionic-updates/universe amd64 Packages [2,222 kB]\n",
            "Get:20 http://archive.ubuntu.com/ubuntu bionic-updates/main amd64 Packages [2,867 kB]\n",
            "Fetched 8,916 kB in 3s (2,949 kB/s)\n",
            "Reading package lists... Done\n",
            "Reading package lists... Done\n",
            "Building dependency tree       \n",
            "Reading state information... Done\n",
            "The following additional packages will be installed:\n",
            "  chromium-browser chromium-browser-l10n chromium-codecs-ffmpeg-extra\n",
            "Suggested packages:\n",
            "  webaccounts-chromium-extension unity-chromium-extension\n",
            "The following NEW packages will be installed:\n",
            "  chromium-browser chromium-browser-l10n chromium-chromedriver\n",
            "  chromium-codecs-ffmpeg-extra\n",
            "0 upgraded, 4 newly installed, 0 to remove and 39 not upgraded.\n",
            "Need to get 94.0 MB of archives.\n",
            "After this operation, 324 MB of additional disk space will be used.\n",
            "Get:1 http://archive.ubuntu.com/ubuntu bionic-updates/universe amd64 chromium-codecs-ffmpeg-extra amd64 95.0.4638.69-0ubuntu0.18.04.1 [1,135 kB]\n",
            "Get:2 http://archive.ubuntu.com/ubuntu bionic-updates/universe amd64 chromium-browser amd64 95.0.4638.69-0ubuntu0.18.04.1 [83.6 MB]\n",
            "Get:3 http://archive.ubuntu.com/ubuntu bionic-updates/universe amd64 chromium-browser-l10n all 95.0.4638.69-0ubuntu0.18.04.1 [4,249 kB]\n",
            "Get:4 http://archive.ubuntu.com/ubuntu bionic-updates/universe amd64 chromium-chromedriver amd64 95.0.4638.69-0ubuntu0.18.04.1 [4,986 kB]\n",
            "Fetched 94.0 MB in 3s (27.3 MB/s)\n",
            "Selecting previously unselected package chromium-codecs-ffmpeg-extra.\n",
            "(Reading database ... 155222 files and directories currently installed.)\n",
            "Preparing to unpack .../chromium-codecs-ffmpeg-extra_95.0.4638.69-0ubuntu0.18.04.1_amd64.deb ...\n",
            "Unpacking chromium-codecs-ffmpeg-extra (95.0.4638.69-0ubuntu0.18.04.1) ...\n",
            "Selecting previously unselected package chromium-browser.\n",
            "Preparing to unpack .../chromium-browser_95.0.4638.69-0ubuntu0.18.04.1_amd64.deb ...\n",
            "Unpacking chromium-browser (95.0.4638.69-0ubuntu0.18.04.1) ...\n",
            "Selecting previously unselected package chromium-browser-l10n.\n",
            "Preparing to unpack .../chromium-browser-l10n_95.0.4638.69-0ubuntu0.18.04.1_all.deb ...\n",
            "Unpacking chromium-browser-l10n (95.0.4638.69-0ubuntu0.18.04.1) ...\n",
            "Selecting previously unselected package chromium-chromedriver.\n",
            "Preparing to unpack .../chromium-chromedriver_95.0.4638.69-0ubuntu0.18.04.1_amd64.deb ...\n",
            "Unpacking chromium-chromedriver (95.0.4638.69-0ubuntu0.18.04.1) ...\n",
            "Setting up chromium-codecs-ffmpeg-extra (95.0.4638.69-0ubuntu0.18.04.1) ...\n",
            "Setting up chromium-browser (95.0.4638.69-0ubuntu0.18.04.1) ...\n",
            "update-alternatives: using /usr/bin/chromium-browser to provide /usr/bin/x-www-browser (x-www-browser) in auto mode\n",
            "update-alternatives: using /usr/bin/chromium-browser to provide /usr/bin/gnome-www-browser (gnome-www-browser) in auto mode\n",
            "Setting up chromium-chromedriver (95.0.4638.69-0ubuntu0.18.04.1) ...\n",
            "Setting up chromium-browser-l10n (95.0.4638.69-0ubuntu0.18.04.1) ...\n",
            "Processing triggers for man-db (2.8.3-2ubuntu0.1) ...\n",
            "Processing triggers for hicolor-icon-theme (0.17-2) ...\n",
            "Processing triggers for mime-support (3.60ubuntu1) ...\n",
            "Processing triggers for libc-bin (2.27-3ubuntu1.3) ...\n",
            "/sbin/ldconfig.real: /usr/local/lib/python3.7/dist-packages/ideep4py/lib/libmkldnn.so.0 is not a symbolic link\n",
            "\n",
            "\u001b[K     |████████████████████████████████| 57 kB 4.7 MB/s \n",
            "\u001b[K     |████████████████████████████████| 56 kB 3.0 MB/s \n",
            "\u001b[?25h"
          ]
        }
      ]
    },
    {
      "cell_type": "code",
      "metadata": {
        "id": "7NNHXzvKYJ2D"
      },
      "source": [
        "##html = requests.get('http://www.secmca.org/chart/?parent=Producci%C3%B3n&scid=2&cid=1&scsid=0&son=%C3%8Dndice%20Mensual%20de%20la%20Actividad%20Econ%C3%B3mica&url=11/14/3-13-50-17-4-52-161/39/265/19-258/444/' +\n",
        " #                   '20211-20212-20213-20214-20215-20216-20217-20218-20219-202110-202111-202112-20221-20222-20223-20224-20225-20226-20227-20228-20229-202210-202211-202212' +\n",
        " #                   '-&all_vars=2|IMAE,%20variaci%C3%B3n%20interanual')\n",
        "#soup = BeautifulSoup(html.text,'lxml')\n",
        "#table = soup.find_all('p', class_='text-right')\n",
        "#tablec = soup.find_all('th', colspan='1')\n",
        "\n",
        "#indicadores=[]\n",
        "#paises =[]\n",
        "#for i in range(len(table)):\n",
        " # ind = float(table[i].text)\n",
        "#  pais = tablec[i].text\n",
        "#  indicadores.append(ind)\n",
        " # paises.append(pais)\n",
        "\n",
        "#imae_latam =  pd.DataFrame(indicadores,index = paises,columns = ['IMAE'])\n",
        "#print(f'IMAE a {fecha}')\n",
        "#imae_latam"
      ],
      "execution_count": 2,
      "outputs": []
    },
    {
      "cell_type": "code",
      "metadata": {
        "id": "Uz9LSti34_nA"
      },
      "source": [
        "meses = [0,[1,'Enero'],[2,'Febrero'],[3,'Marzo'],[4,'Abril'],[5,'Mayo'],[6,'Junio'],[7,'Julio'],[8,'Agosto'],\n",
        "         [9,'Septiembre'],[10,'Octubre'],[11,'Noviembre'],[12,'Diciembre']]\n",
        "mes3 = {'ene':'Enero','feb':'Febrero','mar':'Marzo','abr':'Abril','may':'Mayo','jun':'Junio','jul':'Julio',\n",
        "        'ago':'Agosto','sep':'Septiembre','oct':'Octubre','nov':'Noviembre','dic':'Diciembre'}\n",
        "meses_dict = {0:'none',1:'Enero',2:'Febrero',3:'Marzo',4:'Abril',5:'Mayo',6:'Junio',7:'Julio',8:'Agosto',\n",
        "         9:'Septiembre',10:'Octubre',11:'Noviembre',12:'Diciembre'}\n",
        "### import calendar\n",
        "\n",
        "# d = dict((v,k) for k,v in enumerate(calendar.month_abbr))\n",
        "# d"
      ],
      "execution_count": 3,
      "outputs": []
    },
    {
      "cell_type": "markdown",
      "metadata": {
        "id": "982BPh5jk93l"
      },
      "source": [
        "## Para obtener las series de todo el año 2021-2022\n"
      ]
    },
    {
      "cell_type": "markdown",
      "metadata": {
        "id": "pdxAyDPTJJzP"
      },
      "source": [
        "### **SECMCA**"
      ]
    },
    {
      "cell_type": "markdown",
      "metadata": {
        "id": "zyl75FG7ZOym"
      },
      "source": [
        "#### Publicaciones disponibles las fechas: \n",
        "\n",
        "#####    **El Salvador**\n",
        "2. 29 Oct\n",
        "3. 30 Nov\n",
        "4. 23 Dic\n",
        "5. 31 Ene\n",
        "\n",
        "#####    **Panama**\n",
        "3. 22 Nov\n",
        "4. 21 Dic\n",
        "\n",
        "\n",
        "#####    **Honduras**\n",
        "-. Preliminar 20 de cada mes, con 50 días de rezago y\n",
        "revisado 30 días después"
      ]
    },
    {
      "cell_type": "code",
      "metadata": {
        "colab": {
          "base_uri": "https://localhost:8080/",
          "height": 0
        },
        "id": "DKeFlSnZ9utv",
        "outputId": "880f109a-589c-4978-bfa9-31972f8b682d"
      },
      "source": [
        "# INDICE VERSION\n",
        "html1 = requests.get('http://www.secmca.org/chart/?parent=Producci%C3%B3n&scid=2&cid=1&scsid=0&son=%C3%8Dndice%20Mensual%20de%20la%20Actividad%20Econ%C3%B3mica&url=11/14/3-13-50-17-4-52-161/39/265/19-258/81/' +\n",
        "  '20201-20202-20203-20204-20205-20206-20207-20208-20209-202010-202011-202012-20211-20212-20213-20214-20215-20216-20217-20218-20219-202110-202111-202112-20221-20222-20223-20224-20225-20226-20227-20228-20229-202210-202211-202212' +\n",
        "  '-&all_vars=1|IMAE').text\n",
        "soup1 = BeautifulSoup(html1,'html.parser')\n",
        "\n",
        "tabpais = soup1.find_all('th', colspan='1')\n",
        "table = soup1.find_all('p', class_='text-left')\n",
        "fechas = []\n",
        "for i in range(len(table)):\n",
        "  x = re.sub(\" \",\"\",table[i].text)\n",
        "  fechas.append(x.replace(\"\\n\",\"\").replace('Setiembre','Septiembre'))\n",
        "\n",
        "paises = [tabpais[i].text for i in range(len(tabpais))]\n",
        "fechas[-1]"
      ],
      "execution_count": 4,
      "outputs": [
        {
          "output_type": "execute_result",
          "data": {
            "application/vnd.google.colaboratory.intrinsic+json": {
              "type": "string"
            },
            "text/plain": [
              "'2021-Septiembre'"
            ]
          },
          "metadata": {},
          "execution_count": 4
        }
      ]
    },
    {
      "cell_type": "code",
      "metadata": {
        "colab": {
          "base_uri": "https://localhost:8080/",
          "height": 0
        },
        "id": "jH_Esksz-nsh",
        "outputId": "fcd71d37-ea9c-410c-89d7-433dfcacc5e9"
      },
      "source": [
        "#INDICE\n",
        "table1 = soup1.find_all('p', class_='text-right')\n",
        "matriz = np.array([])\n",
        "for i in table1:\n",
        "  matriz = np.array(np.append(matriz,i))\n",
        "matriz = np.where(matriz==\"--\", np.nan, matriz).astype(np.float)\n",
        "matriz = matriz.reshape(-1,7) # 7 paises\n",
        "imaeLA = pd.DataFrame(matriz,index=fechas,columns=paises)\n",
        "imaeLA"
      ],
      "execution_count": 5,
      "outputs": [
        {
          "output_type": "execute_result",
          "data": {
            "text/html": [
              "<div>\n",
              "<style scoped>\n",
              "    .dataframe tbody tr th:only-of-type {\n",
              "        vertical-align: middle;\n",
              "    }\n",
              "\n",
              "    .dataframe tbody tr th {\n",
              "        vertical-align: top;\n",
              "    }\n",
              "\n",
              "    .dataframe thead th {\n",
              "        text-align: right;\n",
              "    }\n",
              "</style>\n",
              "<table border=\"1\" class=\"dataframe\">\n",
              "  <thead>\n",
              "    <tr style=\"text-align: right;\">\n",
              "      <th></th>\n",
              "      <th>Costa Rica</th>\n",
              "      <th>El Salvador</th>\n",
              "      <th>Guatemala</th>\n",
              "      <th>Honduras</th>\n",
              "      <th>Nicaragua</th>\n",
              "      <th>República Dominicana</th>\n",
              "      <th>Panamá</th>\n",
              "    </tr>\n",
              "  </thead>\n",
              "  <tbody>\n",
              "    <tr>\n",
              "      <th>2020-Enero</th>\n",
              "      <td>104.13</td>\n",
              "      <td>110.80</td>\n",
              "      <td>127.40</td>\n",
              "      <td>243.14</td>\n",
              "      <td>152.88</td>\n",
              "      <td>179.04</td>\n",
              "      <td>345.73</td>\n",
              "    </tr>\n",
              "    <tr>\n",
              "      <th>2020-Febrero</th>\n",
              "      <td>105.17</td>\n",
              "      <td>110.06</td>\n",
              "      <td>125.54</td>\n",
              "      <td>242.59</td>\n",
              "      <td>144.12</td>\n",
              "      <td>183.24</td>\n",
              "      <td>338.73</td>\n",
              "    </tr>\n",
              "    <tr>\n",
              "      <th>2020-Marzo</th>\n",
              "      <td>103.55</td>\n",
              "      <td>105.56</td>\n",
              "      <td>121.36</td>\n",
              "      <td>218.14</td>\n",
              "      <td>140.05</td>\n",
              "      <td>165.67</td>\n",
              "      <td>364.78</td>\n",
              "    </tr>\n",
              "    <tr>\n",
              "      <th>2020-Abril</th>\n",
              "      <td>90.88</td>\n",
              "      <td>88.28</td>\n",
              "      <td>112.77</td>\n",
              "      <td>186.13</td>\n",
              "      <td>124.67</td>\n",
              "      <td>125.35</td>\n",
              "      <td>247.19</td>\n",
              "    </tr>\n",
              "    <tr>\n",
              "      <th>2020-Mayo</th>\n",
              "      <td>93.09</td>\n",
              "      <td>89.88</td>\n",
              "      <td>111.25</td>\n",
              "      <td>188.45</td>\n",
              "      <td>133.85</td>\n",
              "      <td>158.43</td>\n",
              "      <td>228.30</td>\n",
              "    </tr>\n",
              "    <tr>\n",
              "      <th>2020-Junio</th>\n",
              "      <td>97.03</td>\n",
              "      <td>96.97</td>\n",
              "      <td>111.06</td>\n",
              "      <td>208.19</td>\n",
              "      <td>128.81</td>\n",
              "      <td>160.89</td>\n",
              "      <td>243.01</td>\n",
              "    </tr>\n",
              "    <tr>\n",
              "      <th>2020-Julio</th>\n",
              "      <td>92.91</td>\n",
              "      <td>96.05</td>\n",
              "      <td>117.42</td>\n",
              "      <td>208.83</td>\n",
              "      <td>147.58</td>\n",
              "      <td>162.35</td>\n",
              "      <td>241.95</td>\n",
              "    </tr>\n",
              "    <tr>\n",
              "      <th>2020-Agosto</th>\n",
              "      <td>93.35</td>\n",
              "      <td>102.57</td>\n",
              "      <td>120.25</td>\n",
              "      <td>225.70</td>\n",
              "      <td>138.50</td>\n",
              "      <td>169.07</td>\n",
              "      <td>251.35</td>\n",
              "    </tr>\n",
              "    <tr>\n",
              "      <th>2020-Septiembre</th>\n",
              "      <td>97.99</td>\n",
              "      <td>106.44</td>\n",
              "      <td>121.45</td>\n",
              "      <td>230.41</td>\n",
              "      <td>139.98</td>\n",
              "      <td>163.68</td>\n",
              "      <td>268.97</td>\n",
              "    </tr>\n",
              "    <tr>\n",
              "      <th>2020-Octubre</th>\n",
              "      <td>102.09</td>\n",
              "      <td>106.64</td>\n",
              "      <td>125.72</td>\n",
              "      <td>249.68</td>\n",
              "      <td>148.48</td>\n",
              "      <td>175.09</td>\n",
              "      <td>312.12</td>\n",
              "    </tr>\n",
              "    <tr>\n",
              "      <th>2020-Noviembre</th>\n",
              "      <td>105.13</td>\n",
              "      <td>111.85</td>\n",
              "      <td>128.86</td>\n",
              "      <td>218.99</td>\n",
              "      <td>148.75</td>\n",
              "      <td>181.13</td>\n",
              "      <td>300.21</td>\n",
              "    </tr>\n",
              "    <tr>\n",
              "      <th>2020-Diciembre</th>\n",
              "      <td>110.97</td>\n",
              "      <td>122.29</td>\n",
              "      <td>136.24</td>\n",
              "      <td>257.91</td>\n",
              "      <td>167.28</td>\n",
              "      <td>192.02</td>\n",
              "      <td>316.10</td>\n",
              "    </tr>\n",
              "    <tr>\n",
              "      <th>2021-Enero</th>\n",
              "      <td>97.54</td>\n",
              "      <td>109.01</td>\n",
              "      <td>129.22</td>\n",
              "      <td>230.06</td>\n",
              "      <td>154.77</td>\n",
              "      <td>175.80</td>\n",
              "      <td>292.10</td>\n",
              "    </tr>\n",
              "    <tr>\n",
              "      <th>2021-Febrero</th>\n",
              "      <td>99.94</td>\n",
              "      <td>108.76</td>\n",
              "      <td>128.60</td>\n",
              "      <td>236.15</td>\n",
              "      <td>147.43</td>\n",
              "      <td>185.25</td>\n",
              "      <td>305.62</td>\n",
              "    </tr>\n",
              "    <tr>\n",
              "      <th>2021-Marzo</th>\n",
              "      <td>107.64</td>\n",
              "      <td>114.72</td>\n",
              "      <td>133.50</td>\n",
              "      <td>247.84</td>\n",
              "      <td>151.35</td>\n",
              "      <td>183.30</td>\n",
              "      <td>342.93</td>\n",
              "    </tr>\n",
              "    <tr>\n",
              "      <th>2021-Abril</th>\n",
              "      <td>102.45</td>\n",
              "      <td>110.69</td>\n",
              "      <td>129.98</td>\n",
              "      <td>234.59</td>\n",
              "      <td>144.23</td>\n",
              "      <td>184.40</td>\n",
              "      <td>304.00</td>\n",
              "    </tr>\n",
              "    <tr>\n",
              "      <th>2021-Mayo</th>\n",
              "      <td>105.50</td>\n",
              "      <td>114.65</td>\n",
              "      <td>129.30</td>\n",
              "      <td>242.40</td>\n",
              "      <td>156.14</td>\n",
              "      <td>192.09</td>\n",
              "      <td>329.26</td>\n",
              "    </tr>\n",
              "    <tr>\n",
              "      <th>2021-Junio</th>\n",
              "      <td>105.86</td>\n",
              "      <td>114.41</td>\n",
              "      <td>126.27</td>\n",
              "      <td>248.26</td>\n",
              "      <td>151.74</td>\n",
              "      <td>181.33</td>\n",
              "      <td>322.67</td>\n",
              "    </tr>\n",
              "    <tr>\n",
              "      <th>2021-Julio</th>\n",
              "      <td>108.22</td>\n",
              "      <td>109.65</td>\n",
              "      <td>130.66</td>\n",
              "      <td>241.80</td>\n",
              "      <td>160.30</td>\n",
              "      <td>181.96</td>\n",
              "      <td>328.86</td>\n",
              "    </tr>\n",
              "    <tr>\n",
              "      <th>2021-Agosto</th>\n",
              "      <td>105.56</td>\n",
              "      <td>112.60</td>\n",
              "      <td>129.34</td>\n",
              "      <td>256.38</td>\n",
              "      <td>151.16</td>\n",
              "      <td>188.83</td>\n",
              "      <td>317.68</td>\n",
              "    </tr>\n",
              "    <tr>\n",
              "      <th>2021-Septiembre</th>\n",
              "      <td>109.03</td>\n",
              "      <td>NaN</td>\n",
              "      <td>NaN</td>\n",
              "      <td>251.03</td>\n",
              "      <td>NaN</td>\n",
              "      <td>180.96</td>\n",
              "      <td>NaN</td>\n",
              "    </tr>\n",
              "  </tbody>\n",
              "</table>\n",
              "</div>"
            ],
            "text/plain": [
              "                 Costa Rica  El Salvador  ...  República Dominicana  Panamá\n",
              "2020-Enero           104.13       110.80  ...                179.04  345.73\n",
              "2020-Febrero         105.17       110.06  ...                183.24  338.73\n",
              "2020-Marzo           103.55       105.56  ...                165.67  364.78\n",
              "2020-Abril            90.88        88.28  ...                125.35  247.19\n",
              "2020-Mayo             93.09        89.88  ...                158.43  228.30\n",
              "2020-Junio            97.03        96.97  ...                160.89  243.01\n",
              "2020-Julio            92.91        96.05  ...                162.35  241.95\n",
              "2020-Agosto           93.35       102.57  ...                169.07  251.35\n",
              "2020-Septiembre       97.99       106.44  ...                163.68  268.97\n",
              "2020-Octubre         102.09       106.64  ...                175.09  312.12\n",
              "2020-Noviembre       105.13       111.85  ...                181.13  300.21\n",
              "2020-Diciembre       110.97       122.29  ...                192.02  316.10\n",
              "2021-Enero            97.54       109.01  ...                175.80  292.10\n",
              "2021-Febrero          99.94       108.76  ...                185.25  305.62\n",
              "2021-Marzo           107.64       114.72  ...                183.30  342.93\n",
              "2021-Abril           102.45       110.69  ...                184.40  304.00\n",
              "2021-Mayo            105.50       114.65  ...                192.09  329.26\n",
              "2021-Junio           105.86       114.41  ...                181.33  322.67\n",
              "2021-Julio           108.22       109.65  ...                181.96  328.86\n",
              "2021-Agosto          105.56       112.60  ...                188.83  317.68\n",
              "2021-Septiembre      109.03          NaN  ...                180.96     NaN\n",
              "\n",
              "[21 rows x 7 columns]"
            ]
          },
          "metadata": {},
          "execution_count": 5
        }
      ]
    },
    {
      "cell_type": "markdown",
      "metadata": {
        "id": "HZYnwfqqr7tE"
      },
      "source": [
        "import re\n",
        "tabpais = soup.find_all('th', colspan='1')\n",
        "table = soup.find_all('p', class_='text-left')\n",
        "fechas = []\n",
        "paises =[]\n",
        "for i in range(len(table)):\n",
        "  x = re.sub(\" \",\"\",table[i].text)\n",
        "  fechas.append(x.replace(\"\\n\",\"\"))\n",
        "  pais = tabpais[i].text\n",
        "  #indicadores.append(ind)\n",
        "  paises.append(pais)\n",
        "fechas[-1]"
      ]
    },
    {
      "cell_type": "markdown",
      "metadata": {
        "id": "sCY1EzkcvFfD"
      },
      "source": [
        "table1 = soup.find_all('p', class_='text-right')\n",
        "matriz = np.array([])\n",
        "for i in table1:\n",
        "  matriz = np.array(np.append(matriz,i))\n",
        "matriz = np.where(matriz==\"--\", np.nan, matriz).astype(np.float)\n",
        "matriz = matriz.reshape(-1,7) # 7 paises\n",
        "imaeLA = pd.DataFrame(matriz,index=fechas,columns=paises)\n",
        "imaeLA"
      ]
    },
    {
      "cell_type": "markdown",
      "metadata": {
        "id": "mng9xQCphxaK"
      },
      "source": [
        "### **Argentina**\n"
      ]
    },
    {
      "cell_type": "markdown",
      "metadata": {
        "id": "5HGhiXY6MURL"
      },
      "source": [
        "#### Publicaciones disponibles las fechas: \n",
        "1. 28 sept \n",
        "2. 21 Oct\n",
        "3. 23 Nov\n",
        "4. 23 Dic"
      ]
    },
    {
      "cell_type": "code",
      "metadata": {
        "id": "8lHpEj4I7Kkk",
        "colab": {
          "base_uri": "https://localhost:8080/",
          "height": 0
        },
        "outputId": "ea76c140-11a4-43e2-9d57-2e1c9ca3d06f"
      },
      "source": [
        "url = \"https://www.indec.gob.ar/ftp/cuadros/economia/sh_emae_mensual_base2004.xls\"\n",
        "urllib2.urlretrieve(url, \"test.xls\")\n",
        "data = pd.read_excel('test.xls',header=2)[2:]\n",
        "data1 = data.iloc[:,:4].dropna(subset = [data.columns[1]]) # data.columns[1] es la columna de los meses\n",
        "data1.reset_index(drop=True,inplace=True)\n",
        "data1[data1.columns[0]] = data1[data1.columns[0]].ffill() # forward fill # para los años   data1.columns[0] es la columna de los años\n",
        "data1.iloc[:,:3]"
      ],
      "execution_count": 6,
      "outputs": [
        {
          "output_type": "execute_result",
          "data": {
            "text/html": [
              "<div>\n",
              "<style scoped>\n",
              "    .dataframe tbody tr th:only-of-type {\n",
              "        vertical-align: middle;\n",
              "    }\n",
              "\n",
              "    .dataframe tbody tr th {\n",
              "        vertical-align: top;\n",
              "    }\n",
              "\n",
              "    .dataframe thead th {\n",
              "        text-align: right;\n",
              "    }\n",
              "</style>\n",
              "<table border=\"1\" class=\"dataframe\">\n",
              "  <thead>\n",
              "    <tr style=\"text-align: right;\">\n",
              "      <th></th>\n",
              "      <th>Período</th>\n",
              "      <th>Unnamed: 1</th>\n",
              "      <th>Índice Serie Original\\n2004=100</th>\n",
              "    </tr>\n",
              "  </thead>\n",
              "  <tbody>\n",
              "    <tr>\n",
              "      <th>0</th>\n",
              "      <td>2004</td>\n",
              "      <td>Enero</td>\n",
              "      <td>92.627506</td>\n",
              "    </tr>\n",
              "    <tr>\n",
              "      <th>1</th>\n",
              "      <td>2004</td>\n",
              "      <td>Febrero</td>\n",
              "      <td>90.186179</td>\n",
              "    </tr>\n",
              "    <tr>\n",
              "      <th>2</th>\n",
              "      <td>2004</td>\n",
              "      <td>Marzo</td>\n",
              "      <td>101.883298</td>\n",
              "    </tr>\n",
              "    <tr>\n",
              "      <th>3</th>\n",
              "      <td>2004</td>\n",
              "      <td>Abril</td>\n",
              "      <td>102.567430</td>\n",
              "    </tr>\n",
              "    <tr>\n",
              "      <th>4</th>\n",
              "      <td>2004</td>\n",
              "      <td>Mayo</td>\n",
              "      <td>109.877504</td>\n",
              "    </tr>\n",
              "    <tr>\n",
              "      <th>...</th>\n",
              "      <td>...</td>\n",
              "      <td>...</td>\n",
              "      <td>...</td>\n",
              "    </tr>\n",
              "    <tr>\n",
              "      <th>207</th>\n",
              "      <td>2021</td>\n",
              "      <td>Abril</td>\n",
              "      <td>144.940980</td>\n",
              "    </tr>\n",
              "    <tr>\n",
              "      <th>208</th>\n",
              "      <td>2021</td>\n",
              "      <td>Mayo</td>\n",
              "      <td>150.194265</td>\n",
              "    </tr>\n",
              "    <tr>\n",
              "      <th>209</th>\n",
              "      <td>2021</td>\n",
              "      <td>Junio</td>\n",
              "      <td>148.854057</td>\n",
              "    </tr>\n",
              "    <tr>\n",
              "      <th>210</th>\n",
              "      <td>2021</td>\n",
              "      <td>Julio</td>\n",
              "      <td>143.287754</td>\n",
              "    </tr>\n",
              "    <tr>\n",
              "      <th>211</th>\n",
              "      <td>2021</td>\n",
              "      <td>Agosto</td>\n",
              "      <td>141.215168</td>\n",
              "    </tr>\n",
              "  </tbody>\n",
              "</table>\n",
              "<p>212 rows × 3 columns</p>\n",
              "</div>"
            ],
            "text/plain": [
              "     Período Unnamed: 1  Índice Serie Original\\n2004=100\n",
              "0       2004      Enero                        92.627506\n",
              "1       2004    Febrero                        90.186179\n",
              "2       2004      Marzo                       101.883298\n",
              "3       2004      Abril                       102.567430\n",
              "4       2004       Mayo                       109.877504\n",
              "..       ...        ...                              ...\n",
              "207     2021      Abril                       144.940980\n",
              "208     2021       Mayo                       150.194265\n",
              "209     2021      Junio                       148.854057\n",
              "210     2021      Julio                       143.287754\n",
              "211     2021     Agosto                       141.215168\n",
              "\n",
              "[212 rows x 3 columns]"
            ]
          },
          "metadata": {},
          "execution_count": 6
        }
      ]
    },
    {
      "cell_type": "code",
      "metadata": {
        "id": "AEop9VIOYe7t",
        "colab": {
          "base_uri": "https://localhost:8080/"
        },
        "outputId": "ac1947ac-4493-46fe-bba0-828301f8bdaf"
      },
      "source": [
        "data1['fecha'] = data1[data1.columns[0]].astype('str') +\"-\"+ data1[data1.columns[1]]\n",
        "data1.set_index(data1.fecha,inplace=True)\n",
        "data1.iloc[:,2].tail(1)"
      ],
      "execution_count": 7,
      "outputs": [
        {
          "output_type": "execute_result",
          "data": {
            "text/plain": [
              "fecha\n",
              "2021-Agosto    141.215168\n",
              "Name: Índice Serie Original\\n2004=100, dtype: float64"
            ]
          },
          "metadata": {},
          "execution_count": 7
        }
      ]
    },
    {
      "cell_type": "code",
      "metadata": {
        "id": "X0Sd_s4JR1iO",
        "colab": {
          "base_uri": "https://localhost:8080/",
          "height": 0
        },
        "outputId": "19b8df97-4958-4b2f-d7b9-9dff17edf6bd"
      },
      "source": [
        "imaeLA = pd.merge(imaeLA,data1.iloc[:,2],how='left',left_index=True,right_index=True)\n",
        "imaeLA.columns = [*imaeLA.columns[:-1], 'Argentina']\n",
        "imaeLA.tail(1)"
      ],
      "execution_count": 8,
      "outputs": [
        {
          "output_type": "execute_result",
          "data": {
            "text/html": [
              "<div>\n",
              "<style scoped>\n",
              "    .dataframe tbody tr th:only-of-type {\n",
              "        vertical-align: middle;\n",
              "    }\n",
              "\n",
              "    .dataframe tbody tr th {\n",
              "        vertical-align: top;\n",
              "    }\n",
              "\n",
              "    .dataframe thead th {\n",
              "        text-align: right;\n",
              "    }\n",
              "</style>\n",
              "<table border=\"1\" class=\"dataframe\">\n",
              "  <thead>\n",
              "    <tr style=\"text-align: right;\">\n",
              "      <th></th>\n",
              "      <th>Costa Rica</th>\n",
              "      <th>El Salvador</th>\n",
              "      <th>Guatemala</th>\n",
              "      <th>Honduras</th>\n",
              "      <th>Nicaragua</th>\n",
              "      <th>República Dominicana</th>\n",
              "      <th>Panamá</th>\n",
              "      <th>Argentina</th>\n",
              "    </tr>\n",
              "  </thead>\n",
              "  <tbody>\n",
              "    <tr>\n",
              "      <th>2021-Septiembre</th>\n",
              "      <td>109.03</td>\n",
              "      <td>NaN</td>\n",
              "      <td>NaN</td>\n",
              "      <td>251.03</td>\n",
              "      <td>NaN</td>\n",
              "      <td>180.96</td>\n",
              "      <td>NaN</td>\n",
              "      <td>NaN</td>\n",
              "    </tr>\n",
              "  </tbody>\n",
              "</table>\n",
              "</div>"
            ],
            "text/plain": [
              "                 Costa Rica  El Salvador  ...  Panamá  Argentina\n",
              "2021-Septiembre      109.03          NaN  ...     NaN        NaN\n",
              "\n",
              "[1 rows x 8 columns]"
            ]
          },
          "metadata": {},
          "execution_count": 8
        }
      ]
    },
    {
      "cell_type": "markdown",
      "metadata": {
        "id": "USJ5m_3XS6ji"
      },
      "source": [
        "### **Brasil**"
      ]
    },
    {
      "cell_type": "markdown",
      "metadata": {
        "id": "rhunUnSlLzy_"
      },
      "source": [
        "#### Publicaciones :\n",
        "1. 15 sept\n",
        "2. 15 Oct\n",
        "3. 16 Nov\n",
        "4. 15 Dic"
      ]
    },
    {
      "cell_type": "code",
      "metadata": {
        "id": "A6-HZYuyofz0",
        "colab": {
          "base_uri": "https://localhost:8080/",
          "height": 0
        },
        "outputId": "e45bc185-6a57-470b-f323-2ba88a2584bc"
      },
      "source": [
        "urljson = \"https://api.bcb.gov.br/dados/serie/bcdata.sgs.24363/dados?formato=json\"\n",
        "urllib2.urlretrieve(urljson, \"brasil.json\")\n",
        "bra = pd.read_json('brasil.json')\n",
        "bra.rename(columns={'valor':'Brasil'},inplace=True)\n",
        "\n",
        "bra['Brasil1'] = bra.Brasil.pct_change(12)*100 # calculo tasa de crecimiento\n",
        "bra['date'] = pd.to_datetime(bra['data'],format='%d/%m/%Y') # transformamos a formato fecha\n",
        "# Creamos indice\n",
        "bra['fecha'] = pd.DatetimeIndex(bra['date']).year.astype(str) +\"-\"+pd.DatetimeIndex(bra['date']).month.astype(str)\n",
        "\n",
        "nombre_mes = [meses[i][1] for i in pd.DatetimeIndex(bra['date']).month.tolist()] # obtenemos nombre del mes\n",
        "bra['fecha'] = pd.DatetimeIndex(bra['date']).year.astype(str) +\"-\"+ nombre_mes # creamos indice\n",
        "bra.set_index(bra.fecha,inplace=True) #reemplazamos indice\n",
        "\n",
        "imaela = pd.merge(imaeLA,bra['Brasil'],how='left',left_index=True,right_index=True) # combinamos la data\n",
        "bra.tail(1)"
      ],
      "execution_count": 9,
      "outputs": [
        {
          "output_type": "execute_result",
          "data": {
            "text/html": [
              "<div>\n",
              "<style scoped>\n",
              "    .dataframe tbody tr th:only-of-type {\n",
              "        vertical-align: middle;\n",
              "    }\n",
              "\n",
              "    .dataframe tbody tr th {\n",
              "        vertical-align: top;\n",
              "    }\n",
              "\n",
              "    .dataframe thead th {\n",
              "        text-align: right;\n",
              "    }\n",
              "</style>\n",
              "<table border=\"1\" class=\"dataframe\">\n",
              "  <thead>\n",
              "    <tr style=\"text-align: right;\">\n",
              "      <th></th>\n",
              "      <th>data</th>\n",
              "      <th>Brasil</th>\n",
              "      <th>Brasil1</th>\n",
              "      <th>date</th>\n",
              "      <th>fecha</th>\n",
              "    </tr>\n",
              "    <tr>\n",
              "      <th>fecha</th>\n",
              "      <th></th>\n",
              "      <th></th>\n",
              "      <th></th>\n",
              "      <th></th>\n",
              "      <th></th>\n",
              "    </tr>\n",
              "  </thead>\n",
              "  <tbody>\n",
              "    <tr>\n",
              "      <th>2021-Septiembre</th>\n",
              "      <td>01/09/2021</td>\n",
              "      <td>139.21</td>\n",
              "      <td>1.524212</td>\n",
              "      <td>2021-09-01</td>\n",
              "      <td>2021-Septiembre</td>\n",
              "    </tr>\n",
              "  </tbody>\n",
              "</table>\n",
              "</div>"
            ],
            "text/plain": [
              "                       data  Brasil   Brasil1       date            fecha\n",
              "fecha                                                                    \n",
              "2021-Septiembre  01/09/2021  139.21  1.524212 2021-09-01  2021-Septiembre"
            ]
          },
          "metadata": {},
          "execution_count": 9
        }
      ]
    },
    {
      "cell_type": "code",
      "metadata": {
        "id": "F7wsu6q6H9Oa"
      },
      "source": [
        " #    imaela"
      ],
      "execution_count": 10,
      "outputs": []
    },
    {
      "cell_type": "markdown",
      "metadata": {
        "id": "YlZNkOc6pfVo"
      },
      "source": [
        "### **Mexico**"
      ]
    },
    {
      "cell_type": "markdown",
      "metadata": {
        "id": "gp44d33BJ8hJ"
      },
      "source": [
        "#### Publicaciones disponibles las fechas: \n",
        "1. 27 sept \n",
        "2. 25 Oct\n",
        "3. 25 Nov\n",
        "4. 24 Dic"
      ]
    },
    {
      "cell_type": "code",
      "metadata": {
        "id": "G9quLL-jpnVD"
      },
      "source": [
        "url = \"https://www.inegi.org.mx/contenidos/temas/economia/cn/igae/tabulados/ori/IGAE_1.xlsx\"\n",
        "urllib2.urlretrieve(url, \"test.xlsx\")\n",
        "mex = pd.read_excel('test.xlsx',header=3,nrows=3)\n",
        "mex = mex.T.reset_index(drop=True) # transponemos y estandarizamos el indice\n",
        "mex.drop(0,inplace=True) # borramos primera fila\n",
        "mex[2] = round(mex[2].astype(float),2) # leyendo tasas de crecimiento en el formato numerico y redondeando\n",
        "mex[0] = mex[0].ffill()"
      ],
      "execution_count": 11,
      "outputs": []
    },
    {
      "cell_type": "code",
      "metadata": {
        "id": "LJzHJQ0Pq7Kc",
        "colab": {
          "base_uri": "https://localhost:8080/",
          "height": 0
        },
        "outputId": "df9c2a31-82bb-4966-ec3e-03fdb7ea3c1c"
      },
      "source": [
        "mex[1] = mex[1].replace(['oR','oP','lR','lP','eR','eP'],['o','o','l','l','e','e'], regex=True) #limpiar superindices \"Revisado\" \"Preliminar\"\n",
        "mex[0] = mex[0].replace('P','',regex=True) # limpiar preliminar de fecha\n",
        "mex.index = mex[0].astype('str') +\"-\"+ mex[1] #creamos indice para base de datos\n",
        "mex.columns = [*mex.columns[:-1], 'México'] # nombramos columna\n",
        "mex.dropna().tail(1) # mostrar ultimo valor no nulo"
      ],
      "execution_count": 12,
      "outputs": [
        {
          "output_type": "execute_result",
          "data": {
            "text/html": [
              "<div>\n",
              "<style scoped>\n",
              "    .dataframe tbody tr th:only-of-type {\n",
              "        vertical-align: middle;\n",
              "    }\n",
              "\n",
              "    .dataframe tbody tr th {\n",
              "        vertical-align: top;\n",
              "    }\n",
              "\n",
              "    .dataframe thead th {\n",
              "        text-align: right;\n",
              "    }\n",
              "</style>\n",
              "<table border=\"1\" class=\"dataframe\">\n",
              "  <thead>\n",
              "    <tr style=\"text-align: right;\">\n",
              "      <th></th>\n",
              "      <th>0</th>\n",
              "      <th>1</th>\n",
              "      <th>México</th>\n",
              "    </tr>\n",
              "  </thead>\n",
              "  <tbody>\n",
              "    <tr>\n",
              "      <th>2021-Agosto</th>\n",
              "      <td>2021</td>\n",
              "      <td>Agosto</td>\n",
              "      <td>107.05</td>\n",
              "    </tr>\n",
              "  </tbody>\n",
              "</table>\n",
              "</div>"
            ],
            "text/plain": [
              "                0       1  México\n",
              "2021-Agosto  2021  Agosto  107.05"
            ]
          },
          "metadata": {},
          "execution_count": 12
        }
      ]
    },
    {
      "cell_type": "code",
      "metadata": {
        "id": "QIx6594i6eEt"
      },
      "source": [
        "imaela = round(pd.merge(imaela,mex['México'],how='left',left_index=True,right_index=True),2) # combinamos las series"
      ],
      "execution_count": 13,
      "outputs": []
    },
    {
      "cell_type": "code",
      "metadata": {
        "id": "I8pV0b3HUrjM",
        "colab": {
          "base_uri": "https://localhost:8080/",
          "height": 0
        },
        "outputId": "a34a8ddf-60a0-4c70-9d2c-276b6911e3ab"
      },
      "source": [
        "imaela"
      ],
      "execution_count": 14,
      "outputs": [
        {
          "output_type": "execute_result",
          "data": {
            "text/html": [
              "<div>\n",
              "<style scoped>\n",
              "    .dataframe tbody tr th:only-of-type {\n",
              "        vertical-align: middle;\n",
              "    }\n",
              "\n",
              "    .dataframe tbody tr th {\n",
              "        vertical-align: top;\n",
              "    }\n",
              "\n",
              "    .dataframe thead th {\n",
              "        text-align: right;\n",
              "    }\n",
              "</style>\n",
              "<table border=\"1\" class=\"dataframe\">\n",
              "  <thead>\n",
              "    <tr style=\"text-align: right;\">\n",
              "      <th></th>\n",
              "      <th>Costa Rica</th>\n",
              "      <th>El Salvador</th>\n",
              "      <th>Guatemala</th>\n",
              "      <th>Honduras</th>\n",
              "      <th>Nicaragua</th>\n",
              "      <th>República Dominicana</th>\n",
              "      <th>Panamá</th>\n",
              "      <th>Argentina</th>\n",
              "      <th>Brasil</th>\n",
              "      <th>México</th>\n",
              "    </tr>\n",
              "  </thead>\n",
              "  <tbody>\n",
              "    <tr>\n",
              "      <th>2020-Enero</th>\n",
              "      <td>104.13</td>\n",
              "      <td>110.80</td>\n",
              "      <td>127.40</td>\n",
              "      <td>243.14</td>\n",
              "      <td>152.88</td>\n",
              "      <td>179.04</td>\n",
              "      <td>345.73</td>\n",
              "      <td>132.28</td>\n",
              "      <td>133.72</td>\n",
              "      <td>111.90</td>\n",
              "    </tr>\n",
              "    <tr>\n",
              "      <th>2020-Febrero</th>\n",
              "      <td>105.17</td>\n",
              "      <td>110.06</td>\n",
              "      <td>125.54</td>\n",
              "      <td>242.59</td>\n",
              "      <td>144.12</td>\n",
              "      <td>183.24</td>\n",
              "      <td>338.73</td>\n",
              "      <td>129.75</td>\n",
              "      <td>134.77</td>\n",
              "      <td>108.32</td>\n",
              "    </tr>\n",
              "    <tr>\n",
              "      <th>2020-Marzo</th>\n",
              "      <td>103.55</td>\n",
              "      <td>105.56</td>\n",
              "      <td>121.36</td>\n",
              "      <td>218.14</td>\n",
              "      <td>140.05</td>\n",
              "      <td>165.67</td>\n",
              "      <td>364.78</td>\n",
              "      <td>129.10</td>\n",
              "      <td>136.84</td>\n",
              "      <td>109.83</td>\n",
              "    </tr>\n",
              "    <tr>\n",
              "      <th>2020-Abril</th>\n",
              "      <td>90.88</td>\n",
              "      <td>88.28</td>\n",
              "      <td>112.77</td>\n",
              "      <td>186.13</td>\n",
              "      <td>124.67</td>\n",
              "      <td>125.35</td>\n",
              "      <td>247.19</td>\n",
              "      <td>111.90</td>\n",
              "      <td>119.25</td>\n",
              "      <td>87.89</td>\n",
              "    </tr>\n",
              "    <tr>\n",
              "      <th>2020-Mayo</th>\n",
              "      <td>93.09</td>\n",
              "      <td>89.88</td>\n",
              "      <td>111.25</td>\n",
              "      <td>188.45</td>\n",
              "      <td>133.85</td>\n",
              "      <td>158.43</td>\n",
              "      <td>228.30</td>\n",
              "      <td>131.29</td>\n",
              "      <td>119.91</td>\n",
              "      <td>89.31</td>\n",
              "    </tr>\n",
              "    <tr>\n",
              "      <th>2020-Junio</th>\n",
              "      <td>97.03</td>\n",
              "      <td>96.97</td>\n",
              "      <td>111.06</td>\n",
              "      <td>208.19</td>\n",
              "      <td>128.81</td>\n",
              "      <td>160.89</td>\n",
              "      <td>243.01</td>\n",
              "      <td>133.30</td>\n",
              "      <td>126.29</td>\n",
              "      <td>97.82</td>\n",
              "    </tr>\n",
              "    <tr>\n",
              "      <th>2020-Julio</th>\n",
              "      <td>92.91</td>\n",
              "      <td>96.05</td>\n",
              "      <td>117.42</td>\n",
              "      <td>208.83</td>\n",
              "      <td>147.58</td>\n",
              "      <td>162.35</td>\n",
              "      <td>241.95</td>\n",
              "      <td>128.19</td>\n",
              "      <td>135.84</td>\n",
              "      <td>101.96</td>\n",
              "    </tr>\n",
              "    <tr>\n",
              "      <th>2020-Agosto</th>\n",
              "      <td>93.35</td>\n",
              "      <td>102.57</td>\n",
              "      <td>120.25</td>\n",
              "      <td>225.70</td>\n",
              "      <td>138.50</td>\n",
              "      <td>169.07</td>\n",
              "      <td>251.35</td>\n",
              "      <td>125.17</td>\n",
              "      <td>135.51</td>\n",
              "      <td>102.65</td>\n",
              "    </tr>\n",
              "    <tr>\n",
              "      <th>2020-Septiembre</th>\n",
              "      <td>97.99</td>\n",
              "      <td>106.44</td>\n",
              "      <td>121.45</td>\n",
              "      <td>230.41</td>\n",
              "      <td>139.98</td>\n",
              "      <td>163.68</td>\n",
              "      <td>268.97</td>\n",
              "      <td>126.60</td>\n",
              "      <td>137.12</td>\n",
              "      <td>102.92</td>\n",
              "    </tr>\n",
              "    <tr>\n",
              "      <th>2020-Octubre</th>\n",
              "      <td>102.09</td>\n",
              "      <td>106.64</td>\n",
              "      <td>125.72</td>\n",
              "      <td>249.68</td>\n",
              "      <td>148.48</td>\n",
              "      <td>175.09</td>\n",
              "      <td>312.12</td>\n",
              "      <td>131.73</td>\n",
              "      <td>139.74</td>\n",
              "      <td>109.17</td>\n",
              "    </tr>\n",
              "    <tr>\n",
              "      <th>2020-Noviembre</th>\n",
              "      <td>105.13</td>\n",
              "      <td>111.85</td>\n",
              "      <td>128.86</td>\n",
              "      <td>218.99</td>\n",
              "      <td>148.75</td>\n",
              "      <td>181.13</td>\n",
              "      <td>300.21</td>\n",
              "      <td>132.97</td>\n",
              "      <td>138.10</td>\n",
              "      <td>111.16</td>\n",
              "    </tr>\n",
              "    <tr>\n",
              "      <th>2020-Diciembre</th>\n",
              "      <td>110.97</td>\n",
              "      <td>122.29</td>\n",
              "      <td>136.24</td>\n",
              "      <td>257.91</td>\n",
              "      <td>167.28</td>\n",
              "      <td>192.02</td>\n",
              "      <td>316.10</td>\n",
              "      <td>132.42</td>\n",
              "      <td>139.41</td>\n",
              "      <td>110.06</td>\n",
              "    </tr>\n",
              "    <tr>\n",
              "      <th>2021-Enero</th>\n",
              "      <td>97.54</td>\n",
              "      <td>109.01</td>\n",
              "      <td>129.22</td>\n",
              "      <td>230.06</td>\n",
              "      <td>154.77</td>\n",
              "      <td>175.80</td>\n",
              "      <td>292.10</td>\n",
              "      <td>129.49</td>\n",
              "      <td>132.03</td>\n",
              "      <td>105.70</td>\n",
              "    </tr>\n",
              "    <tr>\n",
              "      <th>2021-Febrero</th>\n",
              "      <td>99.94</td>\n",
              "      <td>108.76</td>\n",
              "      <td>128.60</td>\n",
              "      <td>236.15</td>\n",
              "      <td>147.43</td>\n",
              "      <td>185.25</td>\n",
              "      <td>305.62</td>\n",
              "      <td>126.69</td>\n",
              "      <td>134.80</td>\n",
              "      <td>102.80</td>\n",
              "    </tr>\n",
              "    <tr>\n",
              "      <th>2021-Marzo</th>\n",
              "      <td>107.64</td>\n",
              "      <td>114.72</td>\n",
              "      <td>133.50</td>\n",
              "      <td>247.84</td>\n",
              "      <td>151.35</td>\n",
              "      <td>183.30</td>\n",
              "      <td>342.93</td>\n",
              "      <td>146.29</td>\n",
              "      <td>144.06</td>\n",
              "      <td>110.75</td>\n",
              "    </tr>\n",
              "    <tr>\n",
              "      <th>2021-Abril</th>\n",
              "      <td>102.45</td>\n",
              "      <td>110.69</td>\n",
              "      <td>129.98</td>\n",
              "      <td>234.59</td>\n",
              "      <td>144.23</td>\n",
              "      <td>184.40</td>\n",
              "      <td>304.00</td>\n",
              "      <td>144.94</td>\n",
              "      <td>138.91</td>\n",
              "      <td>107.52</td>\n",
              "    </tr>\n",
              "    <tr>\n",
              "      <th>2021-Mayo</th>\n",
              "      <td>105.50</td>\n",
              "      <td>114.65</td>\n",
              "      <td>129.30</td>\n",
              "      <td>242.40</td>\n",
              "      <td>156.14</td>\n",
              "      <td>192.09</td>\n",
              "      <td>329.26</td>\n",
              "      <td>150.19</td>\n",
              "      <td>136.85</td>\n",
              "      <td>111.75</td>\n",
              "    </tr>\n",
              "    <tr>\n",
              "      <th>2021-Junio</th>\n",
              "      <td>105.86</td>\n",
              "      <td>114.41</td>\n",
              "      <td>126.27</td>\n",
              "      <td>248.26</td>\n",
              "      <td>151.74</td>\n",
              "      <td>181.33</td>\n",
              "      <td>322.67</td>\n",
              "      <td>148.85</td>\n",
              "      <td>137.46</td>\n",
              "      <td>110.79</td>\n",
              "    </tr>\n",
              "    <tr>\n",
              "      <th>2021-Julio</th>\n",
              "      <td>108.22</td>\n",
              "      <td>109.65</td>\n",
              "      <td>130.66</td>\n",
              "      <td>241.80</td>\n",
              "      <td>160.30</td>\n",
              "      <td>181.96</td>\n",
              "      <td>328.86</td>\n",
              "      <td>143.29</td>\n",
              "      <td>143.28</td>\n",
              "      <td>109.24</td>\n",
              "    </tr>\n",
              "    <tr>\n",
              "      <th>2021-Agosto</th>\n",
              "      <td>105.56</td>\n",
              "      <td>112.60</td>\n",
              "      <td>129.34</td>\n",
              "      <td>256.38</td>\n",
              "      <td>151.16</td>\n",
              "      <td>188.83</td>\n",
              "      <td>317.68</td>\n",
              "      <td>141.22</td>\n",
              "      <td>141.94</td>\n",
              "      <td>107.05</td>\n",
              "    </tr>\n",
              "    <tr>\n",
              "      <th>2021-Septiembre</th>\n",
              "      <td>109.03</td>\n",
              "      <td>NaN</td>\n",
              "      <td>NaN</td>\n",
              "      <td>251.03</td>\n",
              "      <td>NaN</td>\n",
              "      <td>180.96</td>\n",
              "      <td>NaN</td>\n",
              "      <td>NaN</td>\n",
              "      <td>139.21</td>\n",
              "      <td>NaN</td>\n",
              "    </tr>\n",
              "  </tbody>\n",
              "</table>\n",
              "</div>"
            ],
            "text/plain": [
              "                 Costa Rica  El Salvador  Guatemala  ...  Argentina  Brasil  México\n",
              "2020-Enero           104.13       110.80     127.40  ...     132.28  133.72  111.90\n",
              "2020-Febrero         105.17       110.06     125.54  ...     129.75  134.77  108.32\n",
              "2020-Marzo           103.55       105.56     121.36  ...     129.10  136.84  109.83\n",
              "2020-Abril            90.88        88.28     112.77  ...     111.90  119.25   87.89\n",
              "2020-Mayo             93.09        89.88     111.25  ...     131.29  119.91   89.31\n",
              "2020-Junio            97.03        96.97     111.06  ...     133.30  126.29   97.82\n",
              "2020-Julio            92.91        96.05     117.42  ...     128.19  135.84  101.96\n",
              "2020-Agosto           93.35       102.57     120.25  ...     125.17  135.51  102.65\n",
              "2020-Septiembre       97.99       106.44     121.45  ...     126.60  137.12  102.92\n",
              "2020-Octubre         102.09       106.64     125.72  ...     131.73  139.74  109.17\n",
              "2020-Noviembre       105.13       111.85     128.86  ...     132.97  138.10  111.16\n",
              "2020-Diciembre       110.97       122.29     136.24  ...     132.42  139.41  110.06\n",
              "2021-Enero            97.54       109.01     129.22  ...     129.49  132.03  105.70\n",
              "2021-Febrero          99.94       108.76     128.60  ...     126.69  134.80  102.80\n",
              "2021-Marzo           107.64       114.72     133.50  ...     146.29  144.06  110.75\n",
              "2021-Abril           102.45       110.69     129.98  ...     144.94  138.91  107.52\n",
              "2021-Mayo            105.50       114.65     129.30  ...     150.19  136.85  111.75\n",
              "2021-Junio           105.86       114.41     126.27  ...     148.85  137.46  110.79\n",
              "2021-Julio           108.22       109.65     130.66  ...     143.29  143.28  109.24\n",
              "2021-Agosto          105.56       112.60     129.34  ...     141.22  141.94  107.05\n",
              "2021-Septiembre      109.03          NaN        NaN  ...        NaN  139.21     NaN\n",
              "\n",
              "[21 rows x 10 columns]"
            ]
          },
          "metadata": {},
          "execution_count": 14
        }
      ]
    },
    {
      "cell_type": "code",
      "metadata": {
        "id": "2XyzaBWtpn_0"
      },
      "source": [
        "## link excel\n",
        "#https://www.inegi.org.mx/contenidos/temas/economia/cn/igae/tabulados/ori/IGAE_1.xlsx       indice\n",
        "\n",
        "#https://www.inegi.org.mx/contenidos/temas/economia/cn/igae/tabulados/ori/IGAE_2.xlsx       crecimiento"
      ],
      "execution_count": 15,
      "outputs": []
    },
    {
      "cell_type": "markdown",
      "metadata": {
        "id": "av3nykGIzFj-"
      },
      "source": [
        "### **Perú**"
      ]
    },
    {
      "cell_type": "markdown",
      "metadata": {
        "id": "Zxz5C9hXDTEC"
      },
      "source": [
        "#### Publicaciones disponibles a fecha:\n",
        " \n",
        "2. 21 Oct\n",
        "3. 18 Nov\n",
        "4. "
      ]
    },
    {
      "cell_type": "code",
      "metadata": {
        "id": "Ztmnin9LzGhP"
      },
      "source": [
        "url = 'https://www.inei.gob.pe/media/principales_indicadores/CalculoPBI_98.zip' #cambio de 97 a 98 (jul ago)"
      ],
      "execution_count": 16,
      "outputs": []
    },
    {
      "cell_type": "code",
      "metadata": {
        "id": "fR9o9g9hzGpQ"
      },
      "source": [
        "zip, _ = urllib2.urlretrieve(url)\n",
        "with zipfile.ZipFile(zip, \"r\") as f:\n",
        "    f.extractall('/content')"
      ],
      "execution_count": 17,
      "outputs": []
    },
    {
      "cell_type": "code",
      "metadata": {
        "id": "NoK6gcMRzGvt"
      },
      "source": [
        "indicador = [f.namelist()[i] for i in range(len(f.namelist())) if 'Indicador Mensual' in f.namelist()[i]][0] # el 0 es para que elija el string de la lista\n",
        "df = pd.read_excel(indicador,sheet_name=1,header=3)[1:] # el indice esta en la segunda hoja del excel"
      ],
      "execution_count": 18,
      "outputs": []
    },
    {
      "cell_type": "code",
      "metadata": {
        "colab": {
          "base_uri": "https://localhost:8080/",
          "height": 0
        },
        "id": "XAf-5TNTFX7g",
        "outputId": "e9e30880-0f53-4297-914a-368da36f3087"
      },
      "source": [
        "indicador"
      ],
      "execution_count": 19,
      "outputs": [
        {
          "output_type": "execute_result",
          "data": {
            "application/vnd.google.colaboratory.intrinsic+json": {
              "type": "string"
            },
            "text/plain": [
              "'Indicador Mensual de la Producción Nacional 08 2021 r.xlsx'"
            ]
          },
          "metadata": {},
          "execution_count": 19
        }
      ]
    },
    {
      "cell_type": "code",
      "metadata": {
        "id": "Db-wpEmd1M4i"
      },
      "source": [
        "pe = round(df.filter(like='Índice Global'),2)   # regex='spike|spke' se puede usar regex para en caso de que escriban las columnas mal\n",
        "pe['YM'] = df['Año y Mes'].astype(int).astype(str)\n",
        "\n",
        "#  IG.1 Mensual   IG.2 Acumulado  IG.3 Anual\n",
        "pe['fecha'] =  pe['YM'].str[0:4] +'-'+ pe['YM'].str[4:7].astype(int).map(meses_dict)  # fecha\n",
        "pe.set_index('fecha',inplace=True)\n",
        "\n",
        "pe.rename(columns={pe.columns[0]:'Perú',pe.columns[1]:'Perú_i',pe.columns[2]:'Perú_a'},inplace=True)"
      ],
      "execution_count": 20,
      "outputs": []
    },
    {
      "cell_type": "code",
      "metadata": {
        "id": "T5rh--_j38St"
      },
      "source": [
        "imaela = imaela.merge(pe['Perú'],how='left',left_index=True,right_index=True)"
      ],
      "execution_count": 21,
      "outputs": []
    },
    {
      "cell_type": "markdown",
      "metadata": {
        "id": "A2MSTFg45f_H"
      },
      "source": [
        "### **Chile**"
      ]
    },
    {
      "cell_type": "markdown",
      "metadata": {
        "id": "hqlvksKyKnZL"
      },
      "source": [
        "#### Publicaciones disponibles las fechas:\n",
        " \n",
        "2. 1 Oct  - Agosto\n",
        "3. 2 Nov  - Septiembre\n",
        "4. 1 Dic - Noviembre"
      ]
    },
    {
      "cell_type": "code",
      "metadata": {
        "id": "bKL_VCs35h82"
      },
      "source": [
        "url = \"https://si3.bcentral.cl/estadisticas/Principal1/excel/CCNN/IMACEC/Excel/IMACEC.xlsx\"\n",
        "urllib2.urlretrieve(url, \"chile.xlsx\")\n",
        "df = pd.read_excel('chile.xlsx',header=5,keep_default_na=False)"
      ],
      "execution_count": 22,
      "outputs": []
    },
    {
      "cell_type": "code",
      "metadata": {
        "id": "Gv8NAd-xcUEZ",
        "colab": {
          "base_uri": "https://localhost:8080/",
          "height": 0
        },
        "outputId": "30a4c1c1-1079-4df4-c833-2d8400b70571"
      },
      "source": [
        "chile = df.loc[1:,[df.columns[0],df.columns[1],'Imacec']][:-10] # excluimos las ultimas 10 filas (pie de pagina)\n",
        "chile.rename(columns = {'Imacec':'Chile'}, inplace = True) # renombramos\n",
        "chile['Chile1'] = pd.to_numeric(chile.Chile).pct_change(12)*100\n",
        "###\n",
        "chile[chile.columns[0]] = pd.to_numeric(chile[chile.columns[0]], errors='coerce').ffill().bfill().astype(int)\n",
        " # las columnas del excel contienen string en blanco por lo que se transformaron a numero antes de hacer el forward fill\n",
        " # el backward fill es para asegurar que no quede NaN por detras y dificulte la creacion del indice\n",
        "###\n",
        "\n",
        "chile['mes'] = chile[chile.columns[1]].map(mes3).bfill() # creando mes y usando el bfill por el mismo motivo explicado arriba\n",
        "\n",
        "#Creamos el indice\n",
        "chile.index = chile[chile.columns[0]].astype('str') +\"-\"+ chile.mes\n",
        "\n",
        "chile.tail(1)"
      ],
      "execution_count": 23,
      "outputs": [
        {
          "output_type": "execute_result",
          "data": {
            "text/html": [
              "<div>\n",
              "<style scoped>\n",
              "    .dataframe tbody tr th:only-of-type {\n",
              "        vertical-align: middle;\n",
              "    }\n",
              "\n",
              "    .dataframe tbody tr th {\n",
              "        vertical-align: top;\n",
              "    }\n",
              "\n",
              "    .dataframe thead th {\n",
              "        text-align: right;\n",
              "    }\n",
              "</style>\n",
              "<table border=\"1\" class=\"dataframe\">\n",
              "  <thead>\n",
              "    <tr style=\"text-align: right;\">\n",
              "      <th></th>\n",
              "      <th></th>\n",
              "      <th>Unnamed: 1</th>\n",
              "      <th>Chile</th>\n",
              "      <th>Chile1</th>\n",
              "      <th>mes</th>\n",
              "    </tr>\n",
              "  </thead>\n",
              "  <tbody>\n",
              "    <tr>\n",
              "      <th>2021-Septiembre</th>\n",
              "      <td>2021</td>\n",
              "      <td>sep</td>\n",
              "      <td>119.228</td>\n",
              "      <td>15.567727</td>\n",
              "      <td>Septiembre</td>\n",
              "    </tr>\n",
              "  </tbody>\n",
              "</table>\n",
              "</div>"
            ],
            "text/plain": [
              "                      Unnamed: 1    Chile     Chile1         mes\n",
              "2021-Septiembre  2021        sep  119.228  15.567727  Septiembre"
            ]
          },
          "metadata": {},
          "execution_count": 23
        }
      ]
    },
    {
      "cell_type": "code",
      "metadata": {
        "colab": {
          "base_uri": "https://localhost:8080/"
        },
        "id": "Imhrlm8mSnTJ",
        "outputId": "41818cbf-44b4-47f1-cb26-8c1df4a468f8"
      },
      "source": [
        " pd.to_numeric(chile[chile.columns[0]], errors='coerce')"
      ],
      "execution_count": 24,
      "outputs": [
        {
          "output_type": "execute_result",
          "data": {
            "text/plain": [
              "2013-Enero         2013\n",
              "2014-Enero         2014\n",
              "2015-Enero         2015\n",
              "2016-Enero         2016\n",
              "2017-Enero         2017\n",
              "                   ... \n",
              "2021-Mayo          2021\n",
              "2021-Junio         2021\n",
              "2021-Julio         2021\n",
              "2021-Agosto        2021\n",
              "2021-Septiembre    2021\n",
              "Name:  , Length: 114, dtype: int64"
            ]
          },
          "metadata": {},
          "execution_count": 24
        }
      ]
    },
    {
      "cell_type": "code",
      "metadata": {
        "id": "euH3hfbWtab4"
      },
      "source": [
        "imaelatam = round(imaela.merge(chile['Chile'],how='left',left_index=True,right_index=True),2)\n",
        "imaelatam = imaelatam[~imaelatam.index.duplicated(keep='last')].reindex(imaela.index) # hay duplicados, los eliminamos y reindexamos"
      ],
      "execution_count": 25,
      "outputs": []
    },
    {
      "cell_type": "code",
      "metadata": {
        "id": "6kQyvbAHrg2D"
      },
      "source": [
        "#  imaelatam"
      ],
      "execution_count": 26,
      "outputs": []
    },
    {
      "cell_type": "markdown",
      "metadata": {
        "id": "rSOwOPisI0mw"
      },
      "source": [
        "### **Ecuador**"
      ]
    },
    {
      "cell_type": "markdown",
      "metadata": {
        "id": "GqkkMgL4LIwV"
      },
      "source": [
        "#### Publicaciones disponibles las fechas: \n",
        "1. 14 sept    -    Julio\n",
        "2. 13 Oct    -     Agosto\n",
        "3. 15 Nov    -     Sep\n",
        "4. 24 Dic    -     Oct"
      ]
    },
    {
      "cell_type": "code",
      "metadata": {
        "id": "sscszb2Zd1gv",
        "colab": {
          "base_uri": "https://localhost:8080/"
        },
        "outputId": "9e225a71-2f69-4a59-98b1-a01d0211c80a"
      },
      "source": [
        "url = \"https://contenido.bce.fin.ec/documentos/PublicacionesNotas/Catalogo/IEMensual/Adelantos/IEM-452-e.xlsx\"\n",
        "urllib2.urlretrieve(url, \"Ecuador.xlsx\")\n",
        "df = pd.read_excel('Ecuador.xlsx',header=7,keep_default_na=False)[1:13].reset_index()\n",
        "\n",
        "ecu = (df.set_index(['Unnamed: 0','index'])\n",
        ".stack()\n",
        ".reset_index()\n",
        ".rename(columns={'Unnamed: 0':'mes','level_2':'Year'})).sort_values(['Year','index']) # ingenieria de base de datos\n",
        "\n",
        "# Elaboracion de indice\n",
        "ecu['Mes'] = ecu.mes.str.lower().map(mes3)\n",
        "ecu.insert(3, 'fecha', ecu.Year.astype(str) + '-' + ecu.Mes)\n",
        "ecu.index = ecu.fecha\n",
        "\n",
        "# Variacion interanual\n",
        "ecu.rename(columns={0:'Ecuador'},inplace=True)\n",
        "ecu['Ecuador1'] = pd.to_numeric(ecu['Ecuador'],errors='coerce').pct_change(12)*100\n",
        "\n",
        "ecu.Ecuador.tail()"
      ],
      "execution_count": 27,
      "outputs": [
        {
          "output_type": "execute_result",
          "data": {
            "text/plain": [
              "fecha\n",
              "2021-Agosto        168.508\n",
              "2021-Septiembre    173.195\n",
              "2021-Octubre              \n",
              "2021-Noviembre            \n",
              "2021-Diciembre            \n",
              "Name: Ecuador, dtype: object"
            ]
          },
          "metadata": {},
          "execution_count": 27
        }
      ]
    },
    {
      "cell_type": "code",
      "metadata": {
        "id": "ok4gz6V3nbeh"
      },
      "source": [
        "imaela = round(pd.merge(imaelatam,ecu['Ecuador'],how='left',left_index=True,right_index=True),2)"
      ],
      "execution_count": 28,
      "outputs": []
    },
    {
      "cell_type": "code",
      "metadata": {
        "id": "rjP6l55-S_KT"
      },
      "source": [
        "#   imaela"
      ],
      "execution_count": 29,
      "outputs": []
    },
    {
      "cell_type": "markdown",
      "metadata": {
        "id": "wrBNeqzd4se-"
      },
      "source": [
        "df = np.array(tb.read_pdf('ecuador.pdf',pages = '5',stream=True,multiple_tables=True,pandas_options={'header':None}))\n",
        "dff = pd.DataFrame(df.reshape(-1,5)) # en 2022 el reshape debe ser (-1,6)"
      ]
    },
    {
      "cell_type": "markdown",
      "metadata": {
        "id": "DYqsQgFR-FOz"
      },
      "source": [
        "dff[dff.iloc[3,2].split(' ')] = dff[2].str.split(' ',expand=True)\n",
        "if dff.iloc[3,3] in range(2020,2040,1):\n",
        "  dff[int(dff.iloc[3,3])] = dff[3]\n",
        "  dff[int(dff.iloc[3,4])] = dff[4]\n",
        "else:\n",
        "  dff[int(dff.iloc[3,4])] = dff[4]"
      ]
    },
    {
      "cell_type": "markdown",
      "metadata": {
        "id": "nOgS6gZj_kOg"
      },
      "source": [
        "if dff.iloc[18,0] in ['Ene']:\n",
        "    ecu = dff.iloc[18:30,[0,-3,-2,-1]].reset_index(drop=True)\n",
        "else:\n",
        "    ecu = dff.iloc[19:31,[0,-3,-2,-1]].reset_index(drop=True)\n",
        " \n",
        "ecu['interanualAnterior'] = ecu.iloc[:,-2].astype(float)/ecu.iloc[:,-3].astype(float)*100-100\n",
        "ecu['Ecuador'] = ecu.iloc[:,-2].astype(float)/ecu.iloc[:,-3].astype(float)*100-100\n",
        "\n",
        "listames = [meses[1:][i][1] for i in range(len(meses[1:]))]\n",
        "ecu['mes'] = listames\n",
        "\n",
        "ecu.index = str(ecu.columns[-4]) + '-' + ecu.mes\n",
        "ecu.dropna().tail(1)"
      ]
    },
    {
      "cell_type": "markdown",
      "metadata": {
        "id": "SUl_ygsCnMPA"
      },
      "source": [
        "### **Bolivia**"
      ]
    },
    {
      "cell_type": "markdown",
      "metadata": {
        "id": "IHUnyuy1nVpw"
      },
      "source": [
        "#### Publicaciones disponibles las fechas:\n",
        " \n",
        "2. \n",
        "3. \n",
        "4."
      ]
    },
    {
      "cell_type": "code",
      "metadata": {
        "id": "ZA1eYTsrnc4A"
      },
      "source": [
        "urlbol = 'https://www.ine.gob.bo/index.php/estadisticas-economicas/indice-global-de-actividad-economica-igae/#1584545313102-06cf787f-a790'\n",
        "header= {'User-Agent': 'Mozilla/5.0 (X11; Linux x86_64) ' \n",
        "      'AppleWebKit/537.11 (KHTML, like Gecko) '\n",
        "      'Chrome/23.0.1271.64 Safari/537.11',\n",
        "      'Accept': 'text/html,application/xhtml+xml,application/xml;q=0.9,*/*;q=0.8',\n",
        "      'Accept-Charset': 'ISO-8859-1,utf-8;q=0.7,*;q=0.3',\n",
        "      'Accept-Encoding': 'none',\n",
        "      'Accept-Language': 'en-US,en;q=0.8',\n",
        "      'Connection': 'keep-alive'}\n",
        "req = urllib2.Request(url=urlbol, headers=header) \n",
        "page = urllib2.urlopen(req).read()"
      ],
      "execution_count": 32,
      "outputs": []
    },
    {
      "cell_type": "code",
      "metadata": {
        "colab": {
          "base_uri": "https://localhost:8080/"
        },
        "id": "1aB4zuN8r4Nv",
        "outputId": "8cdc4cda-0f51-4df8-a20e-d023de950fe8"
      },
      "source": [
        "soupbol = BeautifulSoup(page,'lxml')\n",
        "links = [a['href'] for a in soupbol.select(\"a[href*=nube.ine.gob.bo/index.php]\")] # extraemos links que contengan nube.ine.gob\n",
        " # ultimos link disponibles\n",
        "links # IGAE por actividad economica es el segundo"
      ],
      "execution_count": 33,
      "outputs": [
        {
          "output_type": "execute_result",
          "data": {
            "text/plain": [
              "['https://nube.ine.gob.bo/index.php/s/lhzNu4ISQEuXS1M/download',\n",
              " 'https://nube.ine.gob.bo/index.php/s/6Szm6RmYSBeRnsD/download',\n",
              " 'https://nube.ine.gob.bo/index.php/s/qNQexpgoZroGCYG/download',\n",
              " 'https://nube.ine.gob.bo/index.php/s/vsfGqiIoEXGddwJ/download',\n",
              " 'https://nube.ine.gob.bo/index.php/s/k0bRzzNhBXb7Ae2/download']"
            ]
          },
          "metadata": {},
          "execution_count": 33
        }
      ]
    },
    {
      "cell_type": "code",
      "metadata": {
        "colab": {
          "base_uri": "https://localhost:8080/"
        },
        "id": "0n-BsYwlrXNg",
        "outputId": "08e813f0-c2de-4d5a-d104-9de608bc4369"
      },
      "source": [
        "urllib2.urlretrieve(links[1], \"Bolivia.xlsx\")\n",
        "#https://nube.ine.gob.bo/index.php/s/6Szm6RmYSBeRnsD/download"
      ],
      "execution_count": 34,
      "outputs": [
        {
          "output_type": "execute_result",
          "data": {
            "text/plain": [
              "('Bolivia.xlsx', <http.client.HTTPMessage at 0x7f775667ab10>)"
            ]
          },
          "metadata": {},
          "execution_count": 34
        }
      ]
    },
    {
      "cell_type": "code",
      "metadata": {
        "id": "5RXiNmdfrXf_"
      },
      "source": [
        "df = pd.read_excel('Bolivia.xlsx',header=9)\n",
        "df.head(2)"
      ],
      "execution_count": null,
      "outputs": []
    },
    {
      "cell_type": "code",
      "metadata": {
        "id": "3u_9FltnVAzq"
      },
      "source": [
        "df.set_index(df.iloc[:,0],inplace=True)\n",
        "df = df.iloc[:,1:] # eliminar primera columna y ultimas 3 filas\n",
        "df = df.T.reset_index()"
      ],
      "execution_count": 56,
      "outputs": []
    },
    {
      "cell_type": "code",
      "metadata": {
        "id": "mz4BjQln522j"
      },
      "source": [
        "df"
      ],
      "execution_count": null,
      "outputs": []
    },
    {
      "cell_type": "code",
      "metadata": {
        "id": "F4o4M3ypvo3f"
      },
      "source": [
        "# PARA EXTRAER AÑO DE COLUMNA INDEX\n",
        "df['index'] = df['index'].astype(str).str.replace('\\(p\\)','')\n",
        "df['index'] = df['index'].str.replace('^0.[0-9]','nan')      # reemplaza los numeros decimales regex que empiece por 0. y le siga cualquier num\n",
        "df['index'] = df['index'].str.replace('^0$','nan')    # reemplaza toda fila con 0 como unico digito\n",
        "df['index'] = pd.to_numeric(df['index'],errors='coerce').ffill().astype(int)"
      ],
      "execution_count": 58,
      "outputs": []
    },
    {
      "cell_type": "code",
      "metadata": {
        "id": "v7sdukvsRs16"
      },
      "source": [
        "df['fecha'] = df['index'].astype(str) +'-'+ df[0].str.lower().map(mes3) # columna fecha\n",
        "df.set_index('fecha',inplace=True)\n",
        "df.rename(columns={df.columns[2]:'Bolivia'},inplace=True)"
      ],
      "execution_count": 59,
      "outputs": []
    },
    {
      "cell_type": "code",
      "metadata": {
        "id": "LQ1zRqkIyq-c"
      },
      "source": [
        "imaela = imaela.merge(df['Bolivia'],how='left',left_index=True,right_index=True)"
      ],
      "execution_count": 61,
      "outputs": []
    },
    {
      "cell_type": "code",
      "metadata": {
        "id": "6I7hzo5PzbVu"
      },
      "source": [
        "imaela"
      ],
      "execution_count": null,
      "outputs": []
    },
    {
      "cell_type": "markdown",
      "metadata": {
        "id": "RvPeziE4yKSp"
      },
      "source": [
        "## **El Salvador**"
      ]
    },
    {
      "cell_type": "markdown",
      "metadata": {
        "id": "Wh_pe3gzyKn7"
      },
      "source": [
        "#### Publicaciones disponibles las fechas:\n",
        " \n",
        "3. >   30 Nov\n",
        "4. >   23 Dic\n",
        "5. >   31 Ene"
      ]
    },
    {
      "cell_type": "code",
      "metadata": {
        "id": "8alkW5c2hy9Y"
      },
      "source": [
        "from selenium import webdriver\n",
        "pagina = 'https://www.bcr.gob.sv/bcrsite/?cdr=174&lang=es'"
      ],
      "execution_count": 63,
      "outputs": []
    },
    {
      "cell_type": "code",
      "metadata": {
        "id": "NWamVXLxyc0M",
        "colab": {
          "base_uri": "https://localhost:8080/"
        },
        "outputId": "dca18a77-00d1-4fb1-b7b3-ba0d65baf38a"
      },
      "source": [
        "##### **Otra forma de selenium**\n",
        "chrome_options = webdriver.ChromeOptions()\n",
        "chrome_options.add_argument('--headless')\n",
        "chrome_options.add_argument('--no-sandbox')\n",
        "chrome_options.add_argument('--disable-dev-shm-usage')\n",
        "wd = webdriver.Chrome('chromedriver',chrome_options=chrome_options)\n",
        "wd.get(pagina)"
      ],
      "execution_count": 64,
      "outputs": [
        {
          "output_type": "stream",
          "name": "stderr",
          "text": [
            "/usr/local/lib/python3.7/dist-packages/ipykernel_launcher.py:6: DeprecationWarning: use options instead of chrome_options\n",
            "  \n"
          ]
        }
      ]
    },
    {
      "cell_type": "code",
      "metadata": {
        "id": "9px3ggN5QDEO"
      },
      "source": [
        " #BC El Salvador\n",
        "#wd.get(pagina)\n",
        "\n",
        "# Clicks pertinentes para llegar a la tabla con indices imae SV\n",
        "wd.find_element(By.CLASS_NAME,'linkBtnNaranja').click() # ejecutar consulta"
      ],
      "execution_count": 65,
      "outputs": []
    },
    {
      "cell_type": "code",
      "metadata": {
        "id": "5gGn-qhWeWkA"
      },
      "source": [
        "# PARA EXTRAER LOS VALORES DE LOS INDICES\n",
        "\n",
        "tr = wd.find_element(By.ID,'tbl_setValores')\n",
        "data = tr.find_element(By.TAG_NAME,'tr')\n",
        "indices_salvador = pd.to_numeric(data.text.split(' ')) \n",
        "\n",
        "\n",
        "# PARA EXTRAER LAS FECHAS PARA EL MERGE\n",
        "soupsv = BeautifulSoup(wd.page_source,'html.parser')\n",
        "soupsv\n",
        "anios_sv = soupsv.find_all('td', style='text-align:center')\n",
        "mes_sv = soupsv.find_all('center')\n",
        "\n",
        "fecha1 = [anios_sv[i].text for i in range(len(anios_sv))] # lista con años \n",
        "fecha2 = [mes_sv[i].text.replace(' ','')[:3] for i in range(1,len(mes_sv))] # lista con meses en formato mmm\n",
        "\n",
        "fecha=[]\n",
        "for i in fecha1:\n",
        "  for j in range(1,13):\n",
        "    fecha.append(i + \"-\" + meses_dict[j])"
      ],
      "execution_count": 66,
      "outputs": []
    },
    {
      "cell_type": "code",
      "metadata": {
        "colab": {
          "base_uri": "https://localhost:8080/",
          "height": 0
        },
        "id": "rSf17gXWVPDm",
        "outputId": "cc936747-536e-4c83-ea1e-3d9abc43174d"
      },
      "source": [
        "# CREAR DF\n",
        "elsv = pd.DataFrame(index = fecha,columns=['sv'])\n",
        "for i in range(len(indices_salvador)):\n",
        "  elsv.sv[i] = indices_salvador[i]\n",
        "\n",
        "imaela['El Salvador'] = elsv.loc[imaela.index] # reemplazar valor en la tabla imaela\n",
        "\n",
        "elsv.loc[imaela.index][-3:]"
      ],
      "execution_count": 67,
      "outputs": [
        {
          "output_type": "execute_result",
          "data": {
            "text/html": [
              "<div>\n",
              "<style scoped>\n",
              "    .dataframe tbody tr th:only-of-type {\n",
              "        vertical-align: middle;\n",
              "    }\n",
              "\n",
              "    .dataframe tbody tr th {\n",
              "        vertical-align: top;\n",
              "    }\n",
              "\n",
              "    .dataframe thead th {\n",
              "        text-align: right;\n",
              "    }\n",
              "</style>\n",
              "<table border=\"1\" class=\"dataframe\">\n",
              "  <thead>\n",
              "    <tr style=\"text-align: right;\">\n",
              "      <th></th>\n",
              "      <th>sv</th>\n",
              "    </tr>\n",
              "  </thead>\n",
              "  <tbody>\n",
              "    <tr>\n",
              "      <th>2021-Julio</th>\n",
              "      <td>109.65</td>\n",
              "    </tr>\n",
              "    <tr>\n",
              "      <th>2021-Agosto</th>\n",
              "      <td>112.6</td>\n",
              "    </tr>\n",
              "    <tr>\n",
              "      <th>2021-Septiembre</th>\n",
              "      <td>NaN</td>\n",
              "    </tr>\n",
              "  </tbody>\n",
              "</table>\n",
              "</div>"
            ],
            "text/plain": [
              "                     sv\n",
              "2021-Julio       109.65\n",
              "2021-Agosto       112.6\n",
              "2021-Septiembre     NaN"
            ]
          },
          "metadata": {},
          "execution_count": 67
        }
      ]
    },
    {
      "cell_type": "markdown",
      "metadata": {
        "id": "MkoUi_tal0ST"
      },
      "source": [
        "### **Paraguay**"
      ]
    },
    {
      "cell_type": "code",
      "metadata": {
        "id": "vVlkRWfZIPOT"
      },
      "source": [
        "url = 'https://www.bcp.gov.py/indicador-mensual-de-actividad-economica-del-paraguay-imaep-i471'\n",
        "urlpy = 'https://www.bcp.gov.py/anexo-estadistico-del-informe-economico-i365'\n",
        "#the URL where you are requesting at\n",
        "req = urllib2.Request(url=urlpy, headers=header) \n",
        "page = urllib2.urlopen(req).read()"
      ],
      "execution_count": 68,
      "outputs": []
    },
    {
      "cell_type": "code",
      "metadata": {
        "id": "OHArZO25IcoC",
        "colab": {
          "base_uri": "https://localhost:8080/"
        },
        "outputId": "836cf00f-402b-44d1-ad5e-e588b5c1fd55"
      },
      "source": [
        "souppy = BeautifulSoup(page,'lxml')\n",
        "links = [a['href'] for a in souppy.select(\"a[href*=.xlsx]\")] # extraemos links que contengan 2021 \n",
        " # ultimos link disponibles\n",
        "links"
      ],
      "execution_count": 69,
      "outputs": [
        {
          "output_type": "execute_result",
          "data": {
            "text/plain": [
              "['userfiles/files/Anexo_Estad%C3%ADstico%20del%20Informe%20Econ%C3%B3mico_22_11_21%20VF1-23.xlsx']"
            ]
          },
          "metadata": {},
          "execution_count": 69
        }
      ]
    },
    {
      "cell_type": "code",
      "metadata": {
        "id": "0E0h9YIBnMNc"
      },
      "source": [
        "url2py = 'https://www.bcp.gov.py/' + links[0]\n",
        "req2 = requests.get(url2py, headers = header)  # nueva forma de descargar excel file de pagina de py"
      ],
      "execution_count": 70,
      "outputs": []
    },
    {
      "cell_type": "code",
      "metadata": {
        "id": "U1ymdV2Nnxqz"
      },
      "source": [
        "import datetime\n",
        "dfpy = pd.read_excel(req2.content,sheet_name='CUADRO 9',header=9).iloc[:-3,1:] # con limpieza iloc CUADRO 9 es IMAEP\n",
        "dfpy.rename(columns={dfpy.columns[1]:\"Paraguay\"},inplace=True)"
      ],
      "execution_count": 71,
      "outputs": []
    },
    {
      "cell_type": "code",
      "metadata": {
        "id": "LljSTskosyzQ"
      },
      "source": [
        "# FECHA COLUMNA\n",
        "dfpy['A'] = pd.DatetimeIndex(dfpy[dfpy.columns[0]]).year\n",
        "dfpy['M'] = pd.DatetimeIndex(dfpy[dfpy.columns[0]]).month.map(meses_dict)\n",
        "dfpy['fecha'] = dfpy.A.astype(str) + \"-\" + dfpy.M.astype(str)\n",
        "dfpy.set_index('fecha',inplace=True)"
      ],
      "execution_count": 72,
      "outputs": []
    },
    {
      "cell_type": "code",
      "metadata": {
        "id": "lNtQ0lHVwFZA"
      },
      "source": [
        "imaela = imaela.merge(dfpy['Paraguay'],how='left',left_index=True,right_index=True)"
      ],
      "execution_count": 73,
      "outputs": []
    },
    {
      "cell_type": "code",
      "metadata": {
        "id": "IrxgZGGjszCe",
        "colab": {
          "base_uri": "https://localhost:8080/",
          "height": 0
        },
        "outputId": "d0a3291b-5ab7-4cdf-d8ec-3c391ae6c2e7"
      },
      "source": [
        "imaela"
      ],
      "execution_count": 74,
      "outputs": [
        {
          "output_type": "execute_result",
          "data": {
            "text/html": [
              "<div>\n",
              "<style scoped>\n",
              "    .dataframe tbody tr th:only-of-type {\n",
              "        vertical-align: middle;\n",
              "    }\n",
              "\n",
              "    .dataframe tbody tr th {\n",
              "        vertical-align: top;\n",
              "    }\n",
              "\n",
              "    .dataframe thead th {\n",
              "        text-align: right;\n",
              "    }\n",
              "</style>\n",
              "<table border=\"1\" class=\"dataframe\">\n",
              "  <thead>\n",
              "    <tr style=\"text-align: right;\">\n",
              "      <th></th>\n",
              "      <th>Costa Rica</th>\n",
              "      <th>El Salvador</th>\n",
              "      <th>Guatemala</th>\n",
              "      <th>Honduras</th>\n",
              "      <th>Nicaragua</th>\n",
              "      <th>República Dominicana</th>\n",
              "      <th>Panamá</th>\n",
              "      <th>Argentina</th>\n",
              "      <th>Brasil</th>\n",
              "      <th>México</th>\n",
              "      <th>Perú</th>\n",
              "      <th>Chile</th>\n",
              "      <th>Ecuador</th>\n",
              "      <th>Bolivia</th>\n",
              "      <th>Paraguay</th>\n",
              "    </tr>\n",
              "  </thead>\n",
              "  <tbody>\n",
              "    <tr>\n",
              "      <th>2020-Enero</th>\n",
              "      <td>104.13</td>\n",
              "      <td>110.8</td>\n",
              "      <td>127.40</td>\n",
              "      <td>243.14</td>\n",
              "      <td>152.88</td>\n",
              "      <td>179.04</td>\n",
              "      <td>345.73</td>\n",
              "      <td>132.28</td>\n",
              "      <td>133.72</td>\n",
              "      <td>111.90</td>\n",
              "      <td>162.69</td>\n",
              "      <td>109.984</td>\n",
              "      <td>166.081</td>\n",
              "      <td>304.943</td>\n",
              "      <td>118.978597</td>\n",
              "    </tr>\n",
              "    <tr>\n",
              "      <th>2020-Febrero</th>\n",
              "      <td>105.17</td>\n",
              "      <td>110.06</td>\n",
              "      <td>125.54</td>\n",
              "      <td>242.59</td>\n",
              "      <td>144.12</td>\n",
              "      <td>183.24</td>\n",
              "      <td>338.73</td>\n",
              "      <td>129.75</td>\n",
              "      <td>134.77</td>\n",
              "      <td>108.32</td>\n",
              "      <td>161.66</td>\n",
              "      <td>106.315</td>\n",
              "      <td>151.878</td>\n",
              "      <td>277.363</td>\n",
              "      <td>122.558164</td>\n",
              "    </tr>\n",
              "    <tr>\n",
              "      <th>2020-Marzo</th>\n",
              "      <td>103.55</td>\n",
              "      <td>105.56</td>\n",
              "      <td>121.36</td>\n",
              "      <td>218.14</td>\n",
              "      <td>140.05</td>\n",
              "      <td>165.67</td>\n",
              "      <td>364.78</td>\n",
              "      <td>129.10</td>\n",
              "      <td>136.84</td>\n",
              "      <td>109.83</td>\n",
              "      <td>138.05</td>\n",
              "      <td>113.427</td>\n",
              "      <td>142.951</td>\n",
              "      <td>297.958</td>\n",
              "      <td>119.014428</td>\n",
              "    </tr>\n",
              "    <tr>\n",
              "      <th>2020-Abril</th>\n",
              "      <td>90.88</td>\n",
              "      <td>88.28</td>\n",
              "      <td>112.77</td>\n",
              "      <td>186.13</td>\n",
              "      <td>124.67</td>\n",
              "      <td>125.35</td>\n",
              "      <td>247.19</td>\n",
              "      <td>111.90</td>\n",
              "      <td>119.25</td>\n",
              "      <td>87.89</td>\n",
              "      <td>103.81</td>\n",
              "      <td>98.4788</td>\n",
              "      <td>101.926</td>\n",
              "      <td>234.039</td>\n",
              "      <td>97.781980</td>\n",
              "    </tr>\n",
              "    <tr>\n",
              "      <th>2020-Mayo</th>\n",
              "      <td>93.09</td>\n",
              "      <td>89.88</td>\n",
              "      <td>111.25</td>\n",
              "      <td>188.45</td>\n",
              "      <td>133.85</td>\n",
              "      <td>158.43</td>\n",
              "      <td>228.30</td>\n",
              "      <td>131.29</td>\n",
              "      <td>119.91</td>\n",
              "      <td>89.31</td>\n",
              "      <td>119.30</td>\n",
              "      <td>97.793</td>\n",
              "      <td>117.005</td>\n",
              "      <td>231.828</td>\n",
              "      <td>104.977220</td>\n",
              "    </tr>\n",
              "    <tr>\n",
              "      <th>2020-Junio</th>\n",
              "      <td>97.03</td>\n",
              "      <td>96.97</td>\n",
              "      <td>111.06</td>\n",
              "      <td>208.19</td>\n",
              "      <td>128.81</td>\n",
              "      <td>160.89</td>\n",
              "      <td>243.01</td>\n",
              "      <td>133.30</td>\n",
              "      <td>126.29</td>\n",
              "      <td>97.82</td>\n",
              "      <td>140.35</td>\n",
              "      <td>96.1215</td>\n",
              "      <td>132.598</td>\n",
              "      <td>266.589</td>\n",
              "      <td>107.681770</td>\n",
              "    </tr>\n",
              "    <tr>\n",
              "      <th>2020-Julio</th>\n",
              "      <td>92.91</td>\n",
              "      <td>96.05</td>\n",
              "      <td>117.42</td>\n",
              "      <td>208.83</td>\n",
              "      <td>147.58</td>\n",
              "      <td>162.35</td>\n",
              "      <td>241.95</td>\n",
              "      <td>128.19</td>\n",
              "      <td>135.84</td>\n",
              "      <td>101.96</td>\n",
              "      <td>154.69</td>\n",
              "      <td>96.1001</td>\n",
              "      <td>141.261</td>\n",
              "      <td>268.308</td>\n",
              "      <td>111.653274</td>\n",
              "    </tr>\n",
              "    <tr>\n",
              "      <th>2020-Agosto</th>\n",
              "      <td>93.35</td>\n",
              "      <td>102.57</td>\n",
              "      <td>120.25</td>\n",
              "      <td>225.70</td>\n",
              "      <td>138.50</td>\n",
              "      <td>169.07</td>\n",
              "      <td>251.35</td>\n",
              "      <td>125.17</td>\n",
              "      <td>135.51</td>\n",
              "      <td>102.65</td>\n",
              "      <td>157.76</td>\n",
              "      <td>101.066</td>\n",
              "      <td>143.837</td>\n",
              "      <td>274.025</td>\n",
              "      <td>108.450742</td>\n",
              "    </tr>\n",
              "    <tr>\n",
              "      <th>2020-Septiembre</th>\n",
              "      <td>97.99</td>\n",
              "      <td>106.44</td>\n",
              "      <td>121.45</td>\n",
              "      <td>230.41</td>\n",
              "      <td>139.98</td>\n",
              "      <td>163.68</td>\n",
              "      <td>268.97</td>\n",
              "      <td>126.60</td>\n",
              "      <td>137.12</td>\n",
              "      <td>102.92</td>\n",
              "      <td>162.76</td>\n",
              "      <td>103.167</td>\n",
              "      <td>152.052</td>\n",
              "      <td>311.836</td>\n",
              "      <td>112.656021</td>\n",
              "    </tr>\n",
              "    <tr>\n",
              "      <th>2020-Octubre</th>\n",
              "      <td>102.09</td>\n",
              "      <td>106.64</td>\n",
              "      <td>125.72</td>\n",
              "      <td>249.68</td>\n",
              "      <td>148.48</td>\n",
              "      <td>175.09</td>\n",
              "      <td>312.12</td>\n",
              "      <td>131.73</td>\n",
              "      <td>139.74</td>\n",
              "      <td>109.17</td>\n",
              "      <td>171.17</td>\n",
              "      <td>108.477</td>\n",
              "      <td>156.349</td>\n",
              "      <td>346.259</td>\n",
              "      <td>123.206442</td>\n",
              "    </tr>\n",
              "    <tr>\n",
              "      <th>2020-Noviembre</th>\n",
              "      <td>105.13</td>\n",
              "      <td>111.85</td>\n",
              "      <td>128.86</td>\n",
              "      <td>218.99</td>\n",
              "      <td>148.75</td>\n",
              "      <td>181.13</td>\n",
              "      <td>300.21</td>\n",
              "      <td>132.97</td>\n",
              "      <td>138.10</td>\n",
              "      <td>111.16</td>\n",
              "      <td>171.03</td>\n",
              "      <td>114.596</td>\n",
              "      <td>152.31</td>\n",
              "      <td>336.104</td>\n",
              "      <td>120.075233</td>\n",
              "    </tr>\n",
              "    <tr>\n",
              "      <th>2020-Diciembre</th>\n",
              "      <td>110.97</td>\n",
              "      <td>122.29</td>\n",
              "      <td>136.24</td>\n",
              "      <td>257.91</td>\n",
              "      <td>167.28</td>\n",
              "      <td>192.02</td>\n",
              "      <td>316.10</td>\n",
              "      <td>132.42</td>\n",
              "      <td>139.41</td>\n",
              "      <td>110.06</td>\n",
              "      <td>191.16</td>\n",
              "      <td>122.862</td>\n",
              "      <td>171.892</td>\n",
              "      <td>340.282</td>\n",
              "      <td>134.087414</td>\n",
              "    </tr>\n",
              "    <tr>\n",
              "      <th>2021-Enero</th>\n",
              "      <td>97.54</td>\n",
              "      <td>109.01</td>\n",
              "      <td>129.22</td>\n",
              "      <td>230.06</td>\n",
              "      <td>154.77</td>\n",
              "      <td>175.80</td>\n",
              "      <td>292.10</td>\n",
              "      <td>129.49</td>\n",
              "      <td>132.03</td>\n",
              "      <td>105.70</td>\n",
              "      <td>161.40</td>\n",
              "      <td>106.743</td>\n",
              "      <td>151.916</td>\n",
              "      <td>291.354</td>\n",
              "      <td>112.114903</td>\n",
              "    </tr>\n",
              "    <tr>\n",
              "      <th>2021-Febrero</th>\n",
              "      <td>99.94</td>\n",
              "      <td>108.76</td>\n",
              "      <td>128.60</td>\n",
              "      <td>236.15</td>\n",
              "      <td>147.43</td>\n",
              "      <td>185.25</td>\n",
              "      <td>305.62</td>\n",
              "      <td>126.69</td>\n",
              "      <td>134.80</td>\n",
              "      <td>102.80</td>\n",
              "      <td>156.07</td>\n",
              "      <td>104.167</td>\n",
              "      <td>144.54</td>\n",
              "      <td>266.681</td>\n",
              "      <td>121.918722</td>\n",
              "    </tr>\n",
              "    <tr>\n",
              "      <th>2021-Marzo</th>\n",
              "      <td>107.64</td>\n",
              "      <td>114.72</td>\n",
              "      <td>133.50</td>\n",
              "      <td>247.84</td>\n",
              "      <td>151.35</td>\n",
              "      <td>183.30</td>\n",
              "      <td>342.93</td>\n",
              "      <td>146.29</td>\n",
              "      <td>144.06</td>\n",
              "      <td>110.75</td>\n",
              "      <td>165.66</td>\n",
              "      <td>120.479</td>\n",
              "      <td>162.381</td>\n",
              "      <td>312.66</td>\n",
              "      <td>129.042385</td>\n",
              "    </tr>\n",
              "    <tr>\n",
              "      <th>2021-Abril</th>\n",
              "      <td>102.45</td>\n",
              "      <td>110.69</td>\n",
              "      <td>129.98</td>\n",
              "      <td>234.59</td>\n",
              "      <td>144.23</td>\n",
              "      <td>184.40</td>\n",
              "      <td>304.00</td>\n",
              "      <td>144.94</td>\n",
              "      <td>138.91</td>\n",
              "      <td>107.52</td>\n",
              "      <td>165.50</td>\n",
              "      <td>112.842</td>\n",
              "      <td>159.056</td>\n",
              "      <td>303.708</td>\n",
              "      <td>117.295876</td>\n",
              "    </tr>\n",
              "    <tr>\n",
              "      <th>2021-Mayo</th>\n",
              "      <td>105.50</td>\n",
              "      <td>114.65</td>\n",
              "      <td>129.30</td>\n",
              "      <td>242.40</td>\n",
              "      <td>156.14</td>\n",
              "      <td>192.09</td>\n",
              "      <td>329.26</td>\n",
              "      <td>150.19</td>\n",
              "      <td>136.85</td>\n",
              "      <td>111.75</td>\n",
              "      <td>176.87</td>\n",
              "      <td>116.553</td>\n",
              "      <td>150.912</td>\n",
              "      <td>290.251</td>\n",
              "      <td>118.228954</td>\n",
              "    </tr>\n",
              "    <tr>\n",
              "      <th>2021-Junio</th>\n",
              "      <td>105.86</td>\n",
              "      <td>114.41</td>\n",
              "      <td>126.27</td>\n",
              "      <td>248.26</td>\n",
              "      <td>151.74</td>\n",
              "      <td>181.33</td>\n",
              "      <td>322.67</td>\n",
              "      <td>148.85</td>\n",
              "      <td>137.46</td>\n",
              "      <td>110.79</td>\n",
              "      <td>173.26</td>\n",
              "      <td>115.929</td>\n",
              "      <td>153.752</td>\n",
              "      <td>298.984</td>\n",
              "      <td>115.234716</td>\n",
              "    </tr>\n",
              "    <tr>\n",
              "      <th>2021-Julio</th>\n",
              "      <td>108.22</td>\n",
              "      <td>109.65</td>\n",
              "      <td>130.66</td>\n",
              "      <td>241.80</td>\n",
              "      <td>160.30</td>\n",
              "      <td>181.96</td>\n",
              "      <td>328.86</td>\n",
              "      <td>143.29</td>\n",
              "      <td>143.28</td>\n",
              "      <td>109.24</td>\n",
              "      <td>174.70</td>\n",
              "      <td>113.471</td>\n",
              "      <td>168.483</td>\n",
              "      <td>299.651</td>\n",
              "      <td>115.221028</td>\n",
              "    </tr>\n",
              "    <tr>\n",
              "      <th>2021-Agosto</th>\n",
              "      <td>105.56</td>\n",
              "      <td>112.6</td>\n",
              "      <td>129.34</td>\n",
              "      <td>256.38</td>\n",
              "      <td>151.16</td>\n",
              "      <td>188.83</td>\n",
              "      <td>317.68</td>\n",
              "      <td>141.22</td>\n",
              "      <td>141.94</td>\n",
              "      <td>107.05</td>\n",
              "      <td>176.43</td>\n",
              "      <td>120.345</td>\n",
              "      <td>168.508</td>\n",
              "      <td>300.252</td>\n",
              "      <td>113.312527</td>\n",
              "    </tr>\n",
              "    <tr>\n",
              "      <th>2021-Septiembre</th>\n",
              "      <td>109.03</td>\n",
              "      <td>NaN</td>\n",
              "      <td>NaN</td>\n",
              "      <td>251.03</td>\n",
              "      <td>NaN</td>\n",
              "      <td>180.96</td>\n",
              "      <td>NaN</td>\n",
              "      <td>NaN</td>\n",
              "      <td>139.21</td>\n",
              "      <td>NaN</td>\n",
              "      <td>NaN</td>\n",
              "      <td>119.228</td>\n",
              "      <td>173.195</td>\n",
              "      <td>NaN</td>\n",
              "      <td>118.915842</td>\n",
              "    </tr>\n",
              "  </tbody>\n",
              "</table>\n",
              "</div>"
            ],
            "text/plain": [
              "                 Costa Rica El Salvador  ...  Bolivia    Paraguay\n",
              "2020-Enero           104.13       110.8  ...  304.943  118.978597\n",
              "2020-Febrero         105.17      110.06  ...  277.363  122.558164\n",
              "2020-Marzo           103.55      105.56  ...  297.958  119.014428\n",
              "2020-Abril            90.88       88.28  ...  234.039   97.781980\n",
              "2020-Mayo             93.09       89.88  ...  231.828  104.977220\n",
              "2020-Junio            97.03       96.97  ...  266.589  107.681770\n",
              "2020-Julio            92.91       96.05  ...  268.308  111.653274\n",
              "2020-Agosto           93.35      102.57  ...  274.025  108.450742\n",
              "2020-Septiembre       97.99      106.44  ...  311.836  112.656021\n",
              "2020-Octubre         102.09      106.64  ...  346.259  123.206442\n",
              "2020-Noviembre       105.13      111.85  ...  336.104  120.075233\n",
              "2020-Diciembre       110.97      122.29  ...  340.282  134.087414\n",
              "2021-Enero            97.54      109.01  ...  291.354  112.114903\n",
              "2021-Febrero          99.94      108.76  ...  266.681  121.918722\n",
              "2021-Marzo           107.64      114.72  ...   312.66  129.042385\n",
              "2021-Abril           102.45      110.69  ...  303.708  117.295876\n",
              "2021-Mayo            105.50      114.65  ...  290.251  118.228954\n",
              "2021-Junio           105.86      114.41  ...  298.984  115.234716\n",
              "2021-Julio           108.22      109.65  ...  299.651  115.221028\n",
              "2021-Agosto          105.56       112.6  ...  300.252  113.312527\n",
              "2021-Septiembre      109.03         NaN  ...      NaN  118.915842\n",
              "\n",
              "[21 rows x 15 columns]"
            ]
          },
          "metadata": {},
          "execution_count": 74
        }
      ]
    },
    {
      "cell_type": "markdown",
      "metadata": {
        "id": "CRClNJVemnbZ"
      },
      "source": [
        "\n",
        "url2 = 'https://www.bcp.gov.py/' + links[0] # -(numero mes)\n",
        "opener = urllib2.build_opener()\n",
        "opener.addheaders = [('User-agent', 'Mozilla/5.0')]\n",
        "urllib2.install_opener(opener)\n",
        "urllib2.urlretrieve(url2, \"py.pdf\")\n",
        "\n",
        "\n"
      ]
    },
    {
      "cell_type": "markdown",
      "metadata": {
        "id": "SDFvEycum4Ek"
      },
      "source": [
        "'With pdf file\n",
        "\n",
        "with fitz.open(\"py.pdf\") as doc:\n",
        "    text = \"\"\n",
        "    for page in doc:\n",
        "        text += page.get_text()\n",
        "\n",
        "fechapy = text.split(' |',2)[1] # con el espacio\n",
        "fechapy = fechapy.split(' ')[1] +'-'+fechapy.split(' ')[0]"
      ]
    },
    {
      "cell_type": "markdown",
      "metadata": {
        "id": "yVnR8BwV6iJ3"
      },
      "source": [
        "Debido a que las tasas son iguales en Enero\n",
        "\n",
        "if 'Enero' not in fechapy:\n",
        "  valorpyinteranual = re.findall(r'[0-9]+,[0-9]+',text)[0] # para obtener tasa interanual          el regex sirve para buscar los registros numericos separados por coma\n",
        "  valorpyacum = re.findall(r'[0-9]+,[0-9]+',text)[1] # para obtener tasa acumulada interanual\n",
        "  valorpyinteranual = float(valorpyinteranual.replace(',','.'))\n",
        "  valorpyacum = float(valorpyacum.replace(',','.'))\n",
        "else:\n",
        "   valorpyinteranual = re.findall(r'[0-9]+,[0-9]+',text)[0]\n",
        "   valorpyinteranual = float(valorpyinteranual.replace(',','.'))\n",
        "   valorpyacum = valorpyinteranual\n",
        "\n",
        "print(fechapy)\n",
        "print(valorpyinteranual,' Tasa interanual')\n",
        "print(valorpyacum, ' Tasa acumulada interanual')"
      ]
    },
    {
      "cell_type": "markdown",
      "metadata": {
        "id": "byRPPvf83emR"
      },
      "source": [
        "\n",
        "py = pd.DataFrame({'Fecha':['2021-Enero','2021-Febrero','2021-Marzo','2021-Abril','2021-Mayo','2021-Junio','2021-Julio','2021-Agosto','2021-Septiembre','2021-Octubre','2021-Noviembre','2021-Diciembre'],\n",
        "                   'Paraguay_a':[-5.6,-3.0,0.7,4.7,6.3,6.3,6.0,5.7,0,0,0,0],\n",
        "                   'Paraguay_i':[-5.6,-0.5,8.0,19.3,12.4,6.6,3.0,4.2,0,0,0,0]})\n",
        "py.index = py.Fecha\n",
        "dic = {'Fecha':fechapy,'Paraguay_a':valorpyacum,'Paraguay_i':valorpyinteranual}\n",
        "py.loc[fechapy] = [fechapy,valorpyacum,valorpyinteranual]\n",
        "py"
      ]
    },
    {
      "cell_type": "code",
      "metadata": {
        "id": "NQebYfFSdDiq"
      },
      "source": [
        "imaela['a'] = [imaela.index.str.split('-')[i][0] for i in range(len(imaela.index))]\n",
        "imaela = imaela.apply(pd.to_numeric)"
      ],
      "execution_count": 75,
      "outputs": []
    },
    {
      "cell_type": "code",
      "metadata": {
        "id": "2oc-F4Au1Q0L"
      },
      "source": [
        "# Crecimiento interanual\n",
        "imaela1 = imaela.pct_change(12,fill_method=None)*100\n",
        "imaela1.dropna(how='all',inplace=True) # NAs drop\n",
        "imaela1.drop('a',axis=1,inplace=True)"
      ],
      "execution_count": 76,
      "outputs": []
    },
    {
      "cell_type": "code",
      "metadata": {
        "id": "LwGtvH2Ve9nI"
      },
      "source": [
        "# Crecimiento acumulado interanual\n",
        "imaela2 = imaela.groupby('a').cumsum().pct_change(12,fill_method=None)*100\n",
        "imaela2.dropna(how='all',inplace=True) # NAs drop"
      ],
      "execution_count": 77,
      "outputs": []
    },
    {
      "cell_type": "code",
      "metadata": {
        "id": "WT1VOTCo_u0Z"
      },
      "source": [
        "#!pip install selenium\n",
        "#!apt-get update # to update ubuntu to correctly run apt install\n",
        "#!apt install chromium-chromedriver\n",
        "#!cp /usr/lib/chromium-browser/chromedriver /usr/bin\n",
        "#import sys\n",
        "#sys.path.insert(0,'/usr/lib/chromium-browser/chromedriver')\n",
        "#from selenium import webdriver\n",
        "#chrome_options = webdriver.ChromeOptions()\n",
        "#chrome_options.add_argument('--headless')\n",
        "#chrome_options.add_argument('--no-sandbox')\n",
        "#chrome_options.add_argument('--disable-dev-shm-usage')\n",
        "#wd = webdriver.Chrome('chromedriver',chrome_options=chrome_options)"
      ],
      "execution_count": 78,
      "outputs": []
    },
    {
      "cell_type": "markdown",
      "metadata": {
        "id": "1UD90WE2qzru"
      },
      "source": [
        "### **Colombia**"
      ]
    },
    {
      "cell_type": "markdown",
      "metadata": {
        "id": "wrivlZivMI7U"
      },
      "source": [
        "#### Publicaciones disponibles las fechas: \n",
        "1. 17 sept    -    Julio\n",
        "2. 19 Oct    -     Agosto\n",
        "3. 16 Nov    -     Sep\n",
        "4. 17 Dic    -     Oct"
      ]
    },
    {
      "cell_type": "code",
      "metadata": {
        "id": "QKed7ixdCClu"
      },
      "source": [
        "url = 'https://www.dane.gov.co/index.php/estadisticas-por-tema/cuentas-nacionales/indicador-de-seguimiento-a-la-economia-ise/historicos-ise-comunicados-y-boletines'\n",
        "url1 = 'https://www.dane.gov.co/index.php/estadisticas-por-tema/cuentas-nacionales/indicador-de-seguimiento-a-la-economia-ise'\n",
        "\n",
        "\n",
        "req = urllib2.Request(url=url1, headers=header) \n",
        "page = urllib2.urlopen(req).read()\n"
      ],
      "execution_count": null,
      "outputs": []
    },
    {
      "cell_type": "code",
      "metadata": {
        "id": "BNLB2HxECCtl"
      },
      "source": [
        "soupco = BeautifulSoup(page,'lxml')\n",
        "links = [a['href'] for a in soupco.select(\"a[href*=21.xlsx]\")] # extraemos links que contengan 21.xlsx \n",
        " # ultimos link disponibles\n",
        "links"
      ],
      "execution_count": null,
      "outputs": []
    },
    {
      "cell_type": "code",
      "metadata": {
        "id": "wbDtMlN5EnsO"
      },
      "source": [
        "url2 = 'https://www.dane.gov.co' + links[0] # si esta el nuevo mes restarle 1 al indice de links\n",
        "urllib2.urlretrieve(url2, \"colombia.xlsx\")\n",
        "df = pd.read_excel('colombia.xlsx',sheet_name='Cuadro 1',header=9)[0:16].T\n",
        "df.columns = df.iloc[0]\n",
        "df = df.iloc[:,[0,1,-1]].reset_index(drop=True)[1:]\n",
        "df.tail(1)"
      ],
      "execution_count": null,
      "outputs": []
    },
    {
      "cell_type": "code",
      "metadata": {
        "id": "akDz1zRARQPg"
      },
      "source": [
        "df['ano'] = df.Concepto.ffill().astype(str).str.replace('pr','').str.replace('p','')\n",
        "df['Colombia'] = round(pd.to_numeric(df.loc[:,df.columns[-2]]),2)\n",
        "df.index = df.ano.astype(str) + '-' + df.iloc[:,1].astype(str) "
      ],
      "execution_count": null,
      "outputs": []
    },
    {
      "cell_type": "code",
      "metadata": {
        "id": "mOvRCtr1SP3H"
      },
      "source": [
        "imaela = imaela.merge(df['Colombia'],how='left',left_index=True,right_index=True)"
      ],
      "execution_count": null,
      "outputs": []
    },
    {
      "cell_type": "markdown",
      "metadata": {
        "id": "VKQm4sO8CBgy"
      },
      "source": [
        "##### PDF"
      ]
    },
    {
      "cell_type": "markdown",
      "metadata": {
        "id": "NCAIe-IytrnA"
      },
      "source": [
        "df = np.array(tb.read_pdf('colombia.pdf',pages = '17',stream=True,multiple_tables=True,pandas_options={'header':None}))\n",
        "dco = pd.DataFrame(df.reshape(-1,4))\n",
        "dco = dco.loc[:,0:2]\n",
        "dco.tail(1)"
      ]
    },
    {
      "cell_type": "markdown",
      "metadata": {
        "id": "oIjcg_Hy3mLe"
      },
      "source": [
        "dco[3] = dco[2].str.split(' ',expand=True)[0] # Tomando las tasas de crecimiento de la tabla pdf\n",
        "dco.rename(columns={1:'Colombia'},inplace=True)\n",
        "dco['Colombia1'] = pd.to_numeric(dco[3].str.replace(',','.'),errors='coerce')  #Convirtiendo la data a numero\n",
        "dco['Colombia'] = pd.to_numeric(dco['Colombia'].str.replace(',','.'),errors='coerce')"
      ]
    },
    {
      "cell_type": "markdown",
      "metadata": {
        "id": "1Za65saE00xD"
      },
      "source": [
        "split = dco[0].str.split(' - ')     # extraer mes \n",
        "fech = []\n",
        "for i in range(len(split)):\n",
        "  if type(split[i]) == float:\n",
        "    fech.append('0')\n",
        "  elif len(split[i]) == 1 :\n",
        "    fech.append(str(split[i][0]))\n",
        "  else:\n",
        "    fech.append(str(split[i][1].capitalize()))"
      ]
    },
    {
      "cell_type": "markdown",
      "metadata": {
        "id": "7sx55Q3v7F_L"
      },
      "source": [
        "anof=[]                          # extraer año\n",
        "for i in range(len(split)):\n",
        "  if type(split[i]) == float:\n",
        "    anof.append('0')\n",
        "  elif len(split[i]) > 1 :\n",
        "    anof.append(str(split[i][0]))\n",
        "  else:\n",
        "    anof.append(np.nan)"
      ]
    },
    {
      "cell_type": "markdown",
      "metadata": {
        "id": "E0FtIhm29EdE"
      },
      "source": [
        "dco['mes'] = fech\n",
        "dco['ano'] = anof\n",
        "dco['ano'] = dco.ano.replace(['p','r',' '],['','',''],regex=True).ffill()\n",
        "dco.index = dco['ano'] + '-' + dco['mes'] # creamos indice"
      ]
    },
    {
      "cell_type": "markdown",
      "metadata": {
        "id": "851yN-m_mxAi"
      },
      "source": [
        "## imae\n"
      ]
    },
    {
      "cell_type": "code",
      "metadata": {
        "id": "tCeHYsHPRaAP",
        "colab": {
          "base_uri": "https://localhost:8080/",
          "height": 112
        },
        "outputId": "e254aab5-3a11-4fa3-f024-4283f0106da5"
      },
      "source": [
        "# imaela.drop('a',axis=1,inplace=True)\n",
        "imaela.drop('a',axis=1,inplace=True)\n",
        "imaela.tail(2)"
      ],
      "execution_count": null,
      "outputs": [
        {
          "output_type": "execute_result",
          "data": {
            "text/html": [
              "<div>\n",
              "<style scoped>\n",
              "    .dataframe tbody tr th:only-of-type {\n",
              "        vertical-align: middle;\n",
              "    }\n",
              "\n",
              "    .dataframe tbody tr th {\n",
              "        vertical-align: top;\n",
              "    }\n",
              "\n",
              "    .dataframe thead th {\n",
              "        text-align: right;\n",
              "    }\n",
              "</style>\n",
              "<table border=\"1\" class=\"dataframe\">\n",
              "  <thead>\n",
              "    <tr style=\"text-align: right;\">\n",
              "      <th></th>\n",
              "      <th>Costa Rica</th>\n",
              "      <th>El Salvador</th>\n",
              "      <th>Guatemala</th>\n",
              "      <th>Honduras</th>\n",
              "      <th>Nicaragua</th>\n",
              "      <th>República Dominicana</th>\n",
              "      <th>Panamá</th>\n",
              "      <th>Argentina</th>\n",
              "      <th>Brasil</th>\n",
              "      <th>México</th>\n",
              "      <th>Perú</th>\n",
              "      <th>Chile</th>\n",
              "      <th>Ecuador</th>\n",
              "      <th>Bolivia</th>\n",
              "      <th>Paraguay</th>\n",
              "    </tr>\n",
              "  </thead>\n",
              "  <tbody>\n",
              "    <tr>\n",
              "      <th>2021-Agosto</th>\n",
              "      <td>105.56</td>\n",
              "      <td>112.6</td>\n",
              "      <td>129.34</td>\n",
              "      <td>255.65</td>\n",
              "      <td>151.16</td>\n",
              "      <td>188.83</td>\n",
              "      <td>317.68</td>\n",
              "      <td>141.22</td>\n",
              "      <td>141.93</td>\n",
              "      <td>107.05</td>\n",
              "      <td>176.43</td>\n",
              "      <td>120.345000</td>\n",
              "      <td>168.507542</td>\n",
              "      <td>NaN</td>\n",
              "      <td>113.312527</td>\n",
              "    </tr>\n",
              "    <tr>\n",
              "      <th>2021-Septiembre</th>\n",
              "      <td>109.03</td>\n",
              "      <td>NaN</td>\n",
              "      <td>NaN</td>\n",
              "      <td>NaN</td>\n",
              "      <td>NaN</td>\n",
              "      <td>180.96</td>\n",
              "      <td>NaN</td>\n",
              "      <td>NaN</td>\n",
              "      <td>NaN</td>\n",
              "      <td>NaN</td>\n",
              "      <td>NaN</td>\n",
              "      <td>119.228014</td>\n",
              "      <td>173.195455</td>\n",
              "      <td>NaN</td>\n",
              "      <td>118.915842</td>\n",
              "    </tr>\n",
              "  </tbody>\n",
              "</table>\n",
              "</div>"
            ],
            "text/plain": [
              "                 Costa Rica El Salvador  ...  Bolivia    Paraguay\n",
              "2021-Agosto          105.56       112.6  ...      NaN  113.312527\n",
              "2021-Septiembre      109.03         NaN  ...      NaN  118.915842\n",
              "\n",
              "[2 rows x 15 columns]"
            ]
          },
          "metadata": {},
          "execution_count": 87
        }
      ]
    },
    {
      "cell_type": "code",
      "metadata": {
        "id": "aPbNJ1eyIKiv",
        "cellView": "form",
        "colab": {
          "base_uri": "https://localhost:8080/",
          "height": 17
        },
        "outputId": "8b50c456-243d-4bc1-faf8-645335fa6e03"
      },
      "source": [
        "#@title Descarga a Excel\n",
        "writer = pd.ExcelWriter('imae_latam.xlsx', engine='xlsxwriter')\n",
        "\n",
        "imaela1.to_excel(writer, sheet_name='Interanual')\n",
        "imaela2.to_excel(writer, sheet_name='Acumulado')\n",
        "imaela.to_excel(writer, sheet_name='Indices - Serie Original')\n",
        "writer.save()\n",
        "\n",
        "files.download(\"imae_latam.xlsx\")"
      ],
      "execution_count": null,
      "outputs": [
        {
          "output_type": "display_data",
          "data": {
            "application/javascript": [
              "\n",
              "    async function download(id, filename, size) {\n",
              "      if (!google.colab.kernel.accessAllowed) {\n",
              "        return;\n",
              "      }\n",
              "      const div = document.createElement('div');\n",
              "      const label = document.createElement('label');\n",
              "      label.textContent = `Downloading \"${filename}\": `;\n",
              "      div.appendChild(label);\n",
              "      const progress = document.createElement('progress');\n",
              "      progress.max = size;\n",
              "      div.appendChild(progress);\n",
              "      document.body.appendChild(div);\n",
              "\n",
              "      const buffers = [];\n",
              "      let downloaded = 0;\n",
              "\n",
              "      const channel = await google.colab.kernel.comms.open(id);\n",
              "      // Send a message to notify the kernel that we're ready.\n",
              "      channel.send({})\n",
              "\n",
              "      for await (const message of channel.messages) {\n",
              "        // Send a message to notify the kernel that we're ready.\n",
              "        channel.send({})\n",
              "        if (message.buffers) {\n",
              "          for (const buffer of message.buffers) {\n",
              "            buffers.push(buffer);\n",
              "            downloaded += buffer.byteLength;\n",
              "            progress.value = downloaded;\n",
              "          }\n",
              "        }\n",
              "      }\n",
              "      const blob = new Blob(buffers, {type: 'application/binary'});\n",
              "      const a = document.createElement('a');\n",
              "      a.href = window.URL.createObjectURL(blob);\n",
              "      a.download = filename;\n",
              "      div.appendChild(a);\n",
              "      a.click();\n",
              "      div.remove();\n",
              "    }\n",
              "  "
            ],
            "text/plain": [
              "<IPython.core.display.Javascript object>"
            ]
          },
          "metadata": {}
        },
        {
          "output_type": "display_data",
          "data": {
            "application/javascript": [
              "download(\"download_d4414567-fa92-409e-aed7-4b8ab9ccf098\", \"imae_latam.xlsx\", 13105)"
            ],
            "text/plain": [
              "<IPython.core.display.Javascript object>"
            ]
          },
          "metadata": {}
        }
      ]
    },
    {
      "cell_type": "code",
      "metadata": {
        "id": "fRnNN0VxUxeA",
        "cellView": "form"
      },
      "source": [
        "#@title Bar\n",
        "f, ax = plt.subplots(figsize=(20, 8))\n",
        "sns.barplot(data=imaela.iloc[-1:,:]);"
      ],
      "execution_count": null,
      "outputs": []
    },
    {
      "cell_type": "code",
      "metadata": {
        "id": "0HYQImNIAxf6",
        "cellView": "form"
      },
      "source": [
        "#@title Interanual Mes Anterior\n",
        "f, ax = plt.subplots(figsize=(18, 8))\n",
        "df = pd.melt(imaela1.iloc[-2:-1,:]).sort_values('value',ascending=False) \n",
        "sns.barplot(data = df ,x='value',y='variable',\n",
        "                palette=['r' if y =='República Dominicana' else '#0343DF' for y in df.variable])\n",
        "for p in ax.patches:\n",
        "    width = p.get_width()    # get bar length\n",
        "    ax.text(width+0.2,       # set the text at 0.2 unit right of the bar\n",
        "            p.get_y() + p.get_height() / 2, # get Y coordinate + X coordinate / 2\n",
        "            '{:1.2f}'.format(width), # set variable to display, 2 decimals\n",
        "            ha = 'left',   # horizontal alignment\n",
        "            va = 'center', weight=\"bold\") # vertical alignment\n",
        "plt.title('IMAE LATAM \\n Crecimiento Interanual (%) {}'.format(imaela.index[-2]),weight='bold');"
      ],
      "execution_count": null,
      "outputs": []
    },
    {
      "cell_type": "code",
      "metadata": {
        "id": "AXWRoqQueTtV",
        "cellView": "form"
      },
      "source": [
        "#@title Acumulado Interanual Mes Anterior\n",
        "f, ax = plt.subplots(figsize=(18, 8))\n",
        "df = pd.melt(imaela2.iloc[-2:-1,:]).sort_values('value',ascending=False) \n",
        "sns.barplot(data = df ,x='value',y='variable',\n",
        "                palette=['r' if y =='República Dominicana' else '#0343DF' for y in df.variable])\n",
        "for p in ax.patches:\n",
        "    width = p.get_width()    # get bar length\n",
        "    ax.text(width+0.2,       # set the text at 0.2 unit right of the bar\n",
        "            p.get_y() + p.get_height() / 2, # get Y coordinate + X coordinate / 2\n",
        "            '{:1.2f}'.format(width), # set variable to display, 2 decimals\n",
        "            ha = 'left',   # horizontal alignment\n",
        "            va = 'center', weight=\"bold\") # vertical alignment\n",
        "plt.title('IMAE LATAM \\n Crecimiento Acumulado Interanual (%) a {}'.format(imaela.index[-2]) ,weight='bold');"
      ],
      "execution_count": null,
      "outputs": []
    },
    {
      "cell_type": "code",
      "metadata": {
        "id": "LOhjJvf2M908",
        "cellView": "form"
      },
      "source": [
        "#@title Interanual Ultimo Mes\n",
        "f, ax = plt.subplots(figsize=(18, 8))\n",
        "df = pd.melt(imaela1.iloc[-1:,:].dropna(axis=1)).sort_values('value',ascending=False) \n",
        "sns.barplot(data = df ,x='value',y='variable',\n",
        "                palette=['r' if y =='República Dominicana' else '#0343DF' for y in df.variable])\n",
        "for p in ax.patches:\n",
        "    width = p.get_width()    # get bar length\n",
        "    ax.text(width+0.2,       # set the text at 0.2 unit right of the bar\n",
        "            p.get_y() + p.get_height() / 2, # get Y coordinate + X coordinate / 2\n",
        "            '{:1.2f}'.format(width), # set variable to display, 2 decimals\n",
        "            ha = 'left',   # horizontal alignment\n",
        "            va = 'center', weight=\"bold\") # vertical alignment\n",
        "plt.title('IMAE LATAM \\n Crecimiento Interanual (%) {}'.format(imaela.index[-1]),weight='bold')\n",
        ";"
      ],
      "execution_count": null,
      "outputs": []
    },
    {
      "cell_type": "code",
      "metadata": {
        "id": "fyL78uQDM2ib",
        "cellView": "form"
      },
      "source": [
        "#@title Acumulado Interanual Ultimo Mes\n",
        "f, ax = plt.subplots(figsize=(18, 8))\n",
        "df = pd.melt(imaela2.iloc[-1:,:].dropna(axis=1)).sort_values('value',ascending=False) \n",
        "sns.barplot(data = df ,x='value',y='variable',\n",
        "                palette=['r' if y =='República Dominicana' else '#0343DF' for y in df.variable])\n",
        "for p in ax.patches:\n",
        "    width = p.get_width()    # get bar length\n",
        "    ax.text(width+0.2,       # set the text at 0.2 unit right of the bar\n",
        "            p.get_y() + p.get_height() / 2, # get Y coordinate + X coordinate / 2\n",
        "            '{:1.2f}'.format(width), # set variable to display, 2 decimals\n",
        "            ha = 'left',   # horizontal alignment\n",
        "            va = 'center', weight=\"bold\") # vertical alignment\n",
        "plt.title('IMAE LATAM \\n Crecimiento Acumulado Interanual (%) a {}'.format(imaela.index[-1]) ,weight='bold');"
      ],
      "execution_count": null,
      "outputs": []
    }
  ]
}