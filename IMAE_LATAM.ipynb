{
  "nbformat": 4,
  "nbformat_minor": 0,
  "metadata": {
    "colab": {
      "name": "IMAE LATAM.ipynb",
      "provenance": [],
      "collapsed_sections": [
        "pdxAyDPTJJzP",
        "mng9xQCphxaK",
        "USJ5m_3XS6ji",
        "YlZNkOc6pfVo",
        "MkoUi_tal0ST",
        "A2MSTFg45f_H",
        "rSOwOPisI0mw"
      ],
      "authorship_tag": "ABX9TyPHbdXQB3ujr/RaVW8dozGp",
      "include_colab_link": true
    },
    "kernelspec": {
      "name": "python3",
      "display_name": "Python 3"
    },
    "language_info": {
      "name": "python"
    }
  },
  "cells": [
    {
      "cell_type": "markdown",
      "metadata": {
        "id": "view-in-github",
        "colab_type": "text"
      },
      "source": [
        "<a href=\"https://colab.research.google.com/github/samyff12/LATAM/blob/main/IMAE_LATAM.ipynb\" target=\"_parent\"><img src=\"https://colab.research.google.com/assets/colab-badge.svg\" alt=\"Open In Colab\"/></a>"
      ]
    },
    {
      "cell_type": "markdown",
      "metadata": {
        "id": "uwghX9WnmOhH"
      },
      "source": [
        "# **Actualizacion IMAE LATAM**"
      ]
    },
    {
      "cell_type": "markdown",
      "metadata": {
        "id": "zMFcgIBOnFpc"
      },
      "source": [
        "### Paquetes y meses"
      ]
    },
    {
      "cell_type": "code",
      "metadata": {
        "id": "yLpBS1jxRJUa",
        "colab": {
          "base_uri": "https://localhost:8080/"
        },
        "outputId": "9f36f4c8-65d9-4ad9-d795-ac64b97d12ca"
      },
      "source": [
        "from bs4 import BeautifulSoup\n",
        "import pandas as pd\n",
        "import numpy as np\n",
        "import requests\n",
        "import urllib.request as urllib2\n",
        "import re\n",
        "import matplotlib.pyplot as plt\n",
        "import seaborn as sns\n",
        "import zipfile\n",
        "!pip install XlsxWriter\n",
        "from google.colab import files\n",
        "\n",
        "# Selenium\n",
        "!pip install selenium\n",
        "!apt-get update \n",
        "!apt install chromium-chromedriver\n",
        "#!pip install kora -q\n",
        "\n",
        "from selenium.webdriver.common.keys import Keys\n",
        "from selenium.webdriver.common.by import By\n",
        "\n",
        "#from kora.selenium import wd\n",
        "# En caso de contar con archivos en formato pdf: \n",
        "# !pip install pymupdf            \n",
        "# !pip install tabula-py\n",
        "# import tabula as tb\n",
        "# import fitz  # this is pymupdf"
      ],
      "execution_count": 1,
      "outputs": [
        {
          "output_type": "stream",
          "name": "stderr",
          "text": [
            "/usr/local/lib/python3.7/dist-packages/requests/__init__.py:91: RequestsDependencyWarning: urllib3 (1.26.7) or chardet (3.0.4) doesn't match a supported version!\n",
            "  RequestsDependencyWarning)\n"
          ]
        },
        {
          "output_type": "stream",
          "name": "stdout",
          "text": [
            "Requirement already satisfied: XlsxWriter in /usr/local/lib/python3.7/dist-packages (3.0.2)\n",
            "Requirement already satisfied: selenium in /usr/local/lib/python3.7/dist-packages (4.1.0)\n",
            "Requirement already satisfied: trio~=0.17 in /usr/local/lib/python3.7/dist-packages (from selenium) (0.19.0)\n",
            "Requirement already satisfied: trio-websocket~=0.9 in /usr/local/lib/python3.7/dist-packages (from selenium) (0.9.2)\n",
            "Requirement already satisfied: urllib3[secure]~=1.26 in /usr/local/lib/python3.7/dist-packages (from selenium) (1.26.7)\n",
            "Requirement already satisfied: idna in /usr/local/lib/python3.7/dist-packages (from trio~=0.17->selenium) (2.10)\n",
            "Requirement already satisfied: sortedcontainers in /usr/local/lib/python3.7/dist-packages (from trio~=0.17->selenium) (2.4.0)\n",
            "Requirement already satisfied: sniffio in /usr/local/lib/python3.7/dist-packages (from trio~=0.17->selenium) (1.2.0)\n",
            "Requirement already satisfied: attrs>=19.2.0 in /usr/local/lib/python3.7/dist-packages (from trio~=0.17->selenium) (21.2.0)\n",
            "Requirement already satisfied: outcome in /usr/local/lib/python3.7/dist-packages (from trio~=0.17->selenium) (1.1.0)\n",
            "Requirement already satisfied: async-generator>=1.9 in /usr/local/lib/python3.7/dist-packages (from trio~=0.17->selenium) (1.10)\n",
            "Requirement already satisfied: wsproto>=0.14 in /usr/local/lib/python3.7/dist-packages (from trio-websocket~=0.9->selenium) (1.0.0)\n",
            "Requirement already satisfied: pyOpenSSL>=0.14 in /usr/local/lib/python3.7/dist-packages (from urllib3[secure]~=1.26->selenium) (21.0.0)\n",
            "Requirement already satisfied: cryptography>=1.3.4 in /usr/local/lib/python3.7/dist-packages (from urllib3[secure]~=1.26->selenium) (36.0.1)\n",
            "Requirement already satisfied: certifi in /usr/local/lib/python3.7/dist-packages (from urllib3[secure]~=1.26->selenium) (2021.10.8)\n",
            "Requirement already satisfied: cffi>=1.12 in /usr/local/lib/python3.7/dist-packages (from cryptography>=1.3.4->urllib3[secure]~=1.26->selenium) (1.15.0)\n",
            "Requirement already satisfied: pycparser in /usr/local/lib/python3.7/dist-packages (from cffi>=1.12->cryptography>=1.3.4->urllib3[secure]~=1.26->selenium) (2.21)\n",
            "Requirement already satisfied: six>=1.5.2 in /usr/local/lib/python3.7/dist-packages (from pyOpenSSL>=0.14->urllib3[secure]~=1.26->selenium) (1.15.0)\n",
            "Requirement already satisfied: h11<1,>=0.9.0 in /usr/local/lib/python3.7/dist-packages (from wsproto>=0.14->trio-websocket~=0.9->selenium) (0.12.0)\n",
            "Hit:1 http://security.ubuntu.com/ubuntu bionic-security InRelease\n",
            "Hit:2 https://cloud.r-project.org/bin/linux/ubuntu bionic-cran40/ InRelease\n",
            "Hit:3 http://ppa.launchpad.net/c2d4u.team/c2d4u4.0+/ubuntu bionic InRelease\n",
            "Hit:4 http://archive.ubuntu.com/ubuntu bionic InRelease\n",
            "Hit:5 http://archive.ubuntu.com/ubuntu bionic-updates InRelease\n",
            "Hit:6 http://ppa.launchpad.net/cran/libgit2/ubuntu bionic InRelease\n",
            "Hit:7 http://archive.ubuntu.com/ubuntu bionic-backports InRelease\n",
            "Hit:8 http://ppa.launchpad.net/deadsnakes/ppa/ubuntu bionic InRelease\n",
            "Hit:9 http://ppa.launchpad.net/graphics-drivers/ppa/ubuntu bionic InRelease\n",
            "Ign:10 https://developer.download.nvidia.com/compute/cuda/repos/ubuntu1804/x86_64  InRelease\n",
            "Ign:11 https://developer.download.nvidia.com/compute/machine-learning/repos/ubuntu1804/x86_64  InRelease\n",
            "Hit:12 https://developer.download.nvidia.com/compute/cuda/repos/ubuntu1804/x86_64  Release\n",
            "Hit:13 https://developer.download.nvidia.com/compute/machine-learning/repos/ubuntu1804/x86_64  Release\n",
            "Reading package lists... Done\n",
            "Reading package lists... Done\n",
            "Building dependency tree       \n",
            "Reading state information... Done\n",
            "chromium-chromedriver is already the newest version (95.0.4638.69-0ubuntu0.18.04.1).\n",
            "0 upgraded, 0 newly installed, 0 to remove and 69 not upgraded.\n"
          ]
        }
      ]
    },
    {
      "cell_type": "code",
      "metadata": {
        "id": "7NNHXzvKYJ2D"
      },
      "source": [
        "##html = requests.get('http://www.secmca.org/chart/?parent=Producci%C3%B3n&scid=2&cid=1&scsid=0&son=%C3%8Dndice%20Mensual%20de%20la%20Actividad%20Econ%C3%B3mica&url=11/14/3-13-50-17-4-52-161/39/265/19-258/444/' +\n",
        " #                   '20211-20212-20213-20214-20215-20216-20217-20218-20219-202110-202111-202112-20221-20222-20223-20224-20225-20226-20227-20228-20229-202210-202211-202212' +\n",
        " #                   '-&all_vars=2|IMAE,%20variaci%C3%B3n%20interanual')\n",
        "#soup = BeautifulSoup(html.text,'lxml')\n",
        "#table = soup.find_all('p', class_='text-right')\n",
        "#tablec = soup.find_all('th', colspan='1')\n",
        "\n",
        "#indicadores=[]\n",
        "#paises =[]\n",
        "#for i in range(len(table)):\n",
        " # ind = float(table[i].text)\n",
        "#  pais = tablec[i].text\n",
        "#  indicadores.append(ind)\n",
        " # paises.append(pais)\n",
        "\n",
        "#imae_latam =  pd.DataFrame(indicadores,index = paises,columns = ['IMAE'])\n",
        "#print(f'IMAE a {fecha}')\n",
        "#imae_latam"
      ],
      "execution_count": null,
      "outputs": []
    },
    {
      "cell_type": "code",
      "metadata": {
        "id": "Uz9LSti34_nA"
      },
      "source": [
        "meses = [0,[1,'Enero'],[2,'Febrero'],[3,'Marzo'],[4,'Abril'],[5,'Mayo'],[6,'Junio'],[7,'Julio'],[8,'Agosto'],\n",
        "         [9,'Septiembre'],[10,'Octubre'],[11,'Noviembre'],[12,'Diciembre']]\n",
        "mes3 = {'ene':'Enero','feb':'Febrero','mar':'Marzo','abr':'Abril','may':'Mayo','jun':'Junio','jul':'Julio',\n",
        "        'ago':'Agosto','sep':'Septiembre','oct':'Octubre','nov':'Noviembre','dic':'Diciembre'}\n",
        "meses_dict = {0:'none',1:'Enero',2:'Febrero',3:'Marzo',4:'Abril',5:'Mayo',6:'Junio',7:'Julio',8:'Agosto',\n",
        "         9:'Septiembre',10:'Octubre',11:'Noviembre',12:'Diciembre'}\n",
        "### import calendar\n",
        "\n",
        "# d = dict((v,k) for k,v in enumerate(calendar.month_abbr))\n",
        "# d"
      ],
      "execution_count": 3,
      "outputs": []
    },
    {
      "cell_type": "markdown",
      "metadata": {
        "id": "982BPh5jk93l"
      },
      "source": [
        "## Para obtener las series de todo el año 2021-2022\n"
      ]
    },
    {
      "cell_type": "markdown",
      "metadata": {
        "id": "pdxAyDPTJJzP"
      },
      "source": [
        "### **SECMCA**"
      ]
    },
    {
      "cell_type": "markdown",
      "metadata": {
        "id": "zyl75FG7ZOym"
      },
      "source": [
        "#### Publicaciones disponibles las fechas: \n",
        "\n",
        "#####    **El Salvador**\n",
        "2. 29 Oct\n",
        "3. 30 Nov\n",
        "4. 23 Dic\n",
        "5. 31 Ene\n",
        "\n",
        "#####    **Panama**\n",
        "3. 22 Nov\n",
        "4. 21 Dic\n",
        "\n",
        "\n",
        "#####    **Honduras**\n",
        "-. Preliminar 20 de cada mes, con 50 días de rezago y\n",
        "revisado 30 días después"
      ]
    },
    {
      "cell_type": "code",
      "source": [
        "html2 = requests.get('https://www.secmca.org/chart/?parent=Producci%C3%B3n&scid=2&cid=1&scsid=0&son=%C3%8Dndice%20Mensual%20de%20la%20Actividad%20Econ%C3%B3mica&url=11/14/3-13-50-17-4-52-161/39/265/19-258/81/20171-20172-20173-20174-20175-20176-20177-20178-20179-201710-201711-201712-20181-20182-20183-20184-20185-20186-20187-20188-20189-201810-201811-201812-20191-20192-20193-20194-20195-20196-20197-20198-20199-201910-201911-201912-' +\n",
        "'20201-20202-20203-20204-20205-20206-20207-20208-20209-202010-202011-202012-20211-20212-20213-20214-20215-20216-20217-20218-20219-202110-202111-202112-&all_vars=1|IMAE').text"
      ],
      "metadata": {
        "id": "VuY6T5tLmMwq"
      },
      "execution_count": 63,
      "outputs": []
    },
    {
      "cell_type": "code",
      "metadata": {
        "id": "DKeFlSnZ9utv"
      },
      "source": [
        "# INDICE VERSION\n",
        "html1 = requests.get('http://www.secmca.org/chart/?parent=Producci%C3%B3n&scid=2&cid=1&scsid=0&son=%C3%8Dndice%20Mensual%20de%20la%20Actividad%20Econ%C3%B3mica&url=11/14/3-13-50-17-4-52-161/39/265/19-258/81/' +\n",
        "  '20171-20172-20173-20174-20175-20176-20177-20178-20179-201710-201711-201712-20181-20182-20183-20184-20185-20186-20187-20188-20189-201810-201811-201812-20191-20192-20193-20194-20195-20196-20197-20198-20199-201910-201911-201912-' +\n",
        "  '20201-20202-20203-20204-20205-20206-20207-20208-20209-202010-202011-202012-20211-20212-20213-20214-20215-20216-20217-20218-20219-202110-202111-202112-20221-20222-20223-20224-20225-20226-20227-20228-20229-202210-202211-202212' +\n",
        "  '-&all_vars=1|IMAE').text\n",
        "soup1 = BeautifulSoup(html1,'lxml')\n",
        "\n",
        "tabpais = soup1.find_all('th', colspan='1')\n",
        "table = soup1.find_all('p', class_='text-left')\n"
      ],
      "execution_count": 64,
      "outputs": []
    },
    {
      "cell_type": "code",
      "source": [
        "fechas = []\n",
        "for i in range(len(table)):\n",
        "  x = re.sub(\" \",\"\",table[i].text)\n",
        "  fechas.append(x.replace(\"\\n\",\"\").replace('Setiembre','Septiembre'))\n",
        "\n",
        "paises = [tabpais[i].text for i in range(len(tabpais))]\n",
        "fechas[-1]"
      ],
      "metadata": {
        "id": "gpzN8UFQjDg-",
        "outputId": "da4c75fd-9209-4853-bc79-eccfc630f84c",
        "colab": {
          "base_uri": "https://localhost:8080/",
          "height": 34
        }
      },
      "execution_count": 66,
      "outputs": [
        {
          "output_type": "execute_result",
          "data": {
            "application/vnd.google.colaboratory.intrinsic+json": {
              "type": "string"
            },
            "text/plain": [
              "'2021-Septiembre'"
            ]
          },
          "metadata": {},
          "execution_count": 66
        }
      ]
    },
    {
      "cell_type": "code",
      "metadata": {
        "id": "jH_Esksz-nsh"
      },
      "source": [
        "#INDICE\n",
        "table1 = soup1.find_all('p', class_='text-right')\n",
        "matriz = np.array([])\n",
        "for i in table1:\n",
        "  matriz = np.array(np.append(matriz,i))\n",
        "matriz = np.where(matriz==\"--\", np.nan, matriz).astype(np.float)\n",
        "matriz = matriz.reshape(-1,7) # 7 paises\n",
        "imaeLA = pd.DataFrame(matriz,index=fechas,columns=paises)\n",
        "imaeLA.tail()"
      ],
      "execution_count": null,
      "outputs": []
    },
    {
      "cell_type": "markdown",
      "metadata": {
        "id": "HZYnwfqqr7tE"
      },
      "source": [
        "import re\n",
        "tabpais = soup.find_all('th', colspan='1')\n",
        "table = soup.find_all('p', class_='text-left')\n",
        "fechas = []\n",
        "paises =[]\n",
        "for i in range(len(table)):\n",
        "  x = re.sub(\" \",\"\",table[i].text)\n",
        "  fechas.append(x.replace(\"\\n\",\"\"))\n",
        "  pais = tabpais[i].text\n",
        "  #indicadores.append(ind)\n",
        "  paises.append(pais)\n",
        "fechas[-1]"
      ]
    },
    {
      "cell_type": "markdown",
      "metadata": {
        "id": "sCY1EzkcvFfD"
      },
      "source": [
        "table1 = soup.find_all('p', class_='text-right')\n",
        "matriz = np.array([])\n",
        "for i in table1:\n",
        "  matriz = np.array(np.append(matriz,i))\n",
        "matriz = np.where(matriz==\"--\", np.nan, matriz).astype(np.float)\n",
        "matriz = matriz.reshape(-1,7) # 7 paises\n",
        "imaeLA = pd.DataFrame(matriz,index=fechas,columns=paises)\n",
        "imaeLA"
      ]
    },
    {
      "cell_type": "markdown",
      "metadata": {
        "id": "mng9xQCphxaK"
      },
      "source": [
        "### **Argentina**\n"
      ]
    },
    {
      "cell_type": "markdown",
      "metadata": {
        "id": "5HGhiXY6MURL"
      },
      "source": [
        "#### Publicaciones disponibles las fechas: \n",
        "1. 28 sept \n",
        "2. 21 Oct\n",
        "3. 23 Nov\n",
        "4. 23 Dic"
      ]
    },
    {
      "cell_type": "code",
      "metadata": {
        "id": "8lHpEj4I7Kkk"
      },
      "source": [
        "url = \"https://www.indec.gob.ar/ftp/cuadros/economia/sh_emae_mensual_base2004.xls\"\n",
        "urllib2.urlretrieve(url, \"test.xls\")\n",
        "data = pd.read_excel('test.xls',header=2)[2:]\n",
        "data1 = data.iloc[:,:4].dropna(subset = [data.columns[1]]) # data.columns[1] es la columna de los meses\n",
        "data1.reset_index(drop=True,inplace=True)\n",
        "data1[data1.columns[0]] = data1[data1.columns[0]].ffill() # forward fill # para los años   data1.columns[0] es la columna de los años\n",
        "data1 = data1.iloc[11:,:3]"
      ],
      "execution_count": 68,
      "outputs": []
    },
    {
      "cell_type": "code",
      "metadata": {
        "id": "AEop9VIOYe7t",
        "colab": {
          "base_uri": "https://localhost:8080/"
        },
        "outputId": "26d51522-48c0-453d-84e8-1915d8ebd783"
      },
      "source": [
        "data1['fecha'] = data1[data1.columns[0]].astype(int).astype(str) +\"-\"+ data1[data1.columns[1]]\n",
        "data1.set_index(data1.fecha,inplace=True)\n",
        "data1.iloc[:,2].tail(1)"
      ],
      "execution_count": 69,
      "outputs": [
        {
          "output_type": "execute_result",
          "data": {
            "text/plain": [
              "fecha\n",
              "2021-Septiembre    141.257333\n",
              "Name: Índice Serie Original\\n2004=100, dtype: float64"
            ]
          },
          "metadata": {},
          "execution_count": 69
        }
      ]
    },
    {
      "cell_type": "code",
      "metadata": {
        "id": "X0Sd_s4JR1iO",
        "colab": {
          "base_uri": "https://localhost:8080/",
          "height": 0
        },
        "outputId": "523b4656-9386-4a52-9fe0-29762de8ad5e"
      },
      "source": [
        "imaeLA = pd.merge(imaeLA,data1.iloc[:,2],how='left',left_index=True,right_index=True)\n",
        "imaeLA.columns = [*imaeLA.columns[:-1], 'Argentina']\n",
        "imaeLA.tail(1)"
      ],
      "execution_count": 70,
      "outputs": [
        {
          "output_type": "execute_result",
          "data": {
            "text/html": [
              "<div>\n",
              "<style scoped>\n",
              "    .dataframe tbody tr th:only-of-type {\n",
              "        vertical-align: middle;\n",
              "    }\n",
              "\n",
              "    .dataframe tbody tr th {\n",
              "        vertical-align: top;\n",
              "    }\n",
              "\n",
              "    .dataframe thead th {\n",
              "        text-align: right;\n",
              "    }\n",
              "</style>\n",
              "<table border=\"1\" class=\"dataframe\">\n",
              "  <thead>\n",
              "    <tr style=\"text-align: right;\">\n",
              "      <th></th>\n",
              "      <th>Costa Rica</th>\n",
              "      <th>El Salvador</th>\n",
              "      <th>Guatemala</th>\n",
              "      <th>Honduras</th>\n",
              "      <th>Nicaragua</th>\n",
              "      <th>República Dominicana</th>\n",
              "      <th>Panamá</th>\n",
              "      <th>Argentina</th>\n",
              "    </tr>\n",
              "  </thead>\n",
              "  <tbody>\n",
              "    <tr>\n",
              "      <th>2021-Septiembre</th>\n",
              "      <td>109.03</td>\n",
              "      <td>112.85</td>\n",
              "      <td>129.06</td>\n",
              "      <td>251.03</td>\n",
              "      <td>147.61</td>\n",
              "      <td>181.03</td>\n",
              "      <td>317.43</td>\n",
              "      <td>141.257333</td>\n",
              "    </tr>\n",
              "  </tbody>\n",
              "</table>\n",
              "</div>"
            ],
            "text/plain": [
              "                 Costa Rica  El Salvador  ...  Panamá   Argentina\n",
              "2021-Septiembre      109.03       112.85  ...  317.43  141.257333\n",
              "\n",
              "[1 rows x 8 columns]"
            ]
          },
          "metadata": {},
          "execution_count": 70
        }
      ]
    },
    {
      "cell_type": "code",
      "metadata": {
        "id": "YeDA4qcvTmcv"
      },
      "source": [
        ""
      ],
      "execution_count": 70,
      "outputs": []
    },
    {
      "cell_type": "markdown",
      "metadata": {
        "id": "USJ5m_3XS6ji"
      },
      "source": [
        "### **Brasil**"
      ]
    },
    {
      "cell_type": "markdown",
      "metadata": {
        "id": "rhunUnSlLzy_"
      },
      "source": [
        "#### Publicaciones :\n",
        "1. 15 sept\n",
        "2. 15 Oct\n",
        "3. 16 Nov\n",
        "4. 15 Dic"
      ]
    },
    {
      "cell_type": "code",
      "metadata": {
        "id": "A6-HZYuyofz0",
        "colab": {
          "base_uri": "https://localhost:8080/",
          "height": 0
        },
        "outputId": "d521f8fe-9e71-4d28-ae69-5c8302b6a5e1"
      },
      "source": [
        "urljson = \"https://api.bcb.gov.br/dados/serie/bcdata.sgs.24363/dados?formato=json\"\n",
        "urllib2.urlretrieve(urljson, \"brasil.json\")\n",
        "bra = pd.read_json('brasil.json')\n",
        "bra.rename(columns={'valor':'Brasil'},inplace=True)\n",
        "\n",
        "bra['Brasil1'] = bra.Brasil.pct_change(12)*100 # calculo tasa de crecimiento\n",
        "bra['date'] = pd.to_datetime(bra['data'],format='%d/%m/%Y') # transformamos a formato fecha\n",
        "# Creamos indice\n",
        "bra['fecha'] = pd.DatetimeIndex(bra['date']).year.astype(str) +\"-\"+pd.DatetimeIndex(bra['date']).month.astype(str)\n",
        "\n",
        "nombre_mes = [meses[i][1] for i in pd.DatetimeIndex(bra['date']).month.tolist()] # obtenemos nombre del mes\n",
        "bra['fecha'] = pd.DatetimeIndex(bra['date']).year.astype(str) +\"-\"+ nombre_mes # creamos indice\n",
        "bra.set_index(bra.fecha,inplace=True) #reemplazamos indice\n",
        "\n",
        "\n",
        "bra.tail(1)"
      ],
      "execution_count": 71,
      "outputs": [
        {
          "output_type": "execute_result",
          "data": {
            "text/html": [
              "<div>\n",
              "<style scoped>\n",
              "    .dataframe tbody tr th:only-of-type {\n",
              "        vertical-align: middle;\n",
              "    }\n",
              "\n",
              "    .dataframe tbody tr th {\n",
              "        vertical-align: top;\n",
              "    }\n",
              "\n",
              "    .dataframe thead th {\n",
              "        text-align: right;\n",
              "    }\n",
              "</style>\n",
              "<table border=\"1\" class=\"dataframe\">\n",
              "  <thead>\n",
              "    <tr style=\"text-align: right;\">\n",
              "      <th></th>\n",
              "      <th>data</th>\n",
              "      <th>Brasil</th>\n",
              "      <th>Brasil1</th>\n",
              "      <th>date</th>\n",
              "      <th>fecha</th>\n",
              "    </tr>\n",
              "    <tr>\n",
              "      <th>fecha</th>\n",
              "      <th></th>\n",
              "      <th></th>\n",
              "      <th></th>\n",
              "      <th></th>\n",
              "      <th></th>\n",
              "    </tr>\n",
              "  </thead>\n",
              "  <tbody>\n",
              "    <tr>\n",
              "      <th>2021-Octubre</th>\n",
              "      <td>01/10/2021</td>\n",
              "      <td>137.78</td>\n",
              "      <td>-1.480157</td>\n",
              "      <td>2021-10-01</td>\n",
              "      <td>2021-Octubre</td>\n",
              "    </tr>\n",
              "  </tbody>\n",
              "</table>\n",
              "</div>"
            ],
            "text/plain": [
              "                    data  Brasil   Brasil1       date         fecha\n",
              "fecha                                                              \n",
              "2021-Octubre  01/10/2021  137.78 -1.480157 2021-10-01  2021-Octubre"
            ]
          },
          "metadata": {},
          "execution_count": 71
        }
      ]
    },
    {
      "cell_type": "code",
      "source": [
        "imaela = pd.merge(imaeLA,bra['Brasil'],how='left',left_index=True,right_index=True) # combinamos la data"
      ],
      "metadata": {
        "id": "q33paJxYU1YL"
      },
      "execution_count": 72,
      "outputs": []
    },
    {
      "cell_type": "code",
      "metadata": {
        "id": "F7wsu6q6H9Oa"
      },
      "source": [
        "#    imaela"
      ],
      "execution_count": 73,
      "outputs": []
    },
    {
      "cell_type": "markdown",
      "metadata": {
        "id": "YlZNkOc6pfVo"
      },
      "source": [
        "### **Mexico**"
      ]
    },
    {
      "cell_type": "markdown",
      "metadata": {
        "id": "gp44d33BJ8hJ"
      },
      "source": [
        "#### Publicaciones disponibles las fechas: \n",
        "1. 27 sept \n",
        "2. 25 Oct\n",
        "3. 25 Nov\n",
        "4. 24 Dic"
      ]
    },
    {
      "cell_type": "code",
      "metadata": {
        "id": "G9quLL-jpnVD"
      },
      "source": [
        "url = \"https://www.inegi.org.mx/contenidos/temas/economia/cn/igae/tabulados/ori/IGAE_1.xlsx\"\n",
        "urllib2.urlretrieve(url, \"test.xlsx\")\n",
        "mex = pd.read_excel('test.xlsx',header=3,nrows=3)\n",
        "mex = mex.T.reset_index(drop=True) # transponemos y estandarizamos el indice\n",
        "mex.drop(0,inplace=True) # borramos primera fila\n",
        "mex[2] = round(mex[2].astype(float),2) # leyendo tasas de crecimiento en el formato numerico y redondeando\n",
        "mex[0] = mex[0].ffill()"
      ],
      "execution_count": 74,
      "outputs": []
    },
    {
      "cell_type": "code",
      "metadata": {
        "id": "LJzHJQ0Pq7Kc",
        "colab": {
          "base_uri": "https://localhost:8080/",
          "height": 0
        },
        "outputId": "7e031a45-fbb5-4924-91a4-7e5fe8c1781d"
      },
      "source": [
        "mex[1] = mex[1].replace(['oR','oP','lR','lP','eR','eP'],['o','o','l','l','e','e'], regex=True) #limpiar superindices \"Revisado\" \"Preliminar\"\n",
        "mex[0] = mex[0].replace(['P','R'],['',''],regex=True) # limpiar preliminar de fecha\n",
        "mex.index = mex[0].astype('str') +\"-\"+ mex[1] #creamos indice para base de datos\n",
        "mex.columns = [*mex.columns[:-1], 'México'] # nombramos columna\n",
        "mex.dropna().tail(1) # mostrar ultimo valor no nulo"
      ],
      "execution_count": 75,
      "outputs": [
        {
          "output_type": "execute_result",
          "data": {
            "text/html": [
              "<div>\n",
              "<style scoped>\n",
              "    .dataframe tbody tr th:only-of-type {\n",
              "        vertical-align: middle;\n",
              "    }\n",
              "\n",
              "    .dataframe tbody tr th {\n",
              "        vertical-align: top;\n",
              "    }\n",
              "\n",
              "    .dataframe thead th {\n",
              "        text-align: right;\n",
              "    }\n",
              "</style>\n",
              "<table border=\"1\" class=\"dataframe\">\n",
              "  <thead>\n",
              "    <tr style=\"text-align: right;\">\n",
              "      <th></th>\n",
              "      <th>0</th>\n",
              "      <th>1</th>\n",
              "      <th>México</th>\n",
              "    </tr>\n",
              "  </thead>\n",
              "  <tbody>\n",
              "    <tr>\n",
              "      <th>2021-Septiembre</th>\n",
              "      <td>2021</td>\n",
              "      <td>Septiembre</td>\n",
              "      <td>104.18</td>\n",
              "    </tr>\n",
              "  </tbody>\n",
              "</table>\n",
              "</div>"
            ],
            "text/plain": [
              "                    0           1  México\n",
              "2021-Septiembre  2021  Septiembre  104.18"
            ]
          },
          "metadata": {},
          "execution_count": 75
        }
      ]
    },
    {
      "cell_type": "code",
      "metadata": {
        "id": "QIx6594i6eEt"
      },
      "source": [
        "imaela = round(pd.merge(imaela,mex['México'],how='left',left_index=True,right_index=True),2) # combinamos las series"
      ],
      "execution_count": 76,
      "outputs": []
    },
    {
      "cell_type": "code",
      "metadata": {
        "id": "I8pV0b3HUrjM",
        "colab": {
          "base_uri": "https://localhost:8080/",
          "height": 0
        },
        "outputId": "b20cb94f-d890-4190-9359-aa489fb96757"
      },
      "source": [
        "imaela"
      ],
      "execution_count": 77,
      "outputs": [
        {
          "output_type": "execute_result",
          "data": {
            "text/html": [
              "<div>\n",
              "<style scoped>\n",
              "    .dataframe tbody tr th:only-of-type {\n",
              "        vertical-align: middle;\n",
              "    }\n",
              "\n",
              "    .dataframe tbody tr th {\n",
              "        vertical-align: top;\n",
              "    }\n",
              "\n",
              "    .dataframe thead th {\n",
              "        text-align: right;\n",
              "    }\n",
              "</style>\n",
              "<table border=\"1\" class=\"dataframe\">\n",
              "  <thead>\n",
              "    <tr style=\"text-align: right;\">\n",
              "      <th></th>\n",
              "      <th>Costa Rica</th>\n",
              "      <th>El Salvador</th>\n",
              "      <th>Guatemala</th>\n",
              "      <th>Honduras</th>\n",
              "      <th>Nicaragua</th>\n",
              "      <th>República Dominicana</th>\n",
              "      <th>Panamá</th>\n",
              "      <th>Argentina</th>\n",
              "      <th>Brasil</th>\n",
              "      <th>México</th>\n",
              "    </tr>\n",
              "  </thead>\n",
              "  <tbody>\n",
              "    <tr>\n",
              "      <th>2017-Abril</th>\n",
              "      <td>94.83</td>\n",
              "      <td>101.47</td>\n",
              "      <td>114.66</td>\n",
              "      <td>218.03</td>\n",
              "      <td>143.57</td>\n",
              "      <td>161.07</td>\n",
              "      <td>309.60</td>\n",
              "      <td>151.95</td>\n",
              "      <td>133.76</td>\n",
              "      <td>106.20</td>\n",
              "    </tr>\n",
              "    <tr>\n",
              "      <th>2017-Agosto</th>\n",
              "      <td>96.64</td>\n",
              "      <td>107.88</td>\n",
              "      <td>113.89</td>\n",
              "      <td>229.08</td>\n",
              "      <td>154.70</td>\n",
              "      <td>162.84</td>\n",
              "      <td>318.19</td>\n",
              "      <td>149.26</td>\n",
              "      <td>140.11</td>\n",
              "      <td>111.77</td>\n",
              "    </tr>\n",
              "    <tr>\n",
              "      <th>2017-Diciembre</th>\n",
              "      <td>108.11</td>\n",
              "      <td>117.41</td>\n",
              "      <td>122.69</td>\n",
              "      <td>251.23</td>\n",
              "      <td>178.15</td>\n",
              "      <td>172.38</td>\n",
              "      <td>324.80</td>\n",
              "      <td>146.78</td>\n",
              "      <td>135.78</td>\n",
              "      <td>113.99</td>\n",
              "    </tr>\n",
              "    <tr>\n",
              "      <th>2017-Enero</th>\n",
              "      <td>96.71</td>\n",
              "      <td>101.46</td>\n",
              "      <td>115.40</td>\n",
              "      <td>219.37</td>\n",
              "      <td>158.81</td>\n",
              "      <td>150.29</td>\n",
              "      <td>305.84</td>\n",
              "      <td>136.63</td>\n",
              "      <td>128.56</td>\n",
              "      <td>108.42</td>\n",
              "    </tr>\n",
              "    <tr>\n",
              "      <th>2017-Febrero</th>\n",
              "      <td>96.95</td>\n",
              "      <td>99.03</td>\n",
              "      <td>114.27</td>\n",
              "      <td>221.50</td>\n",
              "      <td>149.42</td>\n",
              "      <td>154.05</td>\n",
              "      <td>307.27</td>\n",
              "      <td>132.16</td>\n",
              "      <td>129.55</td>\n",
              "      <td>105.28</td>\n",
              "    </tr>\n",
              "    <tr>\n",
              "      <th>2017-Julio</th>\n",
              "      <td>96.27</td>\n",
              "      <td>105.54</td>\n",
              "      <td>113.75</td>\n",
              "      <td>216.75</td>\n",
              "      <td>161.70</td>\n",
              "      <td>157.66</td>\n",
              "      <td>304.97</td>\n",
              "      <td>150.31</td>\n",
              "      <td>138.36</td>\n",
              "      <td>108.96</td>\n",
              "    </tr>\n",
              "    <tr>\n",
              "      <th>2017-Junio</th>\n",
              "      <td>99.90</td>\n",
              "      <td>113.67</td>\n",
              "      <td>111.56</td>\n",
              "      <td>225.90</td>\n",
              "      <td>149.29</td>\n",
              "      <td>156.38</td>\n",
              "      <td>324.68</td>\n",
              "      <td>161.04</td>\n",
              "      <td>134.92</td>\n",
              "      <td>112.80</td>\n",
              "    </tr>\n",
              "    <tr>\n",
              "      <th>2017-Marzo</th>\n",
              "      <td>100.86</td>\n",
              "      <td>108.51</td>\n",
              "      <td>118.04</td>\n",
              "      <td>233.93</td>\n",
              "      <td>153.72</td>\n",
              "      <td>163.25</td>\n",
              "      <td>344.01</td>\n",
              "      <td>152.62</td>\n",
              "      <td>141.94</td>\n",
              "      <td>111.91</td>\n",
              "    </tr>\n",
              "    <tr>\n",
              "      <th>2017-Mayo</th>\n",
              "      <td>99.06</td>\n",
              "      <td>110.90</td>\n",
              "      <td>113.72</td>\n",
              "      <td>225.53</td>\n",
              "      <td>158.99</td>\n",
              "      <td>163.15</td>\n",
              "      <td>316.06</td>\n",
              "      <td>168.39</td>\n",
              "      <td>135.95</td>\n",
              "      <td>112.30</td>\n",
              "    </tr>\n",
              "    <tr>\n",
              "      <th>2017-Noviembre</th>\n",
              "      <td>107.71</td>\n",
              "      <td>110.29</td>\n",
              "      <td>117.05</td>\n",
              "      <td>235.80</td>\n",
              "      <td>167.01</td>\n",
              "      <td>166.49</td>\n",
              "      <td>322.13</td>\n",
              "      <td>151.93</td>\n",
              "      <td>135.11</td>\n",
              "      <td>116.18</td>\n",
              "    </tr>\n",
              "    <tr>\n",
              "      <th>2017-Octubre</th>\n",
              "      <td>103.97</td>\n",
              "      <td>103.21</td>\n",
              "      <td>113.72</td>\n",
              "      <td>232.75</td>\n",
              "      <td>156.53</td>\n",
              "      <td>163.17</td>\n",
              "      <td>335.94</td>\n",
              "      <td>149.39</td>\n",
              "      <td>136.01</td>\n",
              "      <td>112.85</td>\n",
              "    </tr>\n",
              "    <tr>\n",
              "      <th>2017-Septiembre</th>\n",
              "      <td>98.99</td>\n",
              "      <td>106.18</td>\n",
              "      <td>112.05</td>\n",
              "      <td>226.26</td>\n",
              "      <td>147.65</td>\n",
              "      <td>152.26</td>\n",
              "      <td>310.13</td>\n",
              "      <td>146.39</td>\n",
              "      <td>134.79</td>\n",
              "      <td>106.32</td>\n",
              "    </tr>\n",
              "    <tr>\n",
              "      <th>2018-Abril</th>\n",
              "      <td>99.60</td>\n",
              "      <td>107.97</td>\n",
              "      <td>119.58</td>\n",
              "      <td>227.12</td>\n",
              "      <td>149.48</td>\n",
              "      <td>172.92</td>\n",
              "      <td>323.97</td>\n",
              "      <td>151.52</td>\n",
              "      <td>139.08</td>\n",
              "      <td>111.59</td>\n",
              "    </tr>\n",
              "    <tr>\n",
              "      <th>2018-Agosto</th>\n",
              "      <td>101.12</td>\n",
              "      <td>111.88</td>\n",
              "      <td>117.70</td>\n",
              "      <td>238.66</td>\n",
              "      <td>149.47</td>\n",
              "      <td>173.66</td>\n",
              "      <td>328.91</td>\n",
              "      <td>146.77</td>\n",
              "      <td>143.39</td>\n",
              "      <td>114.33</td>\n",
              "    </tr>\n",
              "    <tr>\n",
              "      <th>2018-Diciembre</th>\n",
              "      <td>107.95</td>\n",
              "      <td>120.20</td>\n",
              "      <td>125.53</td>\n",
              "      <td>262.48</td>\n",
              "      <td>166.28</td>\n",
              "      <td>181.87</td>\n",
              "      <td>337.16</td>\n",
              "      <td>136.25</td>\n",
              "      <td>136.29</td>\n",
              "      <td>113.12</td>\n",
              "    </tr>\n",
              "    <tr>\n",
              "      <th>2018-Enero</th>\n",
              "      <td>99.21</td>\n",
              "      <td>105.05</td>\n",
              "      <td>117.63</td>\n",
              "      <td>228.97</td>\n",
              "      <td>164.02</td>\n",
              "      <td>161.43</td>\n",
              "      <td>319.90</td>\n",
              "      <td>142.74</td>\n",
              "      <td>132.09</td>\n",
              "      <td>111.01</td>\n",
              "    </tr>\n",
              "    <tr>\n",
              "      <th>2018-Febrero</th>\n",
              "      <td>99.00</td>\n",
              "      <td>102.42</td>\n",
              "      <td>117.43</td>\n",
              "      <td>228.12</td>\n",
              "      <td>153.55</td>\n",
              "      <td>164.49</td>\n",
              "      <td>316.80</td>\n",
              "      <td>138.82</td>\n",
              "      <td>129.93</td>\n",
              "      <td>107.81</td>\n",
              "    </tr>\n",
              "    <tr>\n",
              "      <th>2018-Julio</th>\n",
              "      <td>101.47</td>\n",
              "      <td>108.77</td>\n",
              "      <td>118.10</td>\n",
              "      <td>225.04</td>\n",
              "      <td>153.75</td>\n",
              "      <td>170.12</td>\n",
              "      <td>311.02</td>\n",
              "      <td>145.96</td>\n",
              "      <td>141.02</td>\n",
              "      <td>112.80</td>\n",
              "    </tr>\n",
              "    <tr>\n",
              "      <th>2018-Junio</th>\n",
              "      <td>103.46</td>\n",
              "      <td>113.60</td>\n",
              "      <td>116.18</td>\n",
              "      <td>234.03</td>\n",
              "      <td>130.20</td>\n",
              "      <td>168.71</td>\n",
              "      <td>333.86</td>\n",
              "      <td>151.13</td>\n",
              "      <td>136.94</td>\n",
              "      <td>114.44</td>\n",
              "    </tr>\n",
              "    <tr>\n",
              "      <th>2018-Marzo</th>\n",
              "      <td>103.54</td>\n",
              "      <td>108.34</td>\n",
              "      <td>121.55</td>\n",
              "      <td>237.11</td>\n",
              "      <td>157.41</td>\n",
              "      <td>173.45</td>\n",
              "      <td>353.87</td>\n",
              "      <td>155.86</td>\n",
              "      <td>141.58</td>\n",
              "      <td>111.19</td>\n",
              "    </tr>\n",
              "    <tr>\n",
              "      <th>2018-Mayo</th>\n",
              "      <td>104.56</td>\n",
              "      <td>112.53</td>\n",
              "      <td>118.84</td>\n",
              "      <td>234.88</td>\n",
              "      <td>150.67</td>\n",
              "      <td>174.07</td>\n",
              "      <td>320.38</td>\n",
              "      <td>159.57</td>\n",
              "      <td>132.29</td>\n",
              "      <td>115.82</td>\n",
              "    </tr>\n",
              "    <tr>\n",
              "      <th>2018-Noviembre</th>\n",
              "      <td>108.90</td>\n",
              "      <td>112.22</td>\n",
              "      <td>121.20</td>\n",
              "      <td>245.16</td>\n",
              "      <td>155.93</td>\n",
              "      <td>177.83</td>\n",
              "      <td>333.38</td>\n",
              "      <td>140.59</td>\n",
              "      <td>137.65</td>\n",
              "      <td>117.74</td>\n",
              "    </tr>\n",
              "    <tr>\n",
              "      <th>2018-Octubre</th>\n",
              "      <td>106.13</td>\n",
              "      <td>105.81</td>\n",
              "      <td>117.84</td>\n",
              "      <td>244.93</td>\n",
              "      <td>144.52</td>\n",
              "      <td>173.95</td>\n",
              "      <td>345.88</td>\n",
              "      <td>142.84</td>\n",
              "      <td>139.83</td>\n",
              "      <td>115.97</td>\n",
              "    </tr>\n",
              "    <tr>\n",
              "      <th>2018-Septiembre</th>\n",
              "      <td>101.69</td>\n",
              "      <td>107.50</td>\n",
              "      <td>115.10</td>\n",
              "      <td>232.55</td>\n",
              "      <td>141.12</td>\n",
              "      <td>164.76</td>\n",
              "      <td>321.99</td>\n",
              "      <td>137.75</td>\n",
              "      <td>135.75</td>\n",
              "      <td>108.77</td>\n",
              "    </tr>\n",
              "    <tr>\n",
              "      <th>2019-Abril</th>\n",
              "      <td>100.04</td>\n",
              "      <td>109.87</td>\n",
              "      <td>123.92</td>\n",
              "      <td>234.80</td>\n",
              "      <td>137.53</td>\n",
              "      <td>178.58</td>\n",
              "      <td>331.69</td>\n",
              "      <td>149.90</td>\n",
              "      <td>139.58</td>\n",
              "      <td>109.86</td>\n",
              "    </tr>\n",
              "    <tr>\n",
              "      <th>2019-Agosto</th>\n",
              "      <td>101.63</td>\n",
              "      <td>113.64</td>\n",
              "      <td>121.56</td>\n",
              "      <td>244.65</td>\n",
              "      <td>143.38</td>\n",
              "      <td>182.19</td>\n",
              "      <td>343.03</td>\n",
              "      <td>141.28</td>\n",
              "      <td>141.84</td>\n",
              "      <td>113.26</td>\n",
              "    </tr>\n",
              "    <tr>\n",
              "      <th>2019-Diciembre</th>\n",
              "      <td>111.39</td>\n",
              "      <td>123.83</td>\n",
              "      <td>130.44</td>\n",
              "      <td>273.80</td>\n",
              "      <td>167.40</td>\n",
              "      <td>193.98</td>\n",
              "      <td>348.27</td>\n",
              "      <td>135.67</td>\n",
              "      <td>137.46</td>\n",
              "      <td>113.33</td>\n",
              "    </tr>\n",
              "    <tr>\n",
              "      <th>2019-Enero</th>\n",
              "      <td>101.53</td>\n",
              "      <td>108.11</td>\n",
              "      <td>121.90</td>\n",
              "      <td>235.30</td>\n",
              "      <td>152.84</td>\n",
              "      <td>171.01</td>\n",
              "      <td>331.79</td>\n",
              "      <td>134.52</td>\n",
              "      <td>133.47</td>\n",
              "      <td>112.54</td>\n",
              "    </tr>\n",
              "    <tr>\n",
              "      <th>2019-Febrero</th>\n",
              "      <td>102.03</td>\n",
              "      <td>105.81</td>\n",
              "      <td>122.35</td>\n",
              "      <td>235.08</td>\n",
              "      <td>138.71</td>\n",
              "      <td>174.10</td>\n",
              "      <td>327.54</td>\n",
              "      <td>132.28</td>\n",
              "      <td>133.80</td>\n",
              "      <td>108.87</td>\n",
              "    </tr>\n",
              "    <tr>\n",
              "      <th>2019-Julio</th>\n",
              "      <td>102.64</td>\n",
              "      <td>111.58</td>\n",
              "      <td>122.47</td>\n",
              "      <td>238.02</td>\n",
              "      <td>149.77</td>\n",
              "      <td>178.03</td>\n",
              "      <td>326.89</td>\n",
              "      <td>146.77</td>\n",
              "      <td>143.04</td>\n",
              "      <td>113.40</td>\n",
              "    </tr>\n",
              "    <tr>\n",
              "      <th>2019-Junio</th>\n",
              "      <td>103.71</td>\n",
              "      <td>115.27</td>\n",
              "      <td>120.08</td>\n",
              "      <td>235.46</td>\n",
              "      <td>133.77</td>\n",
              "      <td>173.13</td>\n",
              "      <td>342.07</td>\n",
              "      <td>150.85</td>\n",
              "      <td>134.99</td>\n",
              "      <td>112.87</td>\n",
              "    </tr>\n",
              "    <tr>\n",
              "      <th>2019-Marzo</th>\n",
              "      <td>105.93</td>\n",
              "      <td>113.13</td>\n",
              "      <td>125.80</td>\n",
              "      <td>246.40</td>\n",
              "      <td>140.60</td>\n",
              "      <td>182.88</td>\n",
              "      <td>361.48</td>\n",
              "      <td>144.87</td>\n",
              "      <td>138.96</td>\n",
              "      <td>112.34</td>\n",
              "    </tr>\n",
              "    <tr>\n",
              "      <th>2019-Mayo</th>\n",
              "      <td>103.94</td>\n",
              "      <td>115.03</td>\n",
              "      <td>123.78</td>\n",
              "      <td>241.51</td>\n",
              "      <td>143.00</td>\n",
              "      <td>183.31</td>\n",
              "      <td>329.04</td>\n",
              "      <td>164.15</td>\n",
              "      <td>139.31</td>\n",
              "      <td>115.28</td>\n",
              "    </tr>\n",
              "    <tr>\n",
              "      <th>2019-Noviembre</th>\n",
              "      <td>112.06</td>\n",
              "      <td>117.20</td>\n",
              "      <td>126.79</td>\n",
              "      <td>250.26</td>\n",
              "      <td>157.61</td>\n",
              "      <td>187.59</td>\n",
              "      <td>346.63</td>\n",
              "      <td>137.66</td>\n",
              "      <td>138.86</td>\n",
              "      <td>116.24</td>\n",
              "    </tr>\n",
              "    <tr>\n",
              "      <th>2019-Octubre</th>\n",
              "      <td>109.33</td>\n",
              "      <td>109.15</td>\n",
              "      <td>122.39</td>\n",
              "      <td>252.72</td>\n",
              "      <td>147.17</td>\n",
              "      <td>183.05</td>\n",
              "      <td>359.84</td>\n",
              "      <td>141.51</td>\n",
              "      <td>142.87</td>\n",
              "      <td>115.36</td>\n",
              "    </tr>\n",
              "    <tr>\n",
              "      <th>2019-Septiembre</th>\n",
              "      <td>103.86</td>\n",
              "      <td>112.01</td>\n",
              "      <td>120.36</td>\n",
              "      <td>239.69</td>\n",
              "      <td>137.80</td>\n",
              "      <td>173.34</td>\n",
              "      <td>340.12</td>\n",
              "      <td>134.89</td>\n",
              "      <td>138.25</td>\n",
              "      <td>108.86</td>\n",
              "    </tr>\n",
              "    <tr>\n",
              "      <th>2020-Abril</th>\n",
              "      <td>90.88</td>\n",
              "      <td>88.31</td>\n",
              "      <td>112.77</td>\n",
              "      <td>186.13</td>\n",
              "      <td>124.66</td>\n",
              "      <td>125.35</td>\n",
              "      <td>247.19</td>\n",
              "      <td>111.90</td>\n",
              "      <td>118.83</td>\n",
              "      <td>88.18</td>\n",
              "    </tr>\n",
              "    <tr>\n",
              "      <th>2020-Agosto</th>\n",
              "      <td>93.35</td>\n",
              "      <td>102.54</td>\n",
              "      <td>120.25</td>\n",
              "      <td>225.70</td>\n",
              "      <td>138.51</td>\n",
              "      <td>169.07</td>\n",
              "      <td>251.35</td>\n",
              "      <td>125.17</td>\n",
              "      <td>135.53</td>\n",
              "      <td>102.71</td>\n",
              "    </tr>\n",
              "    <tr>\n",
              "      <th>2020-Diciembre</th>\n",
              "      <td>110.97</td>\n",
              "      <td>122.31</td>\n",
              "      <td>136.24</td>\n",
              "      <td>257.91</td>\n",
              "      <td>167.23</td>\n",
              "      <td>192.02</td>\n",
              "      <td>316.10</td>\n",
              "      <td>132.42</td>\n",
              "      <td>139.29</td>\n",
              "      <td>110.69</td>\n",
              "    </tr>\n",
              "    <tr>\n",
              "      <th>2020-Enero</th>\n",
              "      <td>104.13</td>\n",
              "      <td>110.91</td>\n",
              "      <td>127.40</td>\n",
              "      <td>243.14</td>\n",
              "      <td>152.88</td>\n",
              "      <td>179.04</td>\n",
              "      <td>345.73</td>\n",
              "      <td>132.28</td>\n",
              "      <td>133.86</td>\n",
              "      <td>112.32</td>\n",
              "    </tr>\n",
              "    <tr>\n",
              "      <th>2020-Febrero</th>\n",
              "      <td>105.17</td>\n",
              "      <td>109.93</td>\n",
              "      <td>125.54</td>\n",
              "      <td>242.59</td>\n",
              "      <td>144.12</td>\n",
              "      <td>183.24</td>\n",
              "      <td>338.73</td>\n",
              "      <td>129.75</td>\n",
              "      <td>134.66</td>\n",
              "      <td>108.75</td>\n",
              "    </tr>\n",
              "    <tr>\n",
              "      <th>2020-Julio</th>\n",
              "      <td>92.91</td>\n",
              "      <td>96.17</td>\n",
              "      <td>117.42</td>\n",
              "      <td>208.83</td>\n",
              "      <td>147.54</td>\n",
              "      <td>162.35</td>\n",
              "      <td>241.95</td>\n",
              "      <td>128.19</td>\n",
              "      <td>135.77</td>\n",
              "      <td>102.17</td>\n",
              "    </tr>\n",
              "    <tr>\n",
              "      <th>2020-Junio</th>\n",
              "      <td>97.03</td>\n",
              "      <td>97.05</td>\n",
              "      <td>111.06</td>\n",
              "      <td>208.19</td>\n",
              "      <td>128.82</td>\n",
              "      <td>160.89</td>\n",
              "      <td>243.01</td>\n",
              "      <td>133.30</td>\n",
              "      <td>126.00</td>\n",
              "      <td>97.86</td>\n",
              "    </tr>\n",
              "    <tr>\n",
              "      <th>2020-Marzo</th>\n",
              "      <td>103.55</td>\n",
              "      <td>105.58</td>\n",
              "      <td>121.36</td>\n",
              "      <td>218.14</td>\n",
              "      <td>140.05</td>\n",
              "      <td>165.67</td>\n",
              "      <td>364.78</td>\n",
              "      <td>129.10</td>\n",
              "      <td>136.46</td>\n",
              "      <td>109.90</td>\n",
              "    </tr>\n",
              "    <tr>\n",
              "      <th>2020-Mayo</th>\n",
              "      <td>93.09</td>\n",
              "      <td>89.77</td>\n",
              "      <td>111.25</td>\n",
              "      <td>188.45</td>\n",
              "      <td>133.85</td>\n",
              "      <td>158.43</td>\n",
              "      <td>228.30</td>\n",
              "      <td>131.29</td>\n",
              "      <td>119.67</td>\n",
              "      <td>88.93</td>\n",
              "    </tr>\n",
              "    <tr>\n",
              "      <th>2020-Noviembre</th>\n",
              "      <td>105.13</td>\n",
              "      <td>111.91</td>\n",
              "      <td>128.86</td>\n",
              "      <td>218.99</td>\n",
              "      <td>148.79</td>\n",
              "      <td>181.13</td>\n",
              "      <td>300.21</td>\n",
              "      <td>132.97</td>\n",
              "      <td>138.11</td>\n",
              "      <td>110.91</td>\n",
              "    </tr>\n",
              "    <tr>\n",
              "      <th>2020-Octubre</th>\n",
              "      <td>102.09</td>\n",
              "      <td>106.56</td>\n",
              "      <td>125.72</td>\n",
              "      <td>249.68</td>\n",
              "      <td>148.50</td>\n",
              "      <td>175.09</td>\n",
              "      <td>312.12</td>\n",
              "      <td>131.73</td>\n",
              "      <td>139.85</td>\n",
              "      <td>109.12</td>\n",
              "    </tr>\n",
              "    <tr>\n",
              "      <th>2020-Septiembre</th>\n",
              "      <td>97.99</td>\n",
              "      <td>106.35</td>\n",
              "      <td>121.45</td>\n",
              "      <td>230.41</td>\n",
              "      <td>140.01</td>\n",
              "      <td>163.68</td>\n",
              "      <td>268.97</td>\n",
              "      <td>126.60</td>\n",
              "      <td>137.11</td>\n",
              "      <td>103.22</td>\n",
              "    </tr>\n",
              "    <tr>\n",
              "      <th>2021-Abril</th>\n",
              "      <td>102.45</td>\n",
              "      <td>110.85</td>\n",
              "      <td>129.97</td>\n",
              "      <td>234.59</td>\n",
              "      <td>144.24</td>\n",
              "      <td>184.45</td>\n",
              "      <td>313.41</td>\n",
              "      <td>144.97</td>\n",
              "      <td>139.04</td>\n",
              "      <td>107.93</td>\n",
              "    </tr>\n",
              "    <tr>\n",
              "      <th>2021-Agosto</th>\n",
              "      <td>105.56</td>\n",
              "      <td>112.04</td>\n",
              "      <td>130.12</td>\n",
              "      <td>256.38</td>\n",
              "      <td>151.80</td>\n",
              "      <td>188.78</td>\n",
              "      <td>322.86</td>\n",
              "      <td>141.20</td>\n",
              "      <td>141.03</td>\n",
              "      <td>107.14</td>\n",
              "    </tr>\n",
              "    <tr>\n",
              "      <th>2021-Enero</th>\n",
              "      <td>97.54</td>\n",
              "      <td>109.03</td>\n",
              "      <td>129.22</td>\n",
              "      <td>230.06</td>\n",
              "      <td>154.73</td>\n",
              "      <td>175.85</td>\n",
              "      <td>297.55</td>\n",
              "      <td>129.49</td>\n",
              "      <td>132.04</td>\n",
              "      <td>105.38</td>\n",
              "    </tr>\n",
              "    <tr>\n",
              "      <th>2021-Febrero</th>\n",
              "      <td>99.94</td>\n",
              "      <td>108.59</td>\n",
              "      <td>128.60</td>\n",
              "      <td>236.15</td>\n",
              "      <td>147.44</td>\n",
              "      <td>185.33</td>\n",
              "      <td>310.85</td>\n",
              "      <td>126.69</td>\n",
              "      <td>134.76</td>\n",
              "      <td>102.64</td>\n",
              "    </tr>\n",
              "    <tr>\n",
              "      <th>2021-Julio</th>\n",
              "      <td>108.22</td>\n",
              "      <td>109.75</td>\n",
              "      <td>130.95</td>\n",
              "      <td>241.80</td>\n",
              "      <td>160.41</td>\n",
              "      <td>181.92</td>\n",
              "      <td>349.96</td>\n",
              "      <td>143.19</td>\n",
              "      <td>142.70</td>\n",
              "      <td>109.86</td>\n",
              "    </tr>\n",
              "    <tr>\n",
              "      <th>2021-Junio</th>\n",
              "      <td>105.86</td>\n",
              "      <td>114.35</td>\n",
              "      <td>126.28</td>\n",
              "      <td>248.26</td>\n",
              "      <td>151.75</td>\n",
              "      <td>181.27</td>\n",
              "      <td>323.23</td>\n",
              "      <td>148.82</td>\n",
              "      <td>137.21</td>\n",
              "      <td>111.11</td>\n",
              "    </tr>\n",
              "    <tr>\n",
              "      <th>2021-Marzo</th>\n",
              "      <td>107.64</td>\n",
              "      <td>114.86</td>\n",
              "      <td>133.51</td>\n",
              "      <td>247.84</td>\n",
              "      <td>151.38</td>\n",
              "      <td>183.29</td>\n",
              "      <td>350.15</td>\n",
              "      <td>146.29</td>\n",
              "      <td>143.96</td>\n",
              "      <td>111.47</td>\n",
              "    </tr>\n",
              "    <tr>\n",
              "      <th>2021-Mayo</th>\n",
              "      <td>105.50</td>\n",
              "      <td>114.56</td>\n",
              "      <td>129.29</td>\n",
              "      <td>242.40</td>\n",
              "      <td>156.13</td>\n",
              "      <td>192.04</td>\n",
              "      <td>322.65</td>\n",
              "      <td>150.20</td>\n",
              "      <td>136.92</td>\n",
              "      <td>111.96</td>\n",
              "    </tr>\n",
              "    <tr>\n",
              "      <th>2021-Octubre</th>\n",
              "      <td>NaN</td>\n",
              "      <td>NaN</td>\n",
              "      <td>NaN</td>\n",
              "      <td>NaN</td>\n",
              "      <td>NaN</td>\n",
              "      <td>192.16</td>\n",
              "      <td>NaN</td>\n",
              "      <td>NaN</td>\n",
              "      <td>137.78</td>\n",
              "      <td>NaN</td>\n",
              "    </tr>\n",
              "    <tr>\n",
              "      <th>2021-Septiembre</th>\n",
              "      <td>109.03</td>\n",
              "      <td>112.85</td>\n",
              "      <td>129.06</td>\n",
              "      <td>251.03</td>\n",
              "      <td>147.61</td>\n",
              "      <td>181.03</td>\n",
              "      <td>317.43</td>\n",
              "      <td>141.26</td>\n",
              "      <td>138.05</td>\n",
              "      <td>104.18</td>\n",
              "    </tr>\n",
              "  </tbody>\n",
              "</table>\n",
              "</div>"
            ],
            "text/plain": [
              "                 Costa Rica  El Salvador  Guatemala  ...  Argentina  Brasil  México\n",
              "2017-Abril            94.83       101.47     114.66  ...     151.95  133.76  106.20\n",
              "2017-Agosto           96.64       107.88     113.89  ...     149.26  140.11  111.77\n",
              "2017-Diciembre       108.11       117.41     122.69  ...     146.78  135.78  113.99\n",
              "2017-Enero            96.71       101.46     115.40  ...     136.63  128.56  108.42\n",
              "2017-Febrero          96.95        99.03     114.27  ...     132.16  129.55  105.28\n",
              "2017-Julio            96.27       105.54     113.75  ...     150.31  138.36  108.96\n",
              "2017-Junio            99.90       113.67     111.56  ...     161.04  134.92  112.80\n",
              "2017-Marzo           100.86       108.51     118.04  ...     152.62  141.94  111.91\n",
              "2017-Mayo             99.06       110.90     113.72  ...     168.39  135.95  112.30\n",
              "2017-Noviembre       107.71       110.29     117.05  ...     151.93  135.11  116.18\n",
              "2017-Octubre         103.97       103.21     113.72  ...     149.39  136.01  112.85\n",
              "2017-Septiembre       98.99       106.18     112.05  ...     146.39  134.79  106.32\n",
              "2018-Abril            99.60       107.97     119.58  ...     151.52  139.08  111.59\n",
              "2018-Agosto          101.12       111.88     117.70  ...     146.77  143.39  114.33\n",
              "2018-Diciembre       107.95       120.20     125.53  ...     136.25  136.29  113.12\n",
              "2018-Enero            99.21       105.05     117.63  ...     142.74  132.09  111.01\n",
              "2018-Febrero          99.00       102.42     117.43  ...     138.82  129.93  107.81\n",
              "2018-Julio           101.47       108.77     118.10  ...     145.96  141.02  112.80\n",
              "2018-Junio           103.46       113.60     116.18  ...     151.13  136.94  114.44\n",
              "2018-Marzo           103.54       108.34     121.55  ...     155.86  141.58  111.19\n",
              "2018-Mayo            104.56       112.53     118.84  ...     159.57  132.29  115.82\n",
              "2018-Noviembre       108.90       112.22     121.20  ...     140.59  137.65  117.74\n",
              "2018-Octubre         106.13       105.81     117.84  ...     142.84  139.83  115.97\n",
              "2018-Septiembre      101.69       107.50     115.10  ...     137.75  135.75  108.77\n",
              "2019-Abril           100.04       109.87     123.92  ...     149.90  139.58  109.86\n",
              "2019-Agosto          101.63       113.64     121.56  ...     141.28  141.84  113.26\n",
              "2019-Diciembre       111.39       123.83     130.44  ...     135.67  137.46  113.33\n",
              "2019-Enero           101.53       108.11     121.90  ...     134.52  133.47  112.54\n",
              "2019-Febrero         102.03       105.81     122.35  ...     132.28  133.80  108.87\n",
              "2019-Julio           102.64       111.58     122.47  ...     146.77  143.04  113.40\n",
              "2019-Junio           103.71       115.27     120.08  ...     150.85  134.99  112.87\n",
              "2019-Marzo           105.93       113.13     125.80  ...     144.87  138.96  112.34\n",
              "2019-Mayo            103.94       115.03     123.78  ...     164.15  139.31  115.28\n",
              "2019-Noviembre       112.06       117.20     126.79  ...     137.66  138.86  116.24\n",
              "2019-Octubre         109.33       109.15     122.39  ...     141.51  142.87  115.36\n",
              "2019-Septiembre      103.86       112.01     120.36  ...     134.89  138.25  108.86\n",
              "2020-Abril            90.88        88.31     112.77  ...     111.90  118.83   88.18\n",
              "2020-Agosto           93.35       102.54     120.25  ...     125.17  135.53  102.71\n",
              "2020-Diciembre       110.97       122.31     136.24  ...     132.42  139.29  110.69\n",
              "2020-Enero           104.13       110.91     127.40  ...     132.28  133.86  112.32\n",
              "2020-Febrero         105.17       109.93     125.54  ...     129.75  134.66  108.75\n",
              "2020-Julio            92.91        96.17     117.42  ...     128.19  135.77  102.17\n",
              "2020-Junio            97.03        97.05     111.06  ...     133.30  126.00   97.86\n",
              "2020-Marzo           103.55       105.58     121.36  ...     129.10  136.46  109.90\n",
              "2020-Mayo             93.09        89.77     111.25  ...     131.29  119.67   88.93\n",
              "2020-Noviembre       105.13       111.91     128.86  ...     132.97  138.11  110.91\n",
              "2020-Octubre         102.09       106.56     125.72  ...     131.73  139.85  109.12\n",
              "2020-Septiembre       97.99       106.35     121.45  ...     126.60  137.11  103.22\n",
              "2021-Abril           102.45       110.85     129.97  ...     144.97  139.04  107.93\n",
              "2021-Agosto          105.56       112.04     130.12  ...     141.20  141.03  107.14\n",
              "2021-Enero            97.54       109.03     129.22  ...     129.49  132.04  105.38\n",
              "2021-Febrero          99.94       108.59     128.60  ...     126.69  134.76  102.64\n",
              "2021-Julio           108.22       109.75     130.95  ...     143.19  142.70  109.86\n",
              "2021-Junio           105.86       114.35     126.28  ...     148.82  137.21  111.11\n",
              "2021-Marzo           107.64       114.86     133.51  ...     146.29  143.96  111.47\n",
              "2021-Mayo            105.50       114.56     129.29  ...     150.20  136.92  111.96\n",
              "2021-Octubre            NaN          NaN        NaN  ...        NaN  137.78     NaN\n",
              "2021-Septiembre      109.03       112.85     129.06  ...     141.26  138.05  104.18\n",
              "\n",
              "[58 rows x 10 columns]"
            ]
          },
          "metadata": {},
          "execution_count": 77
        }
      ]
    },
    {
      "cell_type": "code",
      "metadata": {
        "id": "2XyzaBWtpn_0"
      },
      "source": [
        "## link excel\n",
        "#https://www.inegi.org.mx/contenidos/temas/economia/cn/igae/tabulados/ori/IGAE_1.xlsx       indice\n",
        "\n",
        "#https://www.inegi.org.mx/contenidos/temas/economia/cn/igae/tabulados/ori/IGAE_2.xlsx       crecimiento"
      ],
      "execution_count": 78,
      "outputs": []
    },
    {
      "cell_type": "markdown",
      "metadata": {
        "id": "av3nykGIzFj-"
      },
      "source": [
        "### **Perú**"
      ]
    },
    {
      "cell_type": "markdown",
      "metadata": {
        "id": "Zxz5C9hXDTEC"
      },
      "source": [
        "#### Publicaciones disponibles a fecha:\n",
        " \n",
        "2. 21 Oct\n",
        "3. 18 Nov\n",
        "4. "
      ]
    },
    {
      "cell_type": "code",
      "metadata": {
        "id": "Ztmnin9LzGhP"
      },
      "source": [
        "url = 'https://www.inei.gob.pe/media/principales_indicadores/CalculoPBI_99.zip' #cambio de 99 a 100 (sep oct)"
      ],
      "execution_count": 79,
      "outputs": []
    },
    {
      "cell_type": "code",
      "metadata": {
        "id": "fR9o9g9hzGpQ"
      },
      "source": [
        "zip, _ = urllib2.urlretrieve(url)\n",
        "with zipfile.ZipFile(zip, \"r\") as f:\n",
        "    f.extractall('/content')"
      ],
      "execution_count": 80,
      "outputs": []
    },
    {
      "cell_type": "code",
      "metadata": {
        "id": "NoK6gcMRzGvt"
      },
      "source": [
        "indicador = [f.namelist()[i] for i in range(len(f.namelist())) if 'Indicador Mensual' in f.namelist()[i]][0] # el 0 es para que elija el string de la lista\n",
        "df = pd.read_excel(indicador,sheet_name=1,header=3)[1:] # el indice esta en la segunda hoja del excel"
      ],
      "execution_count": 81,
      "outputs": []
    },
    {
      "cell_type": "code",
      "metadata": {
        "colab": {
          "base_uri": "https://localhost:8080/",
          "height": 0
        },
        "id": "XAf-5TNTFX7g",
        "outputId": "680db427-0c9e-4350-c2d6-1d1ccc948730"
      },
      "source": [
        "indicador"
      ],
      "execution_count": 82,
      "outputs": [
        {
          "output_type": "execute_result",
          "data": {
            "application/vnd.google.colaboratory.intrinsic+json": {
              "type": "string"
            },
            "text/plain": [
              "'Indicador Mensual de la Producción Nacional 09 2021 r.xlsx'"
            ]
          },
          "metadata": {},
          "execution_count": 82
        }
      ]
    },
    {
      "cell_type": "code",
      "metadata": {
        "id": "Db-wpEmd1M4i"
      },
      "source": [
        "pe = round(df.filter(like='Índice Global'),2)   # regex='spike|spke' se puede usar regex para en caso de que escriban las columnas mal\n",
        "pe['YM'] = df['Año y Mes'].astype(int).astype(str)\n",
        "\n",
        "#  IG.1 Mensual   IG.2 Acumulado  IG.3 Anual\n",
        "pe['fecha'] =  pe['YM'].str[0:4] +'-'+ pe['YM'].str[4:7].astype(int).map(meses_dict)  # fecha\n",
        "pe.set_index('fecha',inplace=True)\n",
        "\n",
        "pe.rename(columns={pe.columns[0]:'Perú',pe.columns[1]:'Perú_i',pe.columns[2]:'Perú_a'},inplace=True)"
      ],
      "execution_count": 83,
      "outputs": []
    },
    {
      "cell_type": "code",
      "metadata": {
        "id": "T5rh--_j38St"
      },
      "source": [
        "imaela = imaela.merge(pe['Perú'],how='left',left_index=True,right_index=True)"
      ],
      "execution_count": 84,
      "outputs": []
    },
    {
      "cell_type": "markdown",
      "metadata": {
        "id": "A2MSTFg45f_H"
      },
      "source": [
        "### **Chile**"
      ]
    },
    {
      "cell_type": "markdown",
      "metadata": {
        "id": "hqlvksKyKnZL"
      },
      "source": [
        "#### Publicaciones disponibles las fechas:\n",
        " \n",
        "2. 1 Oct  - Agosto\n",
        "3. 2 Nov  - Septiembre\n",
        "4. 1 Dic - Noviembre"
      ]
    },
    {
      "cell_type": "code",
      "metadata": {
        "id": "bKL_VCs35h82"
      },
      "source": [
        "url = \"https://si3.bcentral.cl/estadisticas/Principal1/excel/CCNN/IMACEC/Excel/IMACEC.xlsx\"\n",
        "urllib2.urlretrieve(url, \"chile.xlsx\")\n",
        "df = pd.read_excel('chile.xlsx',header=5,keep_default_na=False)"
      ],
      "execution_count": 85,
      "outputs": []
    },
    {
      "cell_type": "code",
      "metadata": {
        "id": "Gv8NAd-xcUEZ",
        "colab": {
          "base_uri": "https://localhost:8080/",
          "height": 0
        },
        "outputId": "427b63ca-604b-4462-cdff-d15e47a9db80"
      },
      "source": [
        "chile = df.loc[1:,[df.columns[0],df.columns[1],'Imacec']][:-10] # excluimos las ultimas 10 filas (pie de pagina)\n",
        "chile.rename(columns = {'Imacec':'Chile'}, inplace = True) # renombramos\n",
        "chile['Chile1'] = pd.to_numeric(chile.Chile).pct_change(12)*100\n",
        "###\n",
        "chile[chile.columns[0]] = pd.to_numeric(chile[chile.columns[0]], errors='coerce').ffill().bfill().astype(int)\n",
        " # las columnas del excel contienen string en blanco por lo que se transformaron a numero antes de hacer el forward fill\n",
        " # el backward fill es para asegurar que no quede NaN por detras y dificulte la creacion del indice\n",
        "###\n",
        "\n",
        "chile['mes'] = chile[chile.columns[1]].map(mes3).bfill() # creando mes y usando el bfill por el mismo motivo explicado arriba\n",
        "\n",
        "#Creamos el indice\n",
        "chile.index = chile[chile.columns[0]].astype('str') +\"-\"+ chile.mes\n",
        "\n",
        "chile.tail(1)"
      ],
      "execution_count": 86,
      "outputs": [
        {
          "output_type": "execute_result",
          "data": {
            "text/html": [
              "<div>\n",
              "<style scoped>\n",
              "    .dataframe tbody tr th:only-of-type {\n",
              "        vertical-align: middle;\n",
              "    }\n",
              "\n",
              "    .dataframe tbody tr th {\n",
              "        vertical-align: top;\n",
              "    }\n",
              "\n",
              "    .dataframe thead th {\n",
              "        text-align: right;\n",
              "    }\n",
              "</style>\n",
              "<table border=\"1\" class=\"dataframe\">\n",
              "  <thead>\n",
              "    <tr style=\"text-align: right;\">\n",
              "      <th></th>\n",
              "      <th></th>\n",
              "      <th>Unnamed: 1</th>\n",
              "      <th>Chile</th>\n",
              "      <th>Chile1</th>\n",
              "      <th>mes</th>\n",
              "    </tr>\n",
              "  </thead>\n",
              "  <tbody>\n",
              "    <tr>\n",
              "      <th>2021-Octubre</th>\n",
              "      <td>2021</td>\n",
              "      <td>oct</td>\n",
              "      <td>124.696</td>\n",
              "      <td>14.951209</td>\n",
              "      <td>Octubre</td>\n",
              "    </tr>\n",
              "  </tbody>\n",
              "</table>\n",
              "</div>"
            ],
            "text/plain": [
              "                   Unnamed: 1    Chile     Chile1      mes\n",
              "2021-Octubre  2021        oct  124.696  14.951209  Octubre"
            ]
          },
          "metadata": {},
          "execution_count": 86
        }
      ]
    },
    {
      "cell_type": "code",
      "metadata": {
        "colab": {
          "base_uri": "https://localhost:8080/"
        },
        "id": "Imhrlm8mSnTJ",
        "outputId": "828d59c9-3391-43ab-94f2-365fd4916f41"
      },
      "source": [
        " pd.to_numeric(chile[chile.columns[0]], errors='coerce')"
      ],
      "execution_count": 87,
      "outputs": [
        {
          "output_type": "execute_result",
          "data": {
            "text/plain": [
              "2013-Enero         2013\n",
              "2014-Enero         2014\n",
              "2015-Enero         2015\n",
              "2016-Enero         2016\n",
              "2017-Enero         2017\n",
              "                   ... \n",
              "2021-Junio         2021\n",
              "2021-Julio         2021\n",
              "2021-Agosto        2021\n",
              "2021-Septiembre    2021\n",
              "2021-Octubre       2021\n",
              "Name:  , Length: 115, dtype: int64"
            ]
          },
          "metadata": {},
          "execution_count": 87
        }
      ]
    },
    {
      "cell_type": "code",
      "metadata": {
        "id": "euH3hfbWtab4"
      },
      "source": [
        "imaelatam = round(imaela.merge(chile['Chile'],how='left',left_index=True,right_index=True),2)\n",
        "imaelatam = imaelatam[~imaelatam.index.duplicated(keep='last')].reindex(imaela.index) # hay duplicados, los eliminamos y reindexamos"
      ],
      "execution_count": 88,
      "outputs": []
    },
    {
      "cell_type": "code",
      "metadata": {
        "id": "6kQyvbAHrg2D"
      },
      "source": [
        "#  imaelatam"
      ],
      "execution_count": 89,
      "outputs": []
    },
    {
      "cell_type": "markdown",
      "metadata": {
        "id": "rSOwOPisI0mw"
      },
      "source": [
        "### **Ecuador**"
      ]
    },
    {
      "cell_type": "markdown",
      "metadata": {
        "id": "GqkkMgL4LIwV"
      },
      "source": [
        "#### Publicaciones disponibles las fechas: \n",
        "1. 14 sept    -    Julio\n",
        "2. 13 Oct    -     Agosto\n",
        "3. 15 Nov    -     Sep\n",
        "4. 24 Dic    -     Oct"
      ]
    },
    {
      "cell_type": "code",
      "metadata": {
        "id": "sscszb2Zd1gv",
        "colab": {
          "base_uri": "https://localhost:8080/"
        },
        "outputId": "38b434db-d2a0-4f1a-cec6-c7f18cf016b9"
      },
      "source": [
        "url = \"https://contenido.bce.fin.ec/documentos/PublicacionesNotas/Catalogo/IEMensual/Adelantos/IEM-452-e.xlsx\"\n",
        "urllib2.urlretrieve(url, \"Ecuador.xlsx\")\n",
        "df = pd.read_excel('Ecuador.xlsx',header=7,keep_default_na=False)[1:13].reset_index()\n",
        "\n",
        "ecu = (df.set_index(['Unnamed: 0','index'])\n",
        ".stack()\n",
        ".reset_index()\n",
        ".rename(columns={'Unnamed: 0':'mes','level_2':'Year'})).sort_values(['Year','index']) # ingenieria de base de datos\n",
        "\n",
        "# Elaboracion de indice\n",
        "ecu['Mes'] = ecu.mes.str.lower().map(mes3)\n",
        "ecu.insert(3, 'fecha', ecu.Year.astype(str) + '-' + ecu.Mes)\n",
        "ecu.index = ecu.fecha\n",
        "\n",
        "# Variacion interanual\n",
        "ecu.rename(columns={0:'Ecuador'},inplace=True)\n",
        "ecu['Ecuador1'] = pd.to_numeric(ecu['Ecuador'],errors='coerce').pct_change(12)*100\n",
        "\n",
        "ecu.Ecuador.tail()"
      ],
      "execution_count": 90,
      "outputs": [
        {
          "output_type": "execute_result",
          "data": {
            "text/plain": [
              "fecha\n",
              "2021-Agosto        168.508\n",
              "2021-Septiembre    173.214\n",
              "2021-Octubre       176.086\n",
              "2021-Noviembre            \n",
              "2021-Diciembre            \n",
              "Name: Ecuador, dtype: object"
            ]
          },
          "metadata": {},
          "execution_count": 90
        }
      ]
    },
    {
      "cell_type": "code",
      "metadata": {
        "id": "ok4gz6V3nbeh"
      },
      "source": [
        "imaela = round(pd.merge(imaelatam,ecu['Ecuador'],how='left',left_index=True,right_index=True),2)"
      ],
      "execution_count": 91,
      "outputs": []
    },
    {
      "cell_type": "code",
      "metadata": {
        "id": "rjP6l55-S_KT"
      },
      "source": [
        "#   imaela"
      ],
      "execution_count": 92,
      "outputs": []
    },
    {
      "cell_type": "markdown",
      "metadata": {
        "id": "wrBNeqzd4se-"
      },
      "source": [
        "df = np.array(tb.read_pdf('ecuador.pdf',pages = '5',stream=True,multiple_tables=True,pandas_options={'header':None}))\n",
        "dff = pd.DataFrame(df.reshape(-1,5)) # en 2022 el reshape debe ser (-1,6)"
      ]
    },
    {
      "cell_type": "markdown",
      "metadata": {
        "id": "DYqsQgFR-FOz"
      },
      "source": [
        "dff[dff.iloc[3,2].split(' ')] = dff[2].str.split(' ',expand=True)\n",
        "if dff.iloc[3,3] in range(2020,2040,1):\n",
        "  dff[int(dff.iloc[3,3])] = dff[3]\n",
        "  dff[int(dff.iloc[3,4])] = dff[4]\n",
        "else:\n",
        "  dff[int(dff.iloc[3,4])] = dff[4]"
      ]
    },
    {
      "cell_type": "markdown",
      "metadata": {
        "id": "nOgS6gZj_kOg"
      },
      "source": [
        "if dff.iloc[18,0] in ['Ene']:\n",
        "    ecu = dff.iloc[18:30,[0,-3,-2,-1]].reset_index(drop=True)\n",
        "else:\n",
        "    ecu = dff.iloc[19:31,[0,-3,-2,-1]].reset_index(drop=True)\n",
        " \n",
        "ecu['interanualAnterior'] = ecu.iloc[:,-2].astype(float)/ecu.iloc[:,-3].astype(float)*100-100\n",
        "ecu['Ecuador'] = ecu.iloc[:,-2].astype(float)/ecu.iloc[:,-3].astype(float)*100-100\n",
        "\n",
        "listames = [meses[1:][i][1] for i in range(len(meses[1:]))]\n",
        "ecu['mes'] = listames\n",
        "\n",
        "ecu.index = str(ecu.columns[-4]) + '-' + ecu.mes\n",
        "ecu.dropna().tail(1)"
      ]
    },
    {
      "cell_type": "markdown",
      "metadata": {
        "id": "SUl_ygsCnMPA"
      },
      "source": [
        "### **Bolivia**"
      ]
    },
    {
      "cell_type": "markdown",
      "metadata": {
        "id": "IHUnyuy1nVpw"
      },
      "source": [
        "#### Publicaciones disponibles las fechas:\n",
        " \n",
        "2. \n",
        "3. \n",
        "4."
      ]
    },
    {
      "cell_type": "code",
      "metadata": {
        "id": "ZA1eYTsrnc4A"
      },
      "source": [
        "urlbol = 'https://www.ine.gob.bo/index.php/estadisticas-economicas/indice-global-de-actividad-economica-igae/#1584545313102-06cf787f-a790'\n",
        "header= {'User-Agent': 'Mozilla/5.0 (X11; Linux x86_64) ' \n",
        "      'AppleWebKit/537.11 (KHTML, like Gecko) '\n",
        "      'Chrome/23.0.1271.64 Safari/537.11',\n",
        "      'Accept': 'text/html,application/xhtml+xml,application/xml;q=0.9,*/*;q=0.8',\n",
        "      'Accept-Charset': 'ISO-8859-1,utf-8;q=0.7,*;q=0.3',\n",
        "      'Accept-Encoding': 'none',\n",
        "      'Accept-Language': 'en-US,en;q=0.8',\n",
        "      'Connection': 'keep-alive'}\n",
        "req = urllib2.Request(url=urlbol, headers=header) \n",
        "page = urllib2.urlopen(req).read()"
      ],
      "execution_count": 30,
      "outputs": []
    },
    {
      "cell_type": "code",
      "metadata": {
        "colab": {
          "base_uri": "https://localhost:8080/"
        },
        "id": "1aB4zuN8r4Nv",
        "outputId": "204cd6f0-89ee-4939-ed4a-4cb0f03f6d43"
      },
      "source": [
        "soupbol = BeautifulSoup(page,'lxml')\n",
        "links = [a['href'] for a in soupbol.select(\"a[href*=nube.ine.gob.bo/index.php]\")] # extraemos links que contengan nube.ine.gob\n",
        " # ultimos link disponibles\n",
        "links # IGAE por actividad economica es el segundo"
      ],
      "execution_count": 31,
      "outputs": [
        {
          "output_type": "execute_result",
          "data": {
            "text/plain": [
              "['https://nube.ine.gob.bo/index.php/s/lhzNu4ISQEuXS1M/download',\n",
              " 'https://nube.ine.gob.bo/index.php/s/6Szm6RmYSBeRnsD/download',\n",
              " 'https://nube.ine.gob.bo/index.php/s/qNQexpgoZroGCYG/download',\n",
              " 'https://nube.ine.gob.bo/index.php/s/vsfGqiIoEXGddwJ/download',\n",
              " 'https://nube.ine.gob.bo/index.php/s/k0bRzzNhBXb7Ae2/download']"
            ]
          },
          "metadata": {},
          "execution_count": 31
        }
      ]
    },
    {
      "cell_type": "code",
      "metadata": {
        "colab": {
          "base_uri": "https://localhost:8080/",
          "height": 432
        },
        "id": "0n-BsYwlrXNg",
        "outputId": "e36fa15b-3501-4747-e902-a9859a263e47"
      },
      "source": [
        "urllib2.urlretrieve(links[1], \"Bolivia.xlsx\")\n",
        "#https://nube.ine.gob.bo/index.php/s/6Szm6RmYSBeRnsD/download"
      ],
      "execution_count": 32,
      "outputs": [
        {
          "output_type": "error",
          "ename": "URLError",
          "evalue": "ignored",
          "traceback": [
            "\u001b[0;31m---------------------------------------------------------------------------\u001b[0m",
            "\u001b[0;31mTimeoutError\u001b[0m                              Traceback (most recent call last)",
            "\u001b[0;32m/usr/lib/python3.7/urllib/request.py\u001b[0m in \u001b[0;36mdo_open\u001b[0;34m(self, http_class, req, **http_conn_args)\u001b[0m\n\u001b[1;32m   1349\u001b[0m                 h.request(req.get_method(), req.selector, req.data, headers,\n\u001b[0;32m-> 1350\u001b[0;31m                           encode_chunked=req.has_header('Transfer-encoding'))\n\u001b[0m\u001b[1;32m   1351\u001b[0m             \u001b[0;32mexcept\u001b[0m \u001b[0mOSError\u001b[0m \u001b[0;32mas\u001b[0m \u001b[0merr\u001b[0m\u001b[0;34m:\u001b[0m \u001b[0;31m# timeout error\u001b[0m\u001b[0;34m\u001b[0m\u001b[0;34m\u001b[0m\u001b[0m\n",
            "\u001b[0;32m/usr/lib/python3.7/http/client.py\u001b[0m in \u001b[0;36mrequest\u001b[0;34m(self, method, url, body, headers, encode_chunked)\u001b[0m\n\u001b[1;32m   1280\u001b[0m         \u001b[0;34m\"\"\"Send a complete request to the server.\"\"\"\u001b[0m\u001b[0;34m\u001b[0m\u001b[0;34m\u001b[0m\u001b[0m\n\u001b[0;32m-> 1281\u001b[0;31m         \u001b[0mself\u001b[0m\u001b[0;34m.\u001b[0m\u001b[0m_send_request\u001b[0m\u001b[0;34m(\u001b[0m\u001b[0mmethod\u001b[0m\u001b[0;34m,\u001b[0m \u001b[0murl\u001b[0m\u001b[0;34m,\u001b[0m \u001b[0mbody\u001b[0m\u001b[0;34m,\u001b[0m \u001b[0mheaders\u001b[0m\u001b[0;34m,\u001b[0m \u001b[0mencode_chunked\u001b[0m\u001b[0;34m)\u001b[0m\u001b[0;34m\u001b[0m\u001b[0;34m\u001b[0m\u001b[0m\n\u001b[0m\u001b[1;32m   1282\u001b[0m \u001b[0;34m\u001b[0m\u001b[0m\n",
            "\u001b[0;32m/usr/lib/python3.7/http/client.py\u001b[0m in \u001b[0;36m_send_request\u001b[0;34m(self, method, url, body, headers, encode_chunked)\u001b[0m\n\u001b[1;32m   1326\u001b[0m             \u001b[0mbody\u001b[0m \u001b[0;34m=\u001b[0m \u001b[0m_encode\u001b[0m\u001b[0;34m(\u001b[0m\u001b[0mbody\u001b[0m\u001b[0;34m,\u001b[0m \u001b[0;34m'body'\u001b[0m\u001b[0;34m)\u001b[0m\u001b[0;34m\u001b[0m\u001b[0;34m\u001b[0m\u001b[0m\n\u001b[0;32m-> 1327\u001b[0;31m         \u001b[0mself\u001b[0m\u001b[0;34m.\u001b[0m\u001b[0mendheaders\u001b[0m\u001b[0;34m(\u001b[0m\u001b[0mbody\u001b[0m\u001b[0;34m,\u001b[0m \u001b[0mencode_chunked\u001b[0m\u001b[0;34m=\u001b[0m\u001b[0mencode_chunked\u001b[0m\u001b[0;34m)\u001b[0m\u001b[0;34m\u001b[0m\u001b[0;34m\u001b[0m\u001b[0m\n\u001b[0m\u001b[1;32m   1328\u001b[0m \u001b[0;34m\u001b[0m\u001b[0m\n",
            "\u001b[0;32m/usr/lib/python3.7/http/client.py\u001b[0m in \u001b[0;36mendheaders\u001b[0;34m(self, message_body, encode_chunked)\u001b[0m\n\u001b[1;32m   1275\u001b[0m             \u001b[0;32mraise\u001b[0m \u001b[0mCannotSendHeader\u001b[0m\u001b[0;34m(\u001b[0m\u001b[0;34m)\u001b[0m\u001b[0;34m\u001b[0m\u001b[0;34m\u001b[0m\u001b[0m\n\u001b[0;32m-> 1276\u001b[0;31m         \u001b[0mself\u001b[0m\u001b[0;34m.\u001b[0m\u001b[0m_send_output\u001b[0m\u001b[0;34m(\u001b[0m\u001b[0mmessage_body\u001b[0m\u001b[0;34m,\u001b[0m \u001b[0mencode_chunked\u001b[0m\u001b[0;34m=\u001b[0m\u001b[0mencode_chunked\u001b[0m\u001b[0;34m)\u001b[0m\u001b[0;34m\u001b[0m\u001b[0;34m\u001b[0m\u001b[0m\n\u001b[0m\u001b[1;32m   1277\u001b[0m \u001b[0;34m\u001b[0m\u001b[0m\n",
            "\u001b[0;32m/usr/lib/python3.7/http/client.py\u001b[0m in \u001b[0;36m_send_output\u001b[0;34m(self, message_body, encode_chunked)\u001b[0m\n\u001b[1;32m   1035\u001b[0m         \u001b[0;32mdel\u001b[0m \u001b[0mself\u001b[0m\u001b[0;34m.\u001b[0m\u001b[0m_buffer\u001b[0m\u001b[0;34m[\u001b[0m\u001b[0;34m:\u001b[0m\u001b[0;34m]\u001b[0m\u001b[0;34m\u001b[0m\u001b[0;34m\u001b[0m\u001b[0m\n\u001b[0;32m-> 1036\u001b[0;31m         \u001b[0mself\u001b[0m\u001b[0;34m.\u001b[0m\u001b[0msend\u001b[0m\u001b[0;34m(\u001b[0m\u001b[0mmsg\u001b[0m\u001b[0;34m)\u001b[0m\u001b[0;34m\u001b[0m\u001b[0;34m\u001b[0m\u001b[0m\n\u001b[0m\u001b[1;32m   1037\u001b[0m \u001b[0;34m\u001b[0m\u001b[0m\n",
            "\u001b[0;32m/usr/lib/python3.7/http/client.py\u001b[0m in \u001b[0;36msend\u001b[0;34m(self, data)\u001b[0m\n\u001b[1;32m    975\u001b[0m             \u001b[0;32mif\u001b[0m \u001b[0mself\u001b[0m\u001b[0;34m.\u001b[0m\u001b[0mauto_open\u001b[0m\u001b[0;34m:\u001b[0m\u001b[0;34m\u001b[0m\u001b[0;34m\u001b[0m\u001b[0m\n\u001b[0;32m--> 976\u001b[0;31m                 \u001b[0mself\u001b[0m\u001b[0;34m.\u001b[0m\u001b[0mconnect\u001b[0m\u001b[0;34m(\u001b[0m\u001b[0;34m)\u001b[0m\u001b[0;34m\u001b[0m\u001b[0;34m\u001b[0m\u001b[0m\n\u001b[0m\u001b[1;32m    977\u001b[0m             \u001b[0;32melse\u001b[0m\u001b[0;34m:\u001b[0m\u001b[0;34m\u001b[0m\u001b[0;34m\u001b[0m\u001b[0m\n",
            "\u001b[0;32m/usr/lib/python3.7/http/client.py\u001b[0m in \u001b[0;36mconnect\u001b[0;34m(self)\u001b[0m\n\u001b[1;32m   1442\u001b[0m \u001b[0;34m\u001b[0m\u001b[0m\n\u001b[0;32m-> 1443\u001b[0;31m             \u001b[0msuper\u001b[0m\u001b[0;34m(\u001b[0m\u001b[0;34m)\u001b[0m\u001b[0;34m.\u001b[0m\u001b[0mconnect\u001b[0m\u001b[0;34m(\u001b[0m\u001b[0;34m)\u001b[0m\u001b[0;34m\u001b[0m\u001b[0;34m\u001b[0m\u001b[0m\n\u001b[0m\u001b[1;32m   1444\u001b[0m \u001b[0;34m\u001b[0m\u001b[0m\n",
            "\u001b[0;32m/usr/lib/python3.7/http/client.py\u001b[0m in \u001b[0;36mconnect\u001b[0;34m(self)\u001b[0m\n\u001b[1;32m    947\u001b[0m         self.sock = self._create_connection(\n\u001b[0;32m--> 948\u001b[0;31m             (self.host,self.port), self.timeout, self.source_address)\n\u001b[0m\u001b[1;32m    949\u001b[0m         \u001b[0mself\u001b[0m\u001b[0;34m.\u001b[0m\u001b[0msock\u001b[0m\u001b[0;34m.\u001b[0m\u001b[0msetsockopt\u001b[0m\u001b[0;34m(\u001b[0m\u001b[0msocket\u001b[0m\u001b[0;34m.\u001b[0m\u001b[0mIPPROTO_TCP\u001b[0m\u001b[0;34m,\u001b[0m \u001b[0msocket\u001b[0m\u001b[0;34m.\u001b[0m\u001b[0mTCP_NODELAY\u001b[0m\u001b[0;34m,\u001b[0m \u001b[0;36m1\u001b[0m\u001b[0;34m)\u001b[0m\u001b[0;34m\u001b[0m\u001b[0;34m\u001b[0m\u001b[0m\n",
            "\u001b[0;32m/usr/lib/python3.7/socket.py\u001b[0m in \u001b[0;36mcreate_connection\u001b[0;34m(address, timeout, source_address)\u001b[0m\n\u001b[1;32m    727\u001b[0m         \u001b[0;32mtry\u001b[0m\u001b[0;34m:\u001b[0m\u001b[0;34m\u001b[0m\u001b[0;34m\u001b[0m\u001b[0m\n\u001b[0;32m--> 728\u001b[0;31m             \u001b[0;32mraise\u001b[0m \u001b[0merr\u001b[0m\u001b[0;34m\u001b[0m\u001b[0;34m\u001b[0m\u001b[0m\n\u001b[0m\u001b[1;32m    729\u001b[0m         \u001b[0;32mfinally\u001b[0m\u001b[0;34m:\u001b[0m\u001b[0;34m\u001b[0m\u001b[0;34m\u001b[0m\u001b[0m\n",
            "\u001b[0;32m/usr/lib/python3.7/socket.py\u001b[0m in \u001b[0;36mcreate_connection\u001b[0;34m(address, timeout, source_address)\u001b[0m\n\u001b[1;32m    715\u001b[0m                 \u001b[0msock\u001b[0m\u001b[0;34m.\u001b[0m\u001b[0mbind\u001b[0m\u001b[0;34m(\u001b[0m\u001b[0msource_address\u001b[0m\u001b[0;34m)\u001b[0m\u001b[0;34m\u001b[0m\u001b[0;34m\u001b[0m\u001b[0m\n\u001b[0;32m--> 716\u001b[0;31m             \u001b[0msock\u001b[0m\u001b[0;34m.\u001b[0m\u001b[0mconnect\u001b[0m\u001b[0;34m(\u001b[0m\u001b[0msa\u001b[0m\u001b[0;34m)\u001b[0m\u001b[0;34m\u001b[0m\u001b[0;34m\u001b[0m\u001b[0m\n\u001b[0m\u001b[1;32m    717\u001b[0m             \u001b[0;31m# Break explicitly a reference cycle\u001b[0m\u001b[0;34m\u001b[0m\u001b[0;34m\u001b[0m\u001b[0;34m\u001b[0m\u001b[0m\n",
            "\u001b[0;31mTimeoutError\u001b[0m: [Errno 110] Connection timed out",
            "\nDuring handling of the above exception, another exception occurred:\n",
            "\u001b[0;31mURLError\u001b[0m                                  Traceback (most recent call last)",
            "\u001b[0;32m<ipython-input-32-fb65daf0a699>\u001b[0m in \u001b[0;36m<module>\u001b[0;34m()\u001b[0m\n\u001b[0;32m----> 1\u001b[0;31m \u001b[0murllib2\u001b[0m\u001b[0;34m.\u001b[0m\u001b[0murlretrieve\u001b[0m\u001b[0;34m(\u001b[0m\u001b[0mlinks\u001b[0m\u001b[0;34m[\u001b[0m\u001b[0;36m1\u001b[0m\u001b[0;34m]\u001b[0m\u001b[0;34m,\u001b[0m \u001b[0;34m\"Bolivia.xlsx\"\u001b[0m\u001b[0;34m)\u001b[0m\u001b[0;34m\u001b[0m\u001b[0;34m\u001b[0m\u001b[0m\n\u001b[0m\u001b[1;32m      2\u001b[0m \u001b[0;31m#https://nube.ine.gob.bo/index.php/s/6Szm6RmYSBeRnsD/download\u001b[0m\u001b[0;34m\u001b[0m\u001b[0;34m\u001b[0m\u001b[0;34m\u001b[0m\u001b[0m\n",
            "\u001b[0;32m/usr/lib/python3.7/urllib/request.py\u001b[0m in \u001b[0;36murlretrieve\u001b[0;34m(url, filename, reporthook, data)\u001b[0m\n\u001b[1;32m    245\u001b[0m     \u001b[0murl_type\u001b[0m\u001b[0;34m,\u001b[0m \u001b[0mpath\u001b[0m \u001b[0;34m=\u001b[0m \u001b[0msplittype\u001b[0m\u001b[0;34m(\u001b[0m\u001b[0murl\u001b[0m\u001b[0;34m)\u001b[0m\u001b[0;34m\u001b[0m\u001b[0;34m\u001b[0m\u001b[0m\n\u001b[1;32m    246\u001b[0m \u001b[0;34m\u001b[0m\u001b[0m\n\u001b[0;32m--> 247\u001b[0;31m     \u001b[0;32mwith\u001b[0m \u001b[0mcontextlib\u001b[0m\u001b[0;34m.\u001b[0m\u001b[0mclosing\u001b[0m\u001b[0;34m(\u001b[0m\u001b[0murlopen\u001b[0m\u001b[0;34m(\u001b[0m\u001b[0murl\u001b[0m\u001b[0;34m,\u001b[0m \u001b[0mdata\u001b[0m\u001b[0;34m)\u001b[0m\u001b[0;34m)\u001b[0m \u001b[0;32mas\u001b[0m \u001b[0mfp\u001b[0m\u001b[0;34m:\u001b[0m\u001b[0;34m\u001b[0m\u001b[0;34m\u001b[0m\u001b[0m\n\u001b[0m\u001b[1;32m    248\u001b[0m         \u001b[0mheaders\u001b[0m \u001b[0;34m=\u001b[0m \u001b[0mfp\u001b[0m\u001b[0;34m.\u001b[0m\u001b[0minfo\u001b[0m\u001b[0;34m(\u001b[0m\u001b[0;34m)\u001b[0m\u001b[0;34m\u001b[0m\u001b[0;34m\u001b[0m\u001b[0m\n\u001b[1;32m    249\u001b[0m \u001b[0;34m\u001b[0m\u001b[0m\n",
            "\u001b[0;32m/usr/lib/python3.7/urllib/request.py\u001b[0m in \u001b[0;36murlopen\u001b[0;34m(url, data, timeout, cafile, capath, cadefault, context)\u001b[0m\n\u001b[1;32m    220\u001b[0m     \u001b[0;32melse\u001b[0m\u001b[0;34m:\u001b[0m\u001b[0;34m\u001b[0m\u001b[0;34m\u001b[0m\u001b[0m\n\u001b[1;32m    221\u001b[0m         \u001b[0mopener\u001b[0m \u001b[0;34m=\u001b[0m \u001b[0m_opener\u001b[0m\u001b[0;34m\u001b[0m\u001b[0;34m\u001b[0m\u001b[0m\n\u001b[0;32m--> 222\u001b[0;31m     \u001b[0;32mreturn\u001b[0m \u001b[0mopener\u001b[0m\u001b[0;34m.\u001b[0m\u001b[0mopen\u001b[0m\u001b[0;34m(\u001b[0m\u001b[0murl\u001b[0m\u001b[0;34m,\u001b[0m \u001b[0mdata\u001b[0m\u001b[0;34m,\u001b[0m \u001b[0mtimeout\u001b[0m\u001b[0;34m)\u001b[0m\u001b[0;34m\u001b[0m\u001b[0;34m\u001b[0m\u001b[0m\n\u001b[0m\u001b[1;32m    223\u001b[0m \u001b[0;34m\u001b[0m\u001b[0m\n\u001b[1;32m    224\u001b[0m \u001b[0;32mdef\u001b[0m \u001b[0minstall_opener\u001b[0m\u001b[0;34m(\u001b[0m\u001b[0mopener\u001b[0m\u001b[0;34m)\u001b[0m\u001b[0;34m:\u001b[0m\u001b[0;34m\u001b[0m\u001b[0;34m\u001b[0m\u001b[0m\n",
            "\u001b[0;32m/usr/lib/python3.7/urllib/request.py\u001b[0m in \u001b[0;36mopen\u001b[0;34m(self, fullurl, data, timeout)\u001b[0m\n\u001b[1;32m    523\u001b[0m             \u001b[0mreq\u001b[0m \u001b[0;34m=\u001b[0m \u001b[0mmeth\u001b[0m\u001b[0;34m(\u001b[0m\u001b[0mreq\u001b[0m\u001b[0;34m)\u001b[0m\u001b[0;34m\u001b[0m\u001b[0;34m\u001b[0m\u001b[0m\n\u001b[1;32m    524\u001b[0m \u001b[0;34m\u001b[0m\u001b[0m\n\u001b[0;32m--> 525\u001b[0;31m         \u001b[0mresponse\u001b[0m \u001b[0;34m=\u001b[0m \u001b[0mself\u001b[0m\u001b[0;34m.\u001b[0m\u001b[0m_open\u001b[0m\u001b[0;34m(\u001b[0m\u001b[0mreq\u001b[0m\u001b[0;34m,\u001b[0m \u001b[0mdata\u001b[0m\u001b[0;34m)\u001b[0m\u001b[0;34m\u001b[0m\u001b[0;34m\u001b[0m\u001b[0m\n\u001b[0m\u001b[1;32m    526\u001b[0m \u001b[0;34m\u001b[0m\u001b[0m\n\u001b[1;32m    527\u001b[0m         \u001b[0;31m# post-process response\u001b[0m\u001b[0;34m\u001b[0m\u001b[0;34m\u001b[0m\u001b[0;34m\u001b[0m\u001b[0m\n",
            "\u001b[0;32m/usr/lib/python3.7/urllib/request.py\u001b[0m in \u001b[0;36m_open\u001b[0;34m(self, req, data)\u001b[0m\n\u001b[1;32m    541\u001b[0m         \u001b[0mprotocol\u001b[0m \u001b[0;34m=\u001b[0m \u001b[0mreq\u001b[0m\u001b[0;34m.\u001b[0m\u001b[0mtype\u001b[0m\u001b[0;34m\u001b[0m\u001b[0;34m\u001b[0m\u001b[0m\n\u001b[1;32m    542\u001b[0m         result = self._call_chain(self.handle_open, protocol, protocol +\n\u001b[0;32m--> 543\u001b[0;31m                                   '_open', req)\n\u001b[0m\u001b[1;32m    544\u001b[0m         \u001b[0;32mif\u001b[0m \u001b[0mresult\u001b[0m\u001b[0;34m:\u001b[0m\u001b[0;34m\u001b[0m\u001b[0;34m\u001b[0m\u001b[0m\n\u001b[1;32m    545\u001b[0m             \u001b[0;32mreturn\u001b[0m \u001b[0mresult\u001b[0m\u001b[0;34m\u001b[0m\u001b[0;34m\u001b[0m\u001b[0m\n",
            "\u001b[0;32m/usr/lib/python3.7/urllib/request.py\u001b[0m in \u001b[0;36m_call_chain\u001b[0;34m(self, chain, kind, meth_name, *args)\u001b[0m\n\u001b[1;32m    501\u001b[0m         \u001b[0;32mfor\u001b[0m \u001b[0mhandler\u001b[0m \u001b[0;32min\u001b[0m \u001b[0mhandlers\u001b[0m\u001b[0;34m:\u001b[0m\u001b[0;34m\u001b[0m\u001b[0;34m\u001b[0m\u001b[0m\n\u001b[1;32m    502\u001b[0m             \u001b[0mfunc\u001b[0m \u001b[0;34m=\u001b[0m \u001b[0mgetattr\u001b[0m\u001b[0;34m(\u001b[0m\u001b[0mhandler\u001b[0m\u001b[0;34m,\u001b[0m \u001b[0mmeth_name\u001b[0m\u001b[0;34m)\u001b[0m\u001b[0;34m\u001b[0m\u001b[0;34m\u001b[0m\u001b[0m\n\u001b[0;32m--> 503\u001b[0;31m             \u001b[0mresult\u001b[0m \u001b[0;34m=\u001b[0m \u001b[0mfunc\u001b[0m\u001b[0;34m(\u001b[0m\u001b[0;34m*\u001b[0m\u001b[0margs\u001b[0m\u001b[0;34m)\u001b[0m\u001b[0;34m\u001b[0m\u001b[0;34m\u001b[0m\u001b[0m\n\u001b[0m\u001b[1;32m    504\u001b[0m             \u001b[0;32mif\u001b[0m \u001b[0mresult\u001b[0m \u001b[0;32mis\u001b[0m \u001b[0;32mnot\u001b[0m \u001b[0;32mNone\u001b[0m\u001b[0;34m:\u001b[0m\u001b[0;34m\u001b[0m\u001b[0;34m\u001b[0m\u001b[0m\n\u001b[1;32m    505\u001b[0m                 \u001b[0;32mreturn\u001b[0m \u001b[0mresult\u001b[0m\u001b[0;34m\u001b[0m\u001b[0;34m\u001b[0m\u001b[0m\n",
            "\u001b[0;32m/usr/lib/python3.7/urllib/request.py\u001b[0m in \u001b[0;36mhttps_open\u001b[0;34m(self, req)\u001b[0m\n\u001b[1;32m   1391\u001b[0m         \u001b[0;32mdef\u001b[0m \u001b[0mhttps_open\u001b[0m\u001b[0;34m(\u001b[0m\u001b[0mself\u001b[0m\u001b[0;34m,\u001b[0m \u001b[0mreq\u001b[0m\u001b[0;34m)\u001b[0m\u001b[0;34m:\u001b[0m\u001b[0;34m\u001b[0m\u001b[0;34m\u001b[0m\u001b[0m\n\u001b[1;32m   1392\u001b[0m             return self.do_open(http.client.HTTPSConnection, req,\n\u001b[0;32m-> 1393\u001b[0;31m                 context=self._context, check_hostname=self._check_hostname)\n\u001b[0m\u001b[1;32m   1394\u001b[0m \u001b[0;34m\u001b[0m\u001b[0m\n\u001b[1;32m   1395\u001b[0m         \u001b[0mhttps_request\u001b[0m \u001b[0;34m=\u001b[0m \u001b[0mAbstractHTTPHandler\u001b[0m\u001b[0;34m.\u001b[0m\u001b[0mdo_request_\u001b[0m\u001b[0;34m\u001b[0m\u001b[0;34m\u001b[0m\u001b[0m\n",
            "\u001b[0;32m/usr/lib/python3.7/urllib/request.py\u001b[0m in \u001b[0;36mdo_open\u001b[0;34m(self, http_class, req, **http_conn_args)\u001b[0m\n\u001b[1;32m   1350\u001b[0m                           encode_chunked=req.has_header('Transfer-encoding'))\n\u001b[1;32m   1351\u001b[0m             \u001b[0;32mexcept\u001b[0m \u001b[0mOSError\u001b[0m \u001b[0;32mas\u001b[0m \u001b[0merr\u001b[0m\u001b[0;34m:\u001b[0m \u001b[0;31m# timeout error\u001b[0m\u001b[0;34m\u001b[0m\u001b[0;34m\u001b[0m\u001b[0m\n\u001b[0;32m-> 1352\u001b[0;31m                 \u001b[0;32mraise\u001b[0m \u001b[0mURLError\u001b[0m\u001b[0;34m(\u001b[0m\u001b[0merr\u001b[0m\u001b[0;34m)\u001b[0m\u001b[0;34m\u001b[0m\u001b[0;34m\u001b[0m\u001b[0m\n\u001b[0m\u001b[1;32m   1353\u001b[0m             \u001b[0mr\u001b[0m \u001b[0;34m=\u001b[0m \u001b[0mh\u001b[0m\u001b[0;34m.\u001b[0m\u001b[0mgetresponse\u001b[0m\u001b[0;34m(\u001b[0m\u001b[0;34m)\u001b[0m\u001b[0;34m\u001b[0m\u001b[0;34m\u001b[0m\u001b[0m\n\u001b[1;32m   1354\u001b[0m         \u001b[0;32mexcept\u001b[0m\u001b[0;34m:\u001b[0m\u001b[0;34m\u001b[0m\u001b[0;34m\u001b[0m\u001b[0m\n",
            "\u001b[0;31mURLError\u001b[0m: <urlopen error [Errno 110] Connection timed out>"
          ]
        }
      ]
    },
    {
      "cell_type": "code",
      "metadata": {
        "id": "5RXiNmdfrXf_"
      },
      "source": [
        "df = pd.read_excel('Bolivia.xlsx',header=9)\n",
        "df.head(2)"
      ],
      "execution_count": null,
      "outputs": []
    },
    {
      "cell_type": "code",
      "metadata": {
        "id": "3u_9FltnVAzq"
      },
      "source": [
        "df.set_index(df.iloc[:,0],inplace=True)\n",
        "df = df.iloc[:,1:] # eliminar primera columna y ultimas 3 filas\n",
        "df = df.T.reset_index()"
      ],
      "execution_count": null,
      "outputs": []
    },
    {
      "cell_type": "code",
      "metadata": {
        "id": "mz4BjQln522j"
      },
      "source": [
        "df"
      ],
      "execution_count": null,
      "outputs": []
    },
    {
      "cell_type": "code",
      "metadata": {
        "id": "F4o4M3ypvo3f"
      },
      "source": [
        "# PARA EXTRAER AÑO DE COLUMNA INDEX\n",
        "df['index'] = df['index'].astype(str).str.replace('\\(p\\)','')\n",
        "df['index'] = df['index'].str.replace('^0.[0-9]','nan')      # reemplaza los numeros decimales regex que empiece por 0. y le siga cualquier num\n",
        "df['index'] = df['index'].str.replace('^0$','nan')    # reemplaza toda fila con 0 como unico digito\n",
        "df['index'] = pd.to_numeric(df['index'],errors='coerce').ffill().astype(int)"
      ],
      "execution_count": null,
      "outputs": []
    },
    {
      "cell_type": "code",
      "metadata": {
        "id": "v7sdukvsRs16"
      },
      "source": [
        "df['fecha'] = df['index'].astype(str) +'-'+ df[0].str.lower().map(mes3) # columna fecha\n",
        "df.set_index('fecha',inplace=True)\n",
        "df.rename(columns={df.columns[2]:'Bolivia'},inplace=True)"
      ],
      "execution_count": null,
      "outputs": []
    },
    {
      "cell_type": "code",
      "metadata": {
        "id": "LQ1zRqkIyq-c"
      },
      "source": [
        "imaela = imaela.merge(df['Bolivia'],how='left',left_index=True,right_index=True)"
      ],
      "execution_count": null,
      "outputs": []
    },
    {
      "cell_type": "code",
      "metadata": {
        "id": "6I7hzo5PzbVu"
      },
      "source": [
        "imaela"
      ],
      "execution_count": null,
      "outputs": []
    },
    {
      "cell_type": "markdown",
      "metadata": {
        "id": "RvPeziE4yKSp"
      },
      "source": [
        "## **El Salvador**"
      ]
    },
    {
      "cell_type": "markdown",
      "metadata": {
        "id": "Wh_pe3gzyKn7"
      },
      "source": [
        "#### Publicaciones disponibles las fechas:\n",
        " \n",
        "3. >   30 Nov\n",
        "4. >   23 Dic\n",
        "5. >   31 Ene"
      ]
    },
    {
      "cell_type": "code",
      "metadata": {
        "id": "8alkW5c2hy9Y"
      },
      "source": [
        "from selenium import webdriver\n",
        "pagina = 'https://www.bcr.gob.sv/bcrsite/?cdr=174&lang=es'"
      ],
      "execution_count": 93,
      "outputs": []
    },
    {
      "cell_type": "code",
      "metadata": {
        "id": "NWamVXLxyc0M"
      },
      "source": [
        "##### **Otra forma de selenium**\n",
        "chrome_options = webdriver.ChromeOptions()\n",
        "chrome_options.add_argument('--headless')\n",
        "chrome_options.add_argument('--no-sandbox')\n",
        "chrome_options.add_argument('--disable-dev-shm-usage')\n",
        "wd = webdriver.Chrome('chromedriver',options=chrome_options)\n",
        "wd.get(pagina)"
      ],
      "execution_count": 94,
      "outputs": []
    },
    {
      "cell_type": "code",
      "metadata": {
        "id": "9px3ggN5QDEO"
      },
      "source": [
        " #BC El Salvador\n",
        "#wd.get(pagina)\n",
        "\n",
        "# Clicks pertinentes para llegar a la tabla con indices imae SV\n",
        "wd.find_element(By.CLASS_NAME,'linkBtnNaranja').click() # ejecutar consulta"
      ],
      "execution_count": 95,
      "outputs": []
    },
    {
      "cell_type": "code",
      "metadata": {
        "id": "5gGn-qhWeWkA"
      },
      "source": [
        "# PARA EXTRAER LOS VALORES DE LOS INDICES\n",
        "\n",
        "tr = wd.find_element(By.ID,'tbl_setValores')\n",
        "data = tr.find_element(By.TAG_NAME,'tr')\n",
        "indices_salvador = pd.to_numeric(data.text.split(' ')) \n",
        "\n",
        "\n",
        "# PARA EXTRAER LAS FECHAS PARA EL MERGE\n",
        "soupsv = BeautifulSoup(wd.page_source,'html.parser')\n",
        "soupsv\n",
        "anios_sv = soupsv.find_all('td', style='text-align:center')\n",
        "mes_sv = soupsv.find_all('center')\n",
        "\n",
        "fecha1 = [anios_sv[i].text for i in range(len(anios_sv))] # lista con años \n",
        "fecha2 = [mes_sv[i].text.replace(' ','')[:3] for i in range(1,len(mes_sv))] # lista con meses en formato mmm\n",
        "\n",
        "fecha=[]\n",
        "for i in fecha1:\n",
        "  for j in range(1,13):\n",
        "    fecha.append(i + \"-\" + meses_dict[j])"
      ],
      "execution_count": 96,
      "outputs": []
    },
    {
      "cell_type": "code",
      "metadata": {
        "colab": {
          "base_uri": "https://localhost:8080/",
          "height": 0
        },
        "id": "rSf17gXWVPDm",
        "outputId": "d0050ebe-47c7-41bd-c7e0-898d25128f9f"
      },
      "source": [
        "# CREAR DF\n",
        "elsv = pd.DataFrame(index = fecha,columns=['sv'])\n",
        "for i in range(len(indices_salvador)):\n",
        "  elsv.sv[i] = indices_salvador[i]\n",
        "\n",
        "imaela['El Salvador'] = elsv.loc[imaela.index] # reemplazar valor en la tabla imaela\n",
        "\n",
        "elsv.loc[imaela.index][-3:]"
      ],
      "execution_count": 97,
      "outputs": [
        {
          "output_type": "execute_result",
          "data": {
            "text/html": [
              "<div>\n",
              "<style scoped>\n",
              "    .dataframe tbody tr th:only-of-type {\n",
              "        vertical-align: middle;\n",
              "    }\n",
              "\n",
              "    .dataframe tbody tr th {\n",
              "        vertical-align: top;\n",
              "    }\n",
              "\n",
              "    .dataframe thead th {\n",
              "        text-align: right;\n",
              "    }\n",
              "</style>\n",
              "<table border=\"1\" class=\"dataframe\">\n",
              "  <thead>\n",
              "    <tr style=\"text-align: right;\">\n",
              "      <th></th>\n",
              "      <th>sv</th>\n",
              "    </tr>\n",
              "  </thead>\n",
              "  <tbody>\n",
              "    <tr>\n",
              "      <th>2021-Mayo</th>\n",
              "      <td>114.56</td>\n",
              "    </tr>\n",
              "    <tr>\n",
              "      <th>2021-Octubre</th>\n",
              "      <td>NaN</td>\n",
              "    </tr>\n",
              "    <tr>\n",
              "      <th>2021-Septiembre</th>\n",
              "      <td>112.85</td>\n",
              "    </tr>\n",
              "  </tbody>\n",
              "</table>\n",
              "</div>"
            ],
            "text/plain": [
              "                     sv\n",
              "2021-Mayo        114.56\n",
              "2021-Octubre        NaN\n",
              "2021-Septiembre  112.85"
            ]
          },
          "metadata": {},
          "execution_count": 97
        }
      ]
    },
    {
      "cell_type": "markdown",
      "metadata": {
        "id": "MkoUi_tal0ST"
      },
      "source": [
        "### **Paraguay**"
      ]
    },
    {
      "cell_type": "code",
      "metadata": {
        "id": "vVlkRWfZIPOT"
      },
      "source": [
        "url = 'https://www.bcp.gov.py/indicador-mensual-de-actividad-economica-del-paraguay-imaep-i471'\n",
        "urlpy = 'https://www.bcp.gov.py/anexo-estadistico-del-informe-economico-i365'\n",
        "#the URL where you are requesting at\n",
        "req = urllib2.Request(url=urlpy, headers=header) \n",
        "page = urllib2.urlopen(req).read()"
      ],
      "execution_count": 98,
      "outputs": []
    },
    {
      "cell_type": "code",
      "metadata": {
        "id": "OHArZO25IcoC",
        "colab": {
          "base_uri": "https://localhost:8080/"
        },
        "outputId": "28326ed2-286f-4e36-ca6a-dbfc40ab6df8"
      },
      "source": [
        "souppy = BeautifulSoup(page,'lxml')\n",
        "links = [a['href'] for a in souppy.select(\"a[href*=.xlsx]\")] # extraemos links que contengan 2021 \n",
        " # ultimos link disponibles\n",
        "links"
      ],
      "execution_count": 99,
      "outputs": [
        {
          "output_type": "execute_result",
          "data": {
            "text/plain": [
              "['userfiles/files/Anexo_Estad%C3%ADstico%20del%20Informe%20Econ%C3%B3mico_13_12_2021_v1%20.xlsx']"
            ]
          },
          "metadata": {},
          "execution_count": 99
        }
      ]
    },
    {
      "cell_type": "code",
      "metadata": {
        "id": "0E0h9YIBnMNc"
      },
      "source": [
        "url2py = 'https://www.bcp.gov.py/' + links[0]\n",
        "req2 = requests.get(url2py, headers = header)  # nueva forma de descargar excel file de pagina de py"
      ],
      "execution_count": 100,
      "outputs": []
    },
    {
      "cell_type": "code",
      "metadata": {
        "id": "U1ymdV2Nnxqz"
      },
      "source": [
        "import datetime\n",
        "dfpy = pd.read_excel(req2.content,sheet_name='CUADRO 9',header=9).iloc[:-3,1:] # con limpieza iloc CUADRO 9 es IMAEP\n",
        "dfpy.rename(columns={dfpy.columns[1]:\"Paraguay\"},inplace=True)"
      ],
      "execution_count": 101,
      "outputs": []
    },
    {
      "cell_type": "code",
      "metadata": {
        "id": "LljSTskosyzQ"
      },
      "source": [
        "# FECHA COLUMNA\n",
        "dfpy['A'] = pd.DatetimeIndex(dfpy[dfpy.columns[0]]).year\n",
        "dfpy['M'] = pd.DatetimeIndex(dfpy[dfpy.columns[0]]).month.map(meses_dict)\n",
        "dfpy['fecha'] = dfpy.A.astype(str) + \"-\" + dfpy.M.astype(str)\n",
        "dfpy.set_index('fecha',inplace=True)"
      ],
      "execution_count": 102,
      "outputs": []
    },
    {
      "cell_type": "code",
      "metadata": {
        "id": "lNtQ0lHVwFZA"
      },
      "source": [
        "imaela = imaela.merge(dfpy['Paraguay'],how='left',left_index=True,right_index=True)"
      ],
      "execution_count": 103,
      "outputs": []
    },
    {
      "cell_type": "code",
      "metadata": {
        "id": "IrxgZGGjszCe",
        "colab": {
          "base_uri": "https://localhost:8080/",
          "height": 0
        },
        "outputId": "e6b41f96-dece-4d3c-8a77-c7eb617d8740"
      },
      "source": [
        "imaela"
      ],
      "execution_count": 104,
      "outputs": [
        {
          "output_type": "execute_result",
          "data": {
            "text/html": [
              "<div>\n",
              "<style scoped>\n",
              "    .dataframe tbody tr th:only-of-type {\n",
              "        vertical-align: middle;\n",
              "    }\n",
              "\n",
              "    .dataframe tbody tr th {\n",
              "        vertical-align: top;\n",
              "    }\n",
              "\n",
              "    .dataframe thead th {\n",
              "        text-align: right;\n",
              "    }\n",
              "</style>\n",
              "<table border=\"1\" class=\"dataframe\">\n",
              "  <thead>\n",
              "    <tr style=\"text-align: right;\">\n",
              "      <th></th>\n",
              "      <th>Costa Rica</th>\n",
              "      <th>El Salvador</th>\n",
              "      <th>Guatemala</th>\n",
              "      <th>Honduras</th>\n",
              "      <th>Nicaragua</th>\n",
              "      <th>República Dominicana</th>\n",
              "      <th>Panamá</th>\n",
              "      <th>Argentina</th>\n",
              "      <th>Brasil</th>\n",
              "      <th>México</th>\n",
              "      <th>Perú</th>\n",
              "      <th>Chile</th>\n",
              "      <th>Ecuador</th>\n",
              "      <th>Paraguay</th>\n",
              "    </tr>\n",
              "  </thead>\n",
              "  <tbody>\n",
              "    <tr>\n",
              "      <th>2017-Abril</th>\n",
              "      <td>94.83</td>\n",
              "      <td>101.47</td>\n",
              "      <td>114.66</td>\n",
              "      <td>218.03</td>\n",
              "      <td>143.57</td>\n",
              "      <td>161.07</td>\n",
              "      <td>309.60</td>\n",
              "      <td>151.95</td>\n",
              "      <td>133.76</td>\n",
              "      <td>106.20</td>\n",
              "      <td>157.65</td>\n",
              "      <td>105.939</td>\n",
              "      <td>150.921</td>\n",
              "      <td>105.779612</td>\n",
              "    </tr>\n",
              "    <tr>\n",
              "      <th>2017-Agosto</th>\n",
              "      <td>96.64</td>\n",
              "      <td>107.88</td>\n",
              "      <td>113.89</td>\n",
              "      <td>229.08</td>\n",
              "      <td>154.70</td>\n",
              "      <td>162.84</td>\n",
              "      <td>318.19</td>\n",
              "      <td>149.26</td>\n",
              "      <td>140.11</td>\n",
              "      <td>111.77</td>\n",
              "      <td>163.57</td>\n",
              "      <td>106.709</td>\n",
              "      <td>153.826</td>\n",
              "      <td>107.165128</td>\n",
              "    </tr>\n",
              "    <tr>\n",
              "      <th>2017-Diciembre</th>\n",
              "      <td>108.11</td>\n",
              "      <td>117.41</td>\n",
              "      <td>122.69</td>\n",
              "      <td>251.23</td>\n",
              "      <td>178.15</td>\n",
              "      <td>172.38</td>\n",
              "      <td>324.80</td>\n",
              "      <td>146.78</td>\n",
              "      <td>135.78</td>\n",
              "      <td>113.99</td>\n",
              "      <td>179.21</td>\n",
              "      <td>117.763</td>\n",
              "      <td>173.978</td>\n",
              "      <td>126.173820</td>\n",
              "    </tr>\n",
              "    <tr>\n",
              "      <th>2017-Enero</th>\n",
              "      <td>96.71</td>\n",
              "      <td>101.46</td>\n",
              "      <td>115.40</td>\n",
              "      <td>219.37</td>\n",
              "      <td>158.81</td>\n",
              "      <td>150.29</td>\n",
              "      <td>305.84</td>\n",
              "      <td>136.63</td>\n",
              "      <td>128.56</td>\n",
              "      <td>108.42</td>\n",
              "      <td>151.07</td>\n",
              "      <td>102.675</td>\n",
              "      <td>162.432</td>\n",
              "      <td>106.924102</td>\n",
              "    </tr>\n",
              "    <tr>\n",
              "      <th>2017-Febrero</th>\n",
              "      <td>96.95</td>\n",
              "      <td>99.03</td>\n",
              "      <td>114.27</td>\n",
              "      <td>221.50</td>\n",
              "      <td>149.42</td>\n",
              "      <td>154.05</td>\n",
              "      <td>307.27</td>\n",
              "      <td>132.16</td>\n",
              "      <td>129.55</td>\n",
              "      <td>105.28</td>\n",
              "      <td>148.06</td>\n",
              "      <td>97.8526</td>\n",
              "      <td>141.786</td>\n",
              "      <td>109.528651</td>\n",
              "    </tr>\n",
              "    <tr>\n",
              "      <th>2017-Julio</th>\n",
              "      <td>96.27</td>\n",
              "      <td>105.54</td>\n",
              "      <td>113.75</td>\n",
              "      <td>216.75</td>\n",
              "      <td>161.70</td>\n",
              "      <td>157.66</td>\n",
              "      <td>304.97</td>\n",
              "      <td>150.31</td>\n",
              "      <td>138.36</td>\n",
              "      <td>108.96</td>\n",
              "      <td>163.43</td>\n",
              "      <td>101.973</td>\n",
              "      <td>157.516</td>\n",
              "      <td>105.272717</td>\n",
              "    </tr>\n",
              "    <tr>\n",
              "      <th>2017-Junio</th>\n",
              "      <td>99.90</td>\n",
              "      <td>113.67</td>\n",
              "      <td>111.56</td>\n",
              "      <td>225.90</td>\n",
              "      <td>149.29</td>\n",
              "      <td>156.38</td>\n",
              "      <td>324.68</td>\n",
              "      <td>161.04</td>\n",
              "      <td>134.92</td>\n",
              "      <td>112.80</td>\n",
              "      <td>163.26</td>\n",
              "      <td>105.675</td>\n",
              "      <td>153.307</td>\n",
              "      <td>105.009130</td>\n",
              "    </tr>\n",
              "    <tr>\n",
              "      <th>2017-Marzo</th>\n",
              "      <td>100.86</td>\n",
              "      <td>108.51</td>\n",
              "      <td>118.04</td>\n",
              "      <td>233.93</td>\n",
              "      <td>153.72</td>\n",
              "      <td>163.25</td>\n",
              "      <td>344.01</td>\n",
              "      <td>152.62</td>\n",
              "      <td>141.94</td>\n",
              "      <td>111.91</td>\n",
              "      <td>156.15</td>\n",
              "      <td>111.077</td>\n",
              "      <td>157.139</td>\n",
              "      <td>119.931815</td>\n",
              "    </tr>\n",
              "    <tr>\n",
              "      <th>2017-Mayo</th>\n",
              "      <td>99.06</td>\n",
              "      <td>110.9</td>\n",
              "      <td>113.72</td>\n",
              "      <td>225.53</td>\n",
              "      <td>158.99</td>\n",
              "      <td>163.15</td>\n",
              "      <td>316.06</td>\n",
              "      <td>168.39</td>\n",
              "      <td>135.95</td>\n",
              "      <td>112.30</td>\n",
              "      <td>164.32</td>\n",
              "      <td>108.646</td>\n",
              "      <td>157.813</td>\n",
              "      <td>108.540354</td>\n",
              "    </tr>\n",
              "    <tr>\n",
              "      <th>2017-Noviembre</th>\n",
              "      <td>107.71</td>\n",
              "      <td>110.29</td>\n",
              "      <td>117.05</td>\n",
              "      <td>235.80</td>\n",
              "      <td>167.01</td>\n",
              "      <td>166.49</td>\n",
              "      <td>322.13</td>\n",
              "      <td>151.93</td>\n",
              "      <td>135.11</td>\n",
              "      <td>116.18</td>\n",
              "      <td>162.70</td>\n",
              "      <td>114.914</td>\n",
              "      <td>158.009</td>\n",
              "      <td>115.849140</td>\n",
              "    </tr>\n",
              "    <tr>\n",
              "      <th>2017-Octubre</th>\n",
              "      <td>103.97</td>\n",
              "      <td>103.21</td>\n",
              "      <td>113.72</td>\n",
              "      <td>232.75</td>\n",
              "      <td>156.53</td>\n",
              "      <td>163.17</td>\n",
              "      <td>335.94</td>\n",
              "      <td>149.39</td>\n",
              "      <td>136.01</td>\n",
              "      <td>112.85</td>\n",
              "      <td>165.57</td>\n",
              "      <td>109.526</td>\n",
              "      <td>154.707</td>\n",
              "      <td>114.776307</td>\n",
              "    </tr>\n",
              "    <tr>\n",
              "      <th>2017-Septiembre</th>\n",
              "      <td>98.99</td>\n",
              "      <td>106.18</td>\n",
              "      <td>112.05</td>\n",
              "      <td>226.26</td>\n",
              "      <td>147.65</td>\n",
              "      <td>152.26</td>\n",
              "      <td>310.13</td>\n",
              "      <td>146.39</td>\n",
              "      <td>134.79</td>\n",
              "      <td>106.32</td>\n",
              "      <td>164.92</td>\n",
              "      <td>103.014</td>\n",
              "      <td>154.52</td>\n",
              "      <td>108.662088</td>\n",
              "    </tr>\n",
              "    <tr>\n",
              "      <th>2018-Abril</th>\n",
              "      <td>99.60</td>\n",
              "      <td>107.97</td>\n",
              "      <td>119.58</td>\n",
              "      <td>227.12</td>\n",
              "      <td>149.48</td>\n",
              "      <td>172.92</td>\n",
              "      <td>323.97</td>\n",
              "      <td>151.52</td>\n",
              "      <td>139.08</td>\n",
              "      <td>111.59</td>\n",
              "      <td>170.15</td>\n",
              "      <td>112.676</td>\n",
              "      <td>159.509</td>\n",
              "      <td>119.487514</td>\n",
              "    </tr>\n",
              "    <tr>\n",
              "      <th>2018-Agosto</th>\n",
              "      <td>101.12</td>\n",
              "      <td>111.88</td>\n",
              "      <td>117.70</td>\n",
              "      <td>238.66</td>\n",
              "      <td>149.47</td>\n",
              "      <td>173.66</td>\n",
              "      <td>328.91</td>\n",
              "      <td>146.77</td>\n",
              "      <td>143.39</td>\n",
              "      <td>114.33</td>\n",
              "      <td>167.45</td>\n",
              "      <td>109.269</td>\n",
              "      <td>165.227</td>\n",
              "      <td>109.168817</td>\n",
              "    </tr>\n",
              "    <tr>\n",
              "      <th>2018-Diciembre</th>\n",
              "      <td>107.95</td>\n",
              "      <td>120.2</td>\n",
              "      <td>125.53</td>\n",
              "      <td>262.48</td>\n",
              "      <td>166.28</td>\n",
              "      <td>181.87</td>\n",
              "      <td>337.16</td>\n",
              "      <td>136.25</td>\n",
              "      <td>136.29</td>\n",
              "      <td>113.12</td>\n",
              "      <td>187.69</td>\n",
              "      <td>121.216</td>\n",
              "      <td>182.962</td>\n",
              "      <td>126.061413</td>\n",
              "    </tr>\n",
              "    <tr>\n",
              "      <th>2018-Enero</th>\n",
              "      <td>99.21</td>\n",
              "      <td>105.05</td>\n",
              "      <td>117.63</td>\n",
              "      <td>228.97</td>\n",
              "      <td>164.02</td>\n",
              "      <td>161.43</td>\n",
              "      <td>319.90</td>\n",
              "      <td>142.74</td>\n",
              "      <td>132.09</td>\n",
              "      <td>111.01</td>\n",
              "      <td>155.33</td>\n",
              "      <td>106.85</td>\n",
              "      <td>161.613</td>\n",
              "      <td>114.138104</td>\n",
              "    </tr>\n",
              "    <tr>\n",
              "      <th>2018-Febrero</th>\n",
              "      <td>99.00</td>\n",
              "      <td>102.42</td>\n",
              "      <td>117.43</td>\n",
              "      <td>228.12</td>\n",
              "      <td>153.55</td>\n",
              "      <td>164.49</td>\n",
              "      <td>316.80</td>\n",
              "      <td>138.82</td>\n",
              "      <td>129.93</td>\n",
              "      <td>107.81</td>\n",
              "      <td>151.97</td>\n",
              "      <td>102.471</td>\n",
              "      <td>146.531</td>\n",
              "      <td>117.060188</td>\n",
              "    </tr>\n",
              "    <tr>\n",
              "      <th>2018-Julio</th>\n",
              "      <td>101.47</td>\n",
              "      <td>108.77</td>\n",
              "      <td>118.10</td>\n",
              "      <td>225.04</td>\n",
              "      <td>153.75</td>\n",
              "      <td>170.12</td>\n",
              "      <td>311.02</td>\n",
              "      <td>145.96</td>\n",
              "      <td>141.02</td>\n",
              "      <td>112.80</td>\n",
              "      <td>167.63</td>\n",
              "      <td>105.139</td>\n",
              "      <td>161.364</td>\n",
              "      <td>110.058103</td>\n",
              "    </tr>\n",
              "    <tr>\n",
              "      <th>2018-Junio</th>\n",
              "      <td>103.46</td>\n",
              "      <td>113.6</td>\n",
              "      <td>116.18</td>\n",
              "      <td>234.03</td>\n",
              "      <td>130.20</td>\n",
              "      <td>168.71</td>\n",
              "      <td>333.86</td>\n",
              "      <td>151.13</td>\n",
              "      <td>136.94</td>\n",
              "      <td>114.44</td>\n",
              "      <td>166.66</td>\n",
              "      <td>110.066</td>\n",
              "      <td>159.989</td>\n",
              "      <td>106.852593</td>\n",
              "    </tr>\n",
              "    <tr>\n",
              "      <th>2018-Marzo</th>\n",
              "      <td>103.54</td>\n",
              "      <td>108.34</td>\n",
              "      <td>121.55</td>\n",
              "      <td>237.11</td>\n",
              "      <td>157.41</td>\n",
              "      <td>173.45</td>\n",
              "      <td>353.87</td>\n",
              "      <td>155.86</td>\n",
              "      <td>141.58</td>\n",
              "      <td>111.19</td>\n",
              "      <td>162.19</td>\n",
              "      <td>116.201</td>\n",
              "      <td>159.896</td>\n",
              "      <td>123.779771</td>\n",
              "    </tr>\n",
              "    <tr>\n",
              "      <th>2018-Mayo</th>\n",
              "      <td>104.56</td>\n",
              "      <td>112.53</td>\n",
              "      <td>118.84</td>\n",
              "      <td>234.88</td>\n",
              "      <td>150.67</td>\n",
              "      <td>174.07</td>\n",
              "      <td>320.38</td>\n",
              "      <td>159.57</td>\n",
              "      <td>132.29</td>\n",
              "      <td>115.82</td>\n",
              "      <td>175.29</td>\n",
              "      <td>113.28</td>\n",
              "      <td>163.222</td>\n",
              "      <td>115.305203</td>\n",
              "    </tr>\n",
              "    <tr>\n",
              "      <th>2018-Noviembre</th>\n",
              "      <td>108.90</td>\n",
              "      <td>112.22</td>\n",
              "      <td>121.20</td>\n",
              "      <td>245.16</td>\n",
              "      <td>155.93</td>\n",
              "      <td>177.83</td>\n",
              "      <td>333.38</td>\n",
              "      <td>140.59</td>\n",
              "      <td>137.65</td>\n",
              "      <td>117.74</td>\n",
              "      <td>171.00</td>\n",
              "      <td>118.143</td>\n",
              "      <td>162.899</td>\n",
              "      <td>116.308586</td>\n",
              "    </tr>\n",
              "    <tr>\n",
              "      <th>2018-Octubre</th>\n",
              "      <td>106.13</td>\n",
              "      <td>105.81</td>\n",
              "      <td>117.84</td>\n",
              "      <td>244.93</td>\n",
              "      <td>144.52</td>\n",
              "      <td>173.95</td>\n",
              "      <td>345.88</td>\n",
              "      <td>142.84</td>\n",
              "      <td>139.83</td>\n",
              "      <td>115.97</td>\n",
              "      <td>172.33</td>\n",
              "      <td>113.444</td>\n",
              "      <td>170.739</td>\n",
              "      <td>116.874488</td>\n",
              "    </tr>\n",
              "    <tr>\n",
              "      <th>2018-Septiembre</th>\n",
              "      <td>101.69</td>\n",
              "      <td>107.5</td>\n",
              "      <td>115.10</td>\n",
              "      <td>232.55</td>\n",
              "      <td>141.12</td>\n",
              "      <td>164.76</td>\n",
              "      <td>321.99</td>\n",
              "      <td>137.75</td>\n",
              "      <td>135.75</td>\n",
              "      <td>108.77</td>\n",
              "      <td>168.96</td>\n",
              "      <td>104.761</td>\n",
              "      <td>155.597</td>\n",
              "      <td>107.205366</td>\n",
              "    </tr>\n",
              "    <tr>\n",
              "      <th>2019-Abril</th>\n",
              "      <td>100.04</td>\n",
              "      <td>109.87</td>\n",
              "      <td>123.92</td>\n",
              "      <td>234.80</td>\n",
              "      <td>137.53</td>\n",
              "      <td>178.58</td>\n",
              "      <td>331.69</td>\n",
              "      <td>149.90</td>\n",
              "      <td>139.58</td>\n",
              "      <td>109.86</td>\n",
              "      <td>170.36</td>\n",
              "      <td>114.269</td>\n",
              "      <td>155.292</td>\n",
              "      <td>113.096828</td>\n",
              "    </tr>\n",
              "    <tr>\n",
              "      <th>2019-Agosto</th>\n",
              "      <td>101.63</td>\n",
              "      <td>113.64</td>\n",
              "      <td>121.56</td>\n",
              "      <td>244.65</td>\n",
              "      <td>143.38</td>\n",
              "      <td>182.19</td>\n",
              "      <td>343.03</td>\n",
              "      <td>141.28</td>\n",
              "      <td>141.84</td>\n",
              "      <td>113.26</td>\n",
              "      <td>173.60</td>\n",
              "      <td>113.431</td>\n",
              "      <td>164.993</td>\n",
              "      <td>110.677692</td>\n",
              "    </tr>\n",
              "    <tr>\n",
              "      <th>2019-Diciembre</th>\n",
              "      <td>111.39</td>\n",
              "      <td>123.83</td>\n",
              "      <td>130.44</td>\n",
              "      <td>273.80</td>\n",
              "      <td>167.40</td>\n",
              "      <td>193.98</td>\n",
              "      <td>348.27</td>\n",
              "      <td>135.67</td>\n",
              "      <td>137.46</td>\n",
              "      <td>113.33</td>\n",
              "      <td>189.36</td>\n",
              "      <td>122.951</td>\n",
              "      <td>172.446</td>\n",
              "      <td>131.489783</td>\n",
              "    </tr>\n",
              "    <tr>\n",
              "      <th>2019-Enero</th>\n",
              "      <td>101.53</td>\n",
              "      <td>108.11</td>\n",
              "      <td>121.90</td>\n",
              "      <td>235.30</td>\n",
              "      <td>152.84</td>\n",
              "      <td>171.01</td>\n",
              "      <td>331.79</td>\n",
              "      <td>134.52</td>\n",
              "      <td>133.47</td>\n",
              "      <td>112.54</td>\n",
              "      <td>158.08</td>\n",
              "      <td>108.578</td>\n",
              "      <td>161.595</td>\n",
              "      <td>113.291830</td>\n",
              "    </tr>\n",
              "    <tr>\n",
              "      <th>2019-Febrero</th>\n",
              "      <td>102.03</td>\n",
              "      <td>105.81</td>\n",
              "      <td>122.35</td>\n",
              "      <td>235.08</td>\n",
              "      <td>138.71</td>\n",
              "      <td>174.10</td>\n",
              "      <td>327.54</td>\n",
              "      <td>132.28</td>\n",
              "      <td>133.80</td>\n",
              "      <td>108.87</td>\n",
              "      <td>155.42</td>\n",
              "      <td>102.987</td>\n",
              "      <td>153.172</td>\n",
              "      <td>113.704594</td>\n",
              "    </tr>\n",
              "    <tr>\n",
              "      <th>2019-Julio</th>\n",
              "      <td>102.64</td>\n",
              "      <td>111.58</td>\n",
              "      <td>122.47</td>\n",
              "      <td>238.02</td>\n",
              "      <td>149.77</td>\n",
              "      <td>178.03</td>\n",
              "      <td>326.89</td>\n",
              "      <td>146.77</td>\n",
              "      <td>143.04</td>\n",
              "      <td>113.40</td>\n",
              "      <td>174.07</td>\n",
              "      <td>108.282</td>\n",
              "      <td>161.538</td>\n",
              "      <td>111.117146</td>\n",
              "    </tr>\n",
              "    <tr>\n",
              "      <th>2019-Junio</th>\n",
              "      <td>103.71</td>\n",
              "      <td>115.27</td>\n",
              "      <td>120.08</td>\n",
              "      <td>235.46</td>\n",
              "      <td>133.77</td>\n",
              "      <td>173.13</td>\n",
              "      <td>342.07</td>\n",
              "      <td>150.85</td>\n",
              "      <td>134.99</td>\n",
              "      <td>112.87</td>\n",
              "      <td>171.41</td>\n",
              "      <td>111.232</td>\n",
              "      <td>156.816</td>\n",
              "      <td>105.228983</td>\n",
              "    </tr>\n",
              "    <tr>\n",
              "      <th>2019-Marzo</th>\n",
              "      <td>105.93</td>\n",
              "      <td>113.13</td>\n",
              "      <td>125.80</td>\n",
              "      <td>246.40</td>\n",
              "      <td>140.60</td>\n",
              "      <td>182.88</td>\n",
              "      <td>361.48</td>\n",
              "      <td>144.87</td>\n",
              "      <td>138.96</td>\n",
              "      <td>112.34</td>\n",
              "      <td>167.79</td>\n",
              "      <td>117.585</td>\n",
              "      <td>158.183</td>\n",
              "      <td>117.858729</td>\n",
              "    </tr>\n",
              "    <tr>\n",
              "      <th>2019-Mayo</th>\n",
              "      <td>103.94</td>\n",
              "      <td>115.03</td>\n",
              "      <td>123.78</td>\n",
              "      <td>241.51</td>\n",
              "      <td>143.00</td>\n",
              "      <td>183.31</td>\n",
              "      <td>329.04</td>\n",
              "      <td>164.15</td>\n",
              "      <td>139.31</td>\n",
              "      <td>115.28</td>\n",
              "      <td>176.74</td>\n",
              "      <td>115.478</td>\n",
              "      <td>161.097</td>\n",
              "      <td>112.317368</td>\n",
              "    </tr>\n",
              "    <tr>\n",
              "      <th>2019-Noviembre</th>\n",
              "      <td>112.06</td>\n",
              "      <td>117.2</td>\n",
              "      <td>126.79</td>\n",
              "      <td>250.26</td>\n",
              "      <td>157.61</td>\n",
              "      <td>187.59</td>\n",
              "      <td>346.63</td>\n",
              "      <td>137.66</td>\n",
              "      <td>138.86</td>\n",
              "      <td>116.24</td>\n",
              "      <td>174.67</td>\n",
              "      <td>113.486</td>\n",
              "      <td>160.471</td>\n",
              "      <td>118.937014</td>\n",
              "    </tr>\n",
              "    <tr>\n",
              "      <th>2019-Octubre</th>\n",
              "      <td>109.33</td>\n",
              "      <td>109.15</td>\n",
              "      <td>122.39</td>\n",
              "      <td>252.72</td>\n",
              "      <td>147.17</td>\n",
              "      <td>183.05</td>\n",
              "      <td>359.84</td>\n",
              "      <td>141.51</td>\n",
              "      <td>142.87</td>\n",
              "      <td>115.36</td>\n",
              "      <td>176.84</td>\n",
              "      <td>109.48</td>\n",
              "      <td>155.861</td>\n",
              "      <td>123.133512</td>\n",
              "    </tr>\n",
              "    <tr>\n",
              "      <th>2019-Septiembre</th>\n",
              "      <td>103.86</td>\n",
              "      <td>112.01</td>\n",
              "      <td>120.36</td>\n",
              "      <td>239.69</td>\n",
              "      <td>137.80</td>\n",
              "      <td>173.34</td>\n",
              "      <td>340.12</td>\n",
              "      <td>134.89</td>\n",
              "      <td>138.25</td>\n",
              "      <td>108.86</td>\n",
              "      <td>173.17</td>\n",
              "      <td>108.32</td>\n",
              "      <td>160.034</td>\n",
              "      <td>114.610031</td>\n",
              "    </tr>\n",
              "    <tr>\n",
              "      <th>2020-Abril</th>\n",
              "      <td>90.88</td>\n",
              "      <td>88.31</td>\n",
              "      <td>112.77</td>\n",
              "      <td>186.13</td>\n",
              "      <td>124.66</td>\n",
              "      <td>125.35</td>\n",
              "      <td>247.19</td>\n",
              "      <td>111.90</td>\n",
              "      <td>118.83</td>\n",
              "      <td>88.18</td>\n",
              "      <td>103.81</td>\n",
              "      <td>98.4788</td>\n",
              "      <td>101.926</td>\n",
              "      <td>97.781980</td>\n",
              "    </tr>\n",
              "    <tr>\n",
              "      <th>2020-Agosto</th>\n",
              "      <td>93.35</td>\n",
              "      <td>102.54</td>\n",
              "      <td>120.25</td>\n",
              "      <td>225.70</td>\n",
              "      <td>138.51</td>\n",
              "      <td>169.07</td>\n",
              "      <td>251.35</td>\n",
              "      <td>125.17</td>\n",
              "      <td>135.53</td>\n",
              "      <td>102.71</td>\n",
              "      <td>157.66</td>\n",
              "      <td>101.066</td>\n",
              "      <td>143.837</td>\n",
              "      <td>108.450742</td>\n",
              "    </tr>\n",
              "    <tr>\n",
              "      <th>2020-Diciembre</th>\n",
              "      <td>110.97</td>\n",
              "      <td>122.31</td>\n",
              "      <td>136.24</td>\n",
              "      <td>257.91</td>\n",
              "      <td>167.23</td>\n",
              "      <td>192.02</td>\n",
              "      <td>316.10</td>\n",
              "      <td>132.42</td>\n",
              "      <td>139.29</td>\n",
              "      <td>110.69</td>\n",
              "      <td>191.16</td>\n",
              "      <td>122.862</td>\n",
              "      <td>171.892</td>\n",
              "      <td>134.068990</td>\n",
              "    </tr>\n",
              "    <tr>\n",
              "      <th>2020-Enero</th>\n",
              "      <td>104.13</td>\n",
              "      <td>110.91</td>\n",
              "      <td>127.40</td>\n",
              "      <td>243.14</td>\n",
              "      <td>152.88</td>\n",
              "      <td>179.04</td>\n",
              "      <td>345.73</td>\n",
              "      <td>132.28</td>\n",
              "      <td>133.86</td>\n",
              "      <td>112.32</td>\n",
              "      <td>162.69</td>\n",
              "      <td>109.984</td>\n",
              "      <td>166.081</td>\n",
              "      <td>118.978597</td>\n",
              "    </tr>\n",
              "    <tr>\n",
              "      <th>2020-Febrero</th>\n",
              "      <td>105.17</td>\n",
              "      <td>109.93</td>\n",
              "      <td>125.54</td>\n",
              "      <td>242.59</td>\n",
              "      <td>144.12</td>\n",
              "      <td>183.24</td>\n",
              "      <td>338.73</td>\n",
              "      <td>129.75</td>\n",
              "      <td>134.66</td>\n",
              "      <td>108.75</td>\n",
              "      <td>161.66</td>\n",
              "      <td>106.315</td>\n",
              "      <td>151.878</td>\n",
              "      <td>122.558164</td>\n",
              "    </tr>\n",
              "    <tr>\n",
              "      <th>2020-Julio</th>\n",
              "      <td>92.91</td>\n",
              "      <td>96.17</td>\n",
              "      <td>117.42</td>\n",
              "      <td>208.83</td>\n",
              "      <td>147.54</td>\n",
              "      <td>162.35</td>\n",
              "      <td>241.95</td>\n",
              "      <td>128.19</td>\n",
              "      <td>135.77</td>\n",
              "      <td>102.17</td>\n",
              "      <td>154.69</td>\n",
              "      <td>96.1001</td>\n",
              "      <td>141.261</td>\n",
              "      <td>111.676119</td>\n",
              "    </tr>\n",
              "    <tr>\n",
              "      <th>2020-Junio</th>\n",
              "      <td>97.03</td>\n",
              "      <td>97.05</td>\n",
              "      <td>111.06</td>\n",
              "      <td>208.19</td>\n",
              "      <td>128.82</td>\n",
              "      <td>160.89</td>\n",
              "      <td>243.01</td>\n",
              "      <td>133.30</td>\n",
              "      <td>126.00</td>\n",
              "      <td>97.86</td>\n",
              "      <td>140.35</td>\n",
              "      <td>96.1215</td>\n",
              "      <td>132.598</td>\n",
              "      <td>107.681770</td>\n",
              "    </tr>\n",
              "    <tr>\n",
              "      <th>2020-Marzo</th>\n",
              "      <td>103.55</td>\n",
              "      <td>105.58</td>\n",
              "      <td>121.36</td>\n",
              "      <td>218.14</td>\n",
              "      <td>140.05</td>\n",
              "      <td>165.67</td>\n",
              "      <td>364.78</td>\n",
              "      <td>129.10</td>\n",
              "      <td>136.46</td>\n",
              "      <td>109.90</td>\n",
              "      <td>138.05</td>\n",
              "      <td>113.427</td>\n",
              "      <td>142.951</td>\n",
              "      <td>119.014428</td>\n",
              "    </tr>\n",
              "    <tr>\n",
              "      <th>2020-Mayo</th>\n",
              "      <td>93.09</td>\n",
              "      <td>89.77</td>\n",
              "      <td>111.25</td>\n",
              "      <td>188.45</td>\n",
              "      <td>133.85</td>\n",
              "      <td>158.43</td>\n",
              "      <td>228.30</td>\n",
              "      <td>131.29</td>\n",
              "      <td>119.67</td>\n",
              "      <td>88.93</td>\n",
              "      <td>119.30</td>\n",
              "      <td>97.793</td>\n",
              "      <td>117.005</td>\n",
              "      <td>104.977220</td>\n",
              "    </tr>\n",
              "    <tr>\n",
              "      <th>2020-Noviembre</th>\n",
              "      <td>105.13</td>\n",
              "      <td>111.91</td>\n",
              "      <td>128.86</td>\n",
              "      <td>218.99</td>\n",
              "      <td>148.79</td>\n",
              "      <td>181.13</td>\n",
              "      <td>300.21</td>\n",
              "      <td>132.97</td>\n",
              "      <td>138.11</td>\n",
              "      <td>110.91</td>\n",
              "      <td>171.03</td>\n",
              "      <td>114.596</td>\n",
              "      <td>152.31</td>\n",
              "      <td>120.075051</td>\n",
              "    </tr>\n",
              "    <tr>\n",
              "      <th>2020-Octubre</th>\n",
              "      <td>102.09</td>\n",
              "      <td>106.56</td>\n",
              "      <td>125.72</td>\n",
              "      <td>249.68</td>\n",
              "      <td>148.50</td>\n",
              "      <td>175.09</td>\n",
              "      <td>312.12</td>\n",
              "      <td>131.73</td>\n",
              "      <td>139.85</td>\n",
              "      <td>109.12</td>\n",
              "      <td>171.17</td>\n",
              "      <td>108.477</td>\n",
              "      <td>156.349</td>\n",
              "      <td>123.210310</td>\n",
              "    </tr>\n",
              "    <tr>\n",
              "      <th>2020-Septiembre</th>\n",
              "      <td>97.99</td>\n",
              "      <td>106.35</td>\n",
              "      <td>121.45</td>\n",
              "      <td>230.41</td>\n",
              "      <td>140.01</td>\n",
              "      <td>163.68</td>\n",
              "      <td>268.97</td>\n",
              "      <td>126.60</td>\n",
              "      <td>137.11</td>\n",
              "      <td>103.22</td>\n",
              "      <td>162.60</td>\n",
              "      <td>103.167</td>\n",
              "      <td>152.052</td>\n",
              "      <td>112.660274</td>\n",
              "    </tr>\n",
              "    <tr>\n",
              "      <th>2021-Abril</th>\n",
              "      <td>102.45</td>\n",
              "      <td>110.85</td>\n",
              "      <td>129.97</td>\n",
              "      <td>234.59</td>\n",
              "      <td>144.24</td>\n",
              "      <td>184.45</td>\n",
              "      <td>313.41</td>\n",
              "      <td>144.97</td>\n",
              "      <td>139.04</td>\n",
              "      <td>107.93</td>\n",
              "      <td>165.51</td>\n",
              "      <td>112.958</td>\n",
              "      <td>159.056</td>\n",
              "      <td>117.278761</td>\n",
              "    </tr>\n",
              "    <tr>\n",
              "      <th>2021-Agosto</th>\n",
              "      <td>105.56</td>\n",
              "      <td>112.04</td>\n",
              "      <td>130.12</td>\n",
              "      <td>256.38</td>\n",
              "      <td>151.80</td>\n",
              "      <td>188.78</td>\n",
              "      <td>322.86</td>\n",
              "      <td>141.20</td>\n",
              "      <td>141.03</td>\n",
              "      <td>107.14</td>\n",
              "      <td>176.29</td>\n",
              "      <td>120.219</td>\n",
              "      <td>168.508</td>\n",
              "      <td>113.325074</td>\n",
              "    </tr>\n",
              "    <tr>\n",
              "      <th>2021-Enero</th>\n",
              "      <td>97.54</td>\n",
              "      <td>109.03</td>\n",
              "      <td>129.22</td>\n",
              "      <td>230.06</td>\n",
              "      <td>154.73</td>\n",
              "      <td>175.85</td>\n",
              "      <td>297.55</td>\n",
              "      <td>129.49</td>\n",
              "      <td>132.04</td>\n",
              "      <td>105.38</td>\n",
              "      <td>161.46</td>\n",
              "      <td>106.849</td>\n",
              "      <td>151.916</td>\n",
              "      <td>112.106721</td>\n",
              "    </tr>\n",
              "    <tr>\n",
              "      <th>2021-Febrero</th>\n",
              "      <td>99.94</td>\n",
              "      <td>108.59</td>\n",
              "      <td>128.60</td>\n",
              "      <td>236.15</td>\n",
              "      <td>147.44</td>\n",
              "      <td>185.33</td>\n",
              "      <td>310.85</td>\n",
              "      <td>126.69</td>\n",
              "      <td>134.76</td>\n",
              "      <td>102.64</td>\n",
              "      <td>156.11</td>\n",
              "      <td>104.313</td>\n",
              "      <td>144.54</td>\n",
              "      <td>121.896877</td>\n",
              "    </tr>\n",
              "    <tr>\n",
              "      <th>2021-Julio</th>\n",
              "      <td>108.22</td>\n",
              "      <td>109.75</td>\n",
              "      <td>130.95</td>\n",
              "      <td>241.80</td>\n",
              "      <td>160.41</td>\n",
              "      <td>181.92</td>\n",
              "      <td>349.96</td>\n",
              "      <td>143.19</td>\n",
              "      <td>142.70</td>\n",
              "      <td>109.86</td>\n",
              "      <td>174.64</td>\n",
              "      <td>113.443</td>\n",
              "      <td>168.483</td>\n",
              "      <td>115.287381</td>\n",
              "    </tr>\n",
              "    <tr>\n",
              "      <th>2021-Junio</th>\n",
              "      <td>105.86</td>\n",
              "      <td>114.35</td>\n",
              "      <td>126.28</td>\n",
              "      <td>248.26</td>\n",
              "      <td>151.75</td>\n",
              "      <td>181.27</td>\n",
              "      <td>323.23</td>\n",
              "      <td>148.82</td>\n",
              "      <td>137.21</td>\n",
              "      <td>111.11</td>\n",
              "      <td>173.53</td>\n",
              "      <td>115.919</td>\n",
              "      <td>153.752</td>\n",
              "      <td>115.276331</td>\n",
              "    </tr>\n",
              "    <tr>\n",
              "      <th>2021-Marzo</th>\n",
              "      <td>107.64</td>\n",
              "      <td>114.86</td>\n",
              "      <td>133.51</td>\n",
              "      <td>247.84</td>\n",
              "      <td>151.38</td>\n",
              "      <td>183.29</td>\n",
              "      <td>350.15</td>\n",
              "      <td>146.29</td>\n",
              "      <td>143.96</td>\n",
              "      <td>111.47</td>\n",
              "      <td>165.72</td>\n",
              "      <td>120.567</td>\n",
              "      <td>162.381</td>\n",
              "      <td>129.029260</td>\n",
              "    </tr>\n",
              "    <tr>\n",
              "      <th>2021-Mayo</th>\n",
              "      <td>105.50</td>\n",
              "      <td>114.56</td>\n",
              "      <td>129.29</td>\n",
              "      <td>242.40</td>\n",
              "      <td>156.13</td>\n",
              "      <td>192.04</td>\n",
              "      <td>322.65</td>\n",
              "      <td>150.20</td>\n",
              "      <td>136.92</td>\n",
              "      <td>111.96</td>\n",
              "      <td>176.69</td>\n",
              "      <td>116.504</td>\n",
              "      <td>150.912</td>\n",
              "      <td>118.226522</td>\n",
              "    </tr>\n",
              "    <tr>\n",
              "      <th>2021-Octubre</th>\n",
              "      <td>NaN</td>\n",
              "      <td>NaN</td>\n",
              "      <td>NaN</td>\n",
              "      <td>NaN</td>\n",
              "      <td>NaN</td>\n",
              "      <td>192.16</td>\n",
              "      <td>NaN</td>\n",
              "      <td>NaN</td>\n",
              "      <td>137.78</td>\n",
              "      <td>NaN</td>\n",
              "      <td>NaN</td>\n",
              "      <td>124.696</td>\n",
              "      <td>176.086</td>\n",
              "      <td>125.403526</td>\n",
              "    </tr>\n",
              "    <tr>\n",
              "      <th>2021-Septiembre</th>\n",
              "      <td>109.03</td>\n",
              "      <td>112.85</td>\n",
              "      <td>129.06</td>\n",
              "      <td>251.03</td>\n",
              "      <td>147.61</td>\n",
              "      <td>181.03</td>\n",
              "      <td>317.43</td>\n",
              "      <td>141.26</td>\n",
              "      <td>138.05</td>\n",
              "      <td>104.18</td>\n",
              "      <td>178.40</td>\n",
              "      <td>118.388</td>\n",
              "      <td>173.214</td>\n",
              "      <td>119.125943</td>\n",
              "    </tr>\n",
              "  </tbody>\n",
              "</table>\n",
              "</div>"
            ],
            "text/plain": [
              "                 Costa Rica El Salvador  ...  Ecuador    Paraguay\n",
              "2017-Abril            94.83      101.47  ...  150.921  105.779612\n",
              "2017-Agosto           96.64      107.88  ...  153.826  107.165128\n",
              "2017-Diciembre       108.11      117.41  ...  173.978  126.173820\n",
              "2017-Enero            96.71      101.46  ...  162.432  106.924102\n",
              "2017-Febrero          96.95       99.03  ...  141.786  109.528651\n",
              "2017-Julio            96.27      105.54  ...  157.516  105.272717\n",
              "2017-Junio            99.90      113.67  ...  153.307  105.009130\n",
              "2017-Marzo           100.86      108.51  ...  157.139  119.931815\n",
              "2017-Mayo             99.06       110.9  ...  157.813  108.540354\n",
              "2017-Noviembre       107.71      110.29  ...  158.009  115.849140\n",
              "2017-Octubre         103.97      103.21  ...  154.707  114.776307\n",
              "2017-Septiembre       98.99      106.18  ...   154.52  108.662088\n",
              "2018-Abril            99.60      107.97  ...  159.509  119.487514\n",
              "2018-Agosto          101.12      111.88  ...  165.227  109.168817\n",
              "2018-Diciembre       107.95       120.2  ...  182.962  126.061413\n",
              "2018-Enero            99.21      105.05  ...  161.613  114.138104\n",
              "2018-Febrero          99.00      102.42  ...  146.531  117.060188\n",
              "2018-Julio           101.47      108.77  ...  161.364  110.058103\n",
              "2018-Junio           103.46       113.6  ...  159.989  106.852593\n",
              "2018-Marzo           103.54      108.34  ...  159.896  123.779771\n",
              "2018-Mayo            104.56      112.53  ...  163.222  115.305203\n",
              "2018-Noviembre       108.90      112.22  ...  162.899  116.308586\n",
              "2018-Octubre         106.13      105.81  ...  170.739  116.874488\n",
              "2018-Septiembre      101.69       107.5  ...  155.597  107.205366\n",
              "2019-Abril           100.04      109.87  ...  155.292  113.096828\n",
              "2019-Agosto          101.63      113.64  ...  164.993  110.677692\n",
              "2019-Diciembre       111.39      123.83  ...  172.446  131.489783\n",
              "2019-Enero           101.53      108.11  ...  161.595  113.291830\n",
              "2019-Febrero         102.03      105.81  ...  153.172  113.704594\n",
              "2019-Julio           102.64      111.58  ...  161.538  111.117146\n",
              "2019-Junio           103.71      115.27  ...  156.816  105.228983\n",
              "2019-Marzo           105.93      113.13  ...  158.183  117.858729\n",
              "2019-Mayo            103.94      115.03  ...  161.097  112.317368\n",
              "2019-Noviembre       112.06       117.2  ...  160.471  118.937014\n",
              "2019-Octubre         109.33      109.15  ...  155.861  123.133512\n",
              "2019-Septiembre      103.86      112.01  ...  160.034  114.610031\n",
              "2020-Abril            90.88       88.31  ...  101.926   97.781980\n",
              "2020-Agosto           93.35      102.54  ...  143.837  108.450742\n",
              "2020-Diciembre       110.97      122.31  ...  171.892  134.068990\n",
              "2020-Enero           104.13      110.91  ...  166.081  118.978597\n",
              "2020-Febrero         105.17      109.93  ...  151.878  122.558164\n",
              "2020-Julio            92.91       96.17  ...  141.261  111.676119\n",
              "2020-Junio            97.03       97.05  ...  132.598  107.681770\n",
              "2020-Marzo           103.55      105.58  ...  142.951  119.014428\n",
              "2020-Mayo             93.09       89.77  ...  117.005  104.977220\n",
              "2020-Noviembre       105.13      111.91  ...   152.31  120.075051\n",
              "2020-Octubre         102.09      106.56  ...  156.349  123.210310\n",
              "2020-Septiembre       97.99      106.35  ...  152.052  112.660274\n",
              "2021-Abril           102.45      110.85  ...  159.056  117.278761\n",
              "2021-Agosto          105.56      112.04  ...  168.508  113.325074\n",
              "2021-Enero            97.54      109.03  ...  151.916  112.106721\n",
              "2021-Febrero          99.94      108.59  ...   144.54  121.896877\n",
              "2021-Julio           108.22      109.75  ...  168.483  115.287381\n",
              "2021-Junio           105.86      114.35  ...  153.752  115.276331\n",
              "2021-Marzo           107.64      114.86  ...  162.381  129.029260\n",
              "2021-Mayo            105.50      114.56  ...  150.912  118.226522\n",
              "2021-Octubre            NaN         NaN  ...  176.086  125.403526\n",
              "2021-Septiembre      109.03      112.85  ...  173.214  119.125943\n",
              "\n",
              "[58 rows x 14 columns]"
            ]
          },
          "metadata": {},
          "execution_count": 104
        }
      ]
    },
    {
      "cell_type": "markdown",
      "metadata": {
        "id": "CRClNJVemnbZ"
      },
      "source": [
        "\n",
        "url2 = 'https://www.bcp.gov.py/' + links[0] # -(numero mes)\n",
        "opener = urllib2.build_opener()\n",
        "opener.addheaders = [('User-agent', 'Mozilla/5.0')]\n",
        "urllib2.install_opener(opener)\n",
        "urllib2.urlretrieve(url2, \"py.pdf\")\n",
        "\n",
        "\n"
      ]
    },
    {
      "cell_type": "markdown",
      "metadata": {
        "id": "SDFvEycum4Ek"
      },
      "source": [
        "'With pdf file\n",
        "\n",
        "with fitz.open(\"py.pdf\") as doc:\n",
        "    text = \"\"\n",
        "    for page in doc:\n",
        "        text += page.get_text()\n",
        "\n",
        "fechapy = text.split(' |',2)[1] # con el espacio\n",
        "fechapy = fechapy.split(' ')[1] +'-'+fechapy.split(' ')[0]"
      ]
    },
    {
      "cell_type": "markdown",
      "metadata": {
        "id": "yVnR8BwV6iJ3"
      },
      "source": [
        "Debido a que las tasas son iguales en Enero\n",
        "\n",
        "if 'Enero' not in fechapy:\n",
        "  valorpyinteranual = re.findall(r'[0-9]+,[0-9]+',text)[0] # para obtener tasa interanual          el regex sirve para buscar los registros numericos separados por coma\n",
        "  valorpyacum = re.findall(r'[0-9]+,[0-9]+',text)[1] # para obtener tasa acumulada interanual\n",
        "  valorpyinteranual = float(valorpyinteranual.replace(',','.'))\n",
        "  valorpyacum = float(valorpyacum.replace(',','.'))\n",
        "else:\n",
        "   valorpyinteranual = re.findall(r'[0-9]+,[0-9]+',text)[0]\n",
        "   valorpyinteranual = float(valorpyinteranual.replace(',','.'))\n",
        "   valorpyacum = valorpyinteranual\n",
        "\n",
        "print(fechapy)\n",
        "print(valorpyinteranual,' Tasa interanual')\n",
        "print(valorpyacum, ' Tasa acumulada interanual')"
      ]
    },
    {
      "cell_type": "markdown",
      "metadata": {
        "id": "byRPPvf83emR"
      },
      "source": [
        "\n",
        "py = pd.DataFrame({'Fecha':['2021-Enero','2021-Febrero','2021-Marzo','2021-Abril','2021-Mayo','2021-Junio','2021-Julio','2021-Agosto','2021-Septiembre','2021-Octubre','2021-Noviembre','2021-Diciembre'],\n",
        "                   'Paraguay_a':[-5.6,-3.0,0.7,4.7,6.3,6.3,6.0,5.7,0,0,0,0],\n",
        "                   'Paraguay_i':[-5.6,-0.5,8.0,19.3,12.4,6.6,3.0,4.2,0,0,0,0]})\n",
        "py.index = py.Fecha\n",
        "dic = {'Fecha':fechapy,'Paraguay_a':valorpyacum,'Paraguay_i':valorpyinteranual}\n",
        "py.loc[fechapy] = [fechapy,valorpyacum,valorpyinteranual]\n",
        "py"
      ]
    },
    {
      "cell_type": "code",
      "metadata": {
        "id": "NQebYfFSdDiq"
      },
      "source": [
        "imaela['a'] = [imaela.index.str.split('-')[i][0] for i in range(len(imaela.index))]\n",
        "imaela = imaela.apply(pd.to_numeric)"
      ],
      "execution_count": 105,
      "outputs": []
    },
    {
      "cell_type": "code",
      "metadata": {
        "id": "2oc-F4Au1Q0L"
      },
      "source": [
        "# Crecimiento interanual\n",
        "imaela1 = imaela.pct_change(12,fill_method=None)*100\n",
        "imaela1.dropna(how='all',inplace=True) # NAs drop\n",
        "imaela1.drop('a',axis=1,inplace=True)"
      ],
      "execution_count": 106,
      "outputs": []
    },
    {
      "cell_type": "code",
      "metadata": {
        "id": "LwGtvH2Ve9nI"
      },
      "source": [
        "# Crecimiento acumulado interanual\n",
        "imaela2 = imaela.groupby('a').cumsum().pct_change(12,fill_method=None)*100\n",
        "imaela2.dropna(how='all',inplace=True) # NAs drop"
      ],
      "execution_count": 107,
      "outputs": []
    },
    {
      "cell_type": "code",
      "metadata": {
        "id": "WT1VOTCo_u0Z"
      },
      "source": [
        "#!pip install selenium\n",
        "#!apt-get update # to update ubuntu to correctly run apt install\n",
        "#!apt install chromium-chromedriver\n",
        "#!cp /usr/lib/chromium-browser/chromedriver /usr/bin\n",
        "#import sys\n",
        "#sys.path.insert(0,'/usr/lib/chromium-browser/chromedriver')\n",
        "#from selenium import webdriver\n",
        "#chrome_options = webdriver.ChromeOptions()\n",
        "#chrome_options.add_argument('--headless')\n",
        "#chrome_options.add_argument('--no-sandbox')\n",
        "#chrome_options.add_argument('--disable-dev-shm-usage')\n",
        "#wd = webdriver.Chrome('chromedriver',chrome_options=chrome_options)"
      ],
      "execution_count": 108,
      "outputs": []
    },
    {
      "cell_type": "markdown",
      "metadata": {
        "id": "1UD90WE2qzru"
      },
      "source": [
        "### **Colombia**"
      ]
    },
    {
      "cell_type": "markdown",
      "metadata": {
        "id": "wrivlZivMI7U"
      },
      "source": [
        "#### Publicaciones disponibles las fechas: \n",
        "1. 17 sept    -    Julio\n",
        "2. 19 Oct    -     Agosto\n",
        "3. 16 Nov    -     Sep\n",
        "4. 17 Dic    -     Oct"
      ]
    },
    {
      "cell_type": "code",
      "metadata": {
        "id": "PmmhxvXg7dBN"
      },
      "source": [
        "wd.get(url1)"
      ],
      "execution_count": null,
      "outputs": []
    },
    {
      "cell_type": "code",
      "metadata": {
        "id": "V4nid1LMkzgG",
        "colab": {
          "base_uri": "https://localhost:8080/",
          "height": 69
        },
        "outputId": "7afe85c6-1b66-449b-b4d3-2f7dd95ec4bf"
      },
      "source": [
        "wd.page_source"
      ],
      "execution_count": null,
      "outputs": [
        {
          "output_type": "execute_result",
          "data": {
            "application/vnd.google.colaboratory.intrinsic+json": {
              "type": "string"
            },
            "text/plain": [
              "'<html><head><title>403 Forbidden</title></head>\\n<body>\\n<center><h1>403 Forbidden</h1></center>\\n\\n\\n<!-- a padding to disable MSIE and Chrome friendly error page -->\\n<!-- a padding to disable MSIE and Chrome friendly error page -->\\n<!-- a padding to disable MSIE and Chrome friendly error page -->\\n<!-- a padding to disable MSIE and Chrome friendly error page -->\\n<!-- a padding to disable MSIE and Chrome friendly error page -->\\n<!-- a padding to disable MSIE and Chrome friendly error page -->\\n</body></html>'"
            ]
          },
          "metadata": {},
          "execution_count": 132
        }
      ]
    },
    {
      "cell_type": "code",
      "metadata": {
        "id": "xx0a4PNX9-T4"
      },
      "source": [
        "!pip install fake_useragent\n",
        "from fake_useragent import UserAgent\n",
        "ua = UserAgent()\n",
        "print(ua.chrome)\n",
        "print(ua.random)"
      ],
      "execution_count": null,
      "outputs": []
    },
    {
      "cell_type": "code",
      "metadata": {
        "id": "QKed7ixdCClu"
      },
      "source": [
        "url = 'https://www.dane.gov.co/index.php/estadisticas-por-tema/cuentas-nacionales/indicador-de-seguimiento-a-la-economia-ise/historicos-ise-comunicados-y-boletines'\n",
        "url1 = 'https://www.dane.gov.co/index.php/estadisticas-por-tema/cuentas-nacionales/indicador-de-seguimiento-a-la-economia-ise'\n",
        "\n",
        "header_col = {'authority': 'www.dane.gov.co', 'method': 'GET', 'path': '/index.php/estadisticas-por-tema/cuentas-nacionales/indicador-de-seguimiento-a-la-economia-ise',\n",
        "'scheme': 'https', 'accept': 'text/html,application/xhtml+xml,application/xml;q=0.9,image/avif,image/webp,image/apng,*/*;q=0.8,application/signed-exchange;v=b3;q=0.9',\n",
        "'referer':'https://www.dane.gov.co/index.php/estadisticas-por-tema/cuentas-nacionales/indicador-de-seguimiento-a-la-economia-ise',\n",
        "'accept-encoding': 'gzip, deflate, br',\n",
        "'accept-language': 'es-ES,es;q=0.9',\n",
        "'cache-control': 'max-age=0',\n",
        "'cookie': '_ga=GA1.3.1467282597.1625839173; _ga_T3L41X6043=GS1.1.1632235276.4.0.1632235284.0; ec1d9c9ecb5c2f4ef7998e3e52b19fdf=bvqfvrh7p0e0kgp1vf8bg29s68; _gid=GA1.3.2105323501.1637672614',\n",
        "'sec-ch-ua': '\"Google Chrome\";v=\"95\", \"Chromium\";v=\"95\", \";Not A Brand\";v=\"99\"',\n",
        "'sec-ch-ua-mobile': '?0',\n",
        "'sec-ch-ua-platform': \"Windows\",\n",
        "'sec-fetch-dest': 'document',\n",
        "'sec-fetch-mode': 'navigate',\n",
        "'sec-fetch-site': 'none',\n",
        "'sec-fetch-user': '?1',\n",
        "'upgrade-insecure-requests':' 1',\n",
        "'user-agent': str(ua.random)}\n",
        "\n",
        "req = urllib2.Request(url=url1, headers=hd) \n",
        "page = urllib2.urlopen(req).read()\n"
      ],
      "execution_count": null,
      "outputs": []
    },
    {
      "cell_type": "code",
      "metadata": {
        "id": "BNLB2HxECCtl"
      },
      "source": [
        "soupco = BeautifulSoup(page,'lxml')\n",
        "links = [a['href'] for a in soupco.select(\"a[href*=21.xlsx]\")] # extraemos links que contengan 21.xlsx \n",
        " # ultimos link disponibles\n",
        "links"
      ],
      "execution_count": null,
      "outputs": []
    },
    {
      "cell_type": "code",
      "metadata": {
        "id": "wbDtMlN5EnsO"
      },
      "source": [
        "url2 = 'https://www.dane.gov.co' + links[0] # si esta el nuevo mes restarle 1 al indice de links\n",
        "url3 = 'https://www.dane.gov.co/files/investigaciones/boletines/pib/Anex_ISE_9actividades_sep_21.xlsx'\n",
        "#urllib2.urlretrieve(url2, \"colombia.xlsx\")\n",
        "urllib2.urlretrieve(url3, \"colombia.xlsx\",)\n",
        "df = pd.read_excel('colombia.xlsx',sheet_name='Cuadro 1',header=9)[0:16].T\n",
        "df.columns = df.iloc[0]\n",
        "df = df.iloc[:,[0,1,-1]].reset_index(drop=True)[1:]\n",
        "df.tail(1)"
      ],
      "execution_count": null,
      "outputs": []
    },
    {
      "cell_type": "code",
      "metadata": {
        "id": "akDz1zRARQPg"
      },
      "source": [
        "df['ano'] = df.Concepto.ffill().astype(str).str.replace('pr','').str.replace('p','')\n",
        "df['Colombia'] = round(pd.to_numeric(df.loc[:,df.columns[-2]]),2)\n",
        "df.index = df.ano.astype(str) + '-' + df.iloc[:,1].astype(str) "
      ],
      "execution_count": null,
      "outputs": []
    },
    {
      "cell_type": "code",
      "metadata": {
        "id": "mOvRCtr1SP3H"
      },
      "source": [
        "imaela = imaela.merge(df['Colombia'],how='left',left_index=True,right_index=True)"
      ],
      "execution_count": null,
      "outputs": []
    },
    {
      "cell_type": "markdown",
      "metadata": {
        "id": "VKQm4sO8CBgy"
      },
      "source": [
        "##### PDF"
      ]
    },
    {
      "cell_type": "markdown",
      "metadata": {
        "id": "NCAIe-IytrnA"
      },
      "source": [
        "df = np.array(tb.read_pdf('colombia.pdf',pages = '17',stream=True,multiple_tables=True,pandas_options={'header':None}))\n",
        "dco = pd.DataFrame(df.reshape(-1,4))\n",
        "dco = dco.loc[:,0:2]\n",
        "dco.tail(1)"
      ]
    },
    {
      "cell_type": "markdown",
      "metadata": {
        "id": "oIjcg_Hy3mLe"
      },
      "source": [
        "dco[3] = dco[2].str.split(' ',expand=True)[0] # Tomando las tasas de crecimiento de la tabla pdf\n",
        "dco.rename(columns={1:'Colombia'},inplace=True)\n",
        "dco['Colombia1'] = pd.to_numeric(dco[3].str.replace(',','.'),errors='coerce')  #Convirtiendo la data a numero\n",
        "dco['Colombia'] = pd.to_numeric(dco['Colombia'].str.replace(',','.'),errors='coerce')"
      ]
    },
    {
      "cell_type": "markdown",
      "metadata": {
        "id": "1Za65saE00xD"
      },
      "source": [
        "split = dco[0].str.split(' - ')     # extraer mes \n",
        "fech = []\n",
        "for i in range(len(split)):\n",
        "  if type(split[i]) == float:\n",
        "    fech.append('0')\n",
        "  elif len(split[i]) == 1 :\n",
        "    fech.append(str(split[i][0]))\n",
        "  else:\n",
        "    fech.append(str(split[i][1].capitalize()))"
      ]
    },
    {
      "cell_type": "markdown",
      "metadata": {
        "id": "7sx55Q3v7F_L"
      },
      "source": [
        "anof=[]                          # extraer año\n",
        "for i in range(len(split)):\n",
        "  if type(split[i]) == float:\n",
        "    anof.append('0')\n",
        "  elif len(split[i]) > 1 :\n",
        "    anof.append(str(split[i][0]))\n",
        "  else:\n",
        "    anof.append(np.nan)"
      ]
    },
    {
      "cell_type": "markdown",
      "metadata": {
        "id": "E0FtIhm29EdE"
      },
      "source": [
        "dco['mes'] = fech\n",
        "dco['ano'] = anof\n",
        "dco['ano'] = dco.ano.replace(['p','r',' '],['','',''],regex=True).ffill()\n",
        "dco.index = dco['ano'] + '-' + dco['mes'] # creamos indice"
      ]
    },
    {
      "cell_type": "markdown",
      "metadata": {
        "id": "851yN-m_mxAi"
      },
      "source": [
        "## imae\n"
      ]
    },
    {
      "cell_type": "code",
      "metadata": {
        "id": "tCeHYsHPRaAP"
      },
      "source": [
        "# imaela.drop('a',axis=1,inplace=True)\n",
        "imaela.drop('a',axis=1,inplace=True)"
      ],
      "execution_count": 109,
      "outputs": []
    },
    {
      "cell_type": "code",
      "metadata": {
        "id": "VWC8U8QApa6w",
        "colab": {
          "base_uri": "https://localhost:8080/",
          "height": 112
        },
        "outputId": "dd70ecd0-0960-4f6a-e8df-776b4e4bc2b5"
      },
      "source": [
        "imaela.tail(2)"
      ],
      "execution_count": 110,
      "outputs": [
        {
          "output_type": "execute_result",
          "data": {
            "text/html": [
              "<div>\n",
              "<style scoped>\n",
              "    .dataframe tbody tr th:only-of-type {\n",
              "        vertical-align: middle;\n",
              "    }\n",
              "\n",
              "    .dataframe tbody tr th {\n",
              "        vertical-align: top;\n",
              "    }\n",
              "\n",
              "    .dataframe thead th {\n",
              "        text-align: right;\n",
              "    }\n",
              "</style>\n",
              "<table border=\"1\" class=\"dataframe\">\n",
              "  <thead>\n",
              "    <tr style=\"text-align: right;\">\n",
              "      <th></th>\n",
              "      <th>Costa Rica</th>\n",
              "      <th>El Salvador</th>\n",
              "      <th>Guatemala</th>\n",
              "      <th>Honduras</th>\n",
              "      <th>Nicaragua</th>\n",
              "      <th>República Dominicana</th>\n",
              "      <th>Panamá</th>\n",
              "      <th>Argentina</th>\n",
              "      <th>Brasil</th>\n",
              "      <th>México</th>\n",
              "      <th>Perú</th>\n",
              "      <th>Chile</th>\n",
              "      <th>Ecuador</th>\n",
              "      <th>Paraguay</th>\n",
              "    </tr>\n",
              "  </thead>\n",
              "  <tbody>\n",
              "    <tr>\n",
              "      <th>2021-Octubre</th>\n",
              "      <td>NaN</td>\n",
              "      <td>NaN</td>\n",
              "      <td>NaN</td>\n",
              "      <td>NaN</td>\n",
              "      <td>NaN</td>\n",
              "      <td>192.16</td>\n",
              "      <td>NaN</td>\n",
              "      <td>NaN</td>\n",
              "      <td>137.78</td>\n",
              "      <td>NaN</td>\n",
              "      <td>NaN</td>\n",
              "      <td>124.696158</td>\n",
              "      <td>176.086450</td>\n",
              "      <td>125.403526</td>\n",
              "    </tr>\n",
              "    <tr>\n",
              "      <th>2021-Septiembre</th>\n",
              "      <td>109.03</td>\n",
              "      <td>112.85</td>\n",
              "      <td>129.06</td>\n",
              "      <td>251.03</td>\n",
              "      <td>147.61</td>\n",
              "      <td>181.03</td>\n",
              "      <td>317.43</td>\n",
              "      <td>141.26</td>\n",
              "      <td>138.05</td>\n",
              "      <td>104.18</td>\n",
              "      <td>178.4</td>\n",
              "      <td>118.388353</td>\n",
              "      <td>173.213533</td>\n",
              "      <td>119.125943</td>\n",
              "    </tr>\n",
              "  </tbody>\n",
              "</table>\n",
              "</div>"
            ],
            "text/plain": [
              "                 Costa Rica  El Salvador  ...     Ecuador    Paraguay\n",
              "2021-Octubre            NaN          NaN  ...  176.086450  125.403526\n",
              "2021-Septiembre      109.03       112.85  ...  173.213533  119.125943\n",
              "\n",
              "[2 rows x 14 columns]"
            ]
          },
          "metadata": {},
          "execution_count": 110
        }
      ]
    },
    {
      "cell_type": "code",
      "metadata": {
        "id": "aPbNJ1eyIKiv",
        "cellView": "form",
        "colab": {
          "base_uri": "https://localhost:8080/",
          "height": 17
        },
        "outputId": "e853b077-51e3-4356-8458-26b2cbaa1e16"
      },
      "source": [
        "#@title Descarga a Excel\n",
        "writer = pd.ExcelWriter('imae_latam.xlsx', engine='xlsxwriter')\n",
        "\n",
        "imaela1.to_excel(writer, sheet_name='Interanual')\n",
        "imaela2.to_excel(writer, sheet_name='Acumulado')\n",
        "imaela.to_excel(writer, sheet_name='Indices - Serie Original')\n",
        "writer.save()\n",
        "\n",
        "files.download(\"imae_latam.xlsx\")"
      ],
      "execution_count": 111,
      "outputs": [
        {
          "output_type": "display_data",
          "data": {
            "application/javascript": [
              "\n",
              "    async function download(id, filename, size) {\n",
              "      if (!google.colab.kernel.accessAllowed) {\n",
              "        return;\n",
              "      }\n",
              "      const div = document.createElement('div');\n",
              "      const label = document.createElement('label');\n",
              "      label.textContent = `Downloading \"${filename}\": `;\n",
              "      div.appendChild(label);\n",
              "      const progress = document.createElement('progress');\n",
              "      progress.max = size;\n",
              "      div.appendChild(progress);\n",
              "      document.body.appendChild(div);\n",
              "\n",
              "      const buffers = [];\n",
              "      let downloaded = 0;\n",
              "\n",
              "      const channel = await google.colab.kernel.comms.open(id);\n",
              "      // Send a message to notify the kernel that we're ready.\n",
              "      channel.send({})\n",
              "\n",
              "      for await (const message of channel.messages) {\n",
              "        // Send a message to notify the kernel that we're ready.\n",
              "        channel.send({})\n",
              "        if (message.buffers) {\n",
              "          for (const buffer of message.buffers) {\n",
              "            buffers.push(buffer);\n",
              "            downloaded += buffer.byteLength;\n",
              "            progress.value = downloaded;\n",
              "          }\n",
              "        }\n",
              "      }\n",
              "      const blob = new Blob(buffers, {type: 'application/binary'});\n",
              "      const a = document.createElement('a');\n",
              "      a.href = window.URL.createObjectURL(blob);\n",
              "      a.download = filename;\n",
              "      div.appendChild(a);\n",
              "      a.click();\n",
              "      div.remove();\n",
              "    }\n",
              "  "
            ],
            "text/plain": [
              "<IPython.core.display.Javascript object>"
            ]
          },
          "metadata": {}
        },
        {
          "output_type": "display_data",
          "data": {
            "application/javascript": [
              "download(\"download_dabf32f5-6170-47d9-8b7a-a2b309d0dc34\", \"imae_latam.xlsx\", 31544)"
            ],
            "text/plain": [
              "<IPython.core.display.Javascript object>"
            ]
          },
          "metadata": {}
        }
      ]
    },
    {
      "cell_type": "code",
      "metadata": {
        "id": "fRnNN0VxUxeA",
        "cellView": "form"
      },
      "source": [
        "#@title Bar\n",
        "f, ax = plt.subplots(figsize=(20, 8))\n",
        "sns.barplot(data=imaela.iloc[-1:,:]);"
      ],
      "execution_count": null,
      "outputs": []
    },
    {
      "cell_type": "code",
      "metadata": {
        "id": "0HYQImNIAxf6",
        "cellView": "form"
      },
      "source": [
        "#@title Interanual Mes Anterior\n",
        "f, ax = plt.subplots(figsize=(18, 8))\n",
        "df = pd.melt(imaela1.iloc[-2:-1,:]).sort_values('value',ascending=False) \n",
        "sns.barplot(data = df ,x='value',y='variable',\n",
        "                palette=['r' if y =='República Dominicana' else '#0343DF' for y in df.variable])\n",
        "for p in ax.patches:\n",
        "    width = p.get_width()    # get bar length\n",
        "    ax.text(width+0.2,       # set the text at 0.2 unit right of the bar\n",
        "            p.get_y() + p.get_height() / 2, # get Y coordinate + X coordinate / 2\n",
        "            '{:1.2f}'.format(width), # set variable to display, 2 decimals\n",
        "            ha = 'left',   # horizontal alignment\n",
        "            va = 'center', weight=\"bold\") # vertical alignment\n",
        "plt.title('IMAE LATAM \\n Crecimiento Interanual (%) {}'.format(imaela.index[-2]),weight='bold');"
      ],
      "execution_count": null,
      "outputs": []
    },
    {
      "cell_type": "code",
      "metadata": {
        "id": "AXWRoqQueTtV",
        "cellView": "form"
      },
      "source": [
        "#@title Acumulado Interanual Mes Anterior\n",
        "f, ax = plt.subplots(figsize=(18, 8))\n",
        "df = pd.melt(imaela2.iloc[-2:-1,:]).sort_values('value',ascending=False) \n",
        "sns.barplot(data = df ,x='value',y='variable',\n",
        "                palette=['r' if y =='República Dominicana' else '#0343DF' for y in df.variable])\n",
        "for p in ax.patches:\n",
        "    width = p.get_width()    # get bar length\n",
        "    ax.text(width+0.2,       # set the text at 0.2 unit right of the bar\n",
        "            p.get_y() + p.get_height() / 2, # get Y coordinate + X coordinate / 2\n",
        "            '{:1.2f}'.format(width), # set variable to display, 2 decimals\n",
        "            ha = 'left',   # horizontal alignment\n",
        "            va = 'center', weight=\"bold\") # vertical alignment\n",
        "plt.title('IMAE LATAM \\n Crecimiento Acumulado Interanual (%) a {}'.format(imaela.index[-2]) ,weight='bold');"
      ],
      "execution_count": null,
      "outputs": []
    },
    {
      "cell_type": "code",
      "metadata": {
        "id": "LOhjJvf2M908",
        "cellView": "form"
      },
      "source": [
        "#@title Interanual Ultimo Mes\n",
        "f, ax = plt.subplots(figsize=(18, 8))\n",
        "df = pd.melt(imaela1.iloc[-1:,:].dropna(axis=1)).sort_values('value',ascending=False) \n",
        "sns.barplot(data = df ,x='value',y='variable',\n",
        "                palette=['r' if y =='República Dominicana' else '#0343DF' for y in df.variable])\n",
        "for p in ax.patches:\n",
        "    width = p.get_width()    # get bar length\n",
        "    ax.text(width+0.2,       # set the text at 0.2 unit right of the bar\n",
        "            p.get_y() + p.get_height() / 2, # get Y coordinate + X coordinate / 2\n",
        "            '{:1.2f}'.format(width), # set variable to display, 2 decimals\n",
        "            ha = 'left',   # horizontal alignment\n",
        "            va = 'center', weight=\"bold\") # vertical alignment\n",
        "plt.title('IMAE LATAM \\n Crecimiento Interanual (%) {}'.format(imaela.index[-1]),weight='bold')\n",
        ";"
      ],
      "execution_count": null,
      "outputs": []
    },
    {
      "cell_type": "code",
      "metadata": {
        "id": "fyL78uQDM2ib",
        "cellView": "form"
      },
      "source": [
        "#@title Acumulado Interanual Ultimo Mes\n",
        "f, ax = plt.subplots(figsize=(18, 8))\n",
        "df = pd.melt(imaela2.iloc[-1:,:].dropna(axis=1)).sort_values('value',ascending=False) \n",
        "sns.barplot(data = df ,x='value',y='variable',\n",
        "                palette=['r' if y =='República Dominicana' else '#0343DF' for y in df.variable])\n",
        "for p in ax.patches:\n",
        "    width = p.get_width()    # get bar length\n",
        "    ax.text(width+0.2,       # set the text at 0.2 unit right of the bar\n",
        "            p.get_y() + p.get_height() / 2, # get Y coordinate + X coordinate / 2\n",
        "            '{:1.2f}'.format(width), # set variable to display, 2 decimals\n",
        "            ha = 'left',   # horizontal alignment\n",
        "            va = 'center', weight=\"bold\") # vertical alignment\n",
        "plt.title('IMAE LATAM \\n Crecimiento Acumulado Interanual (%) a {}'.format(imaela.index[-1]) ,weight='bold');"
      ],
      "execution_count": null,
      "outputs": []
    }
  ]
}