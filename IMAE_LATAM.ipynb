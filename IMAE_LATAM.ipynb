{
  "nbformat": 4,
  "nbformat_minor": 0,
  "metadata": {
    "colab": {
      "name": "IMAE LATAM.ipynb",
      "provenance": [],
      "collapsed_sections": [
        "pdxAyDPTJJzP",
        "mng9xQCphxaK",
        "USJ5m_3XS6ji",
        "YlZNkOc6pfVo",
        "MkoUi_tal0ST",
        "A2MSTFg45f_H",
        "rSOwOPisI0mw"
      ],
      "authorship_tag": "ABX9TyNVqSOuvz9Gflajilx8v3FA",
      "include_colab_link": true
    },
    "kernelspec": {
      "name": "python3",
      "display_name": "Python 3"
    },
    "language_info": {
      "name": "python"
    }
  },
  "cells": [
    {
      "cell_type": "markdown",
      "metadata": {
        "id": "view-in-github",
        "colab_type": "text"
      },
      "source": [
        "<a href=\"https://colab.research.google.com/github/samyff12/LATAM/blob/main/IMAE_LATAM.ipynb\" target=\"_parent\"><img src=\"https://colab.research.google.com/assets/colab-badge.svg\" alt=\"Open In Colab\"/></a>"
      ]
    },
    {
      "cell_type": "markdown",
      "metadata": {
        "id": "uwghX9WnmOhH"
      },
      "source": [
        "# **Actualizacion IMAE LATAM**"
      ]
    },
    {
      "cell_type": "markdown",
      "metadata": {
        "id": "zMFcgIBOnFpc"
      },
      "source": [
        "### Paquetes y meses"
      ]
    },
    {
      "cell_type": "code",
      "metadata": {
        "id": "yLpBS1jxRJUa",
        "colab": {
          "base_uri": "https://localhost:8080/"
        },
        "outputId": "e8b367f7-43fb-4d52-bfac-b25c1e6650c4"
      },
      "source": [
        "from bs4 import BeautifulSoup\n",
        "import pandas as pd\n",
        "import numpy as np\n",
        "import requests\n",
        "import urllib.request as urllib2\n",
        "import re\n",
        "!pip install pymupdf\n",
        "!pip install tabula-py\n",
        "import tabula as tb\n",
        "import fitz  # this is pymupdf\n",
        "import matplotlib.pyplot as plt\n",
        "import seaborn as sns\n",
        "import zipfile\n",
        "!pip install XlsxWriter\n",
        "from google.colab import files"
      ],
      "execution_count": 3,
      "outputs": [
        {
          "output_type": "stream",
          "name": "stdout",
          "text": [
            "Requirement already satisfied: pymupdf in /usr/local/lib/python3.7/dist-packages (1.19.1)\n",
            "Requirement already satisfied: tabula-py in /usr/local/lib/python3.7/dist-packages (2.3.0)\n",
            "Requirement already satisfied: pandas>=0.25.3 in /usr/local/lib/python3.7/dist-packages (from tabula-py) (1.1.5)\n",
            "Requirement already satisfied: distro in /usr/local/lib/python3.7/dist-packages (from tabula-py) (1.6.0)\n",
            "Requirement already satisfied: numpy in /usr/local/lib/python3.7/dist-packages (from tabula-py) (1.19.5)\n",
            "Requirement already satisfied: pytz>=2017.2 in /usr/local/lib/python3.7/dist-packages (from pandas>=0.25.3->tabula-py) (2018.9)\n",
            "Requirement already satisfied: python-dateutil>=2.7.3 in /usr/local/lib/python3.7/dist-packages (from pandas>=0.25.3->tabula-py) (2.8.2)\n",
            "Requirement already satisfied: six>=1.5 in /usr/local/lib/python3.7/dist-packages (from python-dateutil>=2.7.3->pandas>=0.25.3->tabula-py) (1.15.0)\n",
            "Requirement already satisfied: XlsxWriter in /usr/local/lib/python3.7/dist-packages (3.0.2)\n"
          ]
        }
      ]
    },
    {
      "cell_type": "code",
      "metadata": {
        "id": "7NNHXzvKYJ2D"
      },
      "source": [
        "#html = requests.get('http://www.secmca.org/chart/?parent=Producci%C3%B3n&scid=2&cid=1&scsid=0&son=%C3%8Dndice%20Mensual%20de%20la%20Actividad%20Econ%C3%B3mica&url=11/14/3-13-50-17-4-52-161/39/265/19-258/444/' +\n",
        " #                   '20211-20212-20213-20214-20215-20216-20217-20218-20219-202110-202111-202112-20221-20222-20223-20224-20225-20226-20227-20228-20229-202210-202211-202212' +\n",
        " #                   '-&all_vars=2|IMAE,%20variaci%C3%B3n%20interanual')\n",
        "#soup = BeautifulSoup(html.text,'lxml')\n",
        "#table = soup.find_all('p', class_='text-right')\n",
        "#tablec = soup.find_all('th', colspan='1')\n",
        "\n",
        "#indicadores=[]\n",
        "#paises =[]\n",
        "#for i in range(len(table)):\n",
        " # ind = float(table[i].text)\n",
        "#  pais = tablec[i].text\n",
        "#  indicadores.append(ind)\n",
        " # paises.append(pais)\n",
        "\n",
        "#imae_latam =  pd.DataFrame(indicadores,index = paises,columns = ['IMAE'])\n",
        "#print(f'IMAE a {fecha}')\n",
        "#imae_latam"
      ],
      "execution_count": 4,
      "outputs": []
    },
    {
      "cell_type": "code",
      "metadata": {
        "id": "Uz9LSti34_nA"
      },
      "source": [
        "meses = [0,[1,'Enero'],[2,'Febrero'],[3,'Marzo'],[4,'Abril'],[5,'Mayo'],[6,'Junio'],[7,'Julio'],[8,'Agosto'],\n",
        "         [9,'Septiembre'],[10,'Octubre'],[11,'Noviembre'],[12,'Diciembre']]\n",
        "mes3 = {'ene':'Enero','feb':'Febrero','mar':'Marzo','abr':'Abril','may':'Mayo','jun':'Junio','jul':'Julio',\n",
        "        'ago':'Agosto','sep':'Septiembre','oct':'Octubre','nov':'Noviembre','dic':'Diciembre'}\n",
        "meses_dict = {0:'none',1:'Enero',2:'Febrero',3:'Marzo',4:'Abril',5:'Mayo',6:'Junio',7:'Julio',8:'Agosto',\n",
        "         9:'Septiembre',10:'Octubre',11:'Noviembre',12:'Diciembre'}\n",
        "### import calendar\n",
        "\n",
        "# d = dict((v,k) for k,v in enumerate(calendar.month_abbr))\n",
        "# d"
      ],
      "execution_count": 5,
      "outputs": []
    },
    {
      "cell_type": "markdown",
      "metadata": {
        "id": "982BPh5jk93l"
      },
      "source": [
        "## Para obtener las series de todo el año 2021-2022\n"
      ]
    },
    {
      "cell_type": "markdown",
      "metadata": {
        "id": "pdxAyDPTJJzP"
      },
      "source": [
        "### **SECMCA**"
      ]
    },
    {
      "cell_type": "markdown",
      "metadata": {
        "id": "zyl75FG7ZOym"
      },
      "source": [
        "html = requests.get('http://www.secmca.org/chart/?parent=Producci%C3%B3n&scid=2&cid=1&scsid=0&son=%C3%8Dndice%20Mensual%20de%20la%20Actividad%20Econ%C3%B3mica&url=11/14/3-13-50-17-4-52-161/39/265/19-258/444/' +\n",
        "                    '20211-20212-20213-20214-20215-20216-20217-20218-20219-202110-202111-202112-20221-20222-20223-20224-20225-20226-20227-20228-20229-202210-202211-202212' +\n",
        "                    '-&all_vars=2|IMAE,%20variaci%C3%B3n%20interanual').text\n",
        "soup = BeautifulSoup(html,'lxml')\n",
        "\n",
        "#### Publicaciones disponibles las fechas: \n",
        "\n",
        "#####    **El Salvador**\n",
        "2. 29 Oct\n",
        "3. 30 Nov\n",
        "4. 23 Dic\n",
        "5. 31 Ene\n",
        "\n",
        "#####    **Panama**\n",
        "3. 22 Nov\n",
        "4. 21 Dic\n",
        "\n",
        "\n",
        "#####    **Honduras**\n",
        "-. Preliminar 20 de cada mes, con 50 días de rezago y\n",
        "revisado 30 días después"
      ]
    },
    {
      "cell_type": "code",
      "metadata": {
        "colab": {
          "base_uri": "https://localhost:8080/",
          "height": 34
        },
        "id": "DKeFlSnZ9utv",
        "outputId": "d0b9c0f3-f83b-471f-e3ce-954ce99199fd"
      },
      "source": [
        "# INDICE VERSION\n",
        "html1 = requests.get('http://www.secmca.org/chart/?parent=Producci%C3%B3n&scid=2&cid=1&scsid=0&son=%C3%8Dndice%20Mensual%20de%20la%20Actividad%20Econ%C3%B3mica&url=11/14/3-13-50-17-4-52-161/39/265/19-258/81/' +\n",
        "  '20201-20202-20203-20204-20205-20206-20207-20208-20209-202010-202011-202012-20211-20212-20213-20214-20215-20216-20217-20218-20219-202110-202111-202112-20221-20222-20223-20224-20225-20226-20227-20228-20229-202210-202211-202212' +\n",
        "  '-&all_vars=1|IMAE').text\n",
        "soup1 = BeautifulSoup(html1,'html.parser')\n",
        "\n",
        "tabpais = soup1.find_all('th', colspan='1')\n",
        "table = soup1.find_all('p', class_='text-left')\n",
        "fechas = []\n",
        "for i in range(len(table)):\n",
        "  x = re.sub(\" \",\"\",table[i].text)\n",
        "  fechas.append(x.replace(\"\\n\",\"\").replace('Setiembre','Septiembre'))\n",
        "\n",
        "paises = [tabpais[i].text for i in range(len(tabpais))]\n",
        "fechas[-1]"
      ],
      "execution_count": 4,
      "outputs": [
        {
          "output_type": "execute_result",
          "data": {
            "application/vnd.google.colaboratory.intrinsic+json": {
              "type": "string"
            },
            "text/plain": [
              "'2021-Septiembre'"
            ]
          },
          "metadata": {},
          "execution_count": 4
        }
      ]
    },
    {
      "cell_type": "code",
      "metadata": {
        "colab": {
          "base_uri": "https://localhost:8080/",
          "height": 708
        },
        "id": "jH_Esksz-nsh",
        "outputId": "5e2d1d4f-06ab-4c32-f525-3c23c9c98a84"
      },
      "source": [
        "#INDICE\n",
        "table1 = soup1.find_all('p', class_='text-right')\n",
        "matriz = np.array([])\n",
        "for i in table1:\n",
        "  matriz = np.array(np.append(matriz,i))\n",
        "matriz = np.where(matriz==\"--\", np.nan, matriz).astype(np.float)\n",
        "matriz = matriz.reshape(-1,7) # 7 paises\n",
        "imaeLA = pd.DataFrame(matriz,index=fechas,columns=paises)\n",
        "imaeLA"
      ],
      "execution_count": 5,
      "outputs": [
        {
          "output_type": "execute_result",
          "data": {
            "text/html": [
              "<div>\n",
              "<style scoped>\n",
              "    .dataframe tbody tr th:only-of-type {\n",
              "        vertical-align: middle;\n",
              "    }\n",
              "\n",
              "    .dataframe tbody tr th {\n",
              "        vertical-align: top;\n",
              "    }\n",
              "\n",
              "    .dataframe thead th {\n",
              "        text-align: right;\n",
              "    }\n",
              "</style>\n",
              "<table border=\"1\" class=\"dataframe\">\n",
              "  <thead>\n",
              "    <tr style=\"text-align: right;\">\n",
              "      <th></th>\n",
              "      <th>Costa Rica</th>\n",
              "      <th>El Salvador</th>\n",
              "      <th>Guatemala</th>\n",
              "      <th>Honduras</th>\n",
              "      <th>Nicaragua</th>\n",
              "      <th>República Dominicana</th>\n",
              "      <th>Panamá</th>\n",
              "    </tr>\n",
              "  </thead>\n",
              "  <tbody>\n",
              "    <tr>\n",
              "      <th>2020-Enero</th>\n",
              "      <td>104.14</td>\n",
              "      <td>110.80</td>\n",
              "      <td>127.40</td>\n",
              "      <td>243.14</td>\n",
              "      <td>152.88</td>\n",
              "      <td>179.04</td>\n",
              "      <td>345.73</td>\n",
              "    </tr>\n",
              "    <tr>\n",
              "      <th>2020-Febrero</th>\n",
              "      <td>105.17</td>\n",
              "      <td>110.06</td>\n",
              "      <td>125.54</td>\n",
              "      <td>242.59</td>\n",
              "      <td>144.12</td>\n",
              "      <td>183.24</td>\n",
              "      <td>338.73</td>\n",
              "    </tr>\n",
              "    <tr>\n",
              "      <th>2020-Marzo</th>\n",
              "      <td>103.55</td>\n",
              "      <td>105.56</td>\n",
              "      <td>121.36</td>\n",
              "      <td>218.14</td>\n",
              "      <td>140.05</td>\n",
              "      <td>165.67</td>\n",
              "      <td>364.78</td>\n",
              "    </tr>\n",
              "    <tr>\n",
              "      <th>2020-Abril</th>\n",
              "      <td>90.88</td>\n",
              "      <td>88.28</td>\n",
              "      <td>112.77</td>\n",
              "      <td>186.13</td>\n",
              "      <td>124.67</td>\n",
              "      <td>125.35</td>\n",
              "      <td>247.19</td>\n",
              "    </tr>\n",
              "    <tr>\n",
              "      <th>2020-Mayo</th>\n",
              "      <td>93.10</td>\n",
              "      <td>89.88</td>\n",
              "      <td>111.25</td>\n",
              "      <td>188.45</td>\n",
              "      <td>133.85</td>\n",
              "      <td>158.43</td>\n",
              "      <td>228.30</td>\n",
              "    </tr>\n",
              "    <tr>\n",
              "      <th>2020-Junio</th>\n",
              "      <td>97.04</td>\n",
              "      <td>96.97</td>\n",
              "      <td>111.06</td>\n",
              "      <td>208.19</td>\n",
              "      <td>128.81</td>\n",
              "      <td>160.89</td>\n",
              "      <td>243.01</td>\n",
              "    </tr>\n",
              "    <tr>\n",
              "      <th>2020-Julio</th>\n",
              "      <td>92.92</td>\n",
              "      <td>96.05</td>\n",
              "      <td>117.42</td>\n",
              "      <td>208.83</td>\n",
              "      <td>147.58</td>\n",
              "      <td>162.35</td>\n",
              "      <td>241.95</td>\n",
              "    </tr>\n",
              "    <tr>\n",
              "      <th>2020-Agosto</th>\n",
              "      <td>93.36</td>\n",
              "      <td>102.57</td>\n",
              "      <td>120.25</td>\n",
              "      <td>225.70</td>\n",
              "      <td>138.50</td>\n",
              "      <td>169.07</td>\n",
              "      <td>251.35</td>\n",
              "    </tr>\n",
              "    <tr>\n",
              "      <th>2020-Septiembre</th>\n",
              "      <td>98.15</td>\n",
              "      <td>106.44</td>\n",
              "      <td>121.45</td>\n",
              "      <td>230.41</td>\n",
              "      <td>139.98</td>\n",
              "      <td>163.68</td>\n",
              "      <td>268.97</td>\n",
              "    </tr>\n",
              "    <tr>\n",
              "      <th>2020-Octubre</th>\n",
              "      <td>102.10</td>\n",
              "      <td>106.64</td>\n",
              "      <td>125.72</td>\n",
              "      <td>249.61</td>\n",
              "      <td>148.48</td>\n",
              "      <td>175.09</td>\n",
              "      <td>312.12</td>\n",
              "    </tr>\n",
              "    <tr>\n",
              "      <th>2020-Noviembre</th>\n",
              "      <td>105.13</td>\n",
              "      <td>111.85</td>\n",
              "      <td>128.86</td>\n",
              "      <td>219.03</td>\n",
              "      <td>148.75</td>\n",
              "      <td>181.13</td>\n",
              "      <td>300.21</td>\n",
              "    </tr>\n",
              "    <tr>\n",
              "      <th>2020-Diciembre</th>\n",
              "      <td>110.96</td>\n",
              "      <td>122.29</td>\n",
              "      <td>136.24</td>\n",
              "      <td>257.90</td>\n",
              "      <td>167.28</td>\n",
              "      <td>192.02</td>\n",
              "      <td>316.10</td>\n",
              "    </tr>\n",
              "    <tr>\n",
              "      <th>2021-Enero</th>\n",
              "      <td>97.39</td>\n",
              "      <td>109.01</td>\n",
              "      <td>129.22</td>\n",
              "      <td>228.85</td>\n",
              "      <td>154.77</td>\n",
              "      <td>175.80</td>\n",
              "      <td>292.10</td>\n",
              "    </tr>\n",
              "    <tr>\n",
              "      <th>2021-Febrero</th>\n",
              "      <td>99.78</td>\n",
              "      <td>108.76</td>\n",
              "      <td>128.60</td>\n",
              "      <td>235.09</td>\n",
              "      <td>147.43</td>\n",
              "      <td>185.25</td>\n",
              "      <td>305.62</td>\n",
              "    </tr>\n",
              "    <tr>\n",
              "      <th>2021-Marzo</th>\n",
              "      <td>107.30</td>\n",
              "      <td>114.72</td>\n",
              "      <td>133.50</td>\n",
              "      <td>247.63</td>\n",
              "      <td>151.35</td>\n",
              "      <td>183.30</td>\n",
              "      <td>342.93</td>\n",
              "    </tr>\n",
              "    <tr>\n",
              "      <th>2021-Abril</th>\n",
              "      <td>102.34</td>\n",
              "      <td>110.69</td>\n",
              "      <td>129.98</td>\n",
              "      <td>236.22</td>\n",
              "      <td>144.23</td>\n",
              "      <td>184.40</td>\n",
              "      <td>304.00</td>\n",
              "    </tr>\n",
              "    <tr>\n",
              "      <th>2021-Mayo</th>\n",
              "      <td>105.35</td>\n",
              "      <td>114.65</td>\n",
              "      <td>129.30</td>\n",
              "      <td>244.37</td>\n",
              "      <td>156.14</td>\n",
              "      <td>192.09</td>\n",
              "      <td>329.26</td>\n",
              "    </tr>\n",
              "    <tr>\n",
              "      <th>2021-Junio</th>\n",
              "      <td>105.73</td>\n",
              "      <td>114.41</td>\n",
              "      <td>126.27</td>\n",
              "      <td>249.88</td>\n",
              "      <td>151.74</td>\n",
              "      <td>181.33</td>\n",
              "      <td>322.67</td>\n",
              "    </tr>\n",
              "    <tr>\n",
              "      <th>2021-Julio</th>\n",
              "      <td>108.06</td>\n",
              "      <td>109.65</td>\n",
              "      <td>130.66</td>\n",
              "      <td>241.66</td>\n",
              "      <td>160.30</td>\n",
              "      <td>181.96</td>\n",
              "      <td>328.86</td>\n",
              "    </tr>\n",
              "    <tr>\n",
              "      <th>2021-Agosto</th>\n",
              "      <td>105.63</td>\n",
              "      <td>NaN</td>\n",
              "      <td>129.34</td>\n",
              "      <td>255.65</td>\n",
              "      <td>151.16</td>\n",
              "      <td>188.83</td>\n",
              "      <td>317.68</td>\n",
              "    </tr>\n",
              "    <tr>\n",
              "      <th>2021-Septiembre</th>\n",
              "      <td>NaN</td>\n",
              "      <td>NaN</td>\n",
              "      <td>NaN</td>\n",
              "      <td>NaN</td>\n",
              "      <td>NaN</td>\n",
              "      <td>180.96</td>\n",
              "      <td>NaN</td>\n",
              "    </tr>\n",
              "  </tbody>\n",
              "</table>\n",
              "</div>"
            ],
            "text/plain": [
              "                 Costa Rica  El Salvador  ...  República Dominicana  Panamá\n",
              "2020-Enero           104.14       110.80  ...                179.04  345.73\n",
              "2020-Febrero         105.17       110.06  ...                183.24  338.73\n",
              "2020-Marzo           103.55       105.56  ...                165.67  364.78\n",
              "2020-Abril            90.88        88.28  ...                125.35  247.19\n",
              "2020-Mayo             93.10        89.88  ...                158.43  228.30\n",
              "2020-Junio            97.04        96.97  ...                160.89  243.01\n",
              "2020-Julio            92.92        96.05  ...                162.35  241.95\n",
              "2020-Agosto           93.36       102.57  ...                169.07  251.35\n",
              "2020-Septiembre       98.15       106.44  ...                163.68  268.97\n",
              "2020-Octubre         102.10       106.64  ...                175.09  312.12\n",
              "2020-Noviembre       105.13       111.85  ...                181.13  300.21\n",
              "2020-Diciembre       110.96       122.29  ...                192.02  316.10\n",
              "2021-Enero            97.39       109.01  ...                175.80  292.10\n",
              "2021-Febrero          99.78       108.76  ...                185.25  305.62\n",
              "2021-Marzo           107.30       114.72  ...                183.30  342.93\n",
              "2021-Abril           102.34       110.69  ...                184.40  304.00\n",
              "2021-Mayo            105.35       114.65  ...                192.09  329.26\n",
              "2021-Junio           105.73       114.41  ...                181.33  322.67\n",
              "2021-Julio           108.06       109.65  ...                181.96  328.86\n",
              "2021-Agosto          105.63          NaN  ...                188.83  317.68\n",
              "2021-Septiembre         NaN          NaN  ...                180.96     NaN\n",
              "\n",
              "[21 rows x 7 columns]"
            ]
          },
          "metadata": {},
          "execution_count": 5
        }
      ]
    },
    {
      "cell_type": "markdown",
      "metadata": {
        "id": "HZYnwfqqr7tE"
      },
      "source": [
        "import re\n",
        "tabpais = soup.find_all('th', colspan='1')\n",
        "table = soup.find_all('p', class_='text-left')\n",
        "fechas = []\n",
        "paises =[]\n",
        "for i in range(len(table)):\n",
        "  x = re.sub(\" \",\"\",table[i].text)\n",
        "  fechas.append(x.replace(\"\\n\",\"\"))\n",
        "  pais = tabpais[i].text\n",
        "  #indicadores.append(ind)\n",
        "  paises.append(pais)\n",
        "fechas[-1]"
      ]
    },
    {
      "cell_type": "markdown",
      "metadata": {
        "id": "sCY1EzkcvFfD"
      },
      "source": [
        "table1 = soup.find_all('p', class_='text-right')\n",
        "matriz = np.array([])\n",
        "for i in table1:\n",
        "  matriz = np.array(np.append(matriz,i))\n",
        "matriz = np.where(matriz==\"--\", np.nan, matriz).astype(np.float)\n",
        "matriz = matriz.reshape(-1,7) # 7 paises\n",
        "imaeLA = pd.DataFrame(matriz,index=fechas,columns=paises)\n",
        "imaeLA"
      ]
    },
    {
      "cell_type": "markdown",
      "metadata": {
        "id": "mng9xQCphxaK"
      },
      "source": [
        "### **Argentina**\n"
      ]
    },
    {
      "cell_type": "markdown",
      "metadata": {
        "id": "5HGhiXY6MURL"
      },
      "source": [
        "#### Publicaciones disponibles las fechas: \n",
        "1. 28 sept \n",
        "2. 21 Oct\n",
        "3. 23 Nov\n",
        "4. 23 Dic"
      ]
    },
    {
      "cell_type": "code",
      "metadata": {
        "id": "8lHpEj4I7Kkk",
        "colab": {
          "base_uri": "https://localhost:8080/",
          "height": 424
        },
        "outputId": "906ee399-bd1f-4aec-9ac6-5815584e046c"
      },
      "source": [
        "url = \"https://www.indec.gob.ar/ftp/cuadros/economia/sh_emae_mensual_base2004.xls\"\n",
        "urllib2.urlretrieve(url, \"test.xls\")\n",
        "data = pd.read_excel('test.xls',header=2)[2:]\n",
        "data1 = data.iloc[:,:4].dropna(subset = [data.columns[1]]) # data.columns[1] es la columna de los meses\n",
        "data1.reset_index(drop=True,inplace=True)\n",
        "data1[data1.columns[0]] = data1[data1.columns[0]].ffill() # forward fill # para los años   data1.columns[0] es la columna de los años\n",
        "data1.iloc[:,:3]"
      ],
      "execution_count": 6,
      "outputs": [
        {
          "output_type": "execute_result",
          "data": {
            "text/html": [
              "<div>\n",
              "<style scoped>\n",
              "    .dataframe tbody tr th:only-of-type {\n",
              "        vertical-align: middle;\n",
              "    }\n",
              "\n",
              "    .dataframe tbody tr th {\n",
              "        vertical-align: top;\n",
              "    }\n",
              "\n",
              "    .dataframe thead th {\n",
              "        text-align: right;\n",
              "    }\n",
              "</style>\n",
              "<table border=\"1\" class=\"dataframe\">\n",
              "  <thead>\n",
              "    <tr style=\"text-align: right;\">\n",
              "      <th></th>\n",
              "      <th>Período</th>\n",
              "      <th>Unnamed: 1</th>\n",
              "      <th>Índice Serie Original\\n2004=100</th>\n",
              "    </tr>\n",
              "  </thead>\n",
              "  <tbody>\n",
              "    <tr>\n",
              "      <th>0</th>\n",
              "      <td>2004</td>\n",
              "      <td>Enero</td>\n",
              "      <td>92.627506</td>\n",
              "    </tr>\n",
              "    <tr>\n",
              "      <th>1</th>\n",
              "      <td>2004</td>\n",
              "      <td>Febrero</td>\n",
              "      <td>90.186179</td>\n",
              "    </tr>\n",
              "    <tr>\n",
              "      <th>2</th>\n",
              "      <td>2004</td>\n",
              "      <td>Marzo</td>\n",
              "      <td>101.883298</td>\n",
              "    </tr>\n",
              "    <tr>\n",
              "      <th>3</th>\n",
              "      <td>2004</td>\n",
              "      <td>Abril</td>\n",
              "      <td>102.567430</td>\n",
              "    </tr>\n",
              "    <tr>\n",
              "      <th>4</th>\n",
              "      <td>2004</td>\n",
              "      <td>Mayo</td>\n",
              "      <td>109.877504</td>\n",
              "    </tr>\n",
              "    <tr>\n",
              "      <th>...</th>\n",
              "      <td>...</td>\n",
              "      <td>...</td>\n",
              "      <td>...</td>\n",
              "    </tr>\n",
              "    <tr>\n",
              "      <th>207</th>\n",
              "      <td>2021</td>\n",
              "      <td>Abril</td>\n",
              "      <td>144.940980</td>\n",
              "    </tr>\n",
              "    <tr>\n",
              "      <th>208</th>\n",
              "      <td>2021</td>\n",
              "      <td>Mayo</td>\n",
              "      <td>150.194265</td>\n",
              "    </tr>\n",
              "    <tr>\n",
              "      <th>209</th>\n",
              "      <td>2021</td>\n",
              "      <td>Junio</td>\n",
              "      <td>148.854057</td>\n",
              "    </tr>\n",
              "    <tr>\n",
              "      <th>210</th>\n",
              "      <td>2021</td>\n",
              "      <td>Julio</td>\n",
              "      <td>143.287754</td>\n",
              "    </tr>\n",
              "    <tr>\n",
              "      <th>211</th>\n",
              "      <td>2021</td>\n",
              "      <td>Agosto</td>\n",
              "      <td>141.215168</td>\n",
              "    </tr>\n",
              "  </tbody>\n",
              "</table>\n",
              "<p>212 rows × 3 columns</p>\n",
              "</div>"
            ],
            "text/plain": [
              "     Período Unnamed: 1  Índice Serie Original\\n2004=100\n",
              "0       2004      Enero                        92.627506\n",
              "1       2004    Febrero                        90.186179\n",
              "2       2004      Marzo                       101.883298\n",
              "3       2004      Abril                       102.567430\n",
              "4       2004       Mayo                       109.877504\n",
              "..       ...        ...                              ...\n",
              "207     2021      Abril                       144.940980\n",
              "208     2021       Mayo                       150.194265\n",
              "209     2021      Junio                       148.854057\n",
              "210     2021      Julio                       143.287754\n",
              "211     2021     Agosto                       141.215168\n",
              "\n",
              "[212 rows x 3 columns]"
            ]
          },
          "metadata": {},
          "execution_count": 6
        }
      ]
    },
    {
      "cell_type": "code",
      "metadata": {
        "id": "AEop9VIOYe7t",
        "colab": {
          "base_uri": "https://localhost:8080/"
        },
        "outputId": "1f22fd82-0ecf-4b8b-d6e4-943622d1300e"
      },
      "source": [
        "data1['fecha'] = data1[data1.columns[0]].astype('str') +\"-\"+ data1[data1.columns[1]]\n",
        "data1.set_index(data1.fecha,inplace=True)\n",
        "data1.iloc[:,2].tail(1)"
      ],
      "execution_count": 7,
      "outputs": [
        {
          "output_type": "execute_result",
          "data": {
            "text/plain": [
              "fecha\n",
              "2021-Agosto    141.215168\n",
              "Name: Índice Serie Original\\n2004=100, dtype: float64"
            ]
          },
          "metadata": {},
          "execution_count": 7
        }
      ]
    },
    {
      "cell_type": "code",
      "metadata": {
        "id": "X0Sd_s4JR1iO",
        "colab": {
          "base_uri": "https://localhost:8080/",
          "height": 81
        },
        "outputId": "dac6073f-3d6e-4412-b99c-eeb420bea231"
      },
      "source": [
        "imaeLA = pd.merge(imaeLA,data1.iloc[:,2],how='left',left_index=True,right_index=True)\n",
        "imaeLA.columns = [*imaeLA.columns[:-1], 'Argentina']\n",
        "imaeLA.tail(1)"
      ],
      "execution_count": 8,
      "outputs": [
        {
          "output_type": "execute_result",
          "data": {
            "text/html": [
              "<div>\n",
              "<style scoped>\n",
              "    .dataframe tbody tr th:only-of-type {\n",
              "        vertical-align: middle;\n",
              "    }\n",
              "\n",
              "    .dataframe tbody tr th {\n",
              "        vertical-align: top;\n",
              "    }\n",
              "\n",
              "    .dataframe thead th {\n",
              "        text-align: right;\n",
              "    }\n",
              "</style>\n",
              "<table border=\"1\" class=\"dataframe\">\n",
              "  <thead>\n",
              "    <tr style=\"text-align: right;\">\n",
              "      <th></th>\n",
              "      <th>Costa Rica</th>\n",
              "      <th>El Salvador</th>\n",
              "      <th>Guatemala</th>\n",
              "      <th>Honduras</th>\n",
              "      <th>Nicaragua</th>\n",
              "      <th>República Dominicana</th>\n",
              "      <th>Panamá</th>\n",
              "      <th>Argentina</th>\n",
              "    </tr>\n",
              "  </thead>\n",
              "  <tbody>\n",
              "    <tr>\n",
              "      <th>2021-Septiembre</th>\n",
              "      <td>NaN</td>\n",
              "      <td>NaN</td>\n",
              "      <td>NaN</td>\n",
              "      <td>NaN</td>\n",
              "      <td>NaN</td>\n",
              "      <td>180.96</td>\n",
              "      <td>NaN</td>\n",
              "      <td>NaN</td>\n",
              "    </tr>\n",
              "  </tbody>\n",
              "</table>\n",
              "</div>"
            ],
            "text/plain": [
              "                 Costa Rica  El Salvador  ...  Panamá  Argentina\n",
              "2021-Septiembre         NaN          NaN  ...     NaN        NaN\n",
              "\n",
              "[1 rows x 8 columns]"
            ]
          },
          "metadata": {},
          "execution_count": 8
        }
      ]
    },
    {
      "cell_type": "markdown",
      "metadata": {
        "id": "USJ5m_3XS6ji"
      },
      "source": [
        "### **Brasil**"
      ]
    },
    {
      "cell_type": "markdown",
      "metadata": {
        "id": "rhunUnSlLzy_"
      },
      "source": [
        "#### Publicaciones :\n",
        "1. 15 sept\n",
        "2. 15 Oct\n",
        "3. 16 Nov\n",
        "4. 15 Dic"
      ]
    },
    {
      "cell_type": "code",
      "metadata": {
        "id": "A6-HZYuyofz0",
        "colab": {
          "base_uri": "https://localhost:8080/",
          "height": 112
        },
        "outputId": "2610c3fc-9df3-4888-d8f5-fac7436b55e8"
      },
      "source": [
        "urljson = \"https://api.bcb.gov.br/dados/serie/bcdata.sgs.24363/dados?formato=json\"\n",
        "urllib2.urlretrieve(urljson, \"brasil.json\")\n",
        "bra = pd.read_json('brasil.json')\n",
        "bra.rename(columns={'valor':'Brasil'},inplace=True)\n",
        "\n",
        "bra['Brasil1'] = bra.Brasil.pct_change(12)*100 # calculo tasa de crecimiento\n",
        "bra['date'] = pd.to_datetime(bra['data'],format='%d/%m/%Y') # transformamos a formato fecha\n",
        "# Creamos indice\n",
        "bra['fecha'] = pd.DatetimeIndex(bra['date']).year.astype(str) +\"-\"+pd.DatetimeIndex(bra['date']).month.astype(str)\n",
        "\n",
        "nombre_mes = [meses[i][1] for i in pd.DatetimeIndex(bra['date']).month.tolist()] # obtenemos nombre del mes\n",
        "bra['fecha'] = pd.DatetimeIndex(bra['date']).year.astype(str) +\"-\"+ nombre_mes # creamos indice\n",
        "bra.set_index(bra.fecha,inplace=True) #reemplazamos indice\n",
        "\n",
        "imaela = pd.merge(imaeLA,bra['Brasil'],how='left',left_index=True,right_index=True) # combinamos la data\n",
        "bra.tail(1)"
      ],
      "execution_count": 9,
      "outputs": [
        {
          "output_type": "execute_result",
          "data": {
            "text/html": [
              "<div>\n",
              "<style scoped>\n",
              "    .dataframe tbody tr th:only-of-type {\n",
              "        vertical-align: middle;\n",
              "    }\n",
              "\n",
              "    .dataframe tbody tr th {\n",
              "        vertical-align: top;\n",
              "    }\n",
              "\n",
              "    .dataframe thead th {\n",
              "        text-align: right;\n",
              "    }\n",
              "</style>\n",
              "<table border=\"1\" class=\"dataframe\">\n",
              "  <thead>\n",
              "    <tr style=\"text-align: right;\">\n",
              "      <th></th>\n",
              "      <th>data</th>\n",
              "      <th>Brasil</th>\n",
              "      <th>Brasil1</th>\n",
              "      <th>date</th>\n",
              "      <th>fecha</th>\n",
              "    </tr>\n",
              "    <tr>\n",
              "      <th>fecha</th>\n",
              "      <th></th>\n",
              "      <th></th>\n",
              "      <th></th>\n",
              "      <th></th>\n",
              "      <th></th>\n",
              "    </tr>\n",
              "  </thead>\n",
              "  <tbody>\n",
              "    <tr>\n",
              "      <th>2021-Agosto</th>\n",
              "      <td>01/08/2021</td>\n",
              "      <td>141.93</td>\n",
              "      <td>4.737658</td>\n",
              "      <td>2021-08-01</td>\n",
              "      <td>2021-Agosto</td>\n",
              "    </tr>\n",
              "  </tbody>\n",
              "</table>\n",
              "</div>"
            ],
            "text/plain": [
              "                   data  Brasil   Brasil1       date        fecha\n",
              "fecha                                                            \n",
              "2021-Agosto  01/08/2021  141.93  4.737658 2021-08-01  2021-Agosto"
            ]
          },
          "metadata": {},
          "execution_count": 9
        }
      ]
    },
    {
      "cell_type": "code",
      "metadata": {
        "id": "F7wsu6q6H9Oa"
      },
      "source": [
        " #    imaela"
      ],
      "execution_count": 10,
      "outputs": []
    },
    {
      "cell_type": "markdown",
      "metadata": {
        "id": "YlZNkOc6pfVo"
      },
      "source": [
        "### **Mexico**"
      ]
    },
    {
      "cell_type": "markdown",
      "metadata": {
        "id": "gp44d33BJ8hJ"
      },
      "source": [
        "#### Publicaciones disponibles las fechas: \n",
        "1. 27 sept \n",
        "2. 25 Oct\n",
        "3. 25 Nov\n",
        "4. 24 Dic"
      ]
    },
    {
      "cell_type": "code",
      "metadata": {
        "id": "G9quLL-jpnVD"
      },
      "source": [
        "url = \"https://www.inegi.org.mx/contenidos/temas/economia/cn/igae/tabulados/ori/IGAE_1.xlsx\"\n",
        "urllib2.urlretrieve(url, \"test.xlsx\")\n",
        "mex = pd.read_excel('test.xlsx',header=3,nrows=3)\n",
        "mex = mex.T.reset_index(drop=True) # transponemos y estandarizamos el indice\n",
        "mex.drop(0,inplace=True) # borramos primera fila\n",
        "mex[2] = round(mex[2].astype(float),2) # leyendo tasas de crecimiento en el formato numerico y redondeando\n",
        "mex[0] = mex[0].ffill()"
      ],
      "execution_count": 11,
      "outputs": []
    },
    {
      "cell_type": "code",
      "metadata": {
        "id": "LJzHJQ0Pq7Kc",
        "colab": {
          "base_uri": "https://localhost:8080/",
          "height": 81
        },
        "outputId": "fbc87346-d5c6-45a1-967c-a0088f67fb3f"
      },
      "source": [
        "mex[1] = mex[1].replace(['oR','oP','lR','lP','eR','eP'],['o','o','l','l','e','e'], regex=True) #limpiar superindices \"Revisado\" \"Preliminar\"\n",
        "mex[0] = mex[0].replace('P','',regex=True) # limpiar preliminar de fecha\n",
        "mex.index = mex[0].astype('str') +\"-\"+ mex[1] #creamos indice para base de datos\n",
        "mex.columns = [*mex.columns[:-1], 'México'] # nombramos columna\n",
        "mex.dropna().tail(1) # mostrar ultimo valor no nulo"
      ],
      "execution_count": 12,
      "outputs": [
        {
          "output_type": "execute_result",
          "data": {
            "text/html": [
              "<div>\n",
              "<style scoped>\n",
              "    .dataframe tbody tr th:only-of-type {\n",
              "        vertical-align: middle;\n",
              "    }\n",
              "\n",
              "    .dataframe tbody tr th {\n",
              "        vertical-align: top;\n",
              "    }\n",
              "\n",
              "    .dataframe thead th {\n",
              "        text-align: right;\n",
              "    }\n",
              "</style>\n",
              "<table border=\"1\" class=\"dataframe\">\n",
              "  <thead>\n",
              "    <tr style=\"text-align: right;\">\n",
              "      <th></th>\n",
              "      <th>0</th>\n",
              "      <th>1</th>\n",
              "      <th>México</th>\n",
              "    </tr>\n",
              "  </thead>\n",
              "  <tbody>\n",
              "    <tr>\n",
              "      <th>2021-Agosto</th>\n",
              "      <td>2021</td>\n",
              "      <td>Agosto</td>\n",
              "      <td>107.05</td>\n",
              "    </tr>\n",
              "  </tbody>\n",
              "</table>\n",
              "</div>"
            ],
            "text/plain": [
              "                0       1  México\n",
              "2021-Agosto  2021  Agosto  107.05"
            ]
          },
          "metadata": {},
          "execution_count": 12
        }
      ]
    },
    {
      "cell_type": "code",
      "metadata": {
        "id": "QIx6594i6eEt"
      },
      "source": [
        "imaela = round(pd.merge(imaela,mex['México'],how='left',left_index=True,right_index=True),2) # combinamos las series"
      ],
      "execution_count": 13,
      "outputs": []
    },
    {
      "cell_type": "code",
      "metadata": {
        "id": "I8pV0b3HUrjM",
        "colab": {
          "base_uri": "https://localhost:8080/",
          "height": 708
        },
        "outputId": "84c8abc9-4993-41e0-8062-221304cd1c4e"
      },
      "source": [
        "imaela"
      ],
      "execution_count": 14,
      "outputs": [
        {
          "output_type": "execute_result",
          "data": {
            "text/html": [
              "<div>\n",
              "<style scoped>\n",
              "    .dataframe tbody tr th:only-of-type {\n",
              "        vertical-align: middle;\n",
              "    }\n",
              "\n",
              "    .dataframe tbody tr th {\n",
              "        vertical-align: top;\n",
              "    }\n",
              "\n",
              "    .dataframe thead th {\n",
              "        text-align: right;\n",
              "    }\n",
              "</style>\n",
              "<table border=\"1\" class=\"dataframe\">\n",
              "  <thead>\n",
              "    <tr style=\"text-align: right;\">\n",
              "      <th></th>\n",
              "      <th>Costa Rica</th>\n",
              "      <th>El Salvador</th>\n",
              "      <th>Guatemala</th>\n",
              "      <th>Honduras</th>\n",
              "      <th>Nicaragua</th>\n",
              "      <th>República Dominicana</th>\n",
              "      <th>Panamá</th>\n",
              "      <th>Argentina</th>\n",
              "      <th>Brasil</th>\n",
              "      <th>México</th>\n",
              "    </tr>\n",
              "  </thead>\n",
              "  <tbody>\n",
              "    <tr>\n",
              "      <th>2020-Enero</th>\n",
              "      <td>104.14</td>\n",
              "      <td>110.80</td>\n",
              "      <td>127.40</td>\n",
              "      <td>243.14</td>\n",
              "      <td>152.88</td>\n",
              "      <td>179.04</td>\n",
              "      <td>345.73</td>\n",
              "      <td>132.28</td>\n",
              "      <td>133.72</td>\n",
              "      <td>111.90</td>\n",
              "    </tr>\n",
              "    <tr>\n",
              "      <th>2020-Febrero</th>\n",
              "      <td>105.17</td>\n",
              "      <td>110.06</td>\n",
              "      <td>125.54</td>\n",
              "      <td>242.59</td>\n",
              "      <td>144.12</td>\n",
              "      <td>183.24</td>\n",
              "      <td>338.73</td>\n",
              "      <td>129.75</td>\n",
              "      <td>134.77</td>\n",
              "      <td>108.32</td>\n",
              "    </tr>\n",
              "    <tr>\n",
              "      <th>2020-Marzo</th>\n",
              "      <td>103.55</td>\n",
              "      <td>105.56</td>\n",
              "      <td>121.36</td>\n",
              "      <td>218.14</td>\n",
              "      <td>140.05</td>\n",
              "      <td>165.67</td>\n",
              "      <td>364.78</td>\n",
              "      <td>129.10</td>\n",
              "      <td>136.84</td>\n",
              "      <td>109.83</td>\n",
              "    </tr>\n",
              "    <tr>\n",
              "      <th>2020-Abril</th>\n",
              "      <td>90.88</td>\n",
              "      <td>88.28</td>\n",
              "      <td>112.77</td>\n",
              "      <td>186.13</td>\n",
              "      <td>124.67</td>\n",
              "      <td>125.35</td>\n",
              "      <td>247.19</td>\n",
              "      <td>111.90</td>\n",
              "      <td>119.25</td>\n",
              "      <td>87.89</td>\n",
              "    </tr>\n",
              "    <tr>\n",
              "      <th>2020-Mayo</th>\n",
              "      <td>93.10</td>\n",
              "      <td>89.88</td>\n",
              "      <td>111.25</td>\n",
              "      <td>188.45</td>\n",
              "      <td>133.85</td>\n",
              "      <td>158.43</td>\n",
              "      <td>228.30</td>\n",
              "      <td>131.29</td>\n",
              "      <td>119.91</td>\n",
              "      <td>89.31</td>\n",
              "    </tr>\n",
              "    <tr>\n",
              "      <th>2020-Junio</th>\n",
              "      <td>97.04</td>\n",
              "      <td>96.97</td>\n",
              "      <td>111.06</td>\n",
              "      <td>208.19</td>\n",
              "      <td>128.81</td>\n",
              "      <td>160.89</td>\n",
              "      <td>243.01</td>\n",
              "      <td>133.30</td>\n",
              "      <td>126.29</td>\n",
              "      <td>97.82</td>\n",
              "    </tr>\n",
              "    <tr>\n",
              "      <th>2020-Julio</th>\n",
              "      <td>92.92</td>\n",
              "      <td>96.05</td>\n",
              "      <td>117.42</td>\n",
              "      <td>208.83</td>\n",
              "      <td>147.58</td>\n",
              "      <td>162.35</td>\n",
              "      <td>241.95</td>\n",
              "      <td>128.19</td>\n",
              "      <td>135.84</td>\n",
              "      <td>101.96</td>\n",
              "    </tr>\n",
              "    <tr>\n",
              "      <th>2020-Agosto</th>\n",
              "      <td>93.36</td>\n",
              "      <td>102.57</td>\n",
              "      <td>120.25</td>\n",
              "      <td>225.70</td>\n",
              "      <td>138.50</td>\n",
              "      <td>169.07</td>\n",
              "      <td>251.35</td>\n",
              "      <td>125.17</td>\n",
              "      <td>135.51</td>\n",
              "      <td>102.65</td>\n",
              "    </tr>\n",
              "    <tr>\n",
              "      <th>2020-Septiembre</th>\n",
              "      <td>98.15</td>\n",
              "      <td>106.44</td>\n",
              "      <td>121.45</td>\n",
              "      <td>230.41</td>\n",
              "      <td>139.98</td>\n",
              "      <td>163.68</td>\n",
              "      <td>268.97</td>\n",
              "      <td>126.60</td>\n",
              "      <td>137.12</td>\n",
              "      <td>102.92</td>\n",
              "    </tr>\n",
              "    <tr>\n",
              "      <th>2020-Octubre</th>\n",
              "      <td>102.10</td>\n",
              "      <td>106.64</td>\n",
              "      <td>125.72</td>\n",
              "      <td>249.61</td>\n",
              "      <td>148.48</td>\n",
              "      <td>175.09</td>\n",
              "      <td>312.12</td>\n",
              "      <td>131.73</td>\n",
              "      <td>139.74</td>\n",
              "      <td>109.17</td>\n",
              "    </tr>\n",
              "    <tr>\n",
              "      <th>2020-Noviembre</th>\n",
              "      <td>105.13</td>\n",
              "      <td>111.85</td>\n",
              "      <td>128.86</td>\n",
              "      <td>219.03</td>\n",
              "      <td>148.75</td>\n",
              "      <td>181.13</td>\n",
              "      <td>300.21</td>\n",
              "      <td>132.97</td>\n",
              "      <td>138.11</td>\n",
              "      <td>111.16</td>\n",
              "    </tr>\n",
              "    <tr>\n",
              "      <th>2020-Diciembre</th>\n",
              "      <td>110.96</td>\n",
              "      <td>122.29</td>\n",
              "      <td>136.24</td>\n",
              "      <td>257.90</td>\n",
              "      <td>167.28</td>\n",
              "      <td>192.02</td>\n",
              "      <td>316.10</td>\n",
              "      <td>132.42</td>\n",
              "      <td>139.41</td>\n",
              "      <td>110.06</td>\n",
              "    </tr>\n",
              "    <tr>\n",
              "      <th>2021-Enero</th>\n",
              "      <td>97.39</td>\n",
              "      <td>109.01</td>\n",
              "      <td>129.22</td>\n",
              "      <td>228.85</td>\n",
              "      <td>154.77</td>\n",
              "      <td>175.80</td>\n",
              "      <td>292.10</td>\n",
              "      <td>129.49</td>\n",
              "      <td>132.02</td>\n",
              "      <td>105.70</td>\n",
              "    </tr>\n",
              "    <tr>\n",
              "      <th>2021-Febrero</th>\n",
              "      <td>99.78</td>\n",
              "      <td>108.76</td>\n",
              "      <td>128.60</td>\n",
              "      <td>235.09</td>\n",
              "      <td>147.43</td>\n",
              "      <td>185.25</td>\n",
              "      <td>305.62</td>\n",
              "      <td>126.69</td>\n",
              "      <td>134.78</td>\n",
              "      <td>102.80</td>\n",
              "    </tr>\n",
              "    <tr>\n",
              "      <th>2021-Marzo</th>\n",
              "      <td>107.30</td>\n",
              "      <td>114.72</td>\n",
              "      <td>133.50</td>\n",
              "      <td>247.63</td>\n",
              "      <td>151.35</td>\n",
              "      <td>183.30</td>\n",
              "      <td>342.93</td>\n",
              "      <td>146.29</td>\n",
              "      <td>144.03</td>\n",
              "      <td>110.75</td>\n",
              "    </tr>\n",
              "    <tr>\n",
              "      <th>2021-Abril</th>\n",
              "      <td>102.34</td>\n",
              "      <td>110.69</td>\n",
              "      <td>129.98</td>\n",
              "      <td>236.22</td>\n",
              "      <td>144.23</td>\n",
              "      <td>184.40</td>\n",
              "      <td>304.00</td>\n",
              "      <td>144.94</td>\n",
              "      <td>138.81</td>\n",
              "      <td>107.52</td>\n",
              "    </tr>\n",
              "    <tr>\n",
              "      <th>2021-Mayo</th>\n",
              "      <td>105.35</td>\n",
              "      <td>114.65</td>\n",
              "      <td>129.30</td>\n",
              "      <td>244.37</td>\n",
              "      <td>156.14</td>\n",
              "      <td>192.09</td>\n",
              "      <td>329.26</td>\n",
              "      <td>150.19</td>\n",
              "      <td>136.76</td>\n",
              "      <td>111.75</td>\n",
              "    </tr>\n",
              "    <tr>\n",
              "      <th>2021-Junio</th>\n",
              "      <td>105.73</td>\n",
              "      <td>114.41</td>\n",
              "      <td>126.27</td>\n",
              "      <td>249.88</td>\n",
              "      <td>151.74</td>\n",
              "      <td>181.33</td>\n",
              "      <td>322.67</td>\n",
              "      <td>148.85</td>\n",
              "      <td>137.39</td>\n",
              "      <td>110.79</td>\n",
              "    </tr>\n",
              "    <tr>\n",
              "      <th>2021-Julio</th>\n",
              "      <td>108.06</td>\n",
              "      <td>109.65</td>\n",
              "      <td>130.66</td>\n",
              "      <td>241.66</td>\n",
              "      <td>160.30</td>\n",
              "      <td>181.96</td>\n",
              "      <td>328.86</td>\n",
              "      <td>143.29</td>\n",
              "      <td>143.23</td>\n",
              "      <td>109.24</td>\n",
              "    </tr>\n",
              "    <tr>\n",
              "      <th>2021-Agosto</th>\n",
              "      <td>105.63</td>\n",
              "      <td>NaN</td>\n",
              "      <td>129.34</td>\n",
              "      <td>255.65</td>\n",
              "      <td>151.16</td>\n",
              "      <td>188.83</td>\n",
              "      <td>317.68</td>\n",
              "      <td>141.22</td>\n",
              "      <td>141.93</td>\n",
              "      <td>107.05</td>\n",
              "    </tr>\n",
              "    <tr>\n",
              "      <th>2021-Septiembre</th>\n",
              "      <td>NaN</td>\n",
              "      <td>NaN</td>\n",
              "      <td>NaN</td>\n",
              "      <td>NaN</td>\n",
              "      <td>NaN</td>\n",
              "      <td>180.96</td>\n",
              "      <td>NaN</td>\n",
              "      <td>NaN</td>\n",
              "      <td>NaN</td>\n",
              "      <td>NaN</td>\n",
              "    </tr>\n",
              "  </tbody>\n",
              "</table>\n",
              "</div>"
            ],
            "text/plain": [
              "                 Costa Rica  El Salvador  Guatemala  ...  Argentina  Brasil  México\n",
              "2020-Enero           104.14       110.80     127.40  ...     132.28  133.72  111.90\n",
              "2020-Febrero         105.17       110.06     125.54  ...     129.75  134.77  108.32\n",
              "2020-Marzo           103.55       105.56     121.36  ...     129.10  136.84  109.83\n",
              "2020-Abril            90.88        88.28     112.77  ...     111.90  119.25   87.89\n",
              "2020-Mayo             93.10        89.88     111.25  ...     131.29  119.91   89.31\n",
              "2020-Junio            97.04        96.97     111.06  ...     133.30  126.29   97.82\n",
              "2020-Julio            92.92        96.05     117.42  ...     128.19  135.84  101.96\n",
              "2020-Agosto           93.36       102.57     120.25  ...     125.17  135.51  102.65\n",
              "2020-Septiembre       98.15       106.44     121.45  ...     126.60  137.12  102.92\n",
              "2020-Octubre         102.10       106.64     125.72  ...     131.73  139.74  109.17\n",
              "2020-Noviembre       105.13       111.85     128.86  ...     132.97  138.11  111.16\n",
              "2020-Diciembre       110.96       122.29     136.24  ...     132.42  139.41  110.06\n",
              "2021-Enero            97.39       109.01     129.22  ...     129.49  132.02  105.70\n",
              "2021-Febrero          99.78       108.76     128.60  ...     126.69  134.78  102.80\n",
              "2021-Marzo           107.30       114.72     133.50  ...     146.29  144.03  110.75\n",
              "2021-Abril           102.34       110.69     129.98  ...     144.94  138.81  107.52\n",
              "2021-Mayo            105.35       114.65     129.30  ...     150.19  136.76  111.75\n",
              "2021-Junio           105.73       114.41     126.27  ...     148.85  137.39  110.79\n",
              "2021-Julio           108.06       109.65     130.66  ...     143.29  143.23  109.24\n",
              "2021-Agosto          105.63          NaN     129.34  ...     141.22  141.93  107.05\n",
              "2021-Septiembre         NaN          NaN        NaN  ...        NaN     NaN     NaN\n",
              "\n",
              "[21 rows x 10 columns]"
            ]
          },
          "metadata": {},
          "execution_count": 14
        }
      ]
    },
    {
      "cell_type": "code",
      "metadata": {
        "id": "2XyzaBWtpn_0"
      },
      "source": [
        "## link excel\n",
        "#https://www.inegi.org.mx/contenidos/temas/economia/cn/igae/tabulados/ori/IGAE_1.xlsx       indice\n",
        "\n",
        "#https://www.inegi.org.mx/contenidos/temas/economia/cn/igae/tabulados/ori/IGAE_2.xlsx       crecimiento"
      ],
      "execution_count": 15,
      "outputs": []
    },
    {
      "cell_type": "markdown",
      "metadata": {
        "id": "av3nykGIzFj-"
      },
      "source": [
        "### **Perú**"
      ]
    },
    {
      "cell_type": "markdown",
      "metadata": {
        "id": "Zxz5C9hXDTEC"
      },
      "source": [
        "#### Publicaciones disponibles a fecha:\n",
        " \n",
        "2. 21 Oct\n",
        "3. 18 Nov\n",
        "4. "
      ]
    },
    {
      "cell_type": "code",
      "metadata": {
        "id": "Ztmnin9LzGhP"
      },
      "source": [
        "url = 'https://www.inei.gob.pe/media/principales_indicadores/CalculoPBI_98.zip' #cambio de 97 a 98 (jul ago)"
      ],
      "execution_count": 16,
      "outputs": []
    },
    {
      "cell_type": "code",
      "metadata": {
        "id": "fR9o9g9hzGpQ"
      },
      "source": [
        "zip, _ = urllib2.urlretrieve(url)\n",
        "with zipfile.ZipFile(zip, \"r\") as f:\n",
        "    f.extractall('/content')"
      ],
      "execution_count": 17,
      "outputs": []
    },
    {
      "cell_type": "code",
      "metadata": {
        "id": "NoK6gcMRzGvt"
      },
      "source": [
        "indicador = [f.namelist()[i] for i in range(len(f.namelist())) if 'Indicador Mensual' in f.namelist()[i]][0] # el 0 es para que elija el string de la lista\n",
        "df = pd.read_excel(indicador,sheet_name=1,header=3)[1:] # el indice esta en la segunda hoja del excel"
      ],
      "execution_count": 18,
      "outputs": []
    },
    {
      "cell_type": "code",
      "metadata": {
        "colab": {
          "base_uri": "https://localhost:8080/",
          "height": 0
        },
        "id": "XAf-5TNTFX7g",
        "outputId": "5b3839ea-d81f-499c-9d2c-992f6843dadd"
      },
      "source": [
        "indicador"
      ],
      "execution_count": 19,
      "outputs": [
        {
          "output_type": "execute_result",
          "data": {
            "application/vnd.google.colaboratory.intrinsic+json": {
              "type": "string"
            },
            "text/plain": [
              "'Indicador Mensual de la Producción Nacional 08 2021 r.xlsx'"
            ]
          },
          "metadata": {},
          "execution_count": 19
        }
      ]
    },
    {
      "cell_type": "code",
      "metadata": {
        "id": "Db-wpEmd1M4i"
      },
      "source": [
        "pe = round(df.filter(like='Índice Global'),2)   # regex='spike|spke' se puede usar regex para en caso de que escriban las columnas mal\n",
        "pe['YM'] = df['Año y Mes'].astype(int).astype(str)\n",
        "\n",
        "#  IG.1 Mensual   IG.2 Acumulado  IG.3 Anual\n",
        "pe['fecha'] =  pe['YM'].str[0:4] +'-'+ pe['YM'].str[4:7].astype(int).map(meses_dict)  # fecha\n",
        "pe.set_index('fecha',inplace=True)\n",
        "\n",
        "pe.rename(columns={pe.columns[0]:'Perú',pe.columns[1]:'Perú_i',pe.columns[2]:'Perú_a'},inplace=True)"
      ],
      "execution_count": 20,
      "outputs": []
    },
    {
      "cell_type": "code",
      "metadata": {
        "id": "T5rh--_j38St"
      },
      "source": [
        "imaela = imaela.merge(pe['Perú'],how='left',left_index=True,right_index=True)"
      ],
      "execution_count": 21,
      "outputs": []
    },
    {
      "cell_type": "markdown",
      "metadata": {
        "id": "A2MSTFg45f_H"
      },
      "source": [
        "### **Chile**"
      ]
    },
    {
      "cell_type": "markdown",
      "metadata": {
        "id": "hqlvksKyKnZL"
      },
      "source": [
        "#### Publicaciones disponibles las fechas:\n",
        " \n",
        "2. 1 Oct  - Agosto\n",
        "3. 2 Nov  - Septiembre\n",
        "4. 1 Dic - Noviembre"
      ]
    },
    {
      "cell_type": "code",
      "metadata": {
        "id": "bKL_VCs35h82"
      },
      "source": [
        "url = \"https://si3.bcentral.cl/estadisticas/Principal1/excel/CCNN/IMACEC/Excel/IMACEC.xlsx\"\n",
        "urllib2.urlretrieve(url, \"chile.xlsx\")\n",
        "df = pd.read_excel('chile.xlsx',header=5,keep_default_na=False)"
      ],
      "execution_count": 22,
      "outputs": []
    },
    {
      "cell_type": "code",
      "metadata": {
        "id": "Gv8NAd-xcUEZ",
        "colab": {
          "base_uri": "https://localhost:8080/",
          "height": 81
        },
        "outputId": "38ef292e-5b57-4c00-803e-101a5ea4e15c"
      },
      "source": [
        "chile = df.loc[1:,[df.columns[0],df.columns[1],'Imacec']][:-10] # excluimos las ultimas 10 filas (pie de pagina)\n",
        "chile.rename(columns = {'Imacec':'Chile'}, inplace = True) # renombramos\n",
        "chile['Chile1'] = pd.to_numeric(chile.Chile).pct_change(12)*100\n",
        "###\n",
        "chile[chile.columns[0]] = pd.to_numeric(chile[chile.columns[0]], errors='coerce').ffill().bfill().astype(int)\n",
        " # las columnas del excel contienen string en blanco por lo que se transformaron a numero antes de hacer el forward fill\n",
        " # el backward fill es para asegurar que no quede NaN por detras y dificulte la creacion del indice\n",
        "###\n",
        "\n",
        "chile['mes'] = chile[chile.columns[1]].map(mes3).bfill() # creando mes y usando el bfill por el mismo motivo explicado arriba\n",
        "\n",
        "#Creamos el indice\n",
        "chile.index = chile[chile.columns[0]].astype('str') +\"-\"+ chile.mes\n",
        "\n",
        "chile.tail(1)"
      ],
      "execution_count": 23,
      "outputs": [
        {
          "output_type": "execute_result",
          "data": {
            "text/html": [
              "<div>\n",
              "<style scoped>\n",
              "    .dataframe tbody tr th:only-of-type {\n",
              "        vertical-align: middle;\n",
              "    }\n",
              "\n",
              "    .dataframe tbody tr th {\n",
              "        vertical-align: top;\n",
              "    }\n",
              "\n",
              "    .dataframe thead th {\n",
              "        text-align: right;\n",
              "    }\n",
              "</style>\n",
              "<table border=\"1\" class=\"dataframe\">\n",
              "  <thead>\n",
              "    <tr style=\"text-align: right;\">\n",
              "      <th></th>\n",
              "      <th></th>\n",
              "      <th>Unnamed: 1</th>\n",
              "      <th>Chile</th>\n",
              "      <th>Chile1</th>\n",
              "      <th>mes</th>\n",
              "    </tr>\n",
              "  </thead>\n",
              "  <tbody>\n",
              "    <tr>\n",
              "      <th>2021-Agosto</th>\n",
              "      <td>2021</td>\n",
              "      <td>ago</td>\n",
              "      <td>120.345</td>\n",
              "      <td>19.075623</td>\n",
              "      <td>Agosto</td>\n",
              "    </tr>\n",
              "  </tbody>\n",
              "</table>\n",
              "</div>"
            ],
            "text/plain": [
              "                  Unnamed: 1    Chile     Chile1     mes\n",
              "2021-Agosto  2021        ago  120.345  19.075623  Agosto"
            ]
          },
          "metadata": {},
          "execution_count": 23
        }
      ]
    },
    {
      "cell_type": "code",
      "metadata": {
        "colab": {
          "base_uri": "https://localhost:8080/"
        },
        "id": "Imhrlm8mSnTJ",
        "outputId": "160e228b-f9ab-41a1-e1a2-b5a5ac344a8e"
      },
      "source": [
        " pd.to_numeric(chile[chile.columns[0]], errors='coerce')"
      ],
      "execution_count": 24,
      "outputs": [
        {
          "output_type": "execute_result",
          "data": {
            "text/plain": [
              "2013-Enero     2013\n",
              "2014-Enero     2014\n",
              "2015-Enero     2015\n",
              "2016-Enero     2016\n",
              "2017-Enero     2017\n",
              "               ... \n",
              "2021-Abril     2021\n",
              "2021-Mayo      2021\n",
              "2021-Junio     2021\n",
              "2021-Julio     2021\n",
              "2021-Agosto    2021\n",
              "Name:  , Length: 113, dtype: int64"
            ]
          },
          "metadata": {},
          "execution_count": 24
        }
      ]
    },
    {
      "cell_type": "code",
      "metadata": {
        "id": "euH3hfbWtab4"
      },
      "source": [
        "imaelatam = round(imaela.merge(chile['Chile'],how='left',left_index=True,right_index=True),2)\n",
        "imaelatam = imaelatam[~imaelatam.index.duplicated(keep='last')].reindex(imaela.index) # hay duplicados, los eliminamos y reindexamos"
      ],
      "execution_count": 25,
      "outputs": []
    },
    {
      "cell_type": "code",
      "metadata": {
        "id": "6kQyvbAHrg2D"
      },
      "source": [
        "#  imaelatam"
      ],
      "execution_count": 26,
      "outputs": []
    },
    {
      "cell_type": "markdown",
      "metadata": {
        "id": "rSOwOPisI0mw"
      },
      "source": [
        "### **Ecuador**"
      ]
    },
    {
      "cell_type": "markdown",
      "metadata": {
        "id": "GqkkMgL4LIwV"
      },
      "source": [
        "#### Publicaciones disponibles las fechas: \n",
        "1. 14 sept    -    Julio\n",
        "2. 13 Oct    -     Agosto\n",
        "3. 15 Nov    -     Sep\n",
        "4. 24 Dic    -     Oct"
      ]
    },
    {
      "cell_type": "code",
      "metadata": {
        "id": "sscszb2Zd1gv"
      },
      "source": [
        "url = \"https://contenido.bce.fin.ec/documentos/PublicacionesNotas/Catalogo/IEMensual/Adelantos/IEM-452-e.xlsx\"\n",
        "urllib2.urlretrieve(url, \"Ecuador.xlsx\")\n",
        "df = pd.read_excel('Ecuador.xlsx',header=7,keep_default_na=False)[1:13].reset_index()\n",
        "\n",
        "ecu = (df.set_index(['Unnamed: 0','index'])\n",
        ".stack()\n",
        ".reset_index()\n",
        ".rename(columns={'Unnamed: 0':'mes','level_2':'Year'})).sort_values(['Year','index']) # ingenieria de base de datos\n",
        "\n",
        "# Elaboracion de indice\n",
        "ecu['Mes'] = ecu.mes.str.lower().map(mes3)\n",
        "ecu.insert(3, 'fecha', ecu.Year.astype(str) + '-' + ecu.Mes)\n",
        "ecu.index = ecu.fecha\n",
        "\n",
        "# Variacion interanual\n",
        "ecu.rename(columns={0:'Ecuador'},inplace=True)\n",
        "ecu['Ecuador1'] = pd.to_numeric(ecu['Ecuador'],errors='coerce').pct_change(12)*100"
      ],
      "execution_count": 27,
      "outputs": []
    },
    {
      "cell_type": "code",
      "metadata": {
        "id": "ok4gz6V3nbeh"
      },
      "source": [
        "imaela = round(pd.merge(imaelatam,ecu['Ecuador'],how='left',left_index=True,right_index=True),2)"
      ],
      "execution_count": 28,
      "outputs": []
    },
    {
      "cell_type": "code",
      "metadata": {
        "id": "rjP6l55-S_KT"
      },
      "source": [
        "#   imaela"
      ],
      "execution_count": 29,
      "outputs": []
    },
    {
      "cell_type": "markdown",
      "metadata": {
        "id": "wrBNeqzd4se-"
      },
      "source": [
        "df = np.array(tb.read_pdf('ecuador.pdf',pages = '5',stream=True,multiple_tables=True,pandas_options={'header':None}))\n",
        "dff = pd.DataFrame(df.reshape(-1,5)) # en 2022 el reshape debe ser (-1,6)"
      ]
    },
    {
      "cell_type": "markdown",
      "metadata": {
        "id": "DYqsQgFR-FOz"
      },
      "source": [
        "dff[dff.iloc[3,2].split(' ')] = dff[2].str.split(' ',expand=True)\n",
        "if dff.iloc[3,3] in range(2020,2040,1):\n",
        "  dff[int(dff.iloc[3,3])] = dff[3]\n",
        "  dff[int(dff.iloc[3,4])] = dff[4]\n",
        "else:\n",
        "  dff[int(dff.iloc[3,4])] = dff[4]"
      ]
    },
    {
      "cell_type": "markdown",
      "metadata": {
        "id": "nOgS6gZj_kOg"
      },
      "source": [
        "if dff.iloc[18,0] in ['Ene']:\n",
        "    ecu = dff.iloc[18:30,[0,-3,-2,-1]].reset_index(drop=True)\n",
        "else:\n",
        "    ecu = dff.iloc[19:31,[0,-3,-2,-1]].reset_index(drop=True)\n",
        " \n",
        "ecu['interanualAnterior'] = ecu.iloc[:,-2].astype(float)/ecu.iloc[:,-3].astype(float)*100-100\n",
        "ecu['Ecuador'] = ecu.iloc[:,-2].astype(float)/ecu.iloc[:,-3].astype(float)*100-100\n",
        "\n",
        "listames = [meses[1:][i][1] for i in range(len(meses[1:]))]\n",
        "ecu['mes'] = listames\n",
        "\n",
        "ecu.index = str(ecu.columns[-4]) + '-' + ecu.mes\n",
        "ecu.dropna().tail(1)"
      ]
    },
    {
      "cell_type": "markdown",
      "metadata": {
        "id": "1UD90WE2qzru"
      },
      "source": [
        "### **Colombia**"
      ]
    },
    {
      "cell_type": "markdown",
      "metadata": {
        "id": "wrivlZivMI7U"
      },
      "source": [
        "#### Publicaciones disponibles las fechas: \n",
        "1. 17 sept    -    Julio\n",
        "2. 19 Oct    -     Agosto\n",
        "3. 16 Nov    -     Sep\n",
        "4. 17 Dic    -     Oct"
      ]
    },
    {
      "cell_type": "code",
      "metadata": {
        "id": "QKed7ixdCClu"
      },
      "source": [
        "url = 'https://www.dane.gov.co/index.php/estadisticas-por-tema/cuentas-nacionales/indicador-de-seguimiento-a-la-economia-ise/historicos-ise-comunicados-y-boletines'\n",
        "url1 = 'https://www.dane.gov.co/index.php/estadisticas-por-tema/cuentas-nacionales/indicador-de-seguimiento-a-la-economia-ise'\n",
        "header= {'User-Agent': 'Mozilla/5.0 (X11; Linux x86_64) ' \n",
        "      'AppleWebKit/537.11 (KHTML, like Gecko) '\n",
        "      'Chrome/23.0.1271.64 Safari/537.11',\n",
        "      'Accept': 'text/html,application/xhtml+xml,application/xml;q=0.9,*/*;q=0.8',\n",
        "      'Accept-Charset': 'ISO-8859-1,utf-8;q=0.7,*;q=0.3',\n",
        "      'Accept-Encoding': 'none',\n",
        "      'Accept-Language': 'en-US,en;q=0.8',\n",
        "      'Connection': 'keep-alive'}\n",
        "\n",
        "req = urllib2.Request(url=url1, headers=header) \n",
        "page = urllib2.urlopen(req).read()\n"
      ],
      "execution_count": 9,
      "outputs": []
    },
    {
      "cell_type": "code",
      "metadata": {
        "id": "BNLB2HxECCtl",
        "colab": {
          "base_uri": "https://localhost:8080/"
        },
        "outputId": "bd215e1f-8965-4995-e3ce-e6108bdab7dd"
      },
      "source": [
        "soupco = BeautifulSoup(page,'lxml')\n",
        "links = [a['href'] for a in soupco.select(\"a[href*=21.xlsx]\")] # extraemos links que contengan 21.xlsx \n",
        " # ultimos link disponibles\n",
        "links"
      ],
      "execution_count": 31,
      "outputs": [
        {
          "output_type": "execute_result",
          "data": {
            "text/plain": [
              "['/files/investigaciones/boletines/pib/Anex_ISE_9actividades_ago_21.xlsx',\n",
              " '/files/investigaciones/boletines/pib/Anex_ISE_12_actividades_II_trimestre_21.xlsx']"
            ]
          },
          "metadata": {},
          "execution_count": 31
        }
      ]
    },
    {
      "cell_type": "code",
      "metadata": {
        "id": "wbDtMlN5EnsO",
        "colab": {
          "base_uri": "https://localhost:8080/",
          "height": 81
        },
        "outputId": "8b86638e-f215-43df-901f-27984178bd18"
      },
      "source": [
        "url2 = 'https://www.dane.gov.co' + links[0] # si esta el nuevo mes restarle 1 al indice de links\n",
        "urllib2.urlretrieve(url2, \"colombia.xlsx\")\n",
        "df = pd.read_excel('colombia.xlsx',sheet_name='Cuadro 1',header=9)[0:16].T\n",
        "df.columns = df.iloc[0]\n",
        "df = df.iloc[:,[0,1,-1]].reset_index(drop=True)[1:]\n",
        "df.tail(1)"
      ],
      "execution_count": 32,
      "outputs": [
        {
          "output_type": "execute_result",
          "data": {
            "text/html": [
              "<div>\n",
              "<style scoped>\n",
              "    .dataframe tbody tr th:only-of-type {\n",
              "        vertical-align: middle;\n",
              "    }\n",
              "\n",
              "    .dataframe tbody tr th {\n",
              "        vertical-align: top;\n",
              "    }\n",
              "\n",
              "    .dataframe thead th {\n",
              "        text-align: right;\n",
              "    }\n",
              "</style>\n",
              "<table border=\"1\" class=\"dataframe\">\n",
              "  <thead>\n",
              "    <tr style=\"text-align: right;\">\n",
              "      <th>Unnamed: 0</th>\n",
              "      <th>Concepto</th>\n",
              "      <th>NaN</th>\n",
              "      <th>Indicador de Seguimiento a la Economía</th>\n",
              "    </tr>\n",
              "  </thead>\n",
              "  <tbody>\n",
              "    <tr>\n",
              "      <th>200</th>\n",
              "      <td>NaN</td>\n",
              "      <td>Agosto</td>\n",
              "      <td>114.935</td>\n",
              "    </tr>\n",
              "  </tbody>\n",
              "</table>\n",
              "</div>"
            ],
            "text/plain": [
              "Unnamed: 0 Concepto     NaN Indicador de Seguimiento a la Economía\n",
              "200             NaN  Agosto                                114.935"
            ]
          },
          "metadata": {},
          "execution_count": 32
        }
      ]
    },
    {
      "cell_type": "code",
      "metadata": {
        "id": "akDz1zRARQPg"
      },
      "source": [
        "df['ano'] = df.Concepto.ffill().astype(str).str.replace('pr','').str.replace('p','')\n",
        "df['Colombia'] = round(pd.to_numeric(df.loc[:,df.columns[-2]]),2)\n",
        "df.index = df.ano.astype(str) + '-' + df.iloc[:,1].astype(str) "
      ],
      "execution_count": 33,
      "outputs": []
    },
    {
      "cell_type": "code",
      "metadata": {
        "id": "mOvRCtr1SP3H"
      },
      "source": [
        "imaela = imaela.merge(df['Colombia'],how='left',left_index=True,right_index=True)"
      ],
      "execution_count": 34,
      "outputs": []
    },
    {
      "cell_type": "markdown",
      "metadata": {
        "id": "VKQm4sO8CBgy"
      },
      "source": [
        "##### PDF"
      ]
    },
    {
      "cell_type": "markdown",
      "metadata": {
        "id": "NCAIe-IytrnA"
      },
      "source": [
        "df = np.array(tb.read_pdf('colombia.pdf',pages = '17',stream=True,multiple_tables=True,pandas_options={'header':None}))\n",
        "dco = pd.DataFrame(df.reshape(-1,4))\n",
        "dco = dco.loc[:,0:2]\n",
        "dco.tail(1)"
      ]
    },
    {
      "cell_type": "markdown",
      "metadata": {
        "id": "oIjcg_Hy3mLe"
      },
      "source": [
        "dco[3] = dco[2].str.split(' ',expand=True)[0] # Tomando las tasas de crecimiento de la tabla pdf\n",
        "dco.rename(columns={1:'Colombia'},inplace=True)\n",
        "dco['Colombia1'] = pd.to_numeric(dco[3].str.replace(',','.'),errors='coerce')  #Convirtiendo la data a numero\n",
        "dco['Colombia'] = pd.to_numeric(dco['Colombia'].str.replace(',','.'),errors='coerce')"
      ]
    },
    {
      "cell_type": "markdown",
      "metadata": {
        "id": "1Za65saE00xD"
      },
      "source": [
        "split = dco[0].str.split(' - ')     # extraer mes \n",
        "fech = []\n",
        "for i in range(len(split)):\n",
        "  if type(split[i]) == float:\n",
        "    fech.append('0')\n",
        "  elif len(split[i]) == 1 :\n",
        "    fech.append(str(split[i][0]))\n",
        "  else:\n",
        "    fech.append(str(split[i][1].capitalize()))"
      ]
    },
    {
      "cell_type": "markdown",
      "metadata": {
        "id": "7sx55Q3v7F_L"
      },
      "source": [
        "anof=[]                          # extraer año\n",
        "for i in range(len(split)):\n",
        "  if type(split[i]) == float:\n",
        "    anof.append('0')\n",
        "  elif len(split[i]) > 1 :\n",
        "    anof.append(str(split[i][0]))\n",
        "  else:\n",
        "    anof.append(np.nan)"
      ]
    },
    {
      "cell_type": "markdown",
      "metadata": {
        "id": "E0FtIhm29EdE"
      },
      "source": [
        "dco['mes'] = fech\n",
        "dco['ano'] = anof\n",
        "dco['ano'] = dco.ano.replace(['p','r',' '],['','',''],regex=True).ffill()\n",
        "dco.index = dco['ano'] + '-' + dco['mes'] # creamos indice"
      ]
    },
    {
      "cell_type": "markdown",
      "metadata": {
        "id": "SUl_ygsCnMPA"
      },
      "source": [
        "### **Bolivia**"
      ]
    },
    {
      "cell_type": "markdown",
      "metadata": {
        "id": "IHUnyuy1nVpw"
      },
      "source": [
        "#### Publicaciones disponibles las fechas:\n",
        " \n",
        "2. \n",
        "3. \n",
        "4."
      ]
    },
    {
      "cell_type": "code",
      "metadata": {
        "id": "ZA1eYTsrnc4A"
      },
      "source": [
        "urlbol = 'https://www.ine.gob.bo/index.php/estadisticas-economicas/indice-global-de-actividad-economica-igae/#1584545313102-06cf787f-a790'\n",
        "req = urllib2.Request(url=urlbol, headers=header) \n",
        "page = urllib2.urlopen(req).read()"
      ],
      "execution_count": 35,
      "outputs": []
    },
    {
      "cell_type": "code",
      "metadata": {
        "colab": {
          "base_uri": "https://localhost:8080/"
        },
        "id": "1aB4zuN8r4Nv",
        "outputId": "f7c096fb-8009-4171-d597-b457fa216eec"
      },
      "source": [
        "soupbol = BeautifulSoup(page,'lxml')\n",
        "links = [a['href'] for a in soupbol.select(\"a[href*=nube.ine.gob.bo/index.php]\")] # extraemos links que contengan nube.ine.gob\n",
        " # ultimos link disponibles\n",
        "links # IGAE por actividad economica es el segundo"
      ],
      "execution_count": 36,
      "outputs": [
        {
          "output_type": "execute_result",
          "data": {
            "text/plain": [
              "['https://nube.ine.gob.bo/index.php/s/lhzNu4ISQEuXS1M/download',\n",
              " 'https://nube.ine.gob.bo/index.php/s/6Szm6RmYSBeRnsD/download',\n",
              " 'https://nube.ine.gob.bo/index.php/s/qNQexpgoZroGCYG/download',\n",
              " 'https://nube.ine.gob.bo/index.php/s/vsfGqiIoEXGddwJ/download',\n",
              " 'https://nube.ine.gob.bo/index.php/s/k0bRzzNhBXb7Ae2/download']"
            ]
          },
          "metadata": {},
          "execution_count": 36
        }
      ]
    },
    {
      "cell_type": "code",
      "metadata": {
        "colab": {
          "base_uri": "https://localhost:8080/"
        },
        "id": "0n-BsYwlrXNg",
        "outputId": "d1745bf4-6930-4370-c387-efd9542a49e4"
      },
      "source": [
        "urllib2.urlretrieve(links[1], \"Bolivia.xlsx\")\n",
        "#https://nube.ine.gob.bo/index.php/s/6Szm6RmYSBeRnsD/download"
      ],
      "execution_count": 37,
      "outputs": [
        {
          "output_type": "execute_result",
          "data": {
            "text/plain": [
              "('Bolivia.xlsx', <http.client.HTTPMessage at 0x7f5e4c69f850>)"
            ]
          },
          "metadata": {},
          "execution_count": 37
        }
      ]
    },
    {
      "cell_type": "code",
      "metadata": {
        "id": "5RXiNmdfrXf_"
      },
      "source": [
        "df = pd.read_excel('Bolivia.xlsx',header=12)\n",
        "df.head(2)"
      ],
      "execution_count": null,
      "outputs": []
    },
    {
      "cell_type": "code",
      "metadata": {
        "id": "3u_9FltnVAzq"
      },
      "source": [
        "df.set_index(df.iloc[:,1],inplace=True)\n",
        "df = df.iloc[:-3,2:] # eliminar primera columna y ultimas 3 filas\n",
        "df = df.T.reset_index()"
      ],
      "execution_count": 39,
      "outputs": []
    },
    {
      "cell_type": "code",
      "metadata": {
        "id": "F4o4M3ypvo3f"
      },
      "source": [
        "# PARA EXTRAER AÑO DE COLUMNA INDEX\n",
        "df['index'] = df['index'].astype(str).str.replace('\\(p\\)','')\n",
        "df['index'] = df['index'].str.replace('^0.[0-9]','nan')      # reemplaza los numeros decimales regex que empiece por 0. y le siga cualquier num\n",
        "df['index'] = df['index'].str.replace('^0$','nan')    # reemplaza toda fila con 0 como unico digito\n",
        "df['index'] = pd.to_numeric(df['index'],errors='coerce').ffill().astype(int)"
      ],
      "execution_count": 40,
      "outputs": []
    },
    {
      "cell_type": "code",
      "metadata": {
        "id": "v7sdukvsRs16"
      },
      "source": [
        "df['fecha'] = df['index'].astype(str) +'-'+ df[0].str.lower().map(mes3) # columna fecha\n",
        "df.set_index('fecha',inplace=True)\n",
        "df.rename(columns={df.columns[3]:'Bolivia'},inplace=True)"
      ],
      "execution_count": 41,
      "outputs": []
    },
    {
      "cell_type": "code",
      "metadata": {
        "id": "LQ1zRqkIyq-c"
      },
      "source": [
        "imaela = imaela.merge(df['Bolivia'],how='left',left_index=True,right_index=True)"
      ],
      "execution_count": 42,
      "outputs": []
    },
    {
      "cell_type": "code",
      "metadata": {
        "id": "6I7hzo5PzbVu"
      },
      "source": [
        "imaela"
      ],
      "execution_count": null,
      "outputs": []
    },
    {
      "cell_type": "markdown",
      "metadata": {
        "id": "RvPeziE4yKSp"
      },
      "source": [
        "## **El Salvador**"
      ]
    },
    {
      "cell_type": "markdown",
      "metadata": {
        "id": "Wh_pe3gzyKn7"
      },
      "source": [
        "#### Publicaciones disponibles las fechas:\n",
        " \n",
        "3. >   30 Nov\n",
        "4. >   23 Dic\n",
        "5. >   31 Ene"
      ]
    },
    {
      "cell_type": "code",
      "metadata": {
        "id": "Bh6qU5ogyKvI"
      },
      "source": [
        "pagina = 'https://www.bcr.gob.sv/bcrsite/downloadsxls.php?exportCDR=1&cdr=174&xls=1'\n"
      ],
      "execution_count": 6,
      "outputs": []
    },
    {
      "cell_type": "markdown",
      "metadata": {
        "id": "DyLAUJm7yK85"
      },
      "source": [
        "!pip install selenium\n",
        "!apt-get update \n",
        "!apt install chromium-chromedriver\n",
        "\n",
        "from selenium import webdriver\n",
        "chrome_options = webdriver.ChromeOptions()\n",
        "chrome_options.add_argument('--headless')\n",
        "chrome_options.add_argument('--no-sandbox')\n",
        "chrome_options.add_argument('--disable-dev-shm-usage')\n",
        "driver = webdriver.Chrome('chromedriver',chrome_options=chrome_options)"
      ]
    },
    {
      "cell_type": "markdown",
      "metadata": {
        "id": "MHnUN4uJDLum"
      },
      "source": [
        "!pip install kora -q\n",
        "from kora.selenium import wd"
      ]
    },
    {
      "cell_type": "code",
      "metadata": {
        "id": "k1XO0Xq6yLLb"
      },
      "source": [
        "# wd.get(\"https://www.bcr.gob.sv/bcrsite/?cdr=174&lang=es\")"
      ],
      "execution_count": 21,
      "outputs": []
    },
    {
      "cell_type": "code",
      "metadata": {
        "id": "U3FL_rwgyLRY"
      },
      "source": [
        ""
      ],
      "execution_count": null,
      "outputs": []
    },
    {
      "cell_type": "code",
      "metadata": {
        "id": "wtHHMY1CyLZ5"
      },
      "source": [
        ""
      ],
      "execution_count": null,
      "outputs": []
    },
    {
      "cell_type": "markdown",
      "metadata": {
        "id": "MkoUi_tal0ST"
      },
      "source": [
        "### **Paraguay**"
      ]
    },
    {
      "cell_type": "code",
      "metadata": {
        "id": "vVlkRWfZIPOT"
      },
      "source": [
        "url = 'https://www.bcp.gov.py/indicador-mensual-de-actividad-economica-del-paraguay-imaep-i471'\n",
        "urlpy = 'https://www.bcp.gov.py/anexo-estadistico-del-informe-economico-i365'\n",
        "#the URL where you are requesting at\n",
        "req = urllib2.Request(url=urlpy, headers=header) \n",
        "page = urllib2.urlopen(req).read()"
      ],
      "execution_count": 44,
      "outputs": []
    },
    {
      "cell_type": "code",
      "metadata": {
        "id": "OHArZO25IcoC",
        "colab": {
          "base_uri": "https://localhost:8080/"
        },
        "outputId": "876bb143-c54b-4da1-bf02-13a7204e365b"
      },
      "source": [
        "souppy = BeautifulSoup(page,'lxml')\n",
        "links = [a['href'] for a in souppy.select(\"a[href*=.xlsx]\")] # extraemos links que contengan 2021 \n",
        " # ultimos link disponibles\n",
        "links"
      ],
      "execution_count": 45,
      "outputs": [
        {
          "output_type": "execute_result",
          "data": {
            "text/plain": [
              "['userfiles/files/Anexo_Estad%C3%ADstico%20del%20Informe%20Econ%C3%B3mico_28_10_2021.xlsx']"
            ]
          },
          "metadata": {},
          "execution_count": 45
        }
      ]
    },
    {
      "cell_type": "code",
      "metadata": {
        "id": "0E0h9YIBnMNc"
      },
      "source": [
        "url2py = 'https://www.bcp.gov.py/' + links[0]\n",
        "req2 = requests.get(url2py, headers = header)  # nueva forma de descargar excel file de pagina de py"
      ],
      "execution_count": 60,
      "outputs": []
    },
    {
      "cell_type": "code",
      "metadata": {
        "id": "U1ymdV2Nnxqz"
      },
      "source": [
        "import datetime\n",
        "dfpy = pd.read_excel(req2.content,sheet_name='CUADRO 9',header=9).iloc[:-3,1:] # con limpieza iloc CUADRO 9 es IMAEP\n",
        "dfpy.rename(columns={dfpy.columns[1]:\"Paraguay\"},inplace=True)"
      ],
      "execution_count": 61,
      "outputs": []
    },
    {
      "cell_type": "code",
      "metadata": {
        "id": "LljSTskosyzQ"
      },
      "source": [
        "# FECHA COLUMNA\n",
        "dfpy['A'] = pd.DatetimeIndex(dfpy[dfpy.columns[0]]).year\n",
        "dfpy['M'] = pd.DatetimeIndex(dfpy[dfpy.columns[0]]).month.map(meses_dict)\n",
        "dfpy['fecha'] = dfpy.A.astype(str) + \"-\" + dfpy.M.astype(str)\n",
        "dfpy.set_index('fecha',inplace=True)"
      ],
      "execution_count": 62,
      "outputs": []
    },
    {
      "cell_type": "code",
      "metadata": {
        "id": "lNtQ0lHVwFZA"
      },
      "source": [
        "imaela = imaela.merge(dfpy['Paraguay'],how='left',left_index=True,right_index=True)"
      ],
      "execution_count": 63,
      "outputs": []
    },
    {
      "cell_type": "code",
      "metadata": {
        "id": "IrxgZGGjszCe"
      },
      "source": [
        "imaela"
      ],
      "execution_count": null,
      "outputs": []
    },
    {
      "cell_type": "markdown",
      "metadata": {
        "id": "CRClNJVemnbZ"
      },
      "source": [
        "\n",
        "url2 = 'https://www.bcp.gov.py/' + links[0] # -(numero mes)\n",
        "opener = urllib2.build_opener()\n",
        "opener.addheaders = [('User-agent', 'Mozilla/5.0')]\n",
        "urllib2.install_opener(opener)\n",
        "urllib2.urlretrieve(url2, \"py.pdf\")\n",
        "\n",
        "\n"
      ]
    },
    {
      "cell_type": "markdown",
      "metadata": {
        "id": "SDFvEycum4Ek"
      },
      "source": [
        "'With pdf file\n",
        "\n",
        "with fitz.open(\"py.pdf\") as doc:\n",
        "    text = \"\"\n",
        "    for page in doc:\n",
        "        text += page.get_text()\n",
        "\n",
        "fechapy = text.split(' |',2)[1] # con el espacio\n",
        "fechapy = fechapy.split(' ')[1] +'-'+fechapy.split(' ')[0]"
      ]
    },
    {
      "cell_type": "markdown",
      "metadata": {
        "id": "yVnR8BwV6iJ3"
      },
      "source": [
        "Debido a que las tasas son iguales en Enero\n",
        "\n",
        "if 'Enero' not in fechapy:\n",
        "  valorpyinteranual = re.findall(r'[0-9]+,[0-9]+',text)[0] # para obtener tasa interanual          el regex sirve para buscar los registros numericos separados por coma\n",
        "  valorpyacum = re.findall(r'[0-9]+,[0-9]+',text)[1] # para obtener tasa acumulada interanual\n",
        "  valorpyinteranual = float(valorpyinteranual.replace(',','.'))\n",
        "  valorpyacum = float(valorpyacum.replace(',','.'))\n",
        "else:\n",
        "   valorpyinteranual = re.findall(r'[0-9]+,[0-9]+',text)[0]\n",
        "   valorpyinteranual = float(valorpyinteranual.replace(',','.'))\n",
        "   valorpyacum = valorpyinteranual\n",
        "\n",
        "print(fechapy)\n",
        "print(valorpyinteranual,' Tasa interanual')\n",
        "print(valorpyacum, ' Tasa acumulada interanual')"
      ]
    },
    {
      "cell_type": "markdown",
      "metadata": {
        "id": "byRPPvf83emR"
      },
      "source": [
        "\n",
        "py = pd.DataFrame({'Fecha':['2021-Enero','2021-Febrero','2021-Marzo','2021-Abril','2021-Mayo','2021-Junio','2021-Julio','2021-Agosto','2021-Septiembre','2021-Octubre','2021-Noviembre','2021-Diciembre'],\n",
        "                   'Paraguay_a':[-5.6,-3.0,0.7,4.7,6.3,6.3,6.0,5.7,0,0,0,0],\n",
        "                   'Paraguay_i':[-5.6,-0.5,8.0,19.3,12.4,6.6,3.0,4.2,0,0,0,0]})\n",
        "py.index = py.Fecha\n",
        "dic = {'Fecha':fechapy,'Paraguay_a':valorpyacum,'Paraguay_i':valorpyinteranual}\n",
        "py.loc[fechapy] = [fechapy,valorpyacum,valorpyinteranual]\n",
        "py"
      ]
    },
    {
      "cell_type": "code",
      "metadata": {
        "id": "NQebYfFSdDiq"
      },
      "source": [
        "imaela['a'] = [imaela.index.str.split('-')[i][0] for i in range(len(imaela.index))]\n",
        "imaela = imaela.apply(pd.to_numeric)"
      ],
      "execution_count": 66,
      "outputs": []
    },
    {
      "cell_type": "code",
      "metadata": {
        "id": "2oc-F4Au1Q0L"
      },
      "source": [
        "# Crecimiento interanual\n",
        "imaela1 = imaela.pct_change(12,fill_method=None)*100\n",
        "imaela1.dropna(how='all',inplace=True) # NAs drop\n",
        "imaela1.drop('a',axis=1,inplace=True)"
      ],
      "execution_count": 68,
      "outputs": []
    },
    {
      "cell_type": "code",
      "metadata": {
        "id": "LwGtvH2Ve9nI"
      },
      "source": [
        "# Crecimiento acumulado interanual\n",
        "imaela2 = imaela.groupby('a').cumsum().pct_change(12,fill_method=None)*100\n",
        "imaela2.dropna(how='all',inplace=True) # NAs drop"
      ],
      "execution_count": 69,
      "outputs": []
    },
    {
      "cell_type": "code",
      "metadata": {
        "id": "WT1VOTCo_u0Z"
      },
      "source": [
        "#!pip install selenium\n",
        "#!apt-get update # to update ubuntu to correctly run apt install\n",
        "#!apt install chromium-chromedriver\n",
        "#!cp /usr/lib/chromium-browser/chromedriver /usr/bin\n",
        "#import sys\n",
        "#sys.path.insert(0,'/usr/lib/chromium-browser/chromedriver')\n",
        "#from selenium import webdriver\n",
        "#chrome_options = webdriver.ChromeOptions()\n",
        "#chrome_options.add_argument('--headless')\n",
        "#chrome_options.add_argument('--no-sandbox')\n",
        "#chrome_options.add_argument('--disable-dev-shm-usage')\n",
        "#wd = webdriver.Chrome('chromedriver',chrome_options=chrome_options)"
      ],
      "execution_count": 70,
      "outputs": []
    },
    {
      "cell_type": "markdown",
      "metadata": {
        "id": "851yN-m_mxAi"
      },
      "source": [
        "## imae\n"
      ]
    },
    {
      "cell_type": "code",
      "metadata": {
        "id": "tCeHYsHPRaAP",
        "colab": {
          "base_uri": "https://localhost:8080/",
          "height": 164
        },
        "outputId": "ee57efa9-ed3c-42b0-a83a-03eac57590d8"
      },
      "source": [
        "imaela.drop('a',axis=1).tail(2)"
      ],
      "execution_count": 71,
      "outputs": [
        {
          "output_type": "execute_result",
          "data": {
            "text/html": [
              "<div>\n",
              "<style scoped>\n",
              "    .dataframe tbody tr th:only-of-type {\n",
              "        vertical-align: middle;\n",
              "    }\n",
              "\n",
              "    .dataframe tbody tr th {\n",
              "        vertical-align: top;\n",
              "    }\n",
              "\n",
              "    .dataframe thead th {\n",
              "        text-align: right;\n",
              "    }\n",
              "</style>\n",
              "<table border=\"1\" class=\"dataframe\">\n",
              "  <thead>\n",
              "    <tr style=\"text-align: right;\">\n",
              "      <th></th>\n",
              "      <th>Costa Rica</th>\n",
              "      <th>El Salvador</th>\n",
              "      <th>Guatemala</th>\n",
              "      <th>Honduras</th>\n",
              "      <th>Nicaragua</th>\n",
              "      <th>República Dominicana</th>\n",
              "      <th>Panamá</th>\n",
              "      <th>Argentina</th>\n",
              "      <th>Brasil</th>\n",
              "      <th>México</th>\n",
              "      <th>Perú</th>\n",
              "      <th>Chile</th>\n",
              "      <th>Ecuador</th>\n",
              "      <th>Colombia</th>\n",
              "      <th>Bolivia</th>\n",
              "      <th>Paraguay</th>\n",
              "    </tr>\n",
              "  </thead>\n",
              "  <tbody>\n",
              "    <tr>\n",
              "      <th>2021-Agosto</th>\n",
              "      <td>105.63</td>\n",
              "      <td>NaN</td>\n",
              "      <td>129.34</td>\n",
              "      <td>255.65</td>\n",
              "      <td>151.16</td>\n",
              "      <td>188.83</td>\n",
              "      <td>317.68</td>\n",
              "      <td>141.22</td>\n",
              "      <td>141.93</td>\n",
              "      <td>107.05</td>\n",
              "      <td>176.43</td>\n",
              "      <td>120.345</td>\n",
              "      <td>168.50691</td>\n",
              "      <td>114.93</td>\n",
              "      <td>NaN</td>\n",
              "      <td>112.984361</td>\n",
              "    </tr>\n",
              "    <tr>\n",
              "      <th>2021-Septiembre</th>\n",
              "      <td>NaN</td>\n",
              "      <td>NaN</td>\n",
              "      <td>NaN</td>\n",
              "      <td>NaN</td>\n",
              "      <td>NaN</td>\n",
              "      <td>180.96</td>\n",
              "      <td>NaN</td>\n",
              "      <td>NaN</td>\n",
              "      <td>NaN</td>\n",
              "      <td>NaN</td>\n",
              "      <td>NaN</td>\n",
              "      <td>NaN</td>\n",
              "      <td>NaN</td>\n",
              "      <td>NaN</td>\n",
              "      <td>NaN</td>\n",
              "      <td>NaN</td>\n",
              "    </tr>\n",
              "  </tbody>\n",
              "</table>\n",
              "</div>"
            ],
            "text/plain": [
              "                 Costa Rica  El Salvador  ...  Bolivia    Paraguay\n",
              "2021-Agosto          105.63          NaN  ...      NaN  112.984361\n",
              "2021-Septiembre         NaN          NaN  ...      NaN         NaN\n",
              "\n",
              "[2 rows x 16 columns]"
            ]
          },
          "metadata": {},
          "execution_count": 71
        }
      ]
    },
    {
      "cell_type": "code",
      "metadata": {
        "id": "aPbNJ1eyIKiv",
        "colab": {
          "base_uri": "https://localhost:8080/",
          "height": 17
        },
        "outputId": "7080e2ef-2f44-4313-9c82-5eb5f491adbe"
      },
      "source": [
        "writer = pd.ExcelWriter('imae_latam.xlsx', engine='xlsxwriter')\n",
        "\n",
        "imaela1.to_excel(writer, sheet_name='Interanual')\n",
        "imaela2.to_excel(writer, sheet_name='Acumulado')\n",
        "imaela.to_excel(writer, sheet_name='Indices - Serie Original')\n",
        "writer.save()\n",
        "\n",
        "files.download(\"imae_latam.xlsx\")"
      ],
      "execution_count": 72,
      "outputs": [
        {
          "output_type": "display_data",
          "data": {
            "application/javascript": [
              "\n",
              "    async function download(id, filename, size) {\n",
              "      if (!google.colab.kernel.accessAllowed) {\n",
              "        return;\n",
              "      }\n",
              "      const div = document.createElement('div');\n",
              "      const label = document.createElement('label');\n",
              "      label.textContent = `Downloading \"${filename}\": `;\n",
              "      div.appendChild(label);\n",
              "      const progress = document.createElement('progress');\n",
              "      progress.max = size;\n",
              "      div.appendChild(progress);\n",
              "      document.body.appendChild(div);\n",
              "\n",
              "      const buffers = [];\n",
              "      let downloaded = 0;\n",
              "\n",
              "      const channel = await google.colab.kernel.comms.open(id);\n",
              "      // Send a message to notify the kernel that we're ready.\n",
              "      channel.send({})\n",
              "\n",
              "      for await (const message of channel.messages) {\n",
              "        // Send a message to notify the kernel that we're ready.\n",
              "        channel.send({})\n",
              "        if (message.buffers) {\n",
              "          for (const buffer of message.buffers) {\n",
              "            buffers.push(buffer);\n",
              "            downloaded += buffer.byteLength;\n",
              "            progress.value = downloaded;\n",
              "          }\n",
              "        }\n",
              "      }\n",
              "      const blob = new Blob(buffers, {type: 'application/binary'});\n",
              "      const a = document.createElement('a');\n",
              "      a.href = window.URL.createObjectURL(blob);\n",
              "      a.download = filename;\n",
              "      div.appendChild(a);\n",
              "      a.click();\n",
              "      div.remove();\n",
              "    }\n",
              "  "
            ],
            "text/plain": [
              "<IPython.core.display.Javascript object>"
            ]
          },
          "metadata": {}
        },
        {
          "output_type": "display_data",
          "data": {
            "application/javascript": [
              "download(\"download_bf37bb21-1869-4e25-8cac-3e348f0b4423\", \"imae_latam.xlsx\", 13328)"
            ],
            "text/plain": [
              "<IPython.core.display.Javascript object>"
            ]
          },
          "metadata": {}
        }
      ]
    },
    {
      "cell_type": "markdown",
      "metadata": {
        "id": "CrE4AgCYHom-"
      },
      "source": [
        "writer = pd.ExcelWriter('farm_data.xlsx', engine='xlsxwriter')\n",
        "df.to_excel(writer, sheet_name='Sheet1')\n",
        "\n",
        "workbook = writer.book\n",
        "worksheet = writer.sheets['Sheet1']\n",
        "\n",
        "chart = workbook.add_chart({'type': 'column'})"
      ]
    },
    {
      "cell_type": "code",
      "metadata": {
        "id": "fRnNN0VxUxeA",
        "cellView": "form",
        "colab": {
          "base_uri": "https://localhost:8080/",
          "height": 482
        },
        "outputId": "65bc5fc4-925f-4d9c-bbf6-4a14ae898739"
      },
      "source": [
        "#@title Bar\n",
        "f, ax = plt.subplots(figsize=(20, 8))\n",
        "sns.barplot(data=imaela.drop('a',axis=1).iloc[-1:,:]);"
      ],
      "execution_count": 73,
      "outputs": [
        {
          "output_type": "display_data",
          "data": {
            "image/png": "[encoded data removed]",
            "text/plain": [
              "<Figure size 1440x576 with 1 Axes>"
            ]
          },
          "metadata": {
            "needs_background": "light"
          }
        }
      ]
    },
    {
      "cell_type": "code",
      "metadata": {
        "id": "0HYQImNIAxf6",
        "cellView": "form"
      },
      "source": [
        "#@title Interanual Mes Anterior\n",
        "f, ax = plt.subplots(figsize=(18, 8))\n",
        "df = pd.melt(imaela1.iloc[-2:-1,:]).sort_values('value',ascending=False) \n",
        "sns.barplot(data = df ,x='value',y='variable',\n",
        "                palette=['r' if y =='República Dominicana' else '#0343DF' for y in df.variable])\n",
        "for p in ax.patches:\n",
        "    width = p.get_width()    # get bar length\n",
        "    ax.text(width+0.2,       # set the text at 0.2 unit right of the bar\n",
        "            p.get_y() + p.get_height() / 2, # get Y coordinate + X coordinate / 2\n",
        "            '{:1.2f}'.format(width), # set variable to display, 2 decimals\n",
        "            ha = 'left',   # horizontal alignment\n",
        "            va = 'center', weight=\"bold\") # vertical alignment\n",
        "plt.title('IMAE LATAM \\n Crecimiento Interanual (%) {}'.format(imaela.index[-2]),weight='bold');"
      ],
      "execution_count": null,
      "outputs": []
    },
    {
      "cell_type": "code",
      "metadata": {
        "id": "AXWRoqQueTtV",
        "cellView": "form"
      },
      "source": [
        "#@title Acumulado Interanual Mes Anterior\n",
        "f, ax = plt.subplots(figsize=(18, 8))\n",
        "df = pd.melt(imaela2.iloc[-2:-1,:]).sort_values('value',ascending=False) \n",
        "sns.barplot(data = df ,x='value',y='variable',\n",
        "                palette=['r' if y =='República Dominicana' else '#0343DF' for y in df.variable])\n",
        "for p in ax.patches:\n",
        "    width = p.get_width()    # get bar length\n",
        "    ax.text(width+0.2,       # set the text at 0.2 unit right of the bar\n",
        "            p.get_y() + p.get_height() / 2, # get Y coordinate + X coordinate / 2\n",
        "            '{:1.2f}'.format(width), # set variable to display, 2 decimals\n",
        "            ha = 'left',   # horizontal alignment\n",
        "            va = 'center', weight=\"bold\") # vertical alignment\n",
        "plt.title('IMAE LATAM \\n Crecimiento Acumulado Interanual (%) a {}'.format(imaela.index[-2]) ,weight='bold');"
      ],
      "execution_count": null,
      "outputs": []
    },
    {
      "cell_type": "code",
      "metadata": {
        "id": "LOhjJvf2M908",
        "cellView": "form"
      },
      "source": [
        "#@title Interanual Ultimo Mes\n",
        "f, ax = plt.subplots(figsize=(18, 8))\n",
        "df = pd.melt(imaela1.iloc[-1:,:].dropna(axis=1)).sort_values('value',ascending=False) \n",
        "sns.barplot(data = df ,x='value',y='variable',\n",
        "                palette=['r' if y =='República Dominicana' else '#0343DF' for y in df.variable])\n",
        "for p in ax.patches:\n",
        "    width = p.get_width()    # get bar length\n",
        "    ax.text(width+0.2,       # set the text at 0.2 unit right of the bar\n",
        "            p.get_y() + p.get_height() / 2, # get Y coordinate + X coordinate / 2\n",
        "            '{:1.2f}'.format(width), # set variable to display, 2 decimals\n",
        "            ha = 'left',   # horizontal alignment\n",
        "            va = 'center', weight=\"bold\") # vertical alignment\n",
        "plt.title('IMAE LATAM \\n Crecimiento Interanual (%) {}'.format(imaela.index[-1]),weight='bold')\n",
        ";"
      ],
      "execution_count": null,
      "outputs": []
    },
    {
      "cell_type": "code",
      "metadata": {
        "id": "fyL78uQDM2ib",
        "cellView": "form"
      },
      "source": [
        "#@title Acumulado Interanual Ultimo Mes\n",
        "f, ax = plt.subplots(figsize=(18, 8))\n",
        "df = pd.melt(imaela2.iloc[-1:,:].dropna(axis=1)).sort_values('value',ascending=False) \n",
        "sns.barplot(data = df ,x='value',y='variable',\n",
        "                palette=['r' if y =='República Dominicana' else '#0343DF' for y in df.variable])\n",
        "for p in ax.patches:\n",
        "    width = p.get_width()    # get bar length\n",
        "    ax.text(width+0.2,       # set the text at 0.2 unit right of the bar\n",
        "            p.get_y() + p.get_height() / 2, # get Y coordinate + X coordinate / 2\n",
        "            '{:1.2f}'.format(width), # set variable to display, 2 decimals\n",
        "            ha = 'left',   # horizontal alignment\n",
        "            va = 'center', weight=\"bold\") # vertical alignment\n",
        "plt.title('IMAE LATAM \\n Crecimiento Acumulado Interanual (%) a {}'.format(imaela.index[-1]) ,weight='bold');"
      ],
      "execution_count": null,
      "outputs": []
    }
  ]
}