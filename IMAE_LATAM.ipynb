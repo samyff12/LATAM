{
  "nbformat": 4,
  "nbformat_minor": 0,
  "metadata": {
    "colab": {
      "name": "IMAE LATAM.ipynb",
      "provenance": [],
      "collapsed_sections": [
        "pdxAyDPTJJzP",
        "mng9xQCphxaK",
        "USJ5m_3XS6ji",
        "YlZNkOc6pfVo",
        "MkoUi_tal0ST",
        "A2MSTFg45f_H",
        "rSOwOPisI0mw"
      ],
      "authorship_tag": "ABX9TyMNFHzQS/cRGuhdFfGCYE+X",
      "include_colab_link": true
    },
    "kernelspec": {
      "name": "python3",
      "display_name": "Python 3"
    },
    "language_info": {
      "name": "python"
    }
  },
  "cells": [
    {
      "cell_type": "markdown",
      "metadata": {
        "id": "view-in-github",
        "colab_type": "text"
      },
      "source": [
        "<a href=\"https://colab.research.google.com/github/samyff12/LATAM/blob/main/IMAE_LATAM.ipynb\" target=\"_parent\"><img src=\"https://colab.research.google.com/assets/colab-badge.svg\" alt=\"Open In Colab\"/></a>"
      ]
    },
    {
      "cell_type": "markdown",
      "metadata": {
        "id": "uwghX9WnmOhH"
      },
      "source": [
        "# **Actualizacion IMAE LATAM**"
      ]
    },
    {
      "cell_type": "markdown",
      "metadata": {
        "id": "zMFcgIBOnFpc"
      },
      "source": [
        "### Paquetes y meses"
      ]
    },
    {
      "cell_type": "code",
      "metadata": {
        "id": "yLpBS1jxRJUa",
        "outputId": "3d6b32c4-1f6a-466f-a161-6cc59432315d",
        "colab": {
          "base_uri": "https://localhost:8080/",
          "height": 1000
        }
      },
      "source": [
        "from bs4 import BeautifulSoup\n",
        "import pandas as pd    # ! pip install --upgrade xlrd  por si no se actualiza pandas\n",
        "import numpy as np\n",
        "import requests\n",
        "import urllib.request as urllib2\n",
        "import re\n",
        "import matplotlib.pyplot as plt\n",
        "import seaborn as sns\n",
        "import zipfile\n",
        "!pip install XlsxWriter\n",
        "from google.colab import files\n",
        "\n",
        "\n",
        "#!pip install kora -q\n",
        "#from kora.selenium import wd\n",
        "\n",
        "# Selenium\n",
        "!pip install selenium\n",
        "!apt-get update \n",
        "!apt install chromium-chromedriver\n",
        "# Argumentos de Selenium\n",
        "from selenium import webdriver\n",
        "from selenium.webdriver.common.keys import Keys\n",
        "from selenium.webdriver.common.by import By\n",
        "chrome_options = webdriver.ChromeOptions()\n",
        "chrome_options.add_argument('--headless')\n",
        "chrome_options.add_argument('--no-sandbox')\n",
        "chrome_options.add_argument('--disable-dev-shm-usage')\n",
        "wd = webdriver.Chrome('chromedriver',options=chrome_options)\n",
        "# En caso de contar con archivos en formato pdf: \n",
        "# !pip install pymupdf            \n",
        "# !pip install tabula-py\n",
        "# import tabula as tb\n",
        "# import fitz  # this is pymupdf"
      ],
      "execution_count": 1,
      "outputs": [
        {
          "output_type": "stream",
          "name": "stdout",
          "text": [
            "Collecting XlsxWriter\n",
            "  Downloading XlsxWriter-3.0.3-py3-none-any.whl (149 kB)\n",
            "\u001b[?25l\r\u001b[K     |██▏                             | 10 kB 19.0 MB/s eta 0:00:01\r\u001b[K     |████▍                           | 20 kB 19.5 MB/s eta 0:00:01\r\u001b[K     |██████▌                         | 30 kB 11.3 MB/s eta 0:00:01\r\u001b[K     |████████▊                       | 40 kB 9.5 MB/s eta 0:00:01\r\u001b[K     |███████████                     | 51 kB 6.5 MB/s eta 0:00:01\r\u001b[K     |█████████████                   | 61 kB 7.6 MB/s eta 0:00:01\r\u001b[K     |███████████████▎                | 71 kB 7.9 MB/s eta 0:00:01\r\u001b[K     |█████████████████▌              | 81 kB 6.8 MB/s eta 0:00:01\r\u001b[K     |███████████████████▋            | 92 kB 7.5 MB/s eta 0:00:01\r\u001b[K     |█████████████████████▉          | 102 kB 8.0 MB/s eta 0:00:01\r\u001b[K     |████████████████████████        | 112 kB 8.0 MB/s eta 0:00:01\r\u001b[K     |██████████████████████████▏     | 122 kB 8.0 MB/s eta 0:00:01\r\u001b[K     |████████████████████████████▍   | 133 kB 8.0 MB/s eta 0:00:01\r\u001b[K     |██████████████████████████████▋ | 143 kB 8.0 MB/s eta 0:00:01\r\u001b[K     |████████████████████████████████| 149 kB 8.0 MB/s \n",
            "\u001b[?25hInstalling collected packages: XlsxWriter\n",
            "Successfully installed XlsxWriter-3.0.3\n",
            "Collecting selenium\n",
            "  Downloading selenium-4.1.3-py3-none-any.whl (968 kB)\n",
            "\u001b[K     |████████████████████████████████| 968 kB 7.7 MB/s \n",
            "\u001b[?25hCollecting trio-websocket~=0.9\n",
            "  Downloading trio_websocket-0.9.2-py3-none-any.whl (16 kB)\n",
            "Collecting trio~=0.17\n",
            "  Downloading trio-0.20.0-py3-none-any.whl (359 kB)\n",
            "\u001b[K     |████████████████████████████████| 359 kB 37.2 MB/s \n",
            "\u001b[?25hCollecting urllib3[secure,socks]~=1.26\n",
            "  Downloading urllib3-1.26.9-py2.py3-none-any.whl (138 kB)\n",
            "\u001b[K     |████████████████████████████████| 138 kB 42.7 MB/s \n",
            "\u001b[?25hRequirement already satisfied: idna in /usr/local/lib/python3.7/dist-packages (from trio~=0.17->selenium) (2.10)\n",
            "Collecting sniffio\n",
            "  Downloading sniffio-1.2.0-py3-none-any.whl (10 kB)\n",
            "Requirement already satisfied: sortedcontainers in /usr/local/lib/python3.7/dist-packages (from trio~=0.17->selenium) (2.4.0)\n",
            "Collecting async-generator>=1.9\n",
            "  Downloading async_generator-1.10-py3-none-any.whl (18 kB)\n",
            "Collecting outcome\n",
            "  Downloading outcome-1.1.0-py2.py3-none-any.whl (9.7 kB)\n",
            "Requirement already satisfied: attrs>=19.2.0 in /usr/local/lib/python3.7/dist-packages (from trio~=0.17->selenium) (21.4.0)\n",
            "Collecting wsproto>=0.14\n",
            "  Downloading wsproto-1.1.0-py3-none-any.whl (24 kB)\n",
            "Collecting pyOpenSSL>=0.14\n",
            "  Downloading pyOpenSSL-22.0.0-py2.py3-none-any.whl (55 kB)\n",
            "\u001b[K     |████████████████████████████████| 55 kB 3.5 MB/s \n",
            "\u001b[?25hCollecting cryptography>=1.3.4\n",
            "  Downloading cryptography-36.0.2-cp36-abi3-manylinux_2_24_x86_64.whl (3.6 MB)\n",
            "\u001b[K     |████████████████████████████████| 3.6 MB 39.8 MB/s \n",
            "\u001b[?25hRequirement already satisfied: certifi in /usr/local/lib/python3.7/dist-packages (from urllib3[secure,socks]~=1.26->selenium) (2021.10.8)\n",
            "Requirement already satisfied: PySocks!=1.5.7,<2.0,>=1.5.6 in /usr/local/lib/python3.7/dist-packages (from urllib3[secure,socks]~=1.26->selenium) (1.7.1)\n",
            "Requirement already satisfied: cffi>=1.12 in /usr/local/lib/python3.7/dist-packages (from cryptography>=1.3.4->urllib3[secure,socks]~=1.26->selenium) (1.15.0)\n",
            "Requirement already satisfied: pycparser in /usr/local/lib/python3.7/dist-packages (from cffi>=1.12->cryptography>=1.3.4->urllib3[secure,socks]~=1.26->selenium) (2.21)\n",
            "Collecting h11<1,>=0.9.0\n",
            "  Downloading h11-0.13.0-py3-none-any.whl (58 kB)\n",
            "\u001b[K     |████████████████████████████████| 58 kB 5.0 MB/s \n",
            "\u001b[?25hRequirement already satisfied: typing-extensions in /usr/local/lib/python3.7/dist-packages (from h11<1,>=0.9.0->wsproto>=0.14->trio-websocket~=0.9->selenium) (4.1.1)\n",
            "Installing collected packages: sniffio, outcome, h11, cryptography, async-generator, wsproto, urllib3, trio, pyOpenSSL, trio-websocket, selenium\n",
            "  Attempting uninstall: urllib3\n",
            "    Found existing installation: urllib3 1.24.3\n",
            "    Uninstalling urllib3-1.24.3:\n",
            "      Successfully uninstalled urllib3-1.24.3\n",
            "\u001b[31mERROR: pip's dependency resolver does not currently take into account all the packages that are installed. This behaviour is the source of the following dependency conflicts.\n",
            "requests 2.23.0 requires urllib3!=1.25.0,!=1.25.1,<1.26,>=1.21.1, but you have urllib3 1.26.9 which is incompatible.\n",
            "datascience 0.10.6 requires folium==0.2.1, but you have folium 0.8.3 which is incompatible.\u001b[0m\n",
            "Successfully installed async-generator-1.10 cryptography-36.0.2 h11-0.13.0 outcome-1.1.0 pyOpenSSL-22.0.0 selenium-4.1.3 sniffio-1.2.0 trio-0.20.0 trio-websocket-0.9.2 urllib3-1.26.9 wsproto-1.1.0\n"
          ]
        },
        {
          "output_type": "display_data",
          "data": {
            "application/vnd.colab-display-data+json": {
              "pip_warning": {
                "packages": [
                  "urllib3"
                ]
              }
            }
          },
          "metadata": {}
        },
        {
          "output_type": "stream",
          "name": "stdout",
          "text": [
            "Get:1 https://cloud.r-project.org/bin/linux/ubuntu bionic-cran40/ InRelease [3,626 B]\n",
            "Ign:2 https://developer.download.nvidia.com/compute/cuda/repos/ubuntu1804/x86_64  InRelease\n",
            "Ign:3 https://developer.download.nvidia.com/compute/machine-learning/repos/ubuntu1804/x86_64  InRelease\n",
            "Get:4 https://developer.download.nvidia.com/compute/cuda/repos/ubuntu1804/x86_64  Release [696 B]\n",
            "Hit:5 http://archive.ubuntu.com/ubuntu bionic InRelease\n",
            "Hit:6 https://developer.download.nvidia.com/compute/machine-learning/repos/ubuntu1804/x86_64  Release\n",
            "Get:7 https://developer.download.nvidia.com/compute/cuda/repos/ubuntu1804/x86_64  Release.gpg [836 B]\n",
            "Get:8 http://archive.ubuntu.com/ubuntu bionic-updates InRelease [88.7 kB]\n",
            "Get:9 http://ppa.launchpad.net/c2d4u.team/c2d4u4.0+/ubuntu bionic InRelease [15.9 kB]\n",
            "Get:10 http://security.ubuntu.com/ubuntu bionic-security InRelease [88.7 kB]\n",
            "Get:11 http://archive.ubuntu.com/ubuntu bionic-backports InRelease [74.6 kB]\n",
            "Hit:12 http://ppa.launchpad.net/cran/libgit2/ubuntu bionic InRelease\n",
            "Get:13 http://ppa.launchpad.net/deadsnakes/ppa/ubuntu bionic InRelease [15.9 kB]\n",
            "Hit:14 http://ppa.launchpad.net/graphics-drivers/ppa/ubuntu bionic InRelease\n",
            "Get:16 https://developer.download.nvidia.com/compute/cuda/repos/ubuntu1804/x86_64  Packages [953 kB]\n",
            "Get:17 http://archive.ubuntu.com/ubuntu bionic-updates/universe amd64 Packages [2,268 kB]\n",
            "Get:18 http://archive.ubuntu.com/ubuntu bionic-updates/main amd64 Packages [3,135 kB]\n",
            "Get:19 http://ppa.launchpad.net/c2d4u.team/c2d4u4.0+/ubuntu bionic/main Sources [1,947 kB]\n",
            "Get:20 http://security.ubuntu.com/ubuntu bionic-security/main amd64 Packages [2,696 kB]\n",
            "Get:21 http://ppa.launchpad.net/c2d4u.team/c2d4u4.0+/ubuntu bionic/main amd64 Packages [996 kB]\n",
            "Get:22 http://security.ubuntu.com/ubuntu bionic-security/universe amd64 Packages [1,490 kB]\n",
            "Get:23 http://ppa.launchpad.net/deadsnakes/ppa/ubuntu bionic/main amd64 Packages [45.3 kB]\n",
            "Fetched 13.8 MB in 6s (2,132 kB/s)\n",
            "Reading package lists... Done\n",
            "Reading package lists... Done\n",
            "Building dependency tree       \n",
            "Reading state information... Done\n",
            "The following additional packages will be installed:\n",
            "  chromium-browser chromium-browser-l10n chromium-codecs-ffmpeg-extra\n",
            "Suggested packages:\n",
            "  webaccounts-chromium-extension unity-chromium-extension\n",
            "The following NEW packages will be installed:\n",
            "  chromium-browser chromium-browser-l10n chromium-chromedriver\n",
            "  chromium-codecs-ffmpeg-extra\n",
            "0 upgraded, 4 newly installed, 0 to remove and 45 not upgraded.\n",
            "Need to get 88.3 MB of archives.\n",
            "After this operation, 294 MB of additional disk space will be used.\n",
            "Get:1 http://archive.ubuntu.com/ubuntu bionic-updates/universe amd64 chromium-codecs-ffmpeg-extra amd64 99.0.4844.84-0ubuntu0.18.04.1 [1,142 kB]\n",
            "Get:2 http://archive.ubuntu.com/ubuntu bionic-updates/universe amd64 chromium-browser amd64 99.0.4844.84-0ubuntu0.18.04.1 [77.7 MB]\n",
            "Get:3 http://archive.ubuntu.com/ubuntu bionic-updates/universe amd64 chromium-browser-l10n all 99.0.4844.84-0ubuntu0.18.04.1 [4,397 kB]\n",
            "Get:4 http://archive.ubuntu.com/ubuntu bionic-updates/universe amd64 chromium-chromedriver amd64 99.0.4844.84-0ubuntu0.18.04.1 [5,092 kB]\n",
            "Fetched 88.3 MB in 6s (15.7 MB/s)\n",
            "Selecting previously unselected package chromium-codecs-ffmpeg-extra.\n",
            "(Reading database ... 155455 files and directories currently installed.)\n",
            "Preparing to unpack .../chromium-codecs-ffmpeg-extra_99.0.4844.84-0ubuntu0.18.04.1_amd64.deb ...\n",
            "Unpacking chromium-codecs-ffmpeg-extra (99.0.4844.84-0ubuntu0.18.04.1) ...\n",
            "Selecting previously unselected package chromium-browser.\n",
            "Preparing to unpack .../chromium-browser_99.0.4844.84-0ubuntu0.18.04.1_amd64.deb ...\n",
            "Unpacking chromium-browser (99.0.4844.84-0ubuntu0.18.04.1) ...\n",
            "Selecting previously unselected package chromium-browser-l10n.\n",
            "Preparing to unpack .../chromium-browser-l10n_99.0.4844.84-0ubuntu0.18.04.1_all.deb ...\n",
            "Unpacking chromium-browser-l10n (99.0.4844.84-0ubuntu0.18.04.1) ...\n",
            "Selecting previously unselected package chromium-chromedriver.\n",
            "Preparing to unpack .../chromium-chromedriver_99.0.4844.84-0ubuntu0.18.04.1_amd64.deb ...\n",
            "Unpacking chromium-chromedriver (99.0.4844.84-0ubuntu0.18.04.1) ...\n",
            "Setting up chromium-codecs-ffmpeg-extra (99.0.4844.84-0ubuntu0.18.04.1) ...\n",
            "Setting up chromium-browser (99.0.4844.84-0ubuntu0.18.04.1) ...\n",
            "update-alternatives: using /usr/bin/chromium-browser to provide /usr/bin/x-www-browser (x-www-browser) in auto mode\n",
            "update-alternatives: using /usr/bin/chromium-browser to provide /usr/bin/gnome-www-browser (gnome-www-browser) in auto mode\n",
            "Setting up chromium-chromedriver (99.0.4844.84-0ubuntu0.18.04.1) ...\n",
            "Setting up chromium-browser-l10n (99.0.4844.84-0ubuntu0.18.04.1) ...\n",
            "Processing triggers for man-db (2.8.3-2ubuntu0.1) ...\n",
            "Processing triggers for hicolor-icon-theme (0.17-2) ...\n",
            "Processing triggers for mime-support (3.60ubuntu1) ...\n",
            "Processing triggers for libc-bin (2.27-3ubuntu1.3) ...\n",
            "/sbin/ldconfig.real: /usr/local/lib/python3.7/dist-packages/ideep4py/lib/libmkldnn.so.0 is not a symbolic link\n",
            "\n"
          ]
        }
      ]
    },
    {
      "cell_type": "code",
      "metadata": {
        "id": "7NNHXzvKYJ2D",
        "outputId": "47bf7d0b-29a3-466c-c1b5-e91ecfe2a987",
        "colab": {
          "base_uri": "https://localhost:8080/"
        }
      },
      "source": [
        "! pip install --upgrade xlrd\n",
        "! pip install --upgrade openpyxl\n",
        "##html = requests.get('http://www.secmca.org/chart/?parent=Producci%C3%B3n&scid=2&cid=1&scsid=0&son=%C3%8Dndice%20Mensual%20de%20la%20Actividad%20Econ%C3%B3mica&url=11/14/3-13-50-17-4-52-161/39/265/19-258/444/' +\n",
        " #                   '20211-20212-20213-20214-20215-20216-20217-20218-20219-202110-202111-202112-20221-20222-20223-20224-20225-20226-20227-20228-20229-202210-202211-202212' +\n",
        " #                   '-&all_vars=2|IMAE,%20variaci%C3%B3n%20interanual')\n",
        "#soup = BeautifulSoup(html.text,'lxml')\n",
        "#table = soup.find_all('p', class_='text-right')\n",
        "#tablec = soup.find_all('th', colspan='1')\n",
        "\n",
        "#indicadores=[]\n",
        "#paises =[]\n",
        "#for i in range(len(table)):\n",
        " # ind = float(table[i].text)\n",
        "#  pais = tablec[i].text\n",
        "#  indicadores.append(ind)\n",
        " # paises.append(pais)\n",
        "\n",
        "#imae_latam =  pd.DataFrame(indicadores,index = paises,columns = ['IMAE'])\n",
        "#print(f'IMAE a {fecha}')\n",
        "#imae_latam"
      ],
      "execution_count": 2,
      "outputs": [
        {
          "output_type": "stream",
          "name": "stdout",
          "text": [
            "Requirement already satisfied: xlrd in /usr/local/lib/python3.7/dist-packages (1.1.0)\n",
            "Collecting xlrd\n",
            "  Downloading xlrd-2.0.1-py2.py3-none-any.whl (96 kB)\n",
            "\u001b[K     |████████████████████████████████| 96 kB 3.5 MB/s \n",
            "\u001b[?25hInstalling collected packages: xlrd\n",
            "  Attempting uninstall: xlrd\n",
            "    Found existing installation: xlrd 1.1.0\n",
            "    Uninstalling xlrd-1.1.0:\n",
            "      Successfully uninstalled xlrd-1.1.0\n",
            "Successfully installed xlrd-2.0.1\n",
            "Requirement already satisfied: openpyxl in /usr/local/lib/python3.7/dist-packages (3.0.9)\n",
            "Requirement already satisfied: et-xmlfile in /usr/local/lib/python3.7/dist-packages (from openpyxl) (1.1.0)\n"
          ]
        }
      ]
    },
    {
      "cell_type": "code",
      "metadata": {
        "id": "Uz9LSti34_nA"
      },
      "source": [
        "meses = [0,[1,'Enero'],[2,'Febrero'],[3,'Marzo'],[4,'Abril'],[5,'Mayo'],[6,'Junio'],[7,'Julio'],[8,'Agosto'],\n",
        "         [9,'Septiembre'],[10,'Octubre'],[11,'Noviembre'],[12,'Diciembre']]\n",
        "mes3 = {'ene':'Enero','feb':'Febrero','mar':'Marzo','abr':'Abril','may':'Mayo','jun':'Junio','jul':'Julio',\n",
        "        'ago':'Agosto','sep':'Septiembre','oct':'Octubre','nov':'Noviembre','dic':'Diciembre'}\n",
        "meses_dict = {0:'none',1:'Enero',2:'Febrero',3:'Marzo',4:'Abril',5:'Mayo',6:'Junio',7:'Julio',8:'Agosto',\n",
        "         9:'Septiembre',10:'Octubre',11:'Noviembre',12:'Diciembre'}\n",
        "\n",
        "header= {'User-Agent': 'Mozilla/5.0 (X11; Linux x86_64) ' \n",
        "      'AppleWebKit/537.11 (KHTML, like Gecko) '\n",
        "      'Chrome/23.0.1271.64 Safari/537.11',\n",
        "      'Accept': 'text/html,application/xhtml+xml,application/xml;q=0.9,*/*;q=0.8',\n",
        "      'Accept-Charset': 'ISO-8859-1,utf-8;q=0.7,*;q=0.3',\n",
        "      'Accept-Encoding': 'none',\n",
        "      'Accept-Language': 'en-US,en;q=0.8',\n",
        "      'Connection': 'keep-alive'}\n",
        "\n",
        "### import calendar\n",
        "\n",
        "# d = dict((v,k) for k,v in enumerate(calendar.month_abbr))\n",
        "# d"
      ],
      "execution_count": 3,
      "outputs": []
    },
    {
      "cell_type": "markdown",
      "metadata": {
        "id": "982BPh5jk93l"
      },
      "source": [
        "## Para obtener las series de todo el año 2021-2022\n"
      ]
    },
    {
      "cell_type": "markdown",
      "metadata": {
        "id": "pdxAyDPTJJzP"
      },
      "source": [
        "### **SECMCA**"
      ]
    },
    {
      "cell_type": "markdown",
      "metadata": {
        "id": "zyl75FG7ZOym"
      },
      "source": [
        "#### Publicaciones disponibles las fechas: \n",
        "\n",
        "#####    **El Salvador**\n",
        "- 29 Abril\n",
        "\n",
        "\n",
        "#####    **Panama**\n",
        "- 21 Mar (se publica Dic y enero )\n",
        "- 19 Abr\n",
        "- 19 May\n",
        "- 20 Jun\n",
        "- 19 Jul\n",
        "- 18 ago\n",
        "\n",
        "\n",
        "#####    **Honduras**\n",
        "-. Preliminar 20 de cada mes, con 50 días de rezago y\n",
        "revisado 30 días después"
      ]
    },
    {
      "cell_type": "code",
      "source": [
        "html2 = requests.get('https://www.secmca.org/chart/?parent=Producci%C3%B3n&scid=2&cid=1&scsid=0&son=%C3%8Dndice%20Mensual%20de%20la%20Actividad%20Econ%C3%B3mica&url=11/14/3-13-50-17-4-52-161/39/265/19-258/81/20171-20172-20173-20174-20175-20176-20177-20178-20179-201710-201711-201712-20181-20182-20183-20184-20185-20186-20187-20188-20189-201810-201811-201812-20191-20192-20193-20194-20195-20196-20197-20198-20199-201910-201911-201912-' +\n",
        "'20201-20202-20203-20204-20205-20206-20207-20208-20209-202010-202011-202012-20211-20212-20213-20214-20215-20216-20217-20218-20219-202110-202111-202112-&all_vars=1|IMAE').text"
      ],
      "metadata": {
        "id": "VuY6T5tLmMwq"
      },
      "execution_count": 4,
      "outputs": []
    },
    {
      "cell_type": "code",
      "metadata": {
        "id": "DKeFlSnZ9utv"
      },
      "source": [
        "# INDICE VERSION\n",
        "html1 = requests.get('http://www.secmca.org/chart/?parent=Producci%C3%B3n&scid=2&cid=1&scsid=0&son=%C3%8Dndice%20Mensual%20de%20la%20Actividad%20Econ%C3%B3mica&url=11/14/3-13-50-17-4-52-161/39/265/19-258/81/' +\n",
        "  '20171-20172-20173-20174-20175-20176-20177-20178-20179-201710-201711-201712-20181-20182-20183-20184-20185-20186-20187-20188-20189-201810-201811-201812-20191-20192-20193-20194-20195-20196-20197-20198-20199-201910-201911-201912-' +\n",
        "  '20201-20202-20203-20204-20205-20206-20207-20208-20209-202010-202011-202012-20211-20212-20213-20214-20215-20216-20217-20218-20219-202110-202111-202112-20221-20222-20223-20224-20225-20226-20227-20228-20229-202210-202211-202212' +\n",
        "  '-&all_vars=1|IMAE').text\n",
        "soup1 = BeautifulSoup(html1,'lxml')\n",
        "\n",
        "tabpais = soup1.find_all('th', colspan='1')\n",
        "table = soup1.find_all('p', class_='text-left')\n"
      ],
      "execution_count": 5,
      "outputs": []
    },
    {
      "cell_type": "code",
      "source": [
        "fechas = []\n",
        "for i in range(len(table)):\n",
        "  x = re.sub(\" \",\"\",table[i].text)\n",
        "  fechas.append(x.replace(\"\\n\",\"\").replace('Setiembre','Septiembre'))\n",
        "\n",
        "paises = [tabpais[i].text for i in range(len(tabpais))]\n",
        "fechas[-1]"
      ],
      "metadata": {
        "id": "gpzN8UFQjDg-",
        "outputId": "e4d483e9-6c49-4ede-bbcf-be4d6221a287",
        "colab": {
          "base_uri": "https://localhost:8080/",
          "height": 34
        }
      },
      "execution_count": 6,
      "outputs": [
        {
          "output_type": "execute_result",
          "data": {
            "text/plain": [
              "'2022-Febrero'"
            ],
            "application/vnd.google.colaboratory.intrinsic+json": {
              "type": "string"
            }
          },
          "metadata": {},
          "execution_count": 6
        }
      ]
    },
    {
      "cell_type": "code",
      "metadata": {
        "id": "jH_Esksz-nsh",
        "outputId": "8da9d11f-555d-422e-ba3c-d471a9b6c6a3",
        "colab": {
          "base_uri": "https://localhost:8080/",
          "height": 206
        }
      },
      "source": [
        "#INDICE\n",
        "table1 = soup1.find_all('p', class_='text-right')\n",
        "matriz = np.array([])\n",
        "for i in table1:\n",
        "  matriz = np.array(np.append(matriz,i))\n",
        "matriz = np.where(matriz==\"--\", np.nan, matriz).astype(float)\n",
        "matriz = matriz.reshape(-1,7) # 7 paises\n",
        "imaeLA = pd.DataFrame(matriz,index=fechas,columns=paises)\n",
        "imaeLA.tail()"
      ],
      "execution_count": 63,
      "outputs": [
        {
          "output_type": "execute_result",
          "data": {
            "text/plain": [
              "                Costa Rica  El Salvador  Guatemala  Honduras  Nicaragua  \\\n",
              "2021-Octubre        112.00       110.10     131.41    265.86     161.23   \n",
              "2021-Noviembre      117.53       117.01     135.90    266.16     169.25   \n",
              "2021-Diciembre      120.40       123.01     141.42    281.11     179.84   \n",
              "2022-Enero          106.03       107.50     134.62    249.01     166.28   \n",
              "2022-Febrero           NaN          NaN        NaN       NaN        NaN   \n",
              "\n",
              "                República Dominicana  Panamá  \n",
              "2021-Octubre                  192.05  344.84  \n",
              "2021-Noviembre                204.87  333.33  \n",
              "2021-Diciembre                212.34  396.97  \n",
              "2022-Enero                    187.03  339.65  \n",
              "2022-Febrero                  196.06     NaN  "
            ],
            "text/html": [
              "\n",
              "  <div id=\"df-4f14595e-05a1-4b8b-8959-910c9f556dc9\">\n",
              "    <div class=\"colab-df-container\">\n",
              "      <div>\n",
              "<style scoped>\n",
              "    .dataframe tbody tr th:only-of-type {\n",
              "        vertical-align: middle;\n",
              "    }\n",
              "\n",
              "    .dataframe tbody tr th {\n",
              "        vertical-align: top;\n",
              "    }\n",
              "\n",
              "    .dataframe thead th {\n",
              "        text-align: right;\n",
              "    }\n",
              "</style>\n",
              "<table border=\"1\" class=\"dataframe\">\n",
              "  <thead>\n",
              "    <tr style=\"text-align: right;\">\n",
              "      <th></th>\n",
              "      <th>Costa Rica</th>\n",
              "      <th>El Salvador</th>\n",
              "      <th>Guatemala</th>\n",
              "      <th>Honduras</th>\n",
              "      <th>Nicaragua</th>\n",
              "      <th>República Dominicana</th>\n",
              "      <th>Panamá</th>\n",
              "    </tr>\n",
              "  </thead>\n",
              "  <tbody>\n",
              "    <tr>\n",
              "      <th>2021-Octubre</th>\n",
              "      <td>112.00</td>\n",
              "      <td>110.10</td>\n",
              "      <td>131.41</td>\n",
              "      <td>265.86</td>\n",
              "      <td>161.23</td>\n",
              "      <td>192.05</td>\n",
              "      <td>344.84</td>\n",
              "    </tr>\n",
              "    <tr>\n",
              "      <th>2021-Noviembre</th>\n",
              "      <td>117.53</td>\n",
              "      <td>117.01</td>\n",
              "      <td>135.90</td>\n",
              "      <td>266.16</td>\n",
              "      <td>169.25</td>\n",
              "      <td>204.87</td>\n",
              "      <td>333.33</td>\n",
              "    </tr>\n",
              "    <tr>\n",
              "      <th>2021-Diciembre</th>\n",
              "      <td>120.40</td>\n",
              "      <td>123.01</td>\n",
              "      <td>141.42</td>\n",
              "      <td>281.11</td>\n",
              "      <td>179.84</td>\n",
              "      <td>212.34</td>\n",
              "      <td>396.97</td>\n",
              "    </tr>\n",
              "    <tr>\n",
              "      <th>2022-Enero</th>\n",
              "      <td>106.03</td>\n",
              "      <td>107.50</td>\n",
              "      <td>134.62</td>\n",
              "      <td>249.01</td>\n",
              "      <td>166.28</td>\n",
              "      <td>187.03</td>\n",
              "      <td>339.65</td>\n",
              "    </tr>\n",
              "    <tr>\n",
              "      <th>2022-Febrero</th>\n",
              "      <td>NaN</td>\n",
              "      <td>NaN</td>\n",
              "      <td>NaN</td>\n",
              "      <td>NaN</td>\n",
              "      <td>NaN</td>\n",
              "      <td>196.06</td>\n",
              "      <td>NaN</td>\n",
              "    </tr>\n",
              "  </tbody>\n",
              "</table>\n",
              "</div>\n",
              "      <button class=\"colab-df-convert\" onclick=\"convertToInteractive('df-4f14595e-05a1-4b8b-8959-910c9f556dc9')\"\n",
              "              title=\"Convert this dataframe to an interactive table.\"\n",
              "              style=\"display:none;\">\n",
              "        \n",
              "  <svg xmlns=\"http://www.w3.org/2000/svg\" height=\"24px\"viewBox=\"0 0 24 24\"\n",
              "       width=\"24px\">\n",
              "    <path d=\"M0 0h24v24H0V0z\" fill=\"none\"/>\n",
              "    <path d=\"M18.56 5.44l.94 2.06.94-2.06 2.06-.94-2.06-.94-.94-2.06-.94 2.06-2.06.94zm-11 1L8.5 8.5l.94-2.06 2.06-.94-2.06-.94L8.5 2.5l-.94 2.06-2.06.94zm10 10l.94 2.06.94-2.06 2.06-.94-2.06-.94-.94-2.06-.94 2.06-2.06.94z\"/><path d=\"M17.41 7.96l-1.37-1.37c-.4-.4-.92-.59-1.43-.59-.52 0-1.04.2-1.43.59L10.3 9.45l-7.72 7.72c-.78.78-.78 2.05 0 2.83L4 21.41c.39.39.9.59 1.41.59.51 0 1.02-.2 1.41-.59l7.78-7.78 2.81-2.81c.8-.78.8-2.07 0-2.86zM5.41 20L4 18.59l7.72-7.72 1.47 1.35L5.41 20z\"/>\n",
              "  </svg>\n",
              "      </button>\n",
              "      \n",
              "  <style>\n",
              "    .colab-df-container {\n",
              "      display:flex;\n",
              "      flex-wrap:wrap;\n",
              "      gap: 12px;\n",
              "    }\n",
              "\n",
              "    .colab-df-convert {\n",
              "      background-color: #E8F0FE;\n",
              "      border: none;\n",
              "      border-radius: 50%;\n",
              "      cursor: pointer;\n",
              "      display: none;\n",
              "      fill: #1967D2;\n",
              "      height: 32px;\n",
              "      padding: 0 0 0 0;\n",
              "      width: 32px;\n",
              "    }\n",
              "\n",
              "    .colab-df-convert:hover {\n",
              "      background-color: #E2EBFA;\n",
              "      box-shadow: 0px 1px 2px rgba(60, 64, 67, 0.3), 0px 1px 3px 1px rgba(60, 64, 67, 0.15);\n",
              "      fill: #174EA6;\n",
              "    }\n",
              "\n",
              "    [theme=dark] .colab-df-convert {\n",
              "      background-color: #3B4455;\n",
              "      fill: #D2E3FC;\n",
              "    }\n",
              "\n",
              "    [theme=dark] .colab-df-convert:hover {\n",
              "      background-color: #434B5C;\n",
              "      box-shadow: 0px 1px 3px 1px rgba(0, 0, 0, 0.15);\n",
              "      filter: drop-shadow(0px 1px 2px rgba(0, 0, 0, 0.3));\n",
              "      fill: #FFFFFF;\n",
              "    }\n",
              "  </style>\n",
              "\n",
              "      <script>\n",
              "        const buttonEl =\n",
              "          document.querySelector('#df-4f14595e-05a1-4b8b-8959-910c9f556dc9 button.colab-df-convert');\n",
              "        buttonEl.style.display =\n",
              "          google.colab.kernel.accessAllowed ? 'block' : 'none';\n",
              "\n",
              "        async function convertToInteractive(key) {\n",
              "          const element = document.querySelector('#df-4f14595e-05a1-4b8b-8959-910c9f556dc9');\n",
              "          const dataTable =\n",
              "            await google.colab.kernel.invokeFunction('convertToInteractive',\n",
              "                                                     [key], {});\n",
              "          if (!dataTable) return;\n",
              "\n",
              "          const docLinkHtml = 'Like what you see? Visit the ' +\n",
              "            '<a target=\"_blank\" href=https://colab.research.google.com/notebooks/data_table.ipynb>data table notebook</a>'\n",
              "            + ' to learn more about interactive tables.';\n",
              "          element.innerHTML = '';\n",
              "          dataTable['output_type'] = 'display_data';\n",
              "          await google.colab.output.renderOutput(dataTable, element);\n",
              "          const docLink = document.createElement('div');\n",
              "          docLink.innerHTML = docLinkHtml;\n",
              "          element.appendChild(docLink);\n",
              "        }\n",
              "      </script>\n",
              "    </div>\n",
              "  </div>\n",
              "  "
            ]
          },
          "metadata": {},
          "execution_count": 63
        }
      ]
    },
    {
      "cell_type": "markdown",
      "metadata": {
        "id": "HZYnwfqqr7tE"
      },
      "source": [
        "import re\n",
        "tabpais = soup.find_all('th', colspan='1')\n",
        "table = soup.find_all('p', class_='text-left')\n",
        "fechas = []\n",
        "paises =[]\n",
        "for i in range(len(table)):\n",
        "  x = re.sub(\" \",\"\",table[i].text)\n",
        "  fechas.append(x.replace(\"\\n\",\"\"))\n",
        "  pais = tabpais[i].text\n",
        "  #indicadores.append(ind)\n",
        "  paises.append(pais)\n",
        "fechas[-1]"
      ]
    },
    {
      "cell_type": "markdown",
      "metadata": {
        "id": "sCY1EzkcvFfD"
      },
      "source": [
        "table1 = soup.find_all('p', class_='text-right')\n",
        "matriz = np.array([])\n",
        "for i in table1:\n",
        "  matriz = np.array(np.append(matriz,i))\n",
        "matriz = np.where(matriz==\"--\", np.nan, matriz).astype(np.float)\n",
        "matriz = matriz.reshape(-1,7) # 7 paises\n",
        "imaeLA = pd.DataFrame(matriz,index=fechas,columns=paises)\n",
        "imaeLA"
      ]
    },
    {
      "cell_type": "markdown",
      "metadata": {
        "id": "mng9xQCphxaK"
      },
      "source": [
        "### **Argentina**\n"
      ]
    },
    {
      "cell_type": "markdown",
      "metadata": {
        "id": "5HGhiXY6MURL"
      },
      "source": [
        "#### Publicaciones disponibles las fechas: \n",
        "<h3>2022 </h3>\n"
      ]
    },
    {
      "cell_type": "code",
      "metadata": {
        "id": "8lHpEj4I7Kkk"
      },
      "source": [
        "url = \"https://www.indec.gob.ar/ftp/cuadros/economia/sh_emae_mensual_base2004.xls\"\n",
        "urllib2.urlretrieve(url, \"test.xls\")\n",
        "data = pd.read_excel('test.xls',header=2)[2:]\n",
        "data1 = data.iloc[:,:4].dropna(subset = [data.columns[1]]) # data.columns[1] es la columna de los meses\n",
        "data1.reset_index(drop=True,inplace=True)\n",
        "data1[data1.columns[0]] = data1[data1.columns[0]].ffill() # forward fill # para los años   data1.columns[0] es la columna de los años\n",
        "data1 = data1.iloc[11:,:3]"
      ],
      "execution_count": 8,
      "outputs": []
    },
    {
      "cell_type": "code",
      "metadata": {
        "id": "AEop9VIOYe7t",
        "colab": {
          "base_uri": "https://localhost:8080/"
        },
        "outputId": "3b9841ad-1f32-4edf-ef80-b836c3f7f8c3"
      },
      "source": [
        "data1['fecha'] = data1[data1.columns[0]].astype(int).astype(str) +\"-\"+ data1[data1.columns[1]]\n",
        "data1.set_index(data1.fecha,inplace=True)\n",
        "data1.iloc[:,2].tail(1)"
      ],
      "execution_count": 9,
      "outputs": [
        {
          "output_type": "execute_result",
          "data": {
            "text/plain": [
              "fecha\n",
              "2022-Enero    136.51119\n",
              "Name: Índice Serie Original\\n2004=100, dtype: float64"
            ]
          },
          "metadata": {},
          "execution_count": 9
        }
      ]
    },
    {
      "cell_type": "code",
      "metadata": {
        "id": "X0Sd_s4JR1iO",
        "colab": {
          "base_uri": "https://localhost:8080/",
          "height": 81
        },
        "outputId": "355877bf-fc47-4bdd-be22-7d3ef7ab4457"
      },
      "source": [
        "imaela = pd.merge(imaeLA,data1.iloc[:,2],how='left',left_index=True,right_index=True)\n",
        "imaela.columns = [*imaela.columns[:-1], 'Argentina']\n",
        "imaela.tail(1)"
      ],
      "execution_count": 72,
      "outputs": [
        {
          "output_type": "execute_result",
          "data": {
            "text/plain": [
              "              Costa Rica  El Salvador  Guatemala  Honduras  Nicaragua  \\\n",
              "2022-Febrero         NaN          NaN        NaN       NaN        NaN   \n",
              "\n",
              "              República Dominicana  Panamá  Argentina  \n",
              "2022-Febrero                196.06     NaN        NaN  "
            ],
            "text/html": [
              "\n",
              "  <div id=\"df-71000e15-11b3-4baa-8d54-2ea3ca543599\">\n",
              "    <div class=\"colab-df-container\">\n",
              "      <div>\n",
              "<style scoped>\n",
              "    .dataframe tbody tr th:only-of-type {\n",
              "        vertical-align: middle;\n",
              "    }\n",
              "\n",
              "    .dataframe tbody tr th {\n",
              "        vertical-align: top;\n",
              "    }\n",
              "\n",
              "    .dataframe thead th {\n",
              "        text-align: right;\n",
              "    }\n",
              "</style>\n",
              "<table border=\"1\" class=\"dataframe\">\n",
              "  <thead>\n",
              "    <tr style=\"text-align: right;\">\n",
              "      <th></th>\n",
              "      <th>Costa Rica</th>\n",
              "      <th>El Salvador</th>\n",
              "      <th>Guatemala</th>\n",
              "      <th>Honduras</th>\n",
              "      <th>Nicaragua</th>\n",
              "      <th>República Dominicana</th>\n",
              "      <th>Panamá</th>\n",
              "      <th>Argentina</th>\n",
              "    </tr>\n",
              "  </thead>\n",
              "  <tbody>\n",
              "    <tr>\n",
              "      <th>2022-Febrero</th>\n",
              "      <td>NaN</td>\n",
              "      <td>NaN</td>\n",
              "      <td>NaN</td>\n",
              "      <td>NaN</td>\n",
              "      <td>NaN</td>\n",
              "      <td>196.06</td>\n",
              "      <td>NaN</td>\n",
              "      <td>NaN</td>\n",
              "    </tr>\n",
              "  </tbody>\n",
              "</table>\n",
              "</div>\n",
              "      <button class=\"colab-df-convert\" onclick=\"convertToInteractive('df-71000e15-11b3-4baa-8d54-2ea3ca543599')\"\n",
              "              title=\"Convert this dataframe to an interactive table.\"\n",
              "              style=\"display:none;\">\n",
              "        \n",
              "  <svg xmlns=\"http://www.w3.org/2000/svg\" height=\"24px\"viewBox=\"0 0 24 24\"\n",
              "       width=\"24px\">\n",
              "    <path d=\"M0 0h24v24H0V0z\" fill=\"none\"/>\n",
              "    <path d=\"M18.56 5.44l.94 2.06.94-2.06 2.06-.94-2.06-.94-.94-2.06-.94 2.06-2.06.94zm-11 1L8.5 8.5l.94-2.06 2.06-.94-2.06-.94L8.5 2.5l-.94 2.06-2.06.94zm10 10l.94 2.06.94-2.06 2.06-.94-2.06-.94-.94-2.06-.94 2.06-2.06.94z\"/><path d=\"M17.41 7.96l-1.37-1.37c-.4-.4-.92-.59-1.43-.59-.52 0-1.04.2-1.43.59L10.3 9.45l-7.72 7.72c-.78.78-.78 2.05 0 2.83L4 21.41c.39.39.9.59 1.41.59.51 0 1.02-.2 1.41-.59l7.78-7.78 2.81-2.81c.8-.78.8-2.07 0-2.86zM5.41 20L4 18.59l7.72-7.72 1.47 1.35L5.41 20z\"/>\n",
              "  </svg>\n",
              "      </button>\n",
              "      \n",
              "  <style>\n",
              "    .colab-df-container {\n",
              "      display:flex;\n",
              "      flex-wrap:wrap;\n",
              "      gap: 12px;\n",
              "    }\n",
              "\n",
              "    .colab-df-convert {\n",
              "      background-color: #E8F0FE;\n",
              "      border: none;\n",
              "      border-radius: 50%;\n",
              "      cursor: pointer;\n",
              "      display: none;\n",
              "      fill: #1967D2;\n",
              "      height: 32px;\n",
              "      padding: 0 0 0 0;\n",
              "      width: 32px;\n",
              "    }\n",
              "\n",
              "    .colab-df-convert:hover {\n",
              "      background-color: #E2EBFA;\n",
              "      box-shadow: 0px 1px 2px rgba(60, 64, 67, 0.3), 0px 1px 3px 1px rgba(60, 64, 67, 0.15);\n",
              "      fill: #174EA6;\n",
              "    }\n",
              "\n",
              "    [theme=dark] .colab-df-convert {\n",
              "      background-color: #3B4455;\n",
              "      fill: #D2E3FC;\n",
              "    }\n",
              "\n",
              "    [theme=dark] .colab-df-convert:hover {\n",
              "      background-color: #434B5C;\n",
              "      box-shadow: 0px 1px 3px 1px rgba(0, 0, 0, 0.15);\n",
              "      filter: drop-shadow(0px 1px 2px rgba(0, 0, 0, 0.3));\n",
              "      fill: #FFFFFF;\n",
              "    }\n",
              "  </style>\n",
              "\n",
              "      <script>\n",
              "        const buttonEl =\n",
              "          document.querySelector('#df-71000e15-11b3-4baa-8d54-2ea3ca543599 button.colab-df-convert');\n",
              "        buttonEl.style.display =\n",
              "          google.colab.kernel.accessAllowed ? 'block' : 'none';\n",
              "\n",
              "        async function convertToInteractive(key) {\n",
              "          const element = document.querySelector('#df-71000e15-11b3-4baa-8d54-2ea3ca543599');\n",
              "          const dataTable =\n",
              "            await google.colab.kernel.invokeFunction('convertToInteractive',\n",
              "                                                     [key], {});\n",
              "          if (!dataTable) return;\n",
              "\n",
              "          const docLinkHtml = 'Like what you see? Visit the ' +\n",
              "            '<a target=\"_blank\" href=https://colab.research.google.com/notebooks/data_table.ipynb>data table notebook</a>'\n",
              "            + ' to learn more about interactive tables.';\n",
              "          element.innerHTML = '';\n",
              "          dataTable['output_type'] = 'display_data';\n",
              "          await google.colab.output.renderOutput(dataTable, element);\n",
              "          const docLink = document.createElement('div');\n",
              "          docLink.innerHTML = docLinkHtml;\n",
              "          element.appendChild(docLink);\n",
              "        }\n",
              "      </script>\n",
              "    </div>\n",
              "  </div>\n",
              "  "
            ]
          },
          "metadata": {},
          "execution_count": 72
        }
      ]
    },
    {
      "cell_type": "markdown",
      "metadata": {
        "id": "A2MSTFg45f_H"
      },
      "source": [
        "### **Chile**"
      ]
    },
    {
      "cell_type": "markdown",
      "metadata": {
        "id": "hqlvksKyKnZL"
      },
      "source": [
        "#### Publicaciones disponibles las fechas:\n",
        " \n",
        "-   1ero o 2do día de cada mes"
      ]
    },
    {
      "cell_type": "code",
      "metadata": {
        "id": "bKL_VCs35h82"
      },
      "source": [
        "url = \"https://si3.bcentral.cl/estadisticas/Principal1/excel/CCNN/IMACEC/Excel/IMACEC.xlsx\"\n",
        "urllib2.urlretrieve(url, \"chile.xlsx\")\n",
        "df = pd.read_excel('chile.xlsx',header=5,keep_default_na=False)"
      ],
      "execution_count": 65,
      "outputs": []
    },
    {
      "cell_type": "code",
      "metadata": {
        "id": "Gv8NAd-xcUEZ",
        "colab": {
          "base_uri": "https://localhost:8080/",
          "height": 112
        },
        "outputId": "a0c05d8d-60d4-4e45-dbc9-67ec1cc8a7bb"
      },
      "source": [
        "df.columns = df.columns.str.strip() # eliminar espacios innecesarios\n",
        "chile = df.loc[1:,[df.columns[0],df.columns[1],'Imacec']][:-10] # excluimos las ultimas 10 filas (pie de pagina)\n",
        "chile.rename(columns = {'Imacec':'Chile'}, inplace = True) # renombramos\n",
        "chile['Chile1'] = pd.to_numeric(chile.Chile).pct_change(12)*100\n",
        "###\n",
        "chile[chile.columns[0]] = pd.to_numeric(chile[chile.columns[0]], errors='coerce').ffill().bfill().astype(int)\n",
        " # las columnas del excel contienen string en blanco por lo que se transformaron a numero antes de hacer el forward fill\n",
        " # el backward fill es para asegurar que no quede NaN por detras y dificulte la creacion del indice\n",
        "###\n",
        "\n",
        "chile['mes'] = chile[chile.columns[1]].map(mes3).bfill() # creando mes y usando el bfill por el mismo motivo explicado arriba\n",
        "\n",
        "#Creamos el indice\n",
        "chile.index = chile[chile.columns[0]].astype('str') +\"-\"+ chile.mes\n",
        "\n",
        "chile.tail(2)"
      ],
      "execution_count": 77,
      "outputs": [
        {
          "output_type": "execute_result",
          "data": {
            "text/plain": [
              "                   Unnamed: 1       Chile    Chile1      mes\n",
              "2022-Enero    2022        ene  105.393459  9.609727    Enero\n",
              "2022-Febrero  2022        feb   98.883115  6.828366  Febrero"
            ],
            "text/html": [
              "\n",
              "  <div id=\"df-849d5958-8e6e-4029-87f3-3b827305b896\">\n",
              "    <div class=\"colab-df-container\">\n",
              "      <div>\n",
              "<style scoped>\n",
              "    .dataframe tbody tr th:only-of-type {\n",
              "        vertical-align: middle;\n",
              "    }\n",
              "\n",
              "    .dataframe tbody tr th {\n",
              "        vertical-align: top;\n",
              "    }\n",
              "\n",
              "    .dataframe thead th {\n",
              "        text-align: right;\n",
              "    }\n",
              "</style>\n",
              "<table border=\"1\" class=\"dataframe\">\n",
              "  <thead>\n",
              "    <tr style=\"text-align: right;\">\n",
              "      <th></th>\n",
              "      <th></th>\n",
              "      <th>Unnamed: 1</th>\n",
              "      <th>Chile</th>\n",
              "      <th>Chile1</th>\n",
              "      <th>mes</th>\n",
              "    </tr>\n",
              "  </thead>\n",
              "  <tbody>\n",
              "    <tr>\n",
              "      <th>2022-Enero</th>\n",
              "      <td>2022</td>\n",
              "      <td>ene</td>\n",
              "      <td>105.393459</td>\n",
              "      <td>9.609727</td>\n",
              "      <td>Enero</td>\n",
              "    </tr>\n",
              "    <tr>\n",
              "      <th>2022-Febrero</th>\n",
              "      <td>2022</td>\n",
              "      <td>feb</td>\n",
              "      <td>98.883115</td>\n",
              "      <td>6.828366</td>\n",
              "      <td>Febrero</td>\n",
              "    </tr>\n",
              "  </tbody>\n",
              "</table>\n",
              "</div>\n",
              "      <button class=\"colab-df-convert\" onclick=\"convertToInteractive('df-849d5958-8e6e-4029-87f3-3b827305b896')\"\n",
              "              title=\"Convert this dataframe to an interactive table.\"\n",
              "              style=\"display:none;\">\n",
              "        \n",
              "  <svg xmlns=\"http://www.w3.org/2000/svg\" height=\"24px\"viewBox=\"0 0 24 24\"\n",
              "       width=\"24px\">\n",
              "    <path d=\"M0 0h24v24H0V0z\" fill=\"none\"/>\n",
              "    <path d=\"M18.56 5.44l.94 2.06.94-2.06 2.06-.94-2.06-.94-.94-2.06-.94 2.06-2.06.94zm-11 1L8.5 8.5l.94-2.06 2.06-.94-2.06-.94L8.5 2.5l-.94 2.06-2.06.94zm10 10l.94 2.06.94-2.06 2.06-.94-2.06-.94-.94-2.06-.94 2.06-2.06.94z\"/><path d=\"M17.41 7.96l-1.37-1.37c-.4-.4-.92-.59-1.43-.59-.52 0-1.04.2-1.43.59L10.3 9.45l-7.72 7.72c-.78.78-.78 2.05 0 2.83L4 21.41c.39.39.9.59 1.41.59.51 0 1.02-.2 1.41-.59l7.78-7.78 2.81-2.81c.8-.78.8-2.07 0-2.86zM5.41 20L4 18.59l7.72-7.72 1.47 1.35L5.41 20z\"/>\n",
              "  </svg>\n",
              "      </button>\n",
              "      \n",
              "  <style>\n",
              "    .colab-df-container {\n",
              "      display:flex;\n",
              "      flex-wrap:wrap;\n",
              "      gap: 12px;\n",
              "    }\n",
              "\n",
              "    .colab-df-convert {\n",
              "      background-color: #E8F0FE;\n",
              "      border: none;\n",
              "      border-radius: 50%;\n",
              "      cursor: pointer;\n",
              "      display: none;\n",
              "      fill: #1967D2;\n",
              "      height: 32px;\n",
              "      padding: 0 0 0 0;\n",
              "      width: 32px;\n",
              "    }\n",
              "\n",
              "    .colab-df-convert:hover {\n",
              "      background-color: #E2EBFA;\n",
              "      box-shadow: 0px 1px 2px rgba(60, 64, 67, 0.3), 0px 1px 3px 1px rgba(60, 64, 67, 0.15);\n",
              "      fill: #174EA6;\n",
              "    }\n",
              "\n",
              "    [theme=dark] .colab-df-convert {\n",
              "      background-color: #3B4455;\n",
              "      fill: #D2E3FC;\n",
              "    }\n",
              "\n",
              "    [theme=dark] .colab-df-convert:hover {\n",
              "      background-color: #434B5C;\n",
              "      box-shadow: 0px 1px 3px 1px rgba(0, 0, 0, 0.15);\n",
              "      filter: drop-shadow(0px 1px 2px rgba(0, 0, 0, 0.3));\n",
              "      fill: #FFFFFF;\n",
              "    }\n",
              "  </style>\n",
              "\n",
              "      <script>\n",
              "        const buttonEl =\n",
              "          document.querySelector('#df-849d5958-8e6e-4029-87f3-3b827305b896 button.colab-df-convert');\n",
              "        buttonEl.style.display =\n",
              "          google.colab.kernel.accessAllowed ? 'block' : 'none';\n",
              "\n",
              "        async function convertToInteractive(key) {\n",
              "          const element = document.querySelector('#df-849d5958-8e6e-4029-87f3-3b827305b896');\n",
              "          const dataTable =\n",
              "            await google.colab.kernel.invokeFunction('convertToInteractive',\n",
              "                                                     [key], {});\n",
              "          if (!dataTable) return;\n",
              "\n",
              "          const docLinkHtml = 'Like what you see? Visit the ' +\n",
              "            '<a target=\"_blank\" href=https://colab.research.google.com/notebooks/data_table.ipynb>data table notebook</a>'\n",
              "            + ' to learn more about interactive tables.';\n",
              "          element.innerHTML = '';\n",
              "          dataTable['output_type'] = 'display_data';\n",
              "          await google.colab.output.renderOutput(dataTable, element);\n",
              "          const docLink = document.createElement('div');\n",
              "          docLink.innerHTML = docLinkHtml;\n",
              "          element.appendChild(docLink);\n",
              "        }\n",
              "      </script>\n",
              "    </div>\n",
              "  </div>\n",
              "  "
            ]
          },
          "metadata": {},
          "execution_count": 77
        }
      ]
    },
    {
      "cell_type": "code",
      "source": [
        "# df.head()\n",
        "# df.columns = df.columns.str.strip()"
      ],
      "metadata": {
        "id": "KBfFjAM8_spy"
      },
      "execution_count": 67,
      "outputs": []
    },
    {
      "cell_type": "code",
      "metadata": {
        "id": "Imhrlm8mSnTJ"
      },
      "source": [
        " pd.to_numeric(chile[chile.columns[0]], errors='coerce')\n",
        " chile = chile.iloc[5:] # para contar desde 2018"
      ],
      "execution_count": 81,
      "outputs": []
    },
    {
      "cell_type": "code",
      "metadata": {
        "id": "euH3hfbWtab4"
      },
      "source": [
        "# right para contar con la ultima informacion de chile, ya que publica primero\n",
        "imaela = round(imaela.merge(chile['Chile'],how='left',left_index=True,right_index=True),2)\n",
        "#imaelatam = imaelatam[~imaelatam.index.duplicated(keep='last')].reindex(imaela.index) # hay duplicados, los eliminamos y reindexamos"
      ],
      "execution_count": 83,
      "outputs": []
    },
    {
      "cell_type": "code",
      "metadata": {
        "id": "6kQyvbAHrg2D",
        "outputId": "ced463e0-f410-45c2-801f-2d55004f9ba7",
        "colab": {
          "base_uri": "https://localhost:8080/",
          "height": 206
        }
      },
      "source": [
        "imaela.tail(5)"
      ],
      "execution_count": 84,
      "outputs": [
        {
          "output_type": "execute_result",
          "data": {
            "text/plain": [
              "                Costa Rica  El Salvador  Guatemala  Honduras  Nicaragua  \\\n",
              "2021-Octubre        112.00       110.10     131.41    265.86     161.23   \n",
              "2021-Noviembre      117.53       117.01     135.90    266.16     169.25   \n",
              "2021-Diciembre      120.40       123.01     141.42    281.11     179.84   \n",
              "2022-Enero          106.03       107.50     134.62    249.01     166.28   \n",
              "2022-Febrero           NaN          NaN        NaN       NaN        NaN   \n",
              "\n",
              "                República Dominicana  Panamá  Argentina       Chile  \n",
              "2021-Octubre                  192.05  344.84     140.54  110.894921  \n",
              "2021-Noviembre                204.87  333.33     145.25  116.334812  \n",
              "2021-Diciembre                212.34  396.97     145.65  120.318627  \n",
              "2022-Enero                    187.03  339.65     136.51  105.393459  \n",
              "2022-Febrero                  196.06     NaN        NaN   98.883115  "
            ],
            "text/html": [
              "\n",
              "  <div id=\"df-ef4867a0-8c10-4f8d-a8eb-54f4611f2b62\">\n",
              "    <div class=\"colab-df-container\">\n",
              "      <div>\n",
              "<style scoped>\n",
              "    .dataframe tbody tr th:only-of-type {\n",
              "        vertical-align: middle;\n",
              "    }\n",
              "\n",
              "    .dataframe tbody tr th {\n",
              "        vertical-align: top;\n",
              "    }\n",
              "\n",
              "    .dataframe thead th {\n",
              "        text-align: right;\n",
              "    }\n",
              "</style>\n",
              "<table border=\"1\" class=\"dataframe\">\n",
              "  <thead>\n",
              "    <tr style=\"text-align: right;\">\n",
              "      <th></th>\n",
              "      <th>Costa Rica</th>\n",
              "      <th>El Salvador</th>\n",
              "      <th>Guatemala</th>\n",
              "      <th>Honduras</th>\n",
              "      <th>Nicaragua</th>\n",
              "      <th>República Dominicana</th>\n",
              "      <th>Panamá</th>\n",
              "      <th>Argentina</th>\n",
              "      <th>Chile</th>\n",
              "    </tr>\n",
              "  </thead>\n",
              "  <tbody>\n",
              "    <tr>\n",
              "      <th>2021-Octubre</th>\n",
              "      <td>112.00</td>\n",
              "      <td>110.10</td>\n",
              "      <td>131.41</td>\n",
              "      <td>265.86</td>\n",
              "      <td>161.23</td>\n",
              "      <td>192.05</td>\n",
              "      <td>344.84</td>\n",
              "      <td>140.54</td>\n",
              "      <td>110.894921</td>\n",
              "    </tr>\n",
              "    <tr>\n",
              "      <th>2021-Noviembre</th>\n",
              "      <td>117.53</td>\n",
              "      <td>117.01</td>\n",
              "      <td>135.90</td>\n",
              "      <td>266.16</td>\n",
              "      <td>169.25</td>\n",
              "      <td>204.87</td>\n",
              "      <td>333.33</td>\n",
              "      <td>145.25</td>\n",
              "      <td>116.334812</td>\n",
              "    </tr>\n",
              "    <tr>\n",
              "      <th>2021-Diciembre</th>\n",
              "      <td>120.40</td>\n",
              "      <td>123.01</td>\n",
              "      <td>141.42</td>\n",
              "      <td>281.11</td>\n",
              "      <td>179.84</td>\n",
              "      <td>212.34</td>\n",
              "      <td>396.97</td>\n",
              "      <td>145.65</td>\n",
              "      <td>120.318627</td>\n",
              "    </tr>\n",
              "    <tr>\n",
              "      <th>2022-Enero</th>\n",
              "      <td>106.03</td>\n",
              "      <td>107.50</td>\n",
              "      <td>134.62</td>\n",
              "      <td>249.01</td>\n",
              "      <td>166.28</td>\n",
              "      <td>187.03</td>\n",
              "      <td>339.65</td>\n",
              "      <td>136.51</td>\n",
              "      <td>105.393459</td>\n",
              "    </tr>\n",
              "    <tr>\n",
              "      <th>2022-Febrero</th>\n",
              "      <td>NaN</td>\n",
              "      <td>NaN</td>\n",
              "      <td>NaN</td>\n",
              "      <td>NaN</td>\n",
              "      <td>NaN</td>\n",
              "      <td>196.06</td>\n",
              "      <td>NaN</td>\n",
              "      <td>NaN</td>\n",
              "      <td>98.883115</td>\n",
              "    </tr>\n",
              "  </tbody>\n",
              "</table>\n",
              "</div>\n",
              "      <button class=\"colab-df-convert\" onclick=\"convertToInteractive('df-ef4867a0-8c10-4f8d-a8eb-54f4611f2b62')\"\n",
              "              title=\"Convert this dataframe to an interactive table.\"\n",
              "              style=\"display:none;\">\n",
              "        \n",
              "  <svg xmlns=\"http://www.w3.org/2000/svg\" height=\"24px\"viewBox=\"0 0 24 24\"\n",
              "       width=\"24px\">\n",
              "    <path d=\"M0 0h24v24H0V0z\" fill=\"none\"/>\n",
              "    <path d=\"M18.56 5.44l.94 2.06.94-2.06 2.06-.94-2.06-.94-.94-2.06-.94 2.06-2.06.94zm-11 1L8.5 8.5l.94-2.06 2.06-.94-2.06-.94L8.5 2.5l-.94 2.06-2.06.94zm10 10l.94 2.06.94-2.06 2.06-.94-2.06-.94-.94-2.06-.94 2.06-2.06.94z\"/><path d=\"M17.41 7.96l-1.37-1.37c-.4-.4-.92-.59-1.43-.59-.52 0-1.04.2-1.43.59L10.3 9.45l-7.72 7.72c-.78.78-.78 2.05 0 2.83L4 21.41c.39.39.9.59 1.41.59.51 0 1.02-.2 1.41-.59l7.78-7.78 2.81-2.81c.8-.78.8-2.07 0-2.86zM5.41 20L4 18.59l7.72-7.72 1.47 1.35L5.41 20z\"/>\n",
              "  </svg>\n",
              "      </button>\n",
              "      \n",
              "  <style>\n",
              "    .colab-df-container {\n",
              "      display:flex;\n",
              "      flex-wrap:wrap;\n",
              "      gap: 12px;\n",
              "    }\n",
              "\n",
              "    .colab-df-convert {\n",
              "      background-color: #E8F0FE;\n",
              "      border: none;\n",
              "      border-radius: 50%;\n",
              "      cursor: pointer;\n",
              "      display: none;\n",
              "      fill: #1967D2;\n",
              "      height: 32px;\n",
              "      padding: 0 0 0 0;\n",
              "      width: 32px;\n",
              "    }\n",
              "\n",
              "    .colab-df-convert:hover {\n",
              "      background-color: #E2EBFA;\n",
              "      box-shadow: 0px 1px 2px rgba(60, 64, 67, 0.3), 0px 1px 3px 1px rgba(60, 64, 67, 0.15);\n",
              "      fill: #174EA6;\n",
              "    }\n",
              "\n",
              "    [theme=dark] .colab-df-convert {\n",
              "      background-color: #3B4455;\n",
              "      fill: #D2E3FC;\n",
              "    }\n",
              "\n",
              "    [theme=dark] .colab-df-convert:hover {\n",
              "      background-color: #434B5C;\n",
              "      box-shadow: 0px 1px 3px 1px rgba(0, 0, 0, 0.15);\n",
              "      filter: drop-shadow(0px 1px 2px rgba(0, 0, 0, 0.3));\n",
              "      fill: #FFFFFF;\n",
              "    }\n",
              "  </style>\n",
              "\n",
              "      <script>\n",
              "        const buttonEl =\n",
              "          document.querySelector('#df-ef4867a0-8c10-4f8d-a8eb-54f4611f2b62 button.colab-df-convert');\n",
              "        buttonEl.style.display =\n",
              "          google.colab.kernel.accessAllowed ? 'block' : 'none';\n",
              "\n",
              "        async function convertToInteractive(key) {\n",
              "          const element = document.querySelector('#df-ef4867a0-8c10-4f8d-a8eb-54f4611f2b62');\n",
              "          const dataTable =\n",
              "            await google.colab.kernel.invokeFunction('convertToInteractive',\n",
              "                                                     [key], {});\n",
              "          if (!dataTable) return;\n",
              "\n",
              "          const docLinkHtml = 'Like what you see? Visit the ' +\n",
              "            '<a target=\"_blank\" href=https://colab.research.google.com/notebooks/data_table.ipynb>data table notebook</a>'\n",
              "            + ' to learn more about interactive tables.';\n",
              "          element.innerHTML = '';\n",
              "          dataTable['output_type'] = 'display_data';\n",
              "          await google.colab.output.renderOutput(dataTable, element);\n",
              "          const docLink = document.createElement('div');\n",
              "          docLink.innerHTML = docLinkHtml;\n",
              "          element.appendChild(docLink);\n",
              "        }\n",
              "      </script>\n",
              "    </div>\n",
              "  </div>\n",
              "  "
            ]
          },
          "metadata": {},
          "execution_count": 84
        }
      ]
    },
    {
      "cell_type": "markdown",
      "metadata": {
        "id": "USJ5m_3XS6ji"
      },
      "source": [
        "### **Brasil**"
      ]
    },
    {
      "cell_type": "code",
      "metadata": {
        "id": "A6-HZYuyofz0",
        "colab": {
          "base_uri": "https://localhost:8080/",
          "height": 0
        },
        "outputId": "c38313f3-25e5-442f-9916-04dfd07a95a4"
      },
      "source": [
        "urljson = \"https://api.bcb.gov.br/dados/serie/bcdata.sgs.24363/dados?formato=json\"\n",
        "urllib2.urlretrieve(urljson, \"brasil.json\")\n",
        "bra = pd.read_json('brasil.json')\n",
        "bra.rename(columns={'valor':'Brasil'},inplace=True)\n",
        "\n",
        "bra['Brasil1'] = bra.Brasil.pct_change(12)*100 # calculo tasa de crecimiento\n",
        "bra['date'] = pd.to_datetime(bra['data'],format='%d/%m/%Y') # transformamos a formato fecha\n",
        "# Creamos indice\n",
        "bra['fecha'] = pd.DatetimeIndex(bra['date']).year.astype(str) +\"-\"+pd.DatetimeIndex(bra['date']).month.astype(str)\n",
        "\n",
        "nombre_mes = [meses[i][1] for i in pd.DatetimeIndex(bra['date']).month.tolist()] # obtenemos nombre del mes\n",
        "bra['fecha'] = pd.DatetimeIndex(bra['date']).year.astype(str) +\"-\"+ nombre_mes # creamos indice\n",
        "bra.set_index(bra.fecha,inplace=True) #reemplazamos indice\n",
        "\n",
        "\n",
        "bra.tail(1)"
      ],
      "execution_count": 85,
      "outputs": [
        {
          "output_type": "execute_result",
          "data": {
            "text/plain": [
              "                  data  Brasil   Brasil1       date       fecha\n",
              "fecha                                                          \n",
              "2022-Enero  01/01/2022  131.95  0.007579 2022-01-01  2022-Enero"
            ],
            "text/html": [
              "\n",
              "  <div id=\"df-906404bf-4c1e-46c4-8ad1-bacd1cfe2823\">\n",
              "    <div class=\"colab-df-container\">\n",
              "      <div>\n",
              "<style scoped>\n",
              "    .dataframe tbody tr th:only-of-type {\n",
              "        vertical-align: middle;\n",
              "    }\n",
              "\n",
              "    .dataframe tbody tr th {\n",
              "        vertical-align: top;\n",
              "    }\n",
              "\n",
              "    .dataframe thead th {\n",
              "        text-align: right;\n",
              "    }\n",
              "</style>\n",
              "<table border=\"1\" class=\"dataframe\">\n",
              "  <thead>\n",
              "    <tr style=\"text-align: right;\">\n",
              "      <th></th>\n",
              "      <th>data</th>\n",
              "      <th>Brasil</th>\n",
              "      <th>Brasil1</th>\n",
              "      <th>date</th>\n",
              "      <th>fecha</th>\n",
              "    </tr>\n",
              "    <tr>\n",
              "      <th>fecha</th>\n",
              "      <th></th>\n",
              "      <th></th>\n",
              "      <th></th>\n",
              "      <th></th>\n",
              "      <th></th>\n",
              "    </tr>\n",
              "  </thead>\n",
              "  <tbody>\n",
              "    <tr>\n",
              "      <th>2022-Enero</th>\n",
              "      <td>01/01/2022</td>\n",
              "      <td>131.95</td>\n",
              "      <td>0.007579</td>\n",
              "      <td>2022-01-01</td>\n",
              "      <td>2022-Enero</td>\n",
              "    </tr>\n",
              "  </tbody>\n",
              "</table>\n",
              "</div>\n",
              "      <button class=\"colab-df-convert\" onclick=\"convertToInteractive('df-906404bf-4c1e-46c4-8ad1-bacd1cfe2823')\"\n",
              "              title=\"Convert this dataframe to an interactive table.\"\n",
              "              style=\"display:none;\">\n",
              "        \n",
              "  <svg xmlns=\"http://www.w3.org/2000/svg\" height=\"24px\"viewBox=\"0 0 24 24\"\n",
              "       width=\"24px\">\n",
              "    <path d=\"M0 0h24v24H0V0z\" fill=\"none\"/>\n",
              "    <path d=\"M18.56 5.44l.94 2.06.94-2.06 2.06-.94-2.06-.94-.94-2.06-.94 2.06-2.06.94zm-11 1L8.5 8.5l.94-2.06 2.06-.94-2.06-.94L8.5 2.5l-.94 2.06-2.06.94zm10 10l.94 2.06.94-2.06 2.06-.94-2.06-.94-.94-2.06-.94 2.06-2.06.94z\"/><path d=\"M17.41 7.96l-1.37-1.37c-.4-.4-.92-.59-1.43-.59-.52 0-1.04.2-1.43.59L10.3 9.45l-7.72 7.72c-.78.78-.78 2.05 0 2.83L4 21.41c.39.39.9.59 1.41.59.51 0 1.02-.2 1.41-.59l7.78-7.78 2.81-2.81c.8-.78.8-2.07 0-2.86zM5.41 20L4 18.59l7.72-7.72 1.47 1.35L5.41 20z\"/>\n",
              "  </svg>\n",
              "      </button>\n",
              "      \n",
              "  <style>\n",
              "    .colab-df-container {\n",
              "      display:flex;\n",
              "      flex-wrap:wrap;\n",
              "      gap: 12px;\n",
              "    }\n",
              "\n",
              "    .colab-df-convert {\n",
              "      background-color: #E8F0FE;\n",
              "      border: none;\n",
              "      border-radius: 50%;\n",
              "      cursor: pointer;\n",
              "      display: none;\n",
              "      fill: #1967D2;\n",
              "      height: 32px;\n",
              "      padding: 0 0 0 0;\n",
              "      width: 32px;\n",
              "    }\n",
              "\n",
              "    .colab-df-convert:hover {\n",
              "      background-color: #E2EBFA;\n",
              "      box-shadow: 0px 1px 2px rgba(60, 64, 67, 0.3), 0px 1px 3px 1px rgba(60, 64, 67, 0.15);\n",
              "      fill: #174EA6;\n",
              "    }\n",
              "\n",
              "    [theme=dark] .colab-df-convert {\n",
              "      background-color: #3B4455;\n",
              "      fill: #D2E3FC;\n",
              "    }\n",
              "\n",
              "    [theme=dark] .colab-df-convert:hover {\n",
              "      background-color: #434B5C;\n",
              "      box-shadow: 0px 1px 3px 1px rgba(0, 0, 0, 0.15);\n",
              "      filter: drop-shadow(0px 1px 2px rgba(0, 0, 0, 0.3));\n",
              "      fill: #FFFFFF;\n",
              "    }\n",
              "  </style>\n",
              "\n",
              "      <script>\n",
              "        const buttonEl =\n",
              "          document.querySelector('#df-906404bf-4c1e-46c4-8ad1-bacd1cfe2823 button.colab-df-convert');\n",
              "        buttonEl.style.display =\n",
              "          google.colab.kernel.accessAllowed ? 'block' : 'none';\n",
              "\n",
              "        async function convertToInteractive(key) {\n",
              "          const element = document.querySelector('#df-906404bf-4c1e-46c4-8ad1-bacd1cfe2823');\n",
              "          const dataTable =\n",
              "            await google.colab.kernel.invokeFunction('convertToInteractive',\n",
              "                                                     [key], {});\n",
              "          if (!dataTable) return;\n",
              "\n",
              "          const docLinkHtml = 'Like what you see? Visit the ' +\n",
              "            '<a target=\"_blank\" href=https://colab.research.google.com/notebooks/data_table.ipynb>data table notebook</a>'\n",
              "            + ' to learn more about interactive tables.';\n",
              "          element.innerHTML = '';\n",
              "          dataTable['output_type'] = 'display_data';\n",
              "          await google.colab.output.renderOutput(dataTable, element);\n",
              "          const docLink = document.createElement('div');\n",
              "          docLink.innerHTML = docLinkHtml;\n",
              "          element.appendChild(docLink);\n",
              "        }\n",
              "      </script>\n",
              "    </div>\n",
              "  </div>\n",
              "  "
            ]
          },
          "metadata": {},
          "execution_count": 85
        }
      ]
    },
    {
      "cell_type": "code",
      "source": [
        "imaela = pd.merge(imaela,bra['Brasil'],how='left',left_index=True,right_index=True) # combinamos la data"
      ],
      "metadata": {
        "id": "q33paJxYU1YL"
      },
      "execution_count": 86,
      "outputs": []
    },
    {
      "cell_type": "code",
      "metadata": {
        "id": "F7wsu6q6H9Oa"
      },
      "source": [
        "#    imaela"
      ],
      "execution_count": 87,
      "outputs": []
    },
    {
      "cell_type": "markdown",
      "metadata": {
        "id": "YlZNkOc6pfVo"
      },
      "source": [
        "### **Mexico**"
      ]
    },
    {
      "cell_type": "code",
      "metadata": {
        "id": "G9quLL-jpnVD"
      },
      "source": [
        "url = \"https://www.inegi.org.mx/contenidos/temas/economia/cn/igae/tabulados/ori/IGAE_1.xlsx\"\n",
        "urllib2.urlretrieve(url, \"test1.xlsx\")\n",
        "mex = pd.read_excel('test1.xlsx',header=3,nrows=3)\n",
        "mex = mex.T.reset_index(drop=True) # transponemos y estandarizamos el indice\n",
        "mex.drop(0,inplace=True) # borramos primera fila\n",
        "mex[2] = round(mex[2].astype(float),2) # leyendo tasas de crecimiento en el formato numerico y redondeando\n",
        "mex[0] = mex[0].ffill()"
      ],
      "execution_count": 88,
      "outputs": []
    },
    {
      "cell_type": "code",
      "metadata": {
        "id": "LJzHJQ0Pq7Kc",
        "colab": {
          "base_uri": "https://localhost:8080/",
          "height": 0
        },
        "outputId": "0dbeaa05-aa89-430f-f4c6-7c5d2ecc9a17"
      },
      "source": [
        "mex[1] = mex[1].replace(['oR','oP','lR','lP','eR','eP',' '],['o','o','l','l','e','e',''], regex=True) #limpiar superindices \"Revisado\" \"Preliminar\"\n",
        "mex[0] = mex[0].replace(['P','R',' '],['','',''],regex=True) # limpiar preliminar de fecha\n",
        "mex.index = mex[0].astype('str') +\"-\"+ mex[1] #creamos indice para base de datos\n",
        "mex.columns = [*mex.columns[:-1], 'México'] # nombramos columna\n",
        "mex.dropna().tail(2) # mostrar ultimo valor no nulo"
      ],
      "execution_count": 89,
      "outputs": [
        {
          "output_type": "execute_result",
          "data": {
            "text/plain": [
              "               0      1  México\n",
              "2021-Anual  2021  Anual  108.74\n",
              "2022-Enero  2022  Enero  107.23"
            ],
            "text/html": [
              "\n",
              "  <div id=\"df-34e7d012-4349-499a-bdbf-64f57b3adc6e\">\n",
              "    <div class=\"colab-df-container\">\n",
              "      <div>\n",
              "<style scoped>\n",
              "    .dataframe tbody tr th:only-of-type {\n",
              "        vertical-align: middle;\n",
              "    }\n",
              "\n",
              "    .dataframe tbody tr th {\n",
              "        vertical-align: top;\n",
              "    }\n",
              "\n",
              "    .dataframe thead th {\n",
              "        text-align: right;\n",
              "    }\n",
              "</style>\n",
              "<table border=\"1\" class=\"dataframe\">\n",
              "  <thead>\n",
              "    <tr style=\"text-align: right;\">\n",
              "      <th></th>\n",
              "      <th>0</th>\n",
              "      <th>1</th>\n",
              "      <th>México</th>\n",
              "    </tr>\n",
              "  </thead>\n",
              "  <tbody>\n",
              "    <tr>\n",
              "      <th>2021-Anual</th>\n",
              "      <td>2021</td>\n",
              "      <td>Anual</td>\n",
              "      <td>108.74</td>\n",
              "    </tr>\n",
              "    <tr>\n",
              "      <th>2022-Enero</th>\n",
              "      <td>2022</td>\n",
              "      <td>Enero</td>\n",
              "      <td>107.23</td>\n",
              "    </tr>\n",
              "  </tbody>\n",
              "</table>\n",
              "</div>\n",
              "      <button class=\"colab-df-convert\" onclick=\"convertToInteractive('df-34e7d012-4349-499a-bdbf-64f57b3adc6e')\"\n",
              "              title=\"Convert this dataframe to an interactive table.\"\n",
              "              style=\"display:none;\">\n",
              "        \n",
              "  <svg xmlns=\"http://www.w3.org/2000/svg\" height=\"24px\"viewBox=\"0 0 24 24\"\n",
              "       width=\"24px\">\n",
              "    <path d=\"M0 0h24v24H0V0z\" fill=\"none\"/>\n",
              "    <path d=\"M18.56 5.44l.94 2.06.94-2.06 2.06-.94-2.06-.94-.94-2.06-.94 2.06-2.06.94zm-11 1L8.5 8.5l.94-2.06 2.06-.94-2.06-.94L8.5 2.5l-.94 2.06-2.06.94zm10 10l.94 2.06.94-2.06 2.06-.94-2.06-.94-.94-2.06-.94 2.06-2.06.94z\"/><path d=\"M17.41 7.96l-1.37-1.37c-.4-.4-.92-.59-1.43-.59-.52 0-1.04.2-1.43.59L10.3 9.45l-7.72 7.72c-.78.78-.78 2.05 0 2.83L4 21.41c.39.39.9.59 1.41.59.51 0 1.02-.2 1.41-.59l7.78-7.78 2.81-2.81c.8-.78.8-2.07 0-2.86zM5.41 20L4 18.59l7.72-7.72 1.47 1.35L5.41 20z\"/>\n",
              "  </svg>\n",
              "      </button>\n",
              "      \n",
              "  <style>\n",
              "    .colab-df-container {\n",
              "      display:flex;\n",
              "      flex-wrap:wrap;\n",
              "      gap: 12px;\n",
              "    }\n",
              "\n",
              "    .colab-df-convert {\n",
              "      background-color: #E8F0FE;\n",
              "      border: none;\n",
              "      border-radius: 50%;\n",
              "      cursor: pointer;\n",
              "      display: none;\n",
              "      fill: #1967D2;\n",
              "      height: 32px;\n",
              "      padding: 0 0 0 0;\n",
              "      width: 32px;\n",
              "    }\n",
              "\n",
              "    .colab-df-convert:hover {\n",
              "      background-color: #E2EBFA;\n",
              "      box-shadow: 0px 1px 2px rgba(60, 64, 67, 0.3), 0px 1px 3px 1px rgba(60, 64, 67, 0.15);\n",
              "      fill: #174EA6;\n",
              "    }\n",
              "\n",
              "    [theme=dark] .colab-df-convert {\n",
              "      background-color: #3B4455;\n",
              "      fill: #D2E3FC;\n",
              "    }\n",
              "\n",
              "    [theme=dark] .colab-df-convert:hover {\n",
              "      background-color: #434B5C;\n",
              "      box-shadow: 0px 1px 3px 1px rgba(0, 0, 0, 0.15);\n",
              "      filter: drop-shadow(0px 1px 2px rgba(0, 0, 0, 0.3));\n",
              "      fill: #FFFFFF;\n",
              "    }\n",
              "  </style>\n",
              "\n",
              "      <script>\n",
              "        const buttonEl =\n",
              "          document.querySelector('#df-34e7d012-4349-499a-bdbf-64f57b3adc6e button.colab-df-convert');\n",
              "        buttonEl.style.display =\n",
              "          google.colab.kernel.accessAllowed ? 'block' : 'none';\n",
              "\n",
              "        async function convertToInteractive(key) {\n",
              "          const element = document.querySelector('#df-34e7d012-4349-499a-bdbf-64f57b3adc6e');\n",
              "          const dataTable =\n",
              "            await google.colab.kernel.invokeFunction('convertToInteractive',\n",
              "                                                     [key], {});\n",
              "          if (!dataTable) return;\n",
              "\n",
              "          const docLinkHtml = 'Like what you see? Visit the ' +\n",
              "            '<a target=\"_blank\" href=https://colab.research.google.com/notebooks/data_table.ipynb>data table notebook</a>'\n",
              "            + ' to learn more about interactive tables.';\n",
              "          element.innerHTML = '';\n",
              "          dataTable['output_type'] = 'display_data';\n",
              "          await google.colab.output.renderOutput(dataTable, element);\n",
              "          const docLink = document.createElement('div');\n",
              "          docLink.innerHTML = docLinkHtml;\n",
              "          element.appendChild(docLink);\n",
              "        }\n",
              "      </script>\n",
              "    </div>\n",
              "  </div>\n",
              "  "
            ]
          },
          "metadata": {},
          "execution_count": 89
        }
      ]
    },
    {
      "cell_type": "code",
      "metadata": {
        "id": "QIx6594i6eEt"
      },
      "source": [
        "imaela = round(pd.merge(imaela,mex['México'],how='left',left_index=True,right_index=True),2) # combinamos las series"
      ],
      "execution_count": 90,
      "outputs": []
    },
    {
      "cell_type": "code",
      "metadata": {
        "id": "I8pV0b3HUrjM",
        "colab": {
          "base_uri": "https://localhost:8080/",
          "height": 0
        },
        "outputId": "f045f7a6-3ca2-4c18-b7ce-dfa6477b5b47"
      },
      "source": [
        "imaela.tail(3)"
      ],
      "execution_count": 91,
      "outputs": [
        {
          "output_type": "execute_result",
          "data": {
            "text/plain": [
              "                Costa Rica  El Salvador  Guatemala  Honduras  Nicaragua  \\\n",
              "2021-Diciembre      120.40       123.01     141.42    281.11     179.84   \n",
              "2022-Enero          106.03       107.50     134.62    249.01     166.28   \n",
              "2022-Febrero           NaN          NaN        NaN       NaN        NaN   \n",
              "\n",
              "                República Dominicana  Panamá  Argentina       Chile  Brasil  \\\n",
              "2021-Diciembre                212.34  396.97     145.65  120.318627  142.05   \n",
              "2022-Enero                    187.03  339.65     136.51  105.393459  131.95   \n",
              "2022-Febrero                  196.06     NaN        NaN   98.883115     NaN   \n",
              "\n",
              "                México  \n",
              "2021-Diciembre  112.15  \n",
              "2022-Enero      107.23  \n",
              "2022-Febrero       NaN  "
            ],
            "text/html": [
              "\n",
              "  <div id=\"df-d94be1da-5098-4261-b1a0-ae4847bd3745\">\n",
              "    <div class=\"colab-df-container\">\n",
              "      <div>\n",
              "<style scoped>\n",
              "    .dataframe tbody tr th:only-of-type {\n",
              "        vertical-align: middle;\n",
              "    }\n",
              "\n",
              "    .dataframe tbody tr th {\n",
              "        vertical-align: top;\n",
              "    }\n",
              "\n",
              "    .dataframe thead th {\n",
              "        text-align: right;\n",
              "    }\n",
              "</style>\n",
              "<table border=\"1\" class=\"dataframe\">\n",
              "  <thead>\n",
              "    <tr style=\"text-align: right;\">\n",
              "      <th></th>\n",
              "      <th>Costa Rica</th>\n",
              "      <th>El Salvador</th>\n",
              "      <th>Guatemala</th>\n",
              "      <th>Honduras</th>\n",
              "      <th>Nicaragua</th>\n",
              "      <th>República Dominicana</th>\n",
              "      <th>Panamá</th>\n",
              "      <th>Argentina</th>\n",
              "      <th>Chile</th>\n",
              "      <th>Brasil</th>\n",
              "      <th>México</th>\n",
              "    </tr>\n",
              "  </thead>\n",
              "  <tbody>\n",
              "    <tr>\n",
              "      <th>2021-Diciembre</th>\n",
              "      <td>120.40</td>\n",
              "      <td>123.01</td>\n",
              "      <td>141.42</td>\n",
              "      <td>281.11</td>\n",
              "      <td>179.84</td>\n",
              "      <td>212.34</td>\n",
              "      <td>396.97</td>\n",
              "      <td>145.65</td>\n",
              "      <td>120.318627</td>\n",
              "      <td>142.05</td>\n",
              "      <td>112.15</td>\n",
              "    </tr>\n",
              "    <tr>\n",
              "      <th>2022-Enero</th>\n",
              "      <td>106.03</td>\n",
              "      <td>107.50</td>\n",
              "      <td>134.62</td>\n",
              "      <td>249.01</td>\n",
              "      <td>166.28</td>\n",
              "      <td>187.03</td>\n",
              "      <td>339.65</td>\n",
              "      <td>136.51</td>\n",
              "      <td>105.393459</td>\n",
              "      <td>131.95</td>\n",
              "      <td>107.23</td>\n",
              "    </tr>\n",
              "    <tr>\n",
              "      <th>2022-Febrero</th>\n",
              "      <td>NaN</td>\n",
              "      <td>NaN</td>\n",
              "      <td>NaN</td>\n",
              "      <td>NaN</td>\n",
              "      <td>NaN</td>\n",
              "      <td>196.06</td>\n",
              "      <td>NaN</td>\n",
              "      <td>NaN</td>\n",
              "      <td>98.883115</td>\n",
              "      <td>NaN</td>\n",
              "      <td>NaN</td>\n",
              "    </tr>\n",
              "  </tbody>\n",
              "</table>\n",
              "</div>\n",
              "      <button class=\"colab-df-convert\" onclick=\"convertToInteractive('df-d94be1da-5098-4261-b1a0-ae4847bd3745')\"\n",
              "              title=\"Convert this dataframe to an interactive table.\"\n",
              "              style=\"display:none;\">\n",
              "        \n",
              "  <svg xmlns=\"http://www.w3.org/2000/svg\" height=\"24px\"viewBox=\"0 0 24 24\"\n",
              "       width=\"24px\">\n",
              "    <path d=\"M0 0h24v24H0V0z\" fill=\"none\"/>\n",
              "    <path d=\"M18.56 5.44l.94 2.06.94-2.06 2.06-.94-2.06-.94-.94-2.06-.94 2.06-2.06.94zm-11 1L8.5 8.5l.94-2.06 2.06-.94-2.06-.94L8.5 2.5l-.94 2.06-2.06.94zm10 10l.94 2.06.94-2.06 2.06-.94-2.06-.94-.94-2.06-.94 2.06-2.06.94z\"/><path d=\"M17.41 7.96l-1.37-1.37c-.4-.4-.92-.59-1.43-.59-.52 0-1.04.2-1.43.59L10.3 9.45l-7.72 7.72c-.78.78-.78 2.05 0 2.83L4 21.41c.39.39.9.59 1.41.59.51 0 1.02-.2 1.41-.59l7.78-7.78 2.81-2.81c.8-.78.8-2.07 0-2.86zM5.41 20L4 18.59l7.72-7.72 1.47 1.35L5.41 20z\"/>\n",
              "  </svg>\n",
              "      </button>\n",
              "      \n",
              "  <style>\n",
              "    .colab-df-container {\n",
              "      display:flex;\n",
              "      flex-wrap:wrap;\n",
              "      gap: 12px;\n",
              "    }\n",
              "\n",
              "    .colab-df-convert {\n",
              "      background-color: #E8F0FE;\n",
              "      border: none;\n",
              "      border-radius: 50%;\n",
              "      cursor: pointer;\n",
              "      display: none;\n",
              "      fill: #1967D2;\n",
              "      height: 32px;\n",
              "      padding: 0 0 0 0;\n",
              "      width: 32px;\n",
              "    }\n",
              "\n",
              "    .colab-df-convert:hover {\n",
              "      background-color: #E2EBFA;\n",
              "      box-shadow: 0px 1px 2px rgba(60, 64, 67, 0.3), 0px 1px 3px 1px rgba(60, 64, 67, 0.15);\n",
              "      fill: #174EA6;\n",
              "    }\n",
              "\n",
              "    [theme=dark] .colab-df-convert {\n",
              "      background-color: #3B4455;\n",
              "      fill: #D2E3FC;\n",
              "    }\n",
              "\n",
              "    [theme=dark] .colab-df-convert:hover {\n",
              "      background-color: #434B5C;\n",
              "      box-shadow: 0px 1px 3px 1px rgba(0, 0, 0, 0.15);\n",
              "      filter: drop-shadow(0px 1px 2px rgba(0, 0, 0, 0.3));\n",
              "      fill: #FFFFFF;\n",
              "    }\n",
              "  </style>\n",
              "\n",
              "      <script>\n",
              "        const buttonEl =\n",
              "          document.querySelector('#df-d94be1da-5098-4261-b1a0-ae4847bd3745 button.colab-df-convert');\n",
              "        buttonEl.style.display =\n",
              "          google.colab.kernel.accessAllowed ? 'block' : 'none';\n",
              "\n",
              "        async function convertToInteractive(key) {\n",
              "          const element = document.querySelector('#df-d94be1da-5098-4261-b1a0-ae4847bd3745');\n",
              "          const dataTable =\n",
              "            await google.colab.kernel.invokeFunction('convertToInteractive',\n",
              "                                                     [key], {});\n",
              "          if (!dataTable) return;\n",
              "\n",
              "          const docLinkHtml = 'Like what you see? Visit the ' +\n",
              "            '<a target=\"_blank\" href=https://colab.research.google.com/notebooks/data_table.ipynb>data table notebook</a>'\n",
              "            + ' to learn more about interactive tables.';\n",
              "          element.innerHTML = '';\n",
              "          dataTable['output_type'] = 'display_data';\n",
              "          await google.colab.output.renderOutput(dataTable, element);\n",
              "          const docLink = document.createElement('div');\n",
              "          docLink.innerHTML = docLinkHtml;\n",
              "          element.appendChild(docLink);\n",
              "        }\n",
              "      </script>\n",
              "    </div>\n",
              "  </div>\n",
              "  "
            ]
          },
          "metadata": {},
          "execution_count": 91
        }
      ]
    },
    {
      "cell_type": "markdown",
      "metadata": {
        "id": "av3nykGIzFj-"
      },
      "source": [
        "### **Perú**\n",
        "- Falta fecha"
      ]
    },
    {
      "cell_type": "code",
      "metadata": {
        "id": "Ztmnin9LzGhP"
      },
      "source": [
        "url = 'https://www.inei.gob.pe/media/principales_indicadores/CalculoPBI_103.zip' #cambio de 102 a 103 (ene feb)"
      ],
      "execution_count": 24,
      "outputs": []
    },
    {
      "cell_type": "code",
      "source": [
        "urlpe= 'https://www.inei.gob.pe'\n",
        "wd.get(urlpe)\n",
        "souppe = BeautifulSoup(wd.page_source,'lxml')\n",
        "link_html = souppe.find_all('a',class_='btninei',title=\"documentos adicionales\") # para encontrar el nombre del link de indice peru\n",
        "for a in link_html:\n",
        "  link = a['href']\n",
        "  print(link)\n",
        "\n",
        "urlpe = 'https://www.inei.gob.pe/' + link"
      ],
      "metadata": {
        "colab": {
          "base_uri": "https://localhost:8080/"
        },
        "id": "Ay3n4nC3e2LH",
        "outputId": "1078c5f2-b0fe-4b3b-f245-77f4ecac19b0"
      },
      "execution_count": 25,
      "outputs": [
        {
          "output_type": "stream",
          "name": "stdout",
          "text": [
            "/media/principales_indicadores/CalculoPBI_104.zip\n"
          ]
        }
      ]
    },
    {
      "cell_type": "code",
      "metadata": {
        "id": "fR9o9g9hzGpQ"
      },
      "source": [
        "import ssl\n",
        "ssl._create_default_https_context = ssl._create_unverified_context\n",
        "zip, _ = urllib2.urlretrieve(urlpe)\n",
        "with zipfile.ZipFile(zip, \"r\") as f:\n",
        "    f.extractall('/content')"
      ],
      "execution_count": 26,
      "outputs": []
    },
    {
      "cell_type": "code",
      "metadata": {
        "id": "NoK6gcMRzGvt"
      },
      "source": [
        "indicador = [f.namelist()[i] for i in range(len(f.namelist())) if 'Indicador Mensual' in f.namelist()[i]][0] # el 0 es para que elija el string de la lista\n",
        "df = pd.read_excel(indicador,sheet_name=1,header=3)[1:] # el indice esta en la segunda hoja del excel"
      ],
      "execution_count": 27,
      "outputs": []
    },
    {
      "cell_type": "code",
      "metadata": {
        "colab": {
          "base_uri": "https://localhost:8080/",
          "height": 34
        },
        "id": "XAf-5TNTFX7g",
        "outputId": "ee2bacde-eff8-48c8-d357-40f7c022c529"
      },
      "source": [
        "indicador"
      ],
      "execution_count": 28,
      "outputs": [
        {
          "output_type": "execute_result",
          "data": {
            "text/plain": [
              "'Indicador Mensual de la Producción Nacional 02 2022 r.xlsx'"
            ],
            "application/vnd.google.colaboratory.intrinsic+json": {
              "type": "string"
            }
          },
          "metadata": {},
          "execution_count": 28
        }
      ]
    },
    {
      "cell_type": "code",
      "metadata": {
        "id": "Db-wpEmd1M4i"
      },
      "source": [
        "pe = round(df.filter(like='Índice Global'),2)   # regex='spike|spke' se puede usar regex para en caso de que escriban las columnas mal\n",
        "pe['YM'] = df['Año y Mes'].astype(int).astype(str)\n",
        "\n",
        "#  IG.1 Mensual   IG.2 Acumulado  IG.3 Anual\n",
        "pe['fecha'] =  pe['YM'].str[0:4] +'-'+ pe['YM'].str[4:7].astype(int).map(meses_dict)  # fecha\n",
        "pe.set_index('fecha',inplace=True)\n",
        "\n",
        "pe.rename(columns={pe.columns[0]:'Perú',pe.columns[1]:'Perú_i',pe.columns[2]:'Perú_a'},inplace=True)"
      ],
      "execution_count": 29,
      "outputs": []
    },
    {
      "cell_type": "code",
      "metadata": {
        "id": "T5rh--_j38St"
      },
      "source": [
        "imaela = imaela.merge(pe['Perú'],how='left',left_index=True,right_index=True)"
      ],
      "execution_count": 92,
      "outputs": []
    },
    {
      "cell_type": "code",
      "source": [
        "imaela"
      ],
      "metadata": {
        "id": "llo1BUHYPT2i",
        "outputId": "d6e05b59-5906-4887-a737-020a74535584",
        "colab": {
          "base_uri": "https://localhost:8080/",
          "height": 424
        }
      },
      "execution_count": 93,
      "outputs": [
        {
          "output_type": "execute_result",
          "data": {
            "text/plain": [
              "                Costa Rica  El Salvador  Guatemala  Honduras  Nicaragua  \\\n",
              "2017-Enero           96.70       101.41     115.43    219.37     158.71   \n",
              "2017-Febrero         96.95        98.97     114.25    221.50     149.00   \n",
              "2017-Marzo          100.84       108.44     118.03    233.93     154.07   \n",
              "2017-Abril           94.83       101.40     114.68    218.03     143.98   \n",
              "2017-Mayo            99.05       110.85     113.73    225.53     159.54   \n",
              "...                    ...          ...        ...       ...        ...   \n",
              "2021-Octubre        112.00       110.10     131.41    265.86     161.23   \n",
              "2021-Noviembre      117.53       117.01     135.90    266.16     169.25   \n",
              "2021-Diciembre      120.40       123.01     141.42    281.11     179.84   \n",
              "2022-Enero          106.03       107.50     134.62    249.01     166.28   \n",
              "2022-Febrero           NaN          NaN        NaN       NaN        NaN   \n",
              "\n",
              "                República Dominicana  Panamá  Argentina       Chile  Brasil  \\\n",
              "2017-Enero                    150.29  305.84     136.63         NaN  128.57   \n",
              "2017-Febrero                  154.05  307.27     132.16         NaN  129.47   \n",
              "2017-Marzo                    163.25  344.01     152.62         NaN  141.98   \n",
              "2017-Abril                    161.07  309.60     151.95         NaN  133.84   \n",
              "2017-Mayo                     163.15  316.06     168.39         NaN  136.12   \n",
              "...                              ...     ...        ...         ...     ...   \n",
              "2021-Octubre                  192.05  344.84     140.54  110.894921  138.38   \n",
              "2021-Noviembre                204.87  333.33     145.25  116.334812  140.15   \n",
              "2021-Diciembre                212.34  396.97     145.65  120.318627  142.05   \n",
              "2022-Enero                    187.03  339.65     136.51  105.393459  131.95   \n",
              "2022-Febrero                  196.06     NaN        NaN   98.883115     NaN   \n",
              "\n",
              "                México    Perú  \n",
              "2017-Enero      108.42  151.07  \n",
              "2017-Febrero    105.28  148.06  \n",
              "2017-Marzo      111.91  156.15  \n",
              "2017-Abril      106.20  157.65  \n",
              "2017-Mayo       112.30  164.32  \n",
              "...                ...     ...  \n",
              "2021-Octubre    108.36  178.91  \n",
              "2021-Noviembre  112.69  177.03  \n",
              "2021-Diciembre  112.15  194.75  \n",
              "2022-Enero      107.23  166.00  \n",
              "2022-Febrero       NaN  163.51  \n",
              "\n",
              "[62 rows x 12 columns]"
            ],
            "text/html": [
              "\n",
              "  <div id=\"df-6afcbe1f-de53-4dbd-8faf-32fd78e9d54f\">\n",
              "    <div class=\"colab-df-container\">\n",
              "      <div>\n",
              "<style scoped>\n",
              "    .dataframe tbody tr th:only-of-type {\n",
              "        vertical-align: middle;\n",
              "    }\n",
              "\n",
              "    .dataframe tbody tr th {\n",
              "        vertical-align: top;\n",
              "    }\n",
              "\n",
              "    .dataframe thead th {\n",
              "        text-align: right;\n",
              "    }\n",
              "</style>\n",
              "<table border=\"1\" class=\"dataframe\">\n",
              "  <thead>\n",
              "    <tr style=\"text-align: right;\">\n",
              "      <th></th>\n",
              "      <th>Costa Rica</th>\n",
              "      <th>El Salvador</th>\n",
              "      <th>Guatemala</th>\n",
              "      <th>Honduras</th>\n",
              "      <th>Nicaragua</th>\n",
              "      <th>República Dominicana</th>\n",
              "      <th>Panamá</th>\n",
              "      <th>Argentina</th>\n",
              "      <th>Chile</th>\n",
              "      <th>Brasil</th>\n",
              "      <th>México</th>\n",
              "      <th>Perú</th>\n",
              "    </tr>\n",
              "  </thead>\n",
              "  <tbody>\n",
              "    <tr>\n",
              "      <th>2017-Enero</th>\n",
              "      <td>96.70</td>\n",
              "      <td>101.41</td>\n",
              "      <td>115.43</td>\n",
              "      <td>219.37</td>\n",
              "      <td>158.71</td>\n",
              "      <td>150.29</td>\n",
              "      <td>305.84</td>\n",
              "      <td>136.63</td>\n",
              "      <td>NaN</td>\n",
              "      <td>128.57</td>\n",
              "      <td>108.42</td>\n",
              "      <td>151.07</td>\n",
              "    </tr>\n",
              "    <tr>\n",
              "      <th>2017-Febrero</th>\n",
              "      <td>96.95</td>\n",
              "      <td>98.97</td>\n",
              "      <td>114.25</td>\n",
              "      <td>221.50</td>\n",
              "      <td>149.00</td>\n",
              "      <td>154.05</td>\n",
              "      <td>307.27</td>\n",
              "      <td>132.16</td>\n",
              "      <td>NaN</td>\n",
              "      <td>129.47</td>\n",
              "      <td>105.28</td>\n",
              "      <td>148.06</td>\n",
              "    </tr>\n",
              "    <tr>\n",
              "      <th>2017-Marzo</th>\n",
              "      <td>100.84</td>\n",
              "      <td>108.44</td>\n",
              "      <td>118.03</td>\n",
              "      <td>233.93</td>\n",
              "      <td>154.07</td>\n",
              "      <td>163.25</td>\n",
              "      <td>344.01</td>\n",
              "      <td>152.62</td>\n",
              "      <td>NaN</td>\n",
              "      <td>141.98</td>\n",
              "      <td>111.91</td>\n",
              "      <td>156.15</td>\n",
              "    </tr>\n",
              "    <tr>\n",
              "      <th>2017-Abril</th>\n",
              "      <td>94.83</td>\n",
              "      <td>101.40</td>\n",
              "      <td>114.68</td>\n",
              "      <td>218.03</td>\n",
              "      <td>143.98</td>\n",
              "      <td>161.07</td>\n",
              "      <td>309.60</td>\n",
              "      <td>151.95</td>\n",
              "      <td>NaN</td>\n",
              "      <td>133.84</td>\n",
              "      <td>106.20</td>\n",
              "      <td>157.65</td>\n",
              "    </tr>\n",
              "    <tr>\n",
              "      <th>2017-Mayo</th>\n",
              "      <td>99.05</td>\n",
              "      <td>110.85</td>\n",
              "      <td>113.73</td>\n",
              "      <td>225.53</td>\n",
              "      <td>159.54</td>\n",
              "      <td>163.15</td>\n",
              "      <td>316.06</td>\n",
              "      <td>168.39</td>\n",
              "      <td>NaN</td>\n",
              "      <td>136.12</td>\n",
              "      <td>112.30</td>\n",
              "      <td>164.32</td>\n",
              "    </tr>\n",
              "    <tr>\n",
              "      <th>...</th>\n",
              "      <td>...</td>\n",
              "      <td>...</td>\n",
              "      <td>...</td>\n",
              "      <td>...</td>\n",
              "      <td>...</td>\n",
              "      <td>...</td>\n",
              "      <td>...</td>\n",
              "      <td>...</td>\n",
              "      <td>...</td>\n",
              "      <td>...</td>\n",
              "      <td>...</td>\n",
              "      <td>...</td>\n",
              "    </tr>\n",
              "    <tr>\n",
              "      <th>2021-Octubre</th>\n",
              "      <td>112.00</td>\n",
              "      <td>110.10</td>\n",
              "      <td>131.41</td>\n",
              "      <td>265.86</td>\n",
              "      <td>161.23</td>\n",
              "      <td>192.05</td>\n",
              "      <td>344.84</td>\n",
              "      <td>140.54</td>\n",
              "      <td>110.894921</td>\n",
              "      <td>138.38</td>\n",
              "      <td>108.36</td>\n",
              "      <td>178.91</td>\n",
              "    </tr>\n",
              "    <tr>\n",
              "      <th>2021-Noviembre</th>\n",
              "      <td>117.53</td>\n",
              "      <td>117.01</td>\n",
              "      <td>135.90</td>\n",
              "      <td>266.16</td>\n",
              "      <td>169.25</td>\n",
              "      <td>204.87</td>\n",
              "      <td>333.33</td>\n",
              "      <td>145.25</td>\n",
              "      <td>116.334812</td>\n",
              "      <td>140.15</td>\n",
              "      <td>112.69</td>\n",
              "      <td>177.03</td>\n",
              "    </tr>\n",
              "    <tr>\n",
              "      <th>2021-Diciembre</th>\n",
              "      <td>120.40</td>\n",
              "      <td>123.01</td>\n",
              "      <td>141.42</td>\n",
              "      <td>281.11</td>\n",
              "      <td>179.84</td>\n",
              "      <td>212.34</td>\n",
              "      <td>396.97</td>\n",
              "      <td>145.65</td>\n",
              "      <td>120.318627</td>\n",
              "      <td>142.05</td>\n",
              "      <td>112.15</td>\n",
              "      <td>194.75</td>\n",
              "    </tr>\n",
              "    <tr>\n",
              "      <th>2022-Enero</th>\n",
              "      <td>106.03</td>\n",
              "      <td>107.50</td>\n",
              "      <td>134.62</td>\n",
              "      <td>249.01</td>\n",
              "      <td>166.28</td>\n",
              "      <td>187.03</td>\n",
              "      <td>339.65</td>\n",
              "      <td>136.51</td>\n",
              "      <td>105.393459</td>\n",
              "      <td>131.95</td>\n",
              "      <td>107.23</td>\n",
              "      <td>166.00</td>\n",
              "    </tr>\n",
              "    <tr>\n",
              "      <th>2022-Febrero</th>\n",
              "      <td>NaN</td>\n",
              "      <td>NaN</td>\n",
              "      <td>NaN</td>\n",
              "      <td>NaN</td>\n",
              "      <td>NaN</td>\n",
              "      <td>196.06</td>\n",
              "      <td>NaN</td>\n",
              "      <td>NaN</td>\n",
              "      <td>98.883115</td>\n",
              "      <td>NaN</td>\n",
              "      <td>NaN</td>\n",
              "      <td>163.51</td>\n",
              "    </tr>\n",
              "  </tbody>\n",
              "</table>\n",
              "<p>62 rows × 12 columns</p>\n",
              "</div>\n",
              "      <button class=\"colab-df-convert\" onclick=\"convertToInteractive('df-6afcbe1f-de53-4dbd-8faf-32fd78e9d54f')\"\n",
              "              title=\"Convert this dataframe to an interactive table.\"\n",
              "              style=\"display:none;\">\n",
              "        \n",
              "  <svg xmlns=\"http://www.w3.org/2000/svg\" height=\"24px\"viewBox=\"0 0 24 24\"\n",
              "       width=\"24px\">\n",
              "    <path d=\"M0 0h24v24H0V0z\" fill=\"none\"/>\n",
              "    <path d=\"M18.56 5.44l.94 2.06.94-2.06 2.06-.94-2.06-.94-.94-2.06-.94 2.06-2.06.94zm-11 1L8.5 8.5l.94-2.06 2.06-.94-2.06-.94L8.5 2.5l-.94 2.06-2.06.94zm10 10l.94 2.06.94-2.06 2.06-.94-2.06-.94-.94-2.06-.94 2.06-2.06.94z\"/><path d=\"M17.41 7.96l-1.37-1.37c-.4-.4-.92-.59-1.43-.59-.52 0-1.04.2-1.43.59L10.3 9.45l-7.72 7.72c-.78.78-.78 2.05 0 2.83L4 21.41c.39.39.9.59 1.41.59.51 0 1.02-.2 1.41-.59l7.78-7.78 2.81-2.81c.8-.78.8-2.07 0-2.86zM5.41 20L4 18.59l7.72-7.72 1.47 1.35L5.41 20z\"/>\n",
              "  </svg>\n",
              "      </button>\n",
              "      \n",
              "  <style>\n",
              "    .colab-df-container {\n",
              "      display:flex;\n",
              "      flex-wrap:wrap;\n",
              "      gap: 12px;\n",
              "    }\n",
              "\n",
              "    .colab-df-convert {\n",
              "      background-color: #E8F0FE;\n",
              "      border: none;\n",
              "      border-radius: 50%;\n",
              "      cursor: pointer;\n",
              "      display: none;\n",
              "      fill: #1967D2;\n",
              "      height: 32px;\n",
              "      padding: 0 0 0 0;\n",
              "      width: 32px;\n",
              "    }\n",
              "\n",
              "    .colab-df-convert:hover {\n",
              "      background-color: #E2EBFA;\n",
              "      box-shadow: 0px 1px 2px rgba(60, 64, 67, 0.3), 0px 1px 3px 1px rgba(60, 64, 67, 0.15);\n",
              "      fill: #174EA6;\n",
              "    }\n",
              "\n",
              "    [theme=dark] .colab-df-convert {\n",
              "      background-color: #3B4455;\n",
              "      fill: #D2E3FC;\n",
              "    }\n",
              "\n",
              "    [theme=dark] .colab-df-convert:hover {\n",
              "      background-color: #434B5C;\n",
              "      box-shadow: 0px 1px 3px 1px rgba(0, 0, 0, 0.15);\n",
              "      filter: drop-shadow(0px 1px 2px rgba(0, 0, 0, 0.3));\n",
              "      fill: #FFFFFF;\n",
              "    }\n",
              "  </style>\n",
              "\n",
              "      <script>\n",
              "        const buttonEl =\n",
              "          document.querySelector('#df-6afcbe1f-de53-4dbd-8faf-32fd78e9d54f button.colab-df-convert');\n",
              "        buttonEl.style.display =\n",
              "          google.colab.kernel.accessAllowed ? 'block' : 'none';\n",
              "\n",
              "        async function convertToInteractive(key) {\n",
              "          const element = document.querySelector('#df-6afcbe1f-de53-4dbd-8faf-32fd78e9d54f');\n",
              "          const dataTable =\n",
              "            await google.colab.kernel.invokeFunction('convertToInteractive',\n",
              "                                                     [key], {});\n",
              "          if (!dataTable) return;\n",
              "\n",
              "          const docLinkHtml = 'Like what you see? Visit the ' +\n",
              "            '<a target=\"_blank\" href=https://colab.research.google.com/notebooks/data_table.ipynb>data table notebook</a>'\n",
              "            + ' to learn more about interactive tables.';\n",
              "          element.innerHTML = '';\n",
              "          dataTable['output_type'] = 'display_data';\n",
              "          await google.colab.output.renderOutput(dataTable, element);\n",
              "          const docLink = document.createElement('div');\n",
              "          docLink.innerHTML = docLinkHtml;\n",
              "          element.appendChild(docLink);\n",
              "        }\n",
              "      </script>\n",
              "    </div>\n",
              "  </div>\n",
              "  "
            ]
          },
          "metadata": {},
          "execution_count": 93
        }
      ]
    },
    {
      "cell_type": "markdown",
      "metadata": {
        "id": "rSOwOPisI0mw"
      },
      "source": [
        "### **Ecuador**"
      ]
    },
    {
      "cell_type": "code",
      "metadata": {
        "id": "sscszb2Zd1gv",
        "colab": {
          "base_uri": "https://localhost:8080/"
        },
        "outputId": "1b3157f5-af4c-4445-90d3-f0257742e58b"
      },
      "source": [
        "url = \"https://contenido.bce.fin.ec/documentos/PublicacionesNotas/Catalogo/IEMensual/Adelantos/IEM-452-e.xlsx\"\n",
        "urllib2.urlretrieve(url, \"Ecuador.xlsx\")\n",
        "df = pd.read_excel('Ecuador.xlsx',header=7,keep_default_na=False)[1:13].reset_index()\n",
        "\n",
        "ecu = (df.set_index(['Unnamed: 0','index'])\n",
        ".stack()\n",
        ".reset_index()\n",
        ".rename(columns={'Unnamed: 0':'mes','level_2':'Year'})).sort_values(['Year','index']) # ingenieria de base de datos\n",
        "\n",
        "# Elaboracion de indice\n",
        "ecu['Mes'] = ecu.mes.str.lower().map(mes3)\n",
        "ecu.insert(3, 'fecha', ecu.Year.astype(str) + '-' + ecu.Mes)\n",
        "ecu.index = ecu.fecha\n",
        "\n",
        "# Variacion interanual\n",
        "ecu.rename(columns={0:'Ecuador'},inplace=True)\n",
        "ecu['Ecuador1'] = pd.to_numeric(ecu['Ecuador'],errors='coerce').pct_change(12)*100\n",
        "\n",
        "ecu.Ecuador.tail(12)"
      ],
      "execution_count": 143,
      "outputs": [
        {
          "output_type": "execute_result",
          "data": {
            "text/plain": [
              "fecha\n",
              "2022-Enero         174.513808\n",
              "2022-Febrero        161.97006\n",
              "2022-Marzo                   \n",
              "2022-Abril                   \n",
              "2022-Mayo                    \n",
              "2022-Junio                   \n",
              "2022-Julio                   \n",
              "2022-Agosto                  \n",
              "2022-Septiembre              \n",
              "2022-Octubre                 \n",
              "2022-Noviembre               \n",
              "2022-Diciembre               \n",
              "Name: Ecuador, dtype: object"
            ]
          },
          "metadata": {},
          "execution_count": 143
        }
      ]
    },
    {
      "cell_type": "code",
      "metadata": {
        "id": "ok4gz6V3nbeh"
      },
      "source": [
        "imaela = round(pd.merge(imaela,ecu['Ecuador'],how='left',left_index=True,right_index=True),2)"
      ],
      "execution_count": 147,
      "outputs": []
    },
    {
      "cell_type": "code",
      "source": [
        "imaela.tail(3)"
      ],
      "metadata": {
        "id": "9B3tqLG4UylQ",
        "outputId": "204532b8-0228-499b-86ef-87444eb02428",
        "colab": {
          "base_uri": "https://localhost:8080/",
          "height": 277
        }
      },
      "execution_count": 148,
      "outputs": [
        {
          "output_type": "execute_result",
          "data": {
            "text/plain": [
              "                Costa Rica  El Salvador  Guatemala  Honduras  Nicaragua  \\\n",
              "2021-Diciembre      120.40       123.01     141.42    281.11     179.84   \n",
              "2022-Enero          106.03       107.50     134.62    249.01     166.28   \n",
              "2022-Febrero           NaN          NaN        NaN       NaN        NaN   \n",
              "\n",
              "                República Dominicana  Panamá  Argentina       Chile  Brasil  \\\n",
              "2021-Diciembre                212.34  396.97     145.65  120.318627  142.05   \n",
              "2022-Enero                    187.03  339.65     136.51  105.393459  131.95   \n",
              "2022-Febrero                  196.06     NaN        NaN   98.883115     NaN   \n",
              "\n",
              "                México     Ecuador  \n",
              "2021-Diciembre  112.15   194.25521  \n",
              "2022-Enero      107.23  174.513808  \n",
              "2022-Febrero       NaN   161.97006  "
            ],
            "text/html": [
              "\n",
              "  <div id=\"df-6098da68-7854-4093-bea0-0ae14c009655\">\n",
              "    <div class=\"colab-df-container\">\n",
              "      <div>\n",
              "<style scoped>\n",
              "    .dataframe tbody tr th:only-of-type {\n",
              "        vertical-align: middle;\n",
              "    }\n",
              "\n",
              "    .dataframe tbody tr th {\n",
              "        vertical-align: top;\n",
              "    }\n",
              "\n",
              "    .dataframe thead th {\n",
              "        text-align: right;\n",
              "    }\n",
              "</style>\n",
              "<table border=\"1\" class=\"dataframe\">\n",
              "  <thead>\n",
              "    <tr style=\"text-align: right;\">\n",
              "      <th></th>\n",
              "      <th>Costa Rica</th>\n",
              "      <th>El Salvador</th>\n",
              "      <th>Guatemala</th>\n",
              "      <th>Honduras</th>\n",
              "      <th>Nicaragua</th>\n",
              "      <th>República Dominicana</th>\n",
              "      <th>Panamá</th>\n",
              "      <th>Argentina</th>\n",
              "      <th>Chile</th>\n",
              "      <th>Brasil</th>\n",
              "      <th>México</th>\n",
              "      <th>Ecuador</th>\n",
              "    </tr>\n",
              "  </thead>\n",
              "  <tbody>\n",
              "    <tr>\n",
              "      <th>2021-Diciembre</th>\n",
              "      <td>120.40</td>\n",
              "      <td>123.01</td>\n",
              "      <td>141.42</td>\n",
              "      <td>281.11</td>\n",
              "      <td>179.84</td>\n",
              "      <td>212.34</td>\n",
              "      <td>396.97</td>\n",
              "      <td>145.65</td>\n",
              "      <td>120.318627</td>\n",
              "      <td>142.05</td>\n",
              "      <td>112.15</td>\n",
              "      <td>194.25521</td>\n",
              "    </tr>\n",
              "    <tr>\n",
              "      <th>2022-Enero</th>\n",
              "      <td>106.03</td>\n",
              "      <td>107.50</td>\n",
              "      <td>134.62</td>\n",
              "      <td>249.01</td>\n",
              "      <td>166.28</td>\n",
              "      <td>187.03</td>\n",
              "      <td>339.65</td>\n",
              "      <td>136.51</td>\n",
              "      <td>105.393459</td>\n",
              "      <td>131.95</td>\n",
              "      <td>107.23</td>\n",
              "      <td>174.513808</td>\n",
              "    </tr>\n",
              "    <tr>\n",
              "      <th>2022-Febrero</th>\n",
              "      <td>NaN</td>\n",
              "      <td>NaN</td>\n",
              "      <td>NaN</td>\n",
              "      <td>NaN</td>\n",
              "      <td>NaN</td>\n",
              "      <td>196.06</td>\n",
              "      <td>NaN</td>\n",
              "      <td>NaN</td>\n",
              "      <td>98.883115</td>\n",
              "      <td>NaN</td>\n",
              "      <td>NaN</td>\n",
              "      <td>161.97006</td>\n",
              "    </tr>\n",
              "  </tbody>\n",
              "</table>\n",
              "</div>\n",
              "      <button class=\"colab-df-convert\" onclick=\"convertToInteractive('df-6098da68-7854-4093-bea0-0ae14c009655')\"\n",
              "              title=\"Convert this dataframe to an interactive table.\"\n",
              "              style=\"display:none;\">\n",
              "        \n",
              "  <svg xmlns=\"http://www.w3.org/2000/svg\" height=\"24px\"viewBox=\"0 0 24 24\"\n",
              "       width=\"24px\">\n",
              "    <path d=\"M0 0h24v24H0V0z\" fill=\"none\"/>\n",
              "    <path d=\"M18.56 5.44l.94 2.06.94-2.06 2.06-.94-2.06-.94-.94-2.06-.94 2.06-2.06.94zm-11 1L8.5 8.5l.94-2.06 2.06-.94-2.06-.94L8.5 2.5l-.94 2.06-2.06.94zm10 10l.94 2.06.94-2.06 2.06-.94-2.06-.94-.94-2.06-.94 2.06-2.06.94z\"/><path d=\"M17.41 7.96l-1.37-1.37c-.4-.4-.92-.59-1.43-.59-.52 0-1.04.2-1.43.59L10.3 9.45l-7.72 7.72c-.78.78-.78 2.05 0 2.83L4 21.41c.39.39.9.59 1.41.59.51 0 1.02-.2 1.41-.59l7.78-7.78 2.81-2.81c.8-.78.8-2.07 0-2.86zM5.41 20L4 18.59l7.72-7.72 1.47 1.35L5.41 20z\"/>\n",
              "  </svg>\n",
              "      </button>\n",
              "      \n",
              "  <style>\n",
              "    .colab-df-container {\n",
              "      display:flex;\n",
              "      flex-wrap:wrap;\n",
              "      gap: 12px;\n",
              "    }\n",
              "\n",
              "    .colab-df-convert {\n",
              "      background-color: #E8F0FE;\n",
              "      border: none;\n",
              "      border-radius: 50%;\n",
              "      cursor: pointer;\n",
              "      display: none;\n",
              "      fill: #1967D2;\n",
              "      height: 32px;\n",
              "      padding: 0 0 0 0;\n",
              "      width: 32px;\n",
              "    }\n",
              "\n",
              "    .colab-df-convert:hover {\n",
              "      background-color: #E2EBFA;\n",
              "      box-shadow: 0px 1px 2px rgba(60, 64, 67, 0.3), 0px 1px 3px 1px rgba(60, 64, 67, 0.15);\n",
              "      fill: #174EA6;\n",
              "    }\n",
              "\n",
              "    [theme=dark] .colab-df-convert {\n",
              "      background-color: #3B4455;\n",
              "      fill: #D2E3FC;\n",
              "    }\n",
              "\n",
              "    [theme=dark] .colab-df-convert:hover {\n",
              "      background-color: #434B5C;\n",
              "      box-shadow: 0px 1px 3px 1px rgba(0, 0, 0, 0.15);\n",
              "      filter: drop-shadow(0px 1px 2px rgba(0, 0, 0, 0.3));\n",
              "      fill: #FFFFFF;\n",
              "    }\n",
              "  </style>\n",
              "\n",
              "      <script>\n",
              "        const buttonEl =\n",
              "          document.querySelector('#df-6098da68-7854-4093-bea0-0ae14c009655 button.colab-df-convert');\n",
              "        buttonEl.style.display =\n",
              "          google.colab.kernel.accessAllowed ? 'block' : 'none';\n",
              "\n",
              "        async function convertToInteractive(key) {\n",
              "          const element = document.querySelector('#df-6098da68-7854-4093-bea0-0ae14c009655');\n",
              "          const dataTable =\n",
              "            await google.colab.kernel.invokeFunction('convertToInteractive',\n",
              "                                                     [key], {});\n",
              "          if (!dataTable) return;\n",
              "\n",
              "          const docLinkHtml = 'Like what you see? Visit the ' +\n",
              "            '<a target=\"_blank\" href=https://colab.research.google.com/notebooks/data_table.ipynb>data table notebook</a>'\n",
              "            + ' to learn more about interactive tables.';\n",
              "          element.innerHTML = '';\n",
              "          dataTable['output_type'] = 'display_data';\n",
              "          await google.colab.output.renderOutput(dataTable, element);\n",
              "          const docLink = document.createElement('div');\n",
              "          docLink.innerHTML = docLinkHtml;\n",
              "          element.appendChild(docLink);\n",
              "        }\n",
              "      </script>\n",
              "    </div>\n",
              "  </div>\n",
              "  "
            ]
          },
          "metadata": {},
          "execution_count": 148
        }
      ]
    },
    {
      "cell_type": "markdown",
      "metadata": {
        "id": "wrBNeqzd4se-"
      },
      "source": [
        "df = np.array(tb.read_pdf('ecuador.pdf',pages = '5',stream=True,multiple_tables=True,pandas_options={'header':None}))\n",
        "dff = pd.DataFrame(df.reshape(-1,5)) # en 2022 el reshape debe ser (-1,6)"
      ]
    },
    {
      "cell_type": "markdown",
      "metadata": {
        "id": "DYqsQgFR-FOz"
      },
      "source": [
        "dff[dff.iloc[3,2].split(' ')] = dff[2].str.split(' ',expand=True)\n",
        "if dff.iloc[3,3] in range(2020,2040,1):\n",
        "  dff[int(dff.iloc[3,3])] = dff[3]\n",
        "  dff[int(dff.iloc[3,4])] = dff[4]\n",
        "else:\n",
        "  dff[int(dff.iloc[3,4])] = dff[4]"
      ]
    },
    {
      "cell_type": "markdown",
      "metadata": {
        "id": "nOgS6gZj_kOg"
      },
      "source": [
        "if dff.iloc[18,0] in ['Ene']:\n",
        "    ecu = dff.iloc[18:30,[0,-3,-2,-1]].reset_index(drop=True)\n",
        "else:\n",
        "    ecu = dff.iloc[19:31,[0,-3,-2,-1]].reset_index(drop=True)\n",
        " \n",
        "ecu['interanualAnterior'] = ecu.iloc[:,-2].astype(float)/ecu.iloc[:,-3].astype(float)*100-100\n",
        "ecu['Ecuador'] = ecu.iloc[:,-2].astype(float)/ecu.iloc[:,-3].astype(float)*100-100\n",
        "\n",
        "listames = [meses[1:][i][1] for i in range(len(meses[1:]))]\n",
        "ecu['mes'] = listames\n",
        "\n",
        "ecu.index = str(ecu.columns[-4]) + '-' + ecu.mes\n",
        "ecu.dropna().tail(1)"
      ]
    },
    {
      "cell_type": "markdown",
      "metadata": {
        "id": "SUl_ygsCnMPA"
      },
      "source": [
        "### **Bolivia**\n",
        "- Falta fecha"
      ]
    },
    {
      "cell_type": "code",
      "metadata": {
        "id": "ZA1eYTsrnc4A"
      },
      "source": [
        "urlbol = 'https://www.ine.gob.bo/index.php/estadisticas-economicas/indice-global-de-actividad-economica-igae/#1584545313102-06cf787f-a790'\n",
        "\n",
        "req = urllib2.Request(url=urlbol, headers=header) \n",
        "page = urllib2.urlopen(req).read()"
      ],
      "execution_count": 33,
      "outputs": []
    },
    {
      "cell_type": "code",
      "metadata": {
        "colab": {
          "base_uri": "https://localhost:8080/"
        },
        "id": "1aB4zuN8r4Nv",
        "outputId": "a57d9f14-b3a8-4f2c-c4c3-cdc9f2c0a166"
      },
      "source": [
        "soupbol = BeautifulSoup(page,'lxml')\n",
        "links = [a['href'] for a in soupbol.select(\"a[href*=nube.ine.gob.bo/index.php]\")] # extraemos links que contengan nube.ine.gob\n",
        " # ultimos link disponibles\n",
        "links # IGAE por actividad economica es el segundo"
      ],
      "execution_count": 34,
      "outputs": [
        {
          "output_type": "execute_result",
          "data": {
            "text/plain": [
              "['https://nube.ine.gob.bo/index.php/s/lhzNu4ISQEuXS1M/download',\n",
              " 'https://nube.ine.gob.bo/index.php/s/6Szm6RmYSBeRnsD/download',\n",
              " 'https://nube.ine.gob.bo/index.php/s/qNQexpgoZroGCYG/download',\n",
              " 'https://nube.ine.gob.bo/index.php/s/vsfGqiIoEXGddwJ/download',\n",
              " 'https://nube.ine.gob.bo/index.php/s/k0bRzzNhBXb7Ae2/download']"
            ]
          },
          "metadata": {},
          "execution_count": 34
        }
      ]
    },
    {
      "cell_type": "code",
      "metadata": {
        "colab": {
          "base_uri": "https://localhost:8080/"
        },
        "id": "0n-BsYwlrXNg",
        "outputId": "eded8a35-f433-4c82-f5a4-cb4eea03d5a9"
      },
      "source": [
        "urllib2.urlretrieve(links[1], \"Bolivia.xlsx\")\n",
        "#https://nube.ine.gob.bo/index.php/s/6Szm6RmYSBeRnsD/download"
      ],
      "execution_count": 35,
      "outputs": [
        {
          "output_type": "execute_result",
          "data": {
            "text/plain": [
              "('Bolivia.xlsx', <http.client.HTTPMessage at 0x7f1f40586e50>)"
            ]
          },
          "metadata": {},
          "execution_count": 35
        }
      ]
    },
    {
      "cell_type": "code",
      "metadata": {
        "id": "5RXiNmdfrXf_"
      },
      "source": [
        "df = pd.read_excel('Bolivia.xlsx',header=9)"
      ],
      "execution_count": 156,
      "outputs": []
    },
    {
      "cell_type": "code",
      "metadata": {
        "id": "3u_9FltnVAzq"
      },
      "source": [
        "df.set_index(df.iloc[:,0],inplace=True)\n",
        "df = df.iloc[:,1:] # eliminar primera columna y ultimas 3 filas\n",
        "df = df.T.reset_index()"
      ],
      "execution_count": 157,
      "outputs": []
    },
    {
      "cell_type": "code",
      "metadata": {
        "id": "mz4BjQln522j",
        "colab": {
          "base_uri": "https://localhost:8080/",
          "height": 382
        },
        "outputId": "0bc7ce88-3ed2-4c87-91e2-957273b82d7d"
      },
      "source": [
        "df.tail(1)"
      ],
      "execution_count": 158,
      "outputs": [
        {
          "output_type": "execute_result",
          "data": {
            "text/plain": [
              "ACTIVIDAD ECONÓMICA         index    0 INDICE GENERAL  \\\n",
              "164                  Unnamed: 165  Sep     321.818286   \n",
              "\n",
              "ACTIVIDAD ECONÓMICA AGRICULTURA, PECUARIO, SILVICULTURA, CAZA Y PESCA  \\\n",
              "164                                                        297.203777   \n",
              "\n",
              "ACTIVIDAD ECONÓMICA PETRÓLEO CRUDO Y GAS NATURAL  \\\n",
              "164                                   307.536983   \n",
              "\n",
              "ACTIVIDAD ECONÓMICA MINERALES METÁLICOS Y NO METÁLICOS  \\\n",
              "164                                         268.737471   \n",
              "\n",
              "ACTIVIDAD ECONÓMICA INDUSTRIA MANUFACTURERA  \\\n",
              "164                               327.91545   \n",
              "\n",
              "ACTIVIDAD ECONÓMICA      - Alimentos, Bebidas y Tabaco  \\\n",
              "164                                         387.996763   \n",
              "\n",
              "ACTIVIDAD ECONÓMICA      - Otras Industrias ELECTRICIDAD, GAS Y AGUA  ...  \\\n",
              "164                              277.968918               435.634639  ...   \n",
              "\n",
              "ACTIVIDAD ECONÓMICA      - Servicios Financieros  \\\n",
              "164                                  1260.860496   \n",
              "\n",
              "ACTIVIDAD ECONÓMICA      - Servicios a las Empresas  \\\n",
              "164                                      315.774245   \n",
              "\n",
              "ACTIVIDAD ECONÓMICA      - Propiedad de Vivienda  \\\n",
              "164                                   203.178469   \n",
              "\n",
              "ACTIVIDAD ECONÓMICA SERVICIOS DE LA ADMINISTRACIÓN PÚBLICA OTROS SERVICIOS(1)  \\\n",
              "164                                             354.800185         229.364493   \n",
              "\n",
              "ACTIVIDAD ECONÓMICA Servicios Bancarios Imputados  \\\n",
              "164                                   1134.305842   \n",
              "\n",
              "ACTIVIDAD ECONÓMICA    Derechos s/Importaciones, IVAnd, IT y otros Imp. Indirectos  \\\n",
              "164                                                         416.413327               \n",
              "\n",
              "ACTIVIDAD ECONÓMICA Fuente: INSTITUTO NACIONAL DE ESTADÍSTICA (p): Preliminar  \\\n",
              "164                                                       NaN             NaN   \n",
              "\n",
              "ACTIVIDAD ECONÓMICA (1): Incluye las actividades de Restaurantes y Hoteles asi como Servicios Comunales, Sociales, Personales y Domestico  \n",
              "164                                                                NaN                                                                     \n",
              "\n",
              "[1 rows x 25 columns]"
            ],
            "text/html": [
              "\n",
              "  <div id=\"df-334a5596-247a-4c5a-8914-4551520b52c7\">\n",
              "    <div class=\"colab-df-container\">\n",
              "      <div>\n",
              "<style scoped>\n",
              "    .dataframe tbody tr th:only-of-type {\n",
              "        vertical-align: middle;\n",
              "    }\n",
              "\n",
              "    .dataframe tbody tr th {\n",
              "        vertical-align: top;\n",
              "    }\n",
              "\n",
              "    .dataframe thead th {\n",
              "        text-align: right;\n",
              "    }\n",
              "</style>\n",
              "<table border=\"1\" class=\"dataframe\">\n",
              "  <thead>\n",
              "    <tr style=\"text-align: right;\">\n",
              "      <th>ACTIVIDAD ECONÓMICA</th>\n",
              "      <th>index</th>\n",
              "      <th>0</th>\n",
              "      <th>INDICE GENERAL</th>\n",
              "      <th>AGRICULTURA, PECUARIO, SILVICULTURA, CAZA Y PESCA</th>\n",
              "      <th>PETRÓLEO CRUDO Y GAS NATURAL</th>\n",
              "      <th>MINERALES METÁLICOS Y NO METÁLICOS</th>\n",
              "      <th>INDUSTRIA MANUFACTURERA</th>\n",
              "      <th>- Alimentos, Bebidas y Tabaco</th>\n",
              "      <th>- Otras Industrias</th>\n",
              "      <th>ELECTRICIDAD, GAS Y AGUA</th>\n",
              "      <th>...</th>\n",
              "      <th>- Servicios Financieros</th>\n",
              "      <th>- Servicios a las Empresas</th>\n",
              "      <th>- Propiedad de Vivienda</th>\n",
              "      <th>SERVICIOS DE LA ADMINISTRACIÓN PÚBLICA</th>\n",
              "      <th>OTROS SERVICIOS(1)</th>\n",
              "      <th>Servicios Bancarios Imputados</th>\n",
              "      <th>Derechos s/Importaciones, IVAnd, IT y otros Imp. Indirectos</th>\n",
              "      <th>Fuente: INSTITUTO NACIONAL DE ESTADÍSTICA</th>\n",
              "      <th>(p): Preliminar</th>\n",
              "      <th>(1): Incluye las actividades de Restaurantes y Hoteles asi como Servicios Comunales, Sociales, Personales y Domestico</th>\n",
              "    </tr>\n",
              "  </thead>\n",
              "  <tbody>\n",
              "    <tr>\n",
              "      <th>164</th>\n",
              "      <td>Unnamed: 165</td>\n",
              "      <td>Sep</td>\n",
              "      <td>321.818286</td>\n",
              "      <td>297.203777</td>\n",
              "      <td>307.536983</td>\n",
              "      <td>268.737471</td>\n",
              "      <td>327.91545</td>\n",
              "      <td>387.996763</td>\n",
              "      <td>277.968918</td>\n",
              "      <td>435.634639</td>\n",
              "      <td>...</td>\n",
              "      <td>1260.860496</td>\n",
              "      <td>315.774245</td>\n",
              "      <td>203.178469</td>\n",
              "      <td>354.800185</td>\n",
              "      <td>229.364493</td>\n",
              "      <td>1134.305842</td>\n",
              "      <td>416.413327</td>\n",
              "      <td>NaN</td>\n",
              "      <td>NaN</td>\n",
              "      <td>NaN</td>\n",
              "    </tr>\n",
              "  </tbody>\n",
              "</table>\n",
              "<p>1 rows × 25 columns</p>\n",
              "</div>\n",
              "      <button class=\"colab-df-convert\" onclick=\"convertToInteractive('df-334a5596-247a-4c5a-8914-4551520b52c7')\"\n",
              "              title=\"Convert this dataframe to an interactive table.\"\n",
              "              style=\"display:none;\">\n",
              "        \n",
              "  <svg xmlns=\"http://www.w3.org/2000/svg\" height=\"24px\"viewBox=\"0 0 24 24\"\n",
              "       width=\"24px\">\n",
              "    <path d=\"M0 0h24v24H0V0z\" fill=\"none\"/>\n",
              "    <path d=\"M18.56 5.44l.94 2.06.94-2.06 2.06-.94-2.06-.94-.94-2.06-.94 2.06-2.06.94zm-11 1L8.5 8.5l.94-2.06 2.06-.94-2.06-.94L8.5 2.5l-.94 2.06-2.06.94zm10 10l.94 2.06.94-2.06 2.06-.94-2.06-.94-.94-2.06-.94 2.06-2.06.94z\"/><path d=\"M17.41 7.96l-1.37-1.37c-.4-.4-.92-.59-1.43-.59-.52 0-1.04.2-1.43.59L10.3 9.45l-7.72 7.72c-.78.78-.78 2.05 0 2.83L4 21.41c.39.39.9.59 1.41.59.51 0 1.02-.2 1.41-.59l7.78-7.78 2.81-2.81c.8-.78.8-2.07 0-2.86zM5.41 20L4 18.59l7.72-7.72 1.47 1.35L5.41 20z\"/>\n",
              "  </svg>\n",
              "      </button>\n",
              "      \n",
              "  <style>\n",
              "    .colab-df-container {\n",
              "      display:flex;\n",
              "      flex-wrap:wrap;\n",
              "      gap: 12px;\n",
              "    }\n",
              "\n",
              "    .colab-df-convert {\n",
              "      background-color: #E8F0FE;\n",
              "      border: none;\n",
              "      border-radius: 50%;\n",
              "      cursor: pointer;\n",
              "      display: none;\n",
              "      fill: #1967D2;\n",
              "      height: 32px;\n",
              "      padding: 0 0 0 0;\n",
              "      width: 32px;\n",
              "    }\n",
              "\n",
              "    .colab-df-convert:hover {\n",
              "      background-color: #E2EBFA;\n",
              "      box-shadow: 0px 1px 2px rgba(60, 64, 67, 0.3), 0px 1px 3px 1px rgba(60, 64, 67, 0.15);\n",
              "      fill: #174EA6;\n",
              "    }\n",
              "\n",
              "    [theme=dark] .colab-df-convert {\n",
              "      background-color: #3B4455;\n",
              "      fill: #D2E3FC;\n",
              "    }\n",
              "\n",
              "    [theme=dark] .colab-df-convert:hover {\n",
              "      background-color: #434B5C;\n",
              "      box-shadow: 0px 1px 3px 1px rgba(0, 0, 0, 0.15);\n",
              "      filter: drop-shadow(0px 1px 2px rgba(0, 0, 0, 0.3));\n",
              "      fill: #FFFFFF;\n",
              "    }\n",
              "  </style>\n",
              "\n",
              "      <script>\n",
              "        const buttonEl =\n",
              "          document.querySelector('#df-334a5596-247a-4c5a-8914-4551520b52c7 button.colab-df-convert');\n",
              "        buttonEl.style.display =\n",
              "          google.colab.kernel.accessAllowed ? 'block' : 'none';\n",
              "\n",
              "        async function convertToInteractive(key) {\n",
              "          const element = document.querySelector('#df-334a5596-247a-4c5a-8914-4551520b52c7');\n",
              "          const dataTable =\n",
              "            await google.colab.kernel.invokeFunction('convertToInteractive',\n",
              "                                                     [key], {});\n",
              "          if (!dataTable) return;\n",
              "\n",
              "          const docLinkHtml = 'Like what you see? Visit the ' +\n",
              "            '<a target=\"_blank\" href=https://colab.research.google.com/notebooks/data_table.ipynb>data table notebook</a>'\n",
              "            + ' to learn more about interactive tables.';\n",
              "          element.innerHTML = '';\n",
              "          dataTable['output_type'] = 'display_data';\n",
              "          await google.colab.output.renderOutput(dataTable, element);\n",
              "          const docLink = document.createElement('div');\n",
              "          docLink.innerHTML = docLinkHtml;\n",
              "          element.appendChild(docLink);\n",
              "        }\n",
              "      </script>\n",
              "    </div>\n",
              "  </div>\n",
              "  "
            ]
          },
          "metadata": {},
          "execution_count": 158
        }
      ]
    },
    {
      "cell_type": "code",
      "metadata": {
        "id": "F4o4M3ypvo3f"
      },
      "source": [
        "# PARA EXTRAER AÑO DE COLUMNA INDEX\n",
        "df['index'] = df['index'].astype(str).str.replace('\\(p\\)','',regex=True)\n",
        "df['index'] = df['index'].str.replace('^0.[0-9]','nan',regex=True)      # reemplaza los numeros decimales regex que empiece por 0. y le siga cualquier num\n",
        "df['index'] = df['index'].str.replace('^0$','nan',regex=True)    # reemplaza toda fila con 0 como unico digito\n",
        "df['index'] = pd.to_numeric(df['index'],errors='coerce').ffill().astype(int)"
      ],
      "execution_count": 159,
      "outputs": []
    },
    {
      "cell_type": "code",
      "metadata": {
        "id": "v7sdukvsRs16"
      },
      "source": [
        "df['fecha'] = df['index'].astype(str) +'-'+ df[0].str.lower().map(mes3) # columna fecha\n",
        "df.set_index('fecha',inplace=True)\n",
        "df.rename(columns={df.columns[2]:'Bolivia'},inplace=True)"
      ],
      "execution_count": 160,
      "outputs": []
    },
    {
      "cell_type": "code",
      "metadata": {
        "id": "LQ1zRqkIyq-c"
      },
      "source": [
        "imaela = imaela.merge(df['Bolivia'],how='left',left_index=True,right_index=True)"
      ],
      "execution_count": 161,
      "outputs": []
    },
    {
      "cell_type": "code",
      "metadata": {
        "id": "6I7hzo5PzbVu",
        "outputId": "4c35992d-9480-4208-8359-e21bd19be8e4",
        "colab": {
          "base_uri": "https://localhost:8080/",
          "height": 405
        }
      },
      "source": [
        "imaela.tail(6)"
      ],
      "execution_count": 162,
      "outputs": [
        {
          "output_type": "execute_result",
          "data": {
            "text/plain": [
              "                 Costa Rica  El Salvador  Guatemala  Honduras  Nicaragua  \\\n",
              "2021-Septiembre      109.23       114.21     129.20    247.06     151.42   \n",
              "2021-Octubre         112.00       110.10     131.41    265.86     161.23   \n",
              "2021-Noviembre       117.53       117.01     135.90    266.16     169.25   \n",
              "2021-Diciembre       120.40       123.01     141.42    281.11     179.84   \n",
              "2022-Enero           106.03       107.50     134.62    249.01     166.28   \n",
              "2022-Febrero            NaN          NaN        NaN       NaN        NaN   \n",
              "\n",
              "                 República Dominicana  Panamá  Argentina       Chile  Brasil  \\\n",
              "2021-Septiembre                181.01  319.29     140.95  105.479685  138.96   \n",
              "2021-Octubre                   192.05  344.84     140.54  110.894921  138.38   \n",
              "2021-Noviembre                 204.87  333.33     145.25  116.334812  140.15   \n",
              "2021-Diciembre                 212.34  396.97     145.65  120.318627  142.05   \n",
              "2022-Enero                     187.03  339.65     136.51  105.393459  131.95   \n",
              "2022-Febrero                   196.06     NaN        NaN   98.883115     NaN   \n",
              "\n",
              "                 México     Ecuador     Bolivia  \n",
              "2021-Septiembre  104.13  174.598644  321.818286  \n",
              "2021-Octubre     108.36  177.915798         NaN  \n",
              "2021-Noviembre   112.69  175.175658         NaN  \n",
              "2021-Diciembre   112.15   194.25521         NaN  \n",
              "2022-Enero       107.23  174.513808         NaN  \n",
              "2022-Febrero        NaN   161.97006         NaN  "
            ],
            "text/html": [
              "\n",
              "  <div id=\"df-c5a4c62f-87a7-420e-ab5b-eca5b534d964\">\n",
              "    <div class=\"colab-df-container\">\n",
              "      <div>\n",
              "<style scoped>\n",
              "    .dataframe tbody tr th:only-of-type {\n",
              "        vertical-align: middle;\n",
              "    }\n",
              "\n",
              "    .dataframe tbody tr th {\n",
              "        vertical-align: top;\n",
              "    }\n",
              "\n",
              "    .dataframe thead th {\n",
              "        text-align: right;\n",
              "    }\n",
              "</style>\n",
              "<table border=\"1\" class=\"dataframe\">\n",
              "  <thead>\n",
              "    <tr style=\"text-align: right;\">\n",
              "      <th></th>\n",
              "      <th>Costa Rica</th>\n",
              "      <th>El Salvador</th>\n",
              "      <th>Guatemala</th>\n",
              "      <th>Honduras</th>\n",
              "      <th>Nicaragua</th>\n",
              "      <th>República Dominicana</th>\n",
              "      <th>Panamá</th>\n",
              "      <th>Argentina</th>\n",
              "      <th>Chile</th>\n",
              "      <th>Brasil</th>\n",
              "      <th>México</th>\n",
              "      <th>Ecuador</th>\n",
              "      <th>Bolivia</th>\n",
              "    </tr>\n",
              "  </thead>\n",
              "  <tbody>\n",
              "    <tr>\n",
              "      <th>2021-Septiembre</th>\n",
              "      <td>109.23</td>\n",
              "      <td>114.21</td>\n",
              "      <td>129.20</td>\n",
              "      <td>247.06</td>\n",
              "      <td>151.42</td>\n",
              "      <td>181.01</td>\n",
              "      <td>319.29</td>\n",
              "      <td>140.95</td>\n",
              "      <td>105.479685</td>\n",
              "      <td>138.96</td>\n",
              "      <td>104.13</td>\n",
              "      <td>174.598644</td>\n",
              "      <td>321.818286</td>\n",
              "    </tr>\n",
              "    <tr>\n",
              "      <th>2021-Octubre</th>\n",
              "      <td>112.00</td>\n",
              "      <td>110.10</td>\n",
              "      <td>131.41</td>\n",
              "      <td>265.86</td>\n",
              "      <td>161.23</td>\n",
              "      <td>192.05</td>\n",
              "      <td>344.84</td>\n",
              "      <td>140.54</td>\n",
              "      <td>110.894921</td>\n",
              "      <td>138.38</td>\n",
              "      <td>108.36</td>\n",
              "      <td>177.915798</td>\n",
              "      <td>NaN</td>\n",
              "    </tr>\n",
              "    <tr>\n",
              "      <th>2021-Noviembre</th>\n",
              "      <td>117.53</td>\n",
              "      <td>117.01</td>\n",
              "      <td>135.90</td>\n",
              "      <td>266.16</td>\n",
              "      <td>169.25</td>\n",
              "      <td>204.87</td>\n",
              "      <td>333.33</td>\n",
              "      <td>145.25</td>\n",
              "      <td>116.334812</td>\n",
              "      <td>140.15</td>\n",
              "      <td>112.69</td>\n",
              "      <td>175.175658</td>\n",
              "      <td>NaN</td>\n",
              "    </tr>\n",
              "    <tr>\n",
              "      <th>2021-Diciembre</th>\n",
              "      <td>120.40</td>\n",
              "      <td>123.01</td>\n",
              "      <td>141.42</td>\n",
              "      <td>281.11</td>\n",
              "      <td>179.84</td>\n",
              "      <td>212.34</td>\n",
              "      <td>396.97</td>\n",
              "      <td>145.65</td>\n",
              "      <td>120.318627</td>\n",
              "      <td>142.05</td>\n",
              "      <td>112.15</td>\n",
              "      <td>194.25521</td>\n",
              "      <td>NaN</td>\n",
              "    </tr>\n",
              "    <tr>\n",
              "      <th>2022-Enero</th>\n",
              "      <td>106.03</td>\n",
              "      <td>107.50</td>\n",
              "      <td>134.62</td>\n",
              "      <td>249.01</td>\n",
              "      <td>166.28</td>\n",
              "      <td>187.03</td>\n",
              "      <td>339.65</td>\n",
              "      <td>136.51</td>\n",
              "      <td>105.393459</td>\n",
              "      <td>131.95</td>\n",
              "      <td>107.23</td>\n",
              "      <td>174.513808</td>\n",
              "      <td>NaN</td>\n",
              "    </tr>\n",
              "    <tr>\n",
              "      <th>2022-Febrero</th>\n",
              "      <td>NaN</td>\n",
              "      <td>NaN</td>\n",
              "      <td>NaN</td>\n",
              "      <td>NaN</td>\n",
              "      <td>NaN</td>\n",
              "      <td>196.06</td>\n",
              "      <td>NaN</td>\n",
              "      <td>NaN</td>\n",
              "      <td>98.883115</td>\n",
              "      <td>NaN</td>\n",
              "      <td>NaN</td>\n",
              "      <td>161.97006</td>\n",
              "      <td>NaN</td>\n",
              "    </tr>\n",
              "  </tbody>\n",
              "</table>\n",
              "</div>\n",
              "      <button class=\"colab-df-convert\" onclick=\"convertToInteractive('df-c5a4c62f-87a7-420e-ab5b-eca5b534d964')\"\n",
              "              title=\"Convert this dataframe to an interactive table.\"\n",
              "              style=\"display:none;\">\n",
              "        \n",
              "  <svg xmlns=\"http://www.w3.org/2000/svg\" height=\"24px\"viewBox=\"0 0 24 24\"\n",
              "       width=\"24px\">\n",
              "    <path d=\"M0 0h24v24H0V0z\" fill=\"none\"/>\n",
              "    <path d=\"M18.56 5.44l.94 2.06.94-2.06 2.06-.94-2.06-.94-.94-2.06-.94 2.06-2.06.94zm-11 1L8.5 8.5l.94-2.06 2.06-.94-2.06-.94L8.5 2.5l-.94 2.06-2.06.94zm10 10l.94 2.06.94-2.06 2.06-.94-2.06-.94-.94-2.06-.94 2.06-2.06.94z\"/><path d=\"M17.41 7.96l-1.37-1.37c-.4-.4-.92-.59-1.43-.59-.52 0-1.04.2-1.43.59L10.3 9.45l-7.72 7.72c-.78.78-.78 2.05 0 2.83L4 21.41c.39.39.9.59 1.41.59.51 0 1.02-.2 1.41-.59l7.78-7.78 2.81-2.81c.8-.78.8-2.07 0-2.86zM5.41 20L4 18.59l7.72-7.72 1.47 1.35L5.41 20z\"/>\n",
              "  </svg>\n",
              "      </button>\n",
              "      \n",
              "  <style>\n",
              "    .colab-df-container {\n",
              "      display:flex;\n",
              "      flex-wrap:wrap;\n",
              "      gap: 12px;\n",
              "    }\n",
              "\n",
              "    .colab-df-convert {\n",
              "      background-color: #E8F0FE;\n",
              "      border: none;\n",
              "      border-radius: 50%;\n",
              "      cursor: pointer;\n",
              "      display: none;\n",
              "      fill: #1967D2;\n",
              "      height: 32px;\n",
              "      padding: 0 0 0 0;\n",
              "      width: 32px;\n",
              "    }\n",
              "\n",
              "    .colab-df-convert:hover {\n",
              "      background-color: #E2EBFA;\n",
              "      box-shadow: 0px 1px 2px rgba(60, 64, 67, 0.3), 0px 1px 3px 1px rgba(60, 64, 67, 0.15);\n",
              "      fill: #174EA6;\n",
              "    }\n",
              "\n",
              "    [theme=dark] .colab-df-convert {\n",
              "      background-color: #3B4455;\n",
              "      fill: #D2E3FC;\n",
              "    }\n",
              "\n",
              "    [theme=dark] .colab-df-convert:hover {\n",
              "      background-color: #434B5C;\n",
              "      box-shadow: 0px 1px 3px 1px rgba(0, 0, 0, 0.15);\n",
              "      filter: drop-shadow(0px 1px 2px rgba(0, 0, 0, 0.3));\n",
              "      fill: #FFFFFF;\n",
              "    }\n",
              "  </style>\n",
              "\n",
              "      <script>\n",
              "        const buttonEl =\n",
              "          document.querySelector('#df-c5a4c62f-87a7-420e-ab5b-eca5b534d964 button.colab-df-convert');\n",
              "        buttonEl.style.display =\n",
              "          google.colab.kernel.accessAllowed ? 'block' : 'none';\n",
              "\n",
              "        async function convertToInteractive(key) {\n",
              "          const element = document.querySelector('#df-c5a4c62f-87a7-420e-ab5b-eca5b534d964');\n",
              "          const dataTable =\n",
              "            await google.colab.kernel.invokeFunction('convertToInteractive',\n",
              "                                                     [key], {});\n",
              "          if (!dataTable) return;\n",
              "\n",
              "          const docLinkHtml = 'Like what you see? Visit the ' +\n",
              "            '<a target=\"_blank\" href=https://colab.research.google.com/notebooks/data_table.ipynb>data table notebook</a>'\n",
              "            + ' to learn more about interactive tables.';\n",
              "          element.innerHTML = '';\n",
              "          dataTable['output_type'] = 'display_data';\n",
              "          await google.colab.output.renderOutput(dataTable, element);\n",
              "          const docLink = document.createElement('div');\n",
              "          docLink.innerHTML = docLinkHtml;\n",
              "          element.appendChild(docLink);\n",
              "        }\n",
              "      </script>\n",
              "    </div>\n",
              "  </div>\n",
              "  "
            ]
          },
          "metadata": {},
          "execution_count": 162
        }
      ]
    },
    {
      "cell_type": "markdown",
      "metadata": {
        "id": "RvPeziE4yKSp"
      },
      "source": [
        "### **El Salvador**"
      ]
    },
    {
      "cell_type": "code",
      "metadata": {
        "id": "8alkW5c2hy9Y"
      },
      "source": [
        "from selenium import webdriver\n",
        "pagina = 'https://www.bcr.gob.sv/bcrsite/?cdr=174&lang=es'"
      ],
      "execution_count": 43,
      "outputs": []
    },
    {
      "cell_type": "code",
      "metadata": {
        "id": "NWamVXLxyc0M"
      },
      "source": [
        "##### **Otra forma de selenium**\n",
        "chrome_options = webdriver.ChromeOptions()\n",
        "chrome_options.add_argument('--headless')\n",
        "chrome_options.add_argument('--no-sandbox')\n",
        "chrome_options.add_argument('--disable-dev-shm-usage')\n",
        "wdsv = webdriver.Chrome('chromedriver',options=chrome_options)\n",
        "wdsv.get(pagina)"
      ],
      "execution_count": 44,
      "outputs": []
    },
    {
      "cell_type": "code",
      "metadata": {
        "id": "9px3ggN5QDEO"
      },
      "source": [
        " #BC El Salvador\n",
        "\n",
        "# Clicks pertinentes para llegar a la tabla con indices imae SV\n",
        "wdsv.find_element(By.CLASS_NAME,'linkBtnNaranja').click() # ejecutar consulta"
      ],
      "execution_count": 45,
      "outputs": []
    },
    {
      "cell_type": "code",
      "metadata": {
        "id": "5gGn-qhWeWkA"
      },
      "source": [
        "# PARA EXTRAER LOS VALORES DE LOS INDICES\n",
        "\n",
        "tr = wdsv.find_element(By.ID,'tbl_setValores')\n",
        "data = tr.find_element(By.TAG_NAME,'tr')\n",
        "indices_salvador = pd.to_numeric(data.text.split(' ')) \n",
        "\n",
        "\n",
        "# PARA EXTRAER LAS FECHAS PARA EL MERGE\n",
        "soupsv = BeautifulSoup(wdsv.page_source,'html.parser')\n",
        "anios_sv = soupsv.find_all('td', style='text-align:center')\n",
        "mes_sv = soupsv.find_all('center')\n",
        "\n",
        "fecha1 = [anios_sv[i].text for i in range(len(anios_sv))] # lista con años \n",
        "fecha2 = [mes_sv[i].text.replace(' ','')[:3] for i in range(1,len(mes_sv))] # lista con meses en formato mmm\n",
        "\n",
        "fecha=[]\n",
        "for i in fecha1:\n",
        "  for j in range(1,13):\n",
        "    fecha.append(i + \"-\" + meses_dict[j])"
      ],
      "execution_count": 46,
      "outputs": []
    },
    {
      "cell_type": "code",
      "metadata": {
        "id": "rSf17gXWVPDm",
        "outputId": "ccdd20fc-4f8f-4c29-cc06-87ae1fa1703a",
        "colab": {
          "base_uri": "https://localhost:8080/",
          "height": 144
        }
      },
      "source": [
        "# CREAR DF\n",
        "elsv = pd.DataFrame(index = fecha,columns=['sv'])\n",
        "for i in range(len(indices_salvador)):\n",
        "  elsv.sv[i] = indices_salvador[i]\n",
        "\n",
        "imaela['El Salvador'] = elsv.loc[imaela.index] # reemplazar valor en la tabla imaela\n",
        "\n",
        "elsv.loc[imaela.index][-3:]"
      ],
      "execution_count": 163,
      "outputs": [
        {
          "output_type": "execute_result",
          "data": {
            "text/plain": [
              "                    sv\n",
              "2021-Diciembre  123.01\n",
              "2022-Enero       107.5\n",
              "2022-Febrero       NaN"
            ],
            "text/html": [
              "\n",
              "  <div id=\"df-adb0299d-e529-448c-b542-52b5d43589a5\">\n",
              "    <div class=\"colab-df-container\">\n",
              "      <div>\n",
              "<style scoped>\n",
              "    .dataframe tbody tr th:only-of-type {\n",
              "        vertical-align: middle;\n",
              "    }\n",
              "\n",
              "    .dataframe tbody tr th {\n",
              "        vertical-align: top;\n",
              "    }\n",
              "\n",
              "    .dataframe thead th {\n",
              "        text-align: right;\n",
              "    }\n",
              "</style>\n",
              "<table border=\"1\" class=\"dataframe\">\n",
              "  <thead>\n",
              "    <tr style=\"text-align: right;\">\n",
              "      <th></th>\n",
              "      <th>sv</th>\n",
              "    </tr>\n",
              "  </thead>\n",
              "  <tbody>\n",
              "    <tr>\n",
              "      <th>2021-Diciembre</th>\n",
              "      <td>123.01</td>\n",
              "    </tr>\n",
              "    <tr>\n",
              "      <th>2022-Enero</th>\n",
              "      <td>107.5</td>\n",
              "    </tr>\n",
              "    <tr>\n",
              "      <th>2022-Febrero</th>\n",
              "      <td>NaN</td>\n",
              "    </tr>\n",
              "  </tbody>\n",
              "</table>\n",
              "</div>\n",
              "      <button class=\"colab-df-convert\" onclick=\"convertToInteractive('df-adb0299d-e529-448c-b542-52b5d43589a5')\"\n",
              "              title=\"Convert this dataframe to an interactive table.\"\n",
              "              style=\"display:none;\">\n",
              "        \n",
              "  <svg xmlns=\"http://www.w3.org/2000/svg\" height=\"24px\"viewBox=\"0 0 24 24\"\n",
              "       width=\"24px\">\n",
              "    <path d=\"M0 0h24v24H0V0z\" fill=\"none\"/>\n",
              "    <path d=\"M18.56 5.44l.94 2.06.94-2.06 2.06-.94-2.06-.94-.94-2.06-.94 2.06-2.06.94zm-11 1L8.5 8.5l.94-2.06 2.06-.94-2.06-.94L8.5 2.5l-.94 2.06-2.06.94zm10 10l.94 2.06.94-2.06 2.06-.94-2.06-.94-.94-2.06-.94 2.06-2.06.94z\"/><path d=\"M17.41 7.96l-1.37-1.37c-.4-.4-.92-.59-1.43-.59-.52 0-1.04.2-1.43.59L10.3 9.45l-7.72 7.72c-.78.78-.78 2.05 0 2.83L4 21.41c.39.39.9.59 1.41.59.51 0 1.02-.2 1.41-.59l7.78-7.78 2.81-2.81c.8-.78.8-2.07 0-2.86zM5.41 20L4 18.59l7.72-7.72 1.47 1.35L5.41 20z\"/>\n",
              "  </svg>\n",
              "      </button>\n",
              "      \n",
              "  <style>\n",
              "    .colab-df-container {\n",
              "      display:flex;\n",
              "      flex-wrap:wrap;\n",
              "      gap: 12px;\n",
              "    }\n",
              "\n",
              "    .colab-df-convert {\n",
              "      background-color: #E8F0FE;\n",
              "      border: none;\n",
              "      border-radius: 50%;\n",
              "      cursor: pointer;\n",
              "      display: none;\n",
              "      fill: #1967D2;\n",
              "      height: 32px;\n",
              "      padding: 0 0 0 0;\n",
              "      width: 32px;\n",
              "    }\n",
              "\n",
              "    .colab-df-convert:hover {\n",
              "      background-color: #E2EBFA;\n",
              "      box-shadow: 0px 1px 2px rgba(60, 64, 67, 0.3), 0px 1px 3px 1px rgba(60, 64, 67, 0.15);\n",
              "      fill: #174EA6;\n",
              "    }\n",
              "\n",
              "    [theme=dark] .colab-df-convert {\n",
              "      background-color: #3B4455;\n",
              "      fill: #D2E3FC;\n",
              "    }\n",
              "\n",
              "    [theme=dark] .colab-df-convert:hover {\n",
              "      background-color: #434B5C;\n",
              "      box-shadow: 0px 1px 3px 1px rgba(0, 0, 0, 0.15);\n",
              "      filter: drop-shadow(0px 1px 2px rgba(0, 0, 0, 0.3));\n",
              "      fill: #FFFFFF;\n",
              "    }\n",
              "  </style>\n",
              "\n",
              "      <script>\n",
              "        const buttonEl =\n",
              "          document.querySelector('#df-adb0299d-e529-448c-b542-52b5d43589a5 button.colab-df-convert');\n",
              "        buttonEl.style.display =\n",
              "          google.colab.kernel.accessAllowed ? 'block' : 'none';\n",
              "\n",
              "        async function convertToInteractive(key) {\n",
              "          const element = document.querySelector('#df-adb0299d-e529-448c-b542-52b5d43589a5');\n",
              "          const dataTable =\n",
              "            await google.colab.kernel.invokeFunction('convertToInteractive',\n",
              "                                                     [key], {});\n",
              "          if (!dataTable) return;\n",
              "\n",
              "          const docLinkHtml = 'Like what you see? Visit the ' +\n",
              "            '<a target=\"_blank\" href=https://colab.research.google.com/notebooks/data_table.ipynb>data table notebook</a>'\n",
              "            + ' to learn more about interactive tables.';\n",
              "          element.innerHTML = '';\n",
              "          dataTable['output_type'] = 'display_data';\n",
              "          await google.colab.output.renderOutput(dataTable, element);\n",
              "          const docLink = document.createElement('div');\n",
              "          docLink.innerHTML = docLinkHtml;\n",
              "          element.appendChild(docLink);\n",
              "        }\n",
              "      </script>\n",
              "    </div>\n",
              "  </div>\n",
              "  "
            ]
          },
          "metadata": {},
          "execution_count": 163
        }
      ]
    },
    {
      "cell_type": "markdown",
      "metadata": {
        "id": "MkoUi_tal0ST"
      },
      "source": [
        "### **Paraguay**\n",
        "\n",
        "- Falta fecha"
      ]
    },
    {
      "cell_type": "code",
      "metadata": {
        "id": "vVlkRWfZIPOT"
      },
      "source": [
        "url = 'https://www.bcp.gov.py/indicador-mensual-de-actividad-economica-del-paraguay-imaep-i471'\n",
        "urlpy = 'https://www.bcp.gov.py/anexo-estadistico-del-informe-economico-i365'\n",
        "#the URL where you are requesting at\n",
        "ssl._create_default_https_context = ssl._create_unverified_context\n",
        "req = urllib2.Request(url=urlpy, headers=header) \n",
        "page = urllib2.urlopen(req).read()"
      ],
      "execution_count": 48,
      "outputs": []
    },
    {
      "cell_type": "code",
      "source": [
        "wdpy = webdriver.Chrome('chromedriver',options=chrome_options)\n",
        "wdpy.get(urlpy)"
      ],
      "metadata": {
        "id": "68nAa-x406Yj"
      },
      "execution_count": 49,
      "outputs": []
    },
    {
      "cell_type": "code",
      "source": [
        "souppy = BeautifulSoup(wdpy.page_source,'lxml')\n",
        "links = [a['href'] for a in souppy.select(\"a[href*=.xlsx]\")] # extraemos links que contengan .xlsx\n",
        " # ultimos link disponibles\n",
        "links"
      ],
      "metadata": {
        "colab": {
          "base_uri": "https://localhost:8080/"
        },
        "id": "xKXrWPAF1BgP",
        "outputId": "ddc8135e-be3a-4b7f-93d8-99fc7b7fef70"
      },
      "execution_count": 50,
      "outputs": [
        {
          "output_type": "execute_result",
          "data": {
            "text/plain": [
              "['userfiles/files/Anexo_Estad%C3%ADstico_del_Informe_Econ%C3%B3mico_18_04_2022.xlsx']"
            ]
          },
          "metadata": {},
          "execution_count": 50
        }
      ]
    },
    {
      "cell_type": "code",
      "metadata": {
        "id": "0E0h9YIBnMNc",
        "outputId": "5077b088-c17b-4b70-9a6d-3e9cd78ef742",
        "colab": {
          "base_uri": "https://localhost:8080/"
        }
      },
      "source": [
        "ssl._create_default_https_context = ssl._create_unverified_context\n",
        "url2py = 'https://www.bcp.gov.py/' + links[0]\n",
        "req2 = requests.get(url2py, headers = header, verify=False)  # nueva forma de descargar excel file de pagina de py\n",
        "#urllib2.urlretrieve(url2py, \"py.xlsx\")"
      ],
      "execution_count": 51,
      "outputs": [
        {
          "output_type": "stream",
          "name": "stderr",
          "text": [
            "/usr/local/lib/python3.7/dist-packages/urllib3/connectionpool.py:847: InsecureRequestWarning: Unverified HTTPS request is being made. Adding certificate verification is strongly advised. See: https://urllib3.readthedocs.io/en/latest/advanced-usage.html#ssl-warnings\n",
            "  method,\n"
          ]
        }
      ]
    },
    {
      "cell_type": "code",
      "metadata": {
        "id": "U1ymdV2Nnxqz"
      },
      "source": [
        "import datetime\n",
        "dfpy = pd.read_excel(req2.content,sheet_name='CUADRO 9',header=9).iloc[:-3,1:] # con limpieza iloc CUADRO 9 es IMAEP\n",
        "dfpy.rename(columns={dfpy.columns[1]:\"Paraguay\"},inplace=True)"
      ],
      "execution_count": 52,
      "outputs": []
    },
    {
      "cell_type": "code",
      "metadata": {
        "id": "LljSTskosyzQ",
        "outputId": "3691c40d-876a-430d-dead-6b9f05150cef",
        "colab": {
          "base_uri": "https://localhost:8080/"
        }
      },
      "source": [
        "# FECHA COLUMNA\n",
        "dfpy['A'] = pd.DatetimeIndex(dfpy[dfpy.columns[0]]).year\n",
        "dfpy['M'] = pd.DatetimeIndex(dfpy[dfpy.columns[0]]).month.map(meses_dict)\n",
        "dfpy['fecha'] = dfpy.A.astype(str) + \"-\" + dfpy.M.astype(str)\n",
        "dfpy.set_index('fecha',inplace=True)\n",
        "dfpy['Paraguay'].tail()"
      ],
      "execution_count": 53,
      "outputs": [
        {
          "output_type": "execute_result",
          "data": {
            "text/plain": [
              "fecha\n",
              "2021-Octubre      121.863027\n",
              "2021-Noviembre    122.983400\n",
              "2021-Diciembre    140.459936\n",
              "2022-Enero        115.529284\n",
              "2022-Febrero      116.821823\n",
              "Name: Paraguay, dtype: float64"
            ]
          },
          "metadata": {},
          "execution_count": 53
        }
      ]
    },
    {
      "cell_type": "code",
      "metadata": {
        "id": "lNtQ0lHVwFZA"
      },
      "source": [
        "imaela = imaela.merge(dfpy['Paraguay'],how='left',left_index=True,right_index=True)"
      ],
      "execution_count": 164,
      "outputs": []
    },
    {
      "cell_type": "code",
      "metadata": {
        "id": "IrxgZGGjszCe",
        "outputId": "9f433838-5a98-4929-895d-4dde8932712f",
        "colab": {
          "base_uri": "https://localhost:8080/",
          "height": 277
        }
      },
      "source": [
        "imaela.tail(3)"
      ],
      "execution_count": 166,
      "outputs": [
        {
          "output_type": "execute_result",
          "data": {
            "text/plain": [
              "                Costa Rica El Salvador  Guatemala  Honduras  Nicaragua  \\\n",
              "2021-Diciembre      120.40      123.01     141.42    281.11     179.84   \n",
              "2022-Enero          106.03       107.5     134.62    249.01     166.28   \n",
              "2022-Febrero           NaN         NaN        NaN       NaN        NaN   \n",
              "\n",
              "                República Dominicana  Panamá  Argentina       Chile  Brasil  \\\n",
              "2021-Diciembre                212.34  396.97     145.65  120.318627  142.05   \n",
              "2022-Enero                    187.03  339.65     136.51  105.393459  131.95   \n",
              "2022-Febrero                  196.06     NaN        NaN   98.883115     NaN   \n",
              "\n",
              "                México     Ecuador Bolivia    Paraguay  \n",
              "2021-Diciembre  112.15   194.25521     NaN  140.459936  \n",
              "2022-Enero      107.23  174.513808     NaN  115.529284  \n",
              "2022-Febrero       NaN   161.97006     NaN  116.821823  "
            ],
            "text/html": [
              "\n",
              "  <div id=\"df-fa8eea6e-9d77-45b8-9114-a17c81c71e3c\">\n",
              "    <div class=\"colab-df-container\">\n",
              "      <div>\n",
              "<style scoped>\n",
              "    .dataframe tbody tr th:only-of-type {\n",
              "        vertical-align: middle;\n",
              "    }\n",
              "\n",
              "    .dataframe tbody tr th {\n",
              "        vertical-align: top;\n",
              "    }\n",
              "\n",
              "    .dataframe thead th {\n",
              "        text-align: right;\n",
              "    }\n",
              "</style>\n",
              "<table border=\"1\" class=\"dataframe\">\n",
              "  <thead>\n",
              "    <tr style=\"text-align: right;\">\n",
              "      <th></th>\n",
              "      <th>Costa Rica</th>\n",
              "      <th>El Salvador</th>\n",
              "      <th>Guatemala</th>\n",
              "      <th>Honduras</th>\n",
              "      <th>Nicaragua</th>\n",
              "      <th>República Dominicana</th>\n",
              "      <th>Panamá</th>\n",
              "      <th>Argentina</th>\n",
              "      <th>Chile</th>\n",
              "      <th>Brasil</th>\n",
              "      <th>México</th>\n",
              "      <th>Ecuador</th>\n",
              "      <th>Bolivia</th>\n",
              "      <th>Paraguay</th>\n",
              "    </tr>\n",
              "  </thead>\n",
              "  <tbody>\n",
              "    <tr>\n",
              "      <th>2021-Diciembre</th>\n",
              "      <td>120.40</td>\n",
              "      <td>123.01</td>\n",
              "      <td>141.42</td>\n",
              "      <td>281.11</td>\n",
              "      <td>179.84</td>\n",
              "      <td>212.34</td>\n",
              "      <td>396.97</td>\n",
              "      <td>145.65</td>\n",
              "      <td>120.318627</td>\n",
              "      <td>142.05</td>\n",
              "      <td>112.15</td>\n",
              "      <td>194.25521</td>\n",
              "      <td>NaN</td>\n",
              "      <td>140.459936</td>\n",
              "    </tr>\n",
              "    <tr>\n",
              "      <th>2022-Enero</th>\n",
              "      <td>106.03</td>\n",
              "      <td>107.5</td>\n",
              "      <td>134.62</td>\n",
              "      <td>249.01</td>\n",
              "      <td>166.28</td>\n",
              "      <td>187.03</td>\n",
              "      <td>339.65</td>\n",
              "      <td>136.51</td>\n",
              "      <td>105.393459</td>\n",
              "      <td>131.95</td>\n",
              "      <td>107.23</td>\n",
              "      <td>174.513808</td>\n",
              "      <td>NaN</td>\n",
              "      <td>115.529284</td>\n",
              "    </tr>\n",
              "    <tr>\n",
              "      <th>2022-Febrero</th>\n",
              "      <td>NaN</td>\n",
              "      <td>NaN</td>\n",
              "      <td>NaN</td>\n",
              "      <td>NaN</td>\n",
              "      <td>NaN</td>\n",
              "      <td>196.06</td>\n",
              "      <td>NaN</td>\n",
              "      <td>NaN</td>\n",
              "      <td>98.883115</td>\n",
              "      <td>NaN</td>\n",
              "      <td>NaN</td>\n",
              "      <td>161.97006</td>\n",
              "      <td>NaN</td>\n",
              "      <td>116.821823</td>\n",
              "    </tr>\n",
              "  </tbody>\n",
              "</table>\n",
              "</div>\n",
              "      <button class=\"colab-df-convert\" onclick=\"convertToInteractive('df-fa8eea6e-9d77-45b8-9114-a17c81c71e3c')\"\n",
              "              title=\"Convert this dataframe to an interactive table.\"\n",
              "              style=\"display:none;\">\n",
              "        \n",
              "  <svg xmlns=\"http://www.w3.org/2000/svg\" height=\"24px\"viewBox=\"0 0 24 24\"\n",
              "       width=\"24px\">\n",
              "    <path d=\"M0 0h24v24H0V0z\" fill=\"none\"/>\n",
              "    <path d=\"M18.56 5.44l.94 2.06.94-2.06 2.06-.94-2.06-.94-.94-2.06-.94 2.06-2.06.94zm-11 1L8.5 8.5l.94-2.06 2.06-.94-2.06-.94L8.5 2.5l-.94 2.06-2.06.94zm10 10l.94 2.06.94-2.06 2.06-.94-2.06-.94-.94-2.06-.94 2.06-2.06.94z\"/><path d=\"M17.41 7.96l-1.37-1.37c-.4-.4-.92-.59-1.43-.59-.52 0-1.04.2-1.43.59L10.3 9.45l-7.72 7.72c-.78.78-.78 2.05 0 2.83L4 21.41c.39.39.9.59 1.41.59.51 0 1.02-.2 1.41-.59l7.78-7.78 2.81-2.81c.8-.78.8-2.07 0-2.86zM5.41 20L4 18.59l7.72-7.72 1.47 1.35L5.41 20z\"/>\n",
              "  </svg>\n",
              "      </button>\n",
              "      \n",
              "  <style>\n",
              "    .colab-df-container {\n",
              "      display:flex;\n",
              "      flex-wrap:wrap;\n",
              "      gap: 12px;\n",
              "    }\n",
              "\n",
              "    .colab-df-convert {\n",
              "      background-color: #E8F0FE;\n",
              "      border: none;\n",
              "      border-radius: 50%;\n",
              "      cursor: pointer;\n",
              "      display: none;\n",
              "      fill: #1967D2;\n",
              "      height: 32px;\n",
              "      padding: 0 0 0 0;\n",
              "      width: 32px;\n",
              "    }\n",
              "\n",
              "    .colab-df-convert:hover {\n",
              "      background-color: #E2EBFA;\n",
              "      box-shadow: 0px 1px 2px rgba(60, 64, 67, 0.3), 0px 1px 3px 1px rgba(60, 64, 67, 0.15);\n",
              "      fill: #174EA6;\n",
              "    }\n",
              "\n",
              "    [theme=dark] .colab-df-convert {\n",
              "      background-color: #3B4455;\n",
              "      fill: #D2E3FC;\n",
              "    }\n",
              "\n",
              "    [theme=dark] .colab-df-convert:hover {\n",
              "      background-color: #434B5C;\n",
              "      box-shadow: 0px 1px 3px 1px rgba(0, 0, 0, 0.15);\n",
              "      filter: drop-shadow(0px 1px 2px rgba(0, 0, 0, 0.3));\n",
              "      fill: #FFFFFF;\n",
              "    }\n",
              "  </style>\n",
              "\n",
              "      <script>\n",
              "        const buttonEl =\n",
              "          document.querySelector('#df-fa8eea6e-9d77-45b8-9114-a17c81c71e3c button.colab-df-convert');\n",
              "        buttonEl.style.display =\n",
              "          google.colab.kernel.accessAllowed ? 'block' : 'none';\n",
              "\n",
              "        async function convertToInteractive(key) {\n",
              "          const element = document.querySelector('#df-fa8eea6e-9d77-45b8-9114-a17c81c71e3c');\n",
              "          const dataTable =\n",
              "            await google.colab.kernel.invokeFunction('convertToInteractive',\n",
              "                                                     [key], {});\n",
              "          if (!dataTable) return;\n",
              "\n",
              "          const docLinkHtml = 'Like what you see? Visit the ' +\n",
              "            '<a target=\"_blank\" href=https://colab.research.google.com/notebooks/data_table.ipynb>data table notebook</a>'\n",
              "            + ' to learn more about interactive tables.';\n",
              "          element.innerHTML = '';\n",
              "          dataTable['output_type'] = 'display_data';\n",
              "          await google.colab.output.renderOutput(dataTable, element);\n",
              "          const docLink = document.createElement('div');\n",
              "          docLink.innerHTML = docLinkHtml;\n",
              "          element.appendChild(docLink);\n",
              "        }\n",
              "      </script>\n",
              "    </div>\n",
              "  </div>\n",
              "  "
            ]
          },
          "metadata": {},
          "execution_count": 166
        }
      ]
    },
    {
      "cell_type": "markdown",
      "metadata": {
        "id": "CRClNJVemnbZ"
      },
      "source": [
        "\n",
        "url2 = 'https://www.bcp.gov.py/' + links[0] # -(numero mes)\n",
        "opener = urllib2.build_opener()\n",
        "opener.addheaders = [('User-agent', 'Mozilla/5.0')]\n",
        "urllib2.install_opener(opener)\n",
        "urllib2.urlretrieve(url2, \"py.pdf\")\n",
        "\n",
        "\n"
      ]
    },
    {
      "cell_type": "markdown",
      "metadata": {
        "id": "SDFvEycum4Ek"
      },
      "source": [
        "'With pdf file\n",
        "\n",
        "with fitz.open(\"py.pdf\") as doc:\n",
        "    text = \"\"\n",
        "    for page in doc:\n",
        "        text += page.get_text()\n",
        "\n",
        "fechapy = text.split(' |',2)[1] # con el espacio\n",
        "fechapy = fechapy.split(' ')[1] +'-'+fechapy.split(' ')[0]"
      ]
    },
    {
      "cell_type": "markdown",
      "metadata": {
        "id": "yVnR8BwV6iJ3"
      },
      "source": [
        "Debido a que las tasas son iguales en Enero\n",
        "\n",
        "if 'Enero' not in fechapy:\n",
        "  valorpyinteranual = re.findall(r'[0-9]+,[0-9]+',text)[0] # para obtener tasa interanual          el regex sirve para buscar los registros numericos separados por coma\n",
        "  valorpyacum = re.findall(r'[0-9]+,[0-9]+',text)[1] # para obtener tasa acumulada interanual\n",
        "  valorpyinteranual = float(valorpyinteranual.replace(',','.'))\n",
        "  valorpyacum = float(valorpyacum.replace(',','.'))\n",
        "else:\n",
        "   valorpyinteranual = re.findall(r'[0-9]+,[0-9]+',text)[0]\n",
        "   valorpyinteranual = float(valorpyinteranual.replace(',','.'))\n",
        "   valorpyacum = valorpyinteranual\n",
        "\n",
        "print(fechapy)\n",
        "print(valorpyinteranual,' Tasa interanual')\n",
        "print(valorpyacum, ' Tasa acumulada interanual')"
      ]
    },
    {
      "cell_type": "markdown",
      "metadata": {
        "id": "byRPPvf83emR"
      },
      "source": [
        "\n",
        "py = pd.DataFrame({'Fecha':['2021-Enero','2021-Febrero','2021-Marzo','2021-Abril','2021-Mayo','2021-Junio','2021-Julio','2021-Agosto','2021-Septiembre','2021-Octubre','2021-Noviembre','2021-Diciembre'],\n",
        "                   'Paraguay_a':[-5.6,-3.0,0.7,4.7,6.3,6.3,6.0,5.7,0,0,0,0],\n",
        "                   'Paraguay_i':[-5.6,-0.5,8.0,19.3,12.4,6.6,3.0,4.2,0,0,0,0]})\n",
        "py.index = py.Fecha\n",
        "dic = {'Fecha':fechapy,'Paraguay_a':valorpyacum,'Paraguay_i':valorpyinteranual}\n",
        "py.loc[fechapy] = [fechapy,valorpyacum,valorpyinteranual]\n",
        "py"
      ]
    },
    {
      "cell_type": "code",
      "metadata": {
        "id": "NQebYfFSdDiq"
      },
      "source": [
        "imaela['a'] = [imaela.index.str.split('-')[i][0] for i in range(len(imaela.index))]\n",
        "imaela = imaela.apply(pd.to_numeric)"
      ],
      "execution_count": 56,
      "outputs": []
    },
    {
      "cell_type": "code",
      "metadata": {
        "id": "2oc-F4Au1Q0L"
      },
      "source": [
        "# Crecimiento interanual\n",
        "imaela1 = imaela.pct_change(12,fill_method=None)*100\n",
        "imaela1.dropna(how='all',inplace=True) # NAs drop\n",
        "imaela1.drop('a',axis=1,inplace=True)"
      ],
      "execution_count": 57,
      "outputs": []
    },
    {
      "cell_type": "code",
      "metadata": {
        "id": "LwGtvH2Ve9nI"
      },
      "source": [
        "# Crecimiento acumulado interanual\n",
        "imaela2 = imaela.groupby('a').cumsum().pct_change(12,fill_method=None)*100\n",
        "imaela2.dropna(how='all',inplace=True) # NAs drop"
      ],
      "execution_count": 58,
      "outputs": []
    },
    {
      "cell_type": "code",
      "metadata": {
        "id": "WT1VOTCo_u0Z"
      },
      "source": [
        "#!pip install selenium\n",
        "#!apt-get update # to update ubuntu to correctly run apt install\n",
        "#!apt install chromium-chromedriver\n",
        "#!cp /usr/lib/chromium-browser/chromedriver /usr/bin\n",
        "#import sys\n",
        "#sys.path.insert(0,'/usr/lib/chromium-browser/chromedriver')\n",
        "#from selenium import webdriver\n",
        "#chrome_options = webdriver.ChromeOptions()\n",
        "#chrome_options.add_argument('--headless')\n",
        "#chrome_options.add_argument('--no-sandbox')\n",
        "#chrome_options.add_argument('--disable-dev-shm-usage')\n",
        "#wd = webdriver.Chrome('chromedriver',chrome_options=chrome_options)"
      ],
      "execution_count": 59,
      "outputs": []
    },
    {
      "cell_type": "markdown",
      "metadata": {
        "id": "1UD90WE2qzru"
      },
      "source": [
        "### **Colombia**"
      ]
    },
    {
      "cell_type": "markdown",
      "source": [
        "!pip install fake_useragent\n",
        "from fake_useragent import UserAgent\n",
        "ua = UserAgent()\n",
        "print(ua.chrome)\n",
        "print(ua.random)\n",
        "url = 'https://www.dane.gov.co/index.php/estadisticas-por-tema/cuentas-nacionales/indicador-de-seguimiento-a-la-economia-ise/historicos-ise-comunicados-y-boletines'\n",
        "url1 = 'https://www.dane.gov.co/index.php/estadisticas-por-tema/cuentas-nacionales/indicador-de-seguimiento-a-la-economia-ise'\n",
        "\n",
        "header_col = {'authority': 'www.dane.gov.co', 'method': 'GET', 'path': '/index.php/estadisticas-por-tema/cuentas-nacionales/indicador-de-seguimiento-a-la-economia-ise',\n",
        "'scheme': 'https', 'accept': 'text/html,application/xhtml+xml,application/xml;q=0.9,image/avif,image/webp,image/apng,*/*;q=0.8,application/signed-exchange;v=b3;q=0.9',\n",
        "'referer':'https://www.dane.gov.co/index.php/estadisticas-por-tema/cuentas-nacionales/indicador-de-seguimiento-a-la-economia-ise',\n",
        "'accept-encoding': 'gzip, deflate, br',\n",
        "'accept-language': 'es-ES,es;q=0.9',\n",
        "'cache-control': 'max-age=0',\n",
        "'cookie': '_ga=GA1.3.1467282597.1625839173; _ga_T3L41X6043=GS1.1.1632235276.4.0.1632235284.0; ec1d9c9ecb5c2f4ef7998e3e52b19fdf=bvqfvrh7p0e0kgp1vf8bg29s68; _gid=GA1.3.2105323501.1637672614',\n",
        "'sec-ch-ua': '\"Google Chrome\";v=\"95\", \"Chromium\";v=\"95\", \";Not A Brand\";v=\"99\"',\n",
        "'sec-ch-ua-mobile': '?0',\n",
        "'sec-ch-ua-platform': \"Windows\",\n",
        "'sec-fetch-dest': 'document',\n",
        "'sec-fetch-mode': 'navigate',\n",
        "'sec-fetch-site': 'none',\n",
        "'sec-fetch-user': '?1',\n",
        "'upgrade-insecure-requests':' 1',\n",
        "'user-agent': str(ua.random)}\n",
        "\n",
        "req = urllib2.Request(url=url1, headers=header_col) \n",
        "page = urllib2.urlopen(req).read()\n",
        "\n",
        "soupco = BeautifulSoup(page,'lxml')\n",
        "links = [a['href'] for a in soupco.select(\"a[href*=21.xlsx]\")] # extraemos links que contengan 21.xlsx \n",
        " #### ultimos link disponibles\n",
        "\n",
        "links\n",
        "url2 = 'https://www.dane.gov.co' + links[0] # si esta el nuevo mes restarle 1 al indice de links\n",
        "url3 = 'https://www.dane.gov.co/files/investigaciones/boletines/pib/Anex_ISE_9actividades_sep_21.xlsx'\n",
        "####urllib2.urlretrieve(url2, \"colombia.xlsx\")\n",
        "\n",
        "\n",
        "urllib2.urlretrieve(url3, \"colombia.xlsx\",)\n",
        "df = pd.read_excel('colombia.xlsx',sheet_name='Cuadro 1',header=9)[0:16].T\n",
        "df.columns = df.iloc[0]\n",
        "df = df.iloc[:,[0,1,-1]].reset_index(drop=True)[1:]\n",
        "df.tail(1)\n",
        "\n",
        "\n",
        "df['ano'] = df.Concepto.ffill().astype(str).str.replace('pr','').str.replace('p','')\n",
        "df['Colombia'] = round(pd.to_numeric(df.loc[:,df.columns[-2]]),2)\n",
        "df.index = df.ano.astype(str) + '-' + df.iloc[:,1].astype(str) \n",
        "\n",
        "imaela = imaela.merge(df['Colombia'],how='left',left_index=True,right_index=True)\n",
        "\n"
      ],
      "metadata": {
        "id": "PmmhxvXg7dBN"
      }
    },
    {
      "cell_type": "markdown",
      "metadata": {
        "id": "VKQm4sO8CBgy"
      },
      "source": [
        "##### PDF"
      ]
    },
    {
      "cell_type": "markdown",
      "metadata": {
        "id": "NCAIe-IytrnA"
      },
      "source": [
        "df = np.array(tb.read_pdf('colombia.pdf',pages = '17',stream=True,multiple_tables=True,pandas_options={'header':None}))\n",
        "dco = pd.DataFrame(df.reshape(-1,4))\n",
        "dco = dco.loc[:,0:2]\n",
        "dco.tail(1)"
      ]
    },
    {
      "cell_type": "markdown",
      "metadata": {
        "id": "oIjcg_Hy3mLe"
      },
      "source": [
        "dco[3] = dco[2].str.split(' ',expand=True)[0] # Tomando las tasas de crecimiento de la tabla pdf\n",
        "dco.rename(columns={1:'Colombia'},inplace=True)\n",
        "dco['Colombia1'] = pd.to_numeric(dco[3].str.replace(',','.'),errors='coerce')  #Convirtiendo la data a numero\n",
        "dco['Colombia'] = pd.to_numeric(dco['Colombia'].str.replace(',','.'),errors='coerce')"
      ]
    },
    {
      "cell_type": "markdown",
      "metadata": {
        "id": "1Za65saE00xD"
      },
      "source": [
        "split = dco[0].str.split(' - ')     # extraer mes \n",
        "fech = []\n",
        "for i in range(len(split)):\n",
        "  if type(split[i]) == float:\n",
        "    fech.append('0')\n",
        "  elif len(split[i]) == 1 :\n",
        "    fech.append(str(split[i][0]))\n",
        "  else:\n",
        "    fech.append(str(split[i][1].capitalize()))"
      ]
    },
    {
      "cell_type": "markdown",
      "metadata": {
        "id": "7sx55Q3v7F_L"
      },
      "source": [
        "anof=[]                          # extraer año\n",
        "for i in range(len(split)):\n",
        "  if type(split[i]) == float:\n",
        "    anof.append('0')\n",
        "  elif len(split[i]) > 1 :\n",
        "    anof.append(str(split[i][0]))\n",
        "  else:\n",
        "    anof.append(np.nan)"
      ]
    },
    {
      "cell_type": "markdown",
      "metadata": {
        "id": "E0FtIhm29EdE"
      },
      "source": [
        "dco['mes'] = fech\n",
        "dco['ano'] = anof\n",
        "dco['ano'] = dco.ano.replace(['p','r',' '],['','',''],regex=True).ffill()\n",
        "dco.index = dco['ano'] + '-' + dco['mes'] # creamos indice"
      ]
    },
    {
      "cell_type": "markdown",
      "metadata": {
        "id": "851yN-m_mxAi"
      },
      "source": [
        "## imae\n"
      ]
    },
    {
      "cell_type": "code",
      "metadata": {
        "id": "tCeHYsHPRaAP"
      },
      "source": [
        "# imaela.drop('a',axis=1,inplace=True)\n",
        "imaela.drop('a',axis=1,inplace=True)"
      ],
      "execution_count": null,
      "outputs": []
    },
    {
      "cell_type": "code",
      "metadata": {
        "id": "VWC8U8QApa6w",
        "colab": {
          "base_uri": "https://localhost:8080/",
          "height": 144
        },
        "outputId": "49c6ab0e-87d9-4e4b-941f-501f69e2f534"
      },
      "source": [
        "imaela.tail(3)"
      ],
      "execution_count": 168,
      "outputs": [
        {
          "output_type": "execute_result",
          "data": {
            "text/plain": [
              "                Costa Rica El Salvador  Guatemala  Honduras  Nicaragua  \\\n",
              "2021-Diciembre      120.40      123.01     141.42    281.11     179.84   \n",
              "2022-Enero          106.03       107.5     134.62    249.01     166.28   \n",
              "2022-Febrero           NaN         NaN        NaN       NaN        NaN   \n",
              "\n",
              "                República Dominicana  Panamá  Argentina       Chile  Brasil  \\\n",
              "2021-Diciembre                212.34  396.97     145.65  120.318627  142.05   \n",
              "2022-Enero                    187.03  339.65     136.51  105.393459  131.95   \n",
              "2022-Febrero                  196.06     NaN        NaN   98.883115     NaN   \n",
              "\n",
              "                México     Ecuador Bolivia    Paraguay  \n",
              "2021-Diciembre  112.15   194.25521     NaN  140.459936  \n",
              "2022-Enero      107.23  174.513808     NaN  115.529284  \n",
              "2022-Febrero       NaN   161.97006     NaN  116.821823  "
            ],
            "text/html": [
              "\n",
              "  <div id=\"df-8af7e899-db79-4d54-8456-45a32742297f\">\n",
              "    <div class=\"colab-df-container\">\n",
              "      <div>\n",
              "<style scoped>\n",
              "    .dataframe tbody tr th:only-of-type {\n",
              "        vertical-align: middle;\n",
              "    }\n",
              "\n",
              "    .dataframe tbody tr th {\n",
              "        vertical-align: top;\n",
              "    }\n",
              "\n",
              "    .dataframe thead th {\n",
              "        text-align: right;\n",
              "    }\n",
              "</style>\n",
              "<table border=\"1\" class=\"dataframe\">\n",
              "  <thead>\n",
              "    <tr style=\"text-align: right;\">\n",
              "      <th></th>\n",
              "      <th>Costa Rica</th>\n",
              "      <th>El Salvador</th>\n",
              "      <th>Guatemala</th>\n",
              "      <th>Honduras</th>\n",
              "      <th>Nicaragua</th>\n",
              "      <th>República Dominicana</th>\n",
              "      <th>Panamá</th>\n",
              "      <th>Argentina</th>\n",
              "      <th>Chile</th>\n",
              "      <th>Brasil</th>\n",
              "      <th>México</th>\n",
              "      <th>Ecuador</th>\n",
              "      <th>Bolivia</th>\n",
              "      <th>Paraguay</th>\n",
              "    </tr>\n",
              "  </thead>\n",
              "  <tbody>\n",
              "    <tr>\n",
              "      <th>2021-Diciembre</th>\n",
              "      <td>120.40</td>\n",
              "      <td>123.01</td>\n",
              "      <td>141.42</td>\n",
              "      <td>281.11</td>\n",
              "      <td>179.84</td>\n",
              "      <td>212.34</td>\n",
              "      <td>396.97</td>\n",
              "      <td>145.65</td>\n",
              "      <td>120.318627</td>\n",
              "      <td>142.05</td>\n",
              "      <td>112.15</td>\n",
              "      <td>194.25521</td>\n",
              "      <td>NaN</td>\n",
              "      <td>140.459936</td>\n",
              "    </tr>\n",
              "    <tr>\n",
              "      <th>2022-Enero</th>\n",
              "      <td>106.03</td>\n",
              "      <td>107.5</td>\n",
              "      <td>134.62</td>\n",
              "      <td>249.01</td>\n",
              "      <td>166.28</td>\n",
              "      <td>187.03</td>\n",
              "      <td>339.65</td>\n",
              "      <td>136.51</td>\n",
              "      <td>105.393459</td>\n",
              "      <td>131.95</td>\n",
              "      <td>107.23</td>\n",
              "      <td>174.513808</td>\n",
              "      <td>NaN</td>\n",
              "      <td>115.529284</td>\n",
              "    </tr>\n",
              "    <tr>\n",
              "      <th>2022-Febrero</th>\n",
              "      <td>NaN</td>\n",
              "      <td>NaN</td>\n",
              "      <td>NaN</td>\n",
              "      <td>NaN</td>\n",
              "      <td>NaN</td>\n",
              "      <td>196.06</td>\n",
              "      <td>NaN</td>\n",
              "      <td>NaN</td>\n",
              "      <td>98.883115</td>\n",
              "      <td>NaN</td>\n",
              "      <td>NaN</td>\n",
              "      <td>161.97006</td>\n",
              "      <td>NaN</td>\n",
              "      <td>116.821823</td>\n",
              "    </tr>\n",
              "  </tbody>\n",
              "</table>\n",
              "</div>\n",
              "      <button class=\"colab-df-convert\" onclick=\"convertToInteractive('df-8af7e899-db79-4d54-8456-45a32742297f')\"\n",
              "              title=\"Convert this dataframe to an interactive table.\"\n",
              "              style=\"display:none;\">\n",
              "        \n",
              "  <svg xmlns=\"http://www.w3.org/2000/svg\" height=\"24px\"viewBox=\"0 0 24 24\"\n",
              "       width=\"24px\">\n",
              "    <path d=\"M0 0h24v24H0V0z\" fill=\"none\"/>\n",
              "    <path d=\"M18.56 5.44l.94 2.06.94-2.06 2.06-.94-2.06-.94-.94-2.06-.94 2.06-2.06.94zm-11 1L8.5 8.5l.94-2.06 2.06-.94-2.06-.94L8.5 2.5l-.94 2.06-2.06.94zm10 10l.94 2.06.94-2.06 2.06-.94-2.06-.94-.94-2.06-.94 2.06-2.06.94z\"/><path d=\"M17.41 7.96l-1.37-1.37c-.4-.4-.92-.59-1.43-.59-.52 0-1.04.2-1.43.59L10.3 9.45l-7.72 7.72c-.78.78-.78 2.05 0 2.83L4 21.41c.39.39.9.59 1.41.59.51 0 1.02-.2 1.41-.59l7.78-7.78 2.81-2.81c.8-.78.8-2.07 0-2.86zM5.41 20L4 18.59l7.72-7.72 1.47 1.35L5.41 20z\"/>\n",
              "  </svg>\n",
              "      </button>\n",
              "      \n",
              "  <style>\n",
              "    .colab-df-container {\n",
              "      display:flex;\n",
              "      flex-wrap:wrap;\n",
              "      gap: 12px;\n",
              "    }\n",
              "\n",
              "    .colab-df-convert {\n",
              "      background-color: #E8F0FE;\n",
              "      border: none;\n",
              "      border-radius: 50%;\n",
              "      cursor: pointer;\n",
              "      display: none;\n",
              "      fill: #1967D2;\n",
              "      height: 32px;\n",
              "      padding: 0 0 0 0;\n",
              "      width: 32px;\n",
              "    }\n",
              "\n",
              "    .colab-df-convert:hover {\n",
              "      background-color: #E2EBFA;\n",
              "      box-shadow: 0px 1px 2px rgba(60, 64, 67, 0.3), 0px 1px 3px 1px rgba(60, 64, 67, 0.15);\n",
              "      fill: #174EA6;\n",
              "    }\n",
              "\n",
              "    [theme=dark] .colab-df-convert {\n",
              "      background-color: #3B4455;\n",
              "      fill: #D2E3FC;\n",
              "    }\n",
              "\n",
              "    [theme=dark] .colab-df-convert:hover {\n",
              "      background-color: #434B5C;\n",
              "      box-shadow: 0px 1px 3px 1px rgba(0, 0, 0, 0.15);\n",
              "      filter: drop-shadow(0px 1px 2px rgba(0, 0, 0, 0.3));\n",
              "      fill: #FFFFFF;\n",
              "    }\n",
              "  </style>\n",
              "\n",
              "      <script>\n",
              "        const buttonEl =\n",
              "          document.querySelector('#df-8af7e899-db79-4d54-8456-45a32742297f button.colab-df-convert');\n",
              "        buttonEl.style.display =\n",
              "          google.colab.kernel.accessAllowed ? 'block' : 'none';\n",
              "\n",
              "        async function convertToInteractive(key) {\n",
              "          const element = document.querySelector('#df-8af7e899-db79-4d54-8456-45a32742297f');\n",
              "          const dataTable =\n",
              "            await google.colab.kernel.invokeFunction('convertToInteractive',\n",
              "                                                     [key], {});\n",
              "          if (!dataTable) return;\n",
              "\n",
              "          const docLinkHtml = 'Like what you see? Visit the ' +\n",
              "            '<a target=\"_blank\" href=https://colab.research.google.com/notebooks/data_table.ipynb>data table notebook</a>'\n",
              "            + ' to learn more about interactive tables.';\n",
              "          element.innerHTML = '';\n",
              "          dataTable['output_type'] = 'display_data';\n",
              "          await google.colab.output.renderOutput(dataTable, element);\n",
              "          const docLink = document.createElement('div');\n",
              "          docLink.innerHTML = docLinkHtml;\n",
              "          element.appendChild(docLink);\n",
              "        }\n",
              "      </script>\n",
              "    </div>\n",
              "  </div>\n",
              "  "
            ]
          },
          "metadata": {},
          "execution_count": 168
        }
      ]
    },
    {
      "cell_type": "code",
      "metadata": {
        "id": "aPbNJ1eyIKiv",
        "cellView": "form",
        "colab": {
          "base_uri": "https://localhost:8080/",
          "height": 17
        },
        "outputId": "be925f0d-ba2a-496e-863f-8ba1a72d272b"
      },
      "source": [
        "#@title Descarga a Excel\n",
        "writer = pd.ExcelWriter('imae_latam.xlsx', engine='xlsxwriter')\n",
        "\n",
        "#imaela1.to_excel(writer, sheet_name='Interanual')\n",
        "#imaela2.to_excel(writer, sheet_name='Acumulado')\n",
        "imaela.to_excel(writer, sheet_name='Indices - Serie Original')\n",
        "writer.save()\n",
        "\n",
        "files.download(\"imae_latam.xlsx\")"
      ],
      "execution_count": null,
      "outputs": [
        {
          "output_type": "display_data",
          "data": {
            "text/plain": [
              "<IPython.core.display.Javascript object>"
            ],
            "application/javascript": [
              "\n",
              "    async function download(id, filename, size) {\n",
              "      if (!google.colab.kernel.accessAllowed) {\n",
              "        return;\n",
              "      }\n",
              "      const div = document.createElement('div');\n",
              "      const label = document.createElement('label');\n",
              "      label.textContent = `Downloading \"${filename}\": `;\n",
              "      div.appendChild(label);\n",
              "      const progress = document.createElement('progress');\n",
              "      progress.max = size;\n",
              "      div.appendChild(progress);\n",
              "      document.body.appendChild(div);\n",
              "\n",
              "      const buffers = [];\n",
              "      let downloaded = 0;\n",
              "\n",
              "      const channel = await google.colab.kernel.comms.open(id);\n",
              "      // Send a message to notify the kernel that we're ready.\n",
              "      channel.send({})\n",
              "\n",
              "      for await (const message of channel.messages) {\n",
              "        // Send a message to notify the kernel that we're ready.\n",
              "        channel.send({})\n",
              "        if (message.buffers) {\n",
              "          for (const buffer of message.buffers) {\n",
              "            buffers.push(buffer);\n",
              "            downloaded += buffer.byteLength;\n",
              "            progress.value = downloaded;\n",
              "          }\n",
              "        }\n",
              "      }\n",
              "      const blob = new Blob(buffers, {type: 'application/binary'});\n",
              "      const a = document.createElement('a');\n",
              "      a.href = window.URL.createObjectURL(blob);\n",
              "      a.download = filename;\n",
              "      div.appendChild(a);\n",
              "      a.click();\n",
              "      div.remove();\n",
              "    }\n",
              "  "
            ]
          },
          "metadata": {}
        },
        {
          "output_type": "display_data",
          "data": {
            "text/plain": [
              "<IPython.core.display.Javascript object>"
            ],
            "application/javascript": [
              "download(\"download_f247e633-6a18-4b2b-8a04-ea14a595d03b\", \"imae_latam.xlsx\", 11842)"
            ]
          },
          "metadata": {}
        }
      ]
    },
    {
      "cell_type": "code",
      "metadata": {
        "id": "fRnNN0VxUxeA",
        "cellView": "form"
      },
      "source": [
        "#@title Bar\n",
        "f, ax = plt.subplots(figsize=(20, 8))\n",
        "sns.barplot(data=imaela.iloc[-1:,:]);"
      ],
      "execution_count": null,
      "outputs": []
    },
    {
      "cell_type": "code",
      "metadata": {
        "id": "0HYQImNIAxf6",
        "cellView": "form"
      },
      "source": [
        "#@title Interanual Mes Anterior\n",
        "f, ax = plt.subplots(figsize=(18, 8))\n",
        "df = pd.melt(imaela1.iloc[-2:-1,:]).sort_values('value',ascending=False) \n",
        "sns.barplot(data = df ,x='value',y='variable',\n",
        "                palette=['r' if y =='República Dominicana' else '#0343DF' for y in df.variable])\n",
        "for p in ax.patches:\n",
        "    width = p.get_width()    # get bar length\n",
        "    ax.text(width+0.2,       # set the text at 0.2 unit right of the bar\n",
        "            p.get_y() + p.get_height() / 2, # get Y coordinate + X coordinate / 2\n",
        "            '{:1.2f}'.format(width), # set variable to display, 2 decimals\n",
        "            ha = 'left',   # horizontal alignment\n",
        "            va = 'center', weight=\"bold\") # vertical alignment\n",
        "plt.title('IMAE LATAM \\n Crecimiento Interanual (%) {}'.format(imaela.index[-2]),weight='bold');"
      ],
      "execution_count": null,
      "outputs": []
    },
    {
      "cell_type": "code",
      "metadata": {
        "id": "AXWRoqQueTtV",
        "cellView": "form"
      },
      "source": [
        "#@title Acumulado Interanual Mes Anterior\n",
        "f, ax = plt.subplots(figsize=(18, 8))\n",
        "df = pd.melt(imaela2.iloc[-2:-1,:]).sort_values('value',ascending=False) \n",
        "sns.barplot(data = df ,x='value',y='variable',\n",
        "                palette=['r' if y =='República Dominicana' else '#0343DF' for y in df.variable])\n",
        "for p in ax.patches:\n",
        "    width = p.get_width()    # get bar length\n",
        "    ax.text(width+0.2,       # set the text at 0.2 unit right of the bar\n",
        "            p.get_y() + p.get_height() / 2, # get Y coordinate + X coordinate / 2\n",
        "            '{:1.2f}'.format(width), # set variable to display, 2 decimals\n",
        "            ha = 'left',   # horizontal alignment\n",
        "            va = 'center', weight=\"bold\") # vertical alignment\n",
        "plt.title('IMAE LATAM \\n Crecimiento Acumulado Interanual (%) a {}'.format(imaela.index[-2]) ,weight='bold');"
      ],
      "execution_count": null,
      "outputs": []
    },
    {
      "cell_type": "code",
      "metadata": {
        "id": "LOhjJvf2M908",
        "cellView": "form"
      },
      "source": [
        "#@title Interanual Ultimo Mes\n",
        "f, ax = plt.subplots(figsize=(18, 8))\n",
        "df = pd.melt(imaela1.iloc[-1:,:].dropna(axis=1)).sort_values('value',ascending=False) \n",
        "sns.barplot(data = df ,x='value',y='variable',\n",
        "                palette=['r' if y =='República Dominicana' else '#0343DF' for y in df.variable])\n",
        "for p in ax.patches:\n",
        "    width = p.get_width()    # get bar length\n",
        "    ax.text(width+0.2,       # set the text at 0.2 unit right of the bar\n",
        "            p.get_y() + p.get_height() / 2, # get Y coordinate + X coordinate / 2\n",
        "            '{:1.2f}'.format(width), # set variable to display, 2 decimals\n",
        "            ha = 'left',   # horizontal alignment\n",
        "            va = 'center', weight=\"bold\") # vertical alignment\n",
        "plt.title('IMAE LATAM \\n Crecimiento Interanual (%) {}'.format(imaela.index[-1]),weight='bold')\n",
        ";"
      ],
      "execution_count": null,
      "outputs": []
    },
    {
      "cell_type": "code",
      "metadata": {
        "id": "fyL78uQDM2ib",
        "cellView": "form"
      },
      "source": [
        "#@title Acumulado Interanual Ultimo Mes\n",
        "f, ax = plt.subplots(figsize=(18, 8))\n",
        "df = pd.melt(imaela2.iloc[-1:,:].dropna(axis=1)).sort_values('value',ascending=False) \n",
        "sns.barplot(data = df ,x='value',y='variable',\n",
        "                palette=['r' if y =='República Dominicana' else '#0343DF' for y in df.variable])\n",
        "for p in ax.patches:\n",
        "    width = p.get_width()    # get bar length\n",
        "    ax.text(width+0.2,       # set the text at 0.2 unit right of the bar\n",
        "            p.get_y() + p.get_height() / 2, # get Y coordinate + X coordinate / 2\n",
        "            '{:1.2f}'.format(width), # set variable to display, 2 decimals\n",
        "            ha = 'left',   # horizontal alignment\n",
        "            va = 'center', weight=\"bold\") # vertical alignment\n",
        "plt.title('IMAE LATAM \\n Crecimiento Acumulado Interanual (%) a {}'.format(imaela.index[-1]) ,weight='bold');"
      ],
      "execution_count": null,
      "outputs": []
    }
  ]
}