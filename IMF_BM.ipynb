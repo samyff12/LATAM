{
  "cells": [
    {
      "cell_type": "markdown",
      "metadata": {
        "id": "view-in-github",
        "colab_type": "text"
      },
      "source": [
        "<a href=\"https://colab.research.google.com/github/samyff12/LATAM/blob/main/IMF_BM.ipynb\" target=\"_parent\"><img src=\"https://colab.research.google.com/assets/colab-badge.svg\" alt=\"Open In Colab\"/></a>"
      ]
    },
    {
      "cell_type": "code",
      "execution_count": null,
      "metadata": {
        "id": "lIYdn1woOS1n"
      },
      "outputs": [],
      "source": [
        "! pip install wbgapi\n",
        "import wbgapi as wb  # api importe de datos del WB\n",
        "import pandas as pd\n",
        "import numpy as np\n",
        "\n",
        "import urllib.request as urllib2\n",
        "! pip install weo\n",
        "import weo          # api WEO\n",
        "from weo import WEO"
      ]
    },
    {
      "cell_type": "code",
      "source": [
        "display(wb.source.info(27))   # global economic prospects 27 INFO\n",
        "\n",
        "print(\"\\nPublicaciones WEO\\n\",weo.all_releases()[-2:])"
      ],
      "metadata": {
        "colab": {
          "base_uri": "https://localhost:8080/",
          "height": 132
        },
        "id": "qXvoT4MGoQKV",
        "outputId": "41566b60-74be-492b-e8ee-b7229a276a10"
      },
      "execution_count": 2,
      "outputs": [
        {
          "output_type": "display_data",
          "data": {
            "text/plain": [
              "id    name                       code      concepts  lastupdated\n",
              "----  -------------------------  ------  ----------  -------------\n",
              "27    Global Economic Prospects  GEP              3  2022-01-11\n",
              "      1 elements"
            ],
            "text/html": [
              "<div class=\"wbgapi\"><table>\n",
              "<thead>\n",
              "<tr><th>id  </th><th>name                     </th><th>code  </th><th style=\"text-align: right;\">  concepts</th><th>lastupdated  </th></tr>\n",
              "</thead>\n",
              "<tbody>\n",
              "<tr><td>27  </td><td>Global Economic Prospects</td><td>GEP   </td><td style=\"text-align: right;\">         3</td><td>2022-01-11   </td></tr>\n",
              "<tr><td>    </td><td>1 elements               </td><td>      </td><td style=\"text-align: right;\">          </td><td>             </td></tr>\n",
              "</tbody>\n",
              "</table></div>"
            ]
          },
          "metadata": {}
        },
        {
          "output_type": "stream",
          "name": "stdout",
          "text": [
            "\n",
            "Publicaciones WEO\n",
            " [(2021, 2), (2022, 1)]\n"
          ]
        }
      ]
    },
    {
      "cell_type": "code",
      "source": [
        "# CODIGOS DE VARIABLES\n",
        "wb.source.info()\n",
        "\n",
        "# codigo de paises\n",
        "# wb.economy.info()\n",
        "\n",
        "#info de las series\n",
        "wb.series.info(q='GDP')"
      ],
      "metadata": {
        "colab": {
          "base_uri": "https://localhost:8080/",
          "height": 616
        },
        "id": "_MMK1MDQTbWG",
        "outputId": "66fd4627-7b48-4888-de84-1b672877e5a5"
      },
      "execution_count": 4,
      "outputs": [
        {
          "output_type": "execute_result",
          "data": {
            "text/plain": [
              "id                    value\n",
              "--------------------  -------------------------------------------------------------------------\n",
              "EG.GDP.PUSE.KO.PP     GDP per unit of energy use (PPP $ per kg of oil equivalent)\n",
              "EG.GDP.PUSE.KO.PP.KD  GDP per unit of energy use (constant 2017 PPP $ per kg of oil equivalent)\n",
              "EG.USE.COMM.GD.PP.KD  Energy use (kg of oil equivalent) per $1,000 GDP (constant 2017 PPP)\n",
              "NY.GDP.DEFL.KD.ZG     Inflation, GDP deflator (annual %)\n",
              "NY.GDP.DEFL.KD.ZG.AD  Inflation, GDP deflator: linked series (annual %)\n",
              "NY.GDP.DEFL.ZS        GDP deflator (base year varies by country)\n",
              "NY.GDP.DEFL.ZS.AD     GDP deflator: linked series (base year varies by country)\n",
              "NY.GDP.DISC.CN        Discrepancy in expenditure estimate of GDP (current LCU)\n",
              "NY.GDP.DISC.KN        Discrepancy in expenditure estimate of GDP (constant LCU)\n",
              "NY.GDP.MKTP.CD        GDP (current US$)\n",
              "NY.GDP.MKTP.CN        GDP (current LCU)\n",
              "NY.GDP.MKTP.CN.AD     GDP: linked series (current LCU)\n",
              "NY.GDP.MKTP.KD        GDP (constant 2015 US$)\n",
              "NY.GDP.MKTP.KD.ZG     GDP growth (annual %)\n",
              "NY.GDP.MKTP.KN        GDP (constant LCU)\n",
              "NY.GDP.MKTP.PP.CD     GDP, PPP (current international $)\n",
              "NY.GDP.MKTP.PP.KD     GDP, PPP (constant 2017 international $)\n",
              "NY.GDP.PCAP.CD        GDP per capita (current US$)\n",
              "NY.GDP.PCAP.CN        GDP per capita (current LCU)\n",
              "NY.GDP.PCAP.KD        GDP per capita (constant 2015 US$)\n",
              "NY.GDP.PCAP.KD.ZG     GDP per capita growth (annual %)\n",
              "NY.GDP.PCAP.KN        GDP per capita (constant LCU)\n",
              "NY.GDP.PCAP.PP.CD     GDP per capita, PPP (current international $)\n",
              "NY.GDP.PCAP.PP.KD     GDP per capita, PPP (constant 2017 international $)\n",
              "PA.NUS.PPP            PPP conversion factor, GDP (LCU per international $)\n",
              "PA.NUS.PPPC.RF        Price level ratio of PPP conversion factor (GDP) to market exchange rate\n",
              "SL.GDP.PCAP.EM.KD     GDP per person employed (constant 2017 PPP $)\n",
              "                      27 elements"
            ],
            "text/html": [
              "<div class=\"wbgapi\"><table>\n",
              "<thead>\n",
              "<tr><th>id                  </th><th>value                                                                    </th></tr>\n",
              "</thead>\n",
              "<tbody>\n",
              "<tr><td>EG.GDP.PUSE.KO.PP   </td><td>GDP per unit of energy use (PPP $ per kg of oil equivalent)              </td></tr>\n",
              "<tr><td>EG.GDP.PUSE.KO.PP.KD</td><td>GDP per unit of energy use (constant 2017 PPP $ per kg of oil equivalent)</td></tr>\n",
              "<tr><td>EG.USE.COMM.GD.PP.KD</td><td>Energy use (kg of oil equivalent) per $1,000 GDP (constant 2017 PPP)     </td></tr>\n",
              "<tr><td>NY.GDP.DEFL.KD.ZG   </td><td>Inflation, GDP deflator (annual %)                                       </td></tr>\n",
              "<tr><td>NY.GDP.DEFL.KD.ZG.AD</td><td>Inflation, GDP deflator: linked series (annual %)                        </td></tr>\n",
              "<tr><td>NY.GDP.DEFL.ZS      </td><td>GDP deflator (base year varies by country)                               </td></tr>\n",
              "<tr><td>NY.GDP.DEFL.ZS.AD   </td><td>GDP deflator: linked series (base year varies by country)                </td></tr>\n",
              "<tr><td>NY.GDP.DISC.CN      </td><td>Discrepancy in expenditure estimate of GDP (current LCU)                 </td></tr>\n",
              "<tr><td>NY.GDP.DISC.KN      </td><td>Discrepancy in expenditure estimate of GDP (constant LCU)                </td></tr>\n",
              "<tr><td>NY.GDP.MKTP.CD      </td><td>GDP (current US$)                                                        </td></tr>\n",
              "<tr><td>NY.GDP.MKTP.CN      </td><td>GDP (current LCU)                                                        </td></tr>\n",
              "<tr><td>NY.GDP.MKTP.CN.AD   </td><td>GDP: linked series (current LCU)                                         </td></tr>\n",
              "<tr><td>NY.GDP.MKTP.KD      </td><td>GDP (constant 2015 US$)                                                  </td></tr>\n",
              "<tr><td>NY.GDP.MKTP.KD.ZG   </td><td>GDP growth (annual %)                                                    </td></tr>\n",
              "<tr><td>NY.GDP.MKTP.KN      </td><td>GDP (constant LCU)                                                       </td></tr>\n",
              "<tr><td>NY.GDP.MKTP.PP.CD   </td><td>GDP, PPP (current international $)                                       </td></tr>\n",
              "<tr><td>NY.GDP.MKTP.PP.KD   </td><td>GDP, PPP (constant 2017 international $)                                 </td></tr>\n",
              "<tr><td>NY.GDP.PCAP.CD      </td><td>GDP per capita (current US$)                                             </td></tr>\n",
              "<tr><td>NY.GDP.PCAP.CN      </td><td>GDP per capita (current LCU)                                             </td></tr>\n",
              "<tr><td>NY.GDP.PCAP.KD      </td><td>GDP per capita (constant 2015 US$)                                       </td></tr>\n",
              "<tr><td>NY.GDP.PCAP.KD.ZG   </td><td>GDP per capita growth (annual %)                                         </td></tr>\n",
              "<tr><td>NY.GDP.PCAP.KN      </td><td>GDP per capita (constant LCU)                                            </td></tr>\n",
              "<tr><td>NY.GDP.PCAP.PP.CD   </td><td>GDP per capita, PPP (current international $)                            </td></tr>\n",
              "<tr><td>NY.GDP.PCAP.PP.KD   </td><td>GDP per capita, PPP (constant 2017 international $)                      </td></tr>\n",
              "<tr><td>PA.NUS.PPP          </td><td>PPP conversion factor, GDP (LCU per international $)                     </td></tr>\n",
              "<tr><td>PA.NUS.PPPC.RF      </td><td>Price level ratio of PPP conversion factor (GDP) to market exchange rate </td></tr>\n",
              "<tr><td>SL.GDP.PCAP.EM.KD   </td><td>GDP per person employed (constant 2017 PPP $)                            </td></tr>\n",
              "<tr><td>                    </td><td>27 elements                                                              </td></tr>\n",
              "</tbody>\n",
              "</table></div>"
            ]
          },
          "metadata": {},
          "execution_count": 4
        }
      ]
    },
    {
      "cell_type": "code",
      "source": [
        "# lista de paises de LATAM\n",
        "latam = list(dict(wb.economy.coder(['Latin America and the Caribbean','Argentina', 'Peru', 'Chile', 'Dominican Republic',\n",
        "                  'Panama','Colombia','El Salvador','Guatemala','Mexico','Nicaragua','Bolivia',\n",
        "                  'Costa Rica','Brazil','Honduras','Paraguay','Ecuador','Uruguay']))\n",
        ".values())\n",
        "\n",
        "latam[0] = 'LCN' # añadiendo AL y el Caribe\n",
        "\n",
        "\n",
        "data = wb.data.DataFrame('NYGDPMKTPKDZ', latam , db=27).sort_values('2021',ascending=False) # Crecimiento real\n",
        "\n",
        "# PPA 2017 segund banco mundial\n",
        "gdp_percap_ppa = wb.data.DataFrame('NY.GDP.PCAP.PP.KD', latam, time=range(1990,2030)) \n",
        "\n",
        "#2021 - 19\n",
        "data['21/19 BM'] = ((100*(1+data['2020']/100))*(1+data['2021']/100) - 100).round(1)\n",
        "\n",
        "# data.sort_values('21/19 BM',ascending=False)"
      ],
      "metadata": {
        "id": "PX7QCghBogI-"
      },
      "execution_count": 5,
      "outputs": []
    },
    {
      "cell_type": "code",
      "source": [
        "gdp_percap_ppa.iloc[:,-3:].round(2).sort_values(by='YR2019',ascending=False)"
      ],
      "metadata": {
        "colab": {
          "base_uri": "https://localhost:8080/",
          "height": 645
        },
        "id": "mMyL4F1IYuib",
        "outputId": "2635ad22-d081-465d-e0d3-8ad9c1e8b1a7"
      },
      "execution_count": 6,
      "outputs": [
        {
          "output_type": "execute_result",
          "data": {
            "text/plain": [
              "           YR2019    YR2020  YR2021\n",
              "economy                            \n",
              "PAN      31440.26  25389.81     NaN\n",
              "CHL      24967.58  23324.52     NaN\n",
              "URY      23032.73  21608.43     NaN\n",
              "ARG      22066.10  19690.66     NaN\n",
              "CRI      20937.54  19903.14     NaN\n",
              "MEX      19677.28  17852.36     NaN\n",
              "DOM      18412.90  17003.01     NaN\n",
              "LCN      16043.09  14824.33     NaN\n",
              "BRA      14763.87  14063.98     NaN\n",
              "COL      14585.30  13448.93     NaN\n",
              "PER      12853.69  11260.85     NaN\n",
              "PRY      12615.53  12389.59     NaN\n",
              "ECU      11370.60  10329.20     NaN\n",
              "SLV       8776.12   7982.63     NaN\n",
              "BOL       8724.47   7845.17     NaN\n",
              "GTM       8653.31   8393.28     NaN\n",
              "HND       5736.18   5138.39     NaN\n",
              "NIC       5451.67   5280.10     NaN"
            ],
            "text/html": [
              "\n",
              "  <div id=\"df-ade49f01-ae37-440f-8c9c-b37d650057ac\">\n",
              "    <div class=\"colab-df-container\">\n",
              "      <div>\n",
              "<style scoped>\n",
              "    .dataframe tbody tr th:only-of-type {\n",
              "        vertical-align: middle;\n",
              "    }\n",
              "\n",
              "    .dataframe tbody tr th {\n",
              "        vertical-align: top;\n",
              "    }\n",
              "\n",
              "    .dataframe thead th {\n",
              "        text-align: right;\n",
              "    }\n",
              "</style>\n",
              "<table border=\"1\" class=\"dataframe\">\n",
              "  <thead>\n",
              "    <tr style=\"text-align: right;\">\n",
              "      <th></th>\n",
              "      <th>YR2019</th>\n",
              "      <th>YR2020</th>\n",
              "      <th>YR2021</th>\n",
              "    </tr>\n",
              "    <tr>\n",
              "      <th>economy</th>\n",
              "      <th></th>\n",
              "      <th></th>\n",
              "      <th></th>\n",
              "    </tr>\n",
              "  </thead>\n",
              "  <tbody>\n",
              "    <tr>\n",
              "      <th>PAN</th>\n",
              "      <td>31440.26</td>\n",
              "      <td>25389.81</td>\n",
              "      <td>NaN</td>\n",
              "    </tr>\n",
              "    <tr>\n",
              "      <th>CHL</th>\n",
              "      <td>24967.58</td>\n",
              "      <td>23324.52</td>\n",
              "      <td>NaN</td>\n",
              "    </tr>\n",
              "    <tr>\n",
              "      <th>URY</th>\n",
              "      <td>23032.73</td>\n",
              "      <td>21608.43</td>\n",
              "      <td>NaN</td>\n",
              "    </tr>\n",
              "    <tr>\n",
              "      <th>ARG</th>\n",
              "      <td>22066.10</td>\n",
              "      <td>19690.66</td>\n",
              "      <td>NaN</td>\n",
              "    </tr>\n",
              "    <tr>\n",
              "      <th>CRI</th>\n",
              "      <td>20937.54</td>\n",
              "      <td>19903.14</td>\n",
              "      <td>NaN</td>\n",
              "    </tr>\n",
              "    <tr>\n",
              "      <th>MEX</th>\n",
              "      <td>19677.28</td>\n",
              "      <td>17852.36</td>\n",
              "      <td>NaN</td>\n",
              "    </tr>\n",
              "    <tr>\n",
              "      <th>DOM</th>\n",
              "      <td>18412.90</td>\n",
              "      <td>17003.01</td>\n",
              "      <td>NaN</td>\n",
              "    </tr>\n",
              "    <tr>\n",
              "      <th>LCN</th>\n",
              "      <td>16043.09</td>\n",
              "      <td>14824.33</td>\n",
              "      <td>NaN</td>\n",
              "    </tr>\n",
              "    <tr>\n",
              "      <th>BRA</th>\n",
              "      <td>14763.87</td>\n",
              "      <td>14063.98</td>\n",
              "      <td>NaN</td>\n",
              "    </tr>\n",
              "    <tr>\n",
              "      <th>COL</th>\n",
              "      <td>14585.30</td>\n",
              "      <td>13448.93</td>\n",
              "      <td>NaN</td>\n",
              "    </tr>\n",
              "    <tr>\n",
              "      <th>PER</th>\n",
              "      <td>12853.69</td>\n",
              "      <td>11260.85</td>\n",
              "      <td>NaN</td>\n",
              "    </tr>\n",
              "    <tr>\n",
              "      <th>PRY</th>\n",
              "      <td>12615.53</td>\n",
              "      <td>12389.59</td>\n",
              "      <td>NaN</td>\n",
              "    </tr>\n",
              "    <tr>\n",
              "      <th>ECU</th>\n",
              "      <td>11370.60</td>\n",
              "      <td>10329.20</td>\n",
              "      <td>NaN</td>\n",
              "    </tr>\n",
              "    <tr>\n",
              "      <th>SLV</th>\n",
              "      <td>8776.12</td>\n",
              "      <td>7982.63</td>\n",
              "      <td>NaN</td>\n",
              "    </tr>\n",
              "    <tr>\n",
              "      <th>BOL</th>\n",
              "      <td>8724.47</td>\n",
              "      <td>7845.17</td>\n",
              "      <td>NaN</td>\n",
              "    </tr>\n",
              "    <tr>\n",
              "      <th>GTM</th>\n",
              "      <td>8653.31</td>\n",
              "      <td>8393.28</td>\n",
              "      <td>NaN</td>\n",
              "    </tr>\n",
              "    <tr>\n",
              "      <th>HND</th>\n",
              "      <td>5736.18</td>\n",
              "      <td>5138.39</td>\n",
              "      <td>NaN</td>\n",
              "    </tr>\n",
              "    <tr>\n",
              "      <th>NIC</th>\n",
              "      <td>5451.67</td>\n",
              "      <td>5280.10</td>\n",
              "      <td>NaN</td>\n",
              "    </tr>\n",
              "  </tbody>\n",
              "</table>\n",
              "</div>\n",
              "      <button class=\"colab-df-convert\" onclick=\"convertToInteractive('df-ade49f01-ae37-440f-8c9c-b37d650057ac')\"\n",
              "              title=\"Convert this dataframe to an interactive table.\"\n",
              "              style=\"display:none;\">\n",
              "        \n",
              "  <svg xmlns=\"http://www.w3.org/2000/svg\" height=\"24px\"viewBox=\"0 0 24 24\"\n",
              "       width=\"24px\">\n",
              "    <path d=\"M0 0h24v24H0V0z\" fill=\"none\"/>\n",
              "    <path d=\"M18.56 5.44l.94 2.06.94-2.06 2.06-.94-2.06-.94-.94-2.06-.94 2.06-2.06.94zm-11 1L8.5 8.5l.94-2.06 2.06-.94-2.06-.94L8.5 2.5l-.94 2.06-2.06.94zm10 10l.94 2.06.94-2.06 2.06-.94-2.06-.94-.94-2.06-.94 2.06-2.06.94z\"/><path d=\"M17.41 7.96l-1.37-1.37c-.4-.4-.92-.59-1.43-.59-.52 0-1.04.2-1.43.59L10.3 9.45l-7.72 7.72c-.78.78-.78 2.05 0 2.83L4 21.41c.39.39.9.59 1.41.59.51 0 1.02-.2 1.41-.59l7.78-7.78 2.81-2.81c.8-.78.8-2.07 0-2.86zM5.41 20L4 18.59l7.72-7.72 1.47 1.35L5.41 20z\"/>\n",
              "  </svg>\n",
              "      </button>\n",
              "      \n",
              "  <style>\n",
              "    .colab-df-container {\n",
              "      display:flex;\n",
              "      flex-wrap:wrap;\n",
              "      gap: 12px;\n",
              "    }\n",
              "\n",
              "    .colab-df-convert {\n",
              "      background-color: #E8F0FE;\n",
              "      border: none;\n",
              "      border-radius: 50%;\n",
              "      cursor: pointer;\n",
              "      display: none;\n",
              "      fill: #1967D2;\n",
              "      height: 32px;\n",
              "      padding: 0 0 0 0;\n",
              "      width: 32px;\n",
              "    }\n",
              "\n",
              "    .colab-df-convert:hover {\n",
              "      background-color: #E2EBFA;\n",
              "      box-shadow: 0px 1px 2px rgba(60, 64, 67, 0.3), 0px 1px 3px 1px rgba(60, 64, 67, 0.15);\n",
              "      fill: #174EA6;\n",
              "    }\n",
              "\n",
              "    [theme=dark] .colab-df-convert {\n",
              "      background-color: #3B4455;\n",
              "      fill: #D2E3FC;\n",
              "    }\n",
              "\n",
              "    [theme=dark] .colab-df-convert:hover {\n",
              "      background-color: #434B5C;\n",
              "      box-shadow: 0px 1px 3px 1px rgba(0, 0, 0, 0.15);\n",
              "      filter: drop-shadow(0px 1px 2px rgba(0, 0, 0, 0.3));\n",
              "      fill: #FFFFFF;\n",
              "    }\n",
              "  </style>\n",
              "\n",
              "      <script>\n",
              "        const buttonEl =\n",
              "          document.querySelector('#df-ade49f01-ae37-440f-8c9c-b37d650057ac button.colab-df-convert');\n",
              "        buttonEl.style.display =\n",
              "          google.colab.kernel.accessAllowed ? 'block' : 'none';\n",
              "\n",
              "        async function convertToInteractive(key) {\n",
              "          const element = document.querySelector('#df-ade49f01-ae37-440f-8c9c-b37d650057ac');\n",
              "          const dataTable =\n",
              "            await google.colab.kernel.invokeFunction('convertToInteractive',\n",
              "                                                     [key], {});\n",
              "          if (!dataTable) return;\n",
              "\n",
              "          const docLinkHtml = 'Like what you see? Visit the ' +\n",
              "            '<a target=\"_blank\" href=https://colab.research.google.com/notebooks/data_table.ipynb>data table notebook</a>'\n",
              "            + ' to learn more about interactive tables.';\n",
              "          element.innerHTML = '';\n",
              "          dataTable['output_type'] = 'display_data';\n",
              "          await google.colab.output.renderOutput(dataTable, element);\n",
              "          const docLink = document.createElement('div');\n",
              "          docLink.innerHTML = docLinkHtml;\n",
              "          element.appendChild(docLink);\n",
              "        }\n",
              "      </script>\n",
              "    </div>\n",
              "  </div>\n",
              "  "
            ]
          },
          "metadata": {},
          "execution_count": 6
        }
      ]
    },
    {
      "cell_type": "code",
      "source": [
        "año = str(input())\n",
        "mes = str(np.where(input()=='a','Apr','Oct'))\n",
        "\n",
        "# ultima publicacion\n",
        "weo.all_releases()[-1]"
      ],
      "metadata": {
        "id": "471jOmahoPa7",
        "outputId": "cb01c2e6-6435-4375-cc9d-f120afff293e",
        "colab": {
          "base_uri": "https://localhost:8080/"
        }
      },
      "execution_count": 14,
      "outputs": [
        {
          "name": "stdout",
          "output_type": "stream",
          "text": [
            "2022\n",
            "a\n"
          ]
        },
        {
          "output_type": "execute_result",
          "data": {
            "text/plain": [
              "(2022, 1)"
            ]
          },
          "metadata": {},
          "execution_count": 14
        }
      ]
    },
    {
      "cell_type": "code",
      "source": [
        "# w.variables()"
      ],
      "metadata": {
        "id": "N0lsu8PC1c9f"
      },
      "execution_count": null,
      "outputs": []
    },
    {
      "cell_type": "code",
      "source": [
        "url = 'https://www.imf.org/-/media/Files/Publications/WEO/WEO-Database/' + año + '/WEO' + mes + año + 'all.ashx' # link\n",
        "\n",
        "# descarga de archivo\n",
        "urllib2.urlretrieve(url,'weo.csv')"
      ],
      "metadata": {
        "id": "S82AuqdefR8y",
        "outputId": "77862b04-ea89-4dbb-e184-3f0a821e08d3",
        "colab": {
          "base_uri": "https://localhost:8080/"
        }
      },
      "execution_count": 15,
      "outputs": [
        {
          "output_type": "execute_result",
          "data": {
            "text/plain": [
              "('weo.csv', <http.client.HTTPMessage at 0x7f3e92c24d50>)"
            ]
          },
          "metadata": {},
          "execution_count": 15
        }
      ]
    },
    {
      "cell_type": "code",
      "source": [
        "w = WEO('weo.csv') # extracción de base de datos (lectura de csv)\n",
        "\n",
        "# obtencion crecimiento real desde 2019\n",
        "dfweo = w.getc(\"NGDP_RPCH\").loc['2019':,latam[1:]].T\n",
        "\n",
        "# Comparativo prepandemia\n",
        "dfweo['21/19 WEO'] = ((100*(1+dfweo['2020']/100))*(1+dfweo['2021']/100) - 100).round(1)\n",
        "dfweo.sort_values('21/19 WEO',ascending=False)"
      ],
      "metadata": {
        "id": "By4ZwOvOjp4J",
        "outputId": "35de76e6-4b6f-43fa-8600-fc16857046cb",
        "colab": {
          "base_uri": "https://localhost:8080/",
          "height": 596
        }
      },
      "execution_count": 16,
      "outputs": [
        {
          "output_type": "execute_result",
          "data": {
            "text/plain": [
              "      2019    2020    2021   2022   2023   2024   2025   2026   2027  \\\n",
              "                                                                       \n",
              "NIC -3.674  -1.977  10.300  3.800  2.200  2.400  2.600  2.750  3.000   \n",
              "GTM  3.867  -1.519   8.000  3.954  3.614  3.542  3.501  3.502  3.503   \n",
              "CHL  0.845  -6.063  11.690  1.525  0.485  1.656  2.225  2.472  2.459   \n",
              "DOM  5.052  -6.720  12.263  5.475  4.964  5.000  5.000  5.000  5.000   \n",
              "PRY -0.402  -0.820   4.200  0.300  4.500  3.500  3.500  3.500  3.500   \n",
              "CRI  2.418  -4.051   7.580  3.340  3.140  3.243  3.181  3.159  3.160   \n",
              "COL  3.187  -7.048  10.563  5.800  3.644  3.440  3.360  3.445  3.445   \n",
              "HND  2.653  -8.965  12.500  3.800  3.540  3.640  3.740  3.940  3.940   \n",
              "SLV  2.633  -7.942  10.300  3.000  2.250  2.160  2.000  1.965  1.965   \n",
              "PER  2.150 -11.018  13.297  2.955  3.012  2.999  3.014  3.009  3.006   \n",
              "BRA  1.221  -3.879   4.619  0.806  1.396  2.193  2.014  2.016  2.040   \n",
              "ARG -2.026  -9.895  10.200  4.000  3.001  2.750  2.000  2.000  2.000   \n",
              "URY  0.350  -6.115   4.402  3.876  2.992  2.700  2.500  2.200  2.200   \n",
              "BOL  2.217  -8.738   6.106  3.800  3.700  3.600  3.500  3.400  3.400   \n",
              "MEX -0.186  -8.167   4.797  2.003  2.502  1.798  1.960  2.000  1.997   \n",
              "ECU  0.012  -7.788   4.235  2.857  2.675  2.783  2.797  2.797  2.797   \n",
              "PAN  2.980 -17.945  15.336  7.516  5.000  5.000  5.000  5.000  5.000   \n",
              "\n",
              "     21/19 WEO  \n",
              "                \n",
              "NIC        8.1  \n",
              "GTM        6.4  \n",
              "CHL        4.9  \n",
              "DOM        4.7  \n",
              "PRY        3.3  \n",
              "CRI        3.2  \n",
              "COL        2.8  \n",
              "HND        2.4  \n",
              "SLV        1.5  \n",
              "PER        0.8  \n",
              "BRA        0.6  \n",
              "ARG       -0.7  \n",
              "URY       -2.0  \n",
              "BOL       -3.2  \n",
              "MEX       -3.8  \n",
              "ECU       -3.9  \n",
              "PAN       -5.4  "
            ],
            "text/html": [
              "\n",
              "  <div id=\"df-df59bb9d-a843-4657-971a-a702d6b59947\">\n",
              "    <div class=\"colab-df-container\">\n",
              "      <div>\n",
              "<style scoped>\n",
              "    .dataframe tbody tr th:only-of-type {\n",
              "        vertical-align: middle;\n",
              "    }\n",
              "\n",
              "    .dataframe tbody tr th {\n",
              "        vertical-align: top;\n",
              "    }\n",
              "\n",
              "    .dataframe thead th {\n",
              "        text-align: right;\n",
              "    }\n",
              "</style>\n",
              "<table border=\"1\" class=\"dataframe\">\n",
              "  <thead>\n",
              "    <tr style=\"text-align: right;\">\n",
              "      <th></th>\n",
              "      <th>2019</th>\n",
              "      <th>2020</th>\n",
              "      <th>2021</th>\n",
              "      <th>2022</th>\n",
              "      <th>2023</th>\n",
              "      <th>2024</th>\n",
              "      <th>2025</th>\n",
              "      <th>2026</th>\n",
              "      <th>2027</th>\n",
              "      <th>21/19 WEO</th>\n",
              "    </tr>\n",
              "    <tr>\n",
              "      <th></th>\n",
              "      <th></th>\n",
              "      <th></th>\n",
              "      <th></th>\n",
              "      <th></th>\n",
              "      <th></th>\n",
              "      <th></th>\n",
              "      <th></th>\n",
              "      <th></th>\n",
              "      <th></th>\n",
              "      <th></th>\n",
              "    </tr>\n",
              "  </thead>\n",
              "  <tbody>\n",
              "    <tr>\n",
              "      <th>NIC</th>\n",
              "      <td>-3.674</td>\n",
              "      <td>-1.977</td>\n",
              "      <td>10.300</td>\n",
              "      <td>3.800</td>\n",
              "      <td>2.200</td>\n",
              "      <td>2.400</td>\n",
              "      <td>2.600</td>\n",
              "      <td>2.750</td>\n",
              "      <td>3.000</td>\n",
              "      <td>8.1</td>\n",
              "    </tr>\n",
              "    <tr>\n",
              "      <th>GTM</th>\n",
              "      <td>3.867</td>\n",
              "      <td>-1.519</td>\n",
              "      <td>8.000</td>\n",
              "      <td>3.954</td>\n",
              "      <td>3.614</td>\n",
              "      <td>3.542</td>\n",
              "      <td>3.501</td>\n",
              "      <td>3.502</td>\n",
              "      <td>3.503</td>\n",
              "      <td>6.4</td>\n",
              "    </tr>\n",
              "    <tr>\n",
              "      <th>CHL</th>\n",
              "      <td>0.845</td>\n",
              "      <td>-6.063</td>\n",
              "      <td>11.690</td>\n",
              "      <td>1.525</td>\n",
              "      <td>0.485</td>\n",
              "      <td>1.656</td>\n",
              "      <td>2.225</td>\n",
              "      <td>2.472</td>\n",
              "      <td>2.459</td>\n",
              "      <td>4.9</td>\n",
              "    </tr>\n",
              "    <tr>\n",
              "      <th>DOM</th>\n",
              "      <td>5.052</td>\n",
              "      <td>-6.720</td>\n",
              "      <td>12.263</td>\n",
              "      <td>5.475</td>\n",
              "      <td>4.964</td>\n",
              "      <td>5.000</td>\n",
              "      <td>5.000</td>\n",
              "      <td>5.000</td>\n",
              "      <td>5.000</td>\n",
              "      <td>4.7</td>\n",
              "    </tr>\n",
              "    <tr>\n",
              "      <th>PRY</th>\n",
              "      <td>-0.402</td>\n",
              "      <td>-0.820</td>\n",
              "      <td>4.200</td>\n",
              "      <td>0.300</td>\n",
              "      <td>4.500</td>\n",
              "      <td>3.500</td>\n",
              "      <td>3.500</td>\n",
              "      <td>3.500</td>\n",
              "      <td>3.500</td>\n",
              "      <td>3.3</td>\n",
              "    </tr>\n",
              "    <tr>\n",
              "      <th>CRI</th>\n",
              "      <td>2.418</td>\n",
              "      <td>-4.051</td>\n",
              "      <td>7.580</td>\n",
              "      <td>3.340</td>\n",
              "      <td>3.140</td>\n",
              "      <td>3.243</td>\n",
              "      <td>3.181</td>\n",
              "      <td>3.159</td>\n",
              "      <td>3.160</td>\n",
              "      <td>3.2</td>\n",
              "    </tr>\n",
              "    <tr>\n",
              "      <th>COL</th>\n",
              "      <td>3.187</td>\n",
              "      <td>-7.048</td>\n",
              "      <td>10.563</td>\n",
              "      <td>5.800</td>\n",
              "      <td>3.644</td>\n",
              "      <td>3.440</td>\n",
              "      <td>3.360</td>\n",
              "      <td>3.445</td>\n",
              "      <td>3.445</td>\n",
              "      <td>2.8</td>\n",
              "    </tr>\n",
              "    <tr>\n",
              "      <th>HND</th>\n",
              "      <td>2.653</td>\n",
              "      <td>-8.965</td>\n",
              "      <td>12.500</td>\n",
              "      <td>3.800</td>\n",
              "      <td>3.540</td>\n",
              "      <td>3.640</td>\n",
              "      <td>3.740</td>\n",
              "      <td>3.940</td>\n",
              "      <td>3.940</td>\n",
              "      <td>2.4</td>\n",
              "    </tr>\n",
              "    <tr>\n",
              "      <th>SLV</th>\n",
              "      <td>2.633</td>\n",
              "      <td>-7.942</td>\n",
              "      <td>10.300</td>\n",
              "      <td>3.000</td>\n",
              "      <td>2.250</td>\n",
              "      <td>2.160</td>\n",
              "      <td>2.000</td>\n",
              "      <td>1.965</td>\n",
              "      <td>1.965</td>\n",
              "      <td>1.5</td>\n",
              "    </tr>\n",
              "    <tr>\n",
              "      <th>PER</th>\n",
              "      <td>2.150</td>\n",
              "      <td>-11.018</td>\n",
              "      <td>13.297</td>\n",
              "      <td>2.955</td>\n",
              "      <td>3.012</td>\n",
              "      <td>2.999</td>\n",
              "      <td>3.014</td>\n",
              "      <td>3.009</td>\n",
              "      <td>3.006</td>\n",
              "      <td>0.8</td>\n",
              "    </tr>\n",
              "    <tr>\n",
              "      <th>BRA</th>\n",
              "      <td>1.221</td>\n",
              "      <td>-3.879</td>\n",
              "      <td>4.619</td>\n",
              "      <td>0.806</td>\n",
              "      <td>1.396</td>\n",
              "      <td>2.193</td>\n",
              "      <td>2.014</td>\n",
              "      <td>2.016</td>\n",
              "      <td>2.040</td>\n",
              "      <td>0.6</td>\n",
              "    </tr>\n",
              "    <tr>\n",
              "      <th>ARG</th>\n",
              "      <td>-2.026</td>\n",
              "      <td>-9.895</td>\n",
              "      <td>10.200</td>\n",
              "      <td>4.000</td>\n",
              "      <td>3.001</td>\n",
              "      <td>2.750</td>\n",
              "      <td>2.000</td>\n",
              "      <td>2.000</td>\n",
              "      <td>2.000</td>\n",
              "      <td>-0.7</td>\n",
              "    </tr>\n",
              "    <tr>\n",
              "      <th>URY</th>\n",
              "      <td>0.350</td>\n",
              "      <td>-6.115</td>\n",
              "      <td>4.402</td>\n",
              "      <td>3.876</td>\n",
              "      <td>2.992</td>\n",
              "      <td>2.700</td>\n",
              "      <td>2.500</td>\n",
              "      <td>2.200</td>\n",
              "      <td>2.200</td>\n",
              "      <td>-2.0</td>\n",
              "    </tr>\n",
              "    <tr>\n",
              "      <th>BOL</th>\n",
              "      <td>2.217</td>\n",
              "      <td>-8.738</td>\n",
              "      <td>6.106</td>\n",
              "      <td>3.800</td>\n",
              "      <td>3.700</td>\n",
              "      <td>3.600</td>\n",
              "      <td>3.500</td>\n",
              "      <td>3.400</td>\n",
              "      <td>3.400</td>\n",
              "      <td>-3.2</td>\n",
              "    </tr>\n",
              "    <tr>\n",
              "      <th>MEX</th>\n",
              "      <td>-0.186</td>\n",
              "      <td>-8.167</td>\n",
              "      <td>4.797</td>\n",
              "      <td>2.003</td>\n",
              "      <td>2.502</td>\n",
              "      <td>1.798</td>\n",
              "      <td>1.960</td>\n",
              "      <td>2.000</td>\n",
              "      <td>1.997</td>\n",
              "      <td>-3.8</td>\n",
              "    </tr>\n",
              "    <tr>\n",
              "      <th>ECU</th>\n",
              "      <td>0.012</td>\n",
              "      <td>-7.788</td>\n",
              "      <td>4.235</td>\n",
              "      <td>2.857</td>\n",
              "      <td>2.675</td>\n",
              "      <td>2.783</td>\n",
              "      <td>2.797</td>\n",
              "      <td>2.797</td>\n",
              "      <td>2.797</td>\n",
              "      <td>-3.9</td>\n",
              "    </tr>\n",
              "    <tr>\n",
              "      <th>PAN</th>\n",
              "      <td>2.980</td>\n",
              "      <td>-17.945</td>\n",
              "      <td>15.336</td>\n",
              "      <td>7.516</td>\n",
              "      <td>5.000</td>\n",
              "      <td>5.000</td>\n",
              "      <td>5.000</td>\n",
              "      <td>5.000</td>\n",
              "      <td>5.000</td>\n",
              "      <td>-5.4</td>\n",
              "    </tr>\n",
              "  </tbody>\n",
              "</table>\n",
              "</div>\n",
              "      <button class=\"colab-df-convert\" onclick=\"convertToInteractive('df-df59bb9d-a843-4657-971a-a702d6b59947')\"\n",
              "              title=\"Convert this dataframe to an interactive table.\"\n",
              "              style=\"display:none;\">\n",
              "        \n",
              "  <svg xmlns=\"http://www.w3.org/2000/svg\" height=\"24px\"viewBox=\"0 0 24 24\"\n",
              "       width=\"24px\">\n",
              "    <path d=\"M0 0h24v24H0V0z\" fill=\"none\"/>\n",
              "    <path d=\"M18.56 5.44l.94 2.06.94-2.06 2.06-.94-2.06-.94-.94-2.06-.94 2.06-2.06.94zm-11 1L8.5 8.5l.94-2.06 2.06-.94-2.06-.94L8.5 2.5l-.94 2.06-2.06.94zm10 10l.94 2.06.94-2.06 2.06-.94-2.06-.94-.94-2.06-.94 2.06-2.06.94z\"/><path d=\"M17.41 7.96l-1.37-1.37c-.4-.4-.92-.59-1.43-.59-.52 0-1.04.2-1.43.59L10.3 9.45l-7.72 7.72c-.78.78-.78 2.05 0 2.83L4 21.41c.39.39.9.59 1.41.59.51 0 1.02-.2 1.41-.59l7.78-7.78 2.81-2.81c.8-.78.8-2.07 0-2.86zM5.41 20L4 18.59l7.72-7.72 1.47 1.35L5.41 20z\"/>\n",
              "  </svg>\n",
              "      </button>\n",
              "      \n",
              "  <style>\n",
              "    .colab-df-container {\n",
              "      display:flex;\n",
              "      flex-wrap:wrap;\n",
              "      gap: 12px;\n",
              "    }\n",
              "\n",
              "    .colab-df-convert {\n",
              "      background-color: #E8F0FE;\n",
              "      border: none;\n",
              "      border-radius: 50%;\n",
              "      cursor: pointer;\n",
              "      display: none;\n",
              "      fill: #1967D2;\n",
              "      height: 32px;\n",
              "      padding: 0 0 0 0;\n",
              "      width: 32px;\n",
              "    }\n",
              "\n",
              "    .colab-df-convert:hover {\n",
              "      background-color: #E2EBFA;\n",
              "      box-shadow: 0px 1px 2px rgba(60, 64, 67, 0.3), 0px 1px 3px 1px rgba(60, 64, 67, 0.15);\n",
              "      fill: #174EA6;\n",
              "    }\n",
              "\n",
              "    [theme=dark] .colab-df-convert {\n",
              "      background-color: #3B4455;\n",
              "      fill: #D2E3FC;\n",
              "    }\n",
              "\n",
              "    [theme=dark] .colab-df-convert:hover {\n",
              "      background-color: #434B5C;\n",
              "      box-shadow: 0px 1px 3px 1px rgba(0, 0, 0, 0.15);\n",
              "      filter: drop-shadow(0px 1px 2px rgba(0, 0, 0, 0.3));\n",
              "      fill: #FFFFFF;\n",
              "    }\n",
              "  </style>\n",
              "\n",
              "      <script>\n",
              "        const buttonEl =\n",
              "          document.querySelector('#df-df59bb9d-a843-4657-971a-a702d6b59947 button.colab-df-convert');\n",
              "        buttonEl.style.display =\n",
              "          google.colab.kernel.accessAllowed ? 'block' : 'none';\n",
              "\n",
              "        async function convertToInteractive(key) {\n",
              "          const element = document.querySelector('#df-df59bb9d-a843-4657-971a-a702d6b59947');\n",
              "          const dataTable =\n",
              "            await google.colab.kernel.invokeFunction('convertToInteractive',\n",
              "                                                     [key], {});\n",
              "          if (!dataTable) return;\n",
              "\n",
              "          const docLinkHtml = 'Like what you see? Visit the ' +\n",
              "            '<a target=\"_blank\" href=https://colab.research.google.com/notebooks/data_table.ipynb>data table notebook</a>'\n",
              "            + ' to learn more about interactive tables.';\n",
              "          element.innerHTML = '';\n",
              "          dataTable['output_type'] = 'display_data';\n",
              "          await google.colab.output.renderOutput(dataTable, element);\n",
              "          const docLink = document.createElement('div');\n",
              "          docLink.innerHTML = docLinkHtml;\n",
              "          element.appendChild(docLink);\n",
              "        }\n",
              "      </script>\n",
              "    </div>\n",
              "  </div>\n",
              "  "
            ]
          },
          "metadata": {},
          "execution_count": 16
        }
      ]
    },
    {
      "cell_type": "code",
      "source": [
        " imf_gdp_percap_ppp = w.getc(\"NGDPRPPPPC\").loc['2019':,latam[1:]].T\n",
        " imf_gdp_percap_ppp.sort_values('2021',ascending=False)"
      ],
      "metadata": {
        "id": "YhnkxNDf1_Hh"
      },
      "execution_count": null,
      "outputs": []
    },
    {
      "cell_type": "code",
      "source": [
        "df = data[['2021','21/19 BM']]\n",
        "df = df.merge(dfweo[dfweo.columns[[2,-1]]],how='inner',left_index=True,right_index=True).round(1)\n",
        "#df"
      ],
      "metadata": {
        "id": "z81qBYwQX2-j"
      },
      "execution_count": 18,
      "outputs": []
    },
    {
      "cell_type": "code",
      "source": [
        "import seaborn as sns\n",
        "import matplotlib.pyplot as plt\n",
        "plt.figure(figsize=(12,6))\n",
        "sns.barplot(x = df.index, y = df['21/19 BM'])\n",
        ";"
      ],
      "metadata": {
        "id": "BdooazpDEX7-",
        "outputId": "730bdb1e-2972-48e2-80e4-2352f436f4bb",
        "colab": {
          "base_uri": "https://localhost:8080/",
          "height": 392
        }
      },
      "execution_count": 19,
      "outputs": [
        {
          "output_type": "execute_result",
          "data": {
            "text/plain": [
              "''"
            ],
            "application/vnd.google.colaboratory.intrinsic+json": {
              "type": "string"
            }
          },
          "metadata": {},
          "execution_count": 19
        },
        {
          "output_type": "display_data",
          "data": {
            "text/plain": [
              "<Figure size 864x432 with 1 Axes>"
            ],
            "image/png": "[encoded data removed]"
          },
          "metadata": {
            "needs_background": "light"
          }
        }
      ]
    },
    {
      "cell_type": "code",
      "source": [
        "df1 = df[['21/19 BM','21/19 WEO']].reset_index()\n",
        "#df1 = df1.melt(id_vars = df1['index'], var_name = 'organismo', value_name='value')\n",
        "df1 = pd.melt(df1,id_vars='index', var_name = 'organismo', value_name='value').sort_values('value')"
      ],
      "metadata": {
        "id": "o115nF1Bwp7Z"
      },
      "execution_count": 20,
      "outputs": []
    },
    {
      "cell_type": "code",
      "source": [
        "plt.figure(figsize=(14,8))\n",
        "sns.barplot(data=df1 ,x='index', y='value', hue='organismo')\n",
        "plt.xlabel('País',fontsize=18)\n",
        "plt.ylabel('Proyección',fontsize=18)\n",
        "plt.xticks(fontsize=12)\n",
        "plt.yticks(fontsize=12)\n",
        "plt.title('Comparativo BM y WEO')\n",
        ";"
      ],
      "metadata": {
        "id": "uGgrUyKlyLpW",
        "outputId": "02b37396-f645-4c72-e54f-545ef84a0996",
        "colab": {
          "base_uri": "https://localhost:8080/",
          "height": 542
        }
      },
      "execution_count": 22,
      "outputs": [
        {
          "output_type": "execute_result",
          "data": {
            "text/plain": [
              "''"
            ],
            "application/vnd.google.colaboratory.intrinsic+json": {
              "type": "string"
            }
          },
          "metadata": {},
          "execution_count": 22
        },
        {
          "output_type": "display_data",
          "data": {
            "text/plain": [
              "<Figure size 1008x576 with 1 Axes>"
            ],
            "image/png": "[encoded data removed]"
          },
          "metadata": {
            "needs_background": "light"
          }
        }
      ]
    },
    {
      "cell_type": "code",
      "source": [
        "import plotly.express as px\n",
        "fig = px.bar(df1, x=\"index\", y=\"value\", text='value',\n",
        "                 color=\"organismo\", barmode=\"group\", height=600,\n",
        "                 title='Proyecciones FMI y BM prepandemia')\n",
        "fig.show()"
      ],
      "metadata": {
        "id": "0zZsFzzT2-Oe",
        "outputId": "3bcc4ccd-1593-41bc-d96d-df99f2e69aff",
        "colab": {
          "base_uri": "https://localhost:8080/",
          "height": 617
        }
      },
      "execution_count": 24,
      "outputs": [
        {
          "output_type": "display_data",
          "data": {
            "text/html": [
              "<html>\n",
              "<head><meta charset=\"utf-8\" /></head>\n",
              "<body>\n",
              "    <div>            <script src=\"https://cdnjs.cloudflare.com/ajax/libs/mathjax/2.7.5/MathJax.js?config=TeX-AMS-MML_SVG\"></script><script type=\"text/javascript\">if (window.MathJax) {MathJax.Hub.Config({SVG: {font: \"STIX-Web\"}});}</script>                <script type=\"text/javascript\">window.PlotlyConfig = {MathJaxConfig: 'local'};</script>\n",
              "        <script src=\"https://cdn.plot.ly/plotly-2.8.3.min.js\"></script>                <div id=\"6b098102-624c-44d8-b957-a35b4594b2a3\" class=\"plotly-graph-div\" style=\"height:600px; width:100%;\"></div>            <script type=\"text/javascript\">                                    window.PLOTLYENV=window.PLOTLYENV || {};                                    if (document.getElementById(\"6b098102-624c-44d8-b957-a35b4594b2a3\")) {                    Plotly.newPlot(                        \"6b098102-624c-44d8-b957-a35b4594b2a3\",                        [{\"alignmentgroup\":\"True\",\"hovertemplate\":\"organismo=21/19 BM<br>index=%{x}<br>value=%{text}<extra></extra>\",\"legendgroup\":\"21/19 BM\",\"marker\":{\"color\":\"#636efa\",\"pattern\":{\"shape\":\"\"}},\"name\":\"21/19 BM\",\"offsetgroup\":\"21/19 BM\",\"orientation\":\"v\",\"showlegend\":true,\"text\":[-9.8,-4.7,-4.2,-3.8,-3.0,-2.7,-0.9,-0.5,0.6,0.7,0.8,2.4,3.3,3.4,3.5,5.3,6.0],\"textposition\":\"auto\",\"x\":[\"PAN\",\"HND\",\"ECU\",\"BOL\",\"MEX\",\"URY\",\"ARG\",\"SLV\",\"PER\",\"CRI\",\"BRA\",\"COL\",\"DOM\",\"NIC\",\"PRY\",\"CHL\",\"GTM\"],\"xaxis\":\"x\",\"y\":[-9.8,-4.7,-4.2,-3.8,-3.0,-2.7,-0.9,-0.5,0.6,0.7,0.8,2.4,3.3,3.4,3.5,5.3,6.0],\"yaxis\":\"y\",\"type\":\"bar\"},{\"alignmentgroup\":\"True\",\"hovertemplate\":\"organismo=21/19 WEO<br>index=%{x}<br>value=%{text}<extra></extra>\",\"legendgroup\":\"21/19 WEO\",\"marker\":{\"color\":\"#EF553B\",\"pattern\":{\"shape\":\"\"}},\"name\":\"21/19 WEO\",\"offsetgroup\":\"21/19 WEO\",\"orientation\":\"v\",\"showlegend\":true,\"text\":[-5.4,-3.9,-3.8,-3.2,-2.0,-0.7,0.6,0.8,1.5,2.4,2.8,3.2,3.3,4.7,4.9,6.4,8.1],\"textposition\":\"auto\",\"x\":[\"PAN\",\"ECU\",\"MEX\",\"BOL\",\"URY\",\"ARG\",\"BRA\",\"PER\",\"SLV\",\"HND\",\"COL\",\"CRI\",\"PRY\",\"DOM\",\"CHL\",\"GTM\",\"NIC\"],\"xaxis\":\"x\",\"y\":[-5.4,-3.9,-3.8,-3.2,-2.0,-0.7,0.6,0.8,1.5,2.4,2.8,3.2,3.3,4.7,4.9,6.4,8.1],\"yaxis\":\"y\",\"type\":\"bar\"}],                        {\"template\":{\"data\":{\"bar\":[{\"error_x\":{\"color\":\"#2a3f5f\"},\"error_y\":{\"color\":\"#2a3f5f\"},\"marker\":{\"line\":{\"color\":\"#E5ECF6\",\"width\":0.5},\"pattern\":{\"fillmode\":\"overlay\",\"size\":10,\"solidity\":0.2}},\"type\":\"bar\"}],\"barpolar\":[{\"marker\":{\"line\":{\"color\":\"#E5ECF6\",\"width\":0.5},\"pattern\":{\"fillmode\":\"overlay\",\"size\":10,\"solidity\":0.2}},\"type\":\"barpolar\"}],\"carpet\":[{\"aaxis\":{\"endlinecolor\":\"#2a3f5f\",\"gridcolor\":\"white\",\"linecolor\":\"white\",\"minorgridcolor\":\"white\",\"startlinecolor\":\"#2a3f5f\"},\"baxis\":{\"endlinecolor\":\"#2a3f5f\",\"gridcolor\":\"white\",\"linecolor\":\"white\",\"minorgridcolor\":\"white\",\"startlinecolor\":\"#2a3f5f\"},\"type\":\"carpet\"}],\"choropleth\":[{\"colorbar\":{\"outlinewidth\":0,\"ticks\":\"\"},\"type\":\"choropleth\"}],\"contour\":[{\"colorbar\":{\"outlinewidth\":0,\"ticks\":\"\"},\"colorscale\":[[0.0,\"#0d0887\"],[0.1111111111111111,\"#46039f\"],[0.2222222222222222,\"#7201a8\"],[0.3333333333333333,\"#9c179e\"],[0.4444444444444444,\"#bd3786\"],[0.5555555555555556,\"#d8576b\"],[0.6666666666666666,\"#ed7953\"],[0.7777777777777778,\"#fb9f3a\"],[0.8888888888888888,\"#fdca26\"],[1.0,\"#f0f921\"]],\"type\":\"contour\"}],\"contourcarpet\":[{\"colorbar\":{\"outlinewidth\":0,\"ticks\":\"\"},\"type\":\"contourcarpet\"}],\"heatmap\":[{\"colorbar\":{\"outlinewidth\":0,\"ticks\":\"\"},\"colorscale\":[[0.0,\"#0d0887\"],[0.1111111111111111,\"#46039f\"],[0.2222222222222222,\"#7201a8\"],[0.3333333333333333,\"#9c179e\"],[0.4444444444444444,\"#bd3786\"],[0.5555555555555556,\"#d8576b\"],[0.6666666666666666,\"#ed7953\"],[0.7777777777777778,\"#fb9f3a\"],[0.8888888888888888,\"#fdca26\"],[1.0,\"#f0f921\"]],\"type\":\"heatmap\"}],\"heatmapgl\":[{\"colorbar\":{\"outlinewidth\":0,\"ticks\":\"\"},\"colorscale\":[[0.0,\"#0d0887\"],[0.1111111111111111,\"#46039f\"],[0.2222222222222222,\"#7201a8\"],[0.3333333333333333,\"#9c179e\"],[0.4444444444444444,\"#bd3786\"],[0.5555555555555556,\"#d8576b\"],[0.6666666666666666,\"#ed7953\"],[0.7777777777777778,\"#fb9f3a\"],[0.8888888888888888,\"#fdca26\"],[1.0,\"#f0f921\"]],\"type\":\"heatmapgl\"}],\"histogram\":[{\"marker\":{\"pattern\":{\"fillmode\":\"overlay\",\"size\":10,\"solidity\":0.2}},\"type\":\"histogram\"}],\"histogram2d\":[{\"colorbar\":{\"outlinewidth\":0,\"ticks\":\"\"},\"colorscale\":[[0.0,\"#0d0887\"],[0.1111111111111111,\"#46039f\"],[0.2222222222222222,\"#7201a8\"],[0.3333333333333333,\"#9c179e\"],[0.4444444444444444,\"#bd3786\"],[0.5555555555555556,\"#d8576b\"],[0.6666666666666666,\"#ed7953\"],[0.7777777777777778,\"#fb9f3a\"],[0.8888888888888888,\"#fdca26\"],[1.0,\"#f0f921\"]],\"type\":\"histogram2d\"}],\"histogram2dcontour\":[{\"colorbar\":{\"outlinewidth\":0,\"ticks\":\"\"},\"colorscale\":[[0.0,\"#0d0887\"],[0.1111111111111111,\"#46039f\"],[0.2222222222222222,\"#7201a8\"],[0.3333333333333333,\"#9c179e\"],[0.4444444444444444,\"#bd3786\"],[0.5555555555555556,\"#d8576b\"],[0.6666666666666666,\"#ed7953\"],[0.7777777777777778,\"#fb9f3a\"],[0.8888888888888888,\"#fdca26\"],[1.0,\"#f0f921\"]],\"type\":\"histogram2dcontour\"}],\"mesh3d\":[{\"colorbar\":{\"outlinewidth\":0,\"ticks\":\"\"},\"type\":\"mesh3d\"}],\"parcoords\":[{\"line\":{\"colorbar\":{\"outlinewidth\":0,\"ticks\":\"\"}},\"type\":\"parcoords\"}],\"pie\":[{\"automargin\":true,\"type\":\"pie\"}],\"scatter\":[{\"marker\":{\"colorbar\":{\"outlinewidth\":0,\"ticks\":\"\"}},\"type\":\"scatter\"}],\"scatter3d\":[{\"line\":{\"colorbar\":{\"outlinewidth\":0,\"ticks\":\"\"}},\"marker\":{\"colorbar\":{\"outlinewidth\":0,\"ticks\":\"\"}},\"type\":\"scatter3d\"}],\"scattercarpet\":[{\"marker\":{\"colorbar\":{\"outlinewidth\":0,\"ticks\":\"\"}},\"type\":\"scattercarpet\"}],\"scattergeo\":[{\"marker\":{\"colorbar\":{\"outlinewidth\":0,\"ticks\":\"\"}},\"type\":\"scattergeo\"}],\"scattergl\":[{\"marker\":{\"colorbar\":{\"outlinewidth\":0,\"ticks\":\"\"}},\"type\":\"scattergl\"}],\"scattermapbox\":[{\"marker\":{\"colorbar\":{\"outlinewidth\":0,\"ticks\":\"\"}},\"type\":\"scattermapbox\"}],\"scatterpolar\":[{\"marker\":{\"colorbar\":{\"outlinewidth\":0,\"ticks\":\"\"}},\"type\":\"scatterpolar\"}],\"scatterpolargl\":[{\"marker\":{\"colorbar\":{\"outlinewidth\":0,\"ticks\":\"\"}},\"type\":\"scatterpolargl\"}],\"scatterternary\":[{\"marker\":{\"colorbar\":{\"outlinewidth\":0,\"ticks\":\"\"}},\"type\":\"scatterternary\"}],\"surface\":[{\"colorbar\":{\"outlinewidth\":0,\"ticks\":\"\"},\"colorscale\":[[0.0,\"#0d0887\"],[0.1111111111111111,\"#46039f\"],[0.2222222222222222,\"#7201a8\"],[0.3333333333333333,\"#9c179e\"],[0.4444444444444444,\"#bd3786\"],[0.5555555555555556,\"#d8576b\"],[0.6666666666666666,\"#ed7953\"],[0.7777777777777778,\"#fb9f3a\"],[0.8888888888888888,\"#fdca26\"],[1.0,\"#f0f921\"]],\"type\":\"surface\"}],\"table\":[{\"cells\":{\"fill\":{\"color\":\"#EBF0F8\"},\"line\":{\"color\":\"white\"}},\"header\":{\"fill\":{\"color\":\"#C8D4E3\"},\"line\":{\"color\":\"white\"}},\"type\":\"table\"}]},\"layout\":{\"annotationdefaults\":{\"arrowcolor\":\"#2a3f5f\",\"arrowhead\":0,\"arrowwidth\":1},\"autotypenumbers\":\"strict\",\"coloraxis\":{\"colorbar\":{\"outlinewidth\":0,\"ticks\":\"\"}},\"colorscale\":{\"diverging\":[[0,\"#8e0152\"],[0.1,\"#c51b7d\"],[0.2,\"#de77ae\"],[0.3,\"#f1b6da\"],[0.4,\"#fde0ef\"],[0.5,\"#f7f7f7\"],[0.6,\"#e6f5d0\"],[0.7,\"#b8e186\"],[0.8,\"#7fbc41\"],[0.9,\"#4d9221\"],[1,\"#276419\"]],\"sequential\":[[0.0,\"#0d0887\"],[0.1111111111111111,\"#46039f\"],[0.2222222222222222,\"#7201a8\"],[0.3333333333333333,\"#9c179e\"],[0.4444444444444444,\"#bd3786\"],[0.5555555555555556,\"#d8576b\"],[0.6666666666666666,\"#ed7953\"],[0.7777777777777778,\"#fb9f3a\"],[0.8888888888888888,\"#fdca26\"],[1.0,\"#f0f921\"]],\"sequentialminus\":[[0.0,\"#0d0887\"],[0.1111111111111111,\"#46039f\"],[0.2222222222222222,\"#7201a8\"],[0.3333333333333333,\"#9c179e\"],[0.4444444444444444,\"#bd3786\"],[0.5555555555555556,\"#d8576b\"],[0.6666666666666666,\"#ed7953\"],[0.7777777777777778,\"#fb9f3a\"],[0.8888888888888888,\"#fdca26\"],[1.0,\"#f0f921\"]]},\"colorway\":[\"#636efa\",\"#EF553B\",\"#00cc96\",\"#ab63fa\",\"#FFA15A\",\"#19d3f3\",\"#FF6692\",\"#B6E880\",\"#FF97FF\",\"#FECB52\"],\"font\":{\"color\":\"#2a3f5f\"},\"geo\":{\"bgcolor\":\"white\",\"lakecolor\":\"white\",\"landcolor\":\"#E5ECF6\",\"showlakes\":true,\"showland\":true,\"subunitcolor\":\"white\"},\"hoverlabel\":{\"align\":\"left\"},\"hovermode\":\"closest\",\"mapbox\":{\"style\":\"light\"},\"paper_bgcolor\":\"white\",\"plot_bgcolor\":\"#E5ECF6\",\"polar\":{\"angularaxis\":{\"gridcolor\":\"white\",\"linecolor\":\"white\",\"ticks\":\"\"},\"bgcolor\":\"#E5ECF6\",\"radialaxis\":{\"gridcolor\":\"white\",\"linecolor\":\"white\",\"ticks\":\"\"}},\"scene\":{\"xaxis\":{\"backgroundcolor\":\"#E5ECF6\",\"gridcolor\":\"white\",\"gridwidth\":2,\"linecolor\":\"white\",\"showbackground\":true,\"ticks\":\"\",\"zerolinecolor\":\"white\"},\"yaxis\":{\"backgroundcolor\":\"#E5ECF6\",\"gridcolor\":\"white\",\"gridwidth\":2,\"linecolor\":\"white\",\"showbackground\":true,\"ticks\":\"\",\"zerolinecolor\":\"white\"},\"zaxis\":{\"backgroundcolor\":\"#E5ECF6\",\"gridcolor\":\"white\",\"gridwidth\":2,\"linecolor\":\"white\",\"showbackground\":true,\"ticks\":\"\",\"zerolinecolor\":\"white\"}},\"shapedefaults\":{\"line\":{\"color\":\"#2a3f5f\"}},\"ternary\":{\"aaxis\":{\"gridcolor\":\"white\",\"linecolor\":\"white\",\"ticks\":\"\"},\"baxis\":{\"gridcolor\":\"white\",\"linecolor\":\"white\",\"ticks\":\"\"},\"bgcolor\":\"#E5ECF6\",\"caxis\":{\"gridcolor\":\"white\",\"linecolor\":\"white\",\"ticks\":\"\"}},\"title\":{\"x\":0.05},\"xaxis\":{\"automargin\":true,\"gridcolor\":\"white\",\"linecolor\":\"white\",\"ticks\":\"\",\"title\":{\"standoff\":15},\"zerolinecolor\":\"white\",\"zerolinewidth\":2},\"yaxis\":{\"automargin\":true,\"gridcolor\":\"white\",\"linecolor\":\"white\",\"ticks\":\"\",\"title\":{\"standoff\":15},\"zerolinecolor\":\"white\",\"zerolinewidth\":2}}},\"xaxis\":{\"anchor\":\"y\",\"domain\":[0.0,1.0],\"title\":{\"text\":\"index\"}},\"yaxis\":{\"anchor\":\"x\",\"domain\":[0.0,1.0],\"title\":{\"text\":\"value\"}},\"legend\":{\"title\":{\"text\":\"organismo\"},\"tracegroupgap\":0},\"title\":{\"text\":\"Proyecciones FMI y BM prepandemia\"},\"barmode\":\"group\",\"height\":600},                        {\"responsive\": true}                    ).then(function(){\n",
              "                            \n",
              "var gd = document.getElementById('6b098102-624c-44d8-b957-a35b4594b2a3');\n",
              "var x = new MutationObserver(function (mutations, observer) {{\n",
              "        var display = window.getComputedStyle(gd).display;\n",
              "        if (!display || display === 'none') {{\n",
              "            console.log([gd, 'removed!']);\n",
              "            Plotly.purge(gd);\n",
              "            observer.disconnect();\n",
              "        }}\n",
              "}});\n",
              "\n",
              "// Listen for the removal of the full notebook cells\n",
              "var notebookContainer = gd.closest('#notebook-container');\n",
              "if (notebookContainer) {{\n",
              "    x.observe(notebookContainer, {childList: true});\n",
              "}}\n",
              "\n",
              "// Listen for the clearing of the current output cell\n",
              "var outputEl = gd.closest('.output');\n",
              "if (outputEl) {{\n",
              "    x.observe(outputEl, {childList: true});\n",
              "}}\n",
              "\n",
              "                        })                };                            </script>        </div>\n",
              "</body>\n",
              "</html>"
            ]
          },
          "metadata": {}
        }
      ]
    },
    {
      "cell_type": "code",
      "source": [
        ""
      ],
      "metadata": {
        "id": "TWNzHsE64cwu"
      },
      "execution_count": null,
      "outputs": []
    }
  ],
  "metadata": {
    "colab": {
      "name": "scratchpad",
      "provenance": [],
      "include_colab_link": true
    },
    "kernelspec": {
      "display_name": "Python 3",
      "name": "python3"
    }
  },
  "nbformat": 4,
  "nbformat_minor": 0
}